{
 "cells": [
  {
   "cell_type": "code",
   "execution_count": 1,
   "metadata": {},
   "outputs": [],
   "source": [
    "from collections import defaultdict\n",
    "import json\n",
    "import pandas as pd\n",
    "import numpy as np"
   ]
  },
  {
   "cell_type": "code",
   "execution_count": 2,
   "metadata": {},
   "outputs": [
    {
     "data": {
      "text/html": [
       "<div>\n",
       "<style scoped>\n",
       "    .dataframe tbody tr th:only-of-type {\n",
       "        vertical-align: middle;\n",
       "    }\n",
       "\n",
       "    .dataframe tbody tr th {\n",
       "        vertical-align: top;\n",
       "    }\n",
       "\n",
       "    .dataframe thead th {\n",
       "        text-align: right;\n",
       "    }\n",
       "</style>\n",
       "<table border=\"1\" class=\"dataframe\">\n",
       "  <thead>\n",
       "    <tr style=\"text-align: right;\">\n",
       "      <th></th>\n",
       "      <th>Word</th>\n",
       "      <th>Alternative</th>\n",
       "      <th>Definition</th>\n",
       "    </tr>\n",
       "  </thead>\n",
       "  <tbody>\n",
       "    <tr>\n",
       "      <th>0</th>\n",
       "      <td>a</td>\n",
       "      <td>kin</td>\n",
       "      <td>PARTICLE (emphasis, emotion, or confirmation)</td>\n",
       "    </tr>\n",
       "    <tr>\n",
       "      <th>1</th>\n",
       "      <td>akesi</td>\n",
       "      <td>NaN</td>\n",
       "      <td>NOUN non-cute animal; reptile, amphibian</td>\n",
       "    </tr>\n",
       "    <tr>\n",
       "      <th>2</th>\n",
       "      <td>ala</td>\n",
       "      <td>NaN</td>\n",
       "      <td>ADJECTIVE no, not, zero</td>\n",
       "    </tr>\n",
       "    <tr>\n",
       "      <th>3</th>\n",
       "      <td>alasa</td>\n",
       "      <td>NaN</td>\n",
       "      <td>VERB to hunt, forage</td>\n",
       "    </tr>\n",
       "    <tr>\n",
       "      <th>4</th>\n",
       "      <td>ale</td>\n",
       "      <td>ali</td>\n",
       "      <td>ADJECTIVE all; abundant, countless, bountiful,...</td>\n",
       "    </tr>\n",
       "    <tr>\n",
       "      <th>...</th>\n",
       "      <td>...</td>\n",
       "      <td>...</td>\n",
       "      <td>...</td>\n",
       "    </tr>\n",
       "    <tr>\n",
       "      <th>115</th>\n",
       "      <td>wan</td>\n",
       "      <td>NaN</td>\n",
       "      <td>ADJECTIVE unique, united NUMBER one</td>\n",
       "    </tr>\n",
       "    <tr>\n",
       "      <th>116</th>\n",
       "      <td>waso</td>\n",
       "      <td>NaN</td>\n",
       "      <td>NOUN bird, flying creature, winged animal</td>\n",
       "    </tr>\n",
       "    <tr>\n",
       "      <th>117</th>\n",
       "      <td>wawa</td>\n",
       "      <td>NaN</td>\n",
       "      <td>ADJECTIVE strong, powerful; confident, sure; e...</td>\n",
       "    </tr>\n",
       "    <tr>\n",
       "      <th>118</th>\n",
       "      <td>weka</td>\n",
       "      <td>NaN</td>\n",
       "      <td>ADJECTIVE absent, away, ignored</td>\n",
       "    </tr>\n",
       "    <tr>\n",
       "      <th>119</th>\n",
       "      <td>wile</td>\n",
       "      <td>NaN</td>\n",
       "      <td>PRE-VERB must, need, require, should, want, wish</td>\n",
       "    </tr>\n",
       "  </tbody>\n",
       "</table>\n",
       "<p>120 rows × 3 columns</p>\n",
       "</div>"
      ],
      "text/plain": [
       "      Word  Alternative                                         Definition\n",
       "0        a          kin      PARTICLE (emphasis, emotion, or confirmation)\n",
       "1    akesi          NaN           NOUN non-cute animal; reptile, amphibian\n",
       "2      ala          NaN                            ADJECTIVE no, not, zero\n",
       "3    alasa          NaN                               VERB to hunt, forage\n",
       "4      ale          ali  ADJECTIVE all; abundant, countless, bountiful,...\n",
       "..     ...          ...                                                ...\n",
       "115    wan          NaN                ADJECTIVE unique, united NUMBER one\n",
       "116   waso          NaN          NOUN bird, flying creature, winged animal\n",
       "117   wawa          NaN  ADJECTIVE strong, powerful; confident, sure; e...\n",
       "118   weka          NaN                    ADJECTIVE absent, away, ignored\n",
       "119   wile          NaN   PRE-VERB must, need, require, should, want, wish\n",
       "\n",
       "[120 rows x 3 columns]"
      ]
     },
     "execution_count": 2,
     "metadata": {},
     "output_type": "execute_result"
    }
   ],
   "source": [
    "pu = pd.read_csv('https://raw.githubusercontent.com/janpona/pu/master/pu.csv')\n",
    "pu"
   ]
  },
  {
   "cell_type": "code",
   "execution_count": 3,
   "metadata": {},
   "outputs": [
    {
     "data": {
      "text/plain": [
       "{'particle': ['emphasis, emotion, or confirmation']}"
      ]
     },
     "execution_count": 3,
     "metadata": {},
     "output_type": "execute_result"
    }
   ],
   "source": [
    "def split_definition(definition):\n",
    "    if definition == 'new, fresh; additional, another, extra':\n",
    "        definition = 'ADJECTIVE ' + definition\n",
    "    definitions = defaultdict(list)\n",
    "    words = definition.split()\n",
    "    for word in words:\n",
    "        if word.isupper():\n",
    "            current_definition = definitions[word.lower()]\n",
    "            continue\n",
    "        current_definition.append(word)\n",
    "    return {\n",
    "        pos: (\n",
    "            ' '.join(definition).replace(';', ',').split(', ')\n",
    "            if pos != 'particle' else\n",
    "            [' '.join(definition).replace('(', '').replace(')', '')]\n",
    "        )\n",
    "        for pos, definition in definitions.items()\n",
    "    }\n",
    "\n",
    "split_definition(pu[' Definition'][0])"
   ]
  },
  {
   "cell_type": "code",
   "execution_count": 4,
   "metadata": {},
   "outputs": [
    {
     "data": {
      "text/plain": [
       "{'forms': ['a', 'kin'],\n",
       " 'definitions': {'particle': ['emphasis, emotion, or confirmation']}}"
      ]
     },
     "execution_count": 4,
     "metadata": {},
     "output_type": "execute_result"
    }
   ],
   "source": [
    "def dict_form(pu_row):\n",
    "    word = pu_row['Word']\n",
    "    alternative = pu_row[' Alternative']\n",
    "    definitions = split_definition(pu_row[' Definition'])\n",
    "    return {\n",
    "        'forms': [word, alternative] if isinstance(alternative, str) else [word],\n",
    "        'definitions': definitions\n",
    "    }\n",
    "\n",
    "dict_form(pu.iloc[0])"
   ]
  },
  {
   "cell_type": "code",
   "execution_count": 5,
   "metadata": {},
   "outputs": [
    {
     "data": {
      "text/plain": [
       "{'forms': ['a', 'kin'],\n",
       " 'definitions': {'particle': ['emphasis, emotion, or confirmation']}}"
      ]
     },
     "execution_count": 5,
     "metadata": {},
     "output_type": "execute_result"
    }
   ],
   "source": [
    "pu_words = [dict_form(row) for idx, row in pu.iterrows()]\n",
    "pu_words[0]"
   ]
  },
  {
   "cell_type": "code",
   "execution_count": 6,
   "metadata": {},
   "outputs": [],
   "source": [
    "# top-rated words from https://www.reddit.com/r/tokipona/comments/g9ne0s\n",
    "extra_words = [\n",
    "    {'forms': ['monsuta'], 'definitions': {'noun': ['monster']}},\n",
    "    {'forms': ['kipisi'], 'definitions': {'verb': ['to split', 'cut', 'fragment']}},\n",
    "    {'forms': ['kijetesantakalu'], 'definitions': {'noun': ['racoon']}},\n",
    "    {'forms': ['tonsi'], 'definitions': {'noun': ['transgender person', 'non-binary person']}}\n",
    "]"
   ]
  },
  {
   "cell_type": "code",
   "execution_count": 7,
   "metadata": {},
   "outputs": [],
   "source": [
    "words = pu_words + extra_words\n",
    "with open('words.json', 'w') as words_file:\n",
    "    json.dump(words, words_file, indent=4, sort_keys=True)"
   ]
  }
 ],
 "metadata": {
  "kernelspec": {
   "display_name": "Python 3",
   "language": "python",
   "name": "python3"
  },
  "language_info": {
   "codemirror_mode": {
    "name": "ipython",
    "version": 3
   },
   "file_extension": ".py",
   "mimetype": "text/x-python",
   "name": "python",
   "nbconvert_exporter": "python",
   "pygments_lexer": "ipython3",
   "version": "3.8.5"
  }
 },
 "nbformat": 4,
 "nbformat_minor": 4
}
