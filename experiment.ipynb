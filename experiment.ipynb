{
 "cells": [
  {
   "cell_type": "code",
   "execution_count": 1,
   "id": "3db16698",
   "metadata": {},
   "outputs": [],
   "source": [
    "import random\n",
    "from functools import reduce\n",
    "from collections import Counter\n",
    "import pickle\n",
    "import numpy as np\n",
    "import pandas as pd\n",
    "import torch\n",
    "import scipy.stats\n",
    "import sklearn.metrics\n",
    "import plotly.graph_objects as go\n",
    "from tqdm.auto import tqdm, trange\n",
    "from word2mat import Dataset, Sentence"
   ]
  },
  {
   "cell_type": "markdown",
   "id": "a300b1ec",
   "metadata": {},
   "source": [
    "# Data"
   ]
  },
  {
   "cell_type": "code",
   "execution_count": 2,
   "id": "1fed7c19",
   "metadata": {},
   "outputs": [
    {
     "name": "stderr",
     "output_type": "stream",
     "text": [
      "Reusing dataset wiki_auto (/home/gilles/.cache/huggingface/datasets/wiki_auto/manual/1.0.0/5ffdd9fc62422d29bd02675fb9606f77c1251ee17169ac10b143ce07ef2f4db8)\n",
      "Widget Javascript not detected.  It may not be installed or enabled properly.\n"
     ]
    },
    {
     "data": {
      "application/vnd.jupyter.widget-view+json": {
       "model_id": "97139af695b242c38cf706a31540d5fc"
      }
     },
     "metadata": {},
     "output_type": "display_data"
    },
    {
     "name": "stdout",
     "output_type": "stream",
     "text": [
      "\n"
     ]
    },
    {
     "data": {
      "text/plain": [
       "373801"
      ]
     },
     "execution_count": 2,
     "metadata": {},
     "output_type": "execute_result"
    }
   ],
   "source": [
    "full_dataset = Dataset.from_huggingface(\"wiki_auto\", config=\"manual\", column=\"normal_sentence\")\n",
    "len(full_dataset)"
   ]
  },
  {
   "cell_type": "code",
   "execution_count": 3,
   "id": "8d7a0bad",
   "metadata": {},
   "outputs": [
    {
     "name": "stderr",
     "output_type": "stream",
     "text": [
      "Widget Javascript not detected.  It may not be installed or enabled properly.\n"
     ]
    },
    {
     "data": {
      "application/vnd.jupyter.widget-view+json": {
       "model_id": "f5d8986caf2b43ceb81ac815031038d4"
      }
     },
     "metadata": {},
     "output_type": "display_data"
    },
    {
     "name": "stdout",
     "output_type": "stream",
     "text": [
      "\n"
     ]
    },
    {
     "data": {
      "text/plain": [
       "329155"
      ]
     },
     "execution_count": 3,
     "metadata": {},
     "output_type": "execute_result"
    }
   ],
   "source": [
    "clean_dataset = full_dataset.clean\n",
    "len(clean_dataset)"
   ]
  },
  {
   "cell_type": "code",
   "execution_count": 4,
   "id": "43703e1b",
   "metadata": {},
   "outputs": [
    {
     "data": {
      "text/plain": [
       "8756821"
      ]
     },
     "execution_count": 4,
     "metadata": {},
     "output_type": "execute_result"
    }
   ],
   "source": [
    "sum(len(sentence) for sentence in clean_dataset)"
   ]
  },
  {
   "cell_type": "code",
   "execution_count": 5,
   "id": "602e315d",
   "metadata": {
    "scrolled": true
   },
   "outputs": [
    {
     "data": {
      "text/plain": [
       "35259"
      ]
     },
     "execution_count": 5,
     "metadata": {},
     "output_type": "execute_result"
    }
   ],
   "source": [
    "len(clean_dataset.unique_words)"
   ]
  },
  {
   "cell_type": "markdown",
   "id": "669a18dc",
   "metadata": {},
   "source": [
    "# Random initialization"
   ]
  },
  {
   "cell_type": "code",
   "execution_count": 6,
   "id": "3612f062",
   "metadata": {},
   "outputs": [],
   "source": [
    "matrix_size = 16"
   ]
  },
  {
   "cell_type": "code",
   "execution_count": 7,
   "id": "c6c0f2bc",
   "metadata": {},
   "outputs": [
    {
     "name": "stderr",
     "output_type": "stream",
     "text": [
      "Widget Javascript not detected.  It may not be installed or enabled properly.\n"
     ]
    },
    {
     "data": {
      "application/vnd.jupyter.widget-view+json": {
       "model_id": "bf5f8c9423c346ccab603b13739b36af"
      }
     },
     "metadata": {},
     "output_type": "display_data"
    },
    {
     "name": "stderr",
     "output_type": "stream",
     "text": [
      "<ipython-input-7-7d053705f6f9>:3: UserWarning: To copy construct from a tensor, it is recommended to use sourceTensor.clone().detach() or sourceTensor.clone().detach().requires_grad_(True), rather than torch.tensor(sourceTensor).\n",
      "  return torch.tensor(\n"
     ]
    },
    {
     "name": "stdout",
     "output_type": "stream",
     "text": [
      "\n"
     ]
    },
    {
     "data": {
      "text/plain": [
       "tensor([[-0.8443,  1.3897, -1.2968,  0.5525,  0.8347, -0.2670,  1.0575, -0.4932,\n",
       "         -0.6666,  0.5867, -1.3706,  0.7983, -0.9909,  1.0746, -1.2912,  0.8773],\n",
       "        [ 1.2467,  1.3260,  1.3360,  1.1788, -0.8703,  1.0593,  0.5659,  0.6849,\n",
       "          0.8580,  0.1997, -1.2664, -1.0616,  0.5424, -1.0557,  0.7035,  1.3481],\n",
       "        [ 1.0624,  0.7527,  1.0513, -0.2668, -0.6289,  1.1453,  1.2756, -1.0923,\n",
       "         -0.4579,  1.3530, -1.0308,  0.5768, -1.1326, -0.7334,  0.7872,  1.2861],\n",
       "        [-1.1818, -0.6453,  0.7572,  0.5981, -1.0858,  0.3644,  0.6498,  0.5183,\n",
       "         -1.2021,  0.8757,  0.3794,  0.3356, -0.9101,  1.1606,  0.1124,  0.8744],\n",
       "        [ 0.4490, -1.2373,  0.7737,  0.8930, -0.9832,  0.1209, -0.9895, -1.2431,\n",
       "          0.6066, -0.9498, -0.3332, -0.3205,  1.0459, -0.9953,  0.7252, -0.9367],\n",
       "        [ 0.6209,  0.6492,  0.9338, -0.3300,  1.1123,  0.6105, -1.5423, -1.2314,\n",
       "         -1.3113,  0.7401,  1.1141,  0.6442, -0.9963,  1.1651, -0.8672,  0.5000],\n",
       "        [ 0.2048, -0.9533, -0.9902,  0.2104, -0.4705,  0.5826,  0.5993,  1.1401,\n",
       "         -1.1958,  0.8931,  1.2897,  1.0373,  0.3791,  0.8662, -0.9379,  1.0843],\n",
       "        [-0.8952, -1.1473,  0.7383,  0.8952,  0.5379,  0.7942, -0.5406,  0.6964,\n",
       "          0.7283,  0.7902, -0.4309,  0.7475, -0.6343,  0.5043,  0.8547,  0.5612],\n",
       "        [ 0.3845, -0.0966,  0.9504,  1.2011, -1.6385,  1.2260,  0.7425, -0.9634,\n",
       "         -1.2424, -1.0911,  1.2508,  0.4443,  1.1293, -1.6390,  0.3976, -0.6320],\n",
       "        [-0.8332, -1.0618,  0.9640, -1.1190, -0.7877,  0.9970,  0.7980,  0.3668,\n",
       "          1.0563,  0.7575,  0.4290, -0.7534,  1.1616,  0.2859,  1.4120,  0.6347],\n",
       "        [-1.2202, -0.8222,  1.3995, -0.9254, -0.7641,  0.1824, -1.1831,  1.0191,\n",
       "         -1.2820,  0.8600,  0.8730,  0.9417, -0.1039, -0.9934, -0.7676,  1.2274],\n",
       "        [-0.7563,  1.4949, -1.3058, -0.2394,  1.1265, -1.0032,  0.9712, -0.2937,\n",
       "          1.2744,  0.2504, -0.5011,  0.5503,  0.7569, -0.7261, -0.6929,  1.2016],\n",
       "        [ 1.0446,  1.1151,  0.4170,  0.4563,  0.7977, -0.5508,  0.8183,  0.3912,\n",
       "         -1.0875,  0.8095, -0.4385, -1.1807, -1.0670,  0.7105,  1.0258,  1.1039],\n",
       "        [-0.9915,  1.1396, -0.3347,  1.2399, -1.2464, -1.2153,  1.0336,  0.9658,\n",
       "         -0.7025, -0.7543,  0.5147,  0.7500, -0.6169,  0.9567,  1.0926, -1.0107],\n",
       "        [ 1.1378,  0.8760, -0.2663,  0.5956, -1.0822, -0.7653, -0.9039,  0.6045,\n",
       "         -0.6332,  0.8407,  0.4942,  0.7784,  0.7434, -0.7479, -1.1746,  1.3584],\n",
       "        [-1.2739,  1.0591,  0.4723, -0.5096,  0.2907,  0.7192,  1.1157, -0.3637,\n",
       "         -1.1519, -1.0541,  0.7721, -0.2761,  0.9711,  1.2651, -0.4221, -0.9886]],\n",
       "       requires_grad=True)"
      ]
     },
     "execution_count": 7,
     "metadata": {},
     "output_type": "execute_result"
    }
   ],
   "source": [
    "def random_matrix():\n",
    "    norm = torch.normal(mean=0, std=1, size=(matrix_size, matrix_size))\n",
    "    return torch.tensor(\n",
    "        torch.sign(norm) * torch.sqrt(torch.abs(norm)),\n",
    "        requires_grad=True,\n",
    "        dtype=torch.float,\n",
    "    )\n",
    "matrices = {\n",
    "    word: random_matrix()\n",
    "    for word in tqdm(clean_dataset.unique_words)\n",
    "}\n",
    "matrices[\"the\"]"
   ]
  },
  {
   "cell_type": "code",
   "execution_count": 8,
   "id": "08c0807b",
   "metadata": {},
   "outputs": [
    {
     "data": {
      "text/plain": [
       "(tensor([ 1.1623, -1.3310, -0.2566,  0.8144, -0.6448, -0.0772,  0.5764, -0.3048,\n",
       "         -0.1830,  0.7343, -0.2617,  0.6254, -0.4747, -0.3808, -0.6341,  0.4545],\n",
       "        requires_grad=True),\n",
       " tensor([ 0.2705,  1.9889, -1.3926, -0.9979, -1.0116, -0.8587, -0.0478,  1.5001,\n",
       "          0.3300,  0.6238, -0.3157, -0.6369, -0.6734,  1.0544, -0.2695,  0.0164],\n",
       "        requires_grad=True))"
      ]
     },
     "execution_count": 8,
     "metadata": {},
     "output_type": "execute_result"
    }
   ],
   "source": [
    "def random_vector():\n",
    "    return torch.tensor(\n",
    "        scipy.stats.norm.rvs(loc=0, scale=1, size=matrix_size),\n",
    "        requires_grad=True,\n",
    "        dtype=torch.float,\n",
    "    )\n",
    "\n",
    "start_vector = random_vector()\n",
    "end_vector = random_vector()\n",
    "start_vector, end_vector"
   ]
  },
  {
   "cell_type": "markdown",
   "id": "bdfad0c9",
   "metadata": {},
   "source": [
    "# Fake sentence generation"
   ]
  },
  {
   "cell_type": "code",
   "execution_count": 9,
   "id": "81d2afb6",
   "metadata": {},
   "outputs": [
    {
     "data": {
      "text/plain": [
       "'followed'"
      ]
     },
     "execution_count": 9,
     "metadata": {},
     "output_type": "execute_result"
    }
   ],
   "source": [
    "word_counts = Counter(word for sentence in clean_dataset for word in sentence.words)\n",
    "sampleable_words = list(word_counts.keys())\n",
    "cum_weights = np.cumsum(list(word_counts.values()))\n",
    "\n",
    "def random_word():\n",
    "    return random.choices(sampleable_words, cum_weights=cum_weights)[0]\n",
    "\n",
    "random_word()"
   ]
  },
  {
   "cell_type": "code",
   "execution_count": 10,
   "id": "e169001f",
   "metadata": {},
   "outputs": [
    {
     "name": "stdout",
     "output_type": "stream",
     "text": [
      "6.87 µs ± 240 ns per loop (mean ± std. dev. of 7 runs, 100000 loops each)\n"
     ]
    }
   ],
   "source": [
    "%timeit random_word()"
   ]
  },
  {
   "cell_type": "code",
   "execution_count": 11,
   "id": "7679ef4f",
   "metadata": {},
   "outputs": [
    {
     "data": {
      "text/plain": [
       "Sentence(words=['ozone', 'may', 'be', 'formed', 'from', 'o2', 'by', 'electrical', 'discharges', 'the', 'by', 'action', 'of', 'high', 'energy', 'electromagnetic', 'radiation', '.'])"
      ]
     },
     "execution_count": 11,
     "metadata": {},
     "output_type": "execute_result"
    }
   ],
   "source": [
    "def fake_sentence(num_fake_words=1):\n",
    "    words = list(random.choice(clean_dataset.sentences).words)\n",
    "    for fake_idx in range(num_fake_words):\n",
    "        words[random.randrange(len(words))] = random_word()\n",
    "    return Sentence(words=words)\n",
    "\n",
    "fake_sentence()"
   ]
  },
  {
   "cell_type": "code",
   "execution_count": 12,
   "id": "50192cd2",
   "metadata": {},
   "outputs": [
    {
     "name": "stdout",
     "output_type": "stream",
     "text": [
      "10.4 µs ± 389 ns per loop (mean ± std. dev. of 7 runs, 100000 loops each)\n"
     ]
    }
   ],
   "source": [
    "%timeit fake_sentence()"
   ]
  },
  {
   "cell_type": "markdown",
   "id": "1a93e4f7",
   "metadata": {},
   "source": [
    "# Training"
   ]
  },
  {
   "cell_type": "code",
   "execution_count": 13,
   "id": "d06a2cfd",
   "metadata": {},
   "outputs": [
    {
     "data": {
      "text/plain": [
       "tensor([[-3.7291, -0.6134, -2.6697,  2.5590,  4.5014, -1.9287, -2.0835,  4.2250,\n",
       "         -5.2134,  4.1342, -0.7590,  2.0100, -1.7895, -1.6452, -3.6626,  1.8128],\n",
       "        [-2.4878,  3.2861,  1.8272,  4.6291,  4.0239, -3.0391, -2.4214,  3.0768,\n",
       "         -4.3061,  3.1562,  3.4726,  2.5164, -0.7291,  2.8263, -3.1938,  3.4615],\n",
       "        [ 3.3846,  1.2356,  1.9137, -2.9243, -2.9425,  0.9384,  2.5315, -3.9340,\n",
       "          4.3722, -3.1580, -2.9095, -3.7015, -1.7957, -4.0127,  4.0254,  1.5761],\n",
       "        [ 3.6781, -2.2420,  2.8842, -4.0699, -3.8752,  2.4095,  3.1955, -3.8356,\n",
       "          4.9473, -3.5168, -3.3843, -0.9242, -1.4787, -2.9206,  3.9762, -2.6514],\n",
       "        [ 3.1942, -2.2517,  3.8833, -3.5788, -2.7593, -0.5443,  1.4416, -3.5061,\n",
       "          4.5144, -3.1442, -2.1588,  2.7200, -2.8246, -0.8761,  3.1046,  0.8532],\n",
       "        [-4.2455, -2.6791, -2.5451, -1.8944,  2.8993, -1.7310, -1.6327,  4.5436,\n",
       "         -5.4601,  2.3673, -2.6006,  2.1521,  2.5155,  1.4575, -2.9447, -3.3949],\n",
       "        [-1.8317,  1.8222, -1.3570,  3.4726,  2.6511, -1.2481, -2.8124,  3.6044,\n",
       "         -2.9131,  2.5440,  3.3245,  2.1175, -1.2977,  3.9541, -3.5976,  0.3689],\n",
       "        [ 0.1475, -1.9823,  3.0108, -1.7545,  2.8434, -1.8250,  0.6908,  3.1954,\n",
       "         -2.8027,  4.1300,  1.6099,  3.0525, -4.0967, -1.2505, -2.2379, -1.0740],\n",
       "        [-3.0636,  2.5710, -1.8195,  4.1984,  4.5114, -1.3315, -1.5371,  3.6237,\n",
       "         -4.4938,  3.7538,  2.6341,  3.0319,  1.5844,  1.2246, -3.3638,  3.7142],\n",
       "        [-3.7396,  1.1656, -2.2476, -0.6630,  4.6574,  1.9506, -2.9668,  3.3604,\n",
       "         -3.6348,  4.4721, -0.7040,  1.9515, -0.8700,  1.1376, -3.9962,  3.3334],\n",
       "        [-3.6169, -2.3750, -3.8516, -2.6507,  2.8212,  3.2357, -1.8960,  2.6133,\n",
       "         -2.5150,  0.9811, -2.7366,  0.2119,  3.3782, -2.0157, -2.0915,  2.5343],\n",
       "        [-3.2066,  2.6052, -3.3671,  4.1188,  3.7985,  1.0040, -0.5140,  3.4064,\n",
       "         -4.3669,  3.9723,  2.6030, -1.3416,  2.4637, -1.2499, -2.9743,  2.5349],\n",
       "        [-2.2175, -1.4997, -3.4311,  1.5912, -3.0642,  1.8455, -1.9708,  1.1406,\n",
       "          1.4610, -3.6424,  2.2215, -2.5011,  3.6548,  3.4905,  0.8820, -2.6908],\n",
       "        [ 2.2840, -0.7199, -0.8794,  2.4034, -0.3031,  2.5120,  3.1572, -2.2995,\n",
       "          3.8708,  1.1522,  2.0044,  0.6356, -0.5209, -1.6331,  1.5980,  3.1799],\n",
       "        [ 1.7835,  2.1842,  3.9185,  2.0962,  2.7591, -2.8768, -2.1723,  2.6061,\n",
       "         -3.3357,  3.5524,  2.4473,  2.4813, -3.8709,  2.5038, -3.3530,  1.0605],\n",
       "        [ 3.1988, -2.2498,  1.8770, -4.1495, -4.4966,  1.8986,  2.0195, -3.8479,\n",
       "          4.6559, -3.9398, -2.9332, -2.9081,  0.5749, -1.8933,  3.7525, -3.5250]],\n",
       "       grad_fn=<MulBackward0>)"
      ]
     },
     "execution_count": 13,
     "metadata": {},
     "output_type": "execute_result"
    }
   ],
   "source": [
    "def activationSignedSquare(matrix):\n",
    "    return torch.sign(matrix) * torch.sqrt(torch.abs(matrix))\n",
    "\n",
    "def sentence_matrix(sentence):\n",
    "    return reduce(\n",
    "        lambda current, word: activationSignedSquare(torch.matmul(current, matrices[word])),\n",
    "        sentence.words,\n",
    "        torch.eye(matrix_size)\n",
    "    )\n",
    "\n",
    "sentence_matrix(Sentence.from_string(\"Mary had a little lamb.\"))"
   ]
  },
  {
   "cell_type": "code",
   "execution_count": 14,
   "id": "ff106902",
   "metadata": {
    "scrolled": true
   },
   "outputs": [
    {
     "data": {
      "text/plain": [
       "tensor(4.7654, grad_fn=<DotBackward>)"
      ]
     },
     "execution_count": 14,
     "metadata": {},
     "output_type": "execute_result"
    }
   ],
   "source": [
    "def sentence_logit(sentence):\n",
    "    return torch.dot(torch.matmul(start_vector, sentence_matrix(sentence)), end_vector)\n",
    "\n",
    "sentence_logit(Sentence.from_string(\"Mary had a little lamb.\"))"
   ]
  },
  {
   "cell_type": "code",
   "execution_count": null,
   "id": "2ec520da",
   "metadata": {
    "scrolled": false
   },
   "outputs": [
    {
     "name": "stderr",
     "output_type": "stream",
     "text": [
      "Widget Javascript not detected.  It may not be installed or enabled properly.\n"
     ]
    },
    {
     "data": {
      "application/vnd.jupyter.widget-view+json": {
       "model_id": "4b8eae59f1d44a41a22fb05268eed61f"
      }
     },
     "metadata": {},
     "output_type": "display_data"
    },
    {
     "name": "stderr",
     "output_type": "stream",
     "text": [
      "Widget Javascript not detected.  It may not be installed or enabled properly.\n"
     ]
    },
    {
     "data": {
      "application/vnd.jupyter.widget-view+json": {
       "model_id": "094150adf91449aeb5b76e7d110dd5b2"
      }
     },
     "metadata": {},
     "output_type": "display_data"
    },
    {
     "name": "stdout",
     "output_type": "stream",
     "text": [
      "\n"
     ]
    },
    {
     "name": "stderr",
     "output_type": "stream",
     "text": [
      "Widget Javascript not detected.  It may not be installed or enabled properly.\n"
     ]
    },
    {
     "data": {
      "application/vnd.jupyter.widget-view+json": {
       "model_id": "76d68c5655b845e281af760193fd835d"
      }
     },
     "metadata": {},
     "output_type": "display_data"
    },
    {
     "name": "stdout",
     "output_type": "stream",
     "text": [
      "\n"
     ]
    },
    {
     "name": "stderr",
     "output_type": "stream",
     "text": [
      "Widget Javascript not detected.  It may not be installed or enabled properly.\n"
     ]
    },
    {
     "data": {
      "application/vnd.jupyter.widget-view+json": {
       "model_id": "226a8eda3a104e39988bb31351e613ce"
      }
     },
     "metadata": {},
     "output_type": "display_data"
    },
    {
     "name": "stdout",
     "output_type": "stream",
     "text": [
      "\n"
     ]
    },
    {
     "name": "stderr",
     "output_type": "stream",
     "text": [
      "Widget Javascript not detected.  It may not be installed or enabled properly.\n"
     ]
    },
    {
     "data": {
      "application/vnd.jupyter.widget-view+json": {
       "model_id": "39e3da245de8437f886b3abaeca7af73"
      }
     },
     "metadata": {},
     "output_type": "display_data"
    }
   ],
   "source": [
    "criterion = torch.nn.BCEWithLogitsLoss(pos_weight=torch.ones(()))\n",
    "\n",
    "def train_epoch(matrix_lr, vector_lr, max_grad=1.0):\n",
    "    losses = []\n",
    "    for sentence in tqdm(clean_dataset.shuffled):\n",
    "        # creating optimizer here because .zero_grad() takes forever for all matrices\n",
    "        # to use anything stateful (e.g. AdaGrad), put it outside the loop and pass all matrices as parameters\n",
    "        optimizer = torch.optim.SGD([\n",
    "            dict(params=[start_vector, end_vector], lr=vector_lr),\n",
    "            dict(params=[matrices[word] for word in set(sentence.words)], lr=matrix_lr),\n",
    "        ])\n",
    "        optimizer.zero_grad()\n",
    "        true_logit = sentence_logit(sentence)\n",
    "        fake_logit = sentence_logit(fake_sentence())\n",
    "        loss = criterion(torch.stack([true_logit, fake_logit]), torch.tensor([1.0, 0.0]))\n",
    "        loss.backward()\n",
    "        torch.nn.utils.clip_grad_value_(\n",
    "            (param for group in optimizer.param_groups for param in group[\"params\"]),\n",
    "            clip_value=max_grad,\n",
    "        )\n",
    "        losses.append(loss.item())\n",
    "        \n",
    "        optimizer.step()\n",
    "    return losses\n",
    "\n",
    "losses = []\n",
    "matrix_lr = 1e-2\n",
    "vector_lr = 1e-3\n",
    "for epoch in trange(32):\n",
    "    losses += train_epoch(matrix_lr=matrix_lr, vector_lr=vector_lr)\n",
    "    matrix_lr *= 0.5\n",
    "    vector_lr *= 0.5"
   ]
  },
  {
   "cell_type": "code",
   "execution_count": null,
   "id": "b566ec93",
   "metadata": {},
   "outputs": [],
   "source": [
    "go.Figure(\n",
    "    layout=dict(\n",
    "        title=\"Training progress\",\n",
    "        xaxis_title=\"Number of processed sentences\",\n",
    "        yaxis_title=\"Loss (median over 65536 steps)\",\n",
    "    ),\n",
    "    data=[\n",
    "        go.Scatter(\n",
    "            x=np.arange(len(losses)) * 64,\n",
    "            y=pd.Series(losses[::64]).rolling(window=1024, center=True).median(),\n",
    "        )\n",
    "    ]\n",
    ")"
   ]
  },
  {
   "cell_type": "markdown",
   "id": "dd7e2aa3",
   "metadata": {},
   "source": [
    "# Results"
   ]
  },
  {
   "cell_type": "code",
   "execution_count": null,
   "id": "e43b7e9a",
   "metadata": {},
   "outputs": [],
   "source": [
    "start_vector, end_vector"
   ]
  },
  {
   "cell_type": "code",
   "execution_count": null,
   "id": "2c83f0f7",
   "metadata": {},
   "outputs": [],
   "source": [
    "matrices[\"the\"]"
   ]
  },
  {
   "cell_type": "code",
   "execution_count": null,
   "id": "3cb00ebf",
   "metadata": {},
   "outputs": [],
   "source": [
    "real_logits = [sentence_logit(sentence).item() for sentence in clean_dataset.sentences[:4096]]\n",
    "fake_logits = [sentence_logit(fake_sentence()).item() for _ in range(4096)]\n",
    "auc = sklearn.metrics.roc_auc_score(\n",
    "    [1] * len(real_logits) + [0] * len(fake_logits),\n",
    "    real_logits + fake_logits,\n",
    ")"
   ]
  },
  {
   "cell_type": "code",
   "execution_count": null,
   "id": "e01e757c",
   "metadata": {},
   "outputs": [],
   "source": [
    "fpr, tpr, thresholds = sklearn.metrics.roc_curve(\n",
    "    [1] * len(real_logits) + [0] * len(fake_logits),\n",
    "    real_logits + fake_logits,\n",
    ")\n",
    "go.Figure(\n",
    "    layout=dict(\n",
    "        title=f\"ROC curve, AUC={auc:.2f}\",\n",
    "        xaxis_title=\"False positive rate\",\n",
    "        yaxis_title=\"True positive rate\",\n",
    "    ),\n",
    "    data=[\n",
    "        go.Scatter(name=\"word2mat\", x=fpr, y=tpr),\n",
    "        go.Scatter(name=\"random classifier\", x=[0, 1], y=[0, 1])\n",
    "    ],\n",
    ")"
   ]
  },
  {
   "cell_type": "markdown",
   "id": "86d28d90",
   "metadata": {},
   "source": [
    "# Let's save it!"
   ]
  },
  {
   "cell_type": "code",
   "execution_count": null,
   "id": "fac32a8e",
   "metadata": {},
   "outputs": [],
   "source": [
    "with open(\"./trained.pkl\", \"wb\") as file:\n",
    "    pickle.dump(\n",
    "        dict(\n",
    "            start_vector=start_vector.tolist(),\n",
    "            end_vector=end_vector.tolist(),\n",
    "            matrices={word: matrix.tolist() for word, matrix in matrices.items()},\n",
    "        ),\n",
    "        file\n",
    "    )"
   ]
  }
 ],
 "metadata": {
  "kernelspec": {
   "display_name": "Python 3",
   "language": "python",
   "name": "python3"
  },
  "language_info": {
   "codemirror_mode": {
    "name": "ipython",
    "version": 3
   },
   "file_extension": ".py",
   "mimetype": "text/x-python",
   "name": "python",
   "nbconvert_exporter": "python",
   "pygments_lexer": "ipython3",
   "version": "3.8.5"
  },
  "widgets": {
   "application/vnd.jupyter.widget-state+json": {
    "state": {
     "00370033219b40b0bdb45dcd2ffe89d7": {
      "model_module": "@jupyter-widgets/base",
      "model_module_version": "1.2.0",
      "model_name": "LayoutModel",
      "state": {}
     },
     "00418af6ca5c45c99037dfbdc6c4677d": {
      "model_module": "@jupyter-widgets/controls",
      "model_module_version": "1.5.0",
      "model_name": "FloatProgressModel",
      "state": {
       "bar_style": "success",
       "description": "100%",
       "layout": "IPY_MODEL_f9d3bc3df83f4b1baf841b316990ea50",
       "max": 329155,
       "style": "IPY_MODEL_ac9b5e13124948dda5c37dfc46ab212e",
       "value": 329155
      }
     },
     "00be969ad76f48b3b780cf57f5924e3d": {
      "model_module": "@jupyter-widgets/controls",
      "model_module_version": "1.5.0",
      "model_name": "FloatProgressModel",
      "state": {
       "bar_style": "success",
       "description": "Reading word vectors: 100%",
       "layout": "IPY_MODEL_8915f890fb9c44579cac63e8a221b6f3",
       "max": 4027169,
       "style": "IPY_MODEL_c01af3ae2e4b435291c45c3dedf9adaf",
       "value": 4027169
      }
     },
     "00c9789696b84af7bb61d464b1c709e3": {
      "model_module": "@jupyter-widgets/controls",
      "model_module_version": "1.5.0",
      "model_name": "DescriptionStyleModel",
      "state": {
       "description_width": ""
      }
     },
     "016419ae33474fc59749b2f50bd416ae": {
      "model_module": "@jupyter-widgets/controls",
      "model_module_version": "1.5.0",
      "model_name": "FloatProgressModel",
      "state": {
       "bar_style": "success",
       "description": "100%",
       "layout": "IPY_MODEL_b5cb11d1f883450cbf3557839748529e",
       "max": 35259,
       "style": "IPY_MODEL_e067b1a1983846409a947bfeedea0bc2",
       "value": 35259
      }
     },
     "017a9984a7844f61aadd5ec55070887a": {
      "model_module": "@jupyter-widgets/controls",
      "model_module_version": "1.5.0",
      "model_name": "HTMLModel",
      "state": {
       "layout": "IPY_MODEL_76cd9bf9c80a407181c6d99d7ba3a131",
       "style": "IPY_MODEL_f96563509c744f6892845e16ac2cf158",
       "value": " 329155/329155 [01:18&lt;00:00, 4179.38it/s]"
      }
     },
     "01ab13a079c14296953132a843d87cfb": {
      "model_module": "@jupyter-widgets/controls",
      "model_module_version": "1.5.0",
      "model_name": "ProgressStyleModel",
      "state": {
       "description_width": "initial"
      }
     },
     "0205cf0d472041ec919f63e503cf49bc": {
      "model_module": "@jupyter-widgets/controls",
      "model_module_version": "1.5.0",
      "model_name": "HTMLModel",
      "state": {
       "layout": "IPY_MODEL_9240a1d922fd45858fdef565a672b082",
       "style": "IPY_MODEL_0571d0e422fe4fb2b7016d5cc76a5c6c",
       "value": " 329155/329155 [32:02&lt;00:00, 171.24it/s]"
      }
     },
     "027fc1323b744345ab4091296c611581": {
      "model_module": "@jupyter-widgets/base",
      "model_module_version": "1.2.0",
      "model_name": "LayoutModel",
      "state": {}
     },
     "029a5c4133c344ccada118c24979a16b": {
      "model_module": "@jupyter-widgets/base",
      "model_module_version": "1.2.0",
      "model_name": "LayoutModel",
      "state": {}
     },
     "02a74dc8c7d94a7fa9b59587bdab19b0": {
      "model_module": "@jupyter-widgets/controls",
      "model_module_version": "1.5.0",
      "model_name": "HTMLModel",
      "state": {
       "layout": "IPY_MODEL_072ef8cd6d7842cd9e2a67106f5245a1",
       "style": "IPY_MODEL_402909ef788243e1acfe9d711e445d72",
       "value": " 1/1 [18:08&lt;00:00, 1088.91s/it]"
      }
     },
     "02d765dcb4bf47abbe101a8c0df7b761": {
      "model_module": "@jupyter-widgets/controls",
      "model_module_version": "1.5.0",
      "model_name": "DescriptionStyleModel",
      "state": {
       "description_width": ""
      }
     },
     "02daaf386d914e82975d102c0ee6582a": {
      "model_module": "@jupyter-widgets/base",
      "model_module_version": "1.2.0",
      "model_name": "LayoutModel",
      "state": {}
     },
     "030a42e6e2a445d786873a1abaf4e4cd": {
      "model_module": "@jupyter-widgets/base",
      "model_module_version": "1.2.0",
      "model_name": "LayoutModel",
      "state": {}
     },
     "032b9d9ad118416292d70d9f7205a810": {
      "model_module": "@jupyter-widgets/base",
      "model_module_version": "1.2.0",
      "model_name": "LayoutModel",
      "state": {}
     },
     "0385fdd9bc99460b925023a9126db5c5": {
      "model_module": "@jupyter-widgets/base",
      "model_module_version": "1.2.0",
      "model_name": "LayoutModel",
      "state": {}
     },
     "0472e491f3f548cab9558e761b69023f": {
      "model_module": "@jupyter-widgets/controls",
      "model_module_version": "1.5.0",
      "model_name": "ProgressStyleModel",
      "state": {
       "description_width": "initial"
      }
     },
     "04749786fcda4558a2f4c56df33aa2d0": {
      "model_module": "@jupyter-widgets/controls",
      "model_module_version": "1.5.0",
      "model_name": "HTMLModel",
      "state": {
       "layout": "IPY_MODEL_3fbaebb0a53947e8992db9bcd5596f3c",
       "style": "IPY_MODEL_f9fa4e6bd29e4c1388de42c61c4788f0",
       "value": " 329155/329155 [10:04&lt;00:00, 544.28it/s]"
      }
     },
     "048368549419426bb784455ca9d9da60": {
      "model_module": "@jupyter-widgets/controls",
      "model_module_version": "1.5.0",
      "model_name": "FloatProgressModel",
      "state": {
       "bar_style": "success",
       "description": "Parsing dataset: 100%",
       "layout": "IPY_MODEL_9bcb333860824b9f88540d5104f58a81",
       "max": 373801,
       "style": "IPY_MODEL_5270d4b8ad064b24ae86314e2c8e85cc",
       "value": 373801
      }
     },
     "048c27caa814456cb3d466811f1cb6e5": {
      "model_module": "@jupyter-widgets/controls",
      "model_module_version": "1.5.0",
      "model_name": "DescriptionStyleModel",
      "state": {
       "description_width": ""
      }
     },
     "04a74eb086cd4adfbe1d4eeb6081e005": {
      "model_module": "@jupyter-widgets/base",
      "model_module_version": "1.2.0",
      "model_name": "LayoutModel",
      "state": {}
     },
     "04eaed52dc3c4f8b837090f35c390601": {
      "model_module": "@jupyter-widgets/controls",
      "model_module_version": "1.5.0",
      "model_name": "HTMLModel",
      "state": {
       "layout": "IPY_MODEL_0385fdd9bc99460b925023a9126db5c5",
       "style": "IPY_MODEL_e85755c3b86c41f3a0a9dfc52de624d9",
       "value": " 329155/329155 [20:06&lt;00:00, 272.80it/s]"
      }
     },
     "0571d0e422fe4fb2b7016d5cc76a5c6c": {
      "model_module": "@jupyter-widgets/controls",
      "model_module_version": "1.5.0",
      "model_name": "DescriptionStyleModel",
      "state": {
       "description_width": ""
      }
     },
     "057902b59ead4b10809d35351b943020": {
      "model_module": "@jupyter-widgets/controls",
      "model_module_version": "1.5.0",
      "model_name": "DescriptionStyleModel",
      "state": {
       "description_width": ""
      }
     },
     "05d29e34eebe4029b07730c618cd2c25": {
      "model_module": "@jupyter-widgets/controls",
      "model_module_version": "1.5.0",
      "model_name": "DescriptionStyleModel",
      "state": {
       "description_width": ""
      }
     },
     "060676cebbf540e3a064a313d73645f9": {
      "model_module": "@jupyter-widgets/base",
      "model_module_version": "1.2.0",
      "model_name": "LayoutModel",
      "state": {}
     },
     "06d220f305784315891d97685b40a022": {
      "model_module": "@jupyter-widgets/base",
      "model_module_version": "1.2.0",
      "model_name": "LayoutModel",
      "state": {}
     },
     "06e59dd5e28641428e4ee74592d1fece": {
      "model_module": "@jupyter-widgets/controls",
      "model_module_version": "1.5.0",
      "model_name": "HTMLModel",
      "state": {
       "layout": "IPY_MODEL_c0380b8611f841bcb8d48abc88c04ea9",
       "style": "IPY_MODEL_ee4ada7ca912409c84dfe4be7fe0f184",
       "value": " 329155/329155 [27:10&lt;00:00, 201.86it/s]"
      }
     },
     "06e6319a2ec743e0b975389cf43995ba": {
      "model_module": "@jupyter-widgets/base",
      "model_module_version": "1.2.0",
      "model_name": "LayoutModel",
      "state": {}
     },
     "072ef8cd6d7842cd9e2a67106f5245a1": {
      "model_module": "@jupyter-widgets/base",
      "model_module_version": "1.2.0",
      "model_name": "LayoutModel",
      "state": {}
     },
     "07ba69bc631c42e5b7164277b0c00e64": {
      "model_module": "@jupyter-widgets/controls",
      "model_module_version": "1.5.0",
      "model_name": "HTMLModel",
      "state": {
       "layout": "IPY_MODEL_d2a96811582944beb093ad27a0fb2cbd",
       "style": "IPY_MODEL_fba1c6f599444a5cab646cdfaa7a7a14",
       "value": " 0/329155 [00:09&lt;?, ?it/s]"
      }
     },
     "07efeff112c345d58fba017e9ff68b61": {
      "model_module": "@jupyter-widgets/base",
      "model_module_version": "1.2.0",
      "model_name": "LayoutModel",
      "state": {}
     },
     "07f810d9eb9648f789e948ba1ded86a8": {
      "model_module": "@jupyter-widgets/controls",
      "model_module_version": "1.5.0",
      "model_name": "HBoxModel",
      "state": {
       "children": [
        "IPY_MODEL_16b8389af20841288e88a6406e5c6c55",
        "IPY_MODEL_85ec9c0874af4a1994ead39e338576d7"
       ],
       "layout": "IPY_MODEL_db4c14053b874354a90db5b435b5e2af"
      }
     },
     "083399ddedff4b92a520a3dcf2b66aae": {
      "model_module": "@jupyter-widgets/base",
      "model_module_version": "1.2.0",
      "model_name": "LayoutModel",
      "state": {}
     },
     "085d1a56144c43e1bd5458551526db34": {
      "model_module": "@jupyter-widgets/base",
      "model_module_version": "1.2.0",
      "model_name": "LayoutModel",
      "state": {}
     },
     "08613bc5f0dd47bf9e1ba715115e7e4e": {
      "model_module": "@jupyter-widgets/controls",
      "model_module_version": "1.5.0",
      "model_name": "HBoxModel",
      "state": {
       "children": [
        "IPY_MODEL_a9d1373be32f445abd07b959bb117baf",
        "IPY_MODEL_f009b7c4fe5c4ff58c189de314ac7453"
       ],
       "layout": "IPY_MODEL_c6ff9ae7a9824321b79f322a1103838a"
      }
     },
     "08828feafc5547efb998578352cc4ad7": {
      "model_module": "@jupyter-widgets/base",
      "model_module_version": "1.2.0",
      "model_name": "LayoutModel",
      "state": {}
     },
     "08865abfb0764341a3cca0727fce90d7": {
      "model_module": "@jupyter-widgets/controls",
      "model_module_version": "1.5.0",
      "model_name": "ProgressStyleModel",
      "state": {
       "description_width": "initial"
      }
     },
     "094e8036510f46a1b85fa2739a7e186f": {
      "model_module": "@jupyter-widgets/controls",
      "model_module_version": "1.5.0",
      "model_name": "HBoxModel",
      "state": {
       "children": [
        "IPY_MODEL_ec8e7b191d2b4fe6918615d7a83075ff",
        "IPY_MODEL_162029af935b43fe858ec427114916e5"
       ],
       "layout": "IPY_MODEL_8575e2ef63994bbf8790a46272184d81"
      }
     },
     "09581be62fb6438db39009ae87328edf": {
      "model_module": "@jupyter-widgets/base",
      "model_module_version": "1.2.0",
      "model_name": "LayoutModel",
      "state": {}
     },
     "09595981112a46c3941cccd72440f17a": {
      "model_module": "@jupyter-widgets/controls",
      "model_module_version": "1.5.0",
      "model_name": "HBoxModel",
      "state": {
       "children": [
        "IPY_MODEL_5d6ccc9c02c940fd9cfa1ef27762bab8",
        "IPY_MODEL_2558db8aa2284e048df26f71cfba1b68"
       ],
       "layout": "IPY_MODEL_a4a3b48e52a441d1ac413f16e98d6d04"
      }
     },
     "09771043f32a4f898552bd07dab044bb": {
      "model_module": "@jupyter-widgets/controls",
      "model_module_version": "1.5.0",
      "model_name": "HBoxModel",
      "state": {
       "children": [
        "IPY_MODEL_7c257d9574d04908acb92acd76a6c391",
        "IPY_MODEL_976410f60f41452ba39f7149f6917ba0"
       ],
       "layout": "IPY_MODEL_79bd20c3d566498c86d965821a6a5002"
      }
     },
     "09cb313594c6427fb3ff44b9714f348b": {
      "model_module": "@jupyter-widgets/base",
      "model_module_version": "1.2.0",
      "model_name": "LayoutModel",
      "state": {}
     },
     "09dc85b7578f4b7ca36262d806e03293": {
      "model_module": "@jupyter-widgets/base",
      "model_module_version": "1.2.0",
      "model_name": "LayoutModel",
      "state": {}
     },
     "09e727a23a9c4e8ca25d5fe9706636dc": {
      "model_module": "@jupyter-widgets/base",
      "model_module_version": "1.2.0",
      "model_name": "LayoutModel",
      "state": {}
     },
     "09f73d8fff9e46a29cd0c378aa989ff6": {
      "model_module": "@jupyter-widgets/controls",
      "model_module_version": "1.5.0",
      "model_name": "FloatProgressModel",
      "state": {
       "bar_style": "success",
       "description": "100%",
       "layout": "IPY_MODEL_1501035e22f74c79b665a5b3493982aa",
       "max": 35259,
       "style": "IPY_MODEL_e2c6791fb479473fabb6c9b4bf421ab0",
       "value": 35259
      }
     },
     "0a140cf757864176b5be634c7a63aa71": {
      "model_module": "@jupyter-widgets/controls",
      "model_module_version": "1.5.0",
      "model_name": "HBoxModel",
      "state": {
       "children": [
        "IPY_MODEL_42085eaa2f394ec6a3068d499587b3ff",
        "IPY_MODEL_2071d2e911c54a0d8b30335270dcab1f"
       ],
       "layout": "IPY_MODEL_943bb119665b4582982a10ab0fdaec03"
      }
     },
     "0a46580abf3249a8a21722810b08495c": {
      "model_module": "@jupyter-widgets/controls",
      "model_module_version": "1.5.0",
      "model_name": "ProgressStyleModel",
      "state": {
       "description_width": "initial"
      }
     },
     "0a67d991fe5c4c048644cc3ddfb97572": {
      "model_module": "@jupyter-widgets/base",
      "model_module_version": "1.2.0",
      "model_name": "LayoutModel",
      "state": {}
     },
     "0a959230102644f6954ca88ca960b666": {
      "model_module": "@jupyter-widgets/base",
      "model_module_version": "1.2.0",
      "model_name": "LayoutModel",
      "state": {}
     },
     "0aa2fbd828b34ef6a80ac850b1ffe913": {
      "model_module": "@jupyter-widgets/controls",
      "model_module_version": "1.5.0",
      "model_name": "HTMLModel",
      "state": {
       "layout": "IPY_MODEL_70d2115e268a450f8e28f4ca9c1d6f8c",
       "style": "IPY_MODEL_28147bd5c4e04729aafc321f154f86a4",
       "value": " 329155/329155 [3:41:17&lt;00:00, 24.79it/s]"
      }
     },
     "0b4cdfe946b04b58995227935317a8dd": {
      "model_module": "@jupyter-widgets/base",
      "model_module_version": "1.2.0",
      "model_name": "LayoutModel",
      "state": {}
     },
     "0b8f9935e76f40bbb6b04546325fd9f5": {
      "model_module": "@jupyter-widgets/controls",
      "model_module_version": "1.5.0",
      "model_name": "ProgressStyleModel",
      "state": {
       "description_width": "initial"
      }
     },
     "0b95667ace01422a82275bb994ba2133": {
      "model_module": "@jupyter-widgets/base",
      "model_module_version": "1.2.0",
      "model_name": "LayoutModel",
      "state": {}
     },
     "0bc28b8480f145c9a5f2f74a633de664": {
      "model_module": "@jupyter-widgets/controls",
      "model_module_version": "1.5.0",
      "model_name": "DescriptionStyleModel",
      "state": {
       "description_width": ""
      }
     },
     "0cbea9c69a0f46d5848ea6b8804b9e17": {
      "model_module": "@jupyter-widgets/controls",
      "model_module_version": "1.5.0",
      "model_name": "ProgressStyleModel",
      "state": {
       "description_width": "initial"
      }
     },
     "0d089cd1e38a4dbf9b9c40d34b8698c5": {
      "model_module": "@jupyter-widgets/base",
      "model_module_version": "1.2.0",
      "model_name": "LayoutModel",
      "state": {}
     },
     "0d131f930a444be5b30d287776164f81": {
      "model_module": "@jupyter-widgets/controls",
      "model_module_version": "1.5.0",
      "model_name": "ProgressStyleModel",
      "state": {
       "description_width": "initial"
      }
     },
     "0d1a68ae6c0849d78b87f811ff8934b7": {
      "model_module": "@jupyter-widgets/base",
      "model_module_version": "1.2.0",
      "model_name": "LayoutModel",
      "state": {}
     },
     "0d1f925031c7450ba22d6d039c9d77b3": {
      "model_module": "@jupyter-widgets/controls",
      "model_module_version": "1.5.0",
      "model_name": "HBoxModel",
      "state": {
       "children": [
        "IPY_MODEL_4eb1e140d5284327ad41b553e856c991",
        "IPY_MODEL_da98c1af9a6c4911bbcbf8d6f271acb4"
       ],
       "layout": "IPY_MODEL_7c219b8ff03d4267bdabd7eddf308930"
      }
     },
     "0db85a9b43da4aa39616c28d6ef93adc": {
      "model_module": "@jupyter-widgets/base",
      "model_module_version": "1.2.0",
      "model_name": "LayoutModel",
      "state": {}
     },
     "0dd0f943a0fd4935aa054b4e166fc163": {
      "model_module": "@jupyter-widgets/base",
      "model_module_version": "1.2.0",
      "model_name": "LayoutModel",
      "state": {}
     },
     "0e22f1a9b1f44388a8a1c6a41876f945": {
      "model_module": "@jupyter-widgets/base",
      "model_module_version": "1.2.0",
      "model_name": "LayoutModel",
      "state": {}
     },
     "0e34dcf6dc04424d98bbfd3cb94c65d3": {
      "model_module": "@jupyter-widgets/base",
      "model_module_version": "1.2.0",
      "model_name": "LayoutModel",
      "state": {}
     },
     "0eba7a0de75e4584bbd3eebdbdb734cf": {
      "model_module": "@jupyter-widgets/controls",
      "model_module_version": "1.5.0",
      "model_name": "ProgressStyleModel",
      "state": {
       "description_width": "initial"
      }
     },
     "0f4c47c90b5e47fcb321cee41b4d5f2b": {
      "model_module": "@jupyter-widgets/controls",
      "model_module_version": "1.5.0",
      "model_name": "ProgressStyleModel",
      "state": {
       "description_width": "initial"
      }
     },
     "0f771e03e5054e52a0aab2ae76b4c3b7": {
      "model_module": "@jupyter-widgets/controls",
      "model_module_version": "1.5.0",
      "model_name": "HBoxModel",
      "state": {
       "children": [
        "IPY_MODEL_cec745c4c1fa4a6b9e4e78b563642a9b",
        "IPY_MODEL_ca5db90a88bf49e789b5f736e07662a4"
       ],
       "layout": "IPY_MODEL_4f72344b9a33417185802a8dfcf2276b"
      }
     },
     "0f77b0764cf64cb587646112e43bad6c": {
      "model_module": "@jupyter-widgets/base",
      "model_module_version": "1.2.0",
      "model_name": "LayoutModel",
      "state": {}
     },
     "0facf0bc739948e8bcea01b24526a56e": {
      "model_module": "@jupyter-widgets/controls",
      "model_module_version": "1.5.0",
      "model_name": "DescriptionStyleModel",
      "state": {
       "description_width": ""
      }
     },
     "0fdabc62a2c749e8964c120b5ce54c57": {
      "model_module": "@jupyter-widgets/controls",
      "model_module_version": "1.5.0",
      "model_name": "HTMLModel",
      "state": {
       "layout": "IPY_MODEL_cd455496d08749ec9076731130505c99",
       "style": "IPY_MODEL_7a75803110be489791aac2dbb337a0ec",
       "value": " 35259/35259 [9:50:56&lt;00:00,  1.01s/it]"
      }
     },
     "10086204f8bb45698ac03df2bd77ac15": {
      "model_module": "@jupyter-widgets/controls",
      "model_module_version": "1.5.0",
      "model_name": "DescriptionStyleModel",
      "state": {
       "description_width": ""
      }
     },
     "1017788052fe4c4a8caaf2b3f0a7b93a": {
      "model_module": "@jupyter-widgets/controls",
      "model_module_version": "1.5.0",
      "model_name": "HTMLModel",
      "state": {
       "layout": "IPY_MODEL_a9fc3726711b493ab6039c7051651d41",
       "style": "IPY_MODEL_71f47be47ba04fdc9ae6fc6f0a771ff7",
       "value": " 35259/35259 [2:49:26&lt;00:00,  3.47it/s]"
      }
     },
     "102f7c1ef7504a779e071c0d32907ae2": {
      "model_module": "@jupyter-widgets/controls",
      "model_module_version": "1.5.0",
      "model_name": "HBoxModel",
      "state": {
       "children": [
        "IPY_MODEL_819978d3617a4b91934a956b90458437",
        "IPY_MODEL_4aa62e2acf224ea29e9545c636675c67"
       ],
       "layout": "IPY_MODEL_a333e94a65b94af8a169f17f7831b04b"
      }
     },
     "104eceed2eff44c9b6e0399de76b5b35": {
      "model_module": "@jupyter-widgets/base",
      "model_module_version": "1.2.0",
      "model_name": "LayoutModel",
      "state": {}
     },
     "105ad3ad227c4ffdab7597ddb4d527b0": {
      "model_module": "@jupyter-widgets/controls",
      "model_module_version": "1.5.0",
      "model_name": "HBoxModel",
      "state": {
       "children": [
        "IPY_MODEL_4a2ebc05425a4322b90188b5c454d1c4",
        "IPY_MODEL_47f33b225255499695d09ae608666a33"
       ],
       "layout": "IPY_MODEL_4d9c813a0b1641f7b5efdafac5cd4154"
      }
     },
     "1095190713c84f02b00d62aa8dedd950": {
      "model_module": "@jupyter-widgets/base",
      "model_module_version": "1.2.0",
      "model_name": "LayoutModel",
      "state": {}
     },
     "1096953c785d436d92f92a838d9fcace": {
      "model_module": "@jupyter-widgets/controls",
      "model_module_version": "1.5.0",
      "model_name": "FloatProgressModel",
      "state": {
       "bar_style": "success",
       "description": "Parsing dataset: 100%",
       "layout": "IPY_MODEL_1095190713c84f02b00d62aa8dedd950",
       "max": 373801,
       "style": "IPY_MODEL_d4fe9d183fb44912a6bcf825bfccc928",
       "value": 373801
      }
     },
     "10a68633b9334510b3bc82484751caa6": {
      "model_module": "@jupyter-widgets/controls",
      "model_module_version": "1.5.0",
      "model_name": "FloatProgressModel",
      "state": {
       "bar_style": "success",
       "description": "100%",
       "layout": "IPY_MODEL_f2d2f4a259f94ec8ba04dbb53ed81c4a",
       "max": 329155,
       "style": "IPY_MODEL_1fd23086cd8e404b86ba5de9421fd878",
       "value": 329155
      }
     },
     "112dc44aeaed4a6f891df48baef479f3": {
      "model_module": "@jupyter-widgets/controls",
      "model_module_version": "1.5.0",
      "model_name": "DescriptionStyleModel",
      "state": {
       "description_width": ""
      }
     },
     "11814a7c849e41feb9ba53a87142c975": {
      "model_module": "@jupyter-widgets/base",
      "model_module_version": "1.2.0",
      "model_name": "LayoutModel",
      "state": {}
     },
     "119952f40b0e4e9e986e2731e07d0f61": {
      "model_module": "@jupyter-widgets/base",
      "model_module_version": "1.2.0",
      "model_name": "LayoutModel",
      "state": {}
     },
     "11e136717b1747408a4aa2ae27e854f8": {
      "model_module": "@jupyter-widgets/base",
      "model_module_version": "1.2.0",
      "model_name": "LayoutModel",
      "state": {}
     },
     "120912b2d7354d3591bafc93411c20d0": {
      "model_module": "@jupyter-widgets/base",
      "model_module_version": "1.2.0",
      "model_name": "LayoutModel",
      "state": {}
     },
     "126336ccbd0d413698c05da625e416a5": {
      "model_module": "@jupyter-widgets/controls",
      "model_module_version": "1.5.0",
      "model_name": "HBoxModel",
      "state": {
       "children": [
        "IPY_MODEL_59b4f46bd2b643cdb32a7c421f4a21f2",
        "IPY_MODEL_13e3e74c2ded414880e6d9796bd86748"
       ],
       "layout": "IPY_MODEL_ef9d98ef53a3478f957fd048ef85e710"
      }
     },
     "12ccce72957e4e56b6cdad465c42fec2": {
      "model_module": "@jupyter-widgets/controls",
      "model_module_version": "1.5.0",
      "model_name": "ProgressStyleModel",
      "state": {
       "description_width": "initial"
      }
     },
     "1337df327ffd421d83b855c10413c175": {
      "model_module": "@jupyter-widgets/controls",
      "model_module_version": "1.5.0",
      "model_name": "FloatProgressModel",
      "state": {
       "bar_style": "success",
       "description": "100%",
       "layout": "IPY_MODEL_f32460cdf43e4e64a9de83c306a2f5fe",
       "max": 35259,
       "style": "IPY_MODEL_67a7a92337834ce88141c962b4c371ff",
       "value": 35259
      }
     },
     "134b7ad1d2da4f5da2f9a4798d5f35cd": {
      "model_module": "@jupyter-widgets/base",
      "model_module_version": "1.2.0",
      "model_name": "LayoutModel",
      "state": {}
     },
     "13e3e74c2ded414880e6d9796bd86748": {
      "model_module": "@jupyter-widgets/controls",
      "model_module_version": "1.5.0",
      "model_name": "HTMLModel",
      "state": {
       "layout": "IPY_MODEL_e179c8b2ae3842c1963df7e575e20d90",
       "style": "IPY_MODEL_bcde33af15d74526b88b390ed4d70d36",
       "value": " 35259/35259 [00:03&lt;00:00, 10025.49it/s]"
      }
     },
     "13ee242e9fca4d40b85784fa1791efc9": {
      "model_module": "@jupyter-widgets/controls",
      "model_module_version": "1.5.0",
      "model_name": "DescriptionStyleModel",
      "state": {
       "description_width": ""
      }
     },
     "13f199ba579b445bb4d5a231fc22cfdf": {
      "model_module": "@jupyter-widgets/controls",
      "model_module_version": "1.5.0",
      "model_name": "HTMLModel",
      "state": {
       "layout": "IPY_MODEL_d769bfd653a546cdb7ca354b08dbe0ea",
       "style": "IPY_MODEL_211f6db51b604ff792e366a173a9d90a",
       "value": " 565/329155 [00:54&lt;8:44:00, 10.45it/s]"
      }
     },
     "1421279fed51495bbc514cb871f217a6": {
      "model_module": "@jupyter-widgets/base",
      "model_module_version": "1.2.0",
      "model_name": "LayoutModel",
      "state": {}
     },
     "1454821b29b44632b53e4847d912f630": {
      "model_module": "@jupyter-widgets/base",
      "model_module_version": "1.2.0",
      "model_name": "LayoutModel",
      "state": {}
     },
     "14efd52e96304d889d2bd950c85cea50": {
      "model_module": "@jupyter-widgets/base",
      "model_module_version": "1.2.0",
      "model_name": "LayoutModel",
      "state": {}
     },
     "1501035e22f74c79b665a5b3493982aa": {
      "model_module": "@jupyter-widgets/base",
      "model_module_version": "1.2.0",
      "model_name": "LayoutModel",
      "state": {}
     },
     "15826db63275424e8314d0ad6dc2c6f1": {
      "model_module": "@jupyter-widgets/base",
      "model_module_version": "1.2.0",
      "model_name": "LayoutModel",
      "state": {}
     },
     "15ac550ad18a4b9caa9cb7c8246f789f": {
      "model_module": "@jupyter-widgets/controls",
      "model_module_version": "1.5.0",
      "model_name": "FloatProgressModel",
      "state": {
       "bar_style": "success",
       "description": "100%",
       "layout": "IPY_MODEL_35b1890552d5406bb23567cc38d657cd",
       "max": 35259,
       "style": "IPY_MODEL_47aaee114f1d4ea28e88466079ec2839",
       "value": 35259
      }
     },
     "15b453d25c3645e7814a4601094af332": {
      "model_module": "@jupyter-widgets/base",
      "model_module_version": "1.2.0",
      "model_name": "LayoutModel",
      "state": {}
     },
     "15d451ff12124c1886bb8048d8348fd4": {
      "model_module": "@jupyter-widgets/base",
      "model_module_version": "1.2.0",
      "model_name": "LayoutModel",
      "state": {}
     },
     "15d655d749c2455abb9b2d7998cefd11": {
      "model_module": "@jupyter-widgets/base",
      "model_module_version": "1.2.0",
      "model_name": "LayoutModel",
      "state": {}
     },
     "15d789df861c4889a87c7509a1df5852": {
      "model_module": "@jupyter-widgets/controls",
      "model_module_version": "1.5.0",
      "model_name": "ProgressStyleModel",
      "state": {
       "description_width": "initial"
      }
     },
     "162029af935b43fe858ec427114916e5": {
      "model_module": "@jupyter-widgets/controls",
      "model_module_version": "1.5.0",
      "model_name": "HTMLModel",
      "state": {
       "layout": "IPY_MODEL_a46718cdf055486b9d4e51da34ee2de1",
       "style": "IPY_MODEL_2948d9e3e4534b47b9908926e8a8c39d",
       "value": " 16310/329155 [06:19&lt;2:01:17, 42.99it/s]"
      }
     },
     "164585d4137343e78e4d74d3c7a2ede1": {
      "model_module": "@jupyter-widgets/controls",
      "model_module_version": "1.5.0",
      "model_name": "HBoxModel",
      "state": {
       "children": [
        "IPY_MODEL_78ef1191ca5a43a987573dd8470d931d",
        "IPY_MODEL_247bf54c495647fe91550ce52b62ec27"
       ],
       "layout": "IPY_MODEL_868af0b6a05d414b9cde07dc6928dcfc"
      }
     },
     "167ecc5ef93542ba9ef475a09518f9c8": {
      "model_module": "@jupyter-widgets/controls",
      "model_module_version": "1.5.0",
      "model_name": "HBoxModel",
      "state": {
       "children": [
        "IPY_MODEL_4fb59df9c2e04619a035f65a4e1328c0",
        "IPY_MODEL_482f1524b66f4580a26166e4c5d02b17"
       ],
       "layout": "IPY_MODEL_a5cc520d6a7249a1b5b59afd52f286e5"
      }
     },
     "16b8389af20841288e88a6406e5c6c55": {
      "model_module": "@jupyter-widgets/controls",
      "model_module_version": "1.5.0",
      "model_name": "FloatProgressModel",
      "state": {
       "bar_style": "success",
       "description": "100%",
       "layout": "IPY_MODEL_e9d4f42cbf624c90b6e4928d500f31c7",
       "max": 329155,
       "style": "IPY_MODEL_8789a87f7fef4f6980a7745edab68fda",
       "value": 329155
      }
     },
     "175e470806e24bb9bb8343997db76277": {
      "model_module": "@jupyter-widgets/controls",
      "model_module_version": "1.5.0",
      "model_name": "ProgressStyleModel",
      "state": {
       "description_width": "initial"
      }
     },
     "176700af5a0d49e7945b37722c12a2ac": {
      "model_module": "@jupyter-widgets/base",
      "model_module_version": "1.2.0",
      "model_name": "LayoutModel",
      "state": {}
     },
     "17f20939603042e09d4338a206008fa3": {
      "model_module": "@jupyter-widgets/base",
      "model_module_version": "1.2.0",
      "model_name": "LayoutModel",
      "state": {}
     },
     "1801ec91fed544bd92d5283506e9f5b0": {
      "model_module": "@jupyter-widgets/controls",
      "model_module_version": "1.5.0",
      "model_name": "FloatProgressModel",
      "state": {
       "bar_style": "success",
       "description": "100%",
       "layout": "IPY_MODEL_f1dd2f436a7b4661934e445b3e809600",
       "max": 329155,
       "style": "IPY_MODEL_6399710cb18143fdbbbe0b5498bcd25a",
       "value": 329155
      }
     },
     "182f29f95f4e4dee965453cfa3e10a59": {
      "model_module": "@jupyter-widgets/controls",
      "model_module_version": "1.5.0",
      "model_name": "HTMLModel",
      "state": {
       "layout": "IPY_MODEL_9dff9309be01473c9abf0583033da692",
       "style": "IPY_MODEL_509f955eee874075acc18e0146085fbf",
       "value": " 329155/329155 [10:03&lt;00:00, 545.00it/s]"
      }
     },
     "18e27ee605bc49d38871967618e4f5de": {
      "model_module": "@jupyter-widgets/controls",
      "model_module_version": "1.5.0",
      "model_name": "DescriptionStyleModel",
      "state": {
       "description_width": ""
      }
     },
     "191c29d73d54406eaa5ed1ee658df4b6": {
      "model_module": "@jupyter-widgets/controls",
      "model_module_version": "1.5.0",
      "model_name": "HTMLModel",
      "state": {
       "layout": "IPY_MODEL_027fc1323b744345ab4091296c611581",
       "style": "IPY_MODEL_05d29e34eebe4029b07730c618cd2c25",
       "value": " 329155/329155 [30:08&lt;00:00, 182.00it/s]"
      }
     },
     "19548f946c4e42988c5b1ad6761ae0bb": {
      "model_module": "@jupyter-widgets/controls",
      "model_module_version": "1.5.0",
      "model_name": "FloatProgressModel",
      "state": {
       "bar_style": "success",
       "description": "100%",
       "layout": "IPY_MODEL_9585d08ec20e4d1f9ae2535857019378",
       "max": 329155,
       "style": "IPY_MODEL_31fdb7f5c91847ab872aaa17fc991df0",
       "value": 329155
      }
     },
     "1afa429aa9b140c4b6a60fc082d6b3d2": {
      "model_module": "@jupyter-widgets/controls",
      "model_module_version": "1.5.0",
      "model_name": "DescriptionStyleModel",
      "state": {
       "description_width": ""
      }
     },
     "1b079fe4fffb46af884fcc777ac591c5": {
      "model_module": "@jupyter-widgets/base",
      "model_module_version": "1.2.0",
      "model_name": "LayoutModel",
      "state": {}
     },
     "1b455d5fd12648f3837f932357f564fc": {
      "model_module": "@jupyter-widgets/controls",
      "model_module_version": "1.5.0",
      "model_name": "DescriptionStyleModel",
      "state": {
       "description_width": ""
      }
     },
     "1b59f64169944683bada99ad56e35c44": {
      "model_module": "@jupyter-widgets/base",
      "model_module_version": "1.2.0",
      "model_name": "LayoutModel",
      "state": {}
     },
     "1b80bece9b52418e893f075fc0aac3b4": {
      "model_module": "@jupyter-widgets/controls",
      "model_module_version": "1.5.0",
      "model_name": "HBoxModel",
      "state": {
       "children": [
        "IPY_MODEL_27bb4489e84c4efe80fcb7d3ab9a8138",
        "IPY_MODEL_95c89da6e8924813b6b21e3a055af19b"
       ],
       "layout": "IPY_MODEL_b9d7470711ff4f53939cde2a1cead36d"
      }
     },
     "1c30728271194185ba7dc05a72912b72": {
      "model_module": "@jupyter-widgets/controls",
      "model_module_version": "1.5.0",
      "model_name": "ProgressStyleModel",
      "state": {
       "description_width": "initial"
      }
     },
     "1d6aaa2abdf0413e889ab3f3bc8d5a82": {
      "model_module": "@jupyter-widgets/base",
      "model_module_version": "1.2.0",
      "model_name": "LayoutModel",
      "state": {}
     },
     "1df0358d488d4938b52fbd6d7d6ddbfb": {
      "model_module": "@jupyter-widgets/controls",
      "model_module_version": "1.5.0",
      "model_name": "FloatProgressModel",
      "state": {
       "bar_style": "danger",
       "description": "  4%",
       "layout": "IPY_MODEL_26864b71a1844b5e9e4710f5d2a1733d",
       "max": 329155,
       "style": "IPY_MODEL_878e5bfffa79451c875ac6a145e4b9df",
       "value": 13988
      }
     },
     "1e16e0c7570340bba7db657a02b32614": {
      "model_module": "@jupyter-widgets/base",
      "model_module_version": "1.2.0",
      "model_name": "LayoutModel",
      "state": {}
     },
     "1e5348b586bb4a84858e557a51538520": {
      "model_module": "@jupyter-widgets/controls",
      "model_module_version": "1.5.0",
      "model_name": "DescriptionStyleModel",
      "state": {
       "description_width": ""
      }
     },
     "1e55b289a3134ce28c93d9dfed4a3e6c": {
      "model_module": "@jupyter-widgets/controls",
      "model_module_version": "1.5.0",
      "model_name": "HBoxModel",
      "state": {
       "children": [
        "IPY_MODEL_46a88061842249b18ce1f6ab2ba9740c",
        "IPY_MODEL_4e8e998be4f4432c898c2604203cf15e"
       ],
       "layout": "IPY_MODEL_291d49f3ca074631a837fcb55478cfdd"
      }
     },
     "1e82bab42bda4c69b8e330349201ab49": {
      "model_module": "@jupyter-widgets/base",
      "model_module_version": "1.2.0",
      "model_name": "LayoutModel",
      "state": {}
     },
     "1e86c5ae5b2042d78635c3de103b6056": {
      "model_module": "@jupyter-widgets/base",
      "model_module_version": "1.2.0",
      "model_name": "LayoutModel",
      "state": {}
     },
     "1e9e757aa1794e708b8eac513adab5b5": {
      "model_module": "@jupyter-widgets/controls",
      "model_module_version": "1.5.0",
      "model_name": "FloatProgressModel",
      "state": {
       "bar_style": "danger",
       "description": " 10%",
       "layout": "IPY_MODEL_8a0f0c98707d4e16b2a52f4288a1b7ef",
       "max": 35259,
       "style": "IPY_MODEL_3b4919b7c600433384e2fa50641ef783",
       "value": 3574
      }
     },
     "1f0127b6b423496695499409231802b7": {
      "model_module": "@jupyter-widgets/controls",
      "model_module_version": "1.5.0",
      "model_name": "HTMLModel",
      "state": {
       "layout": "IPY_MODEL_959c2406d9844b06a6098a3fc4daf483",
       "style": "IPY_MODEL_e1198acf516e42eeac3c98b996fb1474",
       "value": " 329155/329155 [20:11&lt;00:00, 271.60it/s]"
      }
     },
     "1f681913a42d4bd19d1644632d7cfff2": {
      "model_module": "@jupyter-widgets/base",
      "model_module_version": "1.2.0",
      "model_name": "LayoutModel",
      "state": {}
     },
     "1fd23086cd8e404b86ba5de9421fd878": {
      "model_module": "@jupyter-widgets/controls",
      "model_module_version": "1.5.0",
      "model_name": "ProgressStyleModel",
      "state": {
       "description_width": "initial"
      }
     },
     "1fd721984782400b90b5bac504e0c900": {
      "model_module": "@jupyter-widgets/controls",
      "model_module_version": "1.5.0",
      "model_name": "DescriptionStyleModel",
      "state": {
       "description_width": ""
      }
     },
     "2068f72d95544d8ba012daa477f9fa54": {
      "model_module": "@jupyter-widgets/controls",
      "model_module_version": "1.5.0",
      "model_name": "DescriptionStyleModel",
      "state": {
       "description_width": ""
      }
     },
     "2071d2e911c54a0d8b30335270dcab1f": {
      "model_module": "@jupyter-widgets/controls",
      "model_module_version": "1.5.0",
      "model_name": "HTMLModel",
      "state": {
       "layout": "IPY_MODEL_86ae1cb3f66a4f00871fdf0a184287ec",
       "style": "IPY_MODEL_96f7dc60ed534fc28ae429368058e60f",
       "value": " 24694/329155 [01:01&lt;12:34, 403.42it/s]"
      }
     },
     "20bb4a45905d4eafbe99482e959779f6": {
      "model_module": "@jupyter-widgets/controls",
      "model_module_version": "1.5.0",
      "model_name": "FloatProgressModel",
      "state": {
       "bar_style": "success",
       "description": "100%",
       "layout": "IPY_MODEL_da7714d28a674af69acc352840982ab9",
       "max": 329155,
       "style": "IPY_MODEL_4a9cb01b38a549ee9fcd6a468ea9b0c5",
       "value": 329155
      }
     },
     "211f6db51b604ff792e366a173a9d90a": {
      "model_module": "@jupyter-widgets/controls",
      "model_module_version": "1.5.0",
      "model_name": "DescriptionStyleModel",
      "state": {
       "description_width": ""
      }
     },
     "21246cbaa2394f91b910996a69399f3b": {
      "model_module": "@jupyter-widgets/controls",
      "model_module_version": "1.5.0",
      "model_name": "HBoxModel",
      "state": {
       "children": [
        "IPY_MODEL_a4c880cd1b6844f3b166c44a0bb7a0ef",
        "IPY_MODEL_dfa9601ca01a45c8b16a206bc7499d33"
       ],
       "layout": "IPY_MODEL_5e664a00b0de4befb2fc051e0e60bf63"
      }
     },
     "2135fb7d5972404d89d32588c856e1ae": {
      "model_module": "@jupyter-widgets/controls",
      "model_module_version": "1.5.0",
      "model_name": "ProgressStyleModel",
      "state": {
       "description_width": "initial"
      }
     },
     "21634d70e2e94efeb7e990deb0f65c4c": {
      "model_module": "@jupyter-widgets/controls",
      "model_module_version": "1.5.0",
      "model_name": "HBoxModel",
      "state": {
       "children": [
        "IPY_MODEL_5ca2636fcda64fc085490c441b82dd10",
        "IPY_MODEL_5610242e7fff42f6b72385cd80fb8eb1"
       ],
       "layout": "IPY_MODEL_b14446e9946840c688818ee6d0ea825e"
      }
     },
     "21dbdf0bee194110b2fa5b6c1cdcb602": {
      "model_module": "@jupyter-widgets/base",
      "model_module_version": "1.2.0",
      "model_name": "LayoutModel",
      "state": {}
     },
     "2249d832f7544f6587def0e6b41bdcc5": {
      "model_module": "@jupyter-widgets/base",
      "model_module_version": "1.2.0",
      "model_name": "LayoutModel",
      "state": {}
     },
     "22a8f8d8dbc84a0c86e6a45bc2969dec": {
      "model_module": "@jupyter-widgets/controls",
      "model_module_version": "1.5.0",
      "model_name": "DescriptionStyleModel",
      "state": {
       "description_width": ""
      }
     },
     "22fa5298d09040d0ab0829e6ce7da831": {
      "model_module": "@jupyter-widgets/controls",
      "model_module_version": "1.5.0",
      "model_name": "DescriptionStyleModel",
      "state": {
       "description_width": ""
      }
     },
     "23037a5993b54ef2b0387a2a746f4ebe": {
      "model_module": "@jupyter-widgets/controls",
      "model_module_version": "1.5.0",
      "model_name": "FloatProgressModel",
      "state": {
       "bar_style": "success",
       "description": "Reading word vectors: 100%",
       "layout": "IPY_MODEL_beb2bc606f5d4866ad541e0c955757f5",
       "max": 4027169,
       "style": "IPY_MODEL_94847ae1e07c40009b54fd10dbed2ec1",
       "value": 4027169
      }
     },
     "2379b9b752d54e258e2ed12c421db85c": {
      "model_module": "@jupyter-widgets/controls",
      "model_module_version": "1.5.0",
      "model_name": "HBoxModel",
      "state": {
       "children": [
        "IPY_MODEL_edf4a3bc346441d8b4ce186005ab94c0",
        "IPY_MODEL_aa0862787e394b14a75935a3ec59201e"
       ],
       "layout": "IPY_MODEL_a9d0b92ad0a34e2591cebdb6922c8c4a"
      }
     },
     "23f34996f4d24cef9ce3775655733660": {
      "model_module": "@jupyter-widgets/controls",
      "model_module_version": "1.5.0",
      "model_name": "HBoxModel",
      "state": {
       "children": [
        "IPY_MODEL_6e7f31b868c0442eb448ed062ba2b52d",
        "IPY_MODEL_5667195bdffc4775b634c36b00820a08"
       ],
       "layout": "IPY_MODEL_5c1b75a2e36c41e4b6b0a3b2ca792430"
      }
     },
     "2458bcc1dedd421c86a2276a3fe48f14": {
      "model_module": "@jupyter-widgets/controls",
      "model_module_version": "1.5.0",
      "model_name": "HTMLModel",
      "state": {
       "layout": "IPY_MODEL_3e1ed323f05d463c8c2fada260199137",
       "style": "IPY_MODEL_d81c7f5095d54c98b51057a9cb3ec81f",
       "value": " 4027169/4027169 [02:21&lt;00:00, 28502.98it/s]"
      }
     },
     "2464c33c65c540ac8bc620b709c05853": {
      "model_module": "@jupyter-widgets/base",
      "model_module_version": "1.2.0",
      "model_name": "LayoutModel",
      "state": {}
     },
     "247bf54c495647fe91550ce52b62ec27": {
      "model_module": "@jupyter-widgets/controls",
      "model_module_version": "1.5.0",
      "model_name": "HTMLModel",
      "state": {
       "layout": "IPY_MODEL_4ab44f34931445549fe6f76f19d4da71",
       "style": "IPY_MODEL_55e03f11cb0b46928aa148f47dd6a182",
       "value": " 27311/329155 [02:21&lt;26:05, 192.80it/s]"
      }
     },
     "24b7f3d45c8248e8bb78f5c261c2b77e": {
      "model_module": "@jupyter-widgets/controls",
      "model_module_version": "1.5.0",
      "model_name": "HTMLModel",
      "state": {
       "layout": "IPY_MODEL_a822226523b841b9b130586cb17ecdfc",
       "style": "IPY_MODEL_4686de9e3d994dea92fb15f9fc509001",
       "value": " 329155/329155 [40:12&lt;00:00, 136.41it/s]"
      }
     },
     "24e1a8255149444eb9edd78ed2c40ef2": {
      "model_module": "@jupyter-widgets/base",
      "model_module_version": "1.2.0",
      "model_name": "LayoutModel",
      "state": {}
     },
     "2558db8aa2284e048df26f71cfba1b68": {
      "model_module": "@jupyter-widgets/controls",
      "model_module_version": "1.5.0",
      "model_name": "HTMLModel",
      "state": {
       "layout": "IPY_MODEL_e0f94e0b88a94b0b982ab408034254f8",
       "style": "IPY_MODEL_22fa5298d09040d0ab0829e6ce7da831",
       "value": " 329155/329155 [20:08&lt;00:00, 272.46it/s]"
      }
     },
     "256455a20d1a4c3f8fb13c64d3199bc8": {
      "model_module": "@jupyter-widgets/controls",
      "model_module_version": "1.5.0",
      "model_name": "FloatProgressModel",
      "state": {
       "bar_style": "success",
       "description": "100%",
       "layout": "IPY_MODEL_ac92ffbebc7f4b6cbd84df8bdc64ae21",
       "max": 329155,
       "style": "IPY_MODEL_ec3668a4ed27411391b7da45b85a1174",
       "value": 329155
      }
     },
     "2581087f8494489d9c88900570bde0af": {
      "model_module": "@jupyter-widgets/controls",
      "model_module_version": "1.5.0",
      "model_name": "DescriptionStyleModel",
      "state": {
       "description_width": ""
      }
     },
     "259c14fda6a5433aba7a21bc814fab6b": {
      "model_module": "@jupyter-widgets/controls",
      "model_module_version": "1.5.0",
      "model_name": "FloatProgressModel",
      "state": {
       "bar_style": "success",
       "description": "100%",
       "layout": "IPY_MODEL_17f20939603042e09d4338a206008fa3",
       "max": 329155,
       "style": "IPY_MODEL_fc8dd170c65c469391ed174bc830e888",
       "value": 329155
      }
     },
     "26280a698ac04e45ba711f7cdd04af71": {
      "model_module": "@jupyter-widgets/controls",
      "model_module_version": "1.5.0",
      "model_name": "HTMLModel",
      "state": {
       "layout": "IPY_MODEL_3948fe5a561f4ac19219a0749fac07c6",
       "style": "IPY_MODEL_1afa429aa9b140c4b6a60fc082d6b3d2",
       "value": " 329155/329155 [20:05&lt;00:00, 273.03it/s]"
      }
     },
     "263ddf2ab88f4658b393fda7cba7f936": {
      "model_module": "@jupyter-widgets/controls",
      "model_module_version": "1.5.0",
      "model_name": "HTMLModel",
      "state": {
       "layout": "IPY_MODEL_88f08c424aed481f9f148f17a3396c38",
       "style": "IPY_MODEL_300f964c9d7d49b8b780e1e351210387",
       "value": " 25651/329155 [00:46&lt;09:07, 554.38it/s]"
      }
     },
     "26864b71a1844b5e9e4710f5d2a1733d": {
      "model_module": "@jupyter-widgets/base",
      "model_module_version": "1.2.0",
      "model_name": "LayoutModel",
      "state": {}
     },
     "26c6277b769a40179f715740c9bd66ae": {
      "model_module": "@jupyter-widgets/base",
      "model_module_version": "1.2.0",
      "model_name": "LayoutModel",
      "state": {}
     },
     "26ece60eb54f4c5dadfb63e43fd46780": {
      "model_module": "@jupyter-widgets/controls",
      "model_module_version": "1.5.0",
      "model_name": "FloatProgressModel",
      "state": {
       "bar_style": "success",
       "description": "100%",
       "layout": "IPY_MODEL_2ba923af907448f58cdc04b356e1509a",
       "max": 35259,
       "style": "IPY_MODEL_dfb91a394b4d41248359bfa90f86af18",
       "value": 35259
      }
     },
     "275787625e3f4b0dba7736578b4c14e7": {
      "model_module": "@jupyter-widgets/controls",
      "model_module_version": "1.5.0",
      "model_name": "HTMLModel",
      "state": {
       "layout": "IPY_MODEL_2a88c4257c8049a5a66aa5f313ac1417",
       "style": "IPY_MODEL_d4ebf003cb284446ac243f4121fc3598",
       "value": " 329155/329155 [12:51&lt;00:00, 426.79it/s]"
      }
     },
     "276b04f9554246a2b3842915172eba91": {
      "model_module": "@jupyter-widgets/controls",
      "model_module_version": "1.5.0",
      "model_name": "HBoxModel",
      "state": {
       "children": [
        "IPY_MODEL_66b1082a37cf4c608e33ea46241d6507",
        "IPY_MODEL_3a94f6ea53f649769951c22f66532100"
       ],
       "layout": "IPY_MODEL_6d1d98cdaae446bbaa5b3fd2062bd7bc"
      }
     },
     "276ecd6d12064ed7918985167e564b6c": {
      "model_module": "@jupyter-widgets/controls",
      "model_module_version": "1.5.0",
      "model_name": "DescriptionStyleModel",
      "state": {
       "description_width": ""
      }
     },
     "27a60e6fde7845f1a05d30d0c712e92c": {
      "model_module": "@jupyter-widgets/controls",
      "model_module_version": "1.5.0",
      "model_name": "FloatProgressModel",
      "state": {
       "bar_style": "success",
       "description": "100%",
       "layout": "IPY_MODEL_1454821b29b44632b53e4847d912f630",
       "max": 4,
       "style": "IPY_MODEL_d0f8b3a348c84196a7dfe9e52c8c4348",
       "value": 4
      }
     },
     "27bb4489e84c4efe80fcb7d3ab9a8138": {
      "model_module": "@jupyter-widgets/controls",
      "model_module_version": "1.5.0",
      "model_name": "FloatProgressModel",
      "state": {
       "bar_style": "success",
       "description": "100%",
       "layout": "IPY_MODEL_15b453d25c3645e7814a4601094af332",
       "max": 329155,
       "style": "IPY_MODEL_b62fd37a25144ef3926d9adc20fcf1e6",
       "value": 329155
      }
     },
     "27c528c48b114d2ebf525b8231779787": {
      "model_module": "@jupyter-widgets/controls",
      "model_module_version": "1.5.0",
      "model_name": "DescriptionStyleModel",
      "state": {
       "description_width": ""
      }
     },
     "28147bd5c4e04729aafc321f154f86a4": {
      "model_module": "@jupyter-widgets/controls",
      "model_module_version": "1.5.0",
      "model_name": "DescriptionStyleModel",
      "state": {
       "description_width": ""
      }
     },
     "282fe79028364252bef4e146f57fa0b5": {
      "model_module": "@jupyter-widgets/base",
      "model_module_version": "1.2.0",
      "model_name": "LayoutModel",
      "state": {}
     },
     "28c360a8615740c9b40f938ef3b50603": {
      "model_module": "@jupyter-widgets/base",
      "model_module_version": "1.2.0",
      "model_name": "LayoutModel",
      "state": {}
     },
     "291d49f3ca074631a837fcb55478cfdd": {
      "model_module": "@jupyter-widgets/base",
      "model_module_version": "1.2.0",
      "model_name": "LayoutModel",
      "state": {}
     },
     "2948d9e3e4534b47b9908926e8a8c39d": {
      "model_module": "@jupyter-widgets/controls",
      "model_module_version": "1.5.0",
      "model_name": "DescriptionStyleModel",
      "state": {
       "description_width": ""
      }
     },
     "299cffb0bc5e46f6a57c17395781cbad": {
      "model_module": "@jupyter-widgets/base",
      "model_module_version": "1.2.0",
      "model_name": "LayoutModel",
      "state": {}
     },
     "29e6de6e0810474db2ccc6c7d53650ed": {
      "model_module": "@jupyter-widgets/controls",
      "model_module_version": "1.5.0",
      "model_name": "HTMLModel",
      "state": {
       "layout": "IPY_MODEL_571acf3dad1c4980b9e781794144906e",
       "style": "IPY_MODEL_810a23b43e8b49059933931046502273",
       "value": " 329155/329155 [20:07&lt;00:00, 272.63it/s]"
      }
     },
     "2a88c4257c8049a5a66aa5f313ac1417": {
      "model_module": "@jupyter-widgets/base",
      "model_module_version": "1.2.0",
      "model_name": "LayoutModel",
      "state": {}
     },
     "2b02f49bf71648379cf8767afdac857e": {
      "model_module": "@jupyter-widgets/controls",
      "model_module_version": "1.5.0",
      "model_name": "HBoxModel",
      "state": {
       "children": [
        "IPY_MODEL_dae9df914dc34b4cbe7895e991573609",
        "IPY_MODEL_cee9ffdef88a42209b9bf6f68ffae04e"
       ],
       "layout": "IPY_MODEL_060676cebbf540e3a064a313d73645f9"
      }
     },
     "2b0b936447a941b4923343419e3c35fa": {
      "model_module": "@jupyter-widgets/controls",
      "model_module_version": "1.5.0",
      "model_name": "HBoxModel",
      "state": {
       "children": [
        "IPY_MODEL_6834ec0fadc049c0be9ddd4a61bc6102",
        "IPY_MODEL_b95f1e647d2b4bd8b2b2468b56729e04"
       ],
       "layout": "IPY_MODEL_08828feafc5547efb998578352cc4ad7"
      }
     },
     "2b1f52998ba44d7fb15f5a3f3077c9fd": {
      "model_module": "@jupyter-widgets/controls",
      "model_module_version": "1.5.0",
      "model_name": "ProgressStyleModel",
      "state": {
       "description_width": "initial"
      }
     },
     "2b2914af9b944bc8b79feaf582daf16d": {
      "model_module": "@jupyter-widgets/base",
      "model_module_version": "1.2.0",
      "model_name": "LayoutModel",
      "state": {}
     },
     "2b3dafde1a2245f4b4cb96eb831defee": {
      "model_module": "@jupyter-widgets/base",
      "model_module_version": "1.2.0",
      "model_name": "LayoutModel",
      "state": {}
     },
     "2b576fd21c8b4818b23fcafdd10c7608": {
      "model_module": "@jupyter-widgets/base",
      "model_module_version": "1.2.0",
      "model_name": "LayoutModel",
      "state": {}
     },
     "2ba923af907448f58cdc04b356e1509a": {
      "model_module": "@jupyter-widgets/base",
      "model_module_version": "1.2.0",
      "model_name": "LayoutModel",
      "state": {}
     },
     "2c0d62b9f54f4799ba62f08840236d26": {
      "model_module": "@jupyter-widgets/controls",
      "model_module_version": "1.5.0",
      "model_name": "ProgressStyleModel",
      "state": {
       "description_width": "initial"
      }
     },
     "2c1f7cd5e3d54f01a05f6419865eab22": {
      "model_module": "@jupyter-widgets/base",
      "model_module_version": "1.2.0",
      "model_name": "LayoutModel",
      "state": {}
     },
     "2c4dc3ab1e3e4020ad78d2f9128aaf8f": {
      "model_module": "@jupyter-widgets/controls",
      "model_module_version": "1.5.0",
      "model_name": "ProgressStyleModel",
      "state": {
       "description_width": "initial"
      }
     },
     "2c87b9ecc24246c3ae3046c72b6f3461": {
      "model_module": "@jupyter-widgets/controls",
      "model_module_version": "1.5.0",
      "model_name": "HTMLModel",
      "state": {
       "layout": "IPY_MODEL_28c360a8615740c9b40f938ef3b50603",
       "style": "IPY_MODEL_79d209a09bb745dd9f1c52ce0f4ecf1c",
       "value": " 329155/329155 [10:06&lt;00:00, 542.47it/s]"
      }
     },
     "2c8c698fc84f4071a1ed3f60c267cde7": {
      "model_module": "@jupyter-widgets/base",
      "model_module_version": "1.2.0",
      "model_name": "LayoutModel",
      "state": {}
     },
     "2cd02d9bcab54e17acdf99223b1417b4": {
      "model_module": "@jupyter-widgets/controls",
      "model_module_version": "1.5.0",
      "model_name": "HTMLModel",
      "state": {
       "layout": "IPY_MODEL_0e34dcf6dc04424d98bbfd3cb94c65d3",
       "style": "IPY_MODEL_112dc44aeaed4a6f891df48baef479f3",
       "value": " 329155/329155 [24:11&lt;00:00, 226.84it/s]"
      }
     },
     "2d44c095cd7e4fb29842baa6dbc3167a": {
      "model_module": "@jupyter-widgets/base",
      "model_module_version": "1.2.0",
      "model_name": "LayoutModel",
      "state": {}
     },
     "2e2e395744b74a7b901e54157c0a24d8": {
      "model_module": "@jupyter-widgets/controls",
      "model_module_version": "1.5.0",
      "model_name": "HBoxModel",
      "state": {
       "children": [
        "IPY_MODEL_750aa77fc7744179a338f5cb64b6137a",
        "IPY_MODEL_37a20cf849b74547a6d3e6c0e49a444e"
       ],
       "layout": "IPY_MODEL_444accfaef3b40059f10b475514422a6"
      }
     },
     "2e8099a95e69457c8a9be80e2d26b052": {
      "model_module": "@jupyter-widgets/controls",
      "model_module_version": "1.5.0",
      "model_name": "FloatProgressModel",
      "state": {
       "bar_style": "success",
       "description": "100%",
       "layout": "IPY_MODEL_15d451ff12124c1886bb8048d8348fd4",
       "max": 329155,
       "style": "IPY_MODEL_01ab13a079c14296953132a843d87cfb",
       "value": 329155
      }
     },
     "2e9c1411ba2e42deaffd6ba6aa3f5be2": {
      "model_module": "@jupyter-widgets/controls",
      "model_module_version": "1.5.0",
      "model_name": "HBoxModel",
      "state": {
       "children": [
        "IPY_MODEL_3057663533604a95aaf76c7f2f6c6ee6",
        "IPY_MODEL_3cc8f9dafc4841a5ae7decf114fe8185"
       ],
       "layout": "IPY_MODEL_ab39f0fabb2b4b20849d25373d019aef"
      }
     },
     "2f08b3ca2ece4640aa208bd3c4f69a4b": {
      "model_module": "@jupyter-widgets/controls",
      "model_module_version": "1.5.0",
      "model_name": "ProgressStyleModel",
      "state": {
       "description_width": "initial"
      }
     },
     "2f1e805b2ceb482e89be9e6400d721a0": {
      "model_module": "@jupyter-widgets/base",
      "model_module_version": "1.2.0",
      "model_name": "LayoutModel",
      "state": {}
     },
     "2f48cfdb5127404b97616a546722b2a2": {
      "model_module": "@jupyter-widgets/controls",
      "model_module_version": "1.5.0",
      "model_name": "DescriptionStyleModel",
      "state": {
       "description_width": ""
      }
     },
     "2f9947a1b9c44f1d978b9402d4bcd3b3": {
      "model_module": "@jupyter-widgets/base",
      "model_module_version": "1.2.0",
      "model_name": "LayoutModel",
      "state": {}
     },
     "300f964c9d7d49b8b780e1e351210387": {
      "model_module": "@jupyter-widgets/controls",
      "model_module_version": "1.5.0",
      "model_name": "DescriptionStyleModel",
      "state": {
       "description_width": ""
      }
     },
     "304e6892cf2340bfa7cc14f1c7acd1d4": {
      "model_module": "@jupyter-widgets/base",
      "model_module_version": "1.2.0",
      "model_name": "LayoutModel",
      "state": {}
     },
     "3057663533604a95aaf76c7f2f6c6ee6": {
      "model_module": "@jupyter-widgets/controls",
      "model_module_version": "1.5.0",
      "model_name": "FloatProgressModel",
      "state": {
       "bar_style": "success",
       "description": "100%",
       "layout": "IPY_MODEL_f39682361cd040878e7b712355562fff",
       "max": 329155,
       "style": "IPY_MODEL_f3afe4cade2f406c9d3be938c724fe90",
       "value": 329155
      }
     },
     "30d0d8938774482f93305ac40648d851": {
      "model_module": "@jupyter-widgets/base",
      "model_module_version": "1.2.0",
      "model_name": "LayoutModel",
      "state": {}
     },
     "314c530a8f44459a90d770bf98943d2c": {
      "model_module": "@jupyter-widgets/controls",
      "model_module_version": "1.5.0",
      "model_name": "FloatProgressModel",
      "state": {
       "bar_style": "success",
       "description": "100%",
       "layout": "IPY_MODEL_4d47887fb7df478e8c5e45ebf5e8e0eb",
       "max": 35259,
       "style": "IPY_MODEL_ab3284bbe0fd412196126d746109684c",
       "value": 35259
      }
     },
     "31fdb7f5c91847ab872aaa17fc991df0": {
      "model_module": "@jupyter-widgets/controls",
      "model_module_version": "1.5.0",
      "model_name": "ProgressStyleModel",
      "state": {
       "description_width": "initial"
      }
     },
     "325fd351bbbd45d08e86ed898292473d": {
      "model_module": "@jupyter-widgets/controls",
      "model_module_version": "1.5.0",
      "model_name": "FloatProgressModel",
      "state": {
       "bar_style": "success",
       "description": "Reading word vectors: 100%",
       "layout": "IPY_MODEL_f8d510bc2b9f4e81aef766107257acb5",
       "max": 4027169,
       "style": "IPY_MODEL_0f4c47c90b5e47fcb321cee41b4d5f2b",
       "value": 4027169
      }
     },
     "327103274d7d42a2a6d0a2eab8a255bb": {
      "model_module": "@jupyter-widgets/controls",
      "model_module_version": "1.5.0",
      "model_name": "ProgressStyleModel",
      "state": {
       "description_width": "initial"
      }
     },
     "32a700e53c1c4980af9cab1e120059f6": {
      "model_module": "@jupyter-widgets/base",
      "model_module_version": "1.2.0",
      "model_name": "LayoutModel",
      "state": {}
     },
     "32dab3bc4e074bd6a52a8b2ec8c9a1e8": {
      "model_module": "@jupyter-widgets/base",
      "model_module_version": "1.2.0",
      "model_name": "LayoutModel",
      "state": {}
     },
     "32e6386e78b94c92a61b0e8729c2bc3f": {
      "model_module": "@jupyter-widgets/controls",
      "model_module_version": "1.5.0",
      "model_name": "HTMLModel",
      "state": {
       "layout": "IPY_MODEL_f735436bb0074ef4ba0f365a74437765",
       "style": "IPY_MODEL_f044096517e042debc00fbfc7135a3e8",
       "value": " 329155/329155 [18:08&lt;00:00, 302.37it/s]"
      }
     },
     "3321c4fc583345819db238440637b99a": {
      "model_module": "@jupyter-widgets/base",
      "model_module_version": "1.2.0",
      "model_name": "LayoutModel",
      "state": {}
     },
     "33f5b974f4bd4f68b5f3616fb6cc8a99": {
      "model_module": "@jupyter-widgets/base",
      "model_module_version": "1.2.0",
      "model_name": "LayoutModel",
      "state": {}
     },
     "3400369b448f4c21822003b36034f831": {
      "model_module": "@jupyter-widgets/controls",
      "model_module_version": "1.5.0",
      "model_name": "FloatProgressModel",
      "state": {
       "bar_style": "success",
       "description": "100%",
       "layout": "IPY_MODEL_bea1f13f4fab4a089423f1f3dc2dedbb",
       "max": 35259,
       "style": "IPY_MODEL_cd9c4fea3d0c45a3923a93c9d3952763",
       "value": 35259
      }
     },
     "343e8b445c1e471ab47db7bbaf52ad85": {
      "model_module": "@jupyter-widgets/controls",
      "model_module_version": "1.5.0",
      "model_name": "FloatProgressModel",
      "state": {
       "bar_style": "success",
       "description": "100%",
       "layout": "IPY_MODEL_7c02a265fbe149d1a362dbb0b74441e0",
       "max": 329155,
       "style": "IPY_MODEL_f00ed8bb01784261b8359f74cc21fd03",
       "value": 329155
      }
     },
     "348224c80bd44b4aa239cf75d092e21e": {
      "model_module": "@jupyter-widgets/controls",
      "model_module_version": "1.5.0",
      "model_name": "FloatProgressModel",
      "state": {
       "bar_style": "danger",
       "description": "  0%",
       "layout": "IPY_MODEL_53f8c2e045234c7090b70d8e2f492dfd",
       "max": 329155,
       "style": "IPY_MODEL_d0c87b7d64aa4264afa609dea83585cc",
       "value": 565
      }
     },
     "348a7aa10f5e428fbf1290211237b78e": {
      "model_module": "@jupyter-widgets/controls",
      "model_module_version": "1.5.0",
      "model_name": "DescriptionStyleModel",
      "state": {
       "description_width": ""
      }
     },
     "34d4504eb5364da2b206e81ddd0eb78b": {
      "model_module": "@jupyter-widgets/base",
      "model_module_version": "1.2.0",
      "model_name": "LayoutModel",
      "state": {}
     },
     "3502ef9693ed4a5899590abc88c9acbc": {
      "model_module": "@jupyter-widgets/controls",
      "model_module_version": "1.5.0",
      "model_name": "DescriptionStyleModel",
      "state": {
       "description_width": ""
      }
     },
     "35b1890552d5406bb23567cc38d657cd": {
      "model_module": "@jupyter-widgets/base",
      "model_module_version": "1.2.0",
      "model_name": "LayoutModel",
      "state": {}
     },
     "35d714ac585e4cd797d0436d451441eb": {
      "model_module": "@jupyter-widgets/controls",
      "model_module_version": "1.5.0",
      "model_name": "ProgressStyleModel",
      "state": {
       "description_width": "initial"
      }
     },
     "36e4f7894931460da7b532f185554c01": {
      "model_module": "@jupyter-widgets/controls",
      "model_module_version": "1.5.0",
      "model_name": "HBoxModel",
      "state": {
       "children": [
        "IPY_MODEL_3c5e14ef9eba488f87b855e177b34ef2",
        "IPY_MODEL_3feb8d5aa7a643f4a34ee7a61dfaa37b"
       ],
       "layout": "IPY_MODEL_a1efad2c7b214b34838ab088ae30b7ce"
      }
     },
     "3753070638cf4f969b327a4e51a1c5ba": {
      "model_module": "@jupyter-widgets/base",
      "model_module_version": "1.2.0",
      "model_name": "LayoutModel",
      "state": {}
     },
     "37568c3a855b457c94d4f6c42e37ad07": {
      "model_module": "@jupyter-widgets/controls",
      "model_module_version": "1.5.0",
      "model_name": "HBoxModel",
      "state": {
       "children": [
        "IPY_MODEL_53a000bcb1f14826a5aca7e20c977de6",
        "IPY_MODEL_949a56c7085144bcb85663b0224dd454"
       ],
       "layout": "IPY_MODEL_7750c7f1539a4e8695931044dd6c04a2"
      }
     },
     "37603f02fa2b4cf3874e2b7724364035": {
      "model_module": "@jupyter-widgets/controls",
      "model_module_version": "1.5.0",
      "model_name": "ProgressStyleModel",
      "state": {
       "description_width": "initial"
      }
     },
     "37a20cf849b74547a6d3e6c0e49a444e": {
      "model_module": "@jupyter-widgets/controls",
      "model_module_version": "1.5.0",
      "model_name": "HTMLModel",
      "state": {
       "layout": "IPY_MODEL_1b079fe4fffb46af884fcc777ac591c5",
       "style": "IPY_MODEL_805fcd9805c64bbb945f3d36d07bb4ae",
       "value": " 0/329155 [00:39&lt;?, ?it/s]"
      }
     },
     "37c7dbe58b304abe801a917f6ef59ec5": {
      "model_module": "@jupyter-widgets/base",
      "model_module_version": "1.2.0",
      "model_name": "LayoutModel",
      "state": {}
     },
     "3948fe5a561f4ac19219a0749fac07c6": {
      "model_module": "@jupyter-widgets/base",
      "model_module_version": "1.2.0",
      "model_name": "LayoutModel",
      "state": {}
     },
     "3a092c99d7b54af19fa56c48967be6eb": {
      "model_module": "@jupyter-widgets/controls",
      "model_module_version": "1.5.0",
      "model_name": "HTMLModel",
      "state": {
       "layout": "IPY_MODEL_6e0de656a9424a7b8a855151527c05da",
       "style": "IPY_MODEL_704cc9161250416c90ec7795cce425dd",
       "value": " 35259/35259 [16:11&lt;00:00, 36.30it/s]"
      }
     },
     "3a42d73a411c4b05b4db01ce5468da96": {
      "model_module": "@jupyter-widgets/base",
      "model_module_version": "1.2.0",
      "model_name": "LayoutModel",
      "state": {}
     },
     "3a94f6ea53f649769951c22f66532100": {
      "model_module": "@jupyter-widgets/controls",
      "model_module_version": "1.5.0",
      "model_name": "HTMLModel",
      "state": {
       "layout": "IPY_MODEL_b1a27a9dd0d74cbfba312e6d3be5494e",
       "style": "IPY_MODEL_63374276fc53412fbb3d96afac4d55d0",
       "value": " 329155/329155 [13:40&lt;00:00, 401.03it/s]"
      }
     },
     "3ab84c1c90cd45359e8630015bf5556d": {
      "model_module": "@jupyter-widgets/base",
      "model_module_version": "1.2.0",
      "model_name": "LayoutModel",
      "state": {}
     },
     "3b4919b7c600433384e2fa50641ef783": {
      "model_module": "@jupyter-widgets/controls",
      "model_module_version": "1.5.0",
      "model_name": "ProgressStyleModel",
      "state": {
       "description_width": "initial"
      }
     },
     "3b6ee8158a0143778ef1ab20459316c6": {
      "model_module": "@jupyter-widgets/controls",
      "model_module_version": "1.5.0",
      "model_name": "HBoxModel",
      "state": {
       "children": [
        "IPY_MODEL_75a5d4299511417592b5b770975acbc7",
        "IPY_MODEL_e9a70f2776154821ae596c1de3e17b1f"
       ],
       "layout": "IPY_MODEL_0d089cd1e38a4dbf9b9c40d34b8698c5"
      }
     },
     "3b89854fe16840e3a6b6c76a88790ba3": {
      "model_module": "@jupyter-widgets/controls",
      "model_module_version": "1.5.0",
      "model_name": "DescriptionStyleModel",
      "state": {
       "description_width": ""
      }
     },
     "3c5e14ef9eba488f87b855e177b34ef2": {
      "model_module": "@jupyter-widgets/controls",
      "model_module_version": "1.5.0",
      "model_name": "FloatProgressModel",
      "state": {
       "bar_style": "success",
       "description": "100%",
       "layout": "IPY_MODEL_d9566a9c136646ea9c5ea27039a13242",
       "max": 35259,
       "style": "IPY_MODEL_12ccce72957e4e56b6cdad465c42fec2",
       "value": 35259
      }
     },
     "3c8ae320e9814629acd07fd831e697ce": {
      "model_module": "@jupyter-widgets/base",
      "model_module_version": "1.2.0",
      "model_name": "LayoutModel",
      "state": {}
     },
     "3cc8f9dafc4841a5ae7decf114fe8185": {
      "model_module": "@jupyter-widgets/controls",
      "model_module_version": "1.5.0",
      "model_name": "HTMLModel",
      "state": {
       "layout": "IPY_MODEL_e5149ad13f704764b1b24f19266d1611",
       "style": "IPY_MODEL_13ee242e9fca4d40b85784fa1791efc9",
       "value": " 329155/329155 [46:52&lt;00:00, 117.02it/s]"
      }
     },
     "3cd96cb8f5244674b5c448bd531ce3c5": {
      "model_module": "@jupyter-widgets/controls",
      "model_module_version": "1.5.0",
      "model_name": "HBoxModel",
      "state": {
       "children": [
        "IPY_MODEL_cc461c4ca23249879a843e4a2dd8a0d3",
        "IPY_MODEL_58fb28aeeae64ecda1cef7c62ba6afd8"
       ],
       "layout": "IPY_MODEL_a1be0f19361541c7b48b5eb5eed49f90"
      }
     },
     "3d3ec9a41316466ca198787d1cad4edb": {
      "model_module": "@jupyter-widgets/controls",
      "model_module_version": "1.5.0",
      "model_name": "ProgressStyleModel",
      "state": {
       "description_width": "initial"
      }
     },
     "3d46c0b44da346019dcc6ca9f11cda9e": {
      "model_module": "@jupyter-widgets/controls",
      "model_module_version": "1.5.0",
      "model_name": "ProgressStyleModel",
      "state": {
       "description_width": "initial"
      }
     },
     "3d8125f8e5884968abcecb61d0058f67": {
      "model_module": "@jupyter-widgets/controls",
      "model_module_version": "1.5.0",
      "model_name": "ProgressStyleModel",
      "state": {
       "description_width": "initial"
      }
     },
     "3d84972a46bd48499e851e15144143d0": {
      "model_module": "@jupyter-widgets/controls",
      "model_module_version": "1.5.0",
      "model_name": "FloatProgressModel",
      "state": {
       "bar_style": "success",
       "description": "100%",
       "layout": "IPY_MODEL_ce6b5bce22ef44f3a347c0c261a57dbb",
       "max": 329155,
       "style": "IPY_MODEL_9f31013387a04b6d82006a326cb85d1f",
       "value": 329155
      }
     },
     "3dbcf0d669aa4b7597dfca49723e54fc": {
      "model_module": "@jupyter-widgets/base",
      "model_module_version": "1.2.0",
      "model_name": "LayoutModel",
      "state": {}
     },
     "3dc8a74e2eaa456b8590f1a3bb6f5326": {
      "model_module": "@jupyter-widgets/base",
      "model_module_version": "1.2.0",
      "model_name": "LayoutModel",
      "state": {}
     },
     "3deb077f145e491893e6ca44fb9b19cb": {
      "model_module": "@jupyter-widgets/base",
      "model_module_version": "1.2.0",
      "model_name": "LayoutModel",
      "state": {}
     },
     "3e1ed323f05d463c8c2fada260199137": {
      "model_module": "@jupyter-widgets/base",
      "model_module_version": "1.2.0",
      "model_name": "LayoutModel",
      "state": {}
     },
     "3e47271672f04ec0a25ab9ca8410fa23": {
      "model_module": "@jupyter-widgets/controls",
      "model_module_version": "1.5.0",
      "model_name": "DescriptionStyleModel",
      "state": {
       "description_width": ""
      }
     },
     "3e55de4fbe1f4ec6ab7f9ebdc751df82": {
      "model_module": "@jupyter-widgets/controls",
      "model_module_version": "1.5.0",
      "model_name": "FloatProgressModel",
      "state": {
       "bar_style": "success",
       "description": "100%",
       "layout": "IPY_MODEL_6f8ee7027a0040f1a8b379cd833ce021",
       "max": 329155,
       "style": "IPY_MODEL_4098119de45c47e7b9e921846d104ef2",
       "value": 329155
      }
     },
     "3eb5e8dff0de431888c0a0265fe23343": {
      "model_module": "@jupyter-widgets/base",
      "model_module_version": "1.2.0",
      "model_name": "LayoutModel",
      "state": {}
     },
     "3faf030c301b41bd8e68529b403aafdd": {
      "model_module": "@jupyter-widgets/base",
      "model_module_version": "1.2.0",
      "model_name": "LayoutModel",
      "state": {}
     },
     "3fbaebb0a53947e8992db9bcd5596f3c": {
      "model_module": "@jupyter-widgets/base",
      "model_module_version": "1.2.0",
      "model_name": "LayoutModel",
      "state": {}
     },
     "3feb8d5aa7a643f4a34ee7a61dfaa37b": {
      "model_module": "@jupyter-widgets/controls",
      "model_module_version": "1.5.0",
      "model_name": "HTMLModel",
      "state": {
       "layout": "IPY_MODEL_7bc70f1f7e454eb493ec7028b2f09263",
       "style": "IPY_MODEL_74a48241c5a5469c98f8038de7901436",
       "value": " 35259/35259 [1:54:53&lt;00:00,  5.12it/s]"
      }
     },
     "402909ef788243e1acfe9d711e445d72": {
      "model_module": "@jupyter-widgets/controls",
      "model_module_version": "1.5.0",
      "model_name": "DescriptionStyleModel",
      "state": {
       "description_width": ""
      }
     },
     "4078828554dc4d9fb7859d38c2a19ee0": {
      "model_module": "@jupyter-widgets/base",
      "model_module_version": "1.2.0",
      "model_name": "LayoutModel",
      "state": {}
     },
     "4098119de45c47e7b9e921846d104ef2": {
      "model_module": "@jupyter-widgets/controls",
      "model_module_version": "1.5.0",
      "model_name": "ProgressStyleModel",
      "state": {
       "description_width": "initial"
      }
     },
     "40f75ed88a534aad8ad805fee8a07f50": {
      "model_module": "@jupyter-widgets/controls",
      "model_module_version": "1.5.0",
      "model_name": "HBoxModel",
      "state": {
       "children": [
        "IPY_MODEL_f12ee5c2b6e847289e9198c9197cf773",
        "IPY_MODEL_04749786fcda4558a2f4c56df33aa2d0"
       ],
       "layout": "IPY_MODEL_c18138a19cee438492b461c1de5b215f"
      }
     },
     "4120cabf8d6a4a6bb7e546a907802f31": {
      "model_module": "@jupyter-widgets/controls",
      "model_module_version": "1.5.0",
      "model_name": "HBoxModel",
      "state": {
       "children": [
        "IPY_MODEL_95340d3ff86042728ed6ff97ddaabb7e",
        "IPY_MODEL_c5cfb912611440f0b202013846f8a2e8"
       ],
       "layout": "IPY_MODEL_2d44c095cd7e4fb29842baa6dbc3167a"
      }
     },
     "41789e39f666478eb908234b51ea55b7": {
      "model_module": "@jupyter-widgets/base",
      "model_module_version": "1.2.0",
      "model_name": "LayoutModel",
      "state": {}
     },
     "418b84adc3494b51960bc669e69dcc28": {
      "model_module": "@jupyter-widgets/controls",
      "model_module_version": "1.5.0",
      "model_name": "ProgressStyleModel",
      "state": {
       "description_width": "initial"
      }
     },
     "41c8fdc564f648468ea9f4bc55153fe1": {
      "model_module": "@jupyter-widgets/controls",
      "model_module_version": "1.5.0",
      "model_name": "ProgressStyleModel",
      "state": {
       "description_width": "initial"
      }
     },
     "42085eaa2f394ec6a3068d499587b3ff": {
      "model_module": "@jupyter-widgets/controls",
      "model_module_version": "1.5.0",
      "model_name": "FloatProgressModel",
      "state": {
       "bar_style": "danger",
       "description": "  8%",
       "layout": "IPY_MODEL_104eceed2eff44c9b6e0399de76b5b35",
       "max": 329155,
       "style": "IPY_MODEL_554f17958f28474087dd6f57ed6de8f0",
       "value": 24694
      }
     },
     "4228b5493dc84f73a14454c28cbb9f41": {
      "model_module": "@jupyter-widgets/base",
      "model_module_version": "1.2.0",
      "model_name": "LayoutModel",
      "state": {}
     },
     "4238fe176d5942938ec098eb4695e54c": {
      "model_module": "@jupyter-widgets/base",
      "model_module_version": "1.2.0",
      "model_name": "LayoutModel",
      "state": {}
     },
     "427b55e76bfd4f369e4e2262a399b75c": {
      "model_module": "@jupyter-widgets/controls",
      "model_module_version": "1.5.0",
      "model_name": "HTMLModel",
      "state": {
       "layout": "IPY_MODEL_0d1a68ae6c0849d78b87f811ff8934b7",
       "style": "IPY_MODEL_cdf231ba626846a3b6b2187f8e75d5de",
       "value": " 13988/329155 [01:02&lt;23:19, 225.15it/s]"
      }
     },
     "42b59d3fb1a344b295332b57c12d9168": {
      "model_module": "@jupyter-widgets/base",
      "model_module_version": "1.2.0",
      "model_name": "LayoutModel",
      "state": {}
     },
     "42d6e3c9747744e4b5de96dddd3ba2f1": {
      "model_module": "@jupyter-widgets/controls",
      "model_module_version": "1.5.0",
      "model_name": "HBoxModel",
      "state": {
       "children": [
        "IPY_MODEL_df34d2a116cf411ebc1a77584b605539",
        "IPY_MODEL_017a9984a7844f61aadd5ec55070887a"
       ],
       "layout": "IPY_MODEL_6198f2fd2a6d4c6c8512f264eab790fb"
      }
     },
     "42fd8794420c4e42b89f616b6a03078a": {
      "model_module": "@jupyter-widgets/controls",
      "model_module_version": "1.5.0",
      "model_name": "HBoxModel",
      "state": {
       "children": [
        "IPY_MODEL_3400369b448f4c21822003b36034f831",
        "IPY_MODEL_7e46cfec07b6473eab305f7c096d123f"
       ],
       "layout": "IPY_MODEL_06e6319a2ec743e0b975389cf43995ba"
      }
     },
     "434e7000389d40cea787665bb8e6022c": {
      "model_module": "@jupyter-widgets/controls",
      "model_module_version": "1.5.0",
      "model_name": "FloatProgressModel",
      "state": {
       "bar_style": "danger",
       "description": "  0%",
       "layout": "IPY_MODEL_4ee38a8ecc644d46873b149c02fbb69c",
       "max": 329155,
       "style": "IPY_MODEL_c8d78261ba814f10a8e09189c1aecfd2"
      }
     },
     "43922674e1434deca397eec2555d23ee": {
      "model_module": "@jupyter-widgets/base",
      "model_module_version": "1.2.0",
      "model_name": "LayoutModel",
      "state": {}
     },
     "444accfaef3b40059f10b475514422a6": {
      "model_module": "@jupyter-widgets/base",
      "model_module_version": "1.2.0",
      "model_name": "LayoutModel",
      "state": {}
     },
     "446ffda9edc447aa803a0741bb7d4504": {
      "model_module": "@jupyter-widgets/controls",
      "model_module_version": "1.5.0",
      "model_name": "FloatProgressModel",
      "state": {
       "bar_style": "success",
       "description": "100%",
       "layout": "IPY_MODEL_95279d663a044f36bdd2029ebf582b1f",
       "max": 329155,
       "style": "IPY_MODEL_4f4f2d61608f4d319cd4fb629c497545",
       "value": 329155
      }
     },
     "44e405461bb9443ea60178b341e0570b": {
      "model_module": "@jupyter-widgets/controls",
      "model_module_version": "1.5.0",
      "model_name": "HBoxModel",
      "state": {
       "children": [
        "IPY_MODEL_3d84972a46bd48499e851e15144143d0",
        "IPY_MODEL_a7145602ea14432492d7bf2f03084e29"
       ],
       "layout": "IPY_MODEL_06d220f305784315891d97685b40a022"
      }
     },
     "45a86d7dc053475985a3abf68b9ab8e5": {
      "model_module": "@jupyter-widgets/controls",
      "model_module_version": "1.5.0",
      "model_name": "HBoxModel",
      "state": {
       "children": [
        "IPY_MODEL_4912cad9920a4daead8738c7e8e956ce",
        "IPY_MODEL_8a218d0bf2a54632b3e08fb466da02c8"
       ],
       "layout": "IPY_MODEL_f9a0f88422364153ad924ba45ecd9c82"
      }
     },
     "45e000c01b144efdb831db875fc664e9": {
      "model_module": "@jupyter-widgets/controls",
      "model_module_version": "1.5.0",
      "model_name": "HTMLModel",
      "state": {
       "layout": "IPY_MODEL_45ffd23241bd4ab4830de20c138a52e8",
       "style": "IPY_MODEL_942bb24129614bd3b2b307b9128a41de",
       "value": " 4027169/4027169 [02:12&lt;00:00, 30322.86it/s]"
      }
     },
     "45ffd23241bd4ab4830de20c138a52e8": {
      "model_module": "@jupyter-widgets/base",
      "model_module_version": "1.2.0",
      "model_name": "LayoutModel",
      "state": {}
     },
     "4679776a08c240c3a50e120501ebbda6": {
      "model_module": "@jupyter-widgets/controls",
      "model_module_version": "1.5.0",
      "model_name": "HTMLModel",
      "state": {
       "layout": "IPY_MODEL_84a1de17fe554c6c858d06c3dd80eb60",
       "style": "IPY_MODEL_fcf78df19fd44ba780bc34b31f57a71f",
       "value": " 4358/329155 [08:33&lt;10:37:30,  8.49it/s]"
      }
     },
     "4686de9e3d994dea92fb15f9fc509001": {
      "model_module": "@jupyter-widgets/controls",
      "model_module_version": "1.5.0",
      "model_name": "DescriptionStyleModel",
      "state": {
       "description_width": ""
      }
     },
     "46a88061842249b18ce1f6ab2ba9740c": {
      "model_module": "@jupyter-widgets/controls",
      "model_module_version": "1.5.0",
      "model_name": "FloatProgressModel",
      "state": {
       "bar_style": "success",
       "description": "Parsing dataset: 100%",
       "layout": "IPY_MODEL_304e6892cf2340bfa7cc14f1c7acd1d4",
       "max": 373801,
       "style": "IPY_MODEL_5e964b3a5677456d867636a1e099e9e7",
       "value": 373801
      }
     },
     "476be8b49cec4fb5aef21f39e0223360": {
      "model_module": "@jupyter-widgets/controls",
      "model_module_version": "1.5.0",
      "model_name": "FloatProgressModel",
      "state": {
       "bar_style": "success",
       "description": "100%",
       "layout": "IPY_MODEL_34d4504eb5364da2b206e81ddd0eb78b",
       "max": 329155,
       "style": "IPY_MODEL_68e74e5b23e1422aa2816416dadf5ed4",
       "value": 329155
      }
     },
     "4779ab7ec5f7462b86dcfd01fac28ad2": {
      "model_module": "@jupyter-widgets/controls",
      "model_module_version": "1.5.0",
      "model_name": "HTMLModel",
      "state": {
       "layout": "IPY_MODEL_8679eeded881468c9cb65943987c818d",
       "style": "IPY_MODEL_ab9e026b6fe5489d96c33caa13379086",
       "value": " 0/329155 [00:48&lt;?, ?it/s]"
      }
     },
     "47aaee114f1d4ea28e88466079ec2839": {
      "model_module": "@jupyter-widgets/controls",
      "model_module_version": "1.5.0",
      "model_name": "ProgressStyleModel",
      "state": {
       "description_width": "initial"
      }
     },
     "47f33b225255499695d09ae608666a33": {
      "model_module": "@jupyter-widgets/controls",
      "model_module_version": "1.5.0",
      "model_name": "HTMLModel",
      "state": {
       "layout": "IPY_MODEL_c5368da6b99d48ee91a4e28af7fe3c01",
       "style": "IPY_MODEL_c055e7669cb7438f96212f9021648323",
       "value": " 329155/329155 [10:09&lt;00:00, 540.04it/s]"
      }
     },
     "482f1524b66f4580a26166e4c5d02b17": {
      "model_module": "@jupyter-widgets/controls",
      "model_module_version": "1.5.0",
      "model_name": "HTMLModel",
      "state": {
       "layout": "IPY_MODEL_9532b036f1b443f5be092db8c8c87c6c",
       "style": "IPY_MODEL_e516b37c9c95441c9e64fde8d8e56289",
       "value": " 329155/329155 [12:05&lt;00:00, 453.62it/s]"
      }
     },
     "48b102c045b44684bc5f83d82512b742": {
      "model_module": "@jupyter-widgets/controls",
      "model_module_version": "1.5.0",
      "model_name": "ProgressStyleModel",
      "state": {
       "description_width": "initial"
      }
     },
     "48dd0ac721a64bb5a1a959713697de6e": {
      "model_module": "@jupyter-widgets/controls",
      "model_module_version": "1.5.0",
      "model_name": "HBoxModel",
      "state": {
       "children": [
        "IPY_MODEL_348224c80bd44b4aa239cf75d092e21e",
        "IPY_MODEL_13f199ba579b445bb4d5a231fc22cfdf"
       ],
       "layout": "IPY_MODEL_2f1e805b2ceb482e89be9e6400d721a0"
      }
     },
     "4912cad9920a4daead8738c7e8e956ce": {
      "model_module": "@jupyter-widgets/controls",
      "model_module_version": "1.5.0",
      "model_name": "FloatProgressModel",
      "state": {
       "description": " 16%",
       "layout": "IPY_MODEL_07efeff112c345d58fba017e9ff68b61",
       "max": 329155,
       "style": "IPY_MODEL_f6b14cfd170c4c64b34cc9390ca8674b",
       "value": 52058
      }
     },
     "49244ec09a1a4c51b0e41386acd8509c": {
      "model_module": "@jupyter-widgets/controls",
      "model_module_version": "1.5.0",
      "model_name": "HBoxModel",
      "state": {
       "children": [
        "IPY_MODEL_e51224bd33d34fe98e403098cb15697c",
        "IPY_MODEL_b57c5f9d1a1a43ad9e5d6ed8b83b170a"
       ],
       "layout": "IPY_MODEL_d8cd6a1111634648a04897634dee03aa"
      }
     },
     "494de8353b90446280dfb0cf90d2b44e": {
      "model_module": "@jupyter-widgets/controls",
      "model_module_version": "1.5.0",
      "model_name": "ProgressStyleModel",
      "state": {
       "description_width": "initial"
      }
     },
     "49dca776dbca4e3ba540f80001f6974f": {
      "model_module": "@jupyter-widgets/controls",
      "model_module_version": "1.5.0",
      "model_name": "HBoxModel",
      "state": {
       "children": [
        "IPY_MODEL_e29d581e14814acd8aab0e028bcbd94d",
        "IPY_MODEL_02a74dc8c7d94a7fa9b59587bdab19b0"
       ],
       "layout": "IPY_MODEL_dad334c913994b52b8e6936976304711"
      }
     },
     "4a2ebc05425a4322b90188b5c454d1c4": {
      "model_module": "@jupyter-widgets/controls",
      "model_module_version": "1.5.0",
      "model_name": "FloatProgressModel",
      "state": {
       "bar_style": "success",
       "description": "100%",
       "layout": "IPY_MODEL_d37d21d1ec6146c087dfb9d4e2221efe",
       "max": 329155,
       "style": "IPY_MODEL_2f08b3ca2ece4640aa208bd3c4f69a4b",
       "value": 329155
      }
     },
     "4a9cb01b38a549ee9fcd6a468ea9b0c5": {
      "model_module": "@jupyter-widgets/controls",
      "model_module_version": "1.5.0",
      "model_name": "ProgressStyleModel",
      "state": {
       "description_width": "initial"
      }
     },
     "4aa62e2acf224ea29e9545c636675c67": {
      "model_module": "@jupyter-widgets/controls",
      "model_module_version": "1.5.0",
      "model_name": "HTMLModel",
      "state": {
       "layout": "IPY_MODEL_d84cb2885619439d8800ce32e9067f1c",
       "style": "IPY_MODEL_4ed76337b25b47e6825327c325ee79ae",
       "value": " 0/329155 [00:19&lt;?, ?it/s]"
      }
     },
     "4ab44f34931445549fe6f76f19d4da71": {
      "model_module": "@jupyter-widgets/base",
      "model_module_version": "1.2.0",
      "model_name": "LayoutModel",
      "state": {}
     },
     "4abc9a5a6df74f31a1fbf2e9668a3243": {
      "model_module": "@jupyter-widgets/controls",
      "model_module_version": "1.5.0",
      "model_name": "HTMLModel",
      "state": {
       "layout": "IPY_MODEL_ac3cee451c3c418eb316bb1d353a8c1a",
       "style": "IPY_MODEL_2f48cfdb5127404b97616a546722b2a2",
       "value": " 35259/35259 [1:16:34&lt;00:00,  7.67it/s]"
      }
     },
     "4b0e69e93cd34293a2961b60cc328b4e": {
      "model_module": "@jupyter-widgets/base",
      "model_module_version": "1.2.0",
      "model_name": "LayoutModel",
      "state": {}
     },
     "4b12e67f19bd488d805f44162e6175e2": {
      "model_module": "@jupyter-widgets/controls",
      "model_module_version": "1.5.0",
      "model_name": "HTMLModel",
      "state": {
       "layout": "IPY_MODEL_a18fbf03645d430abda48f16d5b542ca",
       "style": "IPY_MODEL_abe345851b954bee95ef37f09257c48e",
       "value": " 35259/35259 [1:14:01&lt;00:00,  7.94it/s]"
      }
     },
     "4b153f5a2cfb41f7bf94b09d7d5f8a2d": {
      "model_module": "@jupyter-widgets/controls",
      "model_module_version": "1.5.0",
      "model_name": "FloatProgressModel",
      "state": {
       "bar_style": "success",
       "description": "100%",
       "layout": "IPY_MODEL_60229c24fba74870ab39c7cddf82bbec",
       "max": 329155,
       "style": "IPY_MODEL_7cfb982cd4364765ab5cfce9de5b7827",
       "value": 329155
      }
     },
     "4b15eb6964c2403281a2e0130463543c": {
      "model_module": "@jupyter-widgets/base",
      "model_module_version": "1.2.0",
      "model_name": "LayoutModel",
      "state": {}
     },
     "4b4f1920441043d7b8dcebbb5a342051": {
      "model_module": "@jupyter-widgets/base",
      "model_module_version": "1.2.0",
      "model_name": "LayoutModel",
      "state": {}
     },
     "4bb0f33d7abb40a1a1fd98e5ea926ae4": {
      "model_module": "@jupyter-widgets/controls",
      "model_module_version": "1.5.0",
      "model_name": "FloatProgressModel",
      "state": {
       "bar_style": "success",
       "description": "100%",
       "layout": "IPY_MODEL_2249d832f7544f6587def0e6b41bdcc5",
       "max": 329155,
       "style": "IPY_MODEL_79e14ebe502c42739e7762932c87aac6",
       "value": 329155
      }
     },
     "4bd4f12131cc415283af4a98608c3fe9": {
      "model_module": "@jupyter-widgets/base",
      "model_module_version": "1.2.0",
      "model_name": "LayoutModel",
      "state": {}
     },
     "4c263c2fce494059a173f03d0126f3b5": {
      "model_module": "@jupyter-widgets/base",
      "model_module_version": "1.2.0",
      "model_name": "LayoutModel",
      "state": {}
     },
     "4caf81660c5e4ee68e05d2ff7bad75ab": {
      "model_module": "@jupyter-widgets/controls",
      "model_module_version": "1.5.0",
      "model_name": "HBoxModel",
      "state": {
       "children": [
        "IPY_MODEL_95fd4a7e4f184dfdb71987435e08ec26",
        "IPY_MODEL_f17a8bda521947498702296c18787bae"
       ],
       "layout": "IPY_MODEL_e84ae92c8e4d4b8baa1cb5f348a3943a"
      }
     },
     "4d288e3186f8493999c3c26215bcde9f": {
      "model_module": "@jupyter-widgets/controls",
      "model_module_version": "1.5.0",
      "model_name": "HBoxModel",
      "state": {
       "children": [
        "IPY_MODEL_7dff5dab1d1d451d8ddff0ef84bf63c9",
        "IPY_MODEL_c601141ac3d54c998125b5e256a7fbab"
       ],
       "layout": "IPY_MODEL_957f90db2c1a49d787daff3dde01cb68"
      }
     },
     "4d2bc27121834131a3fea532202a3cd8": {
      "model_module": "@jupyter-widgets/base",
      "model_module_version": "1.2.0",
      "model_name": "LayoutModel",
      "state": {}
     },
     "4d417e5b54a3497eb5b58ab6a8ab0b34": {
      "model_module": "@jupyter-widgets/controls",
      "model_module_version": "1.5.0",
      "model_name": "ProgressStyleModel",
      "state": {
       "description_width": "initial"
      }
     },
     "4d47887fb7df478e8c5e45ebf5e8e0eb": {
      "model_module": "@jupyter-widgets/base",
      "model_module_version": "1.2.0",
      "model_name": "LayoutModel",
      "state": {}
     },
     "4d7aad74461b4dfb8ec6b9dfb4aa7d3c": {
      "model_module": "@jupyter-widgets/base",
      "model_module_version": "1.2.0",
      "model_name": "LayoutModel",
      "state": {}
     },
     "4d9c813a0b1641f7b5efdafac5cd4154": {
      "model_module": "@jupyter-widgets/base",
      "model_module_version": "1.2.0",
      "model_name": "LayoutModel",
      "state": {}
     },
     "4da55c0cfd034e76b3a6e7072f3305e2": {
      "model_module": "@jupyter-widgets/controls",
      "model_module_version": "1.5.0",
      "model_name": "FloatProgressModel",
      "state": {
       "bar_style": "danger",
       "description": "  0%",
       "layout": "IPY_MODEL_2b2914af9b944bc8b79feaf582daf16d",
       "max": 329155,
       "style": "IPY_MODEL_5d3fe717b60f477e8851bdcc7af9a1f5"
      }
     },
     "4ddcd907aaa04099a746540c9cb0d4ed": {
      "model_module": "@jupyter-widgets/controls",
      "model_module_version": "1.5.0",
      "model_name": "HBoxModel",
      "state": {
       "children": [
        "IPY_MODEL_1e9e757aa1794e708b8eac513adab5b5",
        "IPY_MODEL_a576b22bd73449afa1a0ed5978dab81f"
       ],
       "layout": "IPY_MODEL_b669da6503a147e8b600334cbdfb2d2f"
      }
     },
     "4e00b88c1561480b9587e9c72f53384c": {
      "model_module": "@jupyter-widgets/controls",
      "model_module_version": "1.5.0",
      "model_name": "FloatProgressModel",
      "state": {
       "bar_style": "success",
       "description": "100%",
       "layout": "IPY_MODEL_eb64594d921147e49331234ae91d5bdf",
       "max": 35259,
       "style": "IPY_MODEL_af33c39a2b44456bbf1dc3ab3e00bd5d",
       "value": 35259
      }
     },
     "4e8e998be4f4432c898c2604203cf15e": {
      "model_module": "@jupyter-widgets/controls",
      "model_module_version": "1.5.0",
      "model_name": "HTMLModel",
      "state": {
       "layout": "IPY_MODEL_09581be62fb6438db39009ae87328edf",
       "style": "IPY_MODEL_cc27f3ed77a84c2f92c8952505b29a01",
       "value": " 373801/373801 [04:53&lt;00:00, 1272.86it/s]"
      }
     },
     "4eac0b7a0ed84ae59b54bd9ff9609f38": {
      "model_module": "@jupyter-widgets/controls",
      "model_module_version": "1.5.0",
      "model_name": "HTMLModel",
      "state": {
       "layout": "IPY_MODEL_8e89c9c295884f3bbdefb15b19318297",
       "style": "IPY_MODEL_fa0c6965801149dd9368ebbc291fe8ba",
       "value": " 373801/373801 [06:17&lt;00:00, 989.61it/s]"
      }
     },
     "4eb1e140d5284327ad41b553e856c991": {
      "model_module": "@jupyter-widgets/controls",
      "model_module_version": "1.5.0",
      "model_name": "FloatProgressModel",
      "state": {
       "bar_style": "success",
       "description": "100%",
       "layout": "IPY_MODEL_63ec2e5b088147e79efca032c164e25d",
       "max": 4,
       "style": "IPY_MODEL_925be7c22f2a484683f718e5ff48c26a",
       "value": 4
      }
     },
     "4ed76337b25b47e6825327c325ee79ae": {
      "model_module": "@jupyter-widgets/controls",
      "model_module_version": "1.5.0",
      "model_name": "DescriptionStyleModel",
      "state": {
       "description_width": ""
      }
     },
     "4ee38a8ecc644d46873b149c02fbb69c": {
      "model_module": "@jupyter-widgets/base",
      "model_module_version": "1.2.0",
      "model_name": "LayoutModel",
      "state": {}
     },
     "4eeb336ddad941b0a7aae655c58c8b47": {
      "model_module": "@jupyter-widgets/controls",
      "model_module_version": "1.5.0",
      "model_name": "HBoxModel",
      "state": {
       "children": [
        "IPY_MODEL_7c37d8d091d84da1b4d4665ce680f385",
        "IPY_MODEL_f4382eed1c9c4374ba96fd9c647d8126"
       ],
       "layout": "IPY_MODEL_1b59f64169944683bada99ad56e35c44"
      }
     },
     "4f2b0a9b5f81400a9e20863241b1b801": {
      "model_module": "@jupyter-widgets/controls",
      "model_module_version": "1.5.0",
      "model_name": "ProgressStyleModel",
      "state": {
       "description_width": "initial"
      }
     },
     "4f4f2d61608f4d319cd4fb629c497545": {
      "model_module": "@jupyter-widgets/controls",
      "model_module_version": "1.5.0",
      "model_name": "ProgressStyleModel",
      "state": {
       "description_width": "initial"
      }
     },
     "4f72344b9a33417185802a8dfcf2276b": {
      "model_module": "@jupyter-widgets/base",
      "model_module_version": "1.2.0",
      "model_name": "LayoutModel",
      "state": {}
     },
     "4f791562e7824ab9b4aca9dece98a321": {
      "model_module": "@jupyter-widgets/base",
      "model_module_version": "1.2.0",
      "model_name": "LayoutModel",
      "state": {}
     },
     "4f95a90d51254f63b7a34183c3a9029e": {
      "model_module": "@jupyter-widgets/controls",
      "model_module_version": "1.5.0",
      "model_name": "DescriptionStyleModel",
      "state": {
       "description_width": ""
      }
     },
     "4fa5ec4ff0da4738be8d709320229cf1": {
      "model_module": "@jupyter-widgets/controls",
      "model_module_version": "1.5.0",
      "model_name": "HBoxModel",
      "state": {
       "children": [
        "IPY_MODEL_a63efc42f162493db2f1b18517189dec",
        "IPY_MODEL_9668e76eb1e447b88fbc9e4cabf7f9a6"
       ],
       "layout": "IPY_MODEL_b887ebb75eb84983ab015688a182d115"
      }
     },
     "4fb59df9c2e04619a035f65a4e1328c0": {
      "model_module": "@jupyter-widgets/controls",
      "model_module_version": "1.5.0",
      "model_name": "FloatProgressModel",
      "state": {
       "bar_style": "success",
       "description": "100%",
       "layout": "IPY_MODEL_6ae69f06102b4dd58fbfce6cc8855987",
       "max": 329155,
       "style": "IPY_MODEL_48b102c045b44684bc5f83d82512b742",
       "value": 329155
      }
     },
     "4fbe9ee7d2194488a20a81efcfdf46cb": {
      "model_module": "@jupyter-widgets/controls",
      "model_module_version": "1.5.0",
      "model_name": "HBoxModel",
      "state": {
       "children": [
        "IPY_MODEL_b3701b4d5209448dbf0fe872ce81edd6",
        "IPY_MODEL_182f29f95f4e4dee965453cfa3e10a59"
       ],
       "layout": "IPY_MODEL_32a700e53c1c4980af9cab1e120059f6"
      }
     },
     "4ff1424194c94aa4b8ec6d51ba15adfe": {
      "model_module": "@jupyter-widgets/controls",
      "model_module_version": "1.5.0",
      "model_name": "HTMLModel",
      "state": {
       "layout": "IPY_MODEL_1e82bab42bda4c69b8e330349201ab49",
       "style": "IPY_MODEL_6b661de8fc754f8ea4ed44bc64502d31",
       "value": " 329155/329155 [10:05&lt;00:00, 543.57it/s]"
      }
     },
     "500b879c77164337b7cb4163cd2eecbf": {
      "model_module": "@jupyter-widgets/controls",
      "model_module_version": "1.5.0",
      "model_name": "DescriptionStyleModel",
      "state": {
       "description_width": ""
      }
     },
     "509f955eee874075acc18e0146085fbf": {
      "model_module": "@jupyter-widgets/controls",
      "model_module_version": "1.5.0",
      "model_name": "DescriptionStyleModel",
      "state": {
       "description_width": ""
      }
     },
     "50a63f9f9b96444db77814b98a0ccee1": {
      "model_module": "@jupyter-widgets/base",
      "model_module_version": "1.2.0",
      "model_name": "LayoutModel",
      "state": {}
     },
     "50c8f060aa294da181ce4c3ea1a4f198": {
      "model_module": "@jupyter-widgets/controls",
      "model_module_version": "1.5.0",
      "model_name": "HBoxModel",
      "state": {
       "children": [
        "IPY_MODEL_259c14fda6a5433aba7a21bc814fab6b",
        "IPY_MODEL_a32877567e384e1088c2c26e4a0e2a9c"
       ],
       "layout": "IPY_MODEL_6e4611104e1b4c599e37e11072767f86"
      }
     },
     "518d64742ed243238ee6f3117acf81e6": {
      "model_module": "@jupyter-widgets/controls",
      "model_module_version": "1.5.0",
      "model_name": "HTMLModel",
      "state": {
       "layout": "IPY_MODEL_4228b5493dc84f73a14454c28cbb9f41",
       "style": "IPY_MODEL_f0694ae9f5ea4b9694a1e86222c1b46b",
       "value": " 329155/329155 [26:14&lt;00:00, 209.09it/s]"
      }
     },
     "51c72b9e423a4f8fb9bcfe8542e3ffc3": {
      "model_module": "@jupyter-widgets/controls",
      "model_module_version": "1.5.0",
      "model_name": "HTMLModel",
      "state": {
       "layout": "IPY_MODEL_5f460c4b51a545de8df91e9c8072be4f",
       "style": "IPY_MODEL_a0c37f6804674c10a03570c1baf7ef8b",
       "value": " 4027169/4027169 [02:16&lt;00:00, 29568.28it/s]"
      }
     },
     "51e5fc3b9f0746b4b1c72b30571c9f66": {
      "model_module": "@jupyter-widgets/controls",
      "model_module_version": "1.5.0",
      "model_name": "HTMLModel",
      "state": {
       "layout": "IPY_MODEL_f208f06c2e9a4ba9b334d8ceea4e7098",
       "style": "IPY_MODEL_83fb9a9281f24fc48367866857369e7c",
       "value": " 329155/329155 [11:54&lt;00:00, 460.97it/s]"
      }
     },
     "51fc0bce6bbc4c9e90ab53b68839960a": {
      "model_module": "@jupyter-widgets/controls",
      "model_module_version": "1.5.0",
      "model_name": "ProgressStyleModel",
      "state": {
       "description_width": "initial"
      }
     },
     "522be8a76b66418ab6bd5107d73a40dc": {
      "model_module": "@jupyter-widgets/controls",
      "model_module_version": "1.5.0",
      "model_name": "FloatProgressModel",
      "state": {
       "bar_style": "success",
       "description": "100%",
       "layout": "IPY_MODEL_e8caf9c3c27c436fb07106839067c8cc",
       "max": 35259,
       "style": "IPY_MODEL_b8363a4b93954eb19244eff7eda10a38",
       "value": 35259
      }
     },
     "526180cf19254ed792125e5d0ce4d5fa": {
      "model_module": "@jupyter-widgets/base",
      "model_module_version": "1.2.0",
      "model_name": "LayoutModel",
      "state": {}
     },
     "5270d4b8ad064b24ae86314e2c8e85cc": {
      "model_module": "@jupyter-widgets/controls",
      "model_module_version": "1.5.0",
      "model_name": "ProgressStyleModel",
      "state": {
       "description_width": "initial"
      }
     },
     "52924919708b491dbca9b4a81b415f8a": {
      "model_module": "@jupyter-widgets/controls",
      "model_module_version": "1.5.0",
      "model_name": "HTMLModel",
      "state": {
       "layout": "IPY_MODEL_00370033219b40b0bdb45dcd2ffe89d7",
       "style": "IPY_MODEL_7568c28eb2da49cc8063f74b22d3a9e4",
       "value": " 4027169/4027169 [02:21&lt;00:00, 28464.90it/s]"
      }
     },
     "52ba828bbff348569040426aaeba4fa8": {
      "model_module": "@jupyter-widgets/controls",
      "model_module_version": "1.5.0",
      "model_name": "DescriptionStyleModel",
      "state": {
       "description_width": ""
      }
     },
     "52f545e9cb70442aad60f86ffab81902": {
      "model_module": "@jupyter-widgets/base",
      "model_module_version": "1.2.0",
      "model_name": "LayoutModel",
      "state": {}
     },
     "533b1b1f30024f8185a18ddf42f90ec3": {
      "model_module": "@jupyter-widgets/controls",
      "model_module_version": "1.5.0",
      "model_name": "HBoxModel",
      "state": {
       "children": [
        "IPY_MODEL_00418af6ca5c45c99037dfbdc6c4677d",
        "IPY_MODEL_7ee84fa2ac604424bae1e46ceec1300c"
       ],
       "layout": "IPY_MODEL_5d17227951c74d02b4ff642dc31e0340"
      }
     },
     "53a000bcb1f14826a5aca7e20c977de6": {
      "model_module": "@jupyter-widgets/controls",
      "model_module_version": "1.5.0",
      "model_name": "FloatProgressModel",
      "state": {
       "bar_style": "success",
       "description": "100%",
       "layout": "IPY_MODEL_a00e1b77974e4d3d84c28f9efa81ae8b",
       "max": 329155,
       "style": "IPY_MODEL_1c30728271194185ba7dc05a72912b72",
       "value": 329155
      }
     },
     "53a0c7756d114c14820b9ff397523e34": {
      "model_module": "@jupyter-widgets/controls",
      "model_module_version": "1.5.0",
      "model_name": "FloatProgressModel",
      "state": {
       "bar_style": "success",
       "description": "100%",
       "layout": "IPY_MODEL_4238fe176d5942938ec098eb4695e54c",
       "max": 329155,
       "style": "IPY_MODEL_8f6c70a665f64108b2a5e3f996031d2f",
       "value": 329155
      }
     },
     "53f3a1223ef5459c87024d4635873d55": {
      "model_module": "@jupyter-widgets/controls",
      "model_module_version": "1.5.0",
      "model_name": "HTMLModel",
      "state": {
       "layout": "IPY_MODEL_dfddc3ff9a564e06ad1a10d0d8ef5a93",
       "style": "IPY_MODEL_057902b59ead4b10809d35351b943020",
       "value": " 4/4 [58:10&lt;00:00, 872.73s/it]"
      }
     },
     "53f8c2e045234c7090b70d8e2f492dfd": {
      "model_module": "@jupyter-widgets/base",
      "model_module_version": "1.2.0",
      "model_name": "LayoutModel",
      "state": {}
     },
     "54f37d21c3ab406eaabc1e9d84d071b9": {
      "model_module": "@jupyter-widgets/controls",
      "model_module_version": "1.5.0",
      "model_name": "HBoxModel",
      "state": {
       "children": [
        "IPY_MODEL_faa9abd179004e95a6ea5fa9492a3748",
        "IPY_MODEL_06e59dd5e28641428e4ee74592d1fece"
       ],
       "layout": "IPY_MODEL_0db85a9b43da4aa39616c28d6ef93adc"
      }
     },
     "552df59037f84aa796fdc4f502b5297a": {
      "model_module": "@jupyter-widgets/base",
      "model_module_version": "1.2.0",
      "model_name": "LayoutModel",
      "state": {}
     },
     "554f17958f28474087dd6f57ed6de8f0": {
      "model_module": "@jupyter-widgets/controls",
      "model_module_version": "1.5.0",
      "model_name": "ProgressStyleModel",
      "state": {
       "description_width": "initial"
      }
     },
     "55e03f11cb0b46928aa148f47dd6a182": {
      "model_module": "@jupyter-widgets/controls",
      "model_module_version": "1.5.0",
      "model_name": "DescriptionStyleModel",
      "state": {
       "description_width": ""
      }
     },
     "5610242e7fff42f6b72385cd80fb8eb1": {
      "model_module": "@jupyter-widgets/controls",
      "model_module_version": "1.5.0",
      "model_name": "HTMLModel",
      "state": {
       "layout": "IPY_MODEL_70267df466cc4102bfebe718098ec175",
       "style": "IPY_MODEL_02d765dcb4bf47abbe101a8c0df7b761",
       "value": " 329155/329155 [07:08&lt;00:00, 767.78it/s]"
      }
     },
     "5667195bdffc4775b634c36b00820a08": {
      "model_module": "@jupyter-widgets/controls",
      "model_module_version": "1.5.0",
      "model_name": "HTMLModel",
      "state": {
       "layout": "IPY_MODEL_0b95667ace01422a82275bb994ba2133",
       "style": "IPY_MODEL_7827d552b198467794d8dbc6e619b649",
       "value": " 35259/35259 [00:03&lt;00:00, 11566.37it/s]"
      }
     },
     "571acf3dad1c4980b9e781794144906e": {
      "model_module": "@jupyter-widgets/base",
      "model_module_version": "1.2.0",
      "model_name": "LayoutModel",
      "state": {}
     },
     "583abd72a1a34954b1598bda79f8c5dc": {
      "model_module": "@jupyter-widgets/base",
      "model_module_version": "1.2.0",
      "model_name": "LayoutModel",
      "state": {}
     },
     "58577514929a4b56b85f8f740c15205e": {
      "model_module": "@jupyter-widgets/base",
      "model_module_version": "1.2.0",
      "model_name": "LayoutModel",
      "state": {}
     },
     "589efbd2470c4c08adf9ab6f1ac85616": {
      "model_module": "@jupyter-widgets/base",
      "model_module_version": "1.2.0",
      "model_name": "LayoutModel",
      "state": {}
     },
     "58fb28aeeae64ecda1cef7c62ba6afd8": {
      "model_module": "@jupyter-widgets/controls",
      "model_module_version": "1.5.0",
      "model_name": "HTMLModel",
      "state": {
       "layout": "IPY_MODEL_30d0d8938774482f93305ac40648d851",
       "style": "IPY_MODEL_8a1d30a7b8e046ddb1d01344eb15328b",
       "value": " 32/32 [9:50:39&lt;00:00, 1107.50s/it]"
      }
     },
     "591e35c5d4b94508a4ab7da7409831d9": {
      "model_module": "@jupyter-widgets/base",
      "model_module_version": "1.2.0",
      "model_name": "LayoutModel",
      "state": {}
     },
     "59b4f46bd2b643cdb32a7c421f4a21f2": {
      "model_module": "@jupyter-widgets/controls",
      "model_module_version": "1.5.0",
      "model_name": "FloatProgressModel",
      "state": {
       "bar_style": "success",
       "description": "100%",
       "layout": "IPY_MODEL_24e1a8255149444eb9edd78ed2c40ef2",
       "max": 35259,
       "style": "IPY_MODEL_4f2b0a9b5f81400a9e20863241b1b801",
       "value": 35259
      }
     },
     "5a0b550d4a0242fd8073c233bae81f8c": {
      "model_module": "@jupyter-widgets/base",
      "model_module_version": "1.2.0",
      "model_name": "LayoutModel",
      "state": {}
     },
     "5a9aeab0ac28409e9e8d59906912b084": {
      "model_module": "@jupyter-widgets/controls",
      "model_module_version": "1.5.0",
      "model_name": "HBoxModel",
      "state": {
       "children": [
        "IPY_MODEL_10a68633b9334510b3bc82484751caa6",
        "IPY_MODEL_5fd6b7b937cc4d6a9f7fe02888939eae"
       ],
       "layout": "IPY_MODEL_dd567af105f94414bd366e26a6736763"
      }
     },
     "5abdf12aaa1a49958d2ff622b560e1d7": {
      "model_module": "@jupyter-widgets/base",
      "model_module_version": "1.2.0",
      "model_name": "LayoutModel",
      "state": {}
     },
     "5c1b75a2e36c41e4b6b0a3b2ca792430": {
      "model_module": "@jupyter-widgets/base",
      "model_module_version": "1.2.0",
      "model_name": "LayoutModel",
      "state": {}
     },
     "5c50d8d964ff4bb7903d5a22d6bc81d1": {
      "model_module": "@jupyter-widgets/controls",
      "model_module_version": "1.5.0",
      "model_name": "ProgressStyleModel",
      "state": {
       "description_width": "initial"
      }
     },
     "5c8e4dacd7ea4d83a76e3540815014b6": {
      "model_module": "@jupyter-widgets/base",
      "model_module_version": "1.2.0",
      "model_name": "LayoutModel",
      "state": {}
     },
     "5ca2636fcda64fc085490c441b82dd10": {
      "model_module": "@jupyter-widgets/controls",
      "model_module_version": "1.5.0",
      "model_name": "FloatProgressModel",
      "state": {
       "bar_style": "success",
       "description": "100%",
       "layout": "IPY_MODEL_ef72dc5667274d8ca8db214237415345",
       "max": 329155,
       "style": "IPY_MODEL_2b1f52998ba44d7fb15f5a3f3077c9fd",
       "value": 329155
      }
     },
     "5cffc88fb72a438eb145bdea6dcd382a": {
      "model_module": "@jupyter-widgets/base",
      "model_module_version": "1.2.0",
      "model_name": "LayoutModel",
      "state": {}
     },
     "5d0d2c08a8cd4104a6bbe7de8a9e262e": {
      "model_module": "@jupyter-widgets/base",
      "model_module_version": "1.2.0",
      "model_name": "LayoutModel",
      "state": {}
     },
     "5d0f51659c3c443e8d4fbeea64c14d4a": {
      "model_module": "@jupyter-widgets/controls",
      "model_module_version": "1.5.0",
      "model_name": "HBoxModel",
      "state": {
       "children": [
        "IPY_MODEL_6d0773c4330c45429750b0be55a00043",
        "IPY_MODEL_947475610d814f6a8f897c1d390806d8"
       ],
       "layout": "IPY_MODEL_9c84ba5ed5fa4bd888c38130245488ed"
      }
     },
     "5d17227951c74d02b4ff642dc31e0340": {
      "model_module": "@jupyter-widgets/base",
      "model_module_version": "1.2.0",
      "model_name": "LayoutModel",
      "state": {}
     },
     "5d3fe717b60f477e8851bdcc7af9a1f5": {
      "model_module": "@jupyter-widgets/controls",
      "model_module_version": "1.5.0",
      "model_name": "ProgressStyleModel",
      "state": {
       "description_width": "initial"
      }
     },
     "5d4f8c07d3004e6dae95eef77807a505": {
      "model_module": "@jupyter-widgets/base",
      "model_module_version": "1.2.0",
      "model_name": "LayoutModel",
      "state": {}
     },
     "5d6ccc9c02c940fd9cfa1ef27762bab8": {
      "model_module": "@jupyter-widgets/controls",
      "model_module_version": "1.5.0",
      "model_name": "FloatProgressModel",
      "state": {
       "bar_style": "success",
       "description": "100%",
       "layout": "IPY_MODEL_7aa0eef93c6348a7b065dfa0f47fb2d3",
       "max": 329155,
       "style": "IPY_MODEL_a35e381f669f4813a254dbd7438d3f60",
       "value": 329155
      }
     },
     "5db7017a6e5045a8a5a7b7c7634a3c74": {
      "model_module": "@jupyter-widgets/controls",
      "model_module_version": "1.5.0",
      "model_name": "ProgressStyleModel",
      "state": {
       "description_width": "initial"
      }
     },
     "5dfd72c2bf3b49e2a98ab4290652ff73": {
      "model_module": "@jupyter-widgets/base",
      "model_module_version": "1.2.0",
      "model_name": "LayoutModel",
      "state": {}
     },
     "5e061ec129674260b4bda3254c834074": {
      "model_module": "@jupyter-widgets/controls",
      "model_module_version": "1.5.0",
      "model_name": "ProgressStyleModel",
      "state": {
       "description_width": "initial"
      }
     },
     "5e43e89db7034831b0a6d683cefbebe0": {
      "model_module": "@jupyter-widgets/controls",
      "model_module_version": "1.5.0",
      "model_name": "HBoxModel",
      "state": {
       "children": [
        "IPY_MODEL_a8e6d6257f714fe7abeee22330c2a94e",
        "IPY_MODEL_191c29d73d54406eaa5ed1ee658df4b6"
       ],
       "layout": "IPY_MODEL_efc1dfdac30a4c9e932acfcf40e62661"
      }
     },
     "5e664a00b0de4befb2fc051e0e60bf63": {
      "model_module": "@jupyter-widgets/base",
      "model_module_version": "1.2.0",
      "model_name": "LayoutModel",
      "state": {}
     },
     "5e964b3a5677456d867636a1e099e9e7": {
      "model_module": "@jupyter-widgets/controls",
      "model_module_version": "1.5.0",
      "model_name": "ProgressStyleModel",
      "state": {
       "description_width": "initial"
      }
     },
     "5f053e7d3cc840cd81facb467a0605b5": {
      "model_module": "@jupyter-widgets/base",
      "model_module_version": "1.2.0",
      "model_name": "LayoutModel",
      "state": {}
     },
     "5f3ffd5af047445ebf4119197b90cdd8": {
      "model_module": "@jupyter-widgets/base",
      "model_module_version": "1.2.0",
      "model_name": "LayoutModel",
      "state": {}
     },
     "5f460c4b51a545de8df91e9c8072be4f": {
      "model_module": "@jupyter-widgets/base",
      "model_module_version": "1.2.0",
      "model_name": "LayoutModel",
      "state": {}
     },
     "5f4d004da9244d4cad998b72f0b3aeb5": {
      "model_module": "@jupyter-widgets/controls",
      "model_module_version": "1.5.0",
      "model_name": "FloatProgressModel",
      "state": {
       "bar_style": "success",
       "description": "100%",
       "layout": "IPY_MODEL_9be3f0a804dd4d61838831821f6d1bd2",
       "max": 329155,
       "style": "IPY_MODEL_e00878aef46a4a67b83a3ae0b58813a3",
       "value": 329155
      }
     },
     "5fa9ce69328544db8f771d23c50e2c8c": {
      "model_module": "@jupyter-widgets/controls",
      "model_module_version": "1.5.0",
      "model_name": "FloatProgressModel",
      "state": {
       "bar_style": "success",
       "description": "100%",
       "layout": "IPY_MODEL_89fe229252774ea0b1b53a945e34ba97",
       "max": 329155,
       "style": "IPY_MODEL_3d46c0b44da346019dcc6ca9f11cda9e",
       "value": 329155
      }
     },
     "5fcd2657f8684dcdafc73e8769a35945": {
      "model_module": "@jupyter-widgets/controls",
      "model_module_version": "1.5.0",
      "model_name": "HBoxModel",
      "state": {
       "children": [
        "IPY_MODEL_965b20f2d0524c1f8641813ea1ae036e",
        "IPY_MODEL_dd6a6c2b34924fbba833fc391e765abc"
       ],
       "layout": "IPY_MODEL_b95e21fc36d04d9aa33867fb537dbc85"
      }
     },
     "5fd6b7b937cc4d6a9f7fe02888939eae": {
      "model_module": "@jupyter-widgets/controls",
      "model_module_version": "1.5.0",
      "model_name": "HTMLModel",
      "state": {
       "layout": "IPY_MODEL_33f5b974f4bd4f68b5f3616fb6cc8a99",
       "style": "IPY_MODEL_9f3251350b2246ac8f1cde83e832a43f",
       "value": " 329155/329155 [26:46&lt;00:00, 204.95it/s]"
      }
     },
     "60229c24fba74870ab39c7cddf82bbec": {
      "model_module": "@jupyter-widgets/base",
      "model_module_version": "1.2.0",
      "model_name": "LayoutModel",
      "state": {}
     },
     "609f7588592d44d49625710ab7560f22": {
      "model_module": "@jupyter-widgets/controls",
      "model_module_version": "1.5.0",
      "model_name": "ProgressStyleModel",
      "state": {
       "description_width": "initial"
      }
     },
     "60dec6f593db4b71aa5737fa4d16ce48": {
      "model_module": "@jupyter-widgets/controls",
      "model_module_version": "1.5.0",
      "model_name": "HBoxModel",
      "state": {
       "children": [
        "IPY_MODEL_4e00b88c1561480b9587e9c72f53384c",
        "IPY_MODEL_0fdabc62a2c749e8964c120b5ce54c57"
       ],
       "layout": "IPY_MODEL_e45d480ea0f0458587bffff8890c5fb8"
      }
     },
     "60f8d6a2c0cc4436a9dec1a57b2fb020": {
      "model_module": "@jupyter-widgets/controls",
      "model_module_version": "1.5.0",
      "model_name": "ProgressStyleModel",
      "state": {
       "description_width": "initial"
      }
     },
     "6198f2fd2a6d4c6c8512f264eab790fb": {
      "model_module": "@jupyter-widgets/base",
      "model_module_version": "1.2.0",
      "model_name": "LayoutModel",
      "state": {}
     },
     "61f269a36758447da1f9923734665bfb": {
      "model_module": "@jupyter-widgets/controls",
      "model_module_version": "1.5.0",
      "model_name": "HBoxModel",
      "state": {
       "children": [
        "IPY_MODEL_7459d700d6c7439a9ad42fa09957f998",
        "IPY_MODEL_e1e1b2becfab4e30a2a218b986109740"
       ],
       "layout": "IPY_MODEL_dc1acaa0271549678e2bc1edf9e8a32b"
      }
     },
     "620345f602e44815b56382b48698db46": {
      "model_module": "@jupyter-widgets/controls",
      "model_module_version": "1.5.0",
      "model_name": "DescriptionStyleModel",
      "state": {
       "description_width": ""
      }
     },
     "6207f544b489493188790e1ef3a24096": {
      "model_module": "@jupyter-widgets/controls",
      "model_module_version": "1.5.0",
      "model_name": "FloatProgressModel",
      "state": {
       "bar_style": "success",
       "description": "100%",
       "layout": "IPY_MODEL_8f7526a0e0ce4cceaf4bc4ba01a940e3",
       "max": 35259,
       "style": "IPY_MODEL_2c0d62b9f54f4799ba62f08840236d26",
       "value": 35259
      }
     },
     "628f08821d5e4caf882f708a2806a587": {
      "model_module": "@jupyter-widgets/controls",
      "model_module_version": "1.5.0",
      "model_name": "HBoxModel",
      "state": {
       "children": [
        "IPY_MODEL_b7339e0f288b4775a59b5403e9c11de6",
        "IPY_MODEL_518d64742ed243238ee6f3117acf81e6"
       ],
       "layout": "IPY_MODEL_5cffc88fb72a438eb145bdea6dcd382a"
      }
     },
     "62c3e56f2ce44c24b7908bfdaeb54e4b": {
      "model_module": "@jupyter-widgets/controls",
      "model_module_version": "1.5.0",
      "model_name": "HBoxModel",
      "state": {
       "children": [
        "IPY_MODEL_934fef8bbba442d69cbbb38339dc230a",
        "IPY_MODEL_d77438834fde485ea0f749cd9c9c215d"
       ],
       "layout": "IPY_MODEL_1421279fed51495bbc514cb871f217a6"
      }
     },
     "63214afed9844d53818dfc64b203e65e": {
      "model_module": "@jupyter-widgets/base",
      "model_module_version": "1.2.0",
      "model_name": "LayoutModel",
      "state": {}
     },
     "63374276fc53412fbb3d96afac4d55d0": {
      "model_module": "@jupyter-widgets/controls",
      "model_module_version": "1.5.0",
      "model_name": "DescriptionStyleModel",
      "state": {
       "description_width": ""
      }
     },
     "634891b12e1244cfa2185a607c04f974": {
      "model_module": "@jupyter-widgets/base",
      "model_module_version": "1.2.0",
      "model_name": "LayoutModel",
      "state": {}
     },
     "636c2928cd7944fe9a4a4a886f91478f": {
      "model_module": "@jupyter-widgets/base",
      "model_module_version": "1.2.0",
      "model_name": "LayoutModel",
      "state": {}
     },
     "6399710cb18143fdbbbe0b5498bcd25a": {
      "model_module": "@jupyter-widgets/controls",
      "model_module_version": "1.5.0",
      "model_name": "ProgressStyleModel",
      "state": {
       "description_width": "initial"
      }
     },
     "63eb814366224920ab359eb6082750ba": {
      "model_module": "@jupyter-widgets/controls",
      "model_module_version": "1.5.0",
      "model_name": "DescriptionStyleModel",
      "state": {
       "description_width": ""
      }
     },
     "63ec2e5b088147e79efca032c164e25d": {
      "model_module": "@jupyter-widgets/base",
      "model_module_version": "1.2.0",
      "model_name": "LayoutModel",
      "state": {}
     },
     "645fc0cef2514de7943873250173d333": {
      "model_module": "@jupyter-widgets/base",
      "model_module_version": "1.2.0",
      "model_name": "LayoutModel",
      "state": {}
     },
     "64e4d89f7ca6452c8eac5e808aaca1f8": {
      "model_module": "@jupyter-widgets/controls",
      "model_module_version": "1.5.0",
      "model_name": "ProgressStyleModel",
      "state": {
       "description_width": "initial"
      }
     },
     "651d9c2ac15846799bdffc939bb58a2a": {
      "model_module": "@jupyter-widgets/controls",
      "model_module_version": "1.5.0",
      "model_name": "DescriptionStyleModel",
      "state": {
       "description_width": ""
      }
     },
     "6573f920fc4b4bba91145ec908c54936": {
      "model_module": "@jupyter-widgets/base",
      "model_module_version": "1.2.0",
      "model_name": "LayoutModel",
      "state": {}
     },
     "6595a3b0588f4b09a03ff625bb49bd00": {
      "model_module": "@jupyter-widgets/controls",
      "model_module_version": "1.5.0",
      "model_name": "ProgressStyleModel",
      "state": {
       "description_width": "initial"
      }
     },
     "668b17a3f30f4b5ea89d955213c9dbc3": {
      "model_module": "@jupyter-widgets/controls",
      "model_module_version": "1.5.0",
      "model_name": "HBoxModel",
      "state": {
       "children": [
        "IPY_MODEL_1801ec91fed544bd92d5283506e9f5b0",
        "IPY_MODEL_98af491471ac4e7a98939830d7ef1d95"
       ],
       "layout": "IPY_MODEL_3321c4fc583345819db238440637b99a"
      }
     },
     "669afe7603d94d47bde2630c709bc0f5": {
      "model_module": "@jupyter-widgets/controls",
      "model_module_version": "1.5.0",
      "model_name": "HBoxModel",
      "state": {
       "children": [
        "IPY_MODEL_f34b9f95faac4eb6ae80ee7950570e41",
        "IPY_MODEL_c96cf6c606204184b8008730ce527840"
       ],
       "layout": "IPY_MODEL_9b56ba1456fc497e83c56b2f6a0e88f0"
      }
     },
     "66b1082a37cf4c608e33ea46241d6507": {
      "model_module": "@jupyter-widgets/controls",
      "model_module_version": "1.5.0",
      "model_name": "FloatProgressModel",
      "state": {
       "bar_style": "success",
       "description": "100%",
       "layout": "IPY_MODEL_5a0b550d4a0242fd8073c233bae81f8c",
       "max": 329155,
       "style": "IPY_MODEL_15d789df861c4889a87c7509a1df5852",
       "value": 329155
      }
     },
     "675f4a0191d44dcd80c264ccf2a1e52a": {
      "model_module": "@jupyter-widgets/controls",
      "model_module_version": "1.5.0",
      "model_name": "FloatProgressModel",
      "state": {
       "bar_style": "danger",
       "description": "  0%",
       "layout": "IPY_MODEL_3dc8a74e2eaa456b8590f1a3bb6f5326",
       "max": 329155,
       "style": "IPY_MODEL_d02ed052787848fbaa9ad1df577744b5"
      }
     },
     "679c463e02864fcaaa50465a222c4a9a": {
      "model_module": "@jupyter-widgets/base",
      "model_module_version": "1.2.0",
      "model_name": "LayoutModel",
      "state": {}
     },
     "67a7a92337834ce88141c962b4c371ff": {
      "model_module": "@jupyter-widgets/controls",
      "model_module_version": "1.5.0",
      "model_name": "ProgressStyleModel",
      "state": {
       "description_width": "initial"
      }
     },
     "67bfd9a0aba24bc4a86293cb8705f8e1": {
      "model_module": "@jupyter-widgets/base",
      "model_module_version": "1.2.0",
      "model_name": "LayoutModel",
      "state": {}
     },
     "682f483ebb0b4e6dab7665232aae1364": {
      "model_module": "@jupyter-widgets/controls",
      "model_module_version": "1.5.0",
      "model_name": "DescriptionStyleModel",
      "state": {
       "description_width": ""
      }
     },
     "6834ec0fadc049c0be9ddd4a61bc6102": {
      "model_module": "@jupyter-widgets/controls",
      "model_module_version": "1.5.0",
      "model_name": "FloatProgressModel",
      "state": {
       "bar_style": "success",
       "description": "100%",
       "layout": "IPY_MODEL_b7ad45e9075143fcb350b523ee9a588e",
       "max": 329155,
       "style": "IPY_MODEL_0b8f9935e76f40bbb6b04546325fd9f5",
       "value": 329155
      }
     },
     "689f7c2db5ce4a699bd1bad146594924": {
      "model_module": "@jupyter-widgets/base",
      "model_module_version": "1.2.0",
      "model_name": "LayoutModel",
      "state": {}
     },
     "68bcce2fd64c4a77829e9bc9e747c423": {
      "model_module": "@jupyter-widgets/controls",
      "model_module_version": "1.5.0",
      "model_name": "HTMLModel",
      "state": {
       "layout": "IPY_MODEL_a1de9a0fd46344039ffd7dde4013a68e",
       "style": "IPY_MODEL_78a82ba72f224bed9e387b99916c91cb",
       "value": " 373801/373801 [04:45&lt;00:00, 1308.60it/s]"
      }
     },
     "68e74e5b23e1422aa2816416dadf5ed4": {
      "model_module": "@jupyter-widgets/controls",
      "model_module_version": "1.5.0",
      "model_name": "ProgressStyleModel",
      "state": {
       "description_width": "initial"
      }
     },
     "69b84d2727974e8d8f0d1410da6e1d29": {
      "model_module": "@jupyter-widgets/base",
      "model_module_version": "1.2.0",
      "model_name": "LayoutModel",
      "state": {}
     },
     "6a66e72323f542c1b8638c052b806242": {
      "model_module": "@jupyter-widgets/controls",
      "model_module_version": "1.5.0",
      "model_name": "HBoxModel",
      "state": {
       "children": [
        "IPY_MODEL_8a00e48c68794567b8f7dd04dc6b37ed",
        "IPY_MODEL_8eaf9f1252c6415b843296b0e57f0a9d"
       ],
       "layout": "IPY_MODEL_15d655d749c2455abb9b2d7998cefd11"
      }
     },
     "6ae69f06102b4dd58fbfce6cc8855987": {
      "model_module": "@jupyter-widgets/base",
      "model_module_version": "1.2.0",
      "model_name": "LayoutModel",
      "state": {}
     },
     "6b2e912f4f05458fbd448bdf72cf9b25": {
      "model_module": "@jupyter-widgets/base",
      "model_module_version": "1.2.0",
      "model_name": "LayoutModel",
      "state": {}
     },
     "6b396b717b214a958e0f6a4ea695272c": {
      "model_module": "@jupyter-widgets/controls",
      "model_module_version": "1.5.0",
      "model_name": "HBoxModel",
      "state": {
       "children": [
        "IPY_MODEL_1096953c785d436d92f92a838d9fcace",
        "IPY_MODEL_b4252cd45b2b4458bc88440c9af75ae8"
       ],
       "layout": "IPY_MODEL_d0dd2164876342f897d1e888702a5a34"
      }
     },
     "6b42977019dd47e68f23b5d355dfe8b2": {
      "model_module": "@jupyter-widgets/base",
      "model_module_version": "1.2.0",
      "model_name": "LayoutModel",
      "state": {}
     },
     "6b661de8fc754f8ea4ed44bc64502d31": {
      "model_module": "@jupyter-widgets/controls",
      "model_module_version": "1.5.0",
      "model_name": "DescriptionStyleModel",
      "state": {
       "description_width": ""
      }
     },
     "6c4281b562f34c1ea3810281722c039a": {
      "model_module": "@jupyter-widgets/controls",
      "model_module_version": "1.5.0",
      "model_name": "HBoxModel",
      "state": {
       "children": [
        "IPY_MODEL_fa8d8290991a4979999d86e71f6ca078",
        "IPY_MODEL_275787625e3f4b0dba7736578b4c14e7"
       ],
       "layout": "IPY_MODEL_e082b3df6ece4722b83d965976b5e47a"
      }
     },
     "6d0773c4330c45429750b0be55a00043": {
      "model_module": "@jupyter-widgets/controls",
      "model_module_version": "1.5.0",
      "model_name": "FloatProgressModel",
      "state": {
       "bar_style": "danger",
       "description": "  0%",
       "layout": "IPY_MODEL_acdf7e676e324f70846a87c494a0a239",
       "max": 329155,
       "style": "IPY_MODEL_51fc0bce6bbc4c9e90ab53b68839960a"
      }
     },
     "6d1d98cdaae446bbaa5b3fd2062bd7bc": {
      "model_module": "@jupyter-widgets/base",
      "model_module_version": "1.2.0",
      "model_name": "LayoutModel",
      "state": {}
     },
     "6d3e014201ed4a29abc0c57828e3793b": {
      "model_module": "@jupyter-widgets/base",
      "model_module_version": "1.2.0",
      "model_name": "LayoutModel",
      "state": {}
     },
     "6e0de656a9424a7b8a855151527c05da": {
      "model_module": "@jupyter-widgets/base",
      "model_module_version": "1.2.0",
      "model_name": "LayoutModel",
      "state": {}
     },
     "6e3bb23bcbfd4c0c8de1524f42f51b33": {
      "model_module": "@jupyter-widgets/controls",
      "model_module_version": "1.5.0",
      "model_name": "FloatProgressModel",
      "state": {
       "bar_style": "success",
       "description": "100%",
       "layout": "IPY_MODEL_120912b2d7354d3591bafc93411c20d0",
       "max": 329155,
       "style": "IPY_MODEL_8db45b2486814c77a42cef4ca6a788b5",
       "value": 329155
      }
     },
     "6e4611104e1b4c599e37e11072767f86": {
      "model_module": "@jupyter-widgets/base",
      "model_module_version": "1.2.0",
      "model_name": "LayoutModel",
      "state": {}
     },
     "6e7f31b868c0442eb448ed062ba2b52d": {
      "model_module": "@jupyter-widgets/controls",
      "model_module_version": "1.5.0",
      "model_name": "FloatProgressModel",
      "state": {
       "bar_style": "success",
       "description": "100%",
       "layout": "IPY_MODEL_b09ed95ba9d04ba78e05be8d77cf4490",
       "max": 35259,
       "style": "IPY_MODEL_706e93794f0746a4b4d95ced1dfc8f3e",
       "value": 35259
      }
     },
     "6f29901928e24c6a945edcb34df8260a": {
      "model_module": "@jupyter-widgets/controls",
      "model_module_version": "1.5.0",
      "model_name": "HBoxModel",
      "state": {
       "children": [
        "IPY_MODEL_4da55c0cfd034e76b3a6e7072f3305e2",
        "IPY_MODEL_dfd16dd3e08541f89970e44d31496e11"
       ],
       "layout": "IPY_MODEL_9e0d4df89a22448da1203cb0a6afcdad"
      }
     },
     "6f42e31d3f50410392a2faeef9bc6060": {
      "model_module": "@jupyter-widgets/base",
      "model_module_version": "1.2.0",
      "model_name": "LayoutModel",
      "state": {}
     },
     "6f8ee7027a0040f1a8b379cd833ce021": {
      "model_module": "@jupyter-widgets/base",
      "model_module_version": "1.2.0",
      "model_name": "LayoutModel",
      "state": {}
     },
     "6fc7571e7070483baa663cfac10afc54": {
      "model_module": "@jupyter-widgets/controls",
      "model_module_version": "1.5.0",
      "model_name": "DescriptionStyleModel",
      "state": {
       "description_width": ""
      }
     },
     "6ff2e6b1d32e47a1858dde5e27675311": {
      "model_module": "@jupyter-widgets/base",
      "model_module_version": "1.2.0",
      "model_name": "LayoutModel",
      "state": {}
     },
     "70267df466cc4102bfebe718098ec175": {
      "model_module": "@jupyter-widgets/base",
      "model_module_version": "1.2.0",
      "model_name": "LayoutModel",
      "state": {}
     },
     "70499bf77fa04d088564cb6e2cd25b33": {
      "model_module": "@jupyter-widgets/base",
      "model_module_version": "1.2.0",
      "model_name": "LayoutModel",
      "state": {}
     },
     "704cc9161250416c90ec7795cce425dd": {
      "model_module": "@jupyter-widgets/controls",
      "model_module_version": "1.5.0",
      "model_name": "DescriptionStyleModel",
      "state": {
       "description_width": ""
      }
     },
     "706e93794f0746a4b4d95ced1dfc8f3e": {
      "model_module": "@jupyter-widgets/controls",
      "model_module_version": "1.5.0",
      "model_name": "ProgressStyleModel",
      "state": {
       "description_width": "initial"
      }
     },
     "708d2682d0c94c4ab881e371a5575637": {
      "model_module": "@jupyter-widgets/controls",
      "model_module_version": "1.5.0",
      "model_name": "HTMLModel",
      "state": {
       "layout": "IPY_MODEL_9c82bf06b4df43bc83dd533851c1b560",
       "style": "IPY_MODEL_937569646c054b2ea1bbe969b8b5f059",
       "value": " 329155/329155 [13:43&lt;00:00, 399.47it/s]"
      }
     },
     "70d2115e268a450f8e28f4ca9c1d6f8c": {
      "model_module": "@jupyter-widgets/base",
      "model_module_version": "1.2.0",
      "model_name": "LayoutModel",
      "state": {}
     },
     "71f47be47ba04fdc9ae6fc6f0a771ff7": {
      "model_module": "@jupyter-widgets/controls",
      "model_module_version": "1.5.0",
      "model_name": "DescriptionStyleModel",
      "state": {
       "description_width": ""
      }
     },
     "71f58f03bae343389a793a5e13f74ff4": {
      "model_module": "@jupyter-widgets/controls",
      "model_module_version": "1.5.0",
      "model_name": "HBoxModel",
      "state": {
       "children": [
        "IPY_MODEL_e554fee0f28e4ab5b1b73640a694dd1a",
        "IPY_MODEL_fabab0799dde4b1c94a262156fde27ff"
       ],
       "layout": "IPY_MODEL_f699fe7fccf54d2f832424b6ff1fb8fc"
      }
     },
     "71ff923c6ecc4970bbf1f5b15c5ffdf5": {
      "model_module": "@jupyter-widgets/controls",
      "model_module_version": "1.5.0",
      "model_name": "DescriptionStyleModel",
      "state": {
       "description_width": ""
      }
     },
     "720efbe3f6cb4307b6b2835a3c3eee19": {
      "model_module": "@jupyter-widgets/controls",
      "model_module_version": "1.5.0",
      "model_name": "DescriptionStyleModel",
      "state": {
       "description_width": ""
      }
     },
     "724cf55fd28645c49bbe736ce899066c": {
      "model_module": "@jupyter-widgets/base",
      "model_module_version": "1.2.0",
      "model_name": "LayoutModel",
      "state": {}
     },
     "72c15df5dc7c474d91980968e22db40a": {
      "model_module": "@jupyter-widgets/controls",
      "model_module_version": "1.5.0",
      "model_name": "FloatProgressModel",
      "state": {
       "bar_style": "success",
       "description": "100%",
       "layout": "IPY_MODEL_2c1f7cd5e3d54f01a05f6419865eab22",
       "max": 329155,
       "style": "IPY_MODEL_3d8125f8e5884968abcecb61d0058f67",
       "value": 329155
      }
     },
     "732c18e7c3844fe2aa0cb54a35142bf7": {
      "model_module": "@jupyter-widgets/controls",
      "model_module_version": "1.5.0",
      "model_name": "HBoxModel",
      "state": {
       "children": [
        "IPY_MODEL_675f4a0191d44dcd80c264ccf2a1e52a",
        "IPY_MODEL_4779ab7ec5f7462b86dcfd01fac28ad2"
       ],
       "layout": "IPY_MODEL_4b0e69e93cd34293a2961b60cc328b4e"
      }
     },
     "742915bee8624e3aa6c9fcaaeffe3bcb": {
      "model_module": "@jupyter-widgets/base",
      "model_module_version": "1.2.0",
      "model_name": "LayoutModel",
      "state": {}
     },
     "7459d700d6c7439a9ad42fa09957f998": {
      "model_module": "@jupyter-widgets/controls",
      "model_module_version": "1.5.0",
      "model_name": "FloatProgressModel",
      "state": {
       "bar_style": "success",
       "description": "100%",
       "layout": "IPY_MODEL_eed3fd10b4e9418a94b55577f7a8812b",
       "max": 329155,
       "style": "IPY_MODEL_f84fa1e2c2fe4cad844b6837957d23bc",
       "value": 329155
      }
     },
     "746530fe02244e4fa0f09b5dd06bbf02": {
      "model_module": "@jupyter-widgets/controls",
      "model_module_version": "1.5.0",
      "model_name": "DescriptionStyleModel",
      "state": {
       "description_width": ""
      }
     },
     "74a48241c5a5469c98f8038de7901436": {
      "model_module": "@jupyter-widgets/controls",
      "model_module_version": "1.5.0",
      "model_name": "DescriptionStyleModel",
      "state": {
       "description_width": ""
      }
     },
     "750aa77fc7744179a338f5cb64b6137a": {
      "model_module": "@jupyter-widgets/controls",
      "model_module_version": "1.5.0",
      "model_name": "FloatProgressModel",
      "state": {
       "bar_style": "danger",
       "description": "  0%",
       "layout": "IPY_MODEL_09dc85b7578f4b7ca36262d806e03293",
       "max": 329155,
       "style": "IPY_MODEL_41c8fdc564f648468ea9f4bc55153fe1"
      }
     },
     "753a307c035148d6bc8c948357ccf0ec": {
      "model_module": "@jupyter-widgets/base",
      "model_module_version": "1.2.0",
      "model_name": "LayoutModel",
      "state": {}
     },
     "7568c28eb2da49cc8063f74b22d3a9e4": {
      "model_module": "@jupyter-widgets/controls",
      "model_module_version": "1.5.0",
      "model_name": "DescriptionStyleModel",
      "state": {
       "description_width": ""
      }
     },
     "75a5d4299511417592b5b770975acbc7": {
      "model_module": "@jupyter-widgets/controls",
      "model_module_version": "1.5.0",
      "model_name": "FloatProgressModel",
      "state": {
       "bar_style": "success",
       "description": "100%",
       "layout": "IPY_MODEL_a117ac213e384b909d5eb9bf778ffe6f",
       "max": 329155,
       "style": "IPY_MODEL_c446bbe70fa740babe9d487efb2fcf13",
       "value": 329155
      }
     },
     "7609e7047e39489cb9685d64a211a543": {
      "model_module": "@jupyter-widgets/base",
      "model_module_version": "1.2.0",
      "model_name": "LayoutModel",
      "state": {}
     },
     "769866b3e93a403e81ea2cb3e1645e12": {
      "model_module": "@jupyter-widgets/controls",
      "model_module_version": "1.5.0",
      "model_name": "DescriptionStyleModel",
      "state": {
       "description_width": ""
      }
     },
     "76cd9bf9c80a407181c6d99d7ba3a131": {
      "model_module": "@jupyter-widgets/base",
      "model_module_version": "1.2.0",
      "model_name": "LayoutModel",
      "state": {}
     },
     "7741fd7a45124320865bd6a3a4e60888": {
      "model_module": "@jupyter-widgets/controls",
      "model_module_version": "1.5.0",
      "model_name": "ProgressStyleModel",
      "state": {
       "description_width": "initial"
      }
     },
     "7750c7f1539a4e8695931044dd6c04a2": {
      "model_module": "@jupyter-widgets/base",
      "model_module_version": "1.2.0",
      "model_name": "LayoutModel",
      "state": {}
     },
     "7799ec74a93946da9efaa966da6dc070": {
      "model_module": "@jupyter-widgets/controls",
      "model_module_version": "1.5.0",
      "model_name": "ProgressStyleModel",
      "state": {
       "description_width": "initial"
      }
     },
     "7827d552b198467794d8dbc6e619b649": {
      "model_module": "@jupyter-widgets/controls",
      "model_module_version": "1.5.0",
      "model_name": "DescriptionStyleModel",
      "state": {
       "description_width": ""
      }
     },
     "7872fa326fe64aa29c6eba335eb79fc0": {
      "model_module": "@jupyter-widgets/controls",
      "model_module_version": "1.5.0",
      "model_name": "ProgressStyleModel",
      "state": {
       "description_width": "initial"
      }
     },
     "787c35e995064c3291c87cd3c083cff2": {
      "model_module": "@jupyter-widgets/controls",
      "model_module_version": "1.5.0",
      "model_name": "ProgressStyleModel",
      "state": {
       "description_width": "initial"
      }
     },
     "78a82ba72f224bed9e387b99916c91cb": {
      "model_module": "@jupyter-widgets/controls",
      "model_module_version": "1.5.0",
      "model_name": "DescriptionStyleModel",
      "state": {
       "description_width": ""
      }
     },
     "78e5d02828224c6ca287a61e774f45be": {
      "model_module": "@jupyter-widgets/base",
      "model_module_version": "1.2.0",
      "model_name": "LayoutModel",
      "state": {}
     },
     "78ef1191ca5a43a987573dd8470d931d": {
      "model_module": "@jupyter-widgets/controls",
      "model_module_version": "1.5.0",
      "model_name": "FloatProgressModel",
      "state": {
       "bar_style": "danger",
       "description": "  8%",
       "layout": "IPY_MODEL_119952f40b0e4e9e986e2731e07d0f61",
       "max": 329155,
       "style": "IPY_MODEL_a83512dd5cdd4476890abfedb0fc7c86",
       "value": 27311
      }
     },
     "7949adb7bc474be88d0d6021623b8e3a": {
      "model_module": "@jupyter-widgets/controls",
      "model_module_version": "1.5.0",
      "model_name": "DescriptionStyleModel",
      "state": {
       "description_width": ""
      }
     },
     "795edd9d4f314a2c9b07ac45d03434fa": {
      "model_module": "@jupyter-widgets/controls",
      "model_module_version": "1.5.0",
      "model_name": "FloatProgressModel",
      "state": {
       "bar_style": "success",
       "description": "100%",
       "layout": "IPY_MODEL_a6dcdd7549ee4110bbc860aa51650349",
       "max": 329155,
       "style": "IPY_MODEL_fd4a62eacddd4781acaaa5d6430ffe89",
       "value": 329155
      }
     },
     "79bd20c3d566498c86d965821a6a5002": {
      "model_module": "@jupyter-widgets/base",
      "model_module_version": "1.2.0",
      "model_name": "LayoutModel",
      "state": {}
     },
     "79bf6a69d4264c6baf564b66d0d7c9ef": {
      "model_module": "@jupyter-widgets/base",
      "model_module_version": "1.2.0",
      "model_name": "LayoutModel",
      "state": {}
     },
     "79d209a09bb745dd9f1c52ce0f4ecf1c": {
      "model_module": "@jupyter-widgets/controls",
      "model_module_version": "1.5.0",
      "model_name": "DescriptionStyleModel",
      "state": {
       "description_width": ""
      }
     },
     "79e14ebe502c42739e7762932c87aac6": {
      "model_module": "@jupyter-widgets/controls",
      "model_module_version": "1.5.0",
      "model_name": "ProgressStyleModel",
      "state": {
       "description_width": "initial"
      }
     },
     "79f33e43a8f54e0891b55a9da5a8f5f7": {
      "model_module": "@jupyter-widgets/controls",
      "model_module_version": "1.5.0",
      "model_name": "FloatProgressModel",
      "state": {
       "bar_style": "danger",
       "description": "  0%",
       "layout": "IPY_MODEL_f215fd5b501e4e85b81712fcbd9eb39d",
       "max": 329155,
       "style": "IPY_MODEL_ffe3d8bd418f457b879765862b0f724a"
      }
     },
     "79fd3d1a595d4b668b086812ede03132": {
      "model_module": "@jupyter-widgets/base",
      "model_module_version": "1.2.0",
      "model_name": "LayoutModel",
      "state": {}
     },
     "7a75803110be489791aac2dbb337a0ec": {
      "model_module": "@jupyter-widgets/controls",
      "model_module_version": "1.5.0",
      "model_name": "DescriptionStyleModel",
      "state": {
       "description_width": ""
      }
     },
     "7aa0eef93c6348a7b065dfa0f47fb2d3": {
      "model_module": "@jupyter-widgets/base",
      "model_module_version": "1.2.0",
      "model_name": "LayoutModel",
      "state": {}
     },
     "7b1ba467694d4772ab9e7923e2ee9e79": {
      "model_module": "@jupyter-widgets/controls",
      "model_module_version": "1.5.0",
      "model_name": "HTMLModel",
      "state": {
       "layout": "IPY_MODEL_e0b78318adbf452ebfd5cde48fb97acb",
       "style": "IPY_MODEL_0bc28b8480f145c9a5f2f74a633de664",
       "value": " 329155/329155 [10:04&lt;00:00, 544.11it/s]"
      }
     },
     "7b5a8728bb9748e6b29613b0c9620d58": {
      "model_module": "@jupyter-widgets/controls",
      "model_module_version": "1.5.0",
      "model_name": "HTMLModel",
      "state": {
       "layout": "IPY_MODEL_f2728e22f8984e1093f061dba475d41c",
       "style": "IPY_MODEL_10086204f8bb45698ac03df2bd77ac15",
       "value": " 4/4 [53:39&lt;00:00, 804.99s/it]"
      }
     },
     "7b7ff670cec94e709f470287010ec854": {
      "model_module": "@jupyter-widgets/controls",
      "model_module_version": "1.5.0",
      "model_name": "HBoxModel",
      "state": {
       "children": [
        "IPY_MODEL_2e8099a95e69457c8a9be80e2d26b052",
        "IPY_MODEL_bddab6bc74dd4050afcaa9576e60aeb9"
       ],
       "layout": "IPY_MODEL_083399ddedff4b92a520a3dcf2b66aae"
      }
     },
     "7b9a045f6d0849fdbc1ff918d84030eb": {
      "model_module": "@jupyter-widgets/base",
      "model_module_version": "1.2.0",
      "model_name": "LayoutModel",
      "state": {}
     },
     "7bc70f1f7e454eb493ec7028b2f09263": {
      "model_module": "@jupyter-widgets/base",
      "model_module_version": "1.2.0",
      "model_name": "LayoutModel",
      "state": {}
     },
     "7c02a265fbe149d1a362dbb0b74441e0": {
      "model_module": "@jupyter-widgets/base",
      "model_module_version": "1.2.0",
      "model_name": "LayoutModel",
      "state": {}
     },
     "7c1907d0d8214c968a05bd07c596b185": {
      "model_module": "@jupyter-widgets/base",
      "model_module_version": "1.2.0",
      "model_name": "LayoutModel",
      "state": {}
     },
     "7c219b8ff03d4267bdabd7eddf308930": {
      "model_module": "@jupyter-widgets/base",
      "model_module_version": "1.2.0",
      "model_name": "LayoutModel",
      "state": {}
     },
     "7c257d9574d04908acb92acd76a6c391": {
      "model_module": "@jupyter-widgets/controls",
      "model_module_version": "1.5.0",
      "model_name": "FloatProgressModel",
      "state": {
       "bar_style": "success",
       "description": "100%",
       "layout": "IPY_MODEL_e214e4213d21493eb3ca5835c7a2d2d5",
       "max": 329155,
       "style": "IPY_MODEL_c73dd7781eb44b8eb9695b831ad579d0",
       "value": 329155
      }
     },
     "7c37d8d091d84da1b4d4665ce680f385": {
      "model_module": "@jupyter-widgets/controls",
      "model_module_version": "1.5.0",
      "model_name": "FloatProgressModel",
      "state": {
       "bar_style": "success",
       "description": "100%",
       "layout": "IPY_MODEL_6573f920fc4b4bba91145ec908c54936",
       "max": 1,
       "style": "IPY_MODEL_418b84adc3494b51960bc669e69dcc28",
       "value": 1
      }
     },
     "7ce311f27d3f4bc2affc307ae3716968": {
      "model_module": "@jupyter-widgets/base",
      "model_module_version": "1.2.0",
      "model_name": "LayoutModel",
      "state": {}
     },
     "7cfb982cd4364765ab5cfce9de5b7827": {
      "model_module": "@jupyter-widgets/controls",
      "model_module_version": "1.5.0",
      "model_name": "ProgressStyleModel",
      "state": {
       "description_width": "initial"
      }
     },
     "7d40625389a74536aaac637af1fadc05": {
      "model_module": "@jupyter-widgets/controls",
      "model_module_version": "1.5.0",
      "model_name": "DescriptionStyleModel",
      "state": {
       "description_width": ""
      }
     },
     "7d944b66771b471ea3e85a386150a704": {
      "model_module": "@jupyter-widgets/base",
      "model_module_version": "1.2.0",
      "model_name": "LayoutModel",
      "state": {}
     },
     "7db3f1a18c2d49bab3175ea0096aecff": {
      "model_module": "@jupyter-widgets/controls",
      "model_module_version": "1.5.0",
      "model_name": "DescriptionStyleModel",
      "state": {
       "description_width": ""
      }
     },
     "7dcce3792ab3451da3453e2e021e901b": {
      "model_module": "@jupyter-widgets/base",
      "model_module_version": "1.2.0",
      "model_name": "LayoutModel",
      "state": {}
     },
     "7dff5dab1d1d451d8ddff0ef84bf63c9": {
      "model_module": "@jupyter-widgets/controls",
      "model_module_version": "1.5.0",
      "model_name": "FloatProgressModel",
      "state": {
       "bar_style": "success",
       "description": "100%",
       "layout": "IPY_MODEL_d30369a24c0f4bedb961849f68c37a67",
       "max": 329155,
       "style": "IPY_MODEL_60f8d6a2c0cc4436a9dec1a57b2fb020",
       "value": 329155
      }
     },
     "7e46cfec07b6473eab305f7c096d123f": {
      "model_module": "@jupyter-widgets/controls",
      "model_module_version": "1.5.0",
      "model_name": "HTMLModel",
      "state": {
       "layout": "IPY_MODEL_b1697a69c6ed4a8bb89f57d38f8b7dcb",
       "style": "IPY_MODEL_927cdc2ce06f49d1a190ed7241855cc2",
       "value": " 35259/35259 [00:02&lt;00:00, 13600.67it/s]"
      }
     },
     "7ee84fa2ac604424bae1e46ceec1300c": {
      "model_module": "@jupyter-widgets/controls",
      "model_module_version": "1.5.0",
      "model_name": "HTMLModel",
      "state": {
       "layout": "IPY_MODEL_085d1a56144c43e1bd5458551526db34",
       "style": "IPY_MODEL_bf2a9e0b8eb24aafa2a053f51bd5ec5b",
       "value": " 329155/329155 [20:10&lt;00:00, 271.91it/s]"
      }
     },
     "7f7027a766404a51966867c0cc60e553": {
      "model_module": "@jupyter-widgets/controls",
      "model_module_version": "1.5.0",
      "model_name": "HBoxModel",
      "state": {
       "children": [
        "IPY_MODEL_446ffda9edc447aa803a0741bb7d4504",
        "IPY_MODEL_9b3b81fa35a14a598e14e765ddee4f8c"
       ],
       "layout": "IPY_MODEL_c4c26470b0e74752af38dc6996111a04"
      }
     },
     "800e6e23eb434101a5720c6695f1ecb0": {
      "model_module": "@jupyter-widgets/base",
      "model_module_version": "1.2.0",
      "model_name": "LayoutModel",
      "state": {}
     },
     "80289058bc174075a7351268546c1ba6": {
      "model_module": "@jupyter-widgets/base",
      "model_module_version": "1.2.0",
      "model_name": "LayoutModel",
      "state": {}
     },
     "80344fbbae634c54b0283f866208060f": {
      "model_module": "@jupyter-widgets/controls",
      "model_module_version": "1.5.0",
      "model_name": "DescriptionStyleModel",
      "state": {
       "description_width": ""
      }
     },
     "805fcd9805c64bbb945f3d36d07bb4ae": {
      "model_module": "@jupyter-widgets/controls",
      "model_module_version": "1.5.0",
      "model_name": "DescriptionStyleModel",
      "state": {
       "description_width": ""
      }
     },
     "810a23b43e8b49059933931046502273": {
      "model_module": "@jupyter-widgets/controls",
      "model_module_version": "1.5.0",
      "model_name": "DescriptionStyleModel",
      "state": {
       "description_width": ""
      }
     },
     "811975366c5747398936fe1e6a90e94d": {
      "model_module": "@jupyter-widgets/base",
      "model_module_version": "1.2.0",
      "model_name": "LayoutModel",
      "state": {}
     },
     "819978d3617a4b91934a956b90458437": {
      "model_module": "@jupyter-widgets/controls",
      "model_module_version": "1.5.0",
      "model_name": "FloatProgressModel",
      "state": {
       "bar_style": "danger",
       "description": "  0%",
       "layout": "IPY_MODEL_2b3dafde1a2245f4b4cb96eb831defee",
       "max": 329155,
       "style": "IPY_MODEL_787c35e995064c3291c87cd3c083cff2"
      }
     },
     "81b5cb6b90f64d688ad4cc25a4702eeb": {
      "model_module": "@jupyter-widgets/controls",
      "model_module_version": "1.5.0",
      "model_name": "HBoxModel",
      "state": {
       "children": [
        "IPY_MODEL_1337df327ffd421d83b855c10413c175",
        "IPY_MODEL_e6a0ce778b4d41df8a3d1135c7d6126c"
       ],
       "layout": "IPY_MODEL_c120c5e347a740c2a90fa0300367677f"
      }
     },
     "81bf5e17287747b4abe15c0665fbe346": {
      "model_module": "@jupyter-widgets/base",
      "model_module_version": "1.2.0",
      "model_name": "LayoutModel",
      "state": {}
     },
     "82cd0a6ce18246ba90924d95652e277d": {
      "model_module": "@jupyter-widgets/controls",
      "model_module_version": "1.5.0",
      "model_name": "DescriptionStyleModel",
      "state": {
       "description_width": ""
      }
     },
     "83ef05e23a844443949d5c43c54ffce2": {
      "model_module": "@jupyter-widgets/controls",
      "model_module_version": "1.5.0",
      "model_name": "HBoxModel",
      "state": {
       "children": [
        "IPY_MODEL_ead2fd826e714354b5d374f92571333d",
        "IPY_MODEL_2458bcc1dedd421c86a2276a3fe48f14"
       ],
       "layout": "IPY_MODEL_9e52ff7c7a214a8295ef81ac26a1604a"
      }
     },
     "83fb9a9281f24fc48367866857369e7c": {
      "model_module": "@jupyter-widgets/controls",
      "model_module_version": "1.5.0",
      "model_name": "DescriptionStyleModel",
      "state": {
       "description_width": ""
      }
     },
     "8420b9d965904efd8414a7e2daa375d2": {
      "model_module": "@jupyter-widgets/controls",
      "model_module_version": "1.5.0",
      "model_name": "DescriptionStyleModel",
      "state": {
       "description_width": ""
      }
     },
     "84a1de17fe554c6c858d06c3dd80eb60": {
      "model_module": "@jupyter-widgets/base",
      "model_module_version": "1.2.0",
      "model_name": "LayoutModel",
      "state": {}
     },
     "84f380aacfe642049003360e12020fc0": {
      "model_module": "@jupyter-widgets/controls",
      "model_module_version": "1.5.0",
      "model_name": "ProgressStyleModel",
      "state": {
       "description_width": "initial"
      }
     },
     "8575e2ef63994bbf8790a46272184d81": {
      "model_module": "@jupyter-widgets/base",
      "model_module_version": "1.2.0",
      "model_name": "LayoutModel",
      "state": {}
     },
     "85ec9c0874af4a1994ead39e338576d7": {
      "model_module": "@jupyter-widgets/controls",
      "model_module_version": "1.5.0",
      "model_name": "HTMLModel",
      "state": {
       "layout": "IPY_MODEL_b37040b6abc1496e97e15bf8d3473039",
       "style": "IPY_MODEL_82cd0a6ce18246ba90924d95652e277d",
       "value": " 329155/329155 [2:40:52&lt;00:00, 34.10it/s]"
      }
     },
     "8614093c36094784be88bd3594792421": {
      "model_module": "@jupyter-widgets/base",
      "model_module_version": "1.2.0",
      "model_name": "LayoutModel",
      "state": {}
     },
     "865eb29090954c8fa833f40936f9886c": {
      "model_module": "@jupyter-widgets/controls",
      "model_module_version": "1.5.0",
      "model_name": "HTMLModel",
      "state": {
       "layout": "IPY_MODEL_90ca10688d8449bab9c3efc688bd8961",
       "style": "IPY_MODEL_a09c708b6eae4872b6d480243b998ab5",
       "value": " 329155/329155 [10:08&lt;00:00, 541.27it/s]"
      }
     },
     "8679eeded881468c9cb65943987c818d": {
      "model_module": "@jupyter-widgets/base",
      "model_module_version": "1.2.0",
      "model_name": "LayoutModel",
      "state": {}
     },
     "868af0b6a05d414b9cde07dc6928dcfc": {
      "model_module": "@jupyter-widgets/base",
      "model_module_version": "1.2.0",
      "model_name": "LayoutModel",
      "state": {}
     },
     "86ae1cb3f66a4f00871fdf0a184287ec": {
      "model_module": "@jupyter-widgets/base",
      "model_module_version": "1.2.0",
      "model_name": "LayoutModel",
      "state": {}
     },
     "873af2c892e64492b6c6c0dae6abe7c7": {
      "model_module": "@jupyter-widgets/base",
      "model_module_version": "1.2.0",
      "model_name": "LayoutModel",
      "state": {}
     },
     "8789a87f7fef4f6980a7745edab68fda": {
      "model_module": "@jupyter-widgets/controls",
      "model_module_version": "1.5.0",
      "model_name": "ProgressStyleModel",
      "state": {
       "description_width": "initial"
      }
     },
     "878e5bfffa79451c875ac6a145e4b9df": {
      "model_module": "@jupyter-widgets/controls",
      "model_module_version": "1.5.0",
      "model_name": "ProgressStyleModel",
      "state": {
       "description_width": "initial"
      }
     },
     "88bd848536fc46b5aa5ea6bc8f056be6": {
      "model_module": "@jupyter-widgets/controls",
      "model_module_version": "1.5.0",
      "model_name": "HTMLModel",
      "state": {
       "layout": "IPY_MODEL_926572ed335e434991d9ef8daf35b2f6",
       "style": "IPY_MODEL_f06ad5f9491a40018d784e61f62888a9",
       "value": " 35259/35259 [10:17:03&lt;00:00,  1.05s/it]"
      }
     },
     "88f08c424aed481f9f148f17a3396c38": {
      "model_module": "@jupyter-widgets/base",
      "model_module_version": "1.2.0",
      "model_name": "LayoutModel",
      "state": {}
     },
     "8915f890fb9c44579cac63e8a221b6f3": {
      "model_module": "@jupyter-widgets/base",
      "model_module_version": "1.2.0",
      "model_name": "LayoutModel",
      "state": {}
     },
     "892abe34f96840df8106a5ba6098a63d": {
      "model_module": "@jupyter-widgets/controls",
      "model_module_version": "1.5.0",
      "model_name": "ProgressStyleModel",
      "state": {
       "description_width": "initial"
      }
     },
     "897861a496fd41e3bd88edf27108e682": {
      "model_module": "@jupyter-widgets/controls",
      "model_module_version": "1.5.0",
      "model_name": "DescriptionStyleModel",
      "state": {
       "description_width": ""
      }
     },
     "89fe229252774ea0b1b53a945e34ba97": {
      "model_module": "@jupyter-widgets/base",
      "model_module_version": "1.2.0",
      "model_name": "LayoutModel",
      "state": {}
     },
     "8a00e48c68794567b8f7dd04dc6b37ed": {
      "model_module": "@jupyter-widgets/controls",
      "model_module_version": "1.5.0",
      "model_name": "FloatProgressModel",
      "state": {
       "bar_style": "danger",
       "description": "  0%",
       "layout": "IPY_MODEL_032b9d9ad118416292d70d9f7205a810",
       "max": 329155,
       "style": "IPY_MODEL_37603f02fa2b4cf3874e2b7724364035"
      }
     },
     "8a0f0c98707d4e16b2a52f4288a1b7ef": {
      "model_module": "@jupyter-widgets/base",
      "model_module_version": "1.2.0",
      "model_name": "LayoutModel",
      "state": {}
     },
     "8a1d30a7b8e046ddb1d01344eb15328b": {
      "model_module": "@jupyter-widgets/controls",
      "model_module_version": "1.5.0",
      "model_name": "DescriptionStyleModel",
      "state": {
       "description_width": ""
      }
     },
     "8a218d0bf2a54632b3e08fb466da02c8": {
      "model_module": "@jupyter-widgets/controls",
      "model_module_version": "1.5.0",
      "model_name": "HTMLModel",
      "state": {
       "layout": "IPY_MODEL_67bfd9a0aba24bc4a86293cb8705f8e1",
       "style": "IPY_MODEL_b67ae9aec38140ea86d9006acf2e58fb",
       "value": " 52058/329155 [00:12&lt;01:44, 2649.40it/s]"
      }
     },
     "8a4e5f793fe04215ae1079f5c3f06067": {
      "model_module": "@jupyter-widgets/controls",
      "model_module_version": "1.5.0",
      "model_name": "DescriptionStyleModel",
      "state": {
       "description_width": ""
      }
     },
     "8a7ee232ef404f9ba5f05e67722ad386": {
      "model_module": "@jupyter-widgets/controls",
      "model_module_version": "1.5.0",
      "model_name": "DescriptionStyleModel",
      "state": {
       "description_width": ""
      }
     },
     "8aa671396bf746be942f0ec13aff398e": {
      "model_module": "@jupyter-widgets/base",
      "model_module_version": "1.2.0",
      "model_name": "LayoutModel",
      "state": {}
     },
     "8aa766d6cc4e4feba64e0ded94f09868": {
      "model_module": "@jupyter-widgets/controls",
      "model_module_version": "1.5.0",
      "model_name": "FloatProgressModel",
      "state": {
       "bar_style": "success",
       "description": "100%",
       "layout": "IPY_MODEL_4b15eb6964c2403281a2e0130463543c",
       "max": 329155,
       "style": "IPY_MODEL_9ea228a1cf76413da36ab69d73e4e18f",
       "value": 329155
      }
     },
     "8bef86054ac749edb28bbf843f835dd1": {
      "model_module": "@jupyter-widgets/controls",
      "model_module_version": "1.5.0",
      "model_name": "HBoxModel",
      "state": {
       "children": [
        "IPY_MODEL_09f73d8fff9e46a29cd0c378aa989ff6",
        "IPY_MODEL_4b12e67f19bd488d805f44162e6175e2"
       ],
       "layout": "IPY_MODEL_589efbd2470c4c08adf9ab6f1ac85616"
      }
     },
     "8bff848d92c24be79a388db8ea209b51": {
      "model_module": "@jupyter-widgets/base",
      "model_module_version": "1.2.0",
      "model_name": "LayoutModel",
      "state": {}
     },
     "8c954a1763c14cf99b9434ebf7c8df5e": {
      "model_module": "@jupyter-widgets/controls",
      "model_module_version": "1.5.0",
      "model_name": "FloatProgressModel",
      "state": {
       "bar_style": "success",
       "description": "100%",
       "layout": "IPY_MODEL_e2ef190b845e41c38b6262cbab95c2ab",
       "max": 35259,
       "style": "IPY_MODEL_9ae3aea4071a42209b6833b78063c529",
       "value": 35259
      }
     },
     "8d54532d2f124f56b23f7e2d400e4974": {
      "model_module": "@jupyter-widgets/base",
      "model_module_version": "1.2.0",
      "model_name": "LayoutModel",
      "state": {}
     },
     "8db45b2486814c77a42cef4ca6a788b5": {
      "model_module": "@jupyter-widgets/controls",
      "model_module_version": "1.5.0",
      "model_name": "ProgressStyleModel",
      "state": {
       "description_width": "initial"
      }
     },
     "8df9443d70db4f80af24372d3dc761f5": {
      "model_module": "@jupyter-widgets/base",
      "model_module_version": "1.2.0",
      "model_name": "LayoutModel",
      "state": {}
     },
     "8e89c9c295884f3bbdefb15b19318297": {
      "model_module": "@jupyter-widgets/base",
      "model_module_version": "1.2.0",
      "model_name": "LayoutModel",
      "state": {}
     },
     "8eaf9f1252c6415b843296b0e57f0a9d": {
      "model_module": "@jupyter-widgets/controls",
      "model_module_version": "1.5.0",
      "model_name": "HTMLModel",
      "state": {
       "layout": "IPY_MODEL_5abdf12aaa1a49958d2ff622b560e1d7",
       "style": "IPY_MODEL_b704d42702d042b1a78ff46158a75056",
       "value": " 0/329155 [01:10&lt;?, ?it/s]"
      }
     },
     "8eceee3de62942d990fac17b5e34e72c": {
      "model_module": "@jupyter-widgets/controls",
      "model_module_version": "1.5.0",
      "model_name": "HBoxModel",
      "state": {
       "children": [
        "IPY_MODEL_94ad7ffc11ca4962864c658271bf7364",
        "IPY_MODEL_b465ac1235984a29a00abedb70ba5f5d"
       ],
       "layout": "IPY_MODEL_6b42977019dd47e68f23b5d355dfe8b2"
      }
     },
     "8f6c70a665f64108b2a5e3f996031d2f": {
      "model_module": "@jupyter-widgets/controls",
      "model_module_version": "1.5.0",
      "model_name": "ProgressStyleModel",
      "state": {
       "description_width": "initial"
      }
     },
     "8f7526a0e0ce4cceaf4bc4ba01a940e3": {
      "model_module": "@jupyter-widgets/base",
      "model_module_version": "1.2.0",
      "model_name": "LayoutModel",
      "state": {}
     },
     "90176780b9d64af6b5abb0644eb8a613": {
      "model_module": "@jupyter-widgets/base",
      "model_module_version": "1.2.0",
      "model_name": "LayoutModel",
      "state": {}
     },
     "901efa42437e43d7813cc6c015c3d003": {
      "model_module": "@jupyter-widgets/base",
      "model_module_version": "1.2.0",
      "model_name": "LayoutModel",
      "state": {}
     },
     "90ca10688d8449bab9c3efc688bd8961": {
      "model_module": "@jupyter-widgets/base",
      "model_module_version": "1.2.0",
      "model_name": "LayoutModel",
      "state": {}
     },
     "90ea262cc4cd4b148df4c03feb4bc565": {
      "model_module": "@jupyter-widgets/controls",
      "model_module_version": "1.5.0",
      "model_name": "ProgressStyleModel",
      "state": {
       "description_width": "initial"
      }
     },
     "913d84264e784e9e9f30736d3ec0676b": {
      "model_module": "@jupyter-widgets/controls",
      "model_module_version": "1.5.0",
      "model_name": "DescriptionStyleModel",
      "state": {
       "description_width": ""
      }
     },
     "91e49c5aeb0a48b9a84dd392f825b164": {
      "model_module": "@jupyter-widgets/controls",
      "model_module_version": "1.5.0",
      "model_name": "HBoxModel",
      "state": {
       "children": [
        "IPY_MODEL_00be969ad76f48b3b780cf57f5924e3d",
        "IPY_MODEL_45e000c01b144efdb831db875fc664e9"
       ],
       "layout": "IPY_MODEL_32dab3bc4e074bd6a52a8b2ec8c9a1e8"
      }
     },
     "9240a1d922fd45858fdef565a672b082": {
      "model_module": "@jupyter-widgets/base",
      "model_module_version": "1.2.0",
      "model_name": "LayoutModel",
      "state": {}
     },
     "9255989d812341b78cb5e94817d6f934": {
      "model_module": "@jupyter-widgets/controls",
      "model_module_version": "1.5.0",
      "model_name": "FloatProgressModel",
      "state": {
       "bar_style": "success",
       "description": "100%",
       "layout": "IPY_MODEL_ba78ad7f023a4a738780ebc35b53ed0f",
       "max": 329155,
       "style": "IPY_MODEL_b32a32fdce2a4a1896f57632ff669542",
       "value": 329155
      }
     },
     "925be7c22f2a484683f718e5ff48c26a": {
      "model_module": "@jupyter-widgets/controls",
      "model_module_version": "1.5.0",
      "model_name": "ProgressStyleModel",
      "state": {
       "description_width": "initial"
      }
     },
     "926572ed335e434991d9ef8daf35b2f6": {
      "model_module": "@jupyter-widgets/base",
      "model_module_version": "1.2.0",
      "model_name": "LayoutModel",
      "state": {}
     },
     "92766eec789a402898498df38644e771": {
      "model_module": "@jupyter-widgets/controls",
      "model_module_version": "1.5.0",
      "model_name": "HTMLModel",
      "state": {
       "layout": "IPY_MODEL_4f791562e7824ab9b4aca9dece98a321",
       "style": "IPY_MODEL_a34f69537314437c820a1c19a5c09036",
       "value": " 4/4 [52:03&lt;00:00, 780.90s/it]"
      }
     },
     "927cdc2ce06f49d1a190ed7241855cc2": {
      "model_module": "@jupyter-widgets/controls",
      "model_module_version": "1.5.0",
      "model_name": "DescriptionStyleModel",
      "state": {
       "description_width": ""
      }
     },
     "92e585b4f80248f1a7c16206fd0a2866": {
      "model_module": "@jupyter-widgets/base",
      "model_module_version": "1.2.0",
      "model_name": "LayoutModel",
      "state": {}
     },
     "934fef8bbba442d69cbbb38339dc230a": {
      "model_module": "@jupyter-widgets/controls",
      "model_module_version": "1.5.0",
      "model_name": "FloatProgressModel",
      "state": {
       "bar_style": "success",
       "description": "100%",
       "layout": "IPY_MODEL_636c2928cd7944fe9a4a4a886f91478f",
       "max": 329155,
       "style": "IPY_MODEL_e307d8f8c4c84084b9d2cf32d18361e6",
       "value": 329155
      }
     },
     "937569646c054b2ea1bbe969b8b5f059": {
      "model_module": "@jupyter-widgets/controls",
      "model_module_version": "1.5.0",
      "model_name": "DescriptionStyleModel",
      "state": {
       "description_width": ""
      }
     },
     "9405cbdd09144d9fb6611e74d1fd61ce": {
      "model_module": "@jupyter-widgets/controls",
      "model_module_version": "1.5.0",
      "model_name": "HBoxModel",
      "state": {
       "children": [
        "IPY_MODEL_a35a697ccc62465687a1fafb56ddca5c",
        "IPY_MODEL_4eac0b7a0ed84ae59b54bd9ff9609f38"
       ],
       "layout": "IPY_MODEL_030a42e6e2a445d786873a1abaf4e4cd"
      }
     },
     "942bb24129614bd3b2b307b9128a41de": {
      "model_module": "@jupyter-widgets/controls",
      "model_module_version": "1.5.0",
      "model_name": "DescriptionStyleModel",
      "state": {
       "description_width": ""
      }
     },
     "943bb119665b4582982a10ab0fdaec03": {
      "model_module": "@jupyter-widgets/base",
      "model_module_version": "1.2.0",
      "model_name": "LayoutModel",
      "state": {}
     },
     "947475610d814f6a8f897c1d390806d8": {
      "model_module": "@jupyter-widgets/controls",
      "model_module_version": "1.5.0",
      "model_name": "HTMLModel",
      "state": {
       "layout": "IPY_MODEL_8614093c36094784be88bd3594792421",
       "style": "IPY_MODEL_6fc7571e7070483baa663cfac10afc54",
       "value": " 0/329155 [00:00&lt;?, ?it/s]"
      }
     },
     "94847ae1e07c40009b54fd10dbed2ec1": {
      "model_module": "@jupyter-widgets/controls",
      "model_module_version": "1.5.0",
      "model_name": "ProgressStyleModel",
      "state": {
       "description_width": "initial"
      }
     },
     "949a56c7085144bcb85663b0224dd454": {
      "model_module": "@jupyter-widgets/controls",
      "model_module_version": "1.5.0",
      "model_name": "HTMLModel",
      "state": {
       "layout": "IPY_MODEL_3753070638cf4f969b327a4e51a1c5ba",
       "style": "IPY_MODEL_f2d36d8887db4e63833e1fa14c359f83",
       "value": " 329155/329155 [14:00&lt;00:00, 391.66it/s]"
      }
     },
     "94ad7ffc11ca4962864c658271bf7364": {
      "model_module": "@jupyter-widgets/controls",
      "model_module_version": "1.5.0",
      "model_name": "FloatProgressModel",
      "state": {
       "bar_style": "success",
       "description": "100%",
       "layout": "IPY_MODEL_d59ad4248cf6454c90b994b1afd7729c",
       "max": 4,
       "style": "IPY_MODEL_d9398fe4406948bea1445caa324101c6",
       "value": 4
      }
     },
     "95279d663a044f36bdd2029ebf582b1f": {
      "model_module": "@jupyter-widgets/base",
      "model_module_version": "1.2.0",
      "model_name": "LayoutModel",
      "state": {}
     },
     "9532b036f1b443f5be092db8c8c87c6c": {
      "model_module": "@jupyter-widgets/base",
      "model_module_version": "1.2.0",
      "model_name": "LayoutModel",
      "state": {}
     },
     "95340d3ff86042728ed6ff97ddaabb7e": {
      "model_module": "@jupyter-widgets/controls",
      "model_module_version": "1.5.0",
      "model_name": "FloatProgressModel",
      "state": {
       "bar_style": "success",
       "description": "Reading word vectors: 100%",
       "layout": "IPY_MODEL_d648054077fa4cf4b5f56aceb9030aff",
       "max": 4027169,
       "style": "IPY_MODEL_b6f34c74ee284c1a942a1ef46393ca61",
       "value": 4027169
      }
     },
     "9568a3433f384b4981033326f98dc5bf": {
      "model_module": "@jupyter-widgets/controls",
      "model_module_version": "1.5.0",
      "model_name": "ProgressStyleModel",
      "state": {
       "description_width": "initial"
      }
     },
     "957f90db2c1a49d787daff3dde01cb68": {
      "model_module": "@jupyter-widgets/base",
      "model_module_version": "1.2.0",
      "model_name": "LayoutModel",
      "state": {}
     },
     "9585d08ec20e4d1f9ae2535857019378": {
      "model_module": "@jupyter-widgets/base",
      "model_module_version": "1.2.0",
      "model_name": "LayoutModel",
      "state": {}
     },
     "959c2406d9844b06a6098a3fc4daf483": {
      "model_module": "@jupyter-widgets/base",
      "model_module_version": "1.2.0",
      "model_name": "LayoutModel",
      "state": {}
     },
     "95c4291b4d56435cb1535e8d65c1ef9c": {
      "model_module": "@jupyter-widgets/base",
      "model_module_version": "1.2.0",
      "model_name": "LayoutModel",
      "state": {}
     },
     "95c89da6e8924813b6b21e3a055af19b": {
      "model_module": "@jupyter-widgets/controls",
      "model_module_version": "1.5.0",
      "model_name": "HTMLModel",
      "state": {
       "layout": "IPY_MODEL_3ab84c1c90cd45359e8630015bf5556d",
       "style": "IPY_MODEL_048c27caa814456cb3d466811f1cb6e5",
       "value": " 329155/329155 [9:08:27&lt;00:00, 10.00it/s]"
      }
     },
     "95fd4a7e4f184dfdb71987435e08ec26": {
      "model_module": "@jupyter-widgets/controls",
      "model_module_version": "1.5.0",
      "model_name": "FloatProgressModel",
      "state": {
       "bar_style": "success",
       "description": "100%",
       "layout": "IPY_MODEL_11814a7c849e41feb9ba53a87142c975",
       "max": 329155,
       "style": "IPY_MODEL_7741fd7a45124320865bd6a3a4e60888",
       "value": 329155
      }
     },
     "965b20f2d0524c1f8641813ea1ae036e": {
      "model_module": "@jupyter-widgets/controls",
      "model_module_version": "1.5.0",
      "model_name": "FloatProgressModel",
      "state": {
       "bar_style": "success",
       "description": "100%",
       "layout": "IPY_MODEL_3dbcf0d669aa4b7597dfca49723e54fc",
       "max": 329155,
       "style": "IPY_MODEL_327103274d7d42a2a6d0a2eab8a255bb",
       "value": 329155
      }
     },
     "9668e76eb1e447b88fbc9e4cabf7f9a6": {
      "model_module": "@jupyter-widgets/controls",
      "model_module_version": "1.5.0",
      "model_name": "HTMLModel",
      "state": {
       "layout": "IPY_MODEL_42b59d3fb1a344b295332b57c12d9168",
       "style": "IPY_MODEL_913d84264e784e9e9f30736d3ec0676b",
       "value": " 60871/329155 [00:30&lt;01:06, 4054.25it/s]"
      }
     },
     "9682558d9ce8448aa6c5c27db1e45aae": {
      "model_module": "@jupyter-widgets/base",
      "model_module_version": "1.2.0",
      "model_name": "LayoutModel",
      "state": {}
     },
     "96f7dc60ed534fc28ae429368058e60f": {
      "model_module": "@jupyter-widgets/controls",
      "model_module_version": "1.5.0",
      "model_name": "DescriptionStyleModel",
      "state": {
       "description_width": ""
      }
     },
     "976410f60f41452ba39f7149f6917ba0": {
      "model_module": "@jupyter-widgets/controls",
      "model_module_version": "1.5.0",
      "model_name": "HTMLModel",
      "state": {
       "layout": "IPY_MODEL_3a42d73a411c4b05b4db01ce5468da96",
       "style": "IPY_MODEL_f050babbe37b4cabb9130b75370fb987",
       "value": " 329155/329155 [20:06&lt;00:00, 272.89it/s]"
      }
     },
     "977b8446a2e446149e888810fee02b2b": {
      "model_module": "@jupyter-widgets/controls",
      "model_module_version": "1.5.0",
      "model_name": "HBoxModel",
      "state": {
       "children": [
        "IPY_MODEL_d3c5f2a3e1c04e7a92a61835ea5434a2",
        "IPY_MODEL_29e6de6e0810474db2ccc6c7d53650ed"
       ],
       "layout": "IPY_MODEL_f599067262ab4ff2b3802a0b237008fa"
      }
     },
     "97bfd56c42094f32a5483210c2c08395": {
      "model_module": "@jupyter-widgets/base",
      "model_module_version": "1.2.0",
      "model_name": "LayoutModel",
      "state": {}
     },
     "98a83d6fbdad425180cc135b648ac472": {
      "model_module": "@jupyter-widgets/base",
      "model_module_version": "1.2.0",
      "model_name": "LayoutModel",
      "state": {}
     },
     "98ab232262d949889b1a70d67d5e505b": {
      "model_module": "@jupyter-widgets/controls",
      "model_module_version": "1.5.0",
      "model_name": "HBoxModel",
      "state": {
       "children": [
        "IPY_MODEL_d8c6365dc3d54fa2aedbb5517b5f596c",
        "IPY_MODEL_decff4d185bc4344b49ceddbf4dd7157"
       ],
       "layout": "IPY_MODEL_37c7dbe58b304abe801a917f6ef59ec5"
      }
     },
     "98af491471ac4e7a98939830d7ef1d95": {
      "model_module": "@jupyter-widgets/controls",
      "model_module_version": "1.5.0",
      "model_name": "HTMLModel",
      "state": {
       "layout": "IPY_MODEL_299cffb0bc5e46f6a57c17395781cbad",
       "style": "IPY_MODEL_348a7aa10f5e428fbf1290211237b78e",
       "value": " 329155/329155 [10:02&lt;00:00, 545.94it/s]"
      }
     },
     "991a96af7b654d81aef70e6553a604ce": {
      "model_module": "@jupyter-widgets/base",
      "model_module_version": "1.2.0",
      "model_name": "LayoutModel",
      "state": {}
     },
     "99bf8d3d1d264cd19fa66fb513a91ccc": {
      "model_module": "@jupyter-widgets/controls",
      "model_module_version": "1.5.0",
      "model_name": "HTMLModel",
      "state": {
       "layout": "IPY_MODEL_724cf55fd28645c49bbe736ce899066c",
       "style": "IPY_MODEL_651d9c2ac15846799bdffc939bb58a2a",
       "value": " 329155/329155 [13:02&lt;00:00, 420.39it/s]"
      }
     },
     "9aaf116ed7ae4619bddcbb559b9f1eea": {
      "model_module": "@jupyter-widgets/controls",
      "model_module_version": "1.5.0",
      "model_name": "ProgressStyleModel",
      "state": {
       "description_width": "initial"
      }
     },
     "9acbe34bc699481c87f78e22be4e4d10": {
      "model_module": "@jupyter-widgets/controls",
      "model_module_version": "1.5.0",
      "model_name": "ProgressStyleModel",
      "state": {
       "description_width": "initial"
      }
     },
     "9ae3aea4071a42209b6833b78063c529": {
      "model_module": "@jupyter-widgets/controls",
      "model_module_version": "1.5.0",
      "model_name": "ProgressStyleModel",
      "state": {
       "description_width": "initial"
      }
     },
     "9b3b81fa35a14a598e14e765ddee4f8c": {
      "model_module": "@jupyter-widgets/controls",
      "model_module_version": "1.5.0",
      "model_name": "HTMLModel",
      "state": {
       "layout": "IPY_MODEL_ccb24eabc9b84edc887b80d565cbcd2f",
       "style": "IPY_MODEL_fe0993172bd342258c96384a283f73e6",
       "value": " 329155/329155 [10:04&lt;00:00, 544.13it/s]"
      }
     },
     "9b56ba1456fc497e83c56b2f6a0e88f0": {
      "model_module": "@jupyter-widgets/base",
      "model_module_version": "1.2.0",
      "model_name": "LayoutModel",
      "state": {}
     },
     "9b72bfda232c477485c8ff4fd67c9ab7": {
      "model_module": "@jupyter-widgets/controls",
      "model_module_version": "1.5.0",
      "model_name": "HBoxModel",
      "state": {
       "children": [
        "IPY_MODEL_5f4d004da9244d4cad998b72f0b3aeb5",
        "IPY_MODEL_99bf8d3d1d264cd19fa66fb513a91ccc"
       ],
       "layout": "IPY_MODEL_41789e39f666478eb908234b51ea55b7"
      }
     },
     "9bcb333860824b9f88540d5104f58a81": {
      "model_module": "@jupyter-widgets/base",
      "model_module_version": "1.2.0",
      "model_name": "LayoutModel",
      "state": {}
     },
     "9be3f0a804dd4d61838831821f6d1bd2": {
      "model_module": "@jupyter-widgets/base",
      "model_module_version": "1.2.0",
      "model_name": "LayoutModel",
      "state": {}
     },
     "9c39c222de5145b0a1c80b978170fef8": {
      "model_module": "@jupyter-widgets/controls",
      "model_module_version": "1.5.0",
      "model_name": "FloatProgressModel",
      "state": {
       "bar_style": "success",
       "description": "100%",
       "layout": "IPY_MODEL_b271cb3fa657460c87487e6c090496fc",
       "max": 329155,
       "style": "IPY_MODEL_f36ad1447d2e4ff98a570b647183fcbc",
       "value": 329155
      }
     },
     "9c6115117e8b4a6385f97410402235e1": {
      "model_module": "@jupyter-widgets/controls",
      "model_module_version": "1.5.0",
      "model_name": "ProgressStyleModel",
      "state": {
       "description_width": "initial"
      }
     },
     "9c82bf06b4df43bc83dd533851c1b560": {
      "model_module": "@jupyter-widgets/base",
      "model_module_version": "1.2.0",
      "model_name": "LayoutModel",
      "state": {}
     },
     "9c84ba5ed5fa4bd888c38130245488ed": {
      "model_module": "@jupyter-widgets/base",
      "model_module_version": "1.2.0",
      "model_name": "LayoutModel",
      "state": {}
     },
     "9d73f356c8704b39b4bfeca789dfa234": {
      "model_module": "@jupyter-widgets/controls",
      "model_module_version": "1.5.0",
      "model_name": "FloatProgressModel",
      "state": {
       "bar_style": "danger",
       "description": "  1%",
       "layout": "IPY_MODEL_a07216576ced47cbbb6053b29ccd35ce",
       "max": 329155,
       "style": "IPY_MODEL_9df59dcb4b4b482198f4ed82f9b99e5b",
       "value": 4358
      }
     },
     "9de2420b950e4e018986f51c492a9991": {
      "model_module": "@jupyter-widgets/controls",
      "model_module_version": "1.5.0",
      "model_name": "HBoxModel",
      "state": {
       "children": [
        "IPY_MODEL_adb532a1eccd459aaa204dc3f036d60f",
        "IPY_MODEL_708d2682d0c94c4ab881e371a5575637"
       ],
       "layout": "IPY_MODEL_5d0d2c08a8cd4104a6bbe7de8a9e262e"
      }
     },
     "9df59dcb4b4b482198f4ed82f9b99e5b": {
      "model_module": "@jupyter-widgets/controls",
      "model_module_version": "1.5.0",
      "model_name": "ProgressStyleModel",
      "state": {
       "description_width": "initial"
      }
     },
     "9dff9309be01473c9abf0583033da692": {
      "model_module": "@jupyter-widgets/base",
      "model_module_version": "1.2.0",
      "model_name": "LayoutModel",
      "state": {}
     },
     "9e0d4df89a22448da1203cb0a6afcdad": {
      "model_module": "@jupyter-widgets/base",
      "model_module_version": "1.2.0",
      "model_name": "LayoutModel",
      "state": {}
     },
     "9e52ff7c7a214a8295ef81ac26a1604a": {
      "model_module": "@jupyter-widgets/base",
      "model_module_version": "1.2.0",
      "model_name": "LayoutModel",
      "state": {}
     },
     "9e58f62b26414a008e17257bef919c3f": {
      "model_module": "@jupyter-widgets/controls",
      "model_module_version": "1.5.0",
      "model_name": "HBoxModel",
      "state": {
       "children": [
        "IPY_MODEL_d6731bd4a695446d924f2b4b21d3666e",
        "IPY_MODEL_53f3a1223ef5459c87024d4635873d55"
       ],
       "layout": "IPY_MODEL_029a5c4133c344ccada118c24979a16b"
      }
     },
     "9e7a24471dae4fc89dea1b3e980047da": {
      "model_module": "@jupyter-widgets/controls",
      "model_module_version": "1.5.0",
      "model_name": "HBoxModel",
      "state": {
       "children": [
        "IPY_MODEL_a46de4f9012a46159bbd3333c202d4f3",
        "IPY_MODEL_0205cf0d472041ec919f63e503cf49bc"
       ],
       "layout": "IPY_MODEL_679c463e02864fcaaa50465a222c4a9a"
      }
     },
     "9ea228a1cf76413da36ab69d73e4e18f": {
      "model_module": "@jupyter-widgets/controls",
      "model_module_version": "1.5.0",
      "model_name": "ProgressStyleModel",
      "state": {
       "description_width": "initial"
      }
     },
     "9f31013387a04b6d82006a326cb85d1f": {
      "model_module": "@jupyter-widgets/controls",
      "model_module_version": "1.5.0",
      "model_name": "ProgressStyleModel",
      "state": {
       "description_width": "initial"
      }
     },
     "9f3251350b2246ac8f1cde83e832a43f": {
      "model_module": "@jupyter-widgets/controls",
      "model_module_version": "1.5.0",
      "model_name": "DescriptionStyleModel",
      "state": {
       "description_width": ""
      }
     },
     "9f7508ee69a94c2ab9f7e03750075e91": {
      "model_module": "@jupyter-widgets/controls",
      "model_module_version": "1.5.0",
      "model_name": "HBoxModel",
      "state": {
       "children": [
        "IPY_MODEL_9255989d812341b78cb5e94817d6f934",
        "IPY_MODEL_a7eb58152f44491b89a8b4b1c54d0bc7"
       ],
       "layout": "IPY_MODEL_d6a425dacf99478d84ade356251b9d93"
      }
     },
     "9f7bad3ee5884f71b537818387d9ebbf": {
      "model_module": "@jupyter-widgets/base",
      "model_module_version": "1.2.0",
      "model_name": "LayoutModel",
      "state": {}
     },
     "a00e1b77974e4d3d84c28f9efa81ae8b": {
      "model_module": "@jupyter-widgets/base",
      "model_module_version": "1.2.0",
      "model_name": "LayoutModel",
      "state": {}
     },
     "a07216576ced47cbbb6053b29ccd35ce": {
      "model_module": "@jupyter-widgets/base",
      "model_module_version": "1.2.0",
      "model_name": "LayoutModel",
      "state": {}
     },
     "a07d0abb2c86416687aa9d25152b483b": {
      "model_module": "@jupyter-widgets/controls",
      "model_module_version": "1.5.0",
      "model_name": "DescriptionStyleModel",
      "state": {
       "description_width": ""
      }
     },
     "a09c708b6eae4872b6d480243b998ab5": {
      "model_module": "@jupyter-widgets/controls",
      "model_module_version": "1.5.0",
      "model_name": "DescriptionStyleModel",
      "state": {
       "description_width": ""
      }
     },
     "a0c37f6804674c10a03570c1baf7ef8b": {
      "model_module": "@jupyter-widgets/controls",
      "model_module_version": "1.5.0",
      "model_name": "DescriptionStyleModel",
      "state": {
       "description_width": ""
      }
     },
     "a117ac213e384b909d5eb9bf778ffe6f": {
      "model_module": "@jupyter-widgets/base",
      "model_module_version": "1.2.0",
      "model_name": "LayoutModel",
      "state": {}
     },
     "a12e6ceffc8243bdaff3ffbca83fb738": {
      "model_module": "@jupyter-widgets/base",
      "model_module_version": "1.2.0",
      "model_name": "LayoutModel",
      "state": {}
     },
     "a18fbf03645d430abda48f16d5b542ca": {
      "model_module": "@jupyter-widgets/base",
      "model_module_version": "1.2.0",
      "model_name": "LayoutModel",
      "state": {}
     },
     "a1be0f19361541c7b48b5eb5eed49f90": {
      "model_module": "@jupyter-widgets/base",
      "model_module_version": "1.2.0",
      "model_name": "LayoutModel",
      "state": {}
     },
     "a1de9a0fd46344039ffd7dde4013a68e": {
      "model_module": "@jupyter-widgets/base",
      "model_module_version": "1.2.0",
      "model_name": "LayoutModel",
      "state": {}
     },
     "a1efad2c7b214b34838ab088ae30b7ce": {
      "model_module": "@jupyter-widgets/base",
      "model_module_version": "1.2.0",
      "model_name": "LayoutModel",
      "state": {}
     },
     "a24651ff74cd4b149b7da3db3d8cf9fb": {
      "model_module": "@jupyter-widgets/controls",
      "model_module_version": "1.5.0",
      "model_name": "HBoxModel",
      "state": {
       "children": [
        "IPY_MODEL_6e3bb23bcbfd4c0c8de1524f42f51b33",
        "IPY_MODEL_a4b6b77426b34bc3bdc7e46f62be25d5"
       ],
       "layout": "IPY_MODEL_43922674e1434deca397eec2555d23ee"
      }
     },
     "a2fddfa1bb894f898c6a17bfd4006dea": {
      "model_module": "@jupyter-widgets/base",
      "model_module_version": "1.2.0",
      "model_name": "LayoutModel",
      "state": {}
     },
     "a32877567e384e1088c2c26e4a0e2a9c": {
      "model_module": "@jupyter-widgets/controls",
      "model_module_version": "1.5.0",
      "model_name": "HTMLModel",
      "state": {
       "layout": "IPY_MODEL_bfa0e9bcd0604e1da185fb070ddfb8c2",
       "style": "IPY_MODEL_80344fbbae634c54b0283f866208060f",
       "value": " 329155/329155 [12:34&lt;00:00, 436.10it/s]"
      }
     },
     "a333e94a65b94af8a169f17f7831b04b": {
      "model_module": "@jupyter-widgets/base",
      "model_module_version": "1.2.0",
      "model_name": "LayoutModel",
      "state": {}
     },
     "a33cd51f8acb4d9d8fb16f29cd3e5751": {
      "model_module": "@jupyter-widgets/controls",
      "model_module_version": "1.5.0",
      "model_name": "HBoxModel",
      "state": {
       "children": [
        "IPY_MODEL_343e8b445c1e471ab47db7bbaf52ad85",
        "IPY_MODEL_cfdd1af970f443de9ea4a6377eb108e1"
       ],
       "layout": "IPY_MODEL_753a307c035148d6bc8c948357ccf0ec"
      }
     },
     "a34f69537314437c820a1c19a5c09036": {
      "model_module": "@jupyter-widgets/controls",
      "model_module_version": "1.5.0",
      "model_name": "DescriptionStyleModel",
      "state": {
       "description_width": ""
      }
     },
     "a35a697ccc62465687a1fafb56ddca5c": {
      "model_module": "@jupyter-widgets/controls",
      "model_module_version": "1.5.0",
      "model_name": "FloatProgressModel",
      "state": {
       "bar_style": "success",
       "description": "Parsing dataset: 100%",
       "layout": "IPY_MODEL_f202e24cec5347d9a573b7b821d2b95a",
       "max": 373801,
       "style": "IPY_MODEL_0d131f930a444be5b30d287776164f81",
       "value": 373801
      }
     },
     "a35e381f669f4813a254dbd7438d3f60": {
      "model_module": "@jupyter-widgets/controls",
      "model_module_version": "1.5.0",
      "model_name": "ProgressStyleModel",
      "state": {
       "description_width": "initial"
      }
     },
     "a38ef03b03574950adc37faabafdd7cc": {
      "model_module": "@jupyter-widgets/controls",
      "model_module_version": "1.5.0",
      "model_name": "DescriptionStyleModel",
      "state": {
       "description_width": ""
      }
     },
     "a46718cdf055486b9d4e51da34ee2de1": {
      "model_module": "@jupyter-widgets/base",
      "model_module_version": "1.2.0",
      "model_name": "LayoutModel",
      "state": {}
     },
     "a46de4f9012a46159bbd3333c202d4f3": {
      "model_module": "@jupyter-widgets/controls",
      "model_module_version": "1.5.0",
      "model_name": "FloatProgressModel",
      "state": {
       "bar_style": "success",
       "description": "100%",
       "layout": "IPY_MODEL_bbac990241b74217b1e2bef546c7d94a",
       "max": 329155,
       "style": "IPY_MODEL_08865abfb0764341a3cca0727fce90d7",
       "value": 329155
      }
     },
     "a4a3b48e52a441d1ac413f16e98d6d04": {
      "model_module": "@jupyter-widgets/base",
      "model_module_version": "1.2.0",
      "model_name": "LayoutModel",
      "state": {}
     },
     "a4b6b77426b34bc3bdc7e46f62be25d5": {
      "model_module": "@jupyter-widgets/controls",
      "model_module_version": "1.5.0",
      "model_name": "HTMLModel",
      "state": {
       "layout": "IPY_MODEL_8bff848d92c24be79a388db8ea209b51",
       "style": "IPY_MODEL_500b879c77164337b7cb4163cd2eecbf",
       "value": " 329155/329155 [10:05&lt;00:00, 544.01it/s]"
      }
     },
     "a4c880cd1b6844f3b166c44a0bb7a0ef": {
      "model_module": "@jupyter-widgets/controls",
      "model_module_version": "1.5.0",
      "model_name": "FloatProgressModel",
      "state": {
       "bar_style": "success",
       "description": "100%",
       "layout": "IPY_MODEL_c902e4194e244ccfa267a646bda9e409",
       "max": 329155,
       "style": "IPY_MODEL_64e4d89f7ca6452c8eac5e808aaca1f8",
       "value": 329155
      }
     },
     "a576b22bd73449afa1a0ed5978dab81f": {
      "model_module": "@jupyter-widgets/controls",
      "model_module_version": "1.5.0",
      "model_name": "HTMLModel",
      "state": {
       "layout": "IPY_MODEL_90176780b9d64af6b5abb0644eb8a613",
       "style": "IPY_MODEL_7949adb7bc474be88d0d6021623b8e3a",
       "value": " 3574/35259 [1:21:27&lt;12:02:10,  1.37s/it]"
      }
     },
     "a5b30e43c1e94e9da4b9ff21878ce41f": {
      "model_module": "@jupyter-widgets/controls",
      "model_module_version": "1.5.0",
      "model_name": "HBoxModel",
      "state": {
       "children": [
        "IPY_MODEL_ced81fdad984435a96d929955c104591",
        "IPY_MODEL_7b1ba467694d4772ab9e7923e2ee9e79"
       ],
       "layout": "IPY_MODEL_7c1907d0d8214c968a05bd07c596b185"
      }
     },
     "a5cc520d6a7249a1b5b59afd52f286e5": {
      "model_module": "@jupyter-widgets/base",
      "model_module_version": "1.2.0",
      "model_name": "LayoutModel",
      "state": {}
     },
     "a5e08f964c5446d9be0ef6de441035a1": {
      "model_module": "@jupyter-widgets/base",
      "model_module_version": "1.2.0",
      "model_name": "LayoutModel",
      "state": {}
     },
     "a63efc42f162493db2f1b18517189dec": {
      "model_module": "@jupyter-widgets/controls",
      "model_module_version": "1.5.0",
      "model_name": "FloatProgressModel",
      "state": {
       "description": " 18%",
       "layout": "IPY_MODEL_15826db63275424e8314d0ad6dc2c6f1",
       "max": 329155,
       "style": "IPY_MODEL_494de8353b90446280dfb0cf90d2b44e",
       "value": 60871
      }
     },
     "a6507c3454ae43b4b88f3a0045239521": {
      "model_module": "@jupyter-widgets/base",
      "model_module_version": "1.2.0",
      "model_name": "LayoutModel",
      "state": {}
     },
     "a6dcdd7549ee4110bbc860aa51650349": {
      "model_module": "@jupyter-widgets/base",
      "model_module_version": "1.2.0",
      "model_name": "LayoutModel",
      "state": {}
     },
     "a7145602ea14432492d7bf2f03084e29": {
      "model_module": "@jupyter-widgets/controls",
      "model_module_version": "1.5.0",
      "model_name": "HTMLModel",
      "state": {
       "layout": "IPY_MODEL_bd45527082874449874ea47448572188",
       "style": "IPY_MODEL_a934f3fbc8f84d2abd69cf17d48ee7a7",
       "value": " 329155/329155 [4:11:28&lt;00:00, 21.81it/s]"
      }
     },
     "a748191cd5ea4de889808148274a0d0a": {
      "model_module": "@jupyter-widgets/controls",
      "model_module_version": "1.5.0",
      "model_name": "HBoxModel",
      "state": {
       "children": [
        "IPY_MODEL_23037a5993b54ef2b0387a2a746f4ebe",
        "IPY_MODEL_52924919708b491dbca9b4a81b415f8a"
       ],
       "layout": "IPY_MODEL_0b4cdfe946b04b58995227935317a8dd"
      }
     },
     "a74ad3b0f0be44e9a02170c83ce4b9a2": {
      "model_module": "@jupyter-widgets/controls",
      "model_module_version": "1.5.0",
      "model_name": "HTMLModel",
      "state": {
       "layout": "IPY_MODEL_7d944b66771b471ea3e85a386150a704",
       "style": "IPY_MODEL_52ba828bbff348569040426aaeba4fa8",
       "value": " 329155/329155 [20:10&lt;00:00, 271.98it/s]"
      }
     },
     "a770363ac9d24b9dbbf44ad6e349da2a": {
      "model_module": "@jupyter-widgets/base",
      "model_module_version": "1.2.0",
      "model_name": "LayoutModel",
      "state": {}
     },
     "a7eb58152f44491b89a8b4b1c54d0bc7": {
      "model_module": "@jupyter-widgets/controls",
      "model_module_version": "1.5.0",
      "model_name": "HTMLModel",
      "state": {
       "layout": "IPY_MODEL_78e5d02828224c6ca287a61e774f45be",
       "style": "IPY_MODEL_769866b3e93a403e81ea2cb3e1645e12",
       "value": " 329155/329155 [13:50&lt;00:00, 396.22it/s]"
      }
     },
     "a7f0478389724c71a1f6ad7e58487c39": {
      "model_module": "@jupyter-widgets/base",
      "model_module_version": "1.2.0",
      "model_name": "LayoutModel",
      "state": {}
     },
     "a822226523b841b9b130586cb17ecdfc": {
      "model_module": "@jupyter-widgets/base",
      "model_module_version": "1.2.0",
      "model_name": "LayoutModel",
      "state": {}
     },
     "a83512dd5cdd4476890abfedb0fc7c86": {
      "model_module": "@jupyter-widgets/controls",
      "model_module_version": "1.5.0",
      "model_name": "ProgressStyleModel",
      "state": {
       "description_width": "initial"
      }
     },
     "a88c04c4f1b14b4e86a6a901b3997896": {
      "model_module": "@jupyter-widgets/controls",
      "model_module_version": "1.5.0",
      "model_name": "FloatProgressModel",
      "state": {
       "bar_style": "danger",
       "description": "  8%",
       "layout": "IPY_MODEL_69b84d2727974e8d8f0d1410da6e1d29",
       "max": 329155,
       "style": "IPY_MODEL_bf27027d7dd145809a95f6998bd0301d",
       "value": 25651
      }
     },
     "a8909aeb30084ec48de19bbf04d59a16": {
      "model_module": "@jupyter-widgets/controls",
      "model_module_version": "1.5.0",
      "model_name": "ProgressStyleModel",
      "state": {
       "description_width": "initial"
      }
     },
     "a8e6d6257f714fe7abeee22330c2a94e": {
      "model_module": "@jupyter-widgets/controls",
      "model_module_version": "1.5.0",
      "model_name": "FloatProgressModel",
      "state": {
       "bar_style": "success",
       "description": "100%",
       "layout": "IPY_MODEL_11e136717b1747408a4aa2ae27e854f8",
       "max": 329155,
       "style": "IPY_MODEL_b7bab610aa71418b8a8dc2469dae5186",
       "value": 329155
      }
     },
     "a92da92c566b4b70860b0ff473af3a50": {
      "model_module": "@jupyter-widgets/controls",
      "model_module_version": "1.5.0",
      "model_name": "DescriptionStyleModel",
      "state": {
       "description_width": ""
      }
     },
     "a934f3fbc8f84d2abd69cf17d48ee7a7": {
      "model_module": "@jupyter-widgets/controls",
      "model_module_version": "1.5.0",
      "model_name": "DescriptionStyleModel",
      "state": {
       "description_width": ""
      }
     },
     "a9d0b92ad0a34e2591cebdb6922c8c4a": {
      "model_module": "@jupyter-widgets/base",
      "model_module_version": "1.2.0",
      "model_name": "LayoutModel",
      "state": {}
     },
     "a9d1373be32f445abd07b959bb117baf": {
      "model_module": "@jupyter-widgets/controls",
      "model_module_version": "1.5.0",
      "model_name": "FloatProgressModel",
      "state": {
       "bar_style": "success",
       "description": "100%",
       "layout": "IPY_MODEL_6f42e31d3f50410392a2faeef9bc6060",
       "max": 329155,
       "style": "IPY_MODEL_f80c53dd59c34425aec1483ed9cca6df",
       "value": 329155
      }
     },
     "a9fc3726711b493ab6039c7051651d41": {
      "model_module": "@jupyter-widgets/base",
      "model_module_version": "1.2.0",
      "model_name": "LayoutModel",
      "state": {}
     },
     "aa0862787e394b14a75935a3ec59201e": {
      "model_module": "@jupyter-widgets/controls",
      "model_module_version": "1.5.0",
      "model_name": "HTMLModel",
      "state": {
       "layout": "IPY_MODEL_c0e6678004da409294dc2679d84af756",
       "style": "IPY_MODEL_18e27ee605bc49d38871967618e4f5de",
       "value": " 329155/329155 [10:04&lt;00:00, 544.79it/s]"
      }
     },
     "aaeaad8b4b5a4dc5bfbd66d3bd29c246": {
      "model_module": "@jupyter-widgets/controls",
      "model_module_version": "1.5.0",
      "model_name": "DescriptionStyleModel",
      "state": {
       "description_width": ""
      }
     },
     "ab3284bbe0fd412196126d746109684c": {
      "model_module": "@jupyter-widgets/controls",
      "model_module_version": "1.5.0",
      "model_name": "ProgressStyleModel",
      "state": {
       "description_width": "initial"
      }
     },
     "ab39f0fabb2b4b20849d25373d019aef": {
      "model_module": "@jupyter-widgets/base",
      "model_module_version": "1.2.0",
      "model_name": "LayoutModel",
      "state": {}
     },
     "ab9e026b6fe5489d96c33caa13379086": {
      "model_module": "@jupyter-widgets/controls",
      "model_module_version": "1.5.0",
      "model_name": "DescriptionStyleModel",
      "state": {
       "description_width": ""
      }
     },
     "abe345851b954bee95ef37f09257c48e": {
      "model_module": "@jupyter-widgets/controls",
      "model_module_version": "1.5.0",
      "model_name": "DescriptionStyleModel",
      "state": {
       "description_width": ""
      }
     },
     "ac373fe1e8df4e93bdc0044af74b930c": {
      "model_module": "@jupyter-widgets/controls",
      "model_module_version": "1.5.0",
      "model_name": "HBoxModel",
      "state": {
       "children": [
        "IPY_MODEL_79f33e43a8f54e0891b55a9da5a8f5f7",
        "IPY_MODEL_ca6c8b62bcc6435e9c1929fba495157a"
       ],
       "layout": "IPY_MODEL_634891b12e1244cfa2185a607c04f974"
      }
     },
     "ac3cee451c3c418eb316bb1d353a8c1a": {
      "model_module": "@jupyter-widgets/base",
      "model_module_version": "1.2.0",
      "model_name": "LayoutModel",
      "state": {}
     },
     "ac92ffbebc7f4b6cbd84df8bdc64ae21": {
      "model_module": "@jupyter-widgets/base",
      "model_module_version": "1.2.0",
      "model_name": "LayoutModel",
      "state": {}
     },
     "ac9b5e13124948dda5c37dfc46ab212e": {
      "model_module": "@jupyter-widgets/controls",
      "model_module_version": "1.5.0",
      "model_name": "ProgressStyleModel",
      "state": {
       "description_width": "initial"
      }
     },
     "acdf7e676e324f70846a87c494a0a239": {
      "model_module": "@jupyter-widgets/base",
      "model_module_version": "1.2.0",
      "model_name": "LayoutModel",
      "state": {}
     },
     "adb532a1eccd459aaa204dc3f036d60f": {
      "model_module": "@jupyter-widgets/controls",
      "model_module_version": "1.5.0",
      "model_name": "FloatProgressModel",
      "state": {
       "bar_style": "success",
       "description": "100%",
       "layout": "IPY_MODEL_b4dbd257bbde452a9b5af51dc6802683",
       "max": 329155,
       "style": "IPY_MODEL_9acbe34bc699481c87f78e22be4e4d10",
       "value": 329155
      }
     },
     "add4ed3b4d65492bb976d88d108ceaa2": {
      "model_module": "@jupyter-widgets/controls",
      "model_module_version": "1.5.0",
      "model_name": "DescriptionStyleModel",
      "state": {
       "description_width": ""
      }
     },
     "ade689766d3f4d69ba56ef1f0489cb9c": {
      "model_module": "@jupyter-widgets/controls",
      "model_module_version": "1.5.0",
      "model_name": "HBoxModel",
      "state": {
       "children": [
        "IPY_MODEL_d0ff9774a71e4eb98d16b6cd23a4e93d",
        "IPY_MODEL_1f0127b6b423496695499409231802b7"
       ],
       "layout": "IPY_MODEL_645fc0cef2514de7943873250173d333"
      }
     },
     "ae18f061e5834fa08aaa10147f4c6b1b": {
      "model_module": "@jupyter-widgets/base",
      "model_module_version": "1.2.0",
      "model_name": "LayoutModel",
      "state": {}
     },
     "aed4a68544a64cb3b493a6297a3ff9f7": {
      "model_module": "@jupyter-widgets/controls",
      "model_module_version": "1.5.0",
      "model_name": "HBoxModel",
      "state": {
       "children": [
        "IPY_MODEL_19548f946c4e42988c5b1ad6761ae0bb",
        "IPY_MODEL_24b7f3d45c8248e8bb78f5c261c2b77e"
       ],
       "layout": "IPY_MODEL_eca4055efdd0408fb883ef076d17cea4"
      }
     },
     "af33c39a2b44456bbf1dc3ab3e00bd5d": {
      "model_module": "@jupyter-widgets/controls",
      "model_module_version": "1.5.0",
      "model_name": "ProgressStyleModel",
      "state": {
       "description_width": "initial"
      }
     },
     "af4dbe90354d4d1ea1e4f48b0fd94e53": {
      "model_module": "@jupyter-widgets/controls",
      "model_module_version": "1.5.0",
      "model_name": "HBoxModel",
      "state": {
       "children": [
        "IPY_MODEL_522be8a76b66418ab6bd5107d73a40dc",
        "IPY_MODEL_88bd848536fc46b5aa5ea6bc8f056be6"
       ],
       "layout": "IPY_MODEL_e73398347a224224ae975d2539660daf"
      }
     },
     "af8baaaaa4934e3e95b6d1ccbbb3de3a": {
      "model_module": "@jupyter-widgets/controls",
      "model_module_version": "1.5.0",
      "model_name": "DescriptionStyleModel",
      "state": {
       "description_width": ""
      }
     },
     "afe7e16d604f41a1a42f492a17b5f267": {
      "model_module": "@jupyter-widgets/controls",
      "model_module_version": "1.5.0",
      "model_name": "HBoxModel",
      "state": {
       "children": [
        "IPY_MODEL_26ece60eb54f4c5dadfb63e43fd46780",
        "IPY_MODEL_1017788052fe4c4a8caaf2b3f0a7b93a"
       ],
       "layout": "IPY_MODEL_7609e7047e39489cb9685d64a211a543"
      }
     },
     "b09ed95ba9d04ba78e05be8d77cf4490": {
      "model_module": "@jupyter-widgets/base",
      "model_module_version": "1.2.0",
      "model_name": "LayoutModel",
      "state": {}
     },
     "b14446e9946840c688818ee6d0ea825e": {
      "model_module": "@jupyter-widgets/base",
      "model_module_version": "1.2.0",
      "model_name": "LayoutModel",
      "state": {}
     },
     "b167e1b5aeb146e0be5ac9d7fcf3b5c5": {
      "model_module": "@jupyter-widgets/base",
      "model_module_version": "1.2.0",
      "model_name": "LayoutModel",
      "state": {}
     },
     "b1697a69c6ed4a8bb89f57d38f8b7dcb": {
      "model_module": "@jupyter-widgets/base",
      "model_module_version": "1.2.0",
      "model_name": "LayoutModel",
      "state": {}
     },
     "b194ebcd71a0493a82c54cac6483d89d": {
      "model_module": "@jupyter-widgets/base",
      "model_module_version": "1.2.0",
      "model_name": "LayoutModel",
      "state": {}
     },
     "b1a27a9dd0d74cbfba312e6d3be5494e": {
      "model_module": "@jupyter-widgets/base",
      "model_module_version": "1.2.0",
      "model_name": "LayoutModel",
      "state": {}
     },
     "b1ceccb7f0734c09b0fe4470f72215d7": {
      "model_module": "@jupyter-widgets/controls",
      "model_module_version": "1.5.0",
      "model_name": "HBoxModel",
      "state": {
       "children": [
        "IPY_MODEL_6207f544b489493188790e1ef3a24096",
        "IPY_MODEL_b779df7b906c48ebbbc4c8315f7ece15"
       ],
       "layout": "IPY_MODEL_f1c29ae7cb9f449db70979019c9de10e"
      }
     },
     "b208f64cca1241ab92d7747b3845564d": {
      "model_module": "@jupyter-widgets/controls",
      "model_module_version": "1.5.0",
      "model_name": "HBoxModel",
      "state": {
       "children": [
        "IPY_MODEL_72c15df5dc7c474d91980968e22db40a",
        "IPY_MODEL_bb3496a78e634909ad92c2b591273ab8"
       ],
       "layout": "IPY_MODEL_97bfd56c42094f32a5483210c2c08395"
      }
     },
     "b2605f47898c4024935386e8f4cf3c0d": {
      "model_module": "@jupyter-widgets/controls",
      "model_module_version": "1.5.0",
      "model_name": "HTMLModel",
      "state": {
       "layout": "IPY_MODEL_b167e1b5aeb146e0be5ac9d7fcf3b5c5",
       "style": "IPY_MODEL_d6770fe6582649c3a506cd2383e92d2c",
       "value": " 329155/329155 [45:26&lt;00:00, 120.72it/s]"
      }
     },
     "b271cb3fa657460c87487e6c090496fc": {
      "model_module": "@jupyter-widgets/base",
      "model_module_version": "1.2.0",
      "model_name": "LayoutModel",
      "state": {}
     },
     "b32a32fdce2a4a1896f57632ff669542": {
      "model_module": "@jupyter-widgets/controls",
      "model_module_version": "1.5.0",
      "model_name": "ProgressStyleModel",
      "state": {
       "description_width": "initial"
      }
     },
     "b3701b4d5209448dbf0fe872ce81edd6": {
      "model_module": "@jupyter-widgets/controls",
      "model_module_version": "1.5.0",
      "model_name": "FloatProgressModel",
      "state": {
       "bar_style": "success",
       "description": "100%",
       "layout": "IPY_MODEL_81bf5e17287747b4abe15c0665fbe346",
       "max": 329155,
       "style": "IPY_MODEL_2135fb7d5972404d89d32588c856e1ae",
       "value": 329155
      }
     },
     "b37040b6abc1496e97e15bf8d3473039": {
      "model_module": "@jupyter-widgets/base",
      "model_module_version": "1.2.0",
      "model_name": "LayoutModel",
      "state": {}
     },
     "b379a4702dac474cae025f005fa7baf9": {
      "model_module": "@jupyter-widgets/controls",
      "model_module_version": "1.5.0",
      "model_name": "FloatProgressModel",
      "state": {
       "bar_style": "danger",
       "description": " 13%",
       "layout": "IPY_MODEL_8aa671396bf746be942f0ec13aff398e",
       "max": 329155,
       "style": "IPY_MODEL_d4868ddda1f64a44a5e0063419d942f7",
       "value": 42181
      }
     },
     "b4252cd45b2b4458bc88440c9af75ae8": {
      "model_module": "@jupyter-widgets/controls",
      "model_module_version": "1.5.0",
      "model_name": "HTMLModel",
      "state": {
       "layout": "IPY_MODEL_cfd5f100cfed4dd1a651d1c25bedc8dd",
       "style": "IPY_MODEL_3502ef9693ed4a5899590abc88c9acbc",
       "value": " 373801/373801 [04:13&lt;00:00, 1471.70it/s]"
      }
     },
     "b465ac1235984a29a00abedb70ba5f5d": {
      "model_module": "@jupyter-widgets/controls",
      "model_module_version": "1.5.0",
      "model_name": "HTMLModel",
      "state": {
       "layout": "IPY_MODEL_63214afed9844d53818dfc64b203e65e",
       "style": "IPY_MODEL_276ecd6d12064ed7918985167e564b6c",
       "value": " 4/4 [52:39&lt;00:00, 789.90s/it]"
      }
     },
     "b4dbd257bbde452a9b5af51dc6802683": {
      "model_module": "@jupyter-widgets/base",
      "model_module_version": "1.2.0",
      "model_name": "LayoutModel",
      "state": {}
     },
     "b565af0875f740eeae78b5a4cdb0a358": {
      "model_module": "@jupyter-widgets/controls",
      "model_module_version": "1.5.0",
      "model_name": "FloatProgressModel",
      "state": {
       "bar_style": "success",
       "description": "100%",
       "layout": "IPY_MODEL_134b7ad1d2da4f5da2f9a4798d5f35cd",
       "max": 329155,
       "style": "IPY_MODEL_c22620adc906437cafc4695c67498c53",
       "value": 329155
      }
     },
     "b57c5f9d1a1a43ad9e5d6ed8b83b170a": {
      "model_module": "@jupyter-widgets/controls",
      "model_module_version": "1.5.0",
      "model_name": "HTMLModel",
      "state": {
       "layout": "IPY_MODEL_873af2c892e64492b6c6c0dae6abe7c7",
       "style": "IPY_MODEL_2068f72d95544d8ba012daa477f9fa54",
       "value": " 373801/373801 [04:44&lt;00:00, 1311.87it/s]"
      }
     },
     "b5cb11d1f883450cbf3557839748529e": {
      "model_module": "@jupyter-widgets/base",
      "model_module_version": "1.2.0",
      "model_name": "LayoutModel",
      "state": {}
     },
     "b5cf97a7125e4a1ab8ac97921d66adbb": {
      "model_module": "@jupyter-widgets/controls",
      "model_module_version": "1.5.0",
      "model_name": "ProgressStyleModel",
      "state": {
       "description_width": "initial"
      }
     },
     "b62fd37a25144ef3926d9adc20fcf1e6": {
      "model_module": "@jupyter-widgets/controls",
      "model_module_version": "1.5.0",
      "model_name": "ProgressStyleModel",
      "state": {
       "description_width": "initial"
      }
     },
     "b669da6503a147e8b600334cbdfb2d2f": {
      "model_module": "@jupyter-widgets/base",
      "model_module_version": "1.2.0",
      "model_name": "LayoutModel",
      "state": {}
     },
     "b67ae9aec38140ea86d9006acf2e58fb": {
      "model_module": "@jupyter-widgets/controls",
      "model_module_version": "1.5.0",
      "model_name": "DescriptionStyleModel",
      "state": {
       "description_width": ""
      }
     },
     "b6f34c74ee284c1a942a1ef46393ca61": {
      "model_module": "@jupyter-widgets/controls",
      "model_module_version": "1.5.0",
      "model_name": "ProgressStyleModel",
      "state": {
       "description_width": "initial"
      }
     },
     "b704d42702d042b1a78ff46158a75056": {
      "model_module": "@jupyter-widgets/controls",
      "model_module_version": "1.5.0",
      "model_name": "DescriptionStyleModel",
      "state": {
       "description_width": ""
      }
     },
     "b7339e0f288b4775a59b5403e9c11de6": {
      "model_module": "@jupyter-widgets/controls",
      "model_module_version": "1.5.0",
      "model_name": "FloatProgressModel",
      "state": {
       "bar_style": "success",
       "description": "100%",
       "layout": "IPY_MODEL_1f681913a42d4bd19d1644632d7cfff2",
       "max": 329155,
       "style": "IPY_MODEL_175e470806e24bb9bb8343997db76277",
       "value": 329155
      }
     },
     "b779df7b906c48ebbbc4c8315f7ece15": {
      "model_module": "@jupyter-widgets/controls",
      "model_module_version": "1.5.0",
      "model_name": "HTMLModel",
      "state": {
       "layout": "IPY_MODEL_09e727a23a9c4e8ca25d5fe9706636dc",
       "style": "IPY_MODEL_3e47271672f04ec0a25ab9ca8410fa23",
       "value": " 35259/35259 [36:00&lt;00:00, 16.32it/s]"
      }
     },
     "b7ad45e9075143fcb350b523ee9a588e": {
      "model_module": "@jupyter-widgets/base",
      "model_module_version": "1.2.0",
      "model_name": "LayoutModel",
      "state": {}
     },
     "b7bab610aa71418b8a8dc2469dae5186": {
      "model_module": "@jupyter-widgets/controls",
      "model_module_version": "1.5.0",
      "model_name": "ProgressStyleModel",
      "state": {
       "description_width": "initial"
      }
     },
     "b7bd430da48940899ccbcca94ce9b4a4": {
      "model_module": "@jupyter-widgets/controls",
      "model_module_version": "1.5.0",
      "model_name": "HBoxModel",
      "state": {
       "children": [
        "IPY_MODEL_256455a20d1a4c3f8fb13c64d3199bc8",
        "IPY_MODEL_d9855c9f13244594ac36ae19176ef80f"
       ],
       "layout": "IPY_MODEL_f3116a5cb62f4b7aa352546e69cc1c4f"
      }
     },
     "b8363a4b93954eb19244eff7eda10a38": {
      "model_module": "@jupyter-widgets/controls",
      "model_module_version": "1.5.0",
      "model_name": "ProgressStyleModel",
      "state": {
       "description_width": "initial"
      }
     },
     "b887ebb75eb84983ab015688a182d115": {
      "model_module": "@jupyter-widgets/base",
      "model_module_version": "1.2.0",
      "model_name": "LayoutModel",
      "state": {}
     },
     "b95e21fc36d04d9aa33867fb537dbc85": {
      "model_module": "@jupyter-widgets/base",
      "model_module_version": "1.2.0",
      "model_name": "LayoutModel",
      "state": {}
     },
     "b95f1e647d2b4bd8b2b2468b56729e04": {
      "model_module": "@jupyter-widgets/controls",
      "model_module_version": "1.5.0",
      "model_name": "HTMLModel",
      "state": {
       "layout": "IPY_MODEL_5f3ffd5af047445ebf4119197b90cdd8",
       "style": "IPY_MODEL_c871e6a5818f4b1ba050d1ac3a583b25",
       "value": " 329155/329155 [58:10&lt;00:00, 94.30it/s]"
      }
     },
     "b9d7470711ff4f53939cde2a1cead36d": {
      "model_module": "@jupyter-widgets/base",
      "model_module_version": "1.2.0",
      "model_name": "LayoutModel",
      "state": {}
     },
     "b9e98890cd0c4c769a0f283a4b4e9b40": {
      "model_module": "@jupyter-widgets/controls",
      "model_module_version": "1.5.0",
      "model_name": "HTMLModel",
      "state": {
       "layout": "IPY_MODEL_4d2bc27121834131a3fea532202a3cd8",
       "style": "IPY_MODEL_1fd721984782400b90b5bac504e0c900",
       "value": " 29950/329155 [07:55&lt;1:19:08, 63.01it/s]"
      }
     },
     "ba651e20d4e64107aa1567b93a5f169a": {
      "model_module": "@jupyter-widgets/base",
      "model_module_version": "1.2.0",
      "model_name": "LayoutModel",
      "state": {}
     },
     "ba78ad7f023a4a738780ebc35b53ed0f": {
      "model_module": "@jupyter-widgets/base",
      "model_module_version": "1.2.0",
      "model_name": "LayoutModel",
      "state": {}
     },
     "ba9a56a5252b46de9d35e8798436a86d": {
      "model_module": "@jupyter-widgets/controls",
      "model_module_version": "1.5.0",
      "model_name": "FloatProgressModel",
      "state": {
       "bar_style": "success",
       "description": "100%",
       "layout": "IPY_MODEL_e170b10eec244b30a3f67656249d284c",
       "max": 35259,
       "style": "IPY_MODEL_609f7588592d44d49625710ab7560f22",
       "value": 35259
      }
     },
     "bac67514fedb47088c3cd46e3e4999d8": {
      "model_module": "@jupyter-widgets/controls",
      "model_module_version": "1.5.0",
      "model_name": "HBoxModel",
      "state": {
       "children": [
        "IPY_MODEL_f84be7f05aea4692a88ddc30938d16ff",
        "IPY_MODEL_f80aa13643ed4217b9445bfb89fb2df5"
       ],
       "layout": "IPY_MODEL_1e16e0c7570340bba7db657a02b32614"
      }
     },
     "bb3496a78e634909ad92c2b591273ab8": {
      "model_module": "@jupyter-widgets/controls",
      "model_module_version": "1.5.0",
      "model_name": "HTMLModel",
      "state": {
       "layout": "IPY_MODEL_552df59037f84aa796fdc4f502b5297a",
       "style": "IPY_MODEL_af8baaaaa4934e3e95b6d1ccbbb3de3a",
       "value": " 329155/329155 [20:07&lt;00:00, 272.54it/s]"
      }
     },
     "bbac990241b74217b1e2bef546c7d94a": {
      "model_module": "@jupyter-widgets/base",
      "model_module_version": "1.2.0",
      "model_name": "LayoutModel",
      "state": {}
     },
     "bbe115d594484033aea29098b08bec87": {
      "model_module": "@jupyter-widgets/controls",
      "model_module_version": "1.5.0",
      "model_name": "HBoxModel",
      "state": {
       "children": [
        "IPY_MODEL_27a60e6fde7845f1a05d30d0c712e92c",
        "IPY_MODEL_7b5a8728bb9748e6b29613b0c9620d58"
       ],
       "layout": "IPY_MODEL_6b2e912f4f05458fbd448bdf72cf9b25"
      }
     },
     "bc9eb1e526eb419e99d1774d6978f2ee": {
      "model_module": "@jupyter-widgets/controls",
      "model_module_version": "1.5.0",
      "model_name": "DescriptionStyleModel",
      "state": {
       "description_width": ""
      }
     },
     "bcde33af15d74526b88b390ed4d70d36": {
      "model_module": "@jupyter-widgets/controls",
      "model_module_version": "1.5.0",
      "model_name": "DescriptionStyleModel",
      "state": {
       "description_width": ""
      }
     },
     "bd45527082874449874ea47448572188": {
      "model_module": "@jupyter-widgets/base",
      "model_module_version": "1.2.0",
      "model_name": "LayoutModel",
      "state": {}
     },
     "bddab6bc74dd4050afcaa9576e60aeb9": {
      "model_module": "@jupyter-widgets/controls",
      "model_module_version": "1.5.0",
      "model_name": "HTMLModel",
      "state": {
       "layout": "IPY_MODEL_80289058bc174075a7351268546c1ba6",
       "style": "IPY_MODEL_00c9789696b84af7bb61d464b1c709e3",
       "value": " 329155/329155 [16:31&lt;00:00, 332.06it/s]"
      }
     },
     "bddd228f87d64c03b472bbf8d20ebac7": {
      "model_module": "@jupyter-widgets/controls",
      "model_module_version": "1.5.0",
      "model_name": "HTMLModel",
      "state": {
       "layout": "IPY_MODEL_526180cf19254ed792125e5d0ce4d5fa",
       "style": "IPY_MODEL_3b89854fe16840e3a6b6c76a88790ba3",
       "value": " 35259/35259 [56:24&lt;00:00, 10.42it/s]"
      }
     },
     "bea1f13f4fab4a089423f1f3dc2dedbb": {
      "model_module": "@jupyter-widgets/base",
      "model_module_version": "1.2.0",
      "model_name": "LayoutModel",
      "state": {}
     },
     "beb2bc606f5d4866ad541e0c955757f5": {
      "model_module": "@jupyter-widgets/base",
      "model_module_version": "1.2.0",
      "model_name": "LayoutModel",
      "state": {}
     },
     "bf1e9ed044f545afbdc217a68a0fc2df": {
      "model_module": "@jupyter-widgets/controls",
      "model_module_version": "1.5.0",
      "model_name": "HBoxModel",
      "state": {
       "children": [
        "IPY_MODEL_476be8b49cec4fb5aef21f39e0223360",
        "IPY_MODEL_0aa2fbd828b34ef6a80ac850b1ffe913"
       ],
       "layout": "IPY_MODEL_09cb313594c6427fb3ff44b9714f348b"
      }
     },
     "bf27027d7dd145809a95f6998bd0301d": {
      "model_module": "@jupyter-widgets/controls",
      "model_module_version": "1.5.0",
      "model_name": "ProgressStyleModel",
      "state": {
       "description_width": "initial"
      }
     },
     "bf2a9e0b8eb24aafa2a053f51bd5ec5b": {
      "model_module": "@jupyter-widgets/controls",
      "model_module_version": "1.5.0",
      "model_name": "DescriptionStyleModel",
      "state": {
       "description_width": ""
      }
     },
     "bfa0e9bcd0604e1da185fb070ddfb8c2": {
      "model_module": "@jupyter-widgets/base",
      "model_module_version": "1.2.0",
      "model_name": "LayoutModel",
      "state": {}
     },
     "c01af3ae2e4b435291c45c3dedf9adaf": {
      "model_module": "@jupyter-widgets/controls",
      "model_module_version": "1.5.0",
      "model_name": "ProgressStyleModel",
      "state": {
       "description_width": "initial"
      }
     },
     "c0380b8611f841bcb8d48abc88c04ea9": {
      "model_module": "@jupyter-widgets/base",
      "model_module_version": "1.2.0",
      "model_name": "LayoutModel",
      "state": {}
     },
     "c055e7669cb7438f96212f9021648323": {
      "model_module": "@jupyter-widgets/controls",
      "model_module_version": "1.5.0",
      "model_name": "DescriptionStyleModel",
      "state": {
       "description_width": ""
      }
     },
     "c0e6678004da409294dc2679d84af756": {
      "model_module": "@jupyter-widgets/base",
      "model_module_version": "1.2.0",
      "model_name": "LayoutModel",
      "state": {}
     },
     "c108c626fe104cd99138d85cefca291c": {
      "model_module": "@jupyter-widgets/controls",
      "model_module_version": "1.5.0",
      "model_name": "HTMLModel",
      "state": {
       "layout": "IPY_MODEL_a7f0478389724c71a1f6ad7e58487c39",
       "style": "IPY_MODEL_deb3d4fb7d904a8a9f22a244039ed4fa",
       "value": " 329155/329155 [12:15&lt;00:00, 447.54it/s]"
      }
     },
     "c120c5e347a740c2a90fa0300367677f": {
      "model_module": "@jupyter-widgets/base",
      "model_module_version": "1.2.0",
      "model_name": "LayoutModel",
      "state": {}
     },
     "c18138a19cee438492b461c1de5b215f": {
      "model_module": "@jupyter-widgets/base",
      "model_module_version": "1.2.0",
      "model_name": "LayoutModel",
      "state": {}
     },
     "c22620adc906437cafc4695c67498c53": {
      "model_module": "@jupyter-widgets/controls",
      "model_module_version": "1.5.0",
      "model_name": "ProgressStyleModel",
      "state": {
       "description_width": "initial"
      }
     },
     "c446bbe70fa740babe9d487efb2fcf13": {
      "model_module": "@jupyter-widgets/controls",
      "model_module_version": "1.5.0",
      "model_name": "ProgressStyleModel",
      "state": {
       "description_width": "initial"
      }
     },
     "c4c26470b0e74752af38dc6996111a04": {
      "model_module": "@jupyter-widgets/base",
      "model_module_version": "1.2.0",
      "model_name": "LayoutModel",
      "state": {}
     },
     "c517aa1711e34fe9ab6cfc8785bdd6ee": {
      "model_module": "@jupyter-widgets/controls",
      "model_module_version": "1.5.0",
      "model_name": "ProgressStyleModel",
      "state": {
       "description_width": "initial"
      }
     },
     "c5368da6b99d48ee91a4e28af7fe3c01": {
      "model_module": "@jupyter-widgets/base",
      "model_module_version": "1.2.0",
      "model_name": "LayoutModel",
      "state": {}
     },
     "c5adc856a460466eb9d5ea2193a13ec8": {
      "model_module": "@jupyter-widgets/base",
      "model_module_version": "1.2.0",
      "model_name": "LayoutModel",
      "state": {}
     },
     "c5cfb912611440f0b202013846f8a2e8": {
      "model_module": "@jupyter-widgets/controls",
      "model_module_version": "1.5.0",
      "model_name": "HTMLModel",
      "state": {
       "layout": "IPY_MODEL_a5e08f964c5446d9be0ef6de441035a1",
       "style": "IPY_MODEL_add4ed3b4d65492bb976d88d108ceaa2",
       "value": " 4027169/4027169 [01:56&lt;00:00, 34647.55it/s]"
      }
     },
     "c5dd5653add747f793c59964fa33e5a2": {
      "model_module": "@jupyter-widgets/base",
      "model_module_version": "1.2.0",
      "model_name": "LayoutModel",
      "state": {}
     },
     "c601141ac3d54c998125b5e256a7fbab": {
      "model_module": "@jupyter-widgets/controls",
      "model_module_version": "1.5.0",
      "model_name": "HTMLModel",
      "state": {
       "layout": "IPY_MODEL_50a63f9f9b96444db77814b98a0ccee1",
       "style": "IPY_MODEL_ecb07716035347849f63acdcb9a1e52f",
       "value": " 329155/329155 [29:27&lt;00:00, 186.23it/s]"
      }
     },
     "c6aafc4c3a6e4a9dbd4e2ceb064f4b4e": {
      "model_module": "@jupyter-widgets/controls",
      "model_module_version": "1.5.0",
      "model_name": "FloatProgressModel",
      "state": {
       "bar_style": "success",
       "description": "100%",
       "layout": "IPY_MODEL_1d6aaa2abdf0413e889ab3f3bc8d5a82",
       "max": 4,
       "style": "IPY_MODEL_b5cf97a7125e4a1ab8ac97921d66adbb",
       "value": 4
      }
     },
     "c6ff9ae7a9824321b79f322a1103838a": {
      "model_module": "@jupyter-widgets/base",
      "model_module_version": "1.2.0",
      "model_name": "LayoutModel",
      "state": {}
     },
     "c73dd7781eb44b8eb9695b831ad579d0": {
      "model_module": "@jupyter-widgets/controls",
      "model_module_version": "1.5.0",
      "model_name": "ProgressStyleModel",
      "state": {
       "description_width": "initial"
      }
     },
     "c79df12fe77c47e39da112bf2854744f": {
      "model_module": "@jupyter-widgets/controls",
      "model_module_version": "1.5.0",
      "model_name": "HTMLModel",
      "state": {
       "layout": "IPY_MODEL_a12e6ceffc8243bdaff3ffbca83fb738",
       "style": "IPY_MODEL_8a4e5f793fe04215ae1079f5c3f06067",
       "value": " 35259/35259 [1:16:08&lt;00:00,  7.72it/s]"
      }
     },
     "c84fd37f9216400987f9454b11a2069b": {
      "model_module": "@jupyter-widgets/controls",
      "model_module_version": "1.5.0",
      "model_name": "DescriptionStyleModel",
      "state": {
       "description_width": ""
      }
     },
     "c871e6a5818f4b1ba050d1ac3a583b25": {
      "model_module": "@jupyter-widgets/controls",
      "model_module_version": "1.5.0",
      "model_name": "DescriptionStyleModel",
      "state": {
       "description_width": ""
      }
     },
     "c8763a815f0e432e80d7e6b71ae6e3db": {
      "model_module": "@jupyter-widgets/controls",
      "model_module_version": "1.5.0",
      "model_name": "HBoxModel",
      "state": {
       "children": [
        "IPY_MODEL_4bb0f33d7abb40a1a1fd98e5ea926ae4",
        "IPY_MODEL_d982b9afe5354c60abe56f14a38a9a16"
       ],
       "layout": "IPY_MODEL_8d54532d2f124f56b23f7e2d400e4974"
      }
     },
     "c8d78261ba814f10a8e09189c1aecfd2": {
      "model_module": "@jupyter-widgets/controls",
      "model_module_version": "1.5.0",
      "model_name": "ProgressStyleModel",
      "state": {
       "description_width": "initial"
      }
     },
     "c902e4194e244ccfa267a646bda9e409": {
      "model_module": "@jupyter-widgets/base",
      "model_module_version": "1.2.0",
      "model_name": "LayoutModel",
      "state": {}
     },
     "c96cf6c606204184b8008730ce527840": {
      "model_module": "@jupyter-widgets/controls",
      "model_module_version": "1.5.0",
      "model_name": "HTMLModel",
      "state": {
       "layout": "IPY_MODEL_0dd0f943a0fd4935aa054b4e166fc163",
       "style": "IPY_MODEL_1b455d5fd12648f3837f932357f564fc",
       "value": "23090it [00:20, 1120.90it/s]"
      }
     },
     "ca5db90a88bf49e789b5f736e07662a4": {
      "model_module": "@jupyter-widgets/controls",
      "model_module_version": "1.5.0",
      "model_name": "HTMLModel",
      "state": {
       "layout": "IPY_MODEL_0f77b0764cf64cb587646112e43bad6c",
       "style": "IPY_MODEL_a38ef03b03574950adc37faabafdd7cc",
       "value": " 329155/329155 [2:10:40&lt;00:00, 41.98it/s]"
      }
     },
     "ca6c8b62bcc6435e9c1929fba495157a": {
      "model_module": "@jupyter-widgets/controls",
      "model_module_version": "1.5.0",
      "model_name": "HTMLModel",
      "state": {
       "layout": "IPY_MODEL_5c8e4dacd7ea4d83a76e3540815014b6",
       "style": "IPY_MODEL_0facf0bc739948e8bcea01b24526a56e",
       "value": " 0/329155 [01:33&lt;?, ?it/s]"
      }
     },
     "cb4544c9185f419dad5275f16a1c4493": {
      "model_module": "@jupyter-widgets/controls",
      "model_module_version": "1.5.0",
      "model_name": "HBoxModel",
      "state": {
       "children": [
        "IPY_MODEL_fbe8007bd0734fbc8ecc60d12a64a48b",
        "IPY_MODEL_f5f4d89d9b1442fcb4cf0f0d00ebac7a"
       ],
       "layout": "IPY_MODEL_282fe79028364252bef4e146f57fa0b5"
      }
     },
     "cc27f3ed77a84c2f92c8952505b29a01": {
      "model_module": "@jupyter-widgets/controls",
      "model_module_version": "1.5.0",
      "model_name": "DescriptionStyleModel",
      "state": {
       "description_width": ""
      }
     },
     "cc461c4ca23249879a843e4a2dd8a0d3": {
      "model_module": "@jupyter-widgets/controls",
      "model_module_version": "1.5.0",
      "model_name": "FloatProgressModel",
      "state": {
       "bar_style": "success",
       "description": "100%",
       "layout": "IPY_MODEL_db1311bc3e414481b03e1c426280273e",
       "max": 32,
       "style": "IPY_MODEL_5e061ec129674260b4bda3254c834074",
       "value": 32
      }
     },
     "cc80395d2d704dd88a8de99b7a758e39": {
      "model_module": "@jupyter-widgets/base",
      "model_module_version": "1.2.0",
      "model_name": "LayoutModel",
      "state": {}
     },
     "ccb24eabc9b84edc887b80d565cbcd2f": {
      "model_module": "@jupyter-widgets/base",
      "model_module_version": "1.2.0",
      "model_name": "LayoutModel",
      "state": {}
     },
     "ccfc6d2622d041d0838bfda26a36b692": {
      "model_module": "@jupyter-widgets/controls",
      "model_module_version": "1.5.0",
      "model_name": "HBoxModel",
      "state": {
       "children": [
        "IPY_MODEL_5fa9ce69328544db8f771d23c50e2c8c",
        "IPY_MODEL_a74ad3b0f0be44e9a02170c83ce4b9a2"
       ],
       "layout": "IPY_MODEL_4c263c2fce494059a173f03d0126f3b5"
      }
     },
     "cd455496d08749ec9076731130505c99": {
      "model_module": "@jupyter-widgets/base",
      "model_module_version": "1.2.0",
      "model_name": "LayoutModel",
      "state": {}
     },
     "cd9c4fea3d0c45a3923a93c9d3952763": {
      "model_module": "@jupyter-widgets/controls",
      "model_module_version": "1.5.0",
      "model_name": "ProgressStyleModel",
      "state": {
       "description_width": "initial"
      }
     },
     "cdf231ba626846a3b6b2187f8e75d5de": {
      "model_module": "@jupyter-widgets/controls",
      "model_module_version": "1.5.0",
      "model_name": "DescriptionStyleModel",
      "state": {
       "description_width": ""
      }
     },
     "ce55029c73944accb1d36f6738c1b5b3": {
      "model_module": "@jupyter-widgets/controls",
      "model_module_version": "1.5.0",
      "model_name": "ProgressStyleModel",
      "state": {
       "description_width": "initial"
      }
     },
     "ce6659141c1f4eec88082c70d1fb1c41": {
      "model_module": "@jupyter-widgets/controls",
      "model_module_version": "1.5.0",
      "model_name": "ProgressStyleModel",
      "state": {
       "description_width": "initial"
      }
     },
     "ce6b5bce22ef44f3a347c0c261a57dbb": {
      "model_module": "@jupyter-widgets/base",
      "model_module_version": "1.2.0",
      "model_name": "LayoutModel",
      "state": {}
     },
     "cea29770304642d78d93f02acf5dff7d": {
      "model_module": "@jupyter-widgets/base",
      "model_module_version": "1.2.0",
      "model_name": "LayoutModel",
      "state": {}
     },
     "cec745c4c1fa4a6b9e4e78b563642a9b": {
      "model_module": "@jupyter-widgets/controls",
      "model_module_version": "1.5.0",
      "model_name": "FloatProgressModel",
      "state": {
       "bar_style": "success",
       "description": "100%",
       "layout": "IPY_MODEL_583abd72a1a34954b1598bda79f8c5dc",
       "max": 329155,
       "style": "IPY_MODEL_9aaf116ed7ae4619bddcbb559b9f1eea",
       "value": 329155
      }
     },
     "ced81fdad984435a96d929955c104591": {
      "model_module": "@jupyter-widgets/controls",
      "model_module_version": "1.5.0",
      "model_name": "FloatProgressModel",
      "state": {
       "bar_style": "success",
       "description": "100%",
       "layout": "IPY_MODEL_6d3e014201ed4a29abc0c57828e3793b",
       "max": 329155,
       "style": "IPY_MODEL_0cbea9c69a0f46d5848ea6b8804b9e17",
       "value": 329155
      }
     },
     "cee9ffdef88a42209b9bf6f68ffae04e": {
      "model_module": "@jupyter-widgets/controls",
      "model_module_version": "1.5.0",
      "model_name": "HTMLModel",
      "state": {
       "layout": "IPY_MODEL_efc6fcefff604358a416948035b59fcf",
       "style": "IPY_MODEL_c84fd37f9216400987f9454b11a2069b",
       "value": " 329155/329155 [1:40:29&lt;00:00, 54.59it/s]"
      }
     },
     "cfd5f100cfed4dd1a651d1c25bedc8dd": {
      "model_module": "@jupyter-widgets/base",
      "model_module_version": "1.2.0",
      "model_name": "LayoutModel",
      "state": {}
     },
     "cfdd1af970f443de9ea4a6377eb108e1": {
      "model_module": "@jupyter-widgets/controls",
      "model_module_version": "1.5.0",
      "model_name": "HTMLModel",
      "state": {
       "layout": "IPY_MODEL_26c6277b769a40179f715740c9bd66ae",
       "style": "IPY_MODEL_d889905c59274e2e924de822500aeb8a",
       "value": " 329155/329155 [20:54&lt;00:00, 262.44it/s]"
      }
     },
     "cffe7cb6d00e432d8254fb8669d21171": {
      "model_module": "@jupyter-widgets/base",
      "model_module_version": "1.2.0",
      "model_name": "LayoutModel",
      "state": {}
     },
     "d02ed052787848fbaa9ad1df577744b5": {
      "model_module": "@jupyter-widgets/controls",
      "model_module_version": "1.5.0",
      "model_name": "ProgressStyleModel",
      "state": {
       "description_width": "initial"
      }
     },
     "d0482bdf8ec64eab9448a553246d1c47": {
      "model_module": "@jupyter-widgets/base",
      "model_module_version": "1.2.0",
      "model_name": "LayoutModel",
      "state": {}
     },
     "d0c87b7d64aa4264afa609dea83585cc": {
      "model_module": "@jupyter-widgets/controls",
      "model_module_version": "1.5.0",
      "model_name": "ProgressStyleModel",
      "state": {
       "description_width": "initial"
      }
     },
     "d0dd2164876342f897d1e888702a5a34": {
      "model_module": "@jupyter-widgets/base",
      "model_module_version": "1.2.0",
      "model_name": "LayoutModel",
      "state": {}
     },
     "d0f8b3a348c84196a7dfe9e52c8c4348": {
      "model_module": "@jupyter-widgets/controls",
      "model_module_version": "1.5.0",
      "model_name": "ProgressStyleModel",
      "state": {
       "description_width": "initial"
      }
     },
     "d0ff9774a71e4eb98d16b6cd23a4e93d": {
      "model_module": "@jupyter-widgets/controls",
      "model_module_version": "1.5.0",
      "model_name": "FloatProgressModel",
      "state": {
       "bar_style": "success",
       "description": "100%",
       "layout": "IPY_MODEL_58577514929a4b56b85f8f740c15205e",
       "max": 329155,
       "style": "IPY_MODEL_0eba7a0de75e4584bbd3eebdbdb734cf",
       "value": 329155
      }
     },
     "d21715764d2d42d6b40b05e3ea1979ae": {
      "model_module": "@jupyter-widgets/controls",
      "model_module_version": "1.5.0",
      "model_name": "DescriptionStyleModel",
      "state": {
       "description_width": ""
      }
     },
     "d28e6f46aff44ad59e7e31cb8a4e870b": {
      "model_module": "@jupyter-widgets/controls",
      "model_module_version": "1.5.0",
      "model_name": "HBoxModel",
      "state": {
       "children": [
        "IPY_MODEL_c6aafc4c3a6e4a9dbd4e2ceb064f4b4e",
        "IPY_MODEL_92766eec789a402898498df38644e771"
       ],
       "layout": "IPY_MODEL_d79b4a4bb20a48da8e62c7166f495f0e"
      }
     },
     "d2970f4d3d1e4e7a8e1475d565fb13b7": {
      "model_module": "@jupyter-widgets/base",
      "model_module_version": "1.2.0",
      "model_name": "LayoutModel",
      "state": {}
     },
     "d2994ac7587642d7b0af4a1145f186ad": {
      "model_module": "@jupyter-widgets/controls",
      "model_module_version": "1.5.0",
      "model_name": "ProgressStyleModel",
      "state": {
       "description_width": "initial"
      }
     },
     "d2a96811582944beb093ad27a0fb2cbd": {
      "model_module": "@jupyter-widgets/base",
      "model_module_version": "1.2.0",
      "model_name": "LayoutModel",
      "state": {}
     },
     "d30369a24c0f4bedb961849f68c37a67": {
      "model_module": "@jupyter-widgets/base",
      "model_module_version": "1.2.0",
      "model_name": "LayoutModel",
      "state": {}
     },
     "d37d21d1ec6146c087dfb9d4e2221efe": {
      "model_module": "@jupyter-widgets/base",
      "model_module_version": "1.2.0",
      "model_name": "LayoutModel",
      "state": {}
     },
     "d3b555d3cfdd4bddac75c54411493989": {
      "model_module": "@jupyter-widgets/base",
      "model_module_version": "1.2.0",
      "model_name": "LayoutModel",
      "state": {}
     },
     "d3c5f2a3e1c04e7a92a61835ea5434a2": {
      "model_module": "@jupyter-widgets/controls",
      "model_module_version": "1.5.0",
      "model_name": "FloatProgressModel",
      "state": {
       "bar_style": "success",
       "description": "100%",
       "layout": "IPY_MODEL_95c4291b4d56435cb1535e8d65c1ef9c",
       "max": 329155,
       "style": "IPY_MODEL_5db7017a6e5045a8a5a7b7c7634a3c74",
       "value": 329155
      }
     },
     "d4868ddda1f64a44a5e0063419d942f7": {
      "model_module": "@jupyter-widgets/controls",
      "model_module_version": "1.5.0",
      "model_name": "ProgressStyleModel",
      "state": {
       "description_width": "initial"
      }
     },
     "d4cc58a85b4a4ddcaf9e457e149a76ee": {
      "model_module": "@jupyter-widgets/controls",
      "model_module_version": "1.5.0",
      "model_name": "FloatProgressModel",
      "state": {
       "bar_style": "success",
       "description": "100%",
       "layout": "IPY_MODEL_0e22f1a9b1f44388a8a1c6a41876f945",
       "max": 329155,
       "style": "IPY_MODEL_ce6659141c1f4eec88082c70d1fb1c41",
       "value": 329155
      }
     },
     "d4ebf003cb284446ac243f4121fc3598": {
      "model_module": "@jupyter-widgets/controls",
      "model_module_version": "1.5.0",
      "model_name": "DescriptionStyleModel",
      "state": {
       "description_width": ""
      }
     },
     "d4fe9d183fb44912a6bcf825bfccc928": {
      "model_module": "@jupyter-widgets/controls",
      "model_module_version": "1.5.0",
      "model_name": "ProgressStyleModel",
      "state": {
       "description_width": "initial"
      }
     },
     "d52caf831032439c916aa88573e22e8b": {
      "model_module": "@jupyter-widgets/base",
      "model_module_version": "1.2.0",
      "model_name": "LayoutModel",
      "state": {}
     },
     "d59ad4248cf6454c90b994b1afd7729c": {
      "model_module": "@jupyter-widgets/base",
      "model_module_version": "1.2.0",
      "model_name": "LayoutModel",
      "state": {}
     },
     "d648054077fa4cf4b5f56aceb9030aff": {
      "model_module": "@jupyter-widgets/base",
      "model_module_version": "1.2.0",
      "model_name": "LayoutModel",
      "state": {}
     },
     "d6731bd4a695446d924f2b4b21d3666e": {
      "model_module": "@jupyter-widgets/controls",
      "model_module_version": "1.5.0",
      "model_name": "FloatProgressModel",
      "state": {
       "bar_style": "success",
       "description": "100%",
       "layout": "IPY_MODEL_0a959230102644f6954ca88ca960b666",
       "max": 4,
       "style": "IPY_MODEL_f2eaf4ccaf164187b08207ab7eb521f7",
       "value": 4
      }
     },
     "d6770fe6582649c3a506cd2383e92d2c": {
      "model_module": "@jupyter-widgets/controls",
      "model_module_version": "1.5.0",
      "model_name": "DescriptionStyleModel",
      "state": {
       "description_width": ""
      }
     },
     "d68cedbee8d246d1b5bd1f2441df3928": {
      "model_module": "@jupyter-widgets/controls",
      "model_module_version": "1.5.0",
      "model_name": "HBoxModel",
      "state": {
       "children": [
        "IPY_MODEL_4b153f5a2cfb41f7bf94b09d7d5f8a2d",
        "IPY_MODEL_865eb29090954c8fa833f40936f9886c"
       ],
       "layout": "IPY_MODEL_7dcce3792ab3451da3453e2e021e901b"
      }
     },
     "d6a425dacf99478d84ade356251b9d93": {
      "model_module": "@jupyter-widgets/base",
      "model_module_version": "1.2.0",
      "model_name": "LayoutModel",
      "state": {}
     },
     "d769bfd653a546cdb7ca354b08dbe0ea": {
      "model_module": "@jupyter-widgets/base",
      "model_module_version": "1.2.0",
      "model_name": "LayoutModel",
      "state": {}
     },
     "d772dfa0afcb4fb39bfbe728b482e968": {
      "model_module": "@jupyter-widgets/base",
      "model_module_version": "1.2.0",
      "model_name": "LayoutModel",
      "state": {}
     },
     "d77438834fde485ea0f749cd9c9c215d": {
      "model_module": "@jupyter-widgets/controls",
      "model_module_version": "1.5.0",
      "model_name": "HTMLModel",
      "state": {
       "layout": "IPY_MODEL_2f9947a1b9c44f1d978b9402d4bcd3b3",
       "style": "IPY_MODEL_a92da92c566b4b70860b0ff473af3a50",
       "value": " 329155/329155 [15:57&lt;00:00, 343.76it/s]"
      }
     },
     "d79b4a4bb20a48da8e62c7166f495f0e": {
      "model_module": "@jupyter-widgets/base",
      "model_module_version": "1.2.0",
      "model_name": "LayoutModel",
      "state": {}
     },
     "d7cbe9db9b994f6ea4ece9c511b7ecd6": {
      "model_module": "@jupyter-widgets/controls",
      "model_module_version": "1.5.0",
      "model_name": "FloatProgressModel",
      "state": {
       "bar_style": "success",
       "description": "100%",
       "layout": "IPY_MODEL_f8ea72283dcd4ea9adea52a96e0c4ee9",
       "max": 329155,
       "style": "IPY_MODEL_9c6115117e8b4a6385f97410402235e1",
       "value": 329155
      }
     },
     "d81c7f5095d54c98b51057a9cb3ec81f": {
      "model_module": "@jupyter-widgets/controls",
      "model_module_version": "1.5.0",
      "model_name": "DescriptionStyleModel",
      "state": {
       "description_width": ""
      }
     },
     "d84cb2885619439d8800ce32e9067f1c": {
      "model_module": "@jupyter-widgets/base",
      "model_module_version": "1.2.0",
      "model_name": "LayoutModel",
      "state": {}
     },
     "d8654cf71ff04c4b91304885c28434b3": {
      "model_module": "@jupyter-widgets/base",
      "model_module_version": "1.2.0",
      "model_name": "LayoutModel",
      "state": {}
     },
     "d889905c59274e2e924de822500aeb8a": {
      "model_module": "@jupyter-widgets/controls",
      "model_module_version": "1.5.0",
      "model_name": "DescriptionStyleModel",
      "state": {
       "description_width": ""
      }
     },
     "d8c6365dc3d54fa2aedbb5517b5f596c": {
      "model_module": "@jupyter-widgets/controls",
      "model_module_version": "1.5.0",
      "model_name": "FloatProgressModel",
      "state": {
       "bar_style": "success",
       "description": "100%",
       "layout": "IPY_MODEL_5f053e7d3cc840cd81facb467a0605b5",
       "max": 4,
       "style": "IPY_MODEL_35d714ac585e4cd797d0436d451441eb",
       "value": 4
      }
     },
     "d8cd6a1111634648a04897634dee03aa": {
      "model_module": "@jupyter-widgets/base",
      "model_module_version": "1.2.0",
      "model_name": "LayoutModel",
      "state": {}
     },
     "d8e2de3f2c03472bbaca4fb46da65c96": {
      "model_module": "@jupyter-widgets/controls",
      "model_module_version": "1.5.0",
      "model_name": "FloatProgressModel",
      "state": {
       "bar_style": "danger",
       "description": "  9%",
       "layout": "IPY_MODEL_cea29770304642d78d93f02acf5dff7d",
       "max": 329155,
       "style": "IPY_MODEL_c517aa1711e34fe9ab6cfc8785bdd6ee",
       "value": 29950
      }
     },
     "d9398fe4406948bea1445caa324101c6": {
      "model_module": "@jupyter-widgets/controls",
      "model_module_version": "1.5.0",
      "model_name": "ProgressStyleModel",
      "state": {
       "description_width": "initial"
      }
     },
     "d94fe56779f642cb8bd0ac5c4dd6205e": {
      "model_module": "@jupyter-widgets/controls",
      "model_module_version": "1.5.0",
      "model_name": "HBoxModel",
      "state": {
       "children": [
        "IPY_MODEL_9d73f356c8704b39b4bfeca789dfa234",
        "IPY_MODEL_4679776a08c240c3a50e120501ebbda6"
       ],
       "layout": "IPY_MODEL_f5defad343bf477695442d2f647d7f9a"
      }
     },
     "d9566a9c136646ea9c5ea27039a13242": {
      "model_module": "@jupyter-widgets/base",
      "model_module_version": "1.2.0",
      "model_name": "LayoutModel",
      "state": {}
     },
     "d982b9afe5354c60abe56f14a38a9a16": {
      "model_module": "@jupyter-widgets/controls",
      "model_module_version": "1.5.0",
      "model_name": "HTMLModel",
      "state": {
       "layout": "IPY_MODEL_991a96af7b654d81aef70e6553a604ce",
       "style": "IPY_MODEL_746530fe02244e4fa0f09b5dd06bbf02",
       "value": " 329155/329155 [3:11:05&lt;00:00, 28.71it/s]"
      }
     },
     "d9855c9f13244594ac36ae19176ef80f": {
      "model_module": "@jupyter-widgets/controls",
      "model_module_version": "1.5.0",
      "model_name": "HTMLModel",
      "state": {
       "layout": "IPY_MODEL_a2fddfa1bb894f898c6a17bfd4006dea",
       "style": "IPY_MODEL_897861a496fd41e3bd88edf27108e682",
       "value": " 329155/329155 [13:12&lt;00:00, 415.51it/s]"
      }
     },
     "d9dd5c7b82dd46d0b77ff59f51b0685e": {
      "model_module": "@jupyter-widgets/controls",
      "model_module_version": "1.5.0",
      "model_name": "HBoxModel",
      "state": {
       "children": [
        "IPY_MODEL_f2b82c900b7749fb8bca08e64f5bde8b",
        "IPY_MODEL_4ff1424194c94aa4b8ec6d51ba15adfe"
       ],
       "layout": "IPY_MODEL_2b576fd21c8b4818b23fcafdd10c7608"
      }
     },
     "da75dad1d2084ada9d6b4fd8a40b7896": {
      "model_module": "@jupyter-widgets/controls",
      "model_module_version": "1.5.0",
      "model_name": "HTMLModel",
      "state": {
       "layout": "IPY_MODEL_742915bee8624e3aa6c9fcaaeffe3bcb",
       "style": "IPY_MODEL_620345f602e44815b56382b48698db46",
       "value": " 42181/329155 [00:31&lt;03:37, 1320.80it/s]"
      }
     },
     "da7714d28a674af69acc352840982ab9": {
      "model_module": "@jupyter-widgets/base",
      "model_module_version": "1.2.0",
      "model_name": "LayoutModel",
      "state": {}
     },
     "da96e83e6c70449397249aa66a008655": {
      "model_module": "@jupyter-widgets/controls",
      "model_module_version": "1.5.0",
      "model_name": "HBoxModel",
      "state": {
       "children": [
        "IPY_MODEL_b379a4702dac474cae025f005fa7baf9",
        "IPY_MODEL_da75dad1d2084ada9d6b4fd8a40b7896"
       ],
       "layout": "IPY_MODEL_0a67d991fe5c4c048644cc3ddfb97572"
      }
     },
     "da98c1af9a6c4911bbcbf8d6f271acb4": {
      "model_module": "@jupyter-widgets/controls",
      "model_module_version": "1.5.0",
      "model_name": "HTMLModel",
      "state": {
       "layout": "IPY_MODEL_b194ebcd71a0493a82c54cac6483d89d",
       "style": "IPY_MODEL_8a7ee232ef404f9ba5f05e67722ad386",
       "value": " 4/4 [45:27&lt;00:00, 681.75s/it]"
      }
     },
     "dad334c913994b52b8e6936976304711": {
      "model_module": "@jupyter-widgets/base",
      "model_module_version": "1.2.0",
      "model_name": "LayoutModel",
      "state": {}
     },
     "dae9df914dc34b4cbe7895e991573609": {
      "model_module": "@jupyter-widgets/controls",
      "model_module_version": "1.5.0",
      "model_name": "FloatProgressModel",
      "state": {
       "bar_style": "success",
       "description": "100%",
       "layout": "IPY_MODEL_1e86c5ae5b2042d78635c3de103b6056",
       "max": 329155,
       "style": "IPY_MODEL_7872fa326fe64aa29c6eba335eb79fc0",
       "value": 329155
      }
     },
     "db1311bc3e414481b03e1c426280273e": {
      "model_module": "@jupyter-widgets/base",
      "model_module_version": "1.2.0",
      "model_name": "LayoutModel",
      "state": {}
     },
     "db4c14053b874354a90db5b435b5e2af": {
      "model_module": "@jupyter-widgets/base",
      "model_module_version": "1.2.0",
      "model_name": "LayoutModel",
      "state": {}
     },
     "dc1acaa0271549678e2bc1edf9e8a32b": {
      "model_module": "@jupyter-widgets/base",
      "model_module_version": "1.2.0",
      "model_name": "LayoutModel",
      "state": {}
     },
     "dc6ba891d0324dc9bd0ea771ec944f07": {
      "model_module": "@jupyter-widgets/controls",
      "model_module_version": "1.5.0",
      "model_name": "HTMLModel",
      "state": {
       "layout": "IPY_MODEL_9682558d9ce8448aa6c5c27db1e45aae",
       "style": "IPY_MODEL_a07d0abb2c86416687aa9d25152b483b",
       "value": " 329155/329155 [1:10:21&lt;00:00, 77.97it/s]"
      }
     },
     "dd567af105f94414bd366e26a6736763": {
      "model_module": "@jupyter-widgets/base",
      "model_module_version": "1.2.0",
      "model_name": "LayoutModel",
      "state": {}
     },
     "dd6a6c2b34924fbba833fc391e765abc": {
      "model_module": "@jupyter-widgets/controls",
      "model_module_version": "1.5.0",
      "model_name": "HTMLModel",
      "state": {
       "layout": "IPY_MODEL_d2970f4d3d1e4e7a8e1475d565fb13b7",
       "style": "IPY_MODEL_2581087f8494489d9c88900570bde0af",
       "value": " 329155/329155 [10:03&lt;00:00, 545.61it/s]"
      }
     },
     "ddf8dd2e18e449dcbe0248e5fe03094e": {
      "model_module": "@jupyter-widgets/controls",
      "model_module_version": "1.5.0",
      "model_name": "HBoxModel",
      "state": {
       "children": [
        "IPY_MODEL_15ac550ad18a4b9caa9cb7c8246f789f",
        "IPY_MODEL_3a092c99d7b54af19fa56c48967be6eb"
       ],
       "layout": "IPY_MODEL_d772dfa0afcb4fb39bfbe728b482e968"
      }
     },
     "de14da700c2c42c3ba8c28ac7d0e68b5": {
      "model_module": "@jupyter-widgets/controls",
      "model_module_version": "1.5.0",
      "model_name": "HBoxModel",
      "state": {
       "children": [
        "IPY_MODEL_d8e2de3f2c03472bbaca4fb46da65c96",
        "IPY_MODEL_b9e98890cd0c4c769a0f283a4b4e9b40"
       ],
       "layout": "IPY_MODEL_f9d66d7647f542a687b245fe6f291045"
      }
     },
     "deb3d4fb7d904a8a9f22a244039ed4fa": {
      "model_module": "@jupyter-widgets/controls",
      "model_module_version": "1.5.0",
      "model_name": "DescriptionStyleModel",
      "state": {
       "description_width": ""
      }
     },
     "decff4d185bc4344b49ceddbf4dd7157": {
      "model_module": "@jupyter-widgets/controls",
      "model_module_version": "1.5.0",
      "model_name": "HTMLModel",
      "state": {
       "layout": "IPY_MODEL_ed51a2888ea4471883539503da639806",
       "style": "IPY_MODEL_720efbe3f6cb4307b6b2835a3c3eee19",
       "value": " 4/4 [50:14&lt;00:00, 753.54s/it]"
      }
     },
     "df34d2a116cf411ebc1a77584b605539": {
      "model_module": "@jupyter-widgets/controls",
      "model_module_version": "1.5.0",
      "model_name": "FloatProgressModel",
      "state": {
       "bar_style": "success",
       "description": "100%",
       "layout": "IPY_MODEL_176700af5a0d49e7945b37722c12a2ac",
       "max": 329155,
       "style": "IPY_MODEL_d2994ac7587642d7b0af4a1145f186ad",
       "value": 329155
      }
     },
     "dfa9601ca01a45c8b16a206bc7499d33": {
      "model_module": "@jupyter-widgets/controls",
      "model_module_version": "1.5.0",
      "model_name": "HTMLModel",
      "state": {
       "layout": "IPY_MODEL_811975366c5747398936fe1e6a90e94d",
       "style": "IPY_MODEL_bc9eb1e526eb419e99d1774d6978f2ee",
       "value": " 329155/329155 [25:47&lt;00:00, 212.70it/s]"
      }
     },
     "dfb91a394b4d41248359bfa90f86af18": {
      "model_module": "@jupyter-widgets/controls",
      "model_module_version": "1.5.0",
      "model_name": "ProgressStyleModel",
      "state": {
       "description_width": "initial"
      }
     },
     "dfd16dd3e08541f89970e44d31496e11": {
      "model_module": "@jupyter-widgets/controls",
      "model_module_version": "1.5.0",
      "model_name": "HTMLModel",
      "state": {
       "layout": "IPY_MODEL_c5dd5653add747f793c59964fa33e5a2",
       "style": "IPY_MODEL_22a8f8d8dbc84a0c86e6a45bc2969dec",
       "value": " 0/329155 [08:43&lt;?, ?it/s]"
      }
     },
     "dfddc3ff9a564e06ad1a10d0d8ef5a93": {
      "model_module": "@jupyter-widgets/base",
      "model_module_version": "1.2.0",
      "model_name": "LayoutModel",
      "state": {}
     },
     "e00878aef46a4a67b83a3ae0b58813a3": {
      "model_module": "@jupyter-widgets/controls",
      "model_module_version": "1.5.0",
      "model_name": "ProgressStyleModel",
      "state": {
       "description_width": "initial"
      }
     },
     "e01653b02e05458db520b60c9661db15": {
      "model_module": "@jupyter-widgets/controls",
      "model_module_version": "1.5.0",
      "model_name": "HBoxModel",
      "state": {
       "children": [
        "IPY_MODEL_048368549419426bb784455ca9d9da60",
        "IPY_MODEL_68bcce2fd64c4a77829e9bc9e747c423"
       ],
       "layout": "IPY_MODEL_a770363ac9d24b9dbbf44ad6e349da2a"
      }
     },
     "e067b1a1983846409a947bfeedea0bc2": {
      "model_module": "@jupyter-widgets/controls",
      "model_module_version": "1.5.0",
      "model_name": "ProgressStyleModel",
      "state": {
       "description_width": "initial"
      }
     },
     "e082b3df6ece4722b83d965976b5e47a": {
      "model_module": "@jupyter-widgets/base",
      "model_module_version": "1.2.0",
      "model_name": "LayoutModel",
      "state": {}
     },
     "e0b78318adbf452ebfd5cde48fb97acb": {
      "model_module": "@jupyter-widgets/base",
      "model_module_version": "1.2.0",
      "model_name": "LayoutModel",
      "state": {}
     },
     "e0f94e0b88a94b0b982ab408034254f8": {
      "model_module": "@jupyter-widgets/base",
      "model_module_version": "1.2.0",
      "model_name": "LayoutModel",
      "state": {}
     },
     "e1198acf516e42eeac3c98b996fb1474": {
      "model_module": "@jupyter-widgets/controls",
      "model_module_version": "1.5.0",
      "model_name": "DescriptionStyleModel",
      "state": {
       "description_width": ""
      }
     },
     "e12b8b3d0f70402b9c8830254a93e025": {
      "model_module": "@jupyter-widgets/controls",
      "model_module_version": "1.5.0",
      "model_name": "HBoxModel",
      "state": {
       "children": [
        "IPY_MODEL_d7cbe9db9b994f6ea4ece9c511b7ecd6",
        "IPY_MODEL_51e5fc3b9f0746b4b1c72b30571c9f66"
       ],
       "layout": "IPY_MODEL_4bd4f12131cc415283af4a98608c3fe9"
      }
     },
     "e170b10eec244b30a3f67656249d284c": {
      "model_module": "@jupyter-widgets/base",
      "model_module_version": "1.2.0",
      "model_name": "LayoutModel",
      "state": {}
     },
     "e179c8b2ae3842c1963df7e575e20d90": {
      "model_module": "@jupyter-widgets/base",
      "model_module_version": "1.2.0",
      "model_name": "LayoutModel",
      "state": {}
     },
     "e1e1b2becfab4e30a2a218b986109740": {
      "model_module": "@jupyter-widgets/controls",
      "model_module_version": "1.5.0",
      "model_name": "HTMLModel",
      "state": {
       "layout": "IPY_MODEL_800e6e23eb434101a5720c6695f1ecb0",
       "style": "IPY_MODEL_71ff923c6ecc4970bbf1f5b15c5ffdf5",
       "value": " 329155/329155 [13:22&lt;00:00, 410.34it/s]"
      }
     },
     "e214e4213d21493eb3ca5835c7a2d2d5": {
      "model_module": "@jupyter-widgets/base",
      "model_module_version": "1.2.0",
      "model_name": "LayoutModel",
      "state": {}
     },
     "e2724e79cdb64555b9f7d8191c2ad8fe": {
      "model_module": "@jupyter-widgets/controls",
      "model_module_version": "1.5.0",
      "model_name": "HBoxModel",
      "state": {
       "children": [
        "IPY_MODEL_fa4e89cb74e3491e9dce7d06bd9bc2d3",
        "IPY_MODEL_dc6ba891d0324dc9bd0ea771ec944f07"
       ],
       "layout": "IPY_MODEL_92e585b4f80248f1a7c16206fd0a2866"
      }
     },
     "e29d581e14814acd8aab0e028bcbd94d": {
      "model_module": "@jupyter-widgets/controls",
      "model_module_version": "1.5.0",
      "model_name": "FloatProgressModel",
      "state": {
       "bar_style": "success",
       "description": "100%",
       "layout": "IPY_MODEL_2464c33c65c540ac8bc620b709c05853",
       "max": 1,
       "style": "IPY_MODEL_90ea262cc4cd4b148df4c03feb4bc565",
       "value": 1
      }
     },
     "e2c6791fb479473fabb6c9b4bf421ab0": {
      "model_module": "@jupyter-widgets/controls",
      "model_module_version": "1.5.0",
      "model_name": "ProgressStyleModel",
      "state": {
       "description_width": "initial"
      }
     },
     "e2ef190b845e41c38b6262cbab95c2ab": {
      "model_module": "@jupyter-widgets/base",
      "model_module_version": "1.2.0",
      "model_name": "LayoutModel",
      "state": {}
     },
     "e307d8f8c4c84084b9d2cf32d18361e6": {
      "model_module": "@jupyter-widgets/controls",
      "model_module_version": "1.5.0",
      "model_name": "ProgressStyleModel",
      "state": {
       "description_width": "initial"
      }
     },
     "e45d480ea0f0458587bffff8890c5fb8": {
      "model_module": "@jupyter-widgets/base",
      "model_module_version": "1.2.0",
      "model_name": "LayoutModel",
      "state": {}
     },
     "e4f5a84b2d974c609a487d9b3372339e": {
      "model_module": "@jupyter-widgets/controls",
      "model_module_version": "1.5.0",
      "model_name": "HTMLModel",
      "state": {
       "layout": "IPY_MODEL_a6507c3454ae43b4b88f3a0045239521",
       "style": "IPY_MODEL_1e5348b586bb4a84858e557a51538520",
       "value": " 329155/329155 [12:02&lt;00:00, 455.28it/s]"
      }
     },
     "e51224bd33d34fe98e403098cb15697c": {
      "model_module": "@jupyter-widgets/controls",
      "model_module_version": "1.5.0",
      "model_name": "FloatProgressModel",
      "state": {
       "bar_style": "success",
       "description": "Parsing dataset: 100%",
       "layout": "IPY_MODEL_d8654cf71ff04c4b91304885c28434b3",
       "max": 373801,
       "style": "IPY_MODEL_9568a3433f384b4981033326f98dc5bf",
       "value": 373801
      }
     },
     "e5149ad13f704764b1b24f19266d1611": {
      "model_module": "@jupyter-widgets/base",
      "model_module_version": "1.2.0",
      "model_name": "LayoutModel",
      "state": {}
     },
     "e516b37c9c95441c9e64fde8d8e56289": {
      "model_module": "@jupyter-widgets/controls",
      "model_module_version": "1.5.0",
      "model_name": "DescriptionStyleModel",
      "state": {
       "description_width": ""
      }
     },
     "e554fee0f28e4ab5b1b73640a694dd1a": {
      "model_module": "@jupyter-widgets/controls",
      "model_module_version": "1.5.0",
      "model_name": "FloatProgressModel",
      "state": {
       "bar_style": "danger",
       "description": " 17%",
       "layout": "IPY_MODEL_14efd52e96304d889d2bd950c85cea50",
       "max": 329155,
       "style": "IPY_MODEL_4d417e5b54a3497eb5b58ab6a8ab0b34",
       "value": 55135
      }
     },
     "e6a0ce778b4d41df8a3d1135c7d6126c": {
      "model_module": "@jupyter-widgets/controls",
      "model_module_version": "1.5.0",
      "model_name": "HTMLModel",
      "state": {
       "layout": "IPY_MODEL_d52caf831032439c916aa88573e22e8b",
       "style": "IPY_MODEL_aaeaad8b4b5a4dc5bfbd66d3bd29c246",
       "value": " 35259/35259 [1:34:43&lt;00:00,  6.20it/s]"
      }
     },
     "e6c35b0e54444b8bbb005a59df202df3": {
      "model_module": "@jupyter-widgets/controls",
      "model_module_version": "1.5.0",
      "model_name": "HBoxModel",
      "state": {
       "children": [
        "IPY_MODEL_314c530a8f44459a90d770bf98943d2c",
        "IPY_MODEL_c79df12fe77c47e39da112bf2854744f"
       ],
       "layout": "IPY_MODEL_5dfd72c2bf3b49e2a98ab4290652ff73"
      }
     },
     "e73057e5b62d441283676d92105ebf09": {
      "model_module": "@jupyter-widgets/controls",
      "model_module_version": "1.5.0",
      "model_name": "HBoxModel",
      "state": {
       "children": [
        "IPY_MODEL_a88c04c4f1b14b4e86a6a901b3997896",
        "IPY_MODEL_263ddf2ab88f4658b393fda7cba7f936"
       ],
       "layout": "IPY_MODEL_ba651e20d4e64107aa1567b93a5f169a"
      }
     },
     "e73398347a224224ae975d2539660daf": {
      "model_module": "@jupyter-widgets/base",
      "model_module_version": "1.2.0",
      "model_name": "LayoutModel",
      "state": {}
     },
     "e79d4c40725249879b010775cb754193": {
      "model_module": "@jupyter-widgets/controls",
      "model_module_version": "1.5.0",
      "model_name": "HBoxModel",
      "state": {
       "children": [
        "IPY_MODEL_016419ae33474fc59749b2f50bd416ae",
        "IPY_MODEL_bddd228f87d64c03b472bbf8d20ebac7"
       ],
       "layout": "IPY_MODEL_4d7aad74461b4dfb8ec6b9dfb4aa7d3c"
      }
     },
     "e82087c5bc944dd59a0bf7423ab1926c": {
      "model_module": "@jupyter-widgets/controls",
      "model_module_version": "1.5.0",
      "model_name": "HBoxModel",
      "state": {
       "children": [
        "IPY_MODEL_1df0358d488d4938b52fbd6d7d6ddbfb",
        "IPY_MODEL_427b55e76bfd4f369e4e2262a399b75c"
       ],
       "layout": "IPY_MODEL_d0482bdf8ec64eab9448a553246d1c47"
      }
     },
     "e84ae92c8e4d4b8baa1cb5f348a3943a": {
      "model_module": "@jupyter-widgets/base",
      "model_module_version": "1.2.0",
      "model_name": "LayoutModel",
      "state": {}
     },
     "e85755c3b86c41f3a0a9dfc52de624d9": {
      "model_module": "@jupyter-widgets/controls",
      "model_module_version": "1.5.0",
      "model_name": "DescriptionStyleModel",
      "state": {
       "description_width": ""
      }
     },
     "e8c87a8654c84d5aa6b5ce7b9b29c990": {
      "model_module": "@jupyter-widgets/controls",
      "model_module_version": "1.5.0",
      "model_name": "HBoxModel",
      "state": {
       "children": [
        "IPY_MODEL_b565af0875f740eeae78b5a4cdb0a358",
        "IPY_MODEL_b2605f47898c4024935386e8f4cf3c0d"
       ],
       "layout": "IPY_MODEL_7ce311f27d3f4bc2affc307ae3716968"
      }
     },
     "e8caf9c3c27c436fb07106839067c8cc": {
      "model_module": "@jupyter-widgets/base",
      "model_module_version": "1.2.0",
      "model_name": "LayoutModel",
      "state": {}
     },
     "e8d1fd78a16543e38ad73d9ddd2d0308": {
      "model_module": "@jupyter-widgets/controls",
      "model_module_version": "1.5.0",
      "model_name": "HBoxModel",
      "state": {
       "children": [
        "IPY_MODEL_20bb4a45905d4eafbe99482e959779f6",
        "IPY_MODEL_2c87b9ecc24246c3ae3046c72b6f3461"
       ],
       "layout": "IPY_MODEL_3faf030c301b41bd8e68529b403aafdd"
      }
     },
     "e9a70f2776154821ae596c1de3e17b1f": {
      "model_module": "@jupyter-widgets/controls",
      "model_module_version": "1.5.0",
      "model_name": "HTMLModel",
      "state": {
       "layout": "IPY_MODEL_ae18f061e5834fa08aaa10147f4c6b1b",
       "style": "IPY_MODEL_7db3f1a18c2d49bab3175ea0096aecff",
       "value": " 329155/329155 [20:08&lt;00:00, 272.38it/s]"
      }
     },
     "e9d4f42cbf624c90b6e4928d500f31c7": {
      "model_module": "@jupyter-widgets/base",
      "model_module_version": "1.2.0",
      "model_name": "LayoutModel",
      "state": {}
     },
     "ead2fd826e714354b5d374f92571333d": {
      "model_module": "@jupyter-widgets/controls",
      "model_module_version": "1.5.0",
      "model_name": "FloatProgressModel",
      "state": {
       "bar_style": "success",
       "description": "Reading word vectors: 100%",
       "layout": "IPY_MODEL_52f545e9cb70442aad60f86ffab81902",
       "max": 4027169,
       "style": "IPY_MODEL_892abe34f96840df8106a5ba6098a63d",
       "value": 4027169
      }
     },
     "eb0bb21392444380adc62a640ef521ca": {
      "model_module": "@jupyter-widgets/controls",
      "model_module_version": "1.5.0",
      "model_name": "HBoxModel",
      "state": {
       "children": [
        "IPY_MODEL_434e7000389d40cea787665bb8e6022c",
        "IPY_MODEL_07ba69bc631c42e5b7164277b0c00e64"
       ],
       "layout": "IPY_MODEL_d3b555d3cfdd4bddac75c54411493989"
      }
     },
     "eb64594d921147e49331234ae91d5bdf": {
      "model_module": "@jupyter-widgets/base",
      "model_module_version": "1.2.0",
      "model_name": "LayoutModel",
      "state": {}
     },
     "eb68bb51124c4bc18e750a3dc86a835f": {
      "model_module": "@jupyter-widgets/controls",
      "model_module_version": "1.5.0",
      "model_name": "HBoxModel",
      "state": {
       "children": [
        "IPY_MODEL_ba9a56a5252b46de9d35e8798436a86d",
        "IPY_MODEL_4abc9a5a6df74f31a1fbf2e9668a3243"
       ],
       "layout": "IPY_MODEL_70499bf77fa04d088564cb6e2cd25b33"
      }
     },
     "ec3668a4ed27411391b7da45b85a1174": {
      "model_module": "@jupyter-widgets/controls",
      "model_module_version": "1.5.0",
      "model_name": "ProgressStyleModel",
      "state": {
       "description_width": "initial"
      }
     },
     "ec8e7b191d2b4fe6918615d7a83075ff": {
      "model_module": "@jupyter-widgets/controls",
      "model_module_version": "1.5.0",
      "model_name": "FloatProgressModel",
      "state": {
       "bar_style": "danger",
       "description": "  5%",
       "layout": "IPY_MODEL_21dbdf0bee194110b2fa5b6c1cdcb602",
       "max": 329155,
       "style": "IPY_MODEL_a8909aeb30084ec48de19bbf04d59a16",
       "value": 16310
      }
     },
     "eca4055efdd0408fb883ef076d17cea4": {
      "model_module": "@jupyter-widgets/base",
      "model_module_version": "1.2.0",
      "model_name": "LayoutModel",
      "state": {}
     },
     "ecb07716035347849f63acdcb9a1e52f": {
      "model_module": "@jupyter-widgets/controls",
      "model_module_version": "1.5.0",
      "model_name": "DescriptionStyleModel",
      "state": {
       "description_width": ""
      }
     },
     "ed4102ba1a0a4323a5dd13f192e1ee76": {
      "model_module": "@jupyter-widgets/controls",
      "model_module_version": "1.5.0",
      "model_name": "HBoxModel",
      "state": {
       "children": [
        "IPY_MODEL_325fd351bbbd45d08e86ed898292473d",
        "IPY_MODEL_51c72b9e423a4f8fb9bcfe8542e3ffc3"
       ],
       "layout": "IPY_MODEL_04a74eb086cd4adfbe1d4eeb6081e005"
      }
     },
     "ed51a2888ea4471883539503da639806": {
      "model_module": "@jupyter-widgets/base",
      "model_module_version": "1.2.0",
      "model_name": "LayoutModel",
      "state": {}
     },
     "ed64b9394ba144c3aa8bb61a94495785": {
      "model_module": "@jupyter-widgets/base",
      "model_module_version": "1.2.0",
      "model_name": "LayoutModel",
      "state": {
       "width": "20px"
      }
     },
     "ed999c8bce5449eda195bef6e409c716": {
      "model_module": "@jupyter-widgets/controls",
      "model_module_version": "1.5.0",
      "model_name": "HBoxModel",
      "state": {
       "children": [
        "IPY_MODEL_3e55de4fbe1f4ec6ab7f9ebdc751df82",
        "IPY_MODEL_2cd02d9bcab54e17acdf99223b1417b4"
       ],
       "layout": "IPY_MODEL_79fd3d1a595d4b668b086812ede03132"
      }
     },
     "edf4a3bc346441d8b4ce186005ab94c0": {
      "model_module": "@jupyter-widgets/controls",
      "model_module_version": "1.5.0",
      "model_name": "FloatProgressModel",
      "state": {
       "bar_style": "success",
       "description": "100%",
       "layout": "IPY_MODEL_8df9443d70db4f80af24372d3dc761f5",
       "max": 329155,
       "style": "IPY_MODEL_84f380aacfe642049003360e12020fc0",
       "value": 329155
      }
     },
     "ee4ada7ca912409c84dfe4be7fe0f184": {
      "model_module": "@jupyter-widgets/controls",
      "model_module_version": "1.5.0",
      "model_name": "DescriptionStyleModel",
      "state": {
       "description_width": ""
      }
     },
     "ee78516f9b004561a0e97b890ef351ab": {
      "model_module": "@jupyter-widgets/controls",
      "model_module_version": "1.5.0",
      "model_name": "HBoxModel",
      "state": {
       "children": [
        "IPY_MODEL_8aa766d6cc4e4feba64e0ded94f09868",
        "IPY_MODEL_c108c626fe104cd99138d85cefca291c"
       ],
       "layout": "IPY_MODEL_4b4f1920441043d7b8dcebbb5a342051"
      }
     },
     "eed3fd10b4e9418a94b55577f7a8812b": {
      "model_module": "@jupyter-widgets/base",
      "model_module_version": "1.2.0",
      "model_name": "LayoutModel",
      "state": {}
     },
     "ef72dc5667274d8ca8db214237415345": {
      "model_module": "@jupyter-widgets/base",
      "model_module_version": "1.2.0",
      "model_name": "LayoutModel",
      "state": {}
     },
     "ef9d98ef53a3478f957fd048ef85e710": {
      "model_module": "@jupyter-widgets/base",
      "model_module_version": "1.2.0",
      "model_name": "LayoutModel",
      "state": {}
     },
     "efc1dfdac30a4c9e932acfcf40e62661": {
      "model_module": "@jupyter-widgets/base",
      "model_module_version": "1.2.0",
      "model_name": "LayoutModel",
      "state": {}
     },
     "efc6fcefff604358a416948035b59fcf": {
      "model_module": "@jupyter-widgets/base",
      "model_module_version": "1.2.0",
      "model_name": "LayoutModel",
      "state": {}
     },
     "f009b7c4fe5c4ff58c189de314ac7453": {
      "model_module": "@jupyter-widgets/controls",
      "model_module_version": "1.5.0",
      "model_name": "HTMLModel",
      "state": {
       "layout": "IPY_MODEL_3deb077f145e491893e6ca44fb9b19cb",
       "style": "IPY_MODEL_8420b9d965904efd8414a7e2daa375d2",
       "value": " 329155/329155 [15:54&lt;00:00, 344.78it/s]"
      }
     },
     "f00ed8bb01784261b8359f74cc21fd03": {
      "model_module": "@jupyter-widgets/controls",
      "model_module_version": "1.5.0",
      "model_name": "ProgressStyleModel",
      "state": {
       "description_width": "initial"
      }
     },
     "f044096517e042debc00fbfc7135a3e8": {
      "model_module": "@jupyter-widgets/controls",
      "model_module_version": "1.5.0",
      "model_name": "DescriptionStyleModel",
      "state": {
       "description_width": ""
      }
     },
     "f050babbe37b4cabb9130b75370fb987": {
      "model_module": "@jupyter-widgets/controls",
      "model_module_version": "1.5.0",
      "model_name": "DescriptionStyleModel",
      "state": {
       "description_width": ""
      }
     },
     "f0694ae9f5ea4b9694a1e86222c1b46b": {
      "model_module": "@jupyter-widgets/controls",
      "model_module_version": "1.5.0",
      "model_name": "DescriptionStyleModel",
      "state": {
       "description_width": ""
      }
     },
     "f06ad5f9491a40018d784e61f62888a9": {
      "model_module": "@jupyter-widgets/controls",
      "model_module_version": "1.5.0",
      "model_name": "DescriptionStyleModel",
      "state": {
       "description_width": ""
      }
     },
     "f12ee5c2b6e847289e9198c9197cf773": {
      "model_module": "@jupyter-widgets/controls",
      "model_module_version": "1.5.0",
      "model_name": "FloatProgressModel",
      "state": {
       "bar_style": "success",
       "description": "100%",
       "layout": "IPY_MODEL_689f7c2db5ce4a699bd1bad146594924",
       "max": 329155,
       "style": "IPY_MODEL_0a46580abf3249a8a21722810b08495c",
       "value": 329155
      }
     },
     "f17a8bda521947498702296c18787bae": {
      "model_module": "@jupyter-widgets/controls",
      "model_module_version": "1.5.0",
      "model_name": "HTMLModel",
      "state": {
       "layout": "IPY_MODEL_5d4f8c07d3004e6dae95eef77807a505",
       "style": "IPY_MODEL_63eb814366224920ab359eb6082750ba",
       "value": " 329155/329155 [12:10&lt;00:00, 450.61it/s]"
      }
     },
     "f1c29ae7cb9f449db70979019c9de10e": {
      "model_module": "@jupyter-widgets/base",
      "model_module_version": "1.2.0",
      "model_name": "LayoutModel",
      "state": {}
     },
     "f1dd2f436a7b4661934e445b3e809600": {
      "model_module": "@jupyter-widgets/base",
      "model_module_version": "1.2.0",
      "model_name": "LayoutModel",
      "state": {}
     },
     "f202e24cec5347d9a573b7b821d2b95a": {
      "model_module": "@jupyter-widgets/base",
      "model_module_version": "1.2.0",
      "model_name": "LayoutModel",
      "state": {}
     },
     "f208f06c2e9a4ba9b334d8ceea4e7098": {
      "model_module": "@jupyter-widgets/base",
      "model_module_version": "1.2.0",
      "model_name": "LayoutModel",
      "state": {}
     },
     "f215fd5b501e4e85b81712fcbd9eb39d": {
      "model_module": "@jupyter-widgets/base",
      "model_module_version": "1.2.0",
      "model_name": "LayoutModel",
      "state": {}
     },
     "f2728e22f8984e1093f061dba475d41c": {
      "model_module": "@jupyter-widgets/base",
      "model_module_version": "1.2.0",
      "model_name": "LayoutModel",
      "state": {}
     },
     "f2b82c900b7749fb8bca08e64f5bde8b": {
      "model_module": "@jupyter-widgets/controls",
      "model_module_version": "1.5.0",
      "model_name": "FloatProgressModel",
      "state": {
       "bar_style": "success",
       "description": "100%",
       "layout": "IPY_MODEL_901efa42437e43d7813cc6c015c3d003",
       "max": 329155,
       "style": "IPY_MODEL_2c4dc3ab1e3e4020ad78d2f9128aaf8f",
       "value": 329155
      }
     },
     "f2d2f4a259f94ec8ba04dbb53ed81c4a": {
      "model_module": "@jupyter-widgets/base",
      "model_module_version": "1.2.0",
      "model_name": "LayoutModel",
      "state": {}
     },
     "f2d36d8887db4e63833e1fa14c359f83": {
      "model_module": "@jupyter-widgets/controls",
      "model_module_version": "1.5.0",
      "model_name": "DescriptionStyleModel",
      "state": {
       "description_width": ""
      }
     },
     "f2eaf4ccaf164187b08207ab7eb521f7": {
      "model_module": "@jupyter-widgets/controls",
      "model_module_version": "1.5.0",
      "model_name": "ProgressStyleModel",
      "state": {
       "description_width": "initial"
      }
     },
     "f3116a5cb62f4b7aa352546e69cc1c4f": {
      "model_module": "@jupyter-widgets/base",
      "model_module_version": "1.2.0",
      "model_name": "LayoutModel",
      "state": {}
     },
     "f32460cdf43e4e64a9de83c306a2f5fe": {
      "model_module": "@jupyter-widgets/base",
      "model_module_version": "1.2.0",
      "model_name": "LayoutModel",
      "state": {}
     },
     "f34b9f95faac4eb6ae80ee7950570e41": {
      "model_module": "@jupyter-widgets/controls",
      "model_module_version": "1.5.0",
      "model_name": "FloatProgressModel",
      "state": {
       "bar_style": "danger",
       "layout": "IPY_MODEL_ed64b9394ba144c3aa8bb61a94495785",
       "max": 1,
       "style": "IPY_MODEL_6595a3b0588f4b09a03ff625bb49bd00",
       "value": 1
      }
     },
     "f36ad1447d2e4ff98a570b647183fcbc": {
      "model_module": "@jupyter-widgets/controls",
      "model_module_version": "1.5.0",
      "model_name": "ProgressStyleModel",
      "state": {
       "description_width": "initial"
      }
     },
     "f39682361cd040878e7b712355562fff": {
      "model_module": "@jupyter-widgets/base",
      "model_module_version": "1.2.0",
      "model_name": "LayoutModel",
      "state": {}
     },
     "f3ab267ad1d046f5bb02432514d9b1e8": {
      "model_module": "@jupyter-widgets/controls",
      "model_module_version": "1.5.0",
      "model_name": "HBoxModel",
      "state": {
       "children": [
        "IPY_MODEL_9c39c222de5145b0a1c80b978170fef8",
        "IPY_MODEL_04eaed52dc3c4f8b837090f35c390601"
       ],
       "layout": "IPY_MODEL_9f7bad3ee5884f71b537818387d9ebbf"
      }
     },
     "f3afe4cade2f406c9d3be938c724fe90": {
      "model_module": "@jupyter-widgets/controls",
      "model_module_version": "1.5.0",
      "model_name": "ProgressStyleModel",
      "state": {
       "description_width": "initial"
      }
     },
     "f4382eed1c9c4374ba96fd9c647d8126": {
      "model_module": "@jupyter-widgets/controls",
      "model_module_version": "1.5.0",
      "model_name": "HTMLModel",
      "state": {
       "layout": "IPY_MODEL_3eb5e8dff0de431888c0a0265fe23343",
       "style": "IPY_MODEL_7d40625389a74536aaac637af1fadc05",
       "value": " 1/1 [12:10&lt;00:00, 730.73s/it]"
      }
     },
     "f599067262ab4ff2b3802a0b237008fa": {
      "model_module": "@jupyter-widgets/base",
      "model_module_version": "1.2.0",
      "model_name": "LayoutModel",
      "state": {}
     },
     "f5defad343bf477695442d2f647d7f9a": {
      "model_module": "@jupyter-widgets/base",
      "model_module_version": "1.2.0",
      "model_name": "LayoutModel",
      "state": {}
     },
     "f5f4d89d9b1442fcb4cf0f0d00ebac7a": {
      "model_module": "@jupyter-widgets/controls",
      "model_module_version": "1.5.0",
      "model_name": "HTMLModel",
      "state": {
       "layout": "IPY_MODEL_7b9a045f6d0849fdbc1ff918d84030eb",
       "style": "IPY_MODEL_4f95a90d51254f63b7a34183c3a9029e",
       "value": " 373801/373801 [04:35&lt;00:00, 1356.23it/s]"
      }
     },
     "f699fe7fccf54d2f832424b6ff1fb8fc": {
      "model_module": "@jupyter-widgets/base",
      "model_module_version": "1.2.0",
      "model_name": "LayoutModel",
      "state": {}
     },
     "f6b14cfd170c4c64b34cc9390ca8674b": {
      "model_module": "@jupyter-widgets/controls",
      "model_module_version": "1.5.0",
      "model_name": "ProgressStyleModel",
      "state": {
       "description_width": "initial"
      }
     },
     "f735436bb0074ef4ba0f365a74437765": {
      "model_module": "@jupyter-widgets/base",
      "model_module_version": "1.2.0",
      "model_name": "LayoutModel",
      "state": {}
     },
     "f80aa13643ed4217b9445bfb89fb2df5": {
      "model_module": "@jupyter-widgets/controls",
      "model_module_version": "1.5.0",
      "model_name": "HTMLModel",
      "state": {
       "layout": "IPY_MODEL_79bf6a69d4264c6baf564b66d0d7c9ef",
       "style": "IPY_MODEL_27c528c48b114d2ebf525b8231779787",
       "value": " 4027169/4027169 [02:22&lt;00:00, 28271.53it/s]"
      }
     },
     "f80c53dd59c34425aec1483ed9cca6df": {
      "model_module": "@jupyter-widgets/controls",
      "model_module_version": "1.5.0",
      "model_name": "ProgressStyleModel",
      "state": {
       "description_width": "initial"
      }
     },
     "f84be7f05aea4692a88ddc30938d16ff": {
      "model_module": "@jupyter-widgets/controls",
      "model_module_version": "1.5.0",
      "model_name": "FloatProgressModel",
      "state": {
       "bar_style": "success",
       "description": "Reading word vectors: 100%",
       "layout": "IPY_MODEL_98a83d6fbdad425180cc135b648ac472",
       "max": 4027169,
       "style": "IPY_MODEL_7799ec74a93946da9efaa966da6dc070",
       "value": 4027169
      }
     },
     "f84fa1e2c2fe4cad844b6837957d23bc": {
      "model_module": "@jupyter-widgets/controls",
      "model_module_version": "1.5.0",
      "model_name": "ProgressStyleModel",
      "state": {
       "description_width": "initial"
      }
     },
     "f8bef7b8de3c41b19d7b6486ba407d61": {
      "model_module": "@jupyter-widgets/base",
      "model_module_version": "1.2.0",
      "model_name": "LayoutModel",
      "state": {}
     },
     "f8d510bc2b9f4e81aef766107257acb5": {
      "model_module": "@jupyter-widgets/base",
      "model_module_version": "1.2.0",
      "model_name": "LayoutModel",
      "state": {}
     },
     "f8ea72283dcd4ea9adea52a96e0c4ee9": {
      "model_module": "@jupyter-widgets/base",
      "model_module_version": "1.2.0",
      "model_name": "LayoutModel",
      "state": {}
     },
     "f91ab72b123c4481939cd898fd9b8bb3": {
      "model_module": "@jupyter-widgets/controls",
      "model_module_version": "1.5.0",
      "model_name": "HBoxModel",
      "state": {
       "children": [
        "IPY_MODEL_53a0c7756d114c14820b9ff397523e34",
        "IPY_MODEL_e4f5a84b2d974c609a487d9b3372339e"
       ],
       "layout": "IPY_MODEL_2c8c698fc84f4071a1ed3f60c267cde7"
      }
     },
     "f93caf67323f4ace8f7f5534f964bdc2": {
      "model_module": "@jupyter-widgets/controls",
      "model_module_version": "1.5.0",
      "model_name": "HBoxModel",
      "state": {
       "children": [
        "IPY_MODEL_8c954a1763c14cf99b9434ebf7c8df5e",
        "IPY_MODEL_f9b6e35b29e74298a04e6706b016ffee"
       ],
       "layout": "IPY_MODEL_02daaf386d914e82975d102c0ee6582a"
      }
     },
     "f96563509c744f6892845e16ac2cf158": {
      "model_module": "@jupyter-widgets/controls",
      "model_module_version": "1.5.0",
      "model_name": "DescriptionStyleModel",
      "state": {
       "description_width": ""
      }
     },
     "f9a0f88422364153ad924ba45ecd9c82": {
      "model_module": "@jupyter-widgets/base",
      "model_module_version": "1.2.0",
      "model_name": "LayoutModel",
      "state": {}
     },
     "f9b6e35b29e74298a04e6706b016ffee": {
      "model_module": "@jupyter-widgets/controls",
      "model_module_version": "1.5.0",
      "model_name": "HTMLModel",
      "state": {
       "layout": "IPY_MODEL_f8bef7b8de3c41b19d7b6486ba407d61",
       "style": "IPY_MODEL_682f483ebb0b4e6dab7665232aae1364",
       "value": " 35259/35259 [00:48&lt;00:00, 723.79it/s]"
      }
     },
     "f9d3bc3df83f4b1baf841b316990ea50": {
      "model_module": "@jupyter-widgets/base",
      "model_module_version": "1.2.0",
      "model_name": "LayoutModel",
      "state": {}
     },
     "f9d66d7647f542a687b245fe6f291045": {
      "model_module": "@jupyter-widgets/base",
      "model_module_version": "1.2.0",
      "model_name": "LayoutModel",
      "state": {}
     },
     "f9fa4e6bd29e4c1388de42c61c4788f0": {
      "model_module": "@jupyter-widgets/controls",
      "model_module_version": "1.5.0",
      "model_name": "DescriptionStyleModel",
      "state": {
       "description_width": ""
      }
     },
     "fa0c6965801149dd9368ebbc291fe8ba": {
      "model_module": "@jupyter-widgets/controls",
      "model_module_version": "1.5.0",
      "model_name": "DescriptionStyleModel",
      "state": {
       "description_width": ""
      }
     },
     "fa4e89cb74e3491e9dce7d06bd9bc2d3": {
      "model_module": "@jupyter-widgets/controls",
      "model_module_version": "1.5.0",
      "model_name": "FloatProgressModel",
      "state": {
       "bar_style": "success",
       "description": "100%",
       "layout": "IPY_MODEL_3c8ae320e9814629acd07fd831e697ce",
       "max": 329155,
       "style": "IPY_MODEL_3d3ec9a41316466ca198787d1cad4edb",
       "value": 329155
      }
     },
     "fa8d8290991a4979999d86e71f6ca078": {
      "model_module": "@jupyter-widgets/controls",
      "model_module_version": "1.5.0",
      "model_name": "FloatProgressModel",
      "state": {
       "bar_style": "success",
       "description": "100%",
       "layout": "IPY_MODEL_cffe7cb6d00e432d8254fb8669d21171",
       "max": 329155,
       "style": "IPY_MODEL_ce55029c73944accb1d36f6738c1b5b3",
       "value": 329155
      }
     },
     "faa9abd179004e95a6ea5fa9492a3748": {
      "model_module": "@jupyter-widgets/controls",
      "model_module_version": "1.5.0",
      "model_name": "FloatProgressModel",
      "state": {
       "bar_style": "success",
       "description": "100%",
       "layout": "IPY_MODEL_c5adc856a460466eb9d5ea2193a13ec8",
       "max": 329155,
       "style": "IPY_MODEL_5c50d8d964ff4bb7903d5a22d6bc81d1",
       "value": 329155
      }
     },
     "fabab0799dde4b1c94a262156fde27ff": {
      "model_module": "@jupyter-widgets/controls",
      "model_module_version": "1.5.0",
      "model_name": "HTMLModel",
      "state": {
       "layout": "IPY_MODEL_591e35c5d4b94508a4ab7da7409831d9",
       "style": "IPY_MODEL_d21715764d2d42d6b40b05e3ea1979ae",
       "value": " 55135/329155 [26:21&lt;2:11:01, 34.86it/s]"
      }
     },
     "fb6078891d684d06a1812d3bf00ba5f7": {
      "model_module": "@jupyter-widgets/controls",
      "model_module_version": "1.5.0",
      "model_name": "HBoxModel",
      "state": {
       "children": [
        "IPY_MODEL_d4cc58a85b4a4ddcaf9e457e149a76ee",
        "IPY_MODEL_26280a698ac04e45ba711f7cdd04af71"
       ],
       "layout": "IPY_MODEL_cc80395d2d704dd88a8de99b7a758e39"
      }
     },
     "fba1c6f599444a5cab646cdfaa7a7a14": {
      "model_module": "@jupyter-widgets/controls",
      "model_module_version": "1.5.0",
      "model_name": "DescriptionStyleModel",
      "state": {
       "description_width": ""
      }
     },
     "fbe8007bd0734fbc8ecc60d12a64a48b": {
      "model_module": "@jupyter-widgets/controls",
      "model_module_version": "1.5.0",
      "model_name": "FloatProgressModel",
      "state": {
       "bar_style": "success",
       "description": "Parsing dataset: 100%",
       "layout": "IPY_MODEL_4078828554dc4d9fb7859d38c2a19ee0",
       "max": 373801,
       "style": "IPY_MODEL_0472e491f3f548cab9558e761b69023f",
       "value": 373801
      }
     },
     "fc8dd170c65c469391ed174bc830e888": {
      "model_module": "@jupyter-widgets/controls",
      "model_module_version": "1.5.0",
      "model_name": "ProgressStyleModel",
      "state": {
       "description_width": "initial"
      }
     },
     "fcf78df19fd44ba780bc34b31f57a71f": {
      "model_module": "@jupyter-widgets/controls",
      "model_module_version": "1.5.0",
      "model_name": "DescriptionStyleModel",
      "state": {
       "description_width": ""
      }
     },
     "fd4a62eacddd4781acaaa5d6430ffe89": {
      "model_module": "@jupyter-widgets/controls",
      "model_module_version": "1.5.0",
      "model_name": "ProgressStyleModel",
      "state": {
       "description_width": "initial"
      }
     },
     "fe0993172bd342258c96384a283f73e6": {
      "model_module": "@jupyter-widgets/controls",
      "model_module_version": "1.5.0",
      "model_name": "DescriptionStyleModel",
      "state": {
       "description_width": ""
      }
     },
     "ffb980777baa446682c594a4ac154928": {
      "model_module": "@jupyter-widgets/controls",
      "model_module_version": "1.5.0",
      "model_name": "HBoxModel",
      "state": {
       "children": [
        "IPY_MODEL_795edd9d4f314a2c9b07ac45d03434fa",
        "IPY_MODEL_32e6386e78b94c92a61b0e8729c2bc3f"
       ],
       "layout": "IPY_MODEL_6ff2e6b1d32e47a1858dde5e27675311"
      }
     },
     "ffe3d8bd418f457b879765862b0f724a": {
      "model_module": "@jupyter-widgets/controls",
      "model_module_version": "1.5.0",
      "model_name": "ProgressStyleModel",
      "state": {
       "description_width": "initial"
      }
     }
    },
    "version_major": 2,
    "version_minor": 0
   }
  }
 },
 "nbformat": 4,
 "nbformat_minor": 5
}
