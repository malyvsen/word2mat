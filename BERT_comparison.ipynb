{
 "cells": [
  {
   "cell_type": "code",
   "execution_count": 4,
   "id": "4c3462e8",
   "metadata": {},
   "outputs": [],
   "source": []
  },
  {
   "cell_type": "code",
   "execution_count": 4,
   "id": "105650d5",
   "metadata": {},
   "outputs": [],
   "source": []
  },
  {
   "cell_type": "code",
   "execution_count": 4,
   "id": "73120318",
   "metadata": {},
   "outputs": [
    {
     "name": "stderr",
     "output_type": "stream",
     "text": [
      "2021-05-18 10:39:31,779 : INFO : Load pretrained SentenceTransformer: paraphrase-distilroberta-base-v1\n",
      "2021-05-18 10:39:31,781 : INFO : Did not find folder paraphrase-distilroberta-base-v1\n",
      "2021-05-18 10:39:31,782 : INFO : Search model on server: http://sbert.net/models/paraphrase-distilroberta-base-v1.zip\n",
      "2021-05-18 10:39:31,797 : INFO : Load SentenceTransformer from folder: /home/jupyter/.cache/torch/sentence_transformers/sbert.net_models_paraphrase-distilroberta-base-v1\n",
      "2021-05-18 10:39:32,894 : INFO : Use pytorch device: cpu\n"
     ]
    },
    {
     "data": {
      "application/vnd.jupyter.widget-view+json": {
       "model_id": "1abe150d21b845d7a41d9209585c3b36",
       "version_major": 2,
       "version_minor": 0
      },
      "text/plain": [
       "HBox(children=(FloatProgress(value=0.0, description='Batches', max=1.0, style=ProgressStyle(description_width=…"
      ]
     },
     "metadata": {},
     "output_type": "display_data"
    },
    {
     "name": "stdout",
     "output_type": "stream",
     "text": [
      "\n",
      "Sentence: This framework generates embeddings for each input sentence\n",
      "(768,)\n",
      "\n",
      "Sentence: Sentences are passed as a list of string.\n",
      "(768,)\n",
      "\n",
      "Sentence: The quick brown fox jumps over the lazy dog.\n",
      "(768,)\n",
      "\n"
     ]
    }
   ],
   "source": [
    "import random\n",
    "from functools import reduce\n",
    "from collections import Counter\n",
    "import numpy as np\n",
    "import pandas as pd\n",
    "import torch\n",
    "import scipy.stats\n",
    "import sklearn.metrics\n",
    "import plotly.graph_objects as go\n",
    "from tqdm.auto import tqdm, trange\n",
    "from word2mat import Dataset, Sentence\n",
    "from collections import Counter\n",
    "import pickle\n",
    "from sentence_transformers import SentenceTransformer\n",
    "import os\n",
    "\n",
    "\n",
    "model = SentenceTransformer('paraphrase-distilroberta-base-v1')\n",
    "\n",
    "sentences = ['This framework generates embeddings for each input sentence',\n",
    "    'Sentences are passed as a list of string.',\n",
    "    'The quick brown fox jumps over the lazy dog.']\n",
    "\n",
    "#Sentences are encoded by calling model.encode()\n",
    "embeddings = model.encode(sentences)\n",
    "\n",
    "#Print the embeddings\n",
    "for sentence, embedding in zip(sentences, embeddings):\n",
    "    print(\"Sentence:\", sentence)\n",
    "    print(np.shape(embedding))\n",
    "    print(\"\")"
   ]
  },
  {
   "cell_type": "code",
   "execution_count": 5,
   "id": "cb2604cd",
   "metadata": {},
   "outputs": [
    {
     "name": "stderr",
     "output_type": "stream",
     "text": [
      "2021-05-18 10:39:33,402 : WARNING : Reusing dataset wiki_auto (/home/jupyter/.cache/huggingface/datasets/wiki_auto/manual/1.0.0/5ffdd9fc62422d29bd02675fb9606f77c1251ee17169ac10b143ce07ef2f4db8)\n"
     ]
    },
    {
     "data": {
      "application/vnd.jupyter.widget-view+json": {
       "model_id": "5e2b9015b58644008763f8795933ed65",
       "version_major": 2,
       "version_minor": 0
      },
      "text/plain": [
       "HBox(children=(FloatProgress(value=0.0, description='Parsing dataset', max=373801.0, style=ProgressStyle(descr…"
      ]
     },
     "metadata": {},
     "output_type": "display_data"
    },
    {
     "name": "stdout",
     "output_type": "stream",
     "text": [
      "\n"
     ]
    },
    {
     "data": {
      "text/plain": [
       "373801"
      ]
     },
     "execution_count": 5,
     "metadata": {},
     "output_type": "execute_result"
    }
   ],
   "source": [
    "full_dataset = Dataset.from_huggingface(\"wiki_auto\", config=\"manual\", column=\"normal_sentence\")\n",
    "len(full_dataset)"
   ]
  },
  {
   "cell_type": "code",
   "execution_count": 5,
   "id": "7eacef7d",
   "metadata": {},
   "outputs": [
    {
     "name": "stderr",
     "output_type": "stream",
     "text": [
      "2021-05-18 10:39:33,402 : WARNING : Reusing dataset wiki_auto (/home/jupyter/.cache/huggingface/datasets/wiki_auto/manual/1.0.0/5ffdd9fc62422d29bd02675fb9606f77c1251ee17169ac10b143ce07ef2f4db8)\n"
     ]
    },
    {
     "data": {
      "application/vnd.jupyter.widget-view+json": {
       "model_id": "5e2b9015b58644008763f8795933ed65",
       "version_major": 2,
       "version_minor": 0
      },
      "text/plain": [
       "HBox(children=(FloatProgress(value=0.0, description='Parsing dataset', max=373801.0, style=ProgressStyle(descr…"
      ]
     },
     "metadata": {},
     "output_type": "display_data"
    },
    {
     "name": "stdout",
     "output_type": "stream",
     "text": [
      "\n"
     ]
    },
    {
     "data": {
      "text/plain": [
       "373801"
      ]
     },
     "execution_count": 5,
     "metadata": {},
     "output_type": "execute_result"
    }
   ],
   "source": [
    "clean_dataset = full_dataset.clean\n",
    "len(clean_dataset)"
   ]
  },
  {
   "cell_type": "code",
   "execution_count": 77,
   "id": "5f11563e",
   "metadata": {},
   "outputs": [
    {
     "name": "stdout",
     "output_type": "stream",
     "text": [
      "Sentence(words=('the', 'local', 'government', 'act', '1985', 'is', 'an', 'act', 'of', 'parliament', 'in', 'the', 'united', 'kingdom', '.'))\n",
      "15\n",
      "the local government act 1985 is an act of parliament in the united kingdom .\n"
     ]
    },
    {
     "data": {
      "application/vnd.jupyter.widget-view+json": {
       "model_id": "60603bb1ae1745f0a07866bb2234d517",
       "version_major": 2,
       "version_minor": 0
      },
      "text/plain": [
       "HBox(children=(FloatProgress(value=0.0, description='Batches', max=1.0, style=ProgressStyle(description_width=…"
      ]
     },
     "metadata": {},
     "output_type": "display_data"
    },
    {
     "name": "stdout",
     "output_type": "stream",
     "text": [
      "\n",
      "(768,)\n"
     ]
    }
   ],
   "source": []
  },
  {
   "cell_type": "code",
   "execution_count": 78,
   "id": "1dc0104b",
   "metadata": {},
   "outputs": [
    {
     "data": {
      "application/vnd.jupyter.widget-view+json": {
       "model_id": "bed3135239334cd8873218b2d153f8ab",
       "version_major": 2,
       "version_minor": 0
      },
      "text/plain": [
       "HBox(children=(FloatProgress(value=0.0, description='Batches', max=1.0, style=ProgressStyle(description_width=…"
      ]
     },
     "metadata": {},
     "output_type": "display_data"
    },
    {
     "name": "stdout",
     "output_type": "stream",
     "text": [
      "\n"
     ]
    },
    {
     "data": {
      "text/plain": [
       "torch.Size([768])"
      ]
     },
     "execution_count": 78,
     "metadata": {},
     "output_type": "execute_result"
    }
   ],
   "source": [
    "def sentence_vector(sentence):\n",
    "    words = ' '.join(list(sentence.words))\n",
    "    BERT_vecs=(model.encode(words))\n",
    "    return torch.from_numpy(BERT_vecs)\n",
    "sample=sentence_vector(Sentence.from_string(\"Mary had a little lamb.\"))\n",
    "sample.shape"
   ]
  },
  {
   "cell_type": "code",
   "execution_count": 79,
   "id": "6d5eeaad",
   "metadata": {},
   "outputs": [
    {
     "data": {
      "application/vnd.jupyter.widget-view+json": {
       "model_id": "35108f348ee3453b93322e42b084dd45",
       "version_major": 2,
       "version_minor": 0
      },
      "text/plain": [
       "HBox(children=(FloatProgress(value=0.0, max=2000.0), HTML(value='')))"
      ]
     },
     "metadata": {},
     "output_type": "display_data"
    },
    {
     "data": {
      "application/vnd.jupyter.widget-view+json": {
       "model_id": "a0d26c5eca104b5badb47b4e8f26653c",
       "version_major": 2,
       "version_minor": 0
      },
      "text/plain": [
       "HBox(children=(FloatProgress(value=0.0, description='Batches', max=32.0, style=ProgressStyle(description_width…"
      ]
     },
     "metadata": {},
     "output_type": "display_data"
    },
    {
     "name": "stdout",
     "output_type": "stream",
     "text": [
      "\n",
      "(1000, 768)\n"
     ]
    },
    {
     "data": {
      "application/vnd.jupyter.widget-view+json": {
       "model_id": "5cfee7ff03714c319f3511089d878c34",
       "version_major": 2,
       "version_minor": 0
      },
      "text/plain": [
       "HBox(children=(FloatProgress(value=0.0, description='Batches', max=32.0, style=ProgressStyle(description_width…"
      ]
     },
     "metadata": {},
     "output_type": "display_data"
    },
    {
     "name": "stdout",
     "output_type": "stream",
     "text": [
      "\n",
      "(2000, 768)\n",
      "\n"
     ]
    }
   ],
   "source": [
    "def sample_sentence_vector():\n",
    "    list_of_sentences=[]\n",
    "    batch_size=1000\n",
    "    counter=1\n",
    "    result_initialised=False\n",
    "    offset=0\n",
    "    for sentence in tqdm(clean_dataset.sentences):\n",
    "        words = ' '.join(list(sentence.words))\n",
    "        list_of_sentences.append(words)\n",
    "        if counter==batch_size:\n",
    "            BERT_vecs= np.array((model.encode(list_of_sentences)))\n",
    "            if result_initialised:\n",
    "                result_array=np.concatenate((BERT_vecs,result_array),axis=0)\n",
    "            else:\n",
    "                result_array=BERT_vecs\n",
    "                result_initialised=True\n",
    "            print(np.shape(result_array))\n",
    "\n",
    "            list_of_sentences=[]\n",
    "            counter=1\n",
    "        else:\n",
    "            counter+=1\n",
    "    file_name='BERT_vectors_true'\n",
    "    pickle_out = open(file_name+\".pickle\",\"wb\")\n",
    "    pickle.dump(result_array, pickle_out)\n",
    "    pickle_out.close()\n",
    "\n",
    "    \n",
    "    return result_array\n",
    "\n",
    "BERT_vectors_true=sample_sentence_vector()"
   ]
  },
  {
   "cell_type": "code",
   "execution_count": null,
   "id": "4a78f760",
   "metadata": {},
   "outputs": [],
   "source": []
  },
  {
   "cell_type": "code",
   "execution_count": 80,
   "id": "93f1ffc6",
   "metadata": {},
   "outputs": [
    {
     "data": {
      "text/plain": [
       "'of'"
      ]
     },
     "execution_count": 80,
     "metadata": {},
     "output_type": "execute_result"
    }
   ],
   "source": [
    "word_counts = Counter(word for sentence in clean_dataset for word in sentence.words)\n",
    "sampleable_words = list(word_counts.keys())\n",
    "cum_weights = np.cumsum(list(word_counts.values()))\n",
    "\n",
    "def random_word():\n",
    "    return random.choices(sampleable_words, cum_weights=cum_weights)[0]\n",
    "\n",
    "random_word()"
   ]
  },
  {
   "cell_type": "code",
   "execution_count": 81,
   "id": "12a0c601",
   "metadata": {},
   "outputs": [
    {
     "data": {
      "text/plain": [
       "Sentence(words=['in', 'the', '2012', 'census', ',', 'a', 'majority', 'of', 'residents', 'listed', 'their', 'nationality', 'as', 'falkland', 'islander', '(', '59', 'percent', ')', ',', 'followed', 'by', 'british', '(', '29', 'percent', ')', ',', 'saint', 'helenian', '(', '9', '.', '8', 'and', ')', ',', 'and', 'chilean', '(', '5', '.', '4', 'percent', ')', '.'])"
      ]
     },
     "execution_count": 81,
     "metadata": {},
     "output_type": "execute_result"
    }
   ],
   "source": [
    "def fake_sentence(num_fake_words=1):\n",
    "    words = list(random.choice(clean_dataset.sentences).words)\n",
    "    for fake_idx in range(num_fake_words):\n",
    "        words[random.randrange(len(words))] = random_word()\n",
    "    return Sentence(words=words)\n",
    "\n",
    "fake_sentence()"
   ]
  },
  {
   "cell_type": "code",
   "execution_count": 82,
   "id": "76655b46",
   "metadata": {},
   "outputs": [
    {
     "data": {
      "application/vnd.jupyter.widget-view+json": {
       "model_id": "1cc6d42d2bd04609b4557eabc361c0de",
       "version_major": 2,
       "version_minor": 0
      },
      "text/plain": [
       "HBox(children=(FloatProgress(value=0.0, max=2000.0), HTML(value='')))"
      ]
     },
     "metadata": {},
     "output_type": "display_data"
    },
    {
     "data": {
      "application/vnd.jupyter.widget-view+json": {
       "model_id": "d4a3d0d6035c4c149be3dd9650f2137c",
       "version_major": 2,
       "version_minor": 0
      },
      "text/plain": [
       "HBox(children=(FloatProgress(value=0.0, description='Batches', max=32.0, style=ProgressStyle(description_width…"
      ]
     },
     "metadata": {},
     "output_type": "display_data"
    },
    {
     "name": "stdout",
     "output_type": "stream",
     "text": [
      "\n",
      "(1000, 768)\n"
     ]
    },
    {
     "data": {
      "application/vnd.jupyter.widget-view+json": {
       "model_id": "d5cc3746d260439cbebd3d9a9298ffd1",
       "version_major": 2,
       "version_minor": 0
      },
      "text/plain": [
       "HBox(children=(FloatProgress(value=0.0, description='Batches', max=32.0, style=ProgressStyle(description_width…"
      ]
     },
     "metadata": {},
     "output_type": "display_data"
    },
    {
     "name": "stdout",
     "output_type": "stream",
     "text": [
      "\n",
      "(2000, 768)\n",
      "\n"
     ]
    }
   ],
   "source": [
    "def sample_sentence_vector_fake(fake_size):\n",
    "    list_of_sentences=[]\n",
    "    batch_size=1000\n",
    "    counter=1\n",
    "    result_initialised=False\n",
    "    offset=0\n",
    "    for i in tqdm(range(fake_size)):\n",
    "        sentence=fake_sentence()\n",
    "        words = ' '.join(list(sentence.words))\n",
    "        list_of_sentences.append(words)\n",
    "        if counter==batch_size:\n",
    "            BERT_vecs= np.array((model.encode(list_of_sentences)))\n",
    "            if result_initialised:\n",
    "                result_array=np.concatenate((BERT_vecs,result_array),axis=0)\n",
    "            else:\n",
    "                result_array=BERT_vecs\n",
    "                result_initialised=True\n",
    "            print(np.shape(result_array))\n",
    "\n",
    "            list_of_sentences=[]\n",
    "            counter=1\n",
    "        else:\n",
    "            counter+=1\n",
    "    file_name='BERT_vectors_fake'\n",
    "    pickle_out = open(file_name+\".pickle\",\"wb\")\n",
    "    pickle.dump(result_array, pickle_out)\n",
    "    pickle_out.close()\n",
    "\n",
    "    \n",
    "    return result_array\n",
    "\n",
    "\n",
    "fake_size=len(clean_dataset)\n",
    "\n",
    "BERT_vectors_fake=sample_sentence_vector_fake(fake_size)"
   ]
  },
  {
   "cell_type": "code",
   "execution_count": 83,
   "id": "6acf1795",
   "metadata": {},
   "outputs": [
    {
     "name": "stdout",
     "output_type": "stream",
     "text": [
      "(4000,)\n",
      "(4000, 768)\n"
     ]
    }
   ],
   "source": [
    "from sklearn.model_selection import train_test_split\n",
    "BERT_vectors=np.squeeze(np.concatenate((np.array(BERT_vectors_true),np.array(BERT_vectors_fake)),0))\n",
    "true_labels=[1 for i in range(BERT_vectors_true.shape[0])]\n",
    "fake_labels=[0 for i in range(BERT_vectors_fake.shape[0])]\n",
    "labels=true_labels+fake_labels\n",
    "print(np.shape(labels))\n",
    "print(np.shape(BERT_vectors))\n",
    "xtrain, xvalid, ytrain, yvalid = train_test_split(BERT_vectors, \n",
    "                                                  labels,  \n",
    "                                                  random_state=42, \n",
    "                                                  test_size=0.2)"
   ]
  },
  {
   "cell_type": "code",
   "execution_count": 84,
   "id": "aebfc69f",
   "metadata": {},
   "outputs": [
    {
     "name": "stdout",
     "output_type": "stream",
     "text": [
      "0.9624615384615385\n",
      "0.8823529411764706\n"
     ]
    }
   ],
   "source": [
    "from sklearn.linear_model import LogisticRegression\n",
    "from sklearn.metrics import f1_score\n",
    "\n",
    "lreg = LogisticRegression()\n",
    "lreg.fit(xtrain, ytrain)\n",
    "preds_train = lreg.predict(xtrain)\n",
    "pred_probabilities_train=lreg.predict_proba(xtrain)\n",
    "print(sklearn.metrics.precision_score(ytrain, preds_train))\n",
    "preds_valid = lreg.predict(xvalid)\n",
    "pred_probabilities_valid=lreg.predict_proba(xvalid)\n",
    "print(sklearn.metrics.precision_score(yvalid, preds_valid))"
   ]
  },
  {
   "cell_type": "code",
   "execution_count": 85,
   "id": "b7274a11",
   "metadata": {},
   "outputs": [
    {
     "name": "stdout",
     "output_type": "stream",
     "text": [
      "0.9566939993480277\n"
     ]
    }
   ],
   "source": [
    "auc = sklearn.metrics.roc_auc_score(\n",
    "    yvalid,\n",
    "    pred_probabilities_valid[:,1],\n",
    ")\n",
    "print(auc)"
   ]
  },
  {
   "cell_type": "code",
   "execution_count": 86,
   "id": "4294d82c",
   "metadata": {},
   "outputs": [
    {
     "data": {
      "application/vnd.plotly.v1+json": {
       "config": {
        "plotlyServerURL": "https://plot.ly"
       },
       "data": [
        {
         "name": "BERT vectors+logistic regression",
         "type": "scatter",
         "x": [
          0,
          0,
          0,
          0,
          0,
          0,
          0,
          0,
          0,
          0,
          0,
          0,
          0,
          0,
          0,
          0,
          0,
          0,
          0,
          0,
          0,
          0,
          0,
          0,
          0,
          0,
          0,
          0,
          0.0026455026455026454,
          0.0026455026455026454,
          0.0026455026455026454,
          0.0026455026455026454,
          0.005291005291005291,
          0.005291005291005291,
          0.005291005291005291,
          0.005291005291005291,
          0.005291005291005291,
          0.005291005291005291,
          0.005291005291005291,
          0.007936507936507936,
          0.007936507936507936,
          0.007936507936507936,
          0.007936507936507936,
          0.007936507936507936,
          0.007936507936507936,
          0.007936507936507936,
          0.007936507936507936,
          0.007936507936507936,
          0.007936507936507936,
          0.010582010582010581,
          0.010582010582010581,
          0.010582010582010581,
          0.010582010582010581,
          0.010582010582010581,
          0.010582010582010581,
          0.010582010582010581,
          0.010582010582010581,
          0.010582010582010581,
          0.010582010582010581,
          0.010582010582010581,
          0.010582010582010581,
          0.010582010582010581,
          0.013227513227513227,
          0.013227513227513227,
          0.013227513227513227,
          0.013227513227513227,
          0.013227513227513227,
          0.013227513227513227,
          0.013227513227513227,
          0.013227513227513227,
          0.013227513227513227,
          0.013227513227513227,
          0.013227513227513227,
          0.013227513227513227,
          0.015873015873015872,
          0.015873015873015872,
          0.015873015873015872,
          0.015873015873015872,
          0.015873015873015872,
          0.015873015873015872,
          0.015873015873015872,
          0.018518518518518517,
          0.018518518518518517,
          0.018518518518518517,
          0.018518518518518517,
          0.023809523809523808,
          0.023809523809523808,
          0.026455026455026454,
          0.026455026455026454,
          0.026455026455026454,
          0.026455026455026454,
          0.026455026455026454,
          0.026455026455026454,
          0.026455026455026454,
          0.026455026455026454,
          0.026455026455026454,
          0.0291005291005291,
          0.0291005291005291,
          0.031746031746031744,
          0.031746031746031744,
          0.03439153439153439,
          0.03439153439153439,
          0.03439153439153439,
          0.03439153439153439,
          0.037037037037037035,
          0.037037037037037035,
          0.037037037037037035,
          0.037037037037037035,
          0.037037037037037035,
          0.037037037037037035,
          0.037037037037037035,
          0.037037037037037035,
          0.037037037037037035,
          0.037037037037037035,
          0.037037037037037035,
          0.037037037037037035,
          0.037037037037037035,
          0.037037037037037035,
          0.037037037037037035,
          0.037037037037037035,
          0.037037037037037035,
          0.037037037037037035,
          0.037037037037037035,
          0.037037037037037035,
          0.037037037037037035,
          0.03968253968253968,
          0.03968253968253968,
          0.03968253968253968,
          0.042328042328042326,
          0.042328042328042326,
          0.042328042328042326,
          0.042328042328042326,
          0.042328042328042326,
          0.04497354497354497,
          0.04497354497354497,
          0.04497354497354497,
          0.04497354497354497,
          0.04497354497354497,
          0.04497354497354497,
          0.047619047619047616,
          0.047619047619047616,
          0.047619047619047616,
          0.047619047619047616,
          0.047619047619047616,
          0.047619047619047616,
          0.047619047619047616,
          0.05026455026455026,
          0.05026455026455026,
          0.05291005291005291,
          0.05291005291005291,
          0.05555555555555555,
          0.05555555555555555,
          0.0582010582010582,
          0.0582010582010582,
          0.06084656084656084,
          0.06084656084656084,
          0.06349206349206349,
          0.06349206349206349,
          0.06613756613756613,
          0.06613756613756613,
          0.06878306878306878,
          0.06878306878306878,
          0.06878306878306878,
          0.06878306878306878,
          0.07142857142857142,
          0.07142857142857142,
          0.07407407407407407,
          0.07407407407407407,
          0.07671957671957672,
          0.07671957671957672,
          0.07936507936507936,
          0.07936507936507936,
          0.07936507936507936,
          0.07936507936507936,
          0.082010582010582,
          0.082010582010582,
          0.08465608465608465,
          0.08465608465608465,
          0.0873015873015873,
          0.0873015873015873,
          0.0873015873015873,
          0.08994708994708994,
          0.08994708994708994,
          0.11904761904761904,
          0.11904761904761904,
          0.12433862433862433,
          0.12433862433862433,
          0.1402116402116402,
          0.1402116402116402,
          0.14285714285714285,
          0.14285714285714285,
          0.15079365079365079,
          0.15079365079365079,
          0.16137566137566137,
          0.16137566137566137,
          0.164021164021164,
          0.164021164021164,
          1
         ],
         "y": [
          0,
          0.004739336492890996,
          0.011848341232227487,
          0.02132701421800948,
          0.026066350710900472,
          0.030805687203791468,
          0.035545023696682464,
          0.06635071090047394,
          0.07345971563981042,
          0.08293838862559241,
          0.08767772511848342,
          0.0971563981042654,
          0.1066350710900474,
          0.10900473933649289,
          0.11374407582938388,
          0.12322274881516587,
          0.13270142180094788,
          0.13507109004739337,
          0.13981042654028436,
          0.14928909952606634,
          0.15165876777251186,
          0.15876777251184834,
          0.16113744075829384,
          0.16587677725118483,
          0.17298578199052134,
          0.17772511848341233,
          0.1848341232227488,
          0.1895734597156398,
          0.1895734597156398,
          0.1943127962085308,
          0.1990521327014218,
          0.20616113744075829,
          0.20616113744075829,
          0.2109004739336493,
          0.2156398104265403,
          0.22511848341232227,
          0.22748815165876776,
          0.23222748815165878,
          0.23933649289099526,
          0.23933649289099526,
          0.24170616113744076,
          0.24881516587677724,
          0.25118483412322273,
          0.2559241706161137,
          0.26066350710900477,
          0.26540284360189575,
          0.27014218009478674,
          0.27488151658767773,
          0.2796208530805687,
          0.2796208530805687,
          0.2914691943127962,
          0.2962085308056872,
          0.3033175355450237,
          0.3080568720379147,
          0.3175355450236967,
          0.32701421800947866,
          0.33175355450236965,
          0.3341232227488152,
          0.33886255924170616,
          0.35308056872037913,
          0.36255924170616116,
          0.36729857819905215,
          0.36729857819905215,
          0.37203791469194314,
          0.3933649289099526,
          0.3981042654028436,
          0.4052132701421801,
          0.4099526066350711,
          0.41706161137440756,
          0.4218009478672986,
          0.42417061611374407,
          0.42890995260663506,
          0.43838862559241704,
          0.4431279620853081,
          0.4431279620853081,
          0.44786729857819907,
          0.45023696682464454,
          0.4597156398104265,
          0.46208530805687204,
          0.466824644549763,
          0.47393364928909953,
          0.47393364928909953,
          0.4834123222748815,
          0.490521327014218,
          0.5023696682464455,
          0.5023696682464455,
          0.504739336492891,
          0.504739336492891,
          0.514218009478673,
          0.5260663507109005,
          0.5355450236966824,
          0.542654028436019,
          0.54739336492891,
          0.5545023696682464,
          0.5734597156398105,
          0.5758293838862559,
          0.5758293838862559,
          0.5971563981042654,
          0.5971563981042654,
          0.5995260663507109,
          0.5995260663507109,
          0.6090047393364929,
          0.6161137440758294,
          0.6208530805687204,
          0.6208530805687204,
          0.6232227488151659,
          0.6279620853080569,
          0.6303317535545023,
          0.6350710900473934,
          0.6374407582938388,
          0.6421800947867299,
          0.6492890995260664,
          0.6540284360189573,
          0.6658767772511849,
          0.6706161137440758,
          0.6753554502369669,
          0.6800947867298578,
          0.6824644549763034,
          0.6872037914691943,
          0.6895734597156398,
          0.6966824644549763,
          0.7014218009478673,
          0.7085308056872038,
          0.7109004739336493,
          0.7203791469194313,
          0.7203791469194313,
          0.7251184834123223,
          0.7298578199052133,
          0.7298578199052133,
          0.7511848341232228,
          0.7559241706161137,
          0.7701421800947867,
          0.7796208530805687,
          0.7796208530805687,
          0.7819905213270142,
          0.7890995260663507,
          0.7938388625592417,
          0.7985781990521327,
          0.8104265402843602,
          0.8104265402843602,
          0.8151658767772512,
          0.8341232227488151,
          0.8436018957345972,
          0.8578199052132701,
          0.8720379146919431,
          0.8909952606635071,
          0.8909952606635071,
          0.8933649289099526,
          0.8933649289099526,
          0.8957345971563981,
          0.8957345971563981,
          0.9052132701421801,
          0.9052132701421801,
          0.9075829383886256,
          0.9075829383886256,
          0.909952606635071,
          0.909952606635071,
          0.9146919431279621,
          0.9146919431279621,
          0.919431279620853,
          0.919431279620853,
          0.9218009478672986,
          0.9265402843601895,
          0.9312796208530806,
          0.9312796208530806,
          0.933649289099526,
          0.933649289099526,
          0.9383886255924171,
          0.9383886255924171,
          0.943127962085308,
          0.943127962085308,
          0.9502369668246445,
          0.9549763033175356,
          0.957345971563981,
          0.957345971563981,
          0.9597156398104265,
          0.9597156398104265,
          0.9620853080568721,
          0.9620853080568721,
          0.9715639810426541,
          0.976303317535545,
          0.976303317535545,
          0.9786729857819905,
          0.9786729857819905,
          0.981042654028436,
          0.981042654028436,
          0.985781990521327,
          0.985781990521327,
          0.9881516587677726,
          0.9881516587677726,
          0.990521327014218,
          0.990521327014218,
          0.9928909952606635,
          0.9928909952606635,
          0.9976303317535545,
          0.9976303317535545,
          1,
          1
         ]
        },
        {
         "name": "random classifier",
         "type": "scatter",
         "x": [
          0,
          1
         ],
         "y": [
          0,
          1
         ]
        }
       ],
       "layout": {
        "autosize": true,
        "template": {
         "data": {
          "bar": [
           {
            "error_x": {
             "color": "#2a3f5f"
            },
            "error_y": {
             "color": "#2a3f5f"
            },
            "marker": {
             "line": {
              "color": "#E5ECF6",
              "width": 0.5
             }
            },
            "type": "bar"
           }
          ],
          "barpolar": [
           {
            "marker": {
             "line": {
              "color": "#E5ECF6",
              "width": 0.5
             }
            },
            "type": "barpolar"
           }
          ],
          "carpet": [
           {
            "aaxis": {
             "endlinecolor": "#2a3f5f",
             "gridcolor": "white",
             "linecolor": "white",
             "minorgridcolor": "white",
             "startlinecolor": "#2a3f5f"
            },
            "baxis": {
             "endlinecolor": "#2a3f5f",
             "gridcolor": "white",
             "linecolor": "white",
             "minorgridcolor": "white",
             "startlinecolor": "#2a3f5f"
            },
            "type": "carpet"
           }
          ],
          "choropleth": [
           {
            "colorbar": {
             "outlinewidth": 0,
             "ticks": ""
            },
            "type": "choropleth"
           }
          ],
          "contour": [
           {
            "colorbar": {
             "outlinewidth": 0,
             "ticks": ""
            },
            "colorscale": [
             [
              0,
              "#0d0887"
             ],
             [
              0.1111111111111111,
              "#46039f"
             ],
             [
              0.2222222222222222,
              "#7201a8"
             ],
             [
              0.3333333333333333,
              "#9c179e"
             ],
             [
              0.4444444444444444,
              "#bd3786"
             ],
             [
              0.5555555555555556,
              "#d8576b"
             ],
             [
              0.6666666666666666,
              "#ed7953"
             ],
             [
              0.7777777777777778,
              "#fb9f3a"
             ],
             [
              0.8888888888888888,
              "#fdca26"
             ],
             [
              1,
              "#f0f921"
             ]
            ],
            "type": "contour"
           }
          ],
          "contourcarpet": [
           {
            "colorbar": {
             "outlinewidth": 0,
             "ticks": ""
            },
            "type": "contourcarpet"
           }
          ],
          "heatmap": [
           {
            "colorbar": {
             "outlinewidth": 0,
             "ticks": ""
            },
            "colorscale": [
             [
              0,
              "#0d0887"
             ],
             [
              0.1111111111111111,
              "#46039f"
             ],
             [
              0.2222222222222222,
              "#7201a8"
             ],
             [
              0.3333333333333333,
              "#9c179e"
             ],
             [
              0.4444444444444444,
              "#bd3786"
             ],
             [
              0.5555555555555556,
              "#d8576b"
             ],
             [
              0.6666666666666666,
              "#ed7953"
             ],
             [
              0.7777777777777778,
              "#fb9f3a"
             ],
             [
              0.8888888888888888,
              "#fdca26"
             ],
             [
              1,
              "#f0f921"
             ]
            ],
            "type": "heatmap"
           }
          ],
          "heatmapgl": [
           {
            "colorbar": {
             "outlinewidth": 0,
             "ticks": ""
            },
            "colorscale": [
             [
              0,
              "#0d0887"
             ],
             [
              0.1111111111111111,
              "#46039f"
             ],
             [
              0.2222222222222222,
              "#7201a8"
             ],
             [
              0.3333333333333333,
              "#9c179e"
             ],
             [
              0.4444444444444444,
              "#bd3786"
             ],
             [
              0.5555555555555556,
              "#d8576b"
             ],
             [
              0.6666666666666666,
              "#ed7953"
             ],
             [
              0.7777777777777778,
              "#fb9f3a"
             ],
             [
              0.8888888888888888,
              "#fdca26"
             ],
             [
              1,
              "#f0f921"
             ]
            ],
            "type": "heatmapgl"
           }
          ],
          "histogram": [
           {
            "marker": {
             "colorbar": {
              "outlinewidth": 0,
              "ticks": ""
             }
            },
            "type": "histogram"
           }
          ],
          "histogram2d": [
           {
            "colorbar": {
             "outlinewidth": 0,
             "ticks": ""
            },
            "colorscale": [
             [
              0,
              "#0d0887"
             ],
             [
              0.1111111111111111,
              "#46039f"
             ],
             [
              0.2222222222222222,
              "#7201a8"
             ],
             [
              0.3333333333333333,
              "#9c179e"
             ],
             [
              0.4444444444444444,
              "#bd3786"
             ],
             [
              0.5555555555555556,
              "#d8576b"
             ],
             [
              0.6666666666666666,
              "#ed7953"
             ],
             [
              0.7777777777777778,
              "#fb9f3a"
             ],
             [
              0.8888888888888888,
              "#fdca26"
             ],
             [
              1,
              "#f0f921"
             ]
            ],
            "type": "histogram2d"
           }
          ],
          "histogram2dcontour": [
           {
            "colorbar": {
             "outlinewidth": 0,
             "ticks": ""
            },
            "colorscale": [
             [
              0,
              "#0d0887"
             ],
             [
              0.1111111111111111,
              "#46039f"
             ],
             [
              0.2222222222222222,
              "#7201a8"
             ],
             [
              0.3333333333333333,
              "#9c179e"
             ],
             [
              0.4444444444444444,
              "#bd3786"
             ],
             [
              0.5555555555555556,
              "#d8576b"
             ],
             [
              0.6666666666666666,
              "#ed7953"
             ],
             [
              0.7777777777777778,
              "#fb9f3a"
             ],
             [
              0.8888888888888888,
              "#fdca26"
             ],
             [
              1,
              "#f0f921"
             ]
            ],
            "type": "histogram2dcontour"
           }
          ],
          "mesh3d": [
           {
            "colorbar": {
             "outlinewidth": 0,
             "ticks": ""
            },
            "type": "mesh3d"
           }
          ],
          "parcoords": [
           {
            "line": {
             "colorbar": {
              "outlinewidth": 0,
              "ticks": ""
             }
            },
            "type": "parcoords"
           }
          ],
          "pie": [
           {
            "automargin": true,
            "type": "pie"
           }
          ],
          "scatter": [
           {
            "marker": {
             "colorbar": {
              "outlinewidth": 0,
              "ticks": ""
             }
            },
            "type": "scatter"
           }
          ],
          "scatter3d": [
           {
            "line": {
             "colorbar": {
              "outlinewidth": 0,
              "ticks": ""
             }
            },
            "marker": {
             "colorbar": {
              "outlinewidth": 0,
              "ticks": ""
             }
            },
            "type": "scatter3d"
           }
          ],
          "scattercarpet": [
           {
            "marker": {
             "colorbar": {
              "outlinewidth": 0,
              "ticks": ""
             }
            },
            "type": "scattercarpet"
           }
          ],
          "scattergeo": [
           {
            "marker": {
             "colorbar": {
              "outlinewidth": 0,
              "ticks": ""
             }
            },
            "type": "scattergeo"
           }
          ],
          "scattergl": [
           {
            "marker": {
             "colorbar": {
              "outlinewidth": 0,
              "ticks": ""
             }
            },
            "type": "scattergl"
           }
          ],
          "scattermapbox": [
           {
            "marker": {
             "colorbar": {
              "outlinewidth": 0,
              "ticks": ""
             }
            },
            "type": "scattermapbox"
           }
          ],
          "scatterpolar": [
           {
            "marker": {
             "colorbar": {
              "outlinewidth": 0,
              "ticks": ""
             }
            },
            "type": "scatterpolar"
           }
          ],
          "scatterpolargl": [
           {
            "marker": {
             "colorbar": {
              "outlinewidth": 0,
              "ticks": ""
             }
            },
            "type": "scatterpolargl"
           }
          ],
          "scatterternary": [
           {
            "marker": {
             "colorbar": {
              "outlinewidth": 0,
              "ticks": ""
             }
            },
            "type": "scatterternary"
           }
          ],
          "surface": [
           {
            "colorbar": {
             "outlinewidth": 0,
             "ticks": ""
            },
            "colorscale": [
             [
              0,
              "#0d0887"
             ],
             [
              0.1111111111111111,
              "#46039f"
             ],
             [
              0.2222222222222222,
              "#7201a8"
             ],
             [
              0.3333333333333333,
              "#9c179e"
             ],
             [
              0.4444444444444444,
              "#bd3786"
             ],
             [
              0.5555555555555556,
              "#d8576b"
             ],
             [
              0.6666666666666666,
              "#ed7953"
             ],
             [
              0.7777777777777778,
              "#fb9f3a"
             ],
             [
              0.8888888888888888,
              "#fdca26"
             ],
             [
              1,
              "#f0f921"
             ]
            ],
            "type": "surface"
           }
          ],
          "table": [
           {
            "cells": {
             "fill": {
              "color": "#EBF0F8"
             },
             "line": {
              "color": "white"
             }
            },
            "header": {
             "fill": {
              "color": "#C8D4E3"
             },
             "line": {
              "color": "white"
             }
            },
            "type": "table"
           }
          ]
         },
         "layout": {
          "annotationdefaults": {
           "arrowcolor": "#2a3f5f",
           "arrowhead": 0,
           "arrowwidth": 1
          },
          "autotypenumbers": "strict",
          "coloraxis": {
           "colorbar": {
            "outlinewidth": 0,
            "ticks": ""
           }
          },
          "colorscale": {
           "diverging": [
            [
             0,
             "#8e0152"
            ],
            [
             0.1,
             "#c51b7d"
            ],
            [
             0.2,
             "#de77ae"
            ],
            [
             0.3,
             "#f1b6da"
            ],
            [
             0.4,
             "#fde0ef"
            ],
            [
             0.5,
             "#f7f7f7"
            ],
            [
             0.6,
             "#e6f5d0"
            ],
            [
             0.7,
             "#b8e186"
            ],
            [
             0.8,
             "#7fbc41"
            ],
            [
             0.9,
             "#4d9221"
            ],
            [
             1,
             "#276419"
            ]
           ],
           "sequential": [
            [
             0,
             "#0d0887"
            ],
            [
             0.1111111111111111,
             "#46039f"
            ],
            [
             0.2222222222222222,
             "#7201a8"
            ],
            [
             0.3333333333333333,
             "#9c179e"
            ],
            [
             0.4444444444444444,
             "#bd3786"
            ],
            [
             0.5555555555555556,
             "#d8576b"
            ],
            [
             0.6666666666666666,
             "#ed7953"
            ],
            [
             0.7777777777777778,
             "#fb9f3a"
            ],
            [
             0.8888888888888888,
             "#fdca26"
            ],
            [
             1,
             "#f0f921"
            ]
           ],
           "sequentialminus": [
            [
             0,
             "#0d0887"
            ],
            [
             0.1111111111111111,
             "#46039f"
            ],
            [
             0.2222222222222222,
             "#7201a8"
            ],
            [
             0.3333333333333333,
             "#9c179e"
            ],
            [
             0.4444444444444444,
             "#bd3786"
            ],
            [
             0.5555555555555556,
             "#d8576b"
            ],
            [
             0.6666666666666666,
             "#ed7953"
            ],
            [
             0.7777777777777778,
             "#fb9f3a"
            ],
            [
             0.8888888888888888,
             "#fdca26"
            ],
            [
             1,
             "#f0f921"
            ]
           ]
          },
          "colorway": [
           "#636efa",
           "#EF553B",
           "#00cc96",
           "#ab63fa",
           "#FFA15A",
           "#19d3f3",
           "#FF6692",
           "#B6E880",
           "#FF97FF",
           "#FECB52"
          ],
          "font": {
           "color": "#2a3f5f"
          },
          "geo": {
           "bgcolor": "white",
           "lakecolor": "white",
           "landcolor": "#E5ECF6",
           "showlakes": true,
           "showland": true,
           "subunitcolor": "white"
          },
          "hoverlabel": {
           "align": "left"
          },
          "hovermode": "closest",
          "mapbox": {
           "style": "light"
          },
          "paper_bgcolor": "white",
          "plot_bgcolor": "#E5ECF6",
          "polar": {
           "angularaxis": {
            "gridcolor": "white",
            "linecolor": "white",
            "ticks": ""
           },
           "bgcolor": "#E5ECF6",
           "radialaxis": {
            "gridcolor": "white",
            "linecolor": "white",
            "ticks": ""
           }
          },
          "scene": {
           "xaxis": {
            "backgroundcolor": "#E5ECF6",
            "gridcolor": "white",
            "gridwidth": 2,
            "linecolor": "white",
            "showbackground": true,
            "ticks": "",
            "zerolinecolor": "white"
           },
           "yaxis": {
            "backgroundcolor": "#E5ECF6",
            "gridcolor": "white",
            "gridwidth": 2,
            "linecolor": "white",
            "showbackground": true,
            "ticks": "",
            "zerolinecolor": "white"
           },
           "zaxis": {
            "backgroundcolor": "#E5ECF6",
            "gridcolor": "white",
            "gridwidth": 2,
            "linecolor": "white",
            "showbackground": true,
            "ticks": "",
            "zerolinecolor": "white"
           }
          },
          "shapedefaults": {
           "line": {
            "color": "#2a3f5f"
           }
          },
          "ternary": {
           "aaxis": {
            "gridcolor": "white",
            "linecolor": "white",
            "ticks": ""
           },
           "baxis": {
            "gridcolor": "white",
            "linecolor": "white",
            "ticks": ""
           },
           "bgcolor": "#E5ECF6",
           "caxis": {
            "gridcolor": "white",
            "linecolor": "white",
            "ticks": ""
           }
          },
          "title": {
           "x": 0.05
          },
          "xaxis": {
           "automargin": true,
           "gridcolor": "white",
           "linecolor": "white",
           "ticks": "",
           "title": {
            "standoff": 15
           },
           "zerolinecolor": "white",
           "zerolinewidth": 2
          },
          "yaxis": {
           "automargin": true,
           "gridcolor": "white",
           "linecolor": "white",
           "ticks": "",
           "title": {
            "standoff": 15
           },
           "zerolinecolor": "white",
           "zerolinewidth": 2
          }
         }
        },
        "title": {
         "text": "ROC curve, AUC=0.96"
        },
        "xaxis": {
         "autorange": true,
         "range": [
          -0.06047720292936453,
          1.0604772029293645
         ],
         "title": {
          "text": "False positive rate"
         },
         "type": "linear"
        },
        "yaxis": {
         "autorange": true,
         "range": [
          -0.0732484076433121,
          1.0732484076433122
         ],
         "title": {
          "text": "True positive rate"
         },
         "type": "linear"
        }
       }
      },
      "image/png": "[encoded data removed]",
      "text/html": [
       "<div>                            <div id=\"bc1ad19f-e4c4-4220-a5b0-f2854f2b88f3\" class=\"plotly-graph-div\" style=\"height:525px; width:100%;\"></div>            <script type=\"text/javascript\">                require([\"plotly\"], function(Plotly) {                    window.PLOTLYENV=window.PLOTLYENV || {};                                    if (document.getElementById(\"bc1ad19f-e4c4-4220-a5b0-f2854f2b88f3\")) {                    Plotly.newPlot(                        \"bc1ad19f-e4c4-4220-a5b0-f2854f2b88f3\",                        [{\"name\": \"BERT vectors+logistic regression\", \"type\": \"scatter\", \"x\": [0.0, 0.0, 0.0, 0.0, 0.0, 0.0, 0.0, 0.0, 0.0, 0.0, 0.0, 0.0, 0.0, 0.0, 0.0, 0.0, 0.0, 0.0, 0.0, 0.0, 0.0, 0.0, 0.0, 0.0, 0.0, 0.0, 0.0, 0.0, 0.0026455026455026454, 0.0026455026455026454, 0.0026455026455026454, 0.0026455026455026454, 0.005291005291005291, 0.005291005291005291, 0.005291005291005291, 0.005291005291005291, 0.005291005291005291, 0.005291005291005291, 0.005291005291005291, 0.007936507936507936, 0.007936507936507936, 0.007936507936507936, 0.007936507936507936, 0.007936507936507936, 0.007936507936507936, 0.007936507936507936, 0.007936507936507936, 0.007936507936507936, 0.007936507936507936, 0.010582010582010581, 0.010582010582010581, 0.010582010582010581, 0.010582010582010581, 0.010582010582010581, 0.010582010582010581, 0.010582010582010581, 0.010582010582010581, 0.010582010582010581, 0.010582010582010581, 0.010582010582010581, 0.010582010582010581, 0.010582010582010581, 0.013227513227513227, 0.013227513227513227, 0.013227513227513227, 0.013227513227513227, 0.013227513227513227, 0.013227513227513227, 0.013227513227513227, 0.013227513227513227, 0.013227513227513227, 0.013227513227513227, 0.013227513227513227, 0.013227513227513227, 0.015873015873015872, 0.015873015873015872, 0.015873015873015872, 0.015873015873015872, 0.015873015873015872, 0.015873015873015872, 0.015873015873015872, 0.018518518518518517, 0.018518518518518517, 0.018518518518518517, 0.018518518518518517, 0.023809523809523808, 0.023809523809523808, 0.026455026455026454, 0.026455026455026454, 0.026455026455026454, 0.026455026455026454, 0.026455026455026454, 0.026455026455026454, 0.026455026455026454, 0.026455026455026454, 0.026455026455026454, 0.0291005291005291, 0.0291005291005291, 0.031746031746031744, 0.031746031746031744, 0.03439153439153439, 0.03439153439153439, 0.03439153439153439, 0.03439153439153439, 0.037037037037037035, 0.037037037037037035, 0.037037037037037035, 0.037037037037037035, 0.037037037037037035, 0.037037037037037035, 0.037037037037037035, 0.037037037037037035, 0.037037037037037035, 0.037037037037037035, 0.037037037037037035, 0.037037037037037035, 0.037037037037037035, 0.037037037037037035, 0.037037037037037035, 0.037037037037037035, 0.037037037037037035, 0.037037037037037035, 0.037037037037037035, 0.037037037037037035, 0.037037037037037035, 0.03968253968253968, 0.03968253968253968, 0.03968253968253968, 0.042328042328042326, 0.042328042328042326, 0.042328042328042326, 0.042328042328042326, 0.042328042328042326, 0.04497354497354497, 0.04497354497354497, 0.04497354497354497, 0.04497354497354497, 0.04497354497354497, 0.04497354497354497, 0.047619047619047616, 0.047619047619047616, 0.047619047619047616, 0.047619047619047616, 0.047619047619047616, 0.047619047619047616, 0.047619047619047616, 0.05026455026455026, 0.05026455026455026, 0.05291005291005291, 0.05291005291005291, 0.05555555555555555, 0.05555555555555555, 0.0582010582010582, 0.0582010582010582, 0.06084656084656084, 0.06084656084656084, 0.06349206349206349, 0.06349206349206349, 0.06613756613756613, 0.06613756613756613, 0.06878306878306878, 0.06878306878306878, 0.06878306878306878, 0.06878306878306878, 0.07142857142857142, 0.07142857142857142, 0.07407407407407407, 0.07407407407407407, 0.07671957671957672, 0.07671957671957672, 0.07936507936507936, 0.07936507936507936, 0.07936507936507936, 0.07936507936507936, 0.082010582010582, 0.082010582010582, 0.08465608465608465, 0.08465608465608465, 0.0873015873015873, 0.0873015873015873, 0.0873015873015873, 0.08994708994708994, 0.08994708994708994, 0.11904761904761904, 0.11904761904761904, 0.12433862433862433, 0.12433862433862433, 0.1402116402116402, 0.1402116402116402, 0.14285714285714285, 0.14285714285714285, 0.15079365079365079, 0.15079365079365079, 0.16137566137566137, 0.16137566137566137, 0.164021164021164, 0.164021164021164, 1.0], \"y\": [0.0, 0.004739336492890996, 0.011848341232227487, 0.02132701421800948, 0.026066350710900472, 0.030805687203791468, 0.035545023696682464, 0.06635071090047394, 0.07345971563981042, 0.08293838862559241, 0.08767772511848342, 0.0971563981042654, 0.1066350710900474, 0.10900473933649289, 0.11374407582938388, 0.12322274881516587, 0.13270142180094788, 0.13507109004739337, 0.13981042654028436, 0.14928909952606634, 0.15165876777251186, 0.15876777251184834, 0.16113744075829384, 0.16587677725118483, 0.17298578199052134, 0.17772511848341233, 0.1848341232227488, 0.1895734597156398, 0.1895734597156398, 0.1943127962085308, 0.1990521327014218, 0.20616113744075829, 0.20616113744075829, 0.2109004739336493, 0.2156398104265403, 0.22511848341232227, 0.22748815165876776, 0.23222748815165878, 0.23933649289099526, 0.23933649289099526, 0.24170616113744076, 0.24881516587677724, 0.25118483412322273, 0.2559241706161137, 0.26066350710900477, 0.26540284360189575, 0.27014218009478674, 0.27488151658767773, 0.2796208530805687, 0.2796208530805687, 0.2914691943127962, 0.2962085308056872, 0.3033175355450237, 0.3080568720379147, 0.3175355450236967, 0.32701421800947866, 0.33175355450236965, 0.3341232227488152, 0.33886255924170616, 0.35308056872037913, 0.36255924170616116, 0.36729857819905215, 0.36729857819905215, 0.37203791469194314, 0.3933649289099526, 0.3981042654028436, 0.4052132701421801, 0.4099526066350711, 0.41706161137440756, 0.4218009478672986, 0.42417061611374407, 0.42890995260663506, 0.43838862559241704, 0.4431279620853081, 0.4431279620853081, 0.44786729857819907, 0.45023696682464454, 0.4597156398104265, 0.46208530805687204, 0.466824644549763, 0.47393364928909953, 0.47393364928909953, 0.4834123222748815, 0.490521327014218, 0.5023696682464455, 0.5023696682464455, 0.504739336492891, 0.504739336492891, 0.514218009478673, 0.5260663507109005, 0.5355450236966824, 0.542654028436019, 0.54739336492891, 0.5545023696682464, 0.5734597156398105, 0.5758293838862559, 0.5758293838862559, 0.5971563981042654, 0.5971563981042654, 0.5995260663507109, 0.5995260663507109, 0.6090047393364929, 0.6161137440758294, 0.6208530805687204, 0.6208530805687204, 0.6232227488151659, 0.6279620853080569, 0.6303317535545023, 0.6350710900473934, 0.6374407582938388, 0.6421800947867299, 0.6492890995260664, 0.6540284360189573, 0.6658767772511849, 0.6706161137440758, 0.6753554502369669, 0.6800947867298578, 0.6824644549763034, 0.6872037914691943, 0.6895734597156398, 0.6966824644549763, 0.7014218009478673, 0.7085308056872038, 0.7109004739336493, 0.7203791469194313, 0.7203791469194313, 0.7251184834123223, 0.7298578199052133, 0.7298578199052133, 0.7511848341232228, 0.7559241706161137, 0.7701421800947867, 0.7796208530805687, 0.7796208530805687, 0.7819905213270142, 0.7890995260663507, 0.7938388625592417, 0.7985781990521327, 0.8104265402843602, 0.8104265402843602, 0.8151658767772512, 0.8341232227488151, 0.8436018957345972, 0.8578199052132701, 0.8720379146919431, 0.8909952606635071, 0.8909952606635071, 0.8933649289099526, 0.8933649289099526, 0.8957345971563981, 0.8957345971563981, 0.9052132701421801, 0.9052132701421801, 0.9075829383886256, 0.9075829383886256, 0.909952606635071, 0.909952606635071, 0.9146919431279621, 0.9146919431279621, 0.919431279620853, 0.919431279620853, 0.9218009478672986, 0.9265402843601895, 0.9312796208530806, 0.9312796208530806, 0.933649289099526, 0.933649289099526, 0.9383886255924171, 0.9383886255924171, 0.943127962085308, 0.943127962085308, 0.9502369668246445, 0.9549763033175356, 0.957345971563981, 0.957345971563981, 0.9597156398104265, 0.9597156398104265, 0.9620853080568721, 0.9620853080568721, 0.9715639810426541, 0.976303317535545, 0.976303317535545, 0.9786729857819905, 0.9786729857819905, 0.981042654028436, 0.981042654028436, 0.985781990521327, 0.985781990521327, 0.9881516587677726, 0.9881516587677726, 0.990521327014218, 0.990521327014218, 0.9928909952606635, 0.9928909952606635, 0.9976303317535545, 0.9976303317535545, 1.0, 1.0]}, {\"name\": \"random classifier\", \"type\": \"scatter\", \"x\": [0, 1], \"y\": [0, 1]}],                        {\"template\": {\"data\": {\"bar\": [{\"error_x\": {\"color\": \"#2a3f5f\"}, \"error_y\": {\"color\": \"#2a3f5f\"}, \"marker\": {\"line\": {\"color\": \"#E5ECF6\", \"width\": 0.5}}, \"type\": \"bar\"}], \"barpolar\": [{\"marker\": {\"line\": {\"color\": \"#E5ECF6\", \"width\": 0.5}}, \"type\": \"barpolar\"}], \"carpet\": [{\"aaxis\": {\"endlinecolor\": \"#2a3f5f\", \"gridcolor\": \"white\", \"linecolor\": \"white\", \"minorgridcolor\": \"white\", \"startlinecolor\": \"#2a3f5f\"}, \"baxis\": {\"endlinecolor\": \"#2a3f5f\", \"gridcolor\": \"white\", \"linecolor\": \"white\", \"minorgridcolor\": \"white\", \"startlinecolor\": \"#2a3f5f\"}, \"type\": \"carpet\"}], \"choropleth\": [{\"colorbar\": {\"outlinewidth\": 0, \"ticks\": \"\"}, \"type\": \"choropleth\"}], \"contour\": [{\"colorbar\": {\"outlinewidth\": 0, \"ticks\": \"\"}, \"colorscale\": [[0.0, \"#0d0887\"], [0.1111111111111111, \"#46039f\"], [0.2222222222222222, \"#7201a8\"], [0.3333333333333333, \"#9c179e\"], [0.4444444444444444, \"#bd3786\"], [0.5555555555555556, \"#d8576b\"], [0.6666666666666666, \"#ed7953\"], [0.7777777777777778, \"#fb9f3a\"], [0.8888888888888888, \"#fdca26\"], [1.0, \"#f0f921\"]], \"type\": \"contour\"}], \"contourcarpet\": [{\"colorbar\": {\"outlinewidth\": 0, \"ticks\": \"\"}, \"type\": \"contourcarpet\"}], \"heatmap\": [{\"colorbar\": {\"outlinewidth\": 0, \"ticks\": \"\"}, \"colorscale\": [[0.0, \"#0d0887\"], [0.1111111111111111, \"#46039f\"], [0.2222222222222222, \"#7201a8\"], [0.3333333333333333, \"#9c179e\"], [0.4444444444444444, \"#bd3786\"], [0.5555555555555556, \"#d8576b\"], [0.6666666666666666, \"#ed7953\"], [0.7777777777777778, \"#fb9f3a\"], [0.8888888888888888, \"#fdca26\"], [1.0, \"#f0f921\"]], \"type\": \"heatmap\"}], \"heatmapgl\": [{\"colorbar\": {\"outlinewidth\": 0, \"ticks\": \"\"}, \"colorscale\": [[0.0, \"#0d0887\"], [0.1111111111111111, \"#46039f\"], [0.2222222222222222, \"#7201a8\"], [0.3333333333333333, \"#9c179e\"], [0.4444444444444444, \"#bd3786\"], [0.5555555555555556, \"#d8576b\"], [0.6666666666666666, \"#ed7953\"], [0.7777777777777778, \"#fb9f3a\"], [0.8888888888888888, \"#fdca26\"], [1.0, \"#f0f921\"]], \"type\": \"heatmapgl\"}], \"histogram\": [{\"marker\": {\"colorbar\": {\"outlinewidth\": 0, \"ticks\": \"\"}}, \"type\": \"histogram\"}], \"histogram2d\": [{\"colorbar\": {\"outlinewidth\": 0, \"ticks\": \"\"}, \"colorscale\": [[0.0, \"#0d0887\"], [0.1111111111111111, \"#46039f\"], [0.2222222222222222, \"#7201a8\"], [0.3333333333333333, \"#9c179e\"], [0.4444444444444444, \"#bd3786\"], [0.5555555555555556, \"#d8576b\"], [0.6666666666666666, \"#ed7953\"], [0.7777777777777778, \"#fb9f3a\"], [0.8888888888888888, \"#fdca26\"], [1.0, \"#f0f921\"]], \"type\": \"histogram2d\"}], \"histogram2dcontour\": [{\"colorbar\": {\"outlinewidth\": 0, \"ticks\": \"\"}, \"colorscale\": [[0.0, \"#0d0887\"], [0.1111111111111111, \"#46039f\"], [0.2222222222222222, \"#7201a8\"], [0.3333333333333333, \"#9c179e\"], [0.4444444444444444, \"#bd3786\"], [0.5555555555555556, \"#d8576b\"], [0.6666666666666666, \"#ed7953\"], [0.7777777777777778, \"#fb9f3a\"], [0.8888888888888888, \"#fdca26\"], [1.0, \"#f0f921\"]], \"type\": \"histogram2dcontour\"}], \"mesh3d\": [{\"colorbar\": {\"outlinewidth\": 0, \"ticks\": \"\"}, \"type\": \"mesh3d\"}], \"parcoords\": [{\"line\": {\"colorbar\": {\"outlinewidth\": 0, \"ticks\": \"\"}}, \"type\": \"parcoords\"}], \"pie\": [{\"automargin\": true, \"type\": \"pie\"}], \"scatter\": [{\"marker\": {\"colorbar\": {\"outlinewidth\": 0, \"ticks\": \"\"}}, \"type\": \"scatter\"}], \"scatter3d\": [{\"line\": {\"colorbar\": {\"outlinewidth\": 0, \"ticks\": \"\"}}, \"marker\": {\"colorbar\": {\"outlinewidth\": 0, \"ticks\": \"\"}}, \"type\": \"scatter3d\"}], \"scattercarpet\": [{\"marker\": {\"colorbar\": {\"outlinewidth\": 0, \"ticks\": \"\"}}, \"type\": \"scattercarpet\"}], \"scattergeo\": [{\"marker\": {\"colorbar\": {\"outlinewidth\": 0, \"ticks\": \"\"}}, \"type\": \"scattergeo\"}], \"scattergl\": [{\"marker\": {\"colorbar\": {\"outlinewidth\": 0, \"ticks\": \"\"}}, \"type\": \"scattergl\"}], \"scattermapbox\": [{\"marker\": {\"colorbar\": {\"outlinewidth\": 0, \"ticks\": \"\"}}, \"type\": \"scattermapbox\"}], \"scatterpolar\": [{\"marker\": {\"colorbar\": {\"outlinewidth\": 0, \"ticks\": \"\"}}, \"type\": \"scatterpolar\"}], \"scatterpolargl\": [{\"marker\": {\"colorbar\": {\"outlinewidth\": 0, \"ticks\": \"\"}}, \"type\": \"scatterpolargl\"}], \"scatterternary\": [{\"marker\": {\"colorbar\": {\"outlinewidth\": 0, \"ticks\": \"\"}}, \"type\": \"scatterternary\"}], \"surface\": [{\"colorbar\": {\"outlinewidth\": 0, \"ticks\": \"\"}, \"colorscale\": [[0.0, \"#0d0887\"], [0.1111111111111111, \"#46039f\"], [0.2222222222222222, \"#7201a8\"], [0.3333333333333333, \"#9c179e\"], [0.4444444444444444, \"#bd3786\"], [0.5555555555555556, \"#d8576b\"], [0.6666666666666666, \"#ed7953\"], [0.7777777777777778, \"#fb9f3a\"], [0.8888888888888888, \"#fdca26\"], [1.0, \"#f0f921\"]], \"type\": \"surface\"}], \"table\": [{\"cells\": {\"fill\": {\"color\": \"#EBF0F8\"}, \"line\": {\"color\": \"white\"}}, \"header\": {\"fill\": {\"color\": \"#C8D4E3\"}, \"line\": {\"color\": \"white\"}}, \"type\": \"table\"}]}, \"layout\": {\"annotationdefaults\": {\"arrowcolor\": \"#2a3f5f\", \"arrowhead\": 0, \"arrowwidth\": 1}, \"autotypenumbers\": \"strict\", \"coloraxis\": {\"colorbar\": {\"outlinewidth\": 0, \"ticks\": \"\"}}, \"colorscale\": {\"diverging\": [[0, \"#8e0152\"], [0.1, \"#c51b7d\"], [0.2, \"#de77ae\"], [0.3, \"#f1b6da\"], [0.4, \"#fde0ef\"], [0.5, \"#f7f7f7\"], [0.6, \"#e6f5d0\"], [0.7, \"#b8e186\"], [0.8, \"#7fbc41\"], [0.9, \"#4d9221\"], [1, \"#276419\"]], \"sequential\": [[0.0, \"#0d0887\"], [0.1111111111111111, \"#46039f\"], [0.2222222222222222, \"#7201a8\"], [0.3333333333333333, \"#9c179e\"], [0.4444444444444444, \"#bd3786\"], [0.5555555555555556, \"#d8576b\"], [0.6666666666666666, \"#ed7953\"], [0.7777777777777778, \"#fb9f3a\"], [0.8888888888888888, \"#fdca26\"], [1.0, \"#f0f921\"]], \"sequentialminus\": [[0.0, \"#0d0887\"], [0.1111111111111111, \"#46039f\"], [0.2222222222222222, \"#7201a8\"], [0.3333333333333333, \"#9c179e\"], [0.4444444444444444, \"#bd3786\"], [0.5555555555555556, \"#d8576b\"], [0.6666666666666666, \"#ed7953\"], [0.7777777777777778, \"#fb9f3a\"], [0.8888888888888888, \"#fdca26\"], [1.0, \"#f0f921\"]]}, \"colorway\": [\"#636efa\", \"#EF553B\", \"#00cc96\", \"#ab63fa\", \"#FFA15A\", \"#19d3f3\", \"#FF6692\", \"#B6E880\", \"#FF97FF\", \"#FECB52\"], \"font\": {\"color\": \"#2a3f5f\"}, \"geo\": {\"bgcolor\": \"white\", \"lakecolor\": \"white\", \"landcolor\": \"#E5ECF6\", \"showlakes\": true, \"showland\": true, \"subunitcolor\": \"white\"}, \"hoverlabel\": {\"align\": \"left\"}, \"hovermode\": \"closest\", \"mapbox\": {\"style\": \"light\"}, \"paper_bgcolor\": \"white\", \"plot_bgcolor\": \"#E5ECF6\", \"polar\": {\"angularaxis\": {\"gridcolor\": \"white\", \"linecolor\": \"white\", \"ticks\": \"\"}, \"bgcolor\": \"#E5ECF6\", \"radialaxis\": {\"gridcolor\": \"white\", \"linecolor\": \"white\", \"ticks\": \"\"}}, \"scene\": {\"xaxis\": {\"backgroundcolor\": \"#E5ECF6\", \"gridcolor\": \"white\", \"gridwidth\": 2, \"linecolor\": \"white\", \"showbackground\": true, \"ticks\": \"\", \"zerolinecolor\": \"white\"}, \"yaxis\": {\"backgroundcolor\": \"#E5ECF6\", \"gridcolor\": \"white\", \"gridwidth\": 2, \"linecolor\": \"white\", \"showbackground\": true, \"ticks\": \"\", \"zerolinecolor\": \"white\"}, \"zaxis\": {\"backgroundcolor\": \"#E5ECF6\", \"gridcolor\": \"white\", \"gridwidth\": 2, \"linecolor\": \"white\", \"showbackground\": true, \"ticks\": \"\", \"zerolinecolor\": \"white\"}}, \"shapedefaults\": {\"line\": {\"color\": \"#2a3f5f\"}}, \"ternary\": {\"aaxis\": {\"gridcolor\": \"white\", \"linecolor\": \"white\", \"ticks\": \"\"}, \"baxis\": {\"gridcolor\": \"white\", \"linecolor\": \"white\", \"ticks\": \"\"}, \"bgcolor\": \"#E5ECF6\", \"caxis\": {\"gridcolor\": \"white\", \"linecolor\": \"white\", \"ticks\": \"\"}}, \"title\": {\"x\": 0.05}, \"xaxis\": {\"automargin\": true, \"gridcolor\": \"white\", \"linecolor\": \"white\", \"ticks\": \"\", \"title\": {\"standoff\": 15}, \"zerolinecolor\": \"white\", \"zerolinewidth\": 2}, \"yaxis\": {\"automargin\": true, \"gridcolor\": \"white\", \"linecolor\": \"white\", \"ticks\": \"\", \"title\": {\"standoff\": 15}, \"zerolinecolor\": \"white\", \"zerolinewidth\": 2}}}, \"title\": {\"text\": \"ROC curve, AUC=0.96\"}, \"xaxis\": {\"title\": {\"text\": \"False positive rate\"}}, \"yaxis\": {\"title\": {\"text\": \"True positive rate\"}}},                        {\"responsive\": true}                    ).then(function(){\n",
       "                            \n",
       "var gd = document.getElementById('bc1ad19f-e4c4-4220-a5b0-f2854f2b88f3');\n",
       "var x = new MutationObserver(function (mutations, observer) {{\n",
       "        var display = window.getComputedStyle(gd).display;\n",
       "        if (!display || display === 'none') {{\n",
       "            console.log([gd, 'removed!']);\n",
       "            Plotly.purge(gd);\n",
       "            observer.disconnect();\n",
       "        }}\n",
       "}});\n",
       "\n",
       "// Listen for the removal of the full notebook cells\n",
       "var notebookContainer = gd.closest('#notebook-container');\n",
       "if (notebookContainer) {{\n",
       "    x.observe(notebookContainer, {childList: true});\n",
       "}}\n",
       "\n",
       "// Listen for the clearing of the current output cell\n",
       "var outputEl = gd.closest('.output');\n",
       "if (outputEl) {{\n",
       "    x.observe(outputEl, {childList: true});\n",
       "}}\n",
       "\n",
       "                        })                };                });            </script>        </div>"
      ]
     },
     "metadata": {},
     "output_type": "display_data"
    }
   ],
   "source": [
    "fpr, tpr, thresholds = sklearn.metrics.roc_curve(\n",
    "    yvalid,\n",
    "    pred_probabilities_valid[:,1],\n",
    ")\n",
    "go.Figure(\n",
    "    layout=dict(\n",
    "        title=f\"ROC curve, AUC={auc:.2f}\",\n",
    "        xaxis_title=\"False positive rate\",\n",
    "        yaxis_title=\"True positive rate\",\n",
    "    ),\n",
    "    data=[\n",
    "        go.Scatter(name=\"BERT vectors+logistic regression\", x=fpr, y=tpr),\n",
    "        go.Scatter(name=\"random classifier\", x=[0, 1], y=[0, 1])\n",
    "    ],\n",
    ")"
   ]
  },
  {
   "cell_type": "code",
   "execution_count": null,
   "id": "dd58155e",
   "metadata": {},
   "outputs": [],
   "source": []
  },
  {
   "cell_type": "code",
   "execution_count": null,
   "id": "82bed99b",
   "metadata": {},
   "outputs": [],
   "source": []
  }
 ],
 "metadata": {
  "environment": {
   "name": "common-cpu.m69",
   "type": "gcloud",
   "uri": "gcr.io/deeplearning-platform-release/base-cpu:m69"
  },
  "kernelspec": {
   "display_name": "Python 3",
   "language": "python",
   "name": "python3"
  },
  "language_info": {
   "codemirror_mode": {
    "name": "ipython",
    "version": 3
   },
   "file_extension": ".py",
   "mimetype": "text/x-python",
   "name": "python",
   "nbconvert_exporter": "python",
   "pygments_lexer": "ipython3",
   "version": "3.7.10"
  }
 },
 "nbformat": 4,
 "nbformat_minor": 5
}
