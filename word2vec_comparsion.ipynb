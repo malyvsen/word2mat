{
 "cells": [
  {
   "cell_type": "code",
   "execution_count": 1,
   "id": "3db16698",
   "metadata": {},
   "outputs": [],
   "source": [
    "import random\n",
    "from functools import reduce\n",
    "from collections import Counter\n",
    "import numpy as np\n",
    "import pandas as pd\n",
    "import torch\n",
    "import scipy.stats\n",
    "import sklearn.metrics\n",
    "import plotly.graph_objects as go\n",
    "from tqdm.auto import tqdm, trange\n",
    "from word2mat import Dataset, Sentence"
   ]
  },
  {
   "cell_type": "markdown",
   "id": "a300b1ec",
   "metadata": {},
   "source": [
    "# Data"
   ]
  },
  {
   "cell_type": "code",
   "execution_count": 2,
   "id": "1fed7c19",
   "metadata": {},
   "outputs": [
    {
     "name": "stderr",
     "output_type": "stream",
     "text": [
      "Reusing dataset wiki_auto (/home/gilles/.cache/huggingface/datasets/wiki_auto/manual/1.0.0/5ffdd9fc62422d29bd02675fb9606f77c1251ee17169ac10b143ce07ef2f4db8)\n"
     ]
    },
    {
     "data": {
      "application/vnd.jupyter.widget-view+json": {
       "model_id": "a3a010a21e424b2cae274287b2578312",
       "version_major": 2,
       "version_minor": 0
      },
      "text/plain": [
       "HBox(children=(FloatProgress(value=0.0, description='Parsing dataset', max=373801.0, style=ProgressStyle(descr…"
      ]
     },
     "metadata": {},
     "output_type": "display_data"
    },
    {
     "name": "stdout",
     "output_type": "stream",
     "text": [
      "\n"
     ]
    },
    {
     "data": {
      "text/plain": [
       "373801"
      ]
     },
     "execution_count": 2,
     "metadata": {},
     "output_type": "execute_result"
    }
   ],
   "source": [
    "full_dataset = Dataset.from_huggingface(\"wiki_auto\", config=\"manual\", column=\"normal_sentence\")\n",
    "len(full_dataset)"
   ]
  },
  {
   "cell_type": "code",
   "execution_count": 3,
   "id": "8d7a0bad",
   "metadata": {},
   "outputs": [
    {
     "data": {
      "application/vnd.jupyter.widget-view+json": {
       "model_id": "628385e5bacd46189b1c094b53a812b0",
       "version_major": 2,
       "version_minor": 0
      },
      "text/plain": [
       "HBox(children=(FloatProgress(value=0.0, description='Reading word vectors', max=4027169.0, style=ProgressStyle…"
      ]
     },
     "metadata": {},
     "output_type": "display_data"
    },
    {
     "name": "stdout",
     "output_type": "stream",
     "text": [
      "\n"
     ]
    },
    {
     "data": {
      "text/plain": [
       "329155"
      ]
     },
     "execution_count": 3,
     "metadata": {},
     "output_type": "execute_result"
    }
   ],
   "source": [
    "clean_dataset = full_dataset.clean\n",
    "len(clean_dataset)"
   ]
  },
  {
   "cell_type": "code",
   "execution_count": 4,
   "id": "43703e1b",
   "metadata": {},
   "outputs": [
    {
     "data": {
      "text/plain": [
       "8756821"
      ]
     },
     "execution_count": 4,
     "metadata": {},
     "output_type": "execute_result"
    }
   ],
   "source": [
    "sum(len(sentence) for sentence in clean_dataset)"
   ]
  },
  {
   "cell_type": "code",
   "execution_count": 5,
   "id": "602e315d",
   "metadata": {
    "scrolled": true
   },
   "outputs": [
    {
     "data": {
      "text/plain": [
       "35259"
      ]
     },
     "execution_count": 5,
     "metadata": {},
     "output_type": "execute_result"
    }
   ],
   "source": [
    "len(clean_dataset.unique_words)"
   ]
  },
  {
   "cell_type": "markdown",
   "id": "669a18dc",
   "metadata": {},
   "source": [
    "# Random initialization"
   ]
  },
  {
   "cell_type": "code",
   "execution_count": 6,
   "id": "3612f062",
   "metadata": {},
   "outputs": [],
   "source": [
    "matrix_size = 16"
   ]
  },
  {
   "cell_type": "code",
   "execution_count": 7,
   "id": "c6c0f2bc",
   "metadata": {},
   "outputs": [
    {
     "data": {
      "application/vnd.jupyter.widget-view+json": {
       "model_id": "7eb208899c1e4661816b5519aae7b37f",
       "version_major": 2,
       "version_minor": 0
      },
      "text/plain": [
       "HBox(children=(FloatProgress(value=0.0, max=35259.0), HTML(value='')))"
      ]
     },
     "metadata": {},
     "output_type": "display_data"
    },
    {
     "name": "stderr",
     "output_type": "stream",
     "text": [
      "<ipython-input-7-54716a72d40c>:3: UserWarning: To copy construct from a tensor, it is recommended to use sourceTensor.clone().detach() or sourceTensor.clone().detach().requires_grad_(True), rather than torch.tensor(sourceTensor).\n",
      "  return torch.tensor(\n"
     ]
    },
    {
     "name": "stdout",
     "output_type": "stream",
     "text": [
      "\n"
     ]
    },
    {
     "data": {
      "text/plain": [
       "tensor([[-1.2171, -0.7279,  0.7662, -0.9629,  0.5058, -1.0479, -0.6080,  0.8031,\n",
       "         -0.4424, -1.2091,  0.1963, -0.7502,  1.1065, -1.0266, -1.3331, -0.4274],\n",
       "        [-0.6726, -1.3106, -0.5628, -0.6087,  0.3584, -1.4838, -1.0848,  0.5396,\n",
       "          1.1632,  1.1234,  0.9771, -0.8127, -0.6217, -0.5047, -1.6581, -0.7960],\n",
       "        [ 0.3070,  1.3839, -0.8876, -0.3768,  1.3029,  0.7506,  0.9136,  0.9350,\n",
       "         -0.9389,  0.8463, -1.3612,  0.7044, -0.4705,  0.1037, -1.1618, -0.4376],\n",
       "        [ 0.9772,  1.0808,  0.5715,  0.8625,  0.5533,  1.2063, -0.9480, -0.9700,\n",
       "         -1.1138, -0.3591, -0.7479,  0.3610,  0.7650,  0.7968,  0.7854, -0.2873],\n",
       "        [ 1.2690,  1.2931,  0.4189, -0.9288, -0.4302, -0.7685,  0.6194, -1.2549,\n",
       "          0.7230,  1.2038, -0.7119, -0.5637, -0.5861,  0.5789, -0.5897,  0.9192],\n",
       "        [ 0.6912, -0.9088, -0.3841,  1.1091, -1.5322, -0.7385, -1.1247,  1.5261,\n",
       "         -0.5393, -0.3531, -0.3706, -0.6526, -0.4392,  1.1890,  0.6200,  1.1688],\n",
       "        [-1.0038, -0.6923,  0.2197,  0.2831,  0.7852, -0.1778,  0.9198, -0.3964,\n",
       "         -0.9691,  0.3291,  0.5541, -0.8611,  0.8280,  1.3404,  0.4173, -0.4990],\n",
       "        [ 1.0884, -1.0522,  1.3336,  0.6925,  0.8761, -1.5152,  0.5536, -0.7649,\n",
       "         -0.7144,  0.7197,  1.2663, -0.8883, -0.5783, -1.0395,  1.6322,  0.8423],\n",
       "        [-0.7959, -0.8732,  1.1692,  0.2202, -1.0579,  0.6506,  0.6741,  1.2950,\n",
       "          1.2610, -0.3714, -0.7688, -0.8207, -0.8107, -1.0605,  0.3786, -1.0299],\n",
       "        [-1.1533,  0.7989, -0.7295, -0.8445,  0.2117, -0.7240, -1.1437,  0.2280,\n",
       "          0.9385,  0.3454, -0.4854,  1.0848,  0.4454, -0.8432,  1.0636, -0.9206],\n",
       "        [ 0.7690,  0.6935, -0.1749, -1.0721, -0.8674, -1.0747, -0.4674, -0.3709,\n",
       "         -0.6713,  0.8395,  1.1711,  1.3133, -1.0729,  0.8937, -1.1553, -0.9252],\n",
       "        [-0.7442, -0.4022,  0.9431, -0.4907, -0.6614,  0.8049, -0.3600,  0.4477,\n",
       "         -0.6862,  0.7660,  0.7240,  0.7610, -1.0745, -0.2872, -0.4744,  0.5702],\n",
       "        [-0.7942, -1.0487, -0.7694, -0.9711,  0.6133,  1.1662,  0.2857, -0.7392,\n",
       "         -0.9514,  0.7729, -1.3547, -0.2395,  0.6836,  0.9503, -0.8659, -0.9662],\n",
       "        [ 0.9437, -0.4306,  0.9830,  0.9305,  0.5897, -0.3392,  0.5821, -1.5131,\n",
       "          0.8918, -0.0699,  0.6839,  0.9439,  1.1286,  0.4704, -0.3426,  0.9394],\n",
       "        [-1.2715,  0.9959,  0.1572, -0.5636, -0.7854,  0.3348,  0.7616,  1.1650,\n",
       "         -0.7930, -1.5742,  0.3436, -1.3086,  0.7467, -0.3599,  0.6236, -0.5273],\n",
       "        [ 1.0973, -1.0255, -1.0578,  1.3084,  1.6035,  1.4664, -1.3468,  0.7809,\n",
       "          1.1960,  0.7740,  0.7031, -0.2559,  1.0244, -0.2885,  0.7273,  0.5849]],\n",
       "       requires_grad=True)"
      ]
     },
     "execution_count": 7,
     "metadata": {},
     "output_type": "execute_result"
    }
   ],
   "source": [
    "def random_matrix():\n",
    "    norm = torch.normal(mean=0, std=1, size=(matrix_size, matrix_size))\n",
    "    return torch.tensor(\n",
    "        torch.sign(norm) * torch.sqrt(torch.abs(norm)),\n",
    "        requires_grad=True,\n",
    "        dtype=torch.float,\n",
    "    )\n",
    "\n",
    "matrices = {\n",
    "    word: random_matrix()\n",
    "    for word in tqdm(clean_dataset.unique_words)\n",
    "}\n",
    "matrices[\"the\"]"
   ]
  },
  {
   "cell_type": "code",
   "execution_count": 8,
   "id": "08c0807b",
   "metadata": {},
   "outputs": [
    {
     "data": {
      "text/plain": [
       "(tensor([-0.4086,  0.5127, -1.3280, -0.2225, -0.7098, -0.6438,  0.4069,  0.5243,\n",
       "         -0.1342,  0.6890,  0.0910, -0.5397, -0.2112, -0.2830,  0.3657,  1.2491],\n",
       "        requires_grad=True),\n",
       " tensor([-0.5716, -0.1844,  0.4236, -0.3956, -1.0585,  0.0988,  0.1628,  0.8140,\n",
       "          1.6397, -1.1338,  0.4639, -1.0901, -0.7461, -2.1136, -1.2184, -0.7016],\n",
       "        requires_grad=True))"
      ]
     },
     "execution_count": 8,
     "metadata": {},
     "output_type": "execute_result"
    }
   ],
   "source": [
    "def random_vector():\n",
    "    return torch.tensor(\n",
    "        scipy.stats.norm.rvs(loc=0, scale=1, size=matrix_size),\n",
    "        requires_grad=True,\n",
    "        dtype=torch.float,\n",
    "    )\n",
    "\n",
    "start_vector = random_vector()\n",
    "end_vector = random_vector()\n",
    "start_vector, end_vector"
   ]
  },
  {
   "cell_type": "code",
   "execution_count": 50,
   "id": "21b3134b",
   "metadata": {},
   "outputs": [
    {
     "data": {
      "application/vnd.jupyter.widget-view+json": {
       "model_id": "278f31922cca4591b8d60584945f1dd1",
       "version_major": 2,
       "version_minor": 0
      },
      "text/plain": [
       "HBox(children=(FloatProgress(value=0.0, max=35259.0), HTML(value='')))"
      ]
     },
     "metadata": {},
     "output_type": "display_data"
    },
    {
     "name": "stdout",
     "output_type": "stream",
     "text": [
      "\n"
     ]
    },
    {
     "data": {
      "text/plain": [
       "tensor([ 1.5039e+00,  9.1487e-01,  5.7596e-01, -1.1794e+00,  6.4231e-01,\n",
       "         1.9410e-01, -9.2127e-01, -5.0631e-02, -5.4263e-02,  9.3026e-01,\n",
       "         6.6303e-01, -2.4314e-01, -4.4890e-01,  1.2983e+00,  1.4777e-01,\n",
       "         1.4156e+00,  6.1741e-01, -1.1937e+00,  2.4587e-01, -1.5104e+00,\n",
       "         1.8996e+00, -1.0661e+00,  3.5413e-01,  4.8250e-01,  1.9658e+00,\n",
       "         5.0636e-01,  2.9423e-01,  1.8245e+00, -1.4695e+00, -5.5391e-01,\n",
       "         8.3140e-01, -8.7750e-01,  2.7294e-01, -7.0760e-01,  1.9555e+00,\n",
       "         1.3328e+00, -1.4874e-01, -1.1180e+00,  2.6546e-02,  1.0961e+00,\n",
       "         3.0130e-01,  9.1614e-01,  1.2239e+00, -3.1333e-01,  1.1400e+00,\n",
       "         1.2073e+00, -1.5056e+00,  1.3151e+00,  1.1352e+00,  8.1147e-01,\n",
       "        -1.9550e+00, -1.0466e+00,  2.9558e+00, -1.3830e+00, -9.8995e-02,\n",
       "         3.1872e-01, -1.6753e+00, -3.4090e-01, -8.3168e-01, -5.4376e-01,\n",
       "        -1.8467e-01, -4.8526e-01,  1.6866e+00,  6.4337e-01, -7.8713e-01,\n",
       "        -1.2518e+00, -1.1662e+00, -7.8544e-01,  8.9106e-01,  5.1971e-01,\n",
       "         8.1225e-01, -3.0747e-02, -1.9082e-01,  1.1708e+00, -9.1301e-01,\n",
       "        -2.0286e-01, -3.7558e-01,  4.3639e-01,  6.4732e-01,  1.0680e+00,\n",
       "         1.2584e+00, -9.7456e-01, -1.4321e+00,  1.2404e+00,  3.8400e-01,\n",
       "        -1.5875e-04, -1.1696e+00,  3.7706e-01, -1.8074e-01,  1.4128e+00,\n",
       "        -8.2209e-01, -1.0551e+00,  5.3793e-01, -1.0101e-02, -6.0580e-01,\n",
       "         4.5944e-01,  1.1195e+00,  2.4974e-02,  1.7508e+00,  1.3095e+00,\n",
       "        -1.2503e+00,  5.3115e-01, -4.8184e-01, -1.0966e-01,  1.5609e+00,\n",
       "         9.5612e-02,  2.9819e-03,  9.1897e-01,  9.4761e-01,  1.1236e+00,\n",
       "         6.2669e-01, -1.9381e-01,  1.8860e+00, -3.9655e-01,  8.1206e-01,\n",
       "        -1.6753e+00, -1.6060e+00,  6.4969e-01,  1.1168e+00, -1.7263e+00,\n",
       "        -1.9914e-01, -1.4593e+00, -5.6615e-02, -8.9260e-02, -6.0373e-01,\n",
       "         1.2577e+00,  9.2940e-01,  2.9236e-02,  1.1443e+00,  6.7087e-01,\n",
       "        -1.0672e+00, -1.7206e+00, -6.0590e-01, -9.2207e-01, -4.0264e-01,\n",
       "         1.2890e-02, -1.8396e+00, -1.8469e+00, -4.0443e-01, -5.1108e-01,\n",
       "         6.1181e-02,  1.9638e+00,  2.3906e-01,  2.5617e+00, -1.1547e+00,\n",
       "         1.6910e+00,  2.6788e-01, -7.1843e-02, -1.7133e-01, -1.5547e+00,\n",
       "        -1.0396e+00,  3.1278e-02,  1.6407e+00,  5.8650e-01, -5.0528e-01,\n",
       "        -4.1824e-01, -1.2477e+00,  1.6103e-01,  2.5412e+00, -1.3742e-02,\n",
       "        -3.7412e-01,  1.1028e+00, -5.3624e-01,  8.3830e-01, -9.3992e-01,\n",
       "         3.0914e-01, -6.8608e-01, -4.3144e-01, -3.0962e-02, -5.1515e-01,\n",
       "         5.2905e-01, -8.9938e-01, -1.6164e+00,  6.3542e-01,  1.1271e-01,\n",
       "         7.0925e-01,  4.9607e-01,  3.0216e+00, -5.2174e-02,  7.1107e-01,\n",
       "         1.3431e+00,  7.4697e-01, -1.7184e+00,  2.7632e-01, -1.2952e+00,\n",
       "         8.0011e-01,  4.8533e-01,  4.3947e-02,  1.9483e-01,  5.5830e-01,\n",
       "        -9.5681e-01, -9.7785e-01, -1.0988e+00,  1.9145e+00, -8.5711e-01,\n",
       "        -3.1494e-01,  1.8081e+00, -1.5294e-01,  1.8604e+00,  1.5892e+00,\n",
       "         1.3805e+00, -1.3354e+00, -1.5088e-01, -9.4086e-01,  4.2987e-01,\n",
       "        -1.7615e+00,  1.8087e+00,  5.9088e-02,  1.4126e+00, -9.2336e-01,\n",
       "        -1.2071e+00, -7.6871e-01,  1.3987e+00,  6.5156e-01, -4.8993e-01,\n",
       "        -7.2077e-01,  3.9255e-01,  1.0897e+00, -1.3515e-01,  1.7527e+00,\n",
       "         2.7882e-02,  1.2703e-01, -1.1639e+00,  1.0815e+00,  4.9016e-02,\n",
       "        -1.3613e+00,  1.7697e+00,  1.0142e+00,  2.6373e-01, -8.5090e-01,\n",
       "         1.3044e+00, -6.7317e-01, -7.1286e-02,  4.5808e-01,  1.6240e-01,\n",
       "         1.1320e+00, -1.1038e+00,  4.2042e-01,  1.4166e-01,  6.0527e-01,\n",
       "         2.4066e-01,  2.2331e-01, -8.7738e-01, -1.1091e-01, -5.5700e-01,\n",
       "        -1.5033e+00,  7.2788e-01, -8.1611e-01,  4.8026e-01,  1.3715e+00,\n",
       "        -5.8696e-01,  1.5157e+00,  1.8638e+00,  8.7201e-04,  1.4825e+00,\n",
       "         1.9615e-01], requires_grad=True)"
      ]
     },
     "execution_count": 50,
     "metadata": {},
     "output_type": "execute_result"
    }
   ],
   "source": [
    "vector_size=matrix_size**2\n",
    "\n",
    "def random_vector_word2vec():\n",
    "    return torch.tensor(\n",
    "        scipy.stats.norm.rvs(loc=0, scale=1, size=vector_size),\n",
    "        requires_grad=True,\n",
    "        dtype=torch.float,\n",
    "    )\n",
    "\n",
    "\n",
    "vectors = {\n",
    "    word: random_vector_word2vec()\n",
    "    for word in tqdm(clean_dataset.unique_words)\n",
    "}\n",
    "vectors[\"the\"]"
   ]
  },
  {
   "cell_type": "markdown",
   "id": "bdfad0c9",
   "metadata": {},
   "source": [
    "# Fake sentence generation"
   ]
  },
  {
   "cell_type": "code",
   "execution_count": 19,
   "id": "81d2afb6",
   "metadata": {},
   "outputs": [
    {
     "data": {
      "text/plain": [
       "'lowest'"
      ]
     },
     "execution_count": 19,
     "metadata": {},
     "output_type": "execute_result"
    }
   ],
   "source": [
    "word_counts = Counter(word for sentence in clean_dataset for word in sentence.words)\n",
    "sampleable_words = list(word_counts.keys())\n",
    "cum_weights = np.cumsum(list(word_counts.values()))\n",
    "\n",
    "def random_word():\n",
    "    return random.choices(sampleable_words, cum_weights=cum_weights)[0]\n",
    "\n",
    "random_word()"
   ]
  },
  {
   "cell_type": "code",
   "execution_count": 10,
   "id": "e169001f",
   "metadata": {},
   "outputs": [
    {
     "name": "stdout",
     "output_type": "stream",
     "text": [
      "6.09 µs ± 654 ns per loop (mean ± std. dev. of 7 runs, 100000 loops each)\n"
     ]
    }
   ],
   "source": [
    "%timeit random_word()"
   ]
  },
  {
   "cell_type": "code",
   "execution_count": 25,
   "id": "7679ef4f",
   "metadata": {},
   "outputs": [
    {
     "data": {
      "text/plain": [
       "Sentence(words=['when', 'owners', 'choose', 'to', 'deregister', 'their', 'vehicle', 'the', 'officer', 'at', 'the', 'local', 'authority', 'will', 'want', 'to', 'see', 'the', 'licence', 'plates', 'with', 'defaced', 'seals', 'on', 'them', 'as', 'proof', 'that', 'no', 'legal', 'the', 'with', 'this', 'identifier', 'can', 'be', 'found', 'in', 'public', 'any', 'more', '.'])"
      ]
     },
     "execution_count": 25,
     "metadata": {},
     "output_type": "execute_result"
    }
   ],
   "source": [
    "def fake_sentence(num_fake_words=1):\n",
    "    words = list(random.choice(clean_dataset.sentences).words)\n",
    "    for fake_idx in range(num_fake_words):\n",
    "        words[random.randrange(len(words))] = random_word()\n",
    "    return Sentence(words=words)\n",
    "\n",
    "fake_sentence()"
   ]
  },
  {
   "cell_type": "code",
   "execution_count": 26,
   "id": "50192cd2",
   "metadata": {},
   "outputs": [
    {
     "name": "stdout",
     "output_type": "stream",
     "text": [
      "9.48 µs ± 391 ns per loop (mean ± std. dev. of 7 runs, 100000 loops each)\n"
     ]
    }
   ],
   "source": [
    "%timeit fake_sentence()"
   ]
  },
  {
   "cell_type": "markdown",
   "id": "1a93e4f7",
   "metadata": {},
   "source": [
    "# Training"
   ]
  },
  {
   "cell_type": "code",
   "execution_count": 27,
   "id": "d06a2cfd",
   "metadata": {},
   "outputs": [
    {
     "data": {
      "text/plain": [
       "tensor([[-4.0602e+00,  8.5268e+00, -2.3196e+01,  4.5864e+00, -7.2280e+00,\n",
       "          8.8654e+00,  2.5520e-01, -8.2458e+00,  9.6403e+00, -1.4068e+01,\n",
       "          1.6684e+01,  7.1399e+00, -7.5682e+00,  1.8461e+01, -3.4638e+00,\n",
       "         -5.9608e-01],\n",
       "        [ 4.2403e-01,  6.3713e+00,  1.0861e+01, -1.4255e+01,  1.3616e+01,\n",
       "          1.0221e+00,  9.7342e+00,  1.4764e+01, -3.1260e+00,  3.7158e+00,\n",
       "         -1.4199e+01,  1.2649e+01,  5.8650e-01, -1.8709e+01,  7.8806e+00,\n",
       "          1.4873e+01],\n",
       "        [-8.2099e+00,  2.2262e+00,  1.0682e+01,  1.7837e+00,  1.4427e+00,\n",
       "         -8.0753e+00,  1.9025e+01,  3.9507e+00, -9.7082e+00, -8.3696e-01,\n",
       "          5.3717e+00,  1.3354e+01,  1.9428e+00, -6.0820e+00, -8.0801e+00,\n",
       "          1.5443e+01],\n",
       "        [ 1.6108e+01, -4.9564e+00,  1.3949e+01,  2.0473e-02,  9.4695e+00,\n",
       "          2.8092e+00, -5.3620e+00, -1.1405e+01,  3.6206e+00,  3.0908e+00,\n",
       "          4.4819e-02,  1.1118e+01, -6.5791e+00, -1.2677e+01, -1.5483e+00,\n",
       "         -3.8684e+00],\n",
       "        [ 1.4213e+01,  2.0055e+00,  1.6769e+00,  1.2648e+01, -9.3640e+00,\n",
       "          3.7607e+00, -4.8551e+00,  9.1224e+00, -7.7165e+00,  1.0926e+01,\n",
       "          1.3541e+00, -1.8600e+01,  5.9218e+00, -2.2079e-01,  6.2064e+00,\n",
       "         -1.5503e+01],\n",
       "        [ 1.2371e+01, -1.1966e+01,  2.7000e+01, -9.4013e+00,  9.6667e+00,\n",
       "         -4.1863e+00, -2.2347e-01,  7.8708e+00, -7.6501e+00,  1.0245e+01,\n",
       "         -7.3175e+00, -3.0195e+00,  8.4144e+00, -2.0012e+01,  6.5262e+00,\n",
       "          6.0108e+00],\n",
       "        [ 1.1106e+01, -9.4500e+00,  2.5325e+01, -1.4004e+01,  3.8632e+00,\n",
       "         -9.1176e-01, -5.2380e-01,  1.1787e+01, -1.3438e+01,  1.3240e+01,\n",
       "         -1.9849e+01, -1.3980e+00,  8.7307e-01, -2.1356e+01,  2.2794e+00,\n",
       "          1.3686e+01],\n",
       "        [ 1.8806e+00, -1.1697e+01, -2.4201e+00, -3.4984e+00, -9.5268e-01,\n",
       "          4.9932e+00, -9.7284e-01, -1.7903e+01,  7.7088e+00,  2.5272e+00,\n",
       "          8.7741e+00,  1.8109e+00, -4.6924e+00,  2.7201e+00, -1.0004e+01,\n",
       "          1.3542e+01],\n",
       "        [-1.7981e+00, -6.8005e+00,  3.4624e+00,  1.5907e+00,  4.0500e+00,\n",
       "          3.1036e+00,  1.3963e+01, -5.7116e+00, -1.7423e+00, -5.0118e+00,\n",
       "          8.6237e+00,  8.9982e+00, -3.4318e+00, -5.2739e+00,  1.5511e-01,\n",
       "          1.9215e+01],\n",
       "        [ 1.1266e+01, -1.4469e+01,  2.1995e+01, -1.2341e+01,  3.4937e+00,\n",
       "          3.7023e+00,  3.3981e+00,  9.1643e-01, -8.8091e+00,  6.5811e+00,\n",
       "         -1.1447e+01,  7.1820e+00, -6.0375e+00, -1.7462e+01, -1.2546e+00,\n",
       "          2.0358e+01],\n",
       "        [ 3.6491e+00,  4.7418e+00, -2.0393e+01,  1.3613e+01, -1.4436e+01,\n",
       "          4.0248e+00, -1.3685e+01, -9.3981e+00,  8.7779e+00, -4.3973e+00,\n",
       "          1.2880e+01, -6.3772e+00, -8.5065e-01,  2.0063e+01, -5.6619e+00,\n",
       "         -1.9785e+01],\n",
       "        [ 2.3029e+01, -9.3218e+00,  1.1153e+01,  7.3685e+00, -6.2146e+00,\n",
       "          4.0122e+00, -8.8855e+00, -7.3948e-01, -3.8645e+00,  1.3627e+01,\n",
       "         -6.4622e+00, -1.2513e+01,  1.9364e-01, -8.1346e+00,  2.5743e+00,\n",
       "         -9.2720e+00],\n",
       "        [-3.2028e+00,  1.8680e+01, -2.5836e+01,  1.4493e+01, -1.3656e+01,\n",
       "         -4.9243e-01, -6.3904e+00,  7.9477e-01,  7.1868e+00, -6.5585e+00,\n",
       "          1.4576e+00, -3.1271e+00,  8.5342e-01,  1.6404e+01, -4.1917e+00,\n",
       "         -1.0281e+01],\n",
       "        [-7.4400e+00, -4.2064e+00,  2.6240e+01, -6.7581e+00,  2.0364e+01,\n",
       "         -6.0121e+00,  1.9929e+01,  8.1691e+00, -7.1940e+00,  6.7562e+00,\n",
       "         -2.0087e+00,  1.2506e+01,  8.0310e+00, -2.2192e+01,  4.3238e+00,\n",
       "          1.2544e+01],\n",
       "        [-1.5886e+00, -9.5631e+00,  2.3128e+01, -5.8898e+00,  1.1539e+01,\n",
       "         -1.1887e+00,  1.9928e+01,  4.0050e+00, -1.2525e+01,  4.5150e-01,\n",
       "          1.1488e+00,  1.0215e+01, -2.1972e+00, -1.7175e+01,  3.5066e+00,\n",
       "          2.1287e+01],\n",
       "        [ 3.7997e+00, -2.6945e+00, -1.1690e+01,  1.7841e+01, -7.0525e+00,\n",
       "         -1.1826e+00,  3.3870e+00, -4.6376e+00,  6.9750e+00, -5.2577e-01,\n",
       "          1.2755e+01, -7.1309e+00,  4.2872e+00,  1.0903e+01, -1.8832e+00,\n",
       "         -5.9397e+00]], grad_fn=<MmBackward>)"
      ]
     },
     "execution_count": 27,
     "metadata": {},
     "output_type": "execute_result"
    }
   ],
   "source": [
    "def sentence_matrix(sentence):\n",
    "    return reduce(\n",
    "        lambda current, word: torch.matmul(\n",
    "            (\n",
    "            torch.sign(current) * torch.sqrt(torch.abs(current))),\n",
    "            matrices[word]\n",
    "            ),\n",
    "        sentence.words,\n",
    "        torch.eye(matrix_size)\n",
    "    )\n",
    "    \n",
    "\n",
    "sentence_matrix(Sentence.from_string(\"Mary had a little lamb.\"))"
   ]
  },
  {
   "cell_type": "code",
   "execution_count": 81,
   "id": "48195a4b",
   "metadata": {},
   "outputs": [
    {
     "data": {
      "text/plain": [
       "tensor([-0.4821, -0.6102,  0.3131, -0.2391, -0.1351, -0.4316, -0.0779,  1.0675,\n",
       "         0.3106, -0.6524,  0.4682,  0.0239,  1.4590, -0.1687, -0.1416,  0.1407,\n",
       "         1.1495,  0.1038,  0.0625,  0.4406, -0.4373,  0.0362,  0.6255,  1.0521,\n",
       "        -0.9848,  0.0989, -0.7805, -0.6769, -0.2130,  0.3002, -0.3786,  0.0226,\n",
       "         0.3941,  0.2445,  0.0948, -0.2268, -0.7632,  0.4818, -0.1381, -0.7460,\n",
       "         0.3152, -0.2805,  2.3814,  0.4373, -0.1422, -1.0733, -0.8064,  0.4122,\n",
       "         0.7814, -0.8417, -0.1018, -0.6643,  0.1098,  0.2847,  1.1917, -0.0460,\n",
       "         0.4588,  0.0069, -0.0857,  0.6059,  0.5504,  0.1384, -0.1944, -0.1435,\n",
       "        -1.3152, -0.0189, -0.8722,  0.0127, -0.1156, -0.8222,  0.2357,  0.8901,\n",
       "         0.0814, -0.1193, -0.8998, -0.1225,  0.0921, -1.6622, -0.4210, -1.0981,\n",
       "         0.0945, -0.4719, -0.0783,  1.3385,  0.1201, -0.2587, -0.1767, -0.0117,\n",
       "         0.1794,  0.0277,  0.8330, -0.1397, -0.5831,  0.0099, -0.4957, -0.0567,\n",
       "         1.0765, -0.7582, -0.6049,  0.5761, -0.4810, -0.3230, -0.9210, -0.2659,\n",
       "        -1.1823, -0.5849, -0.7428,  0.6906, -0.0562,  0.8118, -0.0220, -0.4285,\n",
       "        -0.3045, -0.1703, -0.4414,  0.1765, -0.4230, -0.7018, -0.2406,  1.6906,\n",
       "         0.0313, -0.1032,  1.3050, -0.0077, -0.0350,  0.8406, -0.4297, -0.2304,\n",
       "         0.2297, -0.3983,  0.2054, -0.0469,  0.2385,  0.2950, -0.8749, -0.3644,\n",
       "        -0.2875,  0.3317, -0.0457, -0.0649,  0.3269, -0.1659, -0.7652, -0.0398,\n",
       "        -1.5966, -0.0558,  0.7809, -0.5115,  1.2512,  0.4744,  1.0688, -1.4460,\n",
       "         0.1873,  0.2807,  0.3288,  0.2429,  0.0920, -0.4333,  0.1170,  0.2118,\n",
       "         1.5197,  1.3327,  0.3327, -0.0708,  0.1190,  0.0723, -0.1133, -0.3298,\n",
       "         0.1393, -0.8184, -0.1159,  0.2226, -0.1647,  0.0147,  0.1064,  0.5094,\n",
       "         0.6516,  0.3589, -0.1403, -0.0134, -0.3737,  0.1712,  0.2470, -0.2988,\n",
       "        -0.0208, -1.0504, -0.5889, -0.2983, -0.1455,  0.1770, -0.8316,  0.0992,\n",
       "         1.1556,  0.1281,  0.0033, -0.4590,  0.3357,  1.1261,  1.7812,  0.1215,\n",
       "        -0.0756, -0.2020,  0.4937,  0.9848,  0.2339, -0.2307,  2.9565,  0.1047,\n",
       "         0.3780, -0.6084,  0.8197, -0.9363,  0.2169,  0.4902, -0.1991,  0.4925,\n",
       "         0.5003,  0.0945,  0.6035, -0.3480, -0.6225,  0.3755, -0.3040,  1.5333,\n",
       "         0.3093, -0.0939, -0.0721,  0.5675,  1.3056,  0.3341,  0.9526, -0.1301,\n",
       "         1.1235, -0.2125, -0.2909, -0.3012,  0.0117,  0.1510, -0.2509, -1.5810,\n",
       "        -0.3065,  0.1576, -0.2391,  1.1509, -1.4031, -0.8174,  0.4892, -1.3877,\n",
       "         0.5592, -0.1407,  1.1745, -0.7553,  1.7528, -3.0572,  1.7995,  0.9122],\n",
       "       grad_fn=<MulBackward0>)"
      ]
     },
     "execution_count": 81,
     "metadata": {},
     "output_type": "execute_result"
    }
   ],
   "source": [
    "def sentence_vector(sentence):\n",
    "    return reduce(\n",
    "        lambda current, word: torch.mul(\n",
    "            (\n",
    "            torch.sign(current) * torch.sqrt(torch.abs(current))),\n",
    "            vectors[word]\n",
    "            ),\n",
    "        sentence.words,\n",
    "        torch.ones(1, vector_size)[0]\n",
    "    )\n",
    "sentence_vector(Sentence.from_string(\"Mary had a little lamb.\"))"
   ]
  },
  {
   "cell_type": "code",
   "execution_count": 28,
   "id": "ff106902",
   "metadata": {
    "scrolled": true
   },
   "outputs": [
    {
     "data": {
      "text/plain": [
       "tensor(-0.3603, grad_fn=<DotBackward>)"
      ]
     },
     "execution_count": 28,
     "metadata": {},
     "output_type": "execute_result"
    }
   ],
   "source": [
    "def sentence_logit(sentence):\n",
    "    return torch.dot(torch.matmul(start_vector, sentence_matrix(sentence)), end_vector)\n",
    "\n",
    "sentence_logit(Sentence.from_string(\"Mary had a little lamb.\"))"
   ]
  },
  {
   "cell_type": "code",
   "execution_count": 90,
   "id": "13afdfdb",
   "metadata": {},
   "outputs": [
    {
     "name": "stdout",
     "output_type": "stream",
     "text": [
      "tensor([-0.4821, -0.6102,  0.3131, -0.2391, -0.1351, -0.4316, -0.0779,  1.0675,\n",
      "         0.3106, -0.6524,  0.4682,  0.0239,  1.4590, -0.1687, -0.1416,  0.1407,\n",
      "         1.1495,  0.1038,  0.0625,  0.4406, -0.4373,  0.0362,  0.6255,  1.0521,\n",
      "        -0.9848,  0.0989, -0.7805, -0.6769, -0.2130,  0.3002, -0.3786,  0.0226,\n",
      "         0.3941,  0.2445,  0.0948, -0.2268, -0.7632,  0.4818, -0.1381, -0.7460,\n",
      "         0.3152, -0.2805,  2.3814,  0.4373, -0.1422, -1.0733, -0.8064,  0.4122,\n",
      "         0.7814, -0.8417, -0.1018, -0.6643,  0.1098,  0.2847,  1.1917, -0.0460,\n",
      "         0.4588,  0.0069, -0.0857,  0.6059,  0.5504,  0.1384, -0.1944, -0.1435,\n",
      "        -1.3152, -0.0189, -0.8722,  0.0127, -0.1156, -0.8222,  0.2357,  0.8901,\n",
      "         0.0814, -0.1193, -0.8998, -0.1225,  0.0921, -1.6622, -0.4210, -1.0981,\n",
      "         0.0945, -0.4719, -0.0783,  1.3385,  0.1201, -0.2587, -0.1767, -0.0117,\n",
      "         0.1794,  0.0277,  0.8330, -0.1397, -0.5831,  0.0099, -0.4957, -0.0567,\n",
      "         1.0765, -0.7582, -0.6049,  0.5761, -0.4810, -0.3230, -0.9210, -0.2659,\n",
      "        -1.1823, -0.5849, -0.7428,  0.6906, -0.0562,  0.8118, -0.0220, -0.4285,\n",
      "        -0.3045, -0.1703, -0.4414,  0.1765, -0.4230, -0.7018, -0.2406,  1.6906,\n",
      "         0.0313, -0.1032,  1.3050, -0.0077, -0.0350,  0.8406, -0.4297, -0.2304,\n",
      "         0.2297, -0.3983,  0.2054, -0.0469,  0.2385,  0.2950, -0.8749, -0.3644,\n",
      "        -0.2875,  0.3317, -0.0457, -0.0649,  0.3269, -0.1659, -0.7652, -0.0398,\n",
      "        -1.5966, -0.0558,  0.7809, -0.5115,  1.2512,  0.4744,  1.0688, -1.4460,\n",
      "         0.1873,  0.2807,  0.3288,  0.2429,  0.0920, -0.4333,  0.1170,  0.2118,\n",
      "         1.5197,  1.3327,  0.3327, -0.0708,  0.1190,  0.0723, -0.1133, -0.3298,\n",
      "         0.1393, -0.8184, -0.1159,  0.2226, -0.1647,  0.0147,  0.1064,  0.5094,\n",
      "         0.6516,  0.3589, -0.1403, -0.0134, -0.3737,  0.1712,  0.2470, -0.2988,\n",
      "        -0.0208, -1.0504, -0.5889, -0.2983, -0.1455,  0.1770, -0.8316,  0.0992,\n",
      "         1.1556,  0.1281,  0.0033, -0.4590,  0.3357,  1.1261,  1.7812,  0.1215,\n",
      "        -0.0756, -0.2020,  0.4937,  0.9848,  0.2339, -0.2307,  2.9565,  0.1047,\n",
      "         0.3780, -0.6084,  0.8197, -0.9363,  0.2169,  0.4902, -0.1991,  0.4925,\n",
      "         0.5003,  0.0945,  0.6035, -0.3480, -0.6225,  0.3755, -0.3040,  1.5333,\n",
      "         0.3093, -0.0939, -0.0721,  0.5675,  1.3056,  0.3341,  0.9526, -0.1301,\n",
      "         1.1235, -0.2125, -0.2909, -0.3012,  0.0117,  0.1510, -0.2509, -1.5810,\n",
      "        -0.3065,  0.1576, -0.2391,  1.1509, -1.4031, -0.8174,  0.4892, -1.3877,\n",
      "         0.5592, -0.1407,  1.1745, -0.7553,  1.7528, -3.0572,  1.7995,  0.9122],\n",
      "       grad_fn=<MulBackward0>)\n"
     ]
    },
    {
     "ename": "RuntimeError",
     "evalue": "The size of tensor a (16) must match the size of tensor b (256) at non-singleton dimension 0",
     "output_type": "error",
     "traceback": [
      "\u001b[0;31m---------------------------------------------------------------------------\u001b[0m",
      "\u001b[0;31mRuntimeError\u001b[0m                              Traceback (most recent call last)",
      "\u001b[0;32m<ipython-input-90-a35a1cb85e51>\u001b[0m in \u001b[0;36m<module>\u001b[0;34m\u001b[0m\n\u001b[1;32m      4\u001b[0m \u001b[0mprint\u001b[0m\u001b[0;34m(\u001b[0m\u001b[0msentence_vector\u001b[0m\u001b[0;34m(\u001b[0m\u001b[0mSentence\u001b[0m\u001b[0;34m.\u001b[0m\u001b[0mfrom_string\u001b[0m\u001b[0;34m(\u001b[0m\u001b[0;34m\"Mary had a little lamb.\"\u001b[0m\u001b[0;34m)\u001b[0m\u001b[0;34m)\u001b[0m\u001b[0;34m)\u001b[0m\u001b[0;34m\u001b[0m\u001b[0;34m\u001b[0m\u001b[0m\n\u001b[1;32m      5\u001b[0m \u001b[0;34m\u001b[0m\u001b[0m\n\u001b[0;32m----> 6\u001b[0;31m \u001b[0msentence_logit_word2vec\u001b[0m\u001b[0;34m(\u001b[0m\u001b[0mSentence\u001b[0m\u001b[0;34m.\u001b[0m\u001b[0mfrom_string\u001b[0m\u001b[0;34m(\u001b[0m\u001b[0;34m\"Mary had a little lamb.\"\u001b[0m\u001b[0;34m)\u001b[0m\u001b[0;34m)\u001b[0m\u001b[0;34m\u001b[0m\u001b[0;34m\u001b[0m\u001b[0m\n\u001b[0m",
      "\u001b[0;32m<ipython-input-90-a35a1cb85e51>\u001b[0m in \u001b[0;36msentence_logit_word2vec\u001b[0;34m(sentence)\u001b[0m\n\u001b[1;32m      1\u001b[0m \u001b[0;32mdef\u001b[0m \u001b[0msentence_logit_word2vec\u001b[0m\u001b[0;34m(\u001b[0m\u001b[0msentence\u001b[0m\u001b[0;34m)\u001b[0m\u001b[0;34m:\u001b[0m\u001b[0;34m\u001b[0m\u001b[0;34m\u001b[0m\u001b[0m\n\u001b[0;32m----> 2\u001b[0;31m     \u001b[0;32mreturn\u001b[0m \u001b[0mtorch\u001b[0m\u001b[0;34m.\u001b[0m\u001b[0mdot\u001b[0m\u001b[0;34m(\u001b[0m\u001b[0mtorch\u001b[0m\u001b[0;34m.\u001b[0m\u001b[0mmul\u001b[0m\u001b[0;34m(\u001b[0m\u001b[0mstart_vector\u001b[0m\u001b[0;34m,\u001b[0m \u001b[0msentence_vector\u001b[0m\u001b[0;34m(\u001b[0m\u001b[0msentence\u001b[0m\u001b[0;34m)\u001b[0m\u001b[0;34m)\u001b[0m\u001b[0;34m,\u001b[0m \u001b[0mend_vector\u001b[0m\u001b[0;34m)\u001b[0m\u001b[0;34m\u001b[0m\u001b[0;34m\u001b[0m\u001b[0m\n\u001b[0m\u001b[1;32m      3\u001b[0m \u001b[0;34m\u001b[0m\u001b[0m\n\u001b[1;32m      4\u001b[0m \u001b[0mprint\u001b[0m\u001b[0;34m(\u001b[0m\u001b[0msentence_vector\u001b[0m\u001b[0;34m(\u001b[0m\u001b[0mSentence\u001b[0m\u001b[0;34m.\u001b[0m\u001b[0mfrom_string\u001b[0m\u001b[0;34m(\u001b[0m\u001b[0;34m\"Mary had a little lamb.\"\u001b[0m\u001b[0;34m)\u001b[0m\u001b[0;34m)\u001b[0m\u001b[0;34m)\u001b[0m\u001b[0;34m\u001b[0m\u001b[0;34m\u001b[0m\u001b[0m\n\u001b[1;32m      5\u001b[0m \u001b[0;34m\u001b[0m\u001b[0m\n",
      "\u001b[0;31mRuntimeError\u001b[0m: The size of tensor a (16) must match the size of tensor b (256) at non-singleton dimension 0"
     ]
    }
   ],
   "source": [
    "def sentence_logit_word2vec(sentence):\n",
    "    return torch.dot(torch.mul(start_vector, sentence_vector(sentence)), end_vector)\n",
    "\n",
    "print(sentence_vector(Sentence.from_string(\"Mary had a little lamb.\")))\n",
    "\n",
    "sentence_logit_word2vec(Sentence.from_string(\"Mary had a little lamb.\"))"
   ]
  },
  {
   "cell_type": "code",
   "execution_count": 79,
   "id": "2ec520da",
   "metadata": {
    "scrolled": false
   },
   "outputs": [
    {
     "data": {
      "application/vnd.jupyter.widget-view+json": {
       "model_id": "a702c83b9bc346e4b2da73f4ba5feb0a",
       "version_major": 2,
       "version_minor": 0
      },
      "text/plain": [
       "HBox(children=(FloatProgress(value=0.0, max=4.0), HTML(value='')))"
      ]
     },
     "metadata": {},
     "output_type": "display_data"
    },
    {
     "data": {
      "application/vnd.jupyter.widget-view+json": {
       "model_id": "5eef155edd784790b1ddc88de1f0f3ab",
       "version_major": 2,
       "version_minor": 0
      },
      "text/plain": [
       "HBox(children=(FloatProgress(value=0.0, max=329155.0), HTML(value='')))"
      ]
     },
     "metadata": {},
     "output_type": "display_data"
    },
    {
     "name": "stdout",
     "output_type": "stream",
     "text": [
      "\n",
      "\n"
     ]
    },
    {
     "ename": "RuntimeError",
     "evalue": "The size of tensor a (16) must match the size of tensor b (256) at non-singleton dimension 0",
     "output_type": "error",
     "traceback": [
      "\u001b[0;31m---------------------------------------------------------------------------\u001b[0m",
      "\u001b[0;31mRuntimeError\u001b[0m                              Traceback (most recent call last)",
      "\u001b[0;32m<ipython-input-79-10b6a9869275>\u001b[0m in \u001b[0;36m<module>\u001b[0;34m\u001b[0m\n\u001b[1;32m     32\u001b[0m \u001b[0mvector_lr\u001b[0m \u001b[0;34m=\u001b[0m \u001b[0;36m1e-3\u001b[0m\u001b[0;34m\u001b[0m\u001b[0;34m\u001b[0m\u001b[0m\n\u001b[1;32m     33\u001b[0m \u001b[0;32mfor\u001b[0m \u001b[0mepoch\u001b[0m \u001b[0;32min\u001b[0m \u001b[0mtrange\u001b[0m\u001b[0;34m(\u001b[0m\u001b[0;36m4\u001b[0m\u001b[0;34m)\u001b[0m\u001b[0;34m:\u001b[0m\u001b[0;34m\u001b[0m\u001b[0;34m\u001b[0m\u001b[0m\n\u001b[0;32m---> 34\u001b[0;31m     \u001b[0mlosses\u001b[0m \u001b[0;34m+=\u001b[0m \u001b[0mtrain_epoch\u001b[0m\u001b[0;34m(\u001b[0m\u001b[0mmatrix_lr\u001b[0m\u001b[0;34m=\u001b[0m\u001b[0mmatrix_lr\u001b[0m\u001b[0;34m,\u001b[0m \u001b[0mvector_lr\u001b[0m\u001b[0;34m=\u001b[0m\u001b[0mvector_lr\u001b[0m\u001b[0;34m)\u001b[0m\u001b[0;34m\u001b[0m\u001b[0;34m\u001b[0m\u001b[0m\n\u001b[0m\u001b[1;32m     35\u001b[0m     \u001b[0mmatrix_lr\u001b[0m \u001b[0;34m*=\u001b[0m \u001b[0;36m0.5\u001b[0m\u001b[0;34m\u001b[0m\u001b[0;34m\u001b[0m\u001b[0m\n\u001b[1;32m     36\u001b[0m     \u001b[0mvector_lr\u001b[0m \u001b[0;34m*=\u001b[0m \u001b[0;36m0.5\u001b[0m\u001b[0;34m\u001b[0m\u001b[0;34m\u001b[0m\u001b[0m\n",
      "\u001b[0;32m<ipython-input-79-10b6a9869275>\u001b[0m in \u001b[0;36mtrain_epoch\u001b[0;34m(matrix_lr, vector_lr, max_grad)\u001b[0m\n\u001b[1;32m     15\u001b[0m         ])\n\u001b[1;32m     16\u001b[0m         \u001b[0moptimizer\u001b[0m\u001b[0;34m.\u001b[0m\u001b[0mzero_grad\u001b[0m\u001b[0;34m(\u001b[0m\u001b[0;34m)\u001b[0m\u001b[0;34m\u001b[0m\u001b[0;34m\u001b[0m\u001b[0m\n\u001b[0;32m---> 17\u001b[0;31m         \u001b[0mtrue_logit\u001b[0m \u001b[0;34m=\u001b[0m \u001b[0msentence_logit_word2vec\u001b[0m\u001b[0;34m(\u001b[0m\u001b[0msentence\u001b[0m\u001b[0;34m)\u001b[0m\u001b[0;34m\u001b[0m\u001b[0;34m\u001b[0m\u001b[0m\n\u001b[0m\u001b[1;32m     18\u001b[0m         \u001b[0mfake_logit\u001b[0m \u001b[0;34m=\u001b[0m \u001b[0msentence_logit_word2vec\u001b[0m\u001b[0;34m(\u001b[0m\u001b[0mfake_sentence\u001b[0m\u001b[0;34m(\u001b[0m\u001b[0;34m)\u001b[0m\u001b[0;34m)\u001b[0m\u001b[0;34m\u001b[0m\u001b[0;34m\u001b[0m\u001b[0m\n\u001b[1;32m     19\u001b[0m         \u001b[0mloss\u001b[0m \u001b[0;34m=\u001b[0m \u001b[0mcriterion\u001b[0m\u001b[0;34m(\u001b[0m\u001b[0mtorch\u001b[0m\u001b[0;34m.\u001b[0m\u001b[0mstack\u001b[0m\u001b[0;34m(\u001b[0m\u001b[0;34m[\u001b[0m\u001b[0mtrue_logit\u001b[0m\u001b[0;34m,\u001b[0m \u001b[0mfake_logit\u001b[0m\u001b[0;34m]\u001b[0m\u001b[0;34m)\u001b[0m\u001b[0;34m,\u001b[0m \u001b[0mtorch\u001b[0m\u001b[0;34m.\u001b[0m\u001b[0mtensor\u001b[0m\u001b[0;34m(\u001b[0m\u001b[0;34m[\u001b[0m\u001b[0;36m1.0\u001b[0m\u001b[0;34m,\u001b[0m \u001b[0;36m0.0\u001b[0m\u001b[0;34m]\u001b[0m\u001b[0;34m)\u001b[0m\u001b[0;34m)\u001b[0m\u001b[0;34m\u001b[0m\u001b[0;34m\u001b[0m\u001b[0m\n",
      "\u001b[0;32m<ipython-input-76-d0d84f235812>\u001b[0m in \u001b[0;36msentence_logit_word2vec\u001b[0;34m(sentence)\u001b[0m\n\u001b[1;32m      1\u001b[0m \u001b[0;32mdef\u001b[0m \u001b[0msentence_logit_word2vec\u001b[0m\u001b[0;34m(\u001b[0m\u001b[0msentence\u001b[0m\u001b[0;34m)\u001b[0m\u001b[0;34m:\u001b[0m\u001b[0;34m\u001b[0m\u001b[0;34m\u001b[0m\u001b[0m\n\u001b[0;32m----> 2\u001b[0;31m     \u001b[0;32mreturn\u001b[0m \u001b[0mtorch\u001b[0m\u001b[0;34m.\u001b[0m\u001b[0mdot\u001b[0m\u001b[0;34m(\u001b[0m\u001b[0mtorch\u001b[0m\u001b[0;34m.\u001b[0m\u001b[0mmul\u001b[0m\u001b[0;34m(\u001b[0m\u001b[0mstart_vector\u001b[0m\u001b[0;34m,\u001b[0m \u001b[0msentence_vector\u001b[0m\u001b[0;34m(\u001b[0m\u001b[0msentence\u001b[0m\u001b[0;34m)\u001b[0m\u001b[0;34m)\u001b[0m\u001b[0;34m,\u001b[0m \u001b[0mend_vector\u001b[0m\u001b[0;34m)\u001b[0m\u001b[0;34m\u001b[0m\u001b[0;34m\u001b[0m\u001b[0m\n\u001b[0m\u001b[1;32m      3\u001b[0m \u001b[0;34m\u001b[0m\u001b[0m\n\u001b[1;32m      4\u001b[0m \u001b[0msentence_logit\u001b[0m\u001b[0;34m(\u001b[0m\u001b[0mSentence\u001b[0m\u001b[0;34m.\u001b[0m\u001b[0mfrom_string\u001b[0m\u001b[0;34m(\u001b[0m\u001b[0;34m\"Mary had a little lamb.\"\u001b[0m\u001b[0;34m)\u001b[0m\u001b[0;34m)\u001b[0m\u001b[0;34m\u001b[0m\u001b[0;34m\u001b[0m\u001b[0m\n",
      "\u001b[0;31mRuntimeError\u001b[0m: The size of tensor a (16) must match the size of tensor b (256) at non-singleton dimension 0"
     ]
    }
   ],
   "source": [
    "criterion = torch.nn.BCEWithLogitsLoss(pos_weight=torch.ones(()))\n",
    "\n",
    "def train_epoch(matrix_lr, vector_lr, max_grad=1.0):\n",
    "    losses = []\n",
    "    count=0\n",
    "    for sentence in tqdm(clean_dataset.shuffled):\n",
    "        count+=1\n",
    "        if count == 100:\n",
    "            return losses\n",
    "        # creating optimizer here because .zero_grad() takes forever for all matrices\n",
    "        # to use anything stateful (e.g. AdaGrad), put it outside the loop and pass all matrices as parameters\n",
    "        optimizer = torch.optim.SGD([\n",
    "            dict(params=[start_vector, end_vector], lr=vector_lr),\n",
    "            dict(params=[vectors[word] for word in set(sentence.words)], lr=matrix_lr),\n",
    "        ])\n",
    "        optimizer.zero_grad()\n",
    "        true_logit = sentence_logit_word2vec(sentence)\n",
    "        fake_logit = sentence_logit_word2vec(fake_sentence())\n",
    "        loss = criterion(torch.stack([true_logit, fake_logit]), torch.tensor([1.0, 0.0]))\n",
    "        loss.backward()\n",
    "        torch.nn.utils.clip_grad_value_(\n",
    "            (param for group in optimizer.param_groups for param in group[\"params\"]),\n",
    "            clip_value=max_grad,\n",
    "        )\n",
    "        losses.append(loss.item())\n",
    "        \n",
    "        optimizer.step()\n",
    "    return losses\n",
    "\n",
    "losses = []\n",
    "matrix_lr = 1e-2\n",
    "vector_lr = 1e-3\n",
    "for epoch in trange(4):\n",
    "    losses += train_epoch(matrix_lr=matrix_lr, vector_lr=vector_lr)\n",
    "    matrix_lr *= 0.5\n",
    "    vector_lr *= 0.5"
   ]
  },
  {
   "cell_type": "code",
   "execution_count": 42,
   "id": "b566ec93",
   "metadata": {},
   "outputs": [
    {
     "data": {
      "application/vnd.plotly.v1+json": {
       "config": {
        "plotlyServerURL": "https://plot.ly"
       },
       "data": [
        {
         "type": "scatter",
         "x": [
          0,
          1,
          2,
          3,
          4,
          5,
          6,
          7,
          8,
          9,
          10,
          11,
          12,
          13,
          14,
          15,
          16,
          17,
          18,
          19,
          20,
          21,
          22,
          23,
          24,
          25,
          26,
          27,
          28,
          29,
          30,
          31,
          32,
          33,
          34,
          35,
          36,
          37,
          38,
          39,
          40,
          41,
          42,
          43,
          44,
          45,
          46,
          47,
          48,
          49,
          50,
          51,
          52,
          53,
          54,
          55,
          56,
          57,
          58,
          59,
          60,
          61,
          62,
          63,
          64,
          65,
          66,
          67,
          68,
          69,
          70,
          71,
          72,
          73,
          74,
          75,
          76,
          77,
          78,
          79,
          80,
          81,
          82,
          83,
          84,
          85,
          86,
          87,
          88,
          89,
          90,
          91,
          92,
          93,
          94,
          95,
          96,
          97,
          98,
          99,
          100,
          101,
          102,
          103,
          104,
          105,
          106,
          107,
          108,
          109,
          110,
          111,
          112,
          113,
          114,
          115,
          116,
          117,
          118,
          119,
          120,
          121,
          122,
          123,
          124,
          125,
          126,
          127,
          128,
          129,
          130,
          131,
          132,
          133,
          134,
          135,
          136,
          137,
          138,
          139,
          140,
          141,
          142,
          143,
          144,
          145,
          146,
          147,
          148,
          149,
          150,
          151,
          152,
          153,
          154,
          155,
          156,
          157,
          158,
          159,
          160,
          161,
          162,
          163,
          164,
          165,
          166,
          167,
          168,
          169,
          170,
          171,
          172,
          173,
          174,
          175,
          176,
          177,
          178,
          179,
          180,
          181,
          182,
          183,
          184,
          185,
          186,
          187,
          188,
          189,
          190,
          191,
          192,
          193,
          194,
          195,
          196,
          197,
          198,
          199,
          200,
          201,
          202,
          203,
          204,
          205,
          206,
          207,
          208,
          209,
          210,
          211,
          212,
          213,
          214,
          215,
          216,
          217,
          218,
          219,
          220,
          221,
          222,
          223,
          224,
          225,
          226,
          227,
          228,
          229,
          230,
          231,
          232,
          233,
          234,
          235,
          236,
          237,
          238,
          239,
          240,
          241,
          242,
          243,
          244,
          245,
          246,
          247,
          248,
          249,
          250,
          251,
          252,
          253,
          254,
          255,
          256,
          257,
          258,
          259,
          260,
          261,
          262,
          263,
          264,
          265,
          266,
          267,
          268,
          269,
          270,
          271,
          272,
          273,
          274,
          275,
          276,
          277,
          278,
          279,
          280,
          281,
          282,
          283,
          284,
          285,
          286,
          287,
          288,
          289,
          290,
          291,
          292,
          293,
          294,
          295,
          296,
          297,
          298,
          299,
          300,
          301,
          302,
          303,
          304,
          305,
          306,
          307,
          308,
          309,
          310,
          311,
          312,
          313,
          314,
          315,
          316,
          317,
          318,
          319,
          320,
          321,
          322,
          323,
          324,
          325,
          326,
          327,
          328,
          329,
          330,
          331,
          332,
          333,
          334,
          335,
          336,
          337,
          338,
          339,
          340,
          341,
          342,
          343,
          344,
          345,
          346,
          347,
          348,
          349,
          350,
          351,
          352,
          353,
          354,
          355,
          356,
          357,
          358,
          359,
          360,
          361,
          362,
          363,
          364,
          365,
          366,
          367,
          368,
          369,
          370,
          371,
          372,
          373,
          374,
          375,
          376,
          377,
          378,
          379,
          380,
          381,
          382,
          383,
          384,
          385,
          386,
          387,
          388,
          389,
          390,
          391,
          392,
          393,
          394,
          395,
          396,
          397,
          398,
          399,
          400,
          401,
          402,
          403,
          404,
          405,
          406,
          407,
          408,
          409,
          410,
          411,
          412,
          413,
          414,
          415,
          416,
          417,
          418,
          419,
          420,
          421,
          422,
          423,
          424,
          425,
          426,
          427,
          428,
          429,
          430,
          431,
          432,
          433,
          434,
          435,
          436,
          437,
          438,
          439,
          440,
          441,
          442,
          443,
          444,
          445,
          446,
          447,
          448,
          449,
          450,
          451,
          452,
          453,
          454,
          455,
          456,
          457,
          458,
          459,
          460,
          461,
          462,
          463,
          464,
          465,
          466,
          467,
          468,
          469,
          470,
          471,
          472,
          473,
          474,
          475,
          476,
          477,
          478,
          479,
          480,
          481,
          482,
          483,
          484,
          485,
          486,
          487,
          488,
          489,
          490,
          491,
          492,
          493,
          494,
          495,
          496,
          497,
          498,
          499,
          500,
          501,
          502,
          503,
          504,
          505,
          506,
          507,
          508,
          509,
          510,
          511,
          512,
          513,
          514,
          515,
          516,
          517,
          518,
          519,
          520,
          521,
          522,
          523,
          524,
          525,
          526,
          527,
          528,
          529,
          530,
          531,
          532,
          533,
          534,
          535,
          536,
          537,
          538,
          539,
          540,
          541,
          542,
          543,
          544,
          545,
          546,
          547,
          548,
          549,
          550,
          551,
          552,
          553,
          554,
          555,
          556,
          557,
          558,
          559,
          560,
          561,
          562,
          563,
          564,
          565,
          566,
          567,
          568,
          569,
          570,
          571,
          572,
          573,
          574,
          575,
          576,
          577,
          578,
          579,
          580,
          581,
          582,
          583,
          584,
          585,
          586,
          587,
          588,
          589,
          590,
          591,
          592,
          593,
          594,
          595,
          596,
          597,
          598,
          599,
          600,
          601,
          602,
          603,
          604,
          605,
          606,
          607,
          608,
          609,
          610,
          611,
          612,
          613,
          614,
          615,
          616,
          617,
          618,
          619,
          620,
          621,
          622,
          623,
          624,
          625,
          626,
          627,
          628,
          629,
          630,
          631,
          632,
          633,
          634,
          635,
          636,
          637,
          638,
          639,
          640,
          641,
          642,
          643,
          644,
          645,
          646,
          647,
          648,
          649,
          650,
          651,
          652,
          653,
          654,
          655,
          656,
          657,
          658,
          659,
          660,
          661,
          662,
          663,
          664,
          665,
          666,
          667,
          668,
          669,
          670,
          671,
          672,
          673,
          674,
          675,
          676,
          677,
          678,
          679,
          680,
          681,
          682,
          683,
          684,
          685,
          686,
          687,
          688,
          689,
          690,
          691,
          692,
          693,
          694,
          695,
          696,
          697,
          698,
          699,
          700,
          701,
          702,
          703,
          704,
          705,
          706,
          707,
          708,
          709,
          710,
          711,
          712,
          713,
          714,
          715,
          716,
          717,
          718,
          719,
          720,
          721,
          722,
          723,
          724,
          725,
          726,
          727,
          728,
          729,
          730,
          731,
          732,
          733,
          734,
          735,
          736,
          737,
          738,
          739,
          740,
          741,
          742,
          743,
          744,
          745,
          746,
          747,
          748,
          749,
          750,
          751,
          752,
          753,
          754,
          755,
          756,
          757,
          758,
          759,
          760,
          761,
          762,
          763,
          764,
          765,
          766,
          767,
          768,
          769,
          770,
          771,
          772,
          773,
          774,
          775,
          776,
          777,
          778,
          779,
          780,
          781,
          782,
          783,
          784,
          785,
          786,
          787,
          788,
          789,
          790,
          791,
          792,
          793,
          794,
          795,
          796,
          797,
          798,
          799,
          800,
          801,
          802,
          803,
          804,
          805,
          806,
          807,
          808,
          809,
          810,
          811,
          812,
          813,
          814,
          815,
          816,
          817,
          818,
          819,
          820,
          821,
          822,
          823,
          824,
          825,
          826,
          827,
          828,
          829,
          830,
          831,
          832,
          833,
          834,
          835,
          836,
          837,
          838,
          839,
          840,
          841,
          842,
          843,
          844,
          845,
          846,
          847,
          848,
          849,
          850,
          851,
          852,
          853,
          854,
          855,
          856,
          857,
          858,
          859,
          860,
          861,
          862,
          863,
          864,
          865,
          866,
          867,
          868,
          869,
          870,
          871,
          872,
          873,
          874,
          875,
          876,
          877,
          878,
          879,
          880,
          881,
          882,
          883,
          884,
          885,
          886,
          887,
          888,
          889,
          890,
          891,
          892,
          893,
          894,
          895,
          896,
          897,
          898,
          899,
          900,
          901,
          902,
          903,
          904,
          905,
          906,
          907,
          908,
          909,
          910,
          911,
          912,
          913,
          914,
          915,
          916,
          917,
          918,
          919,
          920,
          921,
          922,
          923,
          924,
          925,
          926,
          927,
          928,
          929,
          930,
          931,
          932,
          933,
          934,
          935,
          936,
          937,
          938,
          939,
          940,
          941,
          942,
          943,
          944,
          945,
          946,
          947,
          948,
          949,
          950,
          951,
          952,
          953,
          954,
          955,
          956,
          957,
          958,
          959,
          960,
          961,
          962,
          963,
          964,
          965,
          966,
          967,
          968,
          969,
          970,
          971,
          972,
          973,
          974,
          975,
          976,
          977,
          978,
          979,
          980,
          981,
          982,
          983,
          984,
          985,
          986,
          987,
          988,
          989,
          990,
          991,
          992,
          993,
          994,
          995,
          996,
          997,
          998,
          999,
          1000,
          1001,
          1002,
          1003,
          1004,
          1005,
          1006,
          1007,
          1008,
          1009,
          1010,
          1011,
          1012,
          1013,
          1014,
          1015,
          1016,
          1017,
          1018,
          1019,
          1020,
          1021,
          1022,
          1023,
          1024,
          1025,
          1026,
          1027,
          1028,
          1029,
          1030,
          1031,
          1032,
          1033,
          1034,
          1035,
          1036,
          1037,
          1038,
          1039,
          1040,
          1041,
          1042,
          1043,
          1044,
          1045,
          1046,
          1047,
          1048,
          1049,
          1050,
          1051,
          1052,
          1053,
          1054,
          1055,
          1056,
          1057,
          1058,
          1059,
          1060,
          1061,
          1062,
          1063,
          1064,
          1065,
          1066,
          1067,
          1068,
          1069,
          1070,
          1071,
          1072,
          1073,
          1074,
          1075,
          1076,
          1077,
          1078,
          1079,
          1080,
          1081,
          1082,
          1083,
          1084,
          1085,
          1086,
          1087,
          1088,
          1089,
          1090,
          1091,
          1092,
          1093,
          1094,
          1095,
          1096,
          1097,
          1098,
          1099,
          1100,
          1101,
          1102,
          1103,
          1104,
          1105,
          1106,
          1107,
          1108,
          1109,
          1110,
          1111,
          1112,
          1113,
          1114,
          1115,
          1116,
          1117,
          1118,
          1119,
          1120,
          1121,
          1122,
          1123,
          1124,
          1125,
          1126,
          1127,
          1128,
          1129,
          1130,
          1131,
          1132,
          1133,
          1134,
          1135,
          1136,
          1137,
          1138,
          1139,
          1140,
          1141,
          1142,
          1143,
          1144,
          1145,
          1146,
          1147,
          1148,
          1149,
          1150,
          1151,
          1152,
          1153,
          1154,
          1155,
          1156,
          1157,
          1158,
          1159,
          1160,
          1161,
          1162,
          1163,
          1164,
          1165,
          1166,
          1167,
          1168,
          1169,
          1170,
          1171,
          1172,
          1173,
          1174,
          1175,
          1176,
          1177,
          1178,
          1179,
          1180,
          1181,
          1182,
          1183,
          1184,
          1185,
          1186,
          1187,
          1188,
          1189,
          1190,
          1191,
          1192,
          1193,
          1194,
          1195,
          1196,
          1197,
          1198,
          1199,
          1200,
          1201,
          1202,
          1203,
          1204,
          1205,
          1206,
          1207,
          1208,
          1209,
          1210,
          1211,
          1212,
          1213,
          1214,
          1215,
          1216,
          1217,
          1218,
          1219,
          1220,
          1221,
          1222,
          1223,
          1224,
          1225,
          1226,
          1227,
          1228,
          1229,
          1230,
          1231,
          1232,
          1233,
          1234,
          1235,
          1236,
          1237,
          1238,
          1239,
          1240,
          1241,
          1242,
          1243,
          1244,
          1245,
          1246,
          1247,
          1248,
          1249,
          1250,
          1251,
          1252,
          1253,
          1254,
          1255,
          1256,
          1257,
          1258,
          1259,
          1260,
          1261,
          1262,
          1263,
          1264,
          1265,
          1266,
          1267,
          1268,
          1269,
          1270,
          1271,
          1272,
          1273,
          1274,
          1275,
          1276,
          1277,
          1278,
          1279,
          1280,
          1281,
          1282,
          1283,
          1284,
          1285,
          1286,
          1287,
          1288,
          1289,
          1290,
          1291,
          1292,
          1293,
          1294,
          1295,
          1296,
          1297,
          1298,
          1299,
          1300,
          1301,
          1302,
          1303,
          1304,
          1305,
          1306,
          1307,
          1308,
          1309,
          1310,
          1311,
          1312,
          1313,
          1314,
          1315,
          1316,
          1317,
          1318,
          1319,
          1320,
          1321,
          1322,
          1323,
          1324,
          1325,
          1326,
          1327,
          1328,
          1329,
          1330,
          1331,
          1332,
          1333,
          1334,
          1335,
          1336,
          1337,
          1338,
          1339,
          1340,
          1341,
          1342,
          1343,
          1344,
          1345,
          1346,
          1347,
          1348,
          1349,
          1350,
          1351,
          1352,
          1353,
          1354,
          1355,
          1356,
          1357,
          1358,
          1359,
          1360,
          1361,
          1362,
          1363,
          1364,
          1365,
          1366,
          1367,
          1368,
          1369,
          1370,
          1371,
          1372,
          1373,
          1374,
          1375,
          1376,
          1377,
          1378,
          1379,
          1380,
          1381,
          1382,
          1383,
          1384,
          1385,
          1386,
          1387,
          1388,
          1389,
          1390,
          1391,
          1392,
          1393,
          1394,
          1395,
          1396,
          1397,
          1398,
          1399,
          1400,
          1401,
          1402,
          1403,
          1404,
          1405,
          1406,
          1407,
          1408,
          1409,
          1410,
          1411,
          1412,
          1413,
          1414,
          1415,
          1416,
          1417,
          1418,
          1419,
          1420,
          1421,
          1422,
          1423,
          1424,
          1425,
          1426,
          1427,
          1428,
          1429,
          1430,
          1431,
          1432,
          1433,
          1434,
          1435,
          1436,
          1437,
          1438,
          1439,
          1440,
          1441,
          1442,
          1443,
          1444,
          1445,
          1446,
          1447,
          1448,
          1449,
          1450,
          1451,
          1452,
          1453,
          1454,
          1455,
          1456,
          1457,
          1458,
          1459,
          1460,
          1461,
          1462,
          1463,
          1464,
          1465,
          1466,
          1467,
          1468,
          1469,
          1470,
          1471,
          1472,
          1473,
          1474,
          1475,
          1476,
          1477,
          1478,
          1479,
          1480,
          1481,
          1482,
          1483,
          1484,
          1485,
          1486,
          1487,
          1488,
          1489,
          1490,
          1491,
          1492,
          1493,
          1494,
          1495,
          1496,
          1497,
          1498,
          1499,
          1500,
          1501,
          1502,
          1503,
          1504,
          1505,
          1506,
          1507,
          1508,
          1509,
          1510,
          1511,
          1512,
          1513,
          1514,
          1515,
          1516,
          1517,
          1518,
          1519,
          1520,
          1521,
          1522,
          1523,
          1524,
          1525,
          1526,
          1527,
          1528,
          1529,
          1530,
          1531,
          1532,
          1533,
          1534,
          1535,
          1536,
          1537,
          1538,
          1539,
          1540,
          1541,
          1542,
          1543,
          1544,
          1545,
          1546,
          1547,
          1548,
          1549,
          1550,
          1551,
          1552,
          1553,
          1554,
          1555,
          1556,
          1557,
          1558,
          1559,
          1560,
          1561,
          1562,
          1563,
          1564,
          1565,
          1566,
          1567,
          1568,
          1569,
          1570,
          1571,
          1572,
          1573,
          1574,
          1575,
          1576,
          1577,
          1578,
          1579,
          1580,
          1581,
          1582,
          1583,
          1584,
          1585,
          1586,
          1587,
          1588,
          1589,
          1590,
          1591,
          1592,
          1593,
          1594,
          1595,
          1596,
          1597,
          1598,
          1599,
          1600,
          1601,
          1602,
          1603,
          1604,
          1605,
          1606,
          1607,
          1608,
          1609,
          1610,
          1611,
          1612,
          1613,
          1614,
          1615,
          1616,
          1617,
          1618,
          1619,
          1620,
          1621,
          1622,
          1623,
          1624,
          1625,
          1626,
          1627,
          1628,
          1629,
          1630,
          1631,
          1632,
          1633,
          1634,
          1635,
          1636,
          1637,
          1638,
          1639,
          1640,
          1641,
          1642,
          1643,
          1644,
          1645,
          1646,
          1647,
          1648,
          1649,
          1650,
          1651,
          1652,
          1653,
          1654,
          1655,
          1656,
          1657,
          1658,
          1659,
          1660,
          1661,
          1662,
          1663,
          1664,
          1665,
          1666,
          1667,
          1668,
          1669,
          1670,
          1671,
          1672,
          1673,
          1674,
          1675,
          1676,
          1677,
          1678,
          1679,
          1680,
          1681,
          1682,
          1683,
          1684,
          1685,
          1686,
          1687,
          1688,
          1689,
          1690,
          1691,
          1692,
          1693,
          1694,
          1695,
          1696,
          1697,
          1698,
          1699,
          1700,
          1701,
          1702,
          1703,
          1704,
          1705,
          1706,
          1707,
          1708,
          1709,
          1710,
          1711,
          1712,
          1713,
          1714,
          1715,
          1716,
          1717,
          1718,
          1719,
          1720,
          1721,
          1722,
          1723,
          1724,
          1725,
          1726,
          1727,
          1728,
          1729,
          1730,
          1731,
          1732,
          1733,
          1734,
          1735,
          1736,
          1737,
          1738,
          1739,
          1740,
          1741,
          1742,
          1743,
          1744,
          1745,
          1746,
          1747,
          1748,
          1749,
          1750,
          1751,
          1752,
          1753,
          1754,
          1755,
          1756,
          1757,
          1758,
          1759,
          1760,
          1761,
          1762,
          1763,
          1764,
          1765,
          1766,
          1767,
          1768,
          1769,
          1770,
          1771,
          1772,
          1773,
          1774,
          1775,
          1776,
          1777,
          1778,
          1779,
          1780,
          1781,
          1782,
          1783,
          1784,
          1785,
          1786,
          1787,
          1788,
          1789,
          1790,
          1791,
          1792,
          1793,
          1794,
          1795,
          1796,
          1797,
          1798,
          1799,
          1800,
          1801,
          1802,
          1803,
          1804,
          1805,
          1806,
          1807,
          1808,
          1809,
          1810,
          1811,
          1812,
          1813,
          1814,
          1815,
          1816,
          1817,
          1818,
          1819,
          1820,
          1821,
          1822,
          1823,
          1824,
          1825,
          1826,
          1827,
          1828,
          1829,
          1830,
          1831,
          1832,
          1833,
          1834,
          1835,
          1836,
          1837,
          1838,
          1839,
          1840,
          1841,
          1842,
          1843,
          1844,
          1845,
          1846,
          1847,
          1848,
          1849,
          1850,
          1851,
          1852,
          1853,
          1854,
          1855,
          1856,
          1857,
          1858,
          1859,
          1860,
          1861,
          1862,
          1863,
          1864,
          1865,
          1866,
          1867,
          1868,
          1869,
          1870,
          1871,
          1872,
          1873,
          1874,
          1875,
          1876,
          1877,
          1878,
          1879,
          1880,
          1881,
          1882,
          1883,
          1884,
          1885,
          1886,
          1887,
          1888,
          1889,
          1890,
          1891,
          1892,
          1893,
          1894,
          1895,
          1896,
          1897,
          1898,
          1899,
          1900,
          1901,
          1902,
          1903,
          1904,
          1905,
          1906,
          1907,
          1908,
          1909,
          1910,
          1911,
          1912,
          1913,
          1914,
          1915,
          1916,
          1917,
          1918,
          1919,
          1920,
          1921,
          1922,
          1923,
          1924,
          1925,
          1926,
          1927,
          1928,
          1929,
          1930,
          1931,
          1932,
          1933,
          1934,
          1935,
          1936,
          1937,
          1938,
          1939,
          1940,
          1941,
          1942,
          1943,
          1944,
          1945,
          1946,
          1947,
          1948,
          1949,
          1950,
          1951,
          1952,
          1953,
          1954,
          1955,
          1956,
          1957,
          1958,
          1959,
          1960,
          1961,
          1962,
          1963,
          1964,
          1965,
          1966,
          1967,
          1968,
          1969,
          1970,
          1971,
          1972,
          1973,
          1974,
          1975,
          1976,
          1977,
          1978,
          1979,
          1980,
          1981,
          1982,
          1983,
          1984,
          1985,
          1986,
          1987,
          1988,
          1989,
          1990,
          1991,
          1992,
          1993,
          1994,
          1995,
          1996,
          1997,
          1998,
          1999,
          2000,
          2001,
          2002,
          2003,
          2004,
          2005,
          2006,
          2007,
          2008,
          2009,
          2010,
          2011,
          2012,
          2013,
          2014,
          2015,
          2016,
          2017,
          2018,
          2019,
          2020,
          2021,
          2022,
          2023,
          2024,
          2025,
          2026,
          2027,
          2028,
          2029,
          2030,
          2031,
          2032,
          2033,
          2034,
          2035,
          2036,
          2037,
          2038,
          2039,
          2040,
          2041,
          2042,
          2043,
          2044,
          2045,
          2046,
          2047,
          2048,
          2049,
          2050,
          2051,
          2052,
          2053,
          2054,
          2055,
          2056,
          2057,
          2058,
          2059,
          2060,
          2061,
          2062,
          2063,
          2064,
          2065,
          2066,
          2067,
          2068,
          2069,
          2070,
          2071,
          2072,
          2073,
          2074,
          2075,
          2076,
          2077,
          2078,
          2079,
          2080,
          2081,
          2082,
          2083,
          2084,
          2085,
          2086,
          2087,
          2088,
          2089,
          2090,
          2091,
          2092,
          2093,
          2094,
          2095,
          2096,
          2097,
          2098,
          2099,
          2100,
          2101,
          2102,
          2103,
          2104,
          2105,
          2106,
          2107,
          2108,
          2109,
          2110,
          2111,
          2112,
          2113,
          2114,
          2115,
          2116,
          2117,
          2118,
          2119,
          2120,
          2121,
          2122,
          2123,
          2124,
          2125,
          2126,
          2127,
          2128,
          2129,
          2130,
          2131,
          2132,
          2133,
          2134,
          2135,
          2136,
          2137,
          2138,
          2139,
          2140,
          2141,
          2142,
          2143,
          2144,
          2145,
          2146,
          2147,
          2148,
          2149,
          2150,
          2151,
          2152,
          2153,
          2154,
          2155,
          2156,
          2157,
          2158,
          2159,
          2160,
          2161,
          2162,
          2163,
          2164,
          2165,
          2166,
          2167,
          2168,
          2169,
          2170,
          2171,
          2172,
          2173,
          2174,
          2175,
          2176,
          2177,
          2178,
          2179,
          2180,
          2181,
          2182,
          2183,
          2184,
          2185,
          2186,
          2187,
          2188,
          2189,
          2190,
          2191,
          2192,
          2193,
          2194,
          2195,
          2196,
          2197,
          2198,
          2199,
          2200,
          2201,
          2202,
          2203,
          2204,
          2205,
          2206,
          2207,
          2208,
          2209,
          2210,
          2211,
          2212,
          2213,
          2214,
          2215,
          2216,
          2217,
          2218,
          2219,
          2220,
          2221,
          2222,
          2223,
          2224,
          2225,
          2226,
          2227,
          2228,
          2229,
          2230,
          2231,
          2232,
          2233,
          2234,
          2235,
          2236,
          2237,
          2238,
          2239,
          2240,
          2241,
          2242,
          2243,
          2244,
          2245,
          2246,
          2247,
          2248,
          2249,
          2250,
          2251,
          2252,
          2253,
          2254,
          2255,
          2256,
          2257,
          2258,
          2259,
          2260,
          2261,
          2262,
          2263,
          2264,
          2265,
          2266,
          2267,
          2268,
          2269,
          2270,
          2271,
          2272,
          2273,
          2274,
          2275,
          2276,
          2277,
          2278,
          2279,
          2280,
          2281,
          2282,
          2283,
          2284,
          2285,
          2286,
          2287,
          2288,
          2289,
          2290,
          2291,
          2292,
          2293,
          2294,
          2295,
          2296,
          2297,
          2298,
          2299,
          2300,
          2301,
          2302,
          2303,
          2304,
          2305,
          2306,
          2307,
          2308,
          2309,
          2310,
          2311,
          2312,
          2313,
          2314,
          2315,
          2316,
          2317,
          2318,
          2319,
          2320,
          2321,
          2322,
          2323,
          2324,
          2325,
          2326,
          2327,
          2328,
          2329,
          2330,
          2331,
          2332,
          2333,
          2334,
          2335,
          2336,
          2337,
          2338,
          2339,
          2340,
          2341,
          2342,
          2343,
          2344,
          2345,
          2346,
          2347,
          2348,
          2349,
          2350,
          2351,
          2352,
          2353,
          2354,
          2355,
          2356,
          2357,
          2358,
          2359,
          2360,
          2361,
          2362,
          2363,
          2364,
          2365,
          2366,
          2367,
          2368,
          2369,
          2370,
          2371,
          2372,
          2373,
          2374,
          2375,
          2376,
          2377,
          2378,
          2379,
          2380,
          2381,
          2382,
          2383,
          2384,
          2385,
          2386,
          2387,
          2388,
          2389,
          2390,
          2391,
          2392,
          2393,
          2394,
          2395,
          2396,
          2397,
          2398,
          2399,
          2400,
          2401,
          2402,
          2403,
          2404,
          2405,
          2406,
          2407,
          2408,
          2409,
          2410,
          2411,
          2412,
          2413,
          2414,
          2415,
          2416,
          2417,
          2418,
          2419,
          2420,
          2421,
          2422,
          2423,
          2424,
          2425,
          2426,
          2427,
          2428,
          2429,
          2430,
          2431,
          2432,
          2433,
          2434,
          2435,
          2436,
          2437,
          2438,
          2439,
          2440,
          2441,
          2442,
          2443,
          2444,
          2445,
          2446,
          2447,
          2448,
          2449,
          2450,
          2451,
          2452,
          2453,
          2454,
          2455,
          2456,
          2457,
          2458,
          2459,
          2460,
          2461,
          2462,
          2463,
          2464,
          2465,
          2466,
          2467,
          2468,
          2469,
          2470,
          2471,
          2472,
          2473,
          2474,
          2475,
          2476,
          2477,
          2478,
          2479,
          2480,
          2481,
          2482,
          2483,
          2484,
          2485,
          2486,
          2487,
          2488,
          2489,
          2490,
          2491,
          2492,
          2493,
          2494,
          2495,
          2496,
          2497,
          2498,
          2499,
          2500,
          2501,
          2502,
          2503,
          2504,
          2505,
          2506,
          2507,
          2508,
          2509,
          2510,
          2511,
          2512,
          2513,
          2514,
          2515,
          2516,
          2517,
          2518,
          2519,
          2520,
          2521,
          2522,
          2523,
          2524,
          2525,
          2526,
          2527,
          2528,
          2529,
          2530,
          2531,
          2532,
          2533,
          2534,
          2535,
          2536,
          2537,
          2538,
          2539,
          2540,
          2541,
          2542,
          2543,
          2544,
          2545,
          2546,
          2547,
          2548,
          2549,
          2550,
          2551,
          2552,
          2553,
          2554,
          2555,
          2556,
          2557,
          2558,
          2559,
          2560,
          2561,
          2562,
          2563,
          2564,
          2565,
          2566,
          2567,
          2568,
          2569,
          2570,
          2571,
          2572,
          2573,
          2574,
          2575,
          2576,
          2577,
          2578,
          2579,
          2580,
          2581,
          2582,
          2583,
          2584,
          2585,
          2586,
          2587,
          2588,
          2589,
          2590,
          2591,
          2592,
          2593,
          2594,
          2595,
          2596,
          2597,
          2598,
          2599,
          2600,
          2601,
          2602,
          2603,
          2604,
          2605,
          2606,
          2607,
          2608,
          2609,
          2610,
          2611,
          2612,
          2613,
          2614,
          2615,
          2616,
          2617,
          2618,
          2619,
          2620,
          2621,
          2622,
          2623,
          2624,
          2625,
          2626,
          2627,
          2628,
          2629,
          2630,
          2631,
          2632,
          2633,
          2634,
          2635,
          2636,
          2637,
          2638,
          2639,
          2640,
          2641,
          2642,
          2643,
          2644,
          2645,
          2646,
          2647,
          2648,
          2649,
          2650,
          2651,
          2652,
          2653,
          2654,
          2655,
          2656,
          2657,
          2658,
          2659,
          2660,
          2661,
          2662,
          2663,
          2664,
          2665,
          2666,
          2667,
          2668,
          2669,
          2670,
          2671,
          2672,
          2673,
          2674,
          2675,
          2676,
          2677,
          2678,
          2679,
          2680,
          2681,
          2682,
          2683,
          2684,
          2685,
          2686,
          2687,
          2688,
          2689,
          2690,
          2691,
          2692,
          2693,
          2694,
          2695,
          2696,
          2697,
          2698,
          2699,
          2700,
          2701,
          2702,
          2703,
          2704,
          2705,
          2706,
          2707,
          2708,
          2709,
          2710,
          2711,
          2712,
          2713,
          2714,
          2715,
          2716,
          2717,
          2718,
          2719,
          2720,
          2721,
          2722,
          2723,
          2724,
          2725,
          2726,
          2727,
          2728,
          2729,
          2730,
          2731,
          2732,
          2733,
          2734,
          2735,
          2736,
          2737,
          2738,
          2739,
          2740,
          2741,
          2742,
          2743,
          2744,
          2745,
          2746,
          2747,
          2748,
          2749,
          2750,
          2751,
          2752,
          2753,
          2754,
          2755,
          2756,
          2757,
          2758,
          2759,
          2760,
          2761,
          2762,
          2763,
          2764,
          2765,
          2766,
          2767,
          2768,
          2769,
          2770,
          2771,
          2772,
          2773,
          2774,
          2775,
          2776,
          2777,
          2778,
          2779,
          2780,
          2781,
          2782,
          2783,
          2784,
          2785,
          2786,
          2787,
          2788,
          2789,
          2790,
          2791,
          2792,
          2793,
          2794,
          2795,
          2796,
          2797,
          2798,
          2799,
          2800,
          2801,
          2802,
          2803,
          2804,
          2805,
          2806,
          2807,
          2808,
          2809,
          2810,
          2811,
          2812,
          2813,
          2814,
          2815,
          2816,
          2817,
          2818,
          2819,
          2820,
          2821,
          2822,
          2823,
          2824,
          2825,
          2826,
          2827,
          2828,
          2829,
          2830,
          2831,
          2832,
          2833,
          2834,
          2835,
          2836,
          2837,
          2838,
          2839,
          2840,
          2841,
          2842,
          2843,
          2844,
          2845,
          2846,
          2847,
          2848,
          2849,
          2850,
          2851,
          2852,
          2853,
          2854,
          2855,
          2856,
          2857,
          2858,
          2859,
          2860,
          2861,
          2862,
          2863,
          2864,
          2865,
          2866,
          2867,
          2868,
          2869,
          2870,
          2871,
          2872,
          2873,
          2874,
          2875,
          2876,
          2877,
          2878,
          2879,
          2880,
          2881,
          2882,
          2883,
          2884,
          2885,
          2886,
          2887,
          2888,
          2889,
          2890,
          2891,
          2892,
          2893,
          2894,
          2895,
          2896,
          2897,
          2898,
          2899,
          2900,
          2901,
          2902,
          2903,
          2904,
          2905,
          2906,
          2907,
          2908,
          2909,
          2910,
          2911,
          2912,
          2913,
          2914,
          2915,
          2916,
          2917,
          2918,
          2919,
          2920,
          2921,
          2922,
          2923,
          2924,
          2925,
          2926,
          2927,
          2928,
          2929,
          2930,
          2931,
          2932,
          2933,
          2934,
          2935,
          2936,
          2937,
          2938,
          2939,
          2940,
          2941,
          2942,
          2943,
          2944,
          2945,
          2946,
          2947,
          2948,
          2949,
          2950,
          2951,
          2952,
          2953,
          2954,
          2955,
          2956,
          2957,
          2958,
          2959,
          2960,
          2961,
          2962,
          2963,
          2964,
          2965,
          2966,
          2967,
          2968,
          2969,
          2970,
          2971,
          2972,
          2973,
          2974,
          2975,
          2976,
          2977,
          2978,
          2979,
          2980,
          2981,
          2982,
          2983,
          2984,
          2985,
          2986,
          2987,
          2988,
          2989,
          2990,
          2991,
          2992,
          2993,
          2994,
          2995,
          2996,
          2997,
          2998,
          2999,
          3000,
          3001,
          3002,
          3003,
          3004,
          3005,
          3006,
          3007,
          3008,
          3009,
          3010,
          3011,
          3012,
          3013,
          3014,
          3015,
          3016,
          3017,
          3018,
          3019,
          3020,
          3021,
          3022,
          3023,
          3024,
          3025,
          3026,
          3027,
          3028,
          3029,
          3030,
          3031,
          3032,
          3033,
          3034,
          3035,
          3036,
          3037,
          3038,
          3039,
          3040,
          3041,
          3042,
          3043,
          3044,
          3045,
          3046,
          3047,
          3048,
          3049,
          3050,
          3051,
          3052,
          3053,
          3054,
          3055,
          3056,
          3057,
          3058,
          3059,
          3060,
          3061,
          3062,
          3063,
          3064,
          3065,
          3066,
          3067,
          3068,
          3069,
          3070,
          3071,
          3072,
          3073,
          3074,
          3075,
          3076,
          3077,
          3078,
          3079,
          3080,
          3081,
          3082,
          3083,
          3084,
          3085,
          3086,
          3087,
          3088,
          3089,
          3090,
          3091,
          3092,
          3093,
          3094,
          3095,
          3096,
          3097,
          3098,
          3099,
          3100,
          3101,
          3102,
          3103,
          3104,
          3105,
          3106,
          3107,
          3108,
          3109,
          3110,
          3111,
          3112,
          3113,
          3114,
          3115,
          3116,
          3117,
          3118,
          3119,
          3120,
          3121,
          3122,
          3123,
          3124,
          3125,
          3126,
          3127,
          3128,
          3129,
          3130,
          3131,
          3132,
          3133,
          3134,
          3135,
          3136,
          3137,
          3138,
          3139,
          3140,
          3141,
          3142,
          3143,
          3144,
          3145,
          3146,
          3147,
          3148,
          3149,
          3150,
          3151,
          3152,
          3153,
          3154,
          3155,
          3156,
          3157,
          3158,
          3159,
          3160,
          3161,
          3162,
          3163,
          3164,
          3165,
          3166,
          3167,
          3168,
          3169,
          3170,
          3171,
          3172,
          3173,
          3174,
          3175,
          3176,
          3177,
          3178,
          3179,
          3180,
          3181,
          3182,
          3183,
          3184,
          3185,
          3186,
          3187,
          3188,
          3189,
          3190,
          3191,
          3192,
          3193,
          3194,
          3195,
          3196,
          3197,
          3198,
          3199,
          3200,
          3201,
          3202,
          3203,
          3204,
          3205,
          3206,
          3207,
          3208,
          3209,
          3210,
          3211,
          3212,
          3213,
          3214,
          3215,
          3216,
          3217,
          3218,
          3219,
          3220,
          3221,
          3222,
          3223,
          3224,
          3225,
          3226,
          3227,
          3228,
          3229,
          3230,
          3231,
          3232,
          3233,
          3234,
          3235,
          3236,
          3237,
          3238,
          3239,
          3240,
          3241,
          3242,
          3243,
          3244,
          3245,
          3246,
          3247,
          3248,
          3249,
          3250,
          3251,
          3252,
          3253,
          3254,
          3255,
          3256,
          3257,
          3258,
          3259,
          3260,
          3261,
          3262,
          3263,
          3264,
          3265,
          3266,
          3267,
          3268,
          3269,
          3270,
          3271,
          3272,
          3273,
          3274,
          3275,
          3276,
          3277,
          3278,
          3279,
          3280,
          3281,
          3282,
          3283,
          3284,
          3285,
          3286,
          3287,
          3288,
          3289,
          3290,
          3291,
          3292,
          3293,
          3294,
          3295,
          3296,
          3297,
          3298,
          3299,
          3300,
          3301,
          3302,
          3303,
          3304,
          3305,
          3306,
          3307,
          3308,
          3309,
          3310,
          3311,
          3312,
          3313,
          3314,
          3315,
          3316,
          3317,
          3318,
          3319,
          3320,
          3321,
          3322,
          3323,
          3324,
          3325,
          3326,
          3327,
          3328,
          3329,
          3330,
          3331,
          3332,
          3333,
          3334,
          3335,
          3336,
          3337,
          3338,
          3339,
          3340,
          3341,
          3342,
          3343,
          3344,
          3345,
          3346,
          3347,
          3348,
          3349,
          3350,
          3351,
          3352,
          3353,
          3354,
          3355,
          3356,
          3357,
          3358,
          3359,
          3360,
          3361,
          3362,
          3363,
          3364,
          3365,
          3366,
          3367,
          3368,
          3369,
          3370,
          3371,
          3372,
          3373,
          3374,
          3375,
          3376,
          3377,
          3378,
          3379,
          3380,
          3381,
          3382,
          3383,
          3384,
          3385,
          3386,
          3387,
          3388,
          3389,
          3390,
          3391,
          3392,
          3393,
          3394,
          3395,
          3396,
          3397,
          3398,
          3399,
          3400,
          3401,
          3402,
          3403,
          3404,
          3405,
          3406,
          3407,
          3408,
          3409,
          3410,
          3411,
          3412,
          3413,
          3414,
          3415,
          3416,
          3417,
          3418,
          3419,
          3420,
          3421,
          3422,
          3423,
          3424,
          3425,
          3426,
          3427,
          3428,
          3429,
          3430,
          3431,
          3432,
          3433,
          3434,
          3435,
          3436,
          3437,
          3438,
          3439,
          3440,
          3441,
          3442,
          3443,
          3444,
          3445,
          3446,
          3447,
          3448,
          3449,
          3450,
          3451,
          3452,
          3453,
          3454,
          3455,
          3456,
          3457,
          3458,
          3459,
          3460,
          3461,
          3462,
          3463,
          3464,
          3465,
          3466,
          3467,
          3468,
          3469,
          3470,
          3471,
          3472,
          3473,
          3474,
          3475,
          3476,
          3477,
          3478,
          3479,
          3480,
          3481,
          3482,
          3483,
          3484,
          3485,
          3486,
          3487,
          3488,
          3489,
          3490,
          3491,
          3492,
          3493,
          3494,
          3495,
          3496,
          3497,
          3498,
          3499,
          3500,
          3501,
          3502,
          3503,
          3504,
          3505,
          3506,
          3507,
          3508,
          3509,
          3510,
          3511,
          3512,
          3513,
          3514,
          3515,
          3516,
          3517,
          3518,
          3519,
          3520,
          3521,
          3522,
          3523,
          3524,
          3525,
          3526,
          3527,
          3528,
          3529,
          3530,
          3531,
          3532,
          3533,
          3534,
          3535,
          3536,
          3537,
          3538,
          3539,
          3540,
          3541,
          3542,
          3543,
          3544,
          3545,
          3546,
          3547,
          3548,
          3549,
          3550,
          3551,
          3552,
          3553,
          3554,
          3555,
          3556,
          3557,
          3558,
          3559,
          3560,
          3561,
          3562,
          3563,
          3564,
          3565,
          3566,
          3567,
          3568,
          3569,
          3570,
          3571,
          3572,
          3573,
          3574,
          3575,
          3576,
          3577,
          3578,
          3579,
          3580,
          3581,
          3582,
          3583,
          3584,
          3585,
          3586,
          3587,
          3588,
          3589,
          3590,
          3591,
          3592,
          3593,
          3594,
          3595,
          3596,
          3597,
          3598,
          3599,
          3600,
          3601,
          3602,
          3603,
          3604,
          3605,
          3606,
          3607,
          3608,
          3609,
          3610,
          3611,
          3612,
          3613,
          3614,
          3615,
          3616,
          3617,
          3618,
          3619,
          3620,
          3621,
          3622,
          3623,
          3624,
          3625,
          3626,
          3627,
          3628,
          3629,
          3630,
          3631,
          3632,
          3633,
          3634,
          3635,
          3636,
          3637,
          3638,
          3639,
          3640,
          3641,
          3642,
          3643,
          3644,
          3645,
          3646,
          3647,
          3648,
          3649,
          3650,
          3651,
          3652,
          3653,
          3654,
          3655,
          3656,
          3657,
          3658,
          3659,
          3660,
          3661,
          3662,
          3663,
          3664,
          3665,
          3666,
          3667,
          3668,
          3669,
          3670,
          3671,
          3672,
          3673,
          3674,
          3675,
          3676,
          3677,
          3678,
          3679,
          3680,
          3681,
          3682,
          3683,
          3684,
          3685,
          3686,
          3687,
          3688,
          3689,
          3690,
          3691,
          3692,
          3693,
          3694,
          3695,
          3696,
          3697,
          3698,
          3699,
          3700,
          3701,
          3702,
          3703,
          3704,
          3705,
          3706,
          3707,
          3708,
          3709,
          3710,
          3711,
          3712,
          3713,
          3714,
          3715,
          3716,
          3717,
          3718,
          3719,
          3720,
          3721,
          3722,
          3723,
          3724,
          3725,
          3726,
          3727,
          3728,
          3729,
          3730,
          3731,
          3732,
          3733,
          3734,
          3735,
          3736,
          3737,
          3738,
          3739,
          3740,
          3741,
          3742,
          3743,
          3744,
          3745,
          3746,
          3747,
          3748,
          3749,
          3750,
          3751,
          3752,
          3753,
          3754,
          3755,
          3756,
          3757,
          3758,
          3759,
          3760,
          3761,
          3762,
          3763,
          3764,
          3765,
          3766,
          3767,
          3768,
          3769,
          3770,
          3771,
          3772,
          3773,
          3774,
          3775,
          3776,
          3777,
          3778,
          3779,
          3780,
          3781,
          3782,
          3783,
          3784,
          3785,
          3786,
          3787,
          3788,
          3789,
          3790,
          3791,
          3792,
          3793,
          3794,
          3795,
          3796,
          3797,
          3798,
          3799,
          3800,
          3801,
          3802,
          3803,
          3804,
          3805,
          3806,
          3807,
          3808,
          3809,
          3810,
          3811,
          3812,
          3813,
          3814,
          3815,
          3816,
          3817,
          3818,
          3819,
          3820,
          3821,
          3822,
          3823,
          3824,
          3825,
          3826,
          3827,
          3828,
          3829,
          3830,
          3831,
          3832,
          3833,
          3834,
          3835,
          3836,
          3837,
          3838,
          3839,
          3840,
          3841,
          3842,
          3843,
          3844,
          3845,
          3846,
          3847,
          3848,
          3849,
          3850,
          3851,
          3852,
          3853,
          3854,
          3855,
          3856,
          3857,
          3858,
          3859,
          3860,
          3861,
          3862,
          3863,
          3864,
          3865,
          3866,
          3867,
          3868,
          3869,
          3870,
          3871,
          3872,
          3873,
          3874,
          3875,
          3876,
          3877,
          3878,
          3879,
          3880,
          3881,
          3882,
          3883,
          3884,
          3885,
          3886,
          3887,
          3888,
          3889,
          3890,
          3891,
          3892,
          3893,
          3894,
          3895,
          3896,
          3897,
          3898,
          3899,
          3900,
          3901,
          3902,
          3903,
          3904,
          3905,
          3906,
          3907,
          3908,
          3909,
          3910,
          3911,
          3912,
          3913,
          3914,
          3915,
          3916,
          3917,
          3918,
          3919,
          3920,
          3921,
          3922,
          3923,
          3924,
          3925,
          3926,
          3927,
          3928,
          3929,
          3930,
          3931,
          3932,
          3933,
          3934,
          3935,
          3936,
          3937,
          3938,
          3939,
          3940,
          3941,
          3942,
          3943,
          3944,
          3945,
          3946,
          3947,
          3948,
          3949,
          3950,
          3951,
          3952,
          3953,
          3954,
          3955,
          3956,
          3957,
          3958,
          3959,
          3960,
          3961,
          3962,
          3963,
          3964,
          3965,
          3966,
          3967,
          3968,
          3969,
          3970,
          3971,
          3972,
          3973,
          3974,
          3975,
          3976,
          3977,
          3978,
          3979,
          3980,
          3981,
          3982,
          3983,
          3984,
          3985,
          3986,
          3987,
          3988,
          3989,
          3990,
          3991,
          3992,
          3993,
          3994,
          3995
         ],
         "y": [
          0.7263129949569702,
          0.7414306998252869,
          0.6743913888931274,
          0.7293229103088379,
          0.6877239942550659,
          0.7219555377960205,
          0.6968320608139038,
          1.022172451019287,
          0.7223832607269287,
          1.870970606803894,
          0.7210052013397217,
          0.6725056171417236,
          0.7202895879745483,
          0.7007641792297363,
          0.7461490035057068,
          0.77614426612854,
          0.636104941368103,
          0.34265124797821045,
          0.6242309808731079,
          0.6363111734390259,
          0.7207326889038086,
          0.7147334814071655,
          0.7017252445220947,
          0.6267091035842896,
          0.7121764421463013,
          0.7044129371643066,
          0.7012144923210144,
          0.6463537812232971,
          3.0830538272857666,
          0.6806085705757141,
          0.7037078142166138,
          0.735987663269043,
          0.7100330591201782,
          0.7141055464744568,
          0.6799114346504211,
          0.7075421810150146,
          0.8964399695396423,
          0.7323647141456604,
          0.7087317705154419,
          0.7713032960891724,
          0.7076436877250671,
          0.6969680786132812,
          0.6645289063453674,
          0.7620730400085449,
          0.7324628829956055,
          0.6723657846450806,
          0.7220712900161743,
          0.6910686492919922,
          0.6560293436050415,
          0.7212845087051392,
          0.7367699146270752,
          0.700198769569397,
          0.654374361038208,
          0.6927189230918884,
          0.6970839500427246,
          0.6610387563705444,
          0.7525972127914429,
          0.7322120070457458,
          0.5471140146255493,
          0.748490035533905,
          0.7027455568313599,
          0.7244651913642883,
          0.5624336004257202,
          0.6900665760040283,
          0.6952423453330994,
          0.6298545598983765,
          0.7086918354034424,
          0.7187448740005493,
          0.8367608785629272,
          0.6976145505905151,
          0.7382094860076904,
          0.7301208972930908,
          0.7029122114181519,
          0.6396160125732422,
          0.7304946184158325,
          0.7368663549423218,
          0.6806188225746155,
          0.677406907081604,
          0.7472847700119019,
          0.6526609659194946,
          0.7024728059768677,
          0.6871334314346313,
          0.40433651208877563,
          0.6982995271682739,
          0.6875752210617065,
          0.744347870349884,
          1.2578308582305908,
          0.7429265379905701,
          0.6909312009811401,
          0.6776270866394043,
          0.7203842997550964,
          0.6807987689971924,
          0.714941143989563,
          0.7032872438430786,
          0.6573992967605591,
          0.9492024183273315,
          0.7041352987289429,
          0.7010616064071655,
          0.7018198370933533,
          0.726538896560669,
          0.7123153209686279,
          0.7283101677894592,
          0.6648658514022827,
          0.687934160232544,
          0.7180337905883789,
          0.6736279726028442,
          0.6856158375740051,
          0.6727966070175171,
          0.7224081754684448,
          0.6917878985404968,
          0.6643857955932617,
          0.6080220937728882,
          0.6705566644668579,
          1.0532382726669312,
          0.6351953744888306,
          0.7842453718185425,
          0.6570625305175781,
          0.6937190294265747,
          0.7286868095397949,
          0.7537780404090881,
          0.6896218657493591,
          0.6706169247627258,
          0.7154369950294495,
          0.6768789291381836,
          0.6532613039016724,
          0.7159035801887512,
          0.7484845519065857,
          0.6964781284332275,
          0.7437588572502136,
          0.7295061349868774,
          0.6836901903152466,
          0.6902274489402771,
          0.6969730854034424,
          0.7134411931037903,
          0.681013822555542,
          0.7024810314178467,
          0.6981173157691956,
          0.7107910513877869,
          0.6749358177185059,
          0.688145637512207,
          0.6455273628234863,
          0.7377049922943115,
          0.6357736587524414,
          0.7401986122131348,
          0.6796941757202148,
          0.6907757520675659,
          0.6731904149055481,
          0.629260778427124,
          0.6949337720870972,
          0.725544810295105,
          0.3236742317676544,
          0.6393487453460693,
          0.7002347707748413,
          0.7075068950653076,
          0.6972547173500061,
          0.7187535762786865,
          0.7124055624008179,
          0.6757370829582214,
          0.7008494138717651,
          0.7525131106376648,
          0.7077967524528503,
          0.6822596788406372,
          0.6608380079269409,
          0.7201545834541321,
          0.7295312881469727,
          0.6790491342544556,
          0.7157241106033325,
          0.6625344753265381,
          0.7776654958724976,
          0.398139089345932,
          0.6449737548828125,
          0.7098684310913086,
          0.7505283951759338,
          0.6747405529022217,
          0.6803622245788574,
          0.6612468957901001,
          0.6658487319946289,
          0.7360638976097107,
          0.7448861002922058,
          0.6915708780288696,
          0.7106285095214844,
          0.526069164276123,
          0.6984188556671143,
          0.48791784048080444,
          0.9664416313171387,
          0.7020187377929688,
          0.7009155750274658,
          0.6846569776535034,
          0.6835147142410278,
          0.6624302864074707,
          0.5407711267471313,
          0.7721655964851379,
          0.643774688243866,
          0.6349220275878906,
          0.7231317162513733,
          0.7053916454315186,
          0.7080602645874023,
          0.6575894355773926,
          0.6729196906089783,
          0.7133416533470154,
          0.7075934410095215,
          0.7300832271575928,
          0.7132377624511719,
          0.715309739112854,
          0.7182643413543701,
          0.6825307607650757,
          0.6771009564399719,
          0.7358421087265015,
          0.6841722726821899,
          0.7100822925567627,
          0.74187171459198,
          0.6833475828170776,
          0.694585919380188,
          0.9694886207580566,
          0.6759275197982788,
          0.6707435846328735,
          0.7094332575798035,
          0.6411880850791931,
          0.7090712785720825,
          0.688011884689331,
          0.6987125873565674,
          0.736862063407898,
          0.6986786127090454,
          0.70732182264328,
          0.6736272573471069,
          0.7382081151008606,
          0.6485437154769897,
          0.6245001554489136,
          0.6975585222244263,
          0.6314631700515747,
          0.7877504825592041,
          0.684374213218689,
          1.057537317276001,
          0.7318255305290222,
          0.7226166725158691,
          0.682110071182251,
          0.66273033618927,
          0.6533275246620178,
          0.6945924162864685,
          0.7155406475067139,
          0.7086019515991211,
          0.7038230895996094,
          0.6769756078720093,
          0.691760241985321,
          0.6773656010627747,
          0.7123289108276367,
          0.7377644777297974,
          0.7876006364822388,
          0.7018818855285645,
          0.6810745000839233,
          0.722334623336792,
          0.6962054967880249,
          0.662819504737854,
          0.6713770031929016,
          0.7025110721588135,
          1.0569021701812744,
          0.7430302500724792,
          0.6826486587524414,
          0.7105004787445068,
          0.6303313970565796,
          0.697211742401123,
          0.6395572423934937,
          0.696637749671936,
          0.6605179309844971,
          0.6480801105499268,
          0.6836353540420532,
          0.6652882695198059,
          0.6939619779586792,
          0.7485599517822266,
          0.7060688734054565,
          0.6930921077728271,
          0.6728875637054443,
          0.724966287612915,
          0.6607425808906555,
          0.7103875875473022,
          0.40384572744369507,
          0.746186375617981,
          0.709554135799408,
          0.6426246166229248,
          0.7639470100402832,
          0.7227054238319397,
          0.6944079399108887,
          0.7138780951499939,
          0.7240558862686157,
          0.769492506980896,
          1.5029993057250977,
          0.6631425619125366,
          0.6490834951400757,
          0.7360634803771973,
          0.6840404272079468,
          0.7517136335372925,
          0.6583375334739685,
          0.5658818483352661,
          0.7198855876922607,
          0.689685583114624,
          0.7063932418823242,
          0.7021689414978027,
          0.6315325498580933,
          0.6908312439918518,
          0.683790385723114,
          0.6911254525184631,
          0.6782912611961365,
          0.6481871604919434,
          0.6949948668479919,
          0.6908717155456543,
          0.6808604598045349,
          0.5487172603607178,
          0.6867218017578125,
          0.6932789087295532,
          0.8342714905738831,
          0.3270130157470703,
          0.7258517146110535,
          0.6665232181549072,
          0.679131269454956,
          0.7650561332702637,
          0.6898617148399353,
          0.719360888004303,
          0.7313187122344971,
          0.6891307830810547,
          0.6903895139694214,
          0.6994460225105286,
          0.7009027004241943,
          0.6976637244224548,
          0.696276068687439,
          0.7306786775588989,
          0.6952153444290161,
          0.7010105848312378,
          0.7008227109909058,
          0.7274777889251709,
          0.6981900930404663,
          0.6635693311691284,
          0.35478898882865906,
          0.6815796494483948,
          0.745722770690918,
          0.6765825748443604,
          0.6678560972213745,
          0.7471190690994263,
          0.7292338609695435,
          0.6848916411399841,
          0.6764090061187744,
          0.7249707579612732,
          0.716862678527832,
          0.6868544816970825,
          0.682486891746521,
          0.6372135877609253,
          0.7406408786773682,
          0.6517962217330933,
          0.6597350835800171,
          0.7614929676055908,
          0.6926282644271851,
          0.664246141910553,
          0.7172614336013794,
          0.6180989742279053,
          0.658281683921814,
          0.6861385107040405,
          1.8396661281585693,
          0.7428057193756104,
          0.7297961711883545,
          0.6882060766220093,
          0.7033804655075073,
          0.6743942499160767,
          0.6873219013214111,
          0.6558281779289246,
          0.7214211821556091,
          0.6690815687179565,
          0.6592056751251221,
          0.7192599773406982,
          0.682988166809082,
          0.675513744354248,
          0.6901167631149292,
          0.630151629447937,
          0.6430885791778564,
          0.67085862159729,
          0.66926109790802,
          1.2174206972122192,
          0.6324506998062134,
          0.6688119173049927,
          0.6878812313079834,
          0.7147078514099121,
          0.6778591871261597,
          0.7257969379425049,
          0.6616649031639099,
          0.7081011533737183,
          0.7715741395950317,
          0.6853844523429871,
          0.6806212663650513,
          0.7361617684364319,
          0.6623587608337402,
          0.8101224899291992,
          0.6856464147567749,
          0.655157744884491,
          0.6651532649993896,
          0.6525004506111145,
          0.628251850605011,
          0.7296161651611328,
          0.6960498094558716,
          0.6680337190628052,
          0.7270752191543579,
          0.6740407943725586,
          0.6832923293113708,
          0.6349882483482361,
          0.7081434726715088,
          0.6212603449821472,
          0.6426929235458374,
          0.6417907476425171,
          0.7258038520812988,
          0.6856573820114136,
          0.7388733625411987,
          0.6342478394508362,
          0.6847376823425293,
          0.6596254110336304,
          0.8020356297492981,
          0.5455480217933655,
          0.7575386762619019,
          0.7609443068504333,
          0.6949886083602905,
          0.7827582359313965,
          0.6804494857788086,
          0.6693055629730225,
          0.7594805955886841,
          0.743216872215271,
          0.7347820997238159,
          0.7275376319885254,
          0.7487819194793701,
          0.6528929471969604,
          0.6950669884681702,
          0.6349718570709229,
          0.6574465036392212,
          0.6368882060050964,
          0.6523406505584717,
          0.554215669631958,
          0.6580826044082642,
          0.6865789890289307,
          0.7266850471496582,
          0.35421696305274963,
          0.590422511100769,
          0.661798894405365,
          0.6951006650924683,
          0.7301402688026428,
          0.7207241058349609,
          0.699843168258667,
          0.6948761940002441,
          0.8519710898399353,
          0.6618436574935913,
          0.6739953756332397,
          0.6615926027297974,
          0.7088195085525513,
          0.6987077593803406,
          0.6697980165481567,
          0.6800055503845215,
          0.6987138986587524,
          0.6721629500389099,
          0.8223875164985657,
          0.7752503156661987,
          0.7166388034820557,
          0.6605230569839478,
          0.6605777740478516,
          0.6126296520233154,
          0.733993411064148,
          0.7403398156166077,
          0.6760215163230896,
          0.6933211088180542,
          0.6813629865646362,
          0.7014573812484741,
          0.6739752888679504,
          0.6907570362091064,
          0.6971302628517151,
          0.6652674674987793,
          1.3358826637268066,
          0.7476546168327332,
          0.6345323920249939,
          0.671326756477356,
          0.693571925163269,
          0.6839562654495239,
          0.6792179346084595,
          0.8256006240844727,
          0.622037410736084,
          0.9985091686248779,
          3.2693912982940674,
          0.690287709236145,
          0.5508226156234741,
          0.7214672565460205,
          0.7002339363098145,
          0.7106728553771973,
          0.6951876878738403,
          0.7046375274658203,
          0.6052078604698181,
          0.6831802129745483,
          0.7052501440048218,
          0.8418220281600952,
          0.704686164855957,
          0.4852472245693207,
          0.5586074590682983,
          0.7737195491790771,
          0.7271037101745605,
          0.4779464602470398,
          0.7292555570602417,
          0.6855387687683105,
          0.7414170503616333,
          0.6750920414924622,
          1.5052387714385986,
          0.6494799852371216,
          0.7215371131896973,
          0.6418728828430176,
          0.7013841271400452,
          0.6804795265197754,
          0.7158400416374207,
          0.6127245426177979,
          0.6121071577072144,
          0.7007967233657837,
          0.6375981569290161,
          0.6427961587905884,
          0.7568779587745667,
          0.7083510160446167,
          0.7078838348388672,
          0.7487677335739136,
          0.7212622165679932,
          0.6612036824226379,
          0.6922136545181274,
          0.7054171562194824,
          0.8947350978851318,
          0.6374361515045166,
          0.6793060898780823,
          0.6912004947662354,
          0.7119177579879761,
          0.6605802774429321,
          0.7222316861152649,
          0.6689790487289429,
          0.7522753477096558,
          0.732821524143219,
          0.45397669076919556,
          0.6869949102401733,
          0.7132704257965088,
          0.6796098947525024,
          0.6311842799186707,
          0.6601967811584473,
          0.7229630351066589,
          0.6759264469146729,
          0.7179090976715088,
          0.729775071144104,
          0.7333986759185791,
          0.7151216268539429,
          0.6415517330169678,
          0.7166138887405396,
          0.655681312084198,
          0.6809219121932983,
          0.741269588470459,
          0.8249667882919312,
          0.6421964764595032,
          0.6749671697616577,
          0.6673054695129395,
          0.6709561347961426,
          0.7140291929244995,
          0.6784645318984985,
          0.65411376953125,
          0.7525267601013184,
          0.6617003679275513,
          0.583754301071167,
          0.6921813488006592,
          0.6600362062454224,
          0.7195771932601929,
          0.6612938642501831,
          0.6927928924560547,
          0.7312589883804321,
          0.9831202030181885,
          0.7744572162628174,
          0.7101761102676392,
          0.8217380046844482,
          0.6956737041473389,
          0.6759942173957825,
          0.664461612701416,
          0.6461973786354065,
          0.763425886631012,
          1.649351954460144,
          0.6849673986434937,
          0.6867737770080566,
          0.7176463603973389,
          0.7069970965385437,
          0.6733384132385254,
          0.6707738637924194,
          0.6433665752410889,
          0.6424801349639893,
          0.6939538717269897,
          0.6458990573883057,
          0.6044989824295044,
          0.6272854804992676,
          0.7417503595352173,
          0.6873610019683838,
          0.6762655973434448,
          0.603312075138092,
          0.8541935682296753,
          0.7227258682250977,
          0.733919620513916,
          0.6747637987136841,
          0.6611158847808838,
          0.9568861722946167,
          0.7034221887588501,
          0.6623924970626831,
          1.097825288772583,
          0.7301141023635864,
          0.7248710989952087,
          0.7267715930938721,
          0.6212682127952576,
          0.6047300100326538,
          0.711212158203125,
          0.6579325199127197,
          0.7436065077781677,
          0.657017707824707,
          0.6996166706085205,
          0.6782302856445312,
          0.7122811675071716,
          0.6802709102630615,
          0.7151927351951599,
          0.6698423624038696,
          0.6095861196517944,
          0.6981087923049927,
          0.7071489095687866,
          0.5803285837173462,
          0.6788173317909241,
          0.7203612327575684,
          0.6817296743392944,
          0.6703206300735474,
          1.1975455284118652,
          0.6658123731613159,
          0.6755616068840027,
          0.6554089784622192,
          0.7026499509811401,
          0.6853904128074646,
          0.728343665599823,
          0.7627691030502319,
          0.7041854858398438,
          0.6666128635406494,
          0.6608664989471436,
          0.6670868396759033,
          0.6797341704368591,
          0.73781418800354,
          0.745732307434082,
          0.702478289604187,
          0.7057377099990845,
          0.42782098054885864,
          0.6922838687896729,
          0.8012861013412476,
          0.6501224637031555,
          0.7013107538223267,
          0.6678985357284546,
          0.6993011236190796,
          0.6857346892356873,
          0.6455385684967041,
          0.6875292062759399,
          0.845993161201477,
          0.7087937593460083,
          0.6841294169425964,
          0.6827179193496704,
          0.7105387449264526,
          0.7035032510757446,
          0.665910005569458,
          0.7425075769424438,
          0.8313353061676025,
          0.6337283849716187,
          0.7103295922279358,
          0.6548095941543579,
          0.6990854144096375,
          0.6836642026901245,
          0.5941791534423828,
          0.6260221004486084,
          0.6895567774772644,
          0.9217991232872009,
          0.6812825202941895,
          0.7001187205314636,
          0.5902101397514343,
          0.45765817165374756,
          0.7147255539894104,
          0.7030906677246094,
          0.7204271554946899,
          0.7224311828613281,
          0.7224168181419373,
          0.6976766586303711,
          0.8063693642616272,
          0.8471666574478149,
          0.7358804941177368,
          0.6762217283248901,
          0.6558810472488403,
          0.7661598920822144,
          0.6991450190544128,
          0.6346722841262817,
          0.7033629417419434,
          0.5324162244796753,
          0.6549004316329956,
          0.6568019390106201,
          0.701412558555603,
          0.7544361352920532,
          0.6465198993682861,
          0.5985049605369568,
          0.7412576675415039,
          0.7727550268173218,
          0.7449647784233093,
          0.7342652082443237,
          0.6894216537475586,
          0.69556725025177,
          0.6822322607040405,
          0.680330753326416,
          1.3672593832015991,
          0.641852855682373,
          0.7140264511108398,
          0.6897790431976318,
          0.6509869694709778,
          0.7119803428649902,
          0.6726566553115845,
          0.8021093010902405,
          0.7551898956298828,
          0.7157903909683228,
          0.7154241800308228,
          0.7224338054656982,
          0.6691040992736816,
          0.6696771383285522,
          0.6873224377632141,
          0.7064138650894165,
          0.7108656167984009,
          0.642179012298584,
          0.7047683000564575,
          0.7029708623886108,
          0.780091404914856,
          0.7239470481872559,
          0.6885776519775391,
          0.6850227117538452,
          0.733008623123169,
          0.6756037473678589,
          0.7095302939414978,
          0.6876901984214783,
          0.6656742691993713,
          0.7784439325332642,
          0.6846979856491089,
          0.6666902899742126,
          0.6758003234863281,
          1.5190184116363525,
          0.6645665168762207,
          0.6780539155006409,
          0.6671600341796875,
          0.6435303688049316,
          0.6954106092453003,
          0.6605963110923767,
          0.6978944540023804,
          0.6306930780410767,
          0.6895611882209778,
          0.703194260597229,
          0.7041159868240356,
          0.6115609407424927,
          0.5445756316184998,
          0.6295474171638489,
          0.6925264596939087,
          0.7009729146957397,
          0.6864948868751526,
          0.6811151504516602,
          0.6896941661834717,
          0.6488586664199829,
          0.6382213830947876,
          0.6502549648284912,
          0.6608788967132568,
          0.643475353717804,
          0.9346786737442017,
          0.7095885276794434,
          0.6878471374511719,
          0.7198740243911743,
          0.869179368019104,
          0.6873955726623535,
          0.6938170194625854,
          0.5737122893333435,
          0.7014502286911011,
          0.6818332672119141,
          0.647047758102417,
          0.616946816444397,
          0.7066295742988586,
          0.9092047214508057,
          0.6553311944007874,
          0.689290463924408,
          0.7628377676010132,
          0.7778657674789429,
          0.7528109550476074,
          0.7126097083091736,
          0.6601016521453857,
          0.6687649488449097,
          0.70256507396698,
          0.7228626012802124,
          0.7439974546432495,
          0.6937738656997681,
          0.6929822564125061,
          0.7420527935028076,
          0.720535933971405,
          0.6722108721733093,
          0.8852642774581909,
          0.6953576803207397,
          0.7190408706665039,
          0.6623484492301941,
          0.6502439975738525,
          0.7396339178085327,
          0.6688695549964905,
          0.7067803740501404,
          0.6957260370254517,
          0.6964465379714966,
          0.6904478073120117,
          0.6961838603019714,
          0.6873382329940796,
          0.6830015182495117,
          0.6015079617500305,
          0.7031922340393066,
          0.7349078059196472,
          0.7276593446731567,
          0.7349311113357544,
          0.6639387607574463,
          0.746688723564148,
          0.7051536440849304,
          0.6709213256835938,
          0.7461645603179932,
          0.7636324167251587,
          0.6759892702102661,
          0.6503831148147583,
          0.5938913822174072,
          0.7708300352096558,
          0.7394477128982544,
          0.680588960647583,
          0.6679607629776001,
          0.7756455540657043,
          0.7640870809555054,
          0.6759452819824219,
          0.6973605155944824,
          0.8558715581893921,
          1.5565797090530396,
          0.7097297310829163,
          0.7335267066955566,
          0.6771199703216553,
          0.6857230067253113,
          1.5600825548171997,
          0.7540979385375977,
          0.6996410489082336,
          0.7350811958312988,
          0.7569880485534668,
          0.6893160343170166,
          0.6446036100387573,
          0.6852787733078003,
          0.6995155215263367,
          0.6411938667297363,
          0.705897867679596,
          0.6536911725997925,
          0.7180439233779907,
          0.6728639602661133,
          0.4748084545135498,
          0.7105040550231934,
          0.5616791248321533,
          0.6810295581817627,
          0.6352964043617249,
          0.6486758589744568,
          0.7313019037246704,
          0.7424861788749695,
          0.7164999842643738,
          0.6116191744804382,
          0.7316572666168213,
          0.6994697451591492,
          0.6861703991889954,
          0.6316096186637878,
          0.6486757397651672,
          0.3722853660583496,
          0.6489147543907166,
          0.6982851028442383,
          0.7776508331298828,
          0.6798578500747681,
          0.6686837673187256,
          0.5813542008399963,
          0.7611023187637329,
          0.7258312702178955,
          0.6849949359893799,
          0.63795006275177,
          0.6847221851348877,
          0.7566709518432617,
          0.7210958003997803,
          0.6931626796722412,
          0.8818274736404419,
          0.6441118717193604,
          0.6957216262817383,
          0.6429674625396729,
          0.6807951927185059,
          0.746345043182373,
          0.7322425842285156,
          0.7405334711074829,
          0.7184126377105713,
          0.7037280797958374,
          0.7329642176628113,
          0.7163563966751099,
          0.6351462602615356,
          0.7739889621734619,
          0.6509667634963989,
          0.9134608507156372,
          0.708816409111023,
          0.7342441082000732,
          0.6870945692062378,
          0.6985576748847961,
          0.8067888021469116,
          0.40520167350769043,
          0.6968239545822144,
          0.6383060216903687,
          0.7037789225578308,
          0.6395524144172668,
          0.5613614320755005,
          0.7238576412200928,
          0.8280208110809326,
          0.758784294128418,
          0.7104239463806152,
          0.7063871622085571,
          0.7050788998603821,
          0.6306756734848022,
          0.8277667760848999,
          0.6908981800079346,
          0.7222112417221069,
          0.7099195718765259,
          0.7645545601844788,
          0.7197884917259216,
          0.9885064959526062,
          0.6072791814804077,
          0.7086701989173889,
          0.764864444732666,
          1.6518254280090332,
          0.5929884314537048,
          0.6639162302017212,
          0.6758537292480469,
          0.5470654964447021,
          0.7774932384490967,
          0.7313074469566345,
          0.6648851633071899,
          0.8310874104499817,
          0.682291567325592,
          0.767922580242157,
          0.44122493267059326,
          0.7058160901069641,
          0.6865626573562622,
          0.632132887840271,
          0.6637625694274902,
          0.6379532814025879,
          0.6924552917480469,
          0.7386713027954102,
          0.6799023151397705,
          0.6958959698677063,
          0.7858308553695679,
          1.0985089540481567,
          0.6542614698410034,
          0.6928647756576538,
          0.6670761108398438,
          1.22450590133667,
          0.7166339159011841,
          0.6735014915466309,
          0.30358895659446716,
          0.7203754782676697,
          0.679188072681427,
          0.6756938695907593,
          0.7444133162498474,
          0.6815458536148071,
          0.6493089199066162,
          0.6686810255050659,
          0.8228127956390381,
          0.6409167051315308,
          0.7405616641044617,
          0.6927235126495361,
          0.6449766159057617,
          0.6209971904754639,
          0.7538385391235352,
          0.6828354597091675,
          0.7835111618041992,
          0.6337139010429382,
          0.6585147976875305,
          0.6613770723342896,
          0.7093532085418701,
          0.7322821021080017,
          0.6365163326263428,
          0.7852562665939331,
          0.7426424026489258,
          0.5963562726974487,
          0.603073239326477,
          0.6661431789398193,
          0.6720941662788391,
          0.6814285516738892,
          0.6843841075897217,
          0.6468526124954224,
          0.6538888812065125,
          0.7290859222412109,
          0.6816346645355225,
          0.7839460372924805,
          0.9331321716308594,
          0.8344845771789551,
          0.6628882884979248,
          0.725441575050354,
          0.641169011592865,
          0.693162739276886,
          2.1450023651123047,
          0.7464653253555298,
          0.7301241159439087,
          0.6532109975814819,
          0.6709206700325012,
          0.6777899861335754,
          0.6355447173118591,
          1.1433194875717163,
          0.39449065923690796,
          0.6569602489471436,
          0.7003903388977051,
          0.6809905767440796,
          0.7257426381111145,
          0.6927481889724731,
          0.7861384153366089,
          0.5775931477546692,
          0.737275242805481,
          0.6831790208816528,
          0.7337613701820374,
          0.38430115580558777,
          0.6899951696395874,
          0.7162594795227051,
          0.7170987725257874,
          0.8472026586532593,
          0.7104451656341553,
          0.8615306615829468,
          0.6919752955436707,
          0.7429962158203125,
          0.8864607214927673,
          0.637349009513855,
          0.641017735004425,
          0.6707491874694824,
          0.6405611038208008,
          0.773633599281311,
          0.7179964780807495,
          0.6943386197090149,
          0.6647854447364807,
          0.6834543943405151,
          0.6505641937255859,
          0.655684232711792,
          0.7382780313491821,
          0.6758211851119995,
          0.6708503365516663,
          0.7182968854904175,
          0.6605738401412964,
          0.784447193145752,
          0.6872159242630005,
          0.6691208481788635,
          0.7402772903442383,
          0.6644915342330933,
          0.7463719248771667,
          0.8337914943695068,
          0.6389872431755066,
          0.7564526796340942,
          0.6685100793838501,
          0.6526808738708496,
          0.7503615021705627,
          0.713608980178833,
          0.6135904788970947,
          0.6877529621124268,
          0.6851658821105957,
          0.7005993127822876,
          0.6777516007423401,
          0.7841436862945557,
          0.6962553262710571,
          0.6562426090240479,
          0.6939725875854492,
          0.5992400050163269,
          0.7660022974014282,
          0.7609738111495972,
          0.7027671337127686,
          0.5304777026176453,
          0.6765109300613403,
          0.7187970876693726,
          0.7684335112571716,
          0.6477838754653931,
          0.7107930183410645,
          0.7035194635391235,
          0.6789987087249756,
          0.6574482917785645,
          0.7083601951599121,
          0.6693507432937622,
          0.6475131511688232,
          0.6724363565444946,
          0.6596529483795166,
          0.6868534088134766,
          0.6801257133483887,
          0.675754189491272,
          0.6957959532737732,
          0.7436313629150391,
          0.7269056439399719,
          1.1715675592422485,
          0.70034259557724,
          0.691534161567688,
          0.8315948247909546,
          0.757465124130249,
          0.6760656237602234,
          0.6498538851737976,
          0.5034098029136658,
          0.7270496487617493,
          1.1398365497589111,
          0.6735503673553467,
          0.6673403978347778,
          0.7945825457572937,
          0.6877081394195557,
          0.6718549728393555,
          0.7427715063095093,
          0.6574423313140869,
          0.694243311882019,
          0.6734656095504761,
          0.6880611181259155,
          0.6602396965026855,
          0.740746259689331,
          0.7656304240226746,
          0.653501570224762,
          0.7136571407318115,
          0.6364591121673584,
          0.6405237317085266,
          0.6868833303451538,
          0.6982026696205139,
          0.6861319541931152,
          0.6227853298187256,
          0.6919921636581421,
          0.6415935754776001,
          0.7119860649108887,
          0.6966736316680908,
          0.7319239974021912,
          0.7111661434173584,
          0.7266660332679749,
          0.6525426506996155,
          0.6495456695556641,
          0.8365882635116577,
          0.7045383453369141,
          0.6896044611930847,
          0.6980904340744019,
          0.6722229719161987,
          0.6923587322235107,
          0.6543036699295044,
          0.6185076236724854,
          0.732011616230011,
          0.9800057411193848,
          0.6576833724975586,
          0.7030816078186035,
          0.6996655464172363,
          0.7520610094070435,
          0.5949941873550415,
          0.7638139724731445,
          0.7387263774871826,
          0.67753666639328,
          0.6760940551757812,
          0.7495768070220947,
          0.6774370670318604,
          0.6819853782653809,
          0.6936378479003906,
          0.6797075271606445,
          0.707460880279541,
          0.662962794303894,
          0.67218017578125,
          0.6796164512634277,
          0.6764143705368042,
          0.7175360321998596,
          0.7693289518356323,
          0.779056966304779,
          0.611748456954956,
          0.700341522693634,
          0.6775078773498535,
          0.7076183557510376,
          0.6737841963768005,
          0.6205275654792786,
          1.66643488407135,
          0.6523171067237854,
          0.7248737812042236,
          0.7110008597373962,
          0.65183424949646,
          0.7024121284484863,
          0.7370069026947021,
          0.5543547868728638,
          0.9922808408737183,
          0.7592530846595764,
          0.6556923985481262,
          0.6120901703834534,
          0.7136406898498535,
          0.7164100408554077,
          0.4832926392555237,
          0.7287389636039734,
          0.7549465298652649,
          0.7219836115837097,
          0.6801925301551819,
          0.7257578372955322,
          0.7160165309906006,
          0.6816815137863159,
          0.7301472425460815,
          0.7349189519882202,
          0.7258790135383606,
          0.7452207207679749,
          0.6726826429367065,
          0.6849256753921509,
          0.6958949565887451,
          0.7117432951927185,
          0.6876471042633057,
          0.701987087726593,
          0.7537928819656372,
          0.7487783432006836,
          0.6220482587814331,
          0.7723173499107361,
          0.7140213847160339,
          0.678733229637146,
          0.70526123046875,
          0.7522115707397461,
          0.6296635866165161,
          0.7451885342597961,
          0.7374297380447388,
          0.7000372409820557,
          0.6748108863830566,
          0.3407779932022095,
          0.6854451894760132,
          0.6847474575042725,
          0.7202054262161255,
          0.6175873279571533,
          0.7130979895591736,
          0.7325040102005005,
          0.6760995388031006,
          0.7029998898506165,
          0.7551972270011902,
          0.5968095660209656,
          0.7225539684295654,
          0.6346739530563354,
          0.7517350912094116,
          0.721554160118103,
          0.4735335409641266,
          0.6878567934036255,
          0.7369607090950012,
          0.7667997479438782,
          0.6505838632583618,
          0.6771652102470398,
          0.6395111680030823,
          0.6731724739074707,
          0.804379940032959,
          0.6563261151313782,
          0.8800325989723206,
          0.6771713495254517,
          0.718161940574646,
          0.6463614702224731,
          0.7314186692237854,
          0.660169780254364,
          0.7100309133529663,
          0.5736694931983948,
          0.7096231579780579,
          0.9769668579101562,
          0.7461163997650146,
          0.7125531435012817,
          0.6835147142410278,
          0.7394970655441284,
          0.6967585682868958,
          0.6999682188034058,
          0.643367350101471,
          0.7025427222251892,
          0.6965674161911011,
          0.682880163192749,
          0.7025002837181091,
          0.735305666923523,
          1.1005704402923584,
          0.7122751474380493,
          0.6870851516723633,
          0.5665870904922485,
          0.7699807286262512,
          0.6619077324867249,
          0.7702749967575073,
          0.6881448030471802,
          0.7376070022583008,
          0.6480259895324707,
          0.6810749769210815,
          0.7043424844741821,
          0.706425666809082,
          0.6221669912338257,
          0.6890907287597656,
          0.6676890254020691,
          0.7980414032936096,
          0.6523782014846802,
          0.7166262865066528,
          0.7380200624465942,
          0.6840499639511108,
          0.7186425924301147,
          0.6664378643035889,
          0.7292116284370422,
          0.6643083095550537,
          0.6844899654388428,
          0.6724203824996948,
          0.7471108436584473,
          0.7415836453437805,
          0.6646296381950378,
          0.7007609009742737,
          0.7293350696563721,
          0.689083456993103,
          0.741248369216919,
          0.6989669799804688,
          0.6622323989868164,
          0.6769711375236511,
          0.7195544242858887,
          0.6865481734275818,
          0.6855411529541016,
          0.46526461839675903,
          0.7371296882629395,
          0.721279501914978,
          0.6753163933753967,
          0.7143622636795044,
          0.6729480028152466,
          0.6869214177131653,
          0.6712491512298584,
          0.7331815958023071,
          0.7122071385383606,
          0.6599059104919434,
          0.6507962942123413,
          0.6713817119598389,
          0.6866747140884399,
          0.6892765760421753,
          0.6991552710533142,
          0.7022439241409302,
          0.7403769493103027,
          0.6995831727981567,
          0.6724146604537964,
          0.6484325528144836,
          0.8946149349212646,
          0.6397857666015625,
          0.6406107544898987,
          0.7719851732254028,
          0.6402373909950256,
          0.6575488448143005,
          0.6751896739006042,
          0.7187352180480957,
          0.6633296012878418,
          0.654047966003418,
          0.7412023544311523,
          0.6906492710113525,
          0.6444611549377441,
          0.6636645197868347,
          0.6613298058509827,
          0.7704403400421143,
          0.7097306251525879,
          0.7261649966239929,
          0.6884854435920715,
          0.6457318067550659,
          0.6912148594856262,
          0.6857540607452393,
          0.5459440350532532,
          0.6970082521438599,
          0.6812256574630737,
          0.6849586963653564,
          0.7563639879226685,
          0.7242380976676941,
          0.6039851903915405,
          0.6520549058914185,
          0.7573614716529846,
          0.6632400751113892,
          0.6646208167076111,
          0.7231061458587646,
          0.6180176734924316,
          0.7772715091705322,
          0.7193535566329956,
          0.7008951902389526,
          0.6820852756500244,
          0.7559967041015625,
          0.5465670824050903,
          0.6109178066253662,
          0.6897367238998413,
          0.6745230555534363,
          0.7055680751800537,
          0.7834067940711975,
          1.2909936904907227,
          1.2744815349578857,
          0.6873911619186401,
          0.740443229675293,
          0.6505593061447144,
          0.630683183670044,
          0.706995964050293,
          0.6457825899124146,
          0.5357600450515747,
          0.7434111833572388,
          0.7716538310050964,
          0.6411501169204712,
          0.6930428147315979,
          0.6847279667854309,
          0.6264742612838745,
          0.6716837286949158,
          0.6951590180397034,
          0.6856129169464111,
          0.7405896186828613,
          0.685917854309082,
          0.7342963218688965,
          0.7145074009895325,
          0.6589532494544983,
          0.7504314184188843,
          0.5807358026504517,
          0.5752834677696228,
          0.6526010036468506,
          0.684632420539856,
          0.6545267105102539,
          0.7349555492401123,
          0.7014070749282837,
          0.6968045234680176,
          0.6979048848152161,
          0.731574296951294,
          0.7243301868438721,
          0.6676315069198608,
          0.6857885718345642,
          0.6329376697540283,
          0.6560441851615906,
          0.7333735823631287,
          0.6859638690948486,
          0.6620801687240601,
          0.6727302074432373,
          0.7114422917366028,
          0.8450384736061096,
          0.6629765033721924,
          0.7618968486785889,
          0.6921952366828918,
          0.6878572106361389,
          0.6965584754943848,
          0.672961950302124,
          0.6902240514755249,
          0.7240817546844482,
          0.7168506383895874,
          0.6977148056030273,
          0.7094859480857849,
          0.6849324107170105,
          0.6942678093910217,
          0.6865874528884888,
          0.7370699644088745,
          0.6674536466598511,
          0.7202509641647339,
          0.7250016927719116,
          0.7066731452941895,
          0.6949007511138916,
          0.6939650774002075,
          0.7099031209945679,
          0.6761343479156494,
          0.6179931163787842,
          0.699211061000824,
          0.6840591430664062,
          0.7022504806518555,
          0.6285805106163025,
          0.6857457160949707,
          0.6585973501205444,
          0.7083916068077087,
          0.835655689239502,
          0.6306331157684326,
          0.3878883421421051,
          0.6903855800628662,
          0.6867960691452026,
          0.6620409488677979,
          0.7403475642204285,
          0.7024257183074951,
          0.6635599136352539,
          0.8168514966964722,
          0.698352575302124,
          0.6520751714706421,
          0.7049115300178528,
          0.9843670129776001,
          0.6547238826751709,
          0.6876696348190308,
          0.5217189788818359,
          0.714402437210083,
          0.7024868726730347,
          0.6555033922195435,
          0.6962684988975525,
          0.7268118858337402,
          0.6349291205406189,
          0.6701781749725342,
          0.6734710931777954,
          0.7765200138092041,
          0.6930737495422363,
          0.7441332340240479,
          0.6482840776443481,
          0.7044029831886292,
          0.721743106842041,
          0.6925127506256104,
          0.6360944509506226,
          0.7237295508384705,
          0.6420537233352661,
          0.7277185320854187,
          0.7315765619277954,
          0.7515154480934143,
          0.7468056082725525,
          0.7055493593215942,
          0.7408022880554199,
          0.6632328629493713,
          0.7643395662307739,
          0.6098191738128662,
          0.7268706560134888,
          0.6592178344726562,
          0.6097007989883423,
          0.7470327019691467,
          0.68372642993927,
          0.7181788682937622,
          0.6350706815719604,
          0.719001293182373,
          0.7374868392944336,
          0.7020236253738403,
          0.6922852993011475,
          0.6805161237716675,
          0.6710114479064941,
          0.6246480941772461,
          0.6714616417884827,
          0.6717542409896851,
          0.6740448474884033,
          0.6751737594604492,
          0.7059240341186523,
          0.6595064401626587,
          0.6857008934020996,
          0.6923187971115112,
          0.7831525802612305,
          0.6155231595039368,
          0.7645281553268433,
          0.7206243872642517,
          0.9589635133743286,
          0.6767855882644653,
          0.649773359298706,
          0.6888412237167358,
          0.7095606327056885,
          0.7495012283325195,
          0.6911247372627258,
          0.7178504467010498,
          0.7573897242546082,
          0.6379489898681641,
          0.6248947978019714,
          0.6983915567398071,
          0.6825870275497437,
          0.6950639486312866,
          0.5938072204589844,
          0.6519254446029663,
          0.7431819438934326,
          0.6869277954101562,
          0.6729016304016113,
          0.7542984485626221,
          0.6719956994056702,
          0.5906968712806702,
          0.6900820732116699,
          0.6664237976074219,
          0.6820287704467773,
          0.3980685770511627,
          0.7087053060531616,
          0.6543315649032593,
          0.6627898216247559,
          0.639171302318573,
          0.7202632427215576,
          1.2690922021865845,
          0.8147518634796143,
          0.6820113658905029,
          0.684482216835022,
          0.7110785245895386,
          0.6490108966827393,
          0.7305827140808105,
          0.7341846823692322,
          0.6724708080291748,
          0.6890994310379028,
          0.6844221949577332,
          0.6061132550239563,
          0.6806541681289673,
          0.7113454937934875,
          0.7181484699249268,
          0.6650668978691101,
          0.7134663462638855,
          0.6783937215805054,
          0.653878927230835,
          0.7280458211898804,
          0.7086262106895447,
          0.6529757976531982,
          0.6525629758834839,
          0.9899313449859619,
          0.6905258893966675,
          0.7506861686706543,
          0.6386860609054565,
          0.7248495817184448,
          0.6465539336204529,
          0.6743690967559814,
          0.7449539303779602,
          0.7357361316680908,
          0.7554828524589539,
          0.7206168174743652,
          0.6875225305557251,
          0.7270046472549438,
          0.7021667957305908,
          0.68608558177948,
          0.7219022512435913,
          0.706358790397644,
          0.7132184505462646,
          0.7024717926979065,
          0.6901928782463074,
          0.7209852933883667,
          0.6853830814361572,
          0.77264004945755,
          0.7274773120880127,
          0.6091026067733765,
          0.43551820516586304,
          0.6592874526977539,
          0.3998006582260132,
          0.7044342160224915,
          0.6555365324020386,
          0.7580525875091553,
          0.644291877746582,
          0.693427324295044,
          0.7307523488998413,
          0.7498196363449097,
          0.6764577627182007,
          0.48510268330574036,
          0.7577592134475708,
          0.6153825521469116,
          0.6888118386268616,
          0.6657280325889587,
          0.6932345628738403,
          0.6343043446540833,
          0.6986967325210571,
          0.6885870099067688,
          0.6650994420051575,
          0.6564629077911377,
          0.6947097182273865,
          0.7201336622238159,
          0.6499453783035278,
          0.7158045768737793,
          0.6560887098312378,
          0.676310658454895,
          0.713024914264679,
          0.7037395238876343,
          0.60849928855896,
          0.711961030960083,
          0.6746795177459717,
          0.6486687660217285,
          0.6826367378234863,
          0.7032464742660522,
          0.693770170211792,
          0.6628419160842896,
          0.7262836694717407,
          0.6991894245147705,
          0.6851916313171387,
          0.6755905151367188,
          0.6887741684913635,
          0.6651681661605835,
          0.6499744653701782,
          0.6499416828155518,
          0.6713930368423462,
          0.7085148096084595,
          0.5375047922134399,
          0.7143469452857971,
          0.668472409248352,
          0.6887283325195312,
          0.7497319579124451,
          0.7248625159263611,
          0.6965065598487854,
          0.6310787200927734,
          0.6529258489608765,
          0.5581169128417969,
          0.7796639204025269,
          0.7607605457305908,
          0.4840276837348938,
          0.7750047445297241,
          0.7528831958770752,
          0.6531064510345459,
          0.6000493168830872,
          0.7122424840927124,
          0.6859151124954224,
          0.7615506649017334,
          0.7456384301185608,
          0.70561683177948,
          0.7405352592468262,
          0.6823090314865112,
          0.6633899211883545,
          0.6917950510978699,
          0.6763725280761719,
          0.6375051736831665,
          0.699992299079895,
          0.7891989350318909,
          0.7463079690933228,
          0.6723301410675049,
          0.740239143371582,
          0.5682095289230347,
          0.7304726243019104,
          0.7203330993652344,
          0.704689621925354,
          0.6798869967460632,
          0.7180358171463013,
          0.655070424079895,
          0.5094576478004456,
          0.42931225895881653,
          0.6820082664489746,
          0.7079833745956421,
          0.7423946857452393,
          0.7256571054458618,
          0.6984657049179077,
          0.7014906406402588,
          0.7050505876541138,
          0.7569833993911743,
          0.7229604721069336,
          0.8158004283905029,
          0.6813744306564331,
          0.6956634521484375,
          0.7087308168411255,
          0.6675145626068115,
          0.640609622001648,
          0.7161792516708374,
          0.6929910182952881,
          0.7316957116127014,
          0.6285600066184998,
          0.6772878170013428,
          0.6936777830123901,
          0.5981730818748474,
          0.7095807790756226,
          0.6680499911308289,
          0.7294276356697083,
          0.743706226348877,
          0.6668847799301147,
          0.7340617179870605,
          0.6694878339767456,
          0.7224653363227844,
          0.6593054533004761,
          0.6564825773239136,
          0.7070478796958923,
          0.6552697420120239,
          0.6858221888542175,
          0.7057618498802185,
          0.6931591629981995,
          0.6095166802406311,
          0.6944311857223511,
          0.6949572563171387,
          0.6412769556045532,
          0.6158744096755981,
          0.7041252851486206,
          0.740453839302063,
          0.6285785436630249,
          0.7405300736427307,
          0.6860358119010925,
          0.6652839779853821,
          0.6717027425765991,
          0.7903984785079956,
          0.6442449688911438,
          0.712639570236206,
          0.7305015325546265,
          0.6716851592063904,
          0.7148146033287048,
          0.7311869859695435,
          0.6973333954811096,
          0.7444268465042114,
          0.660287618637085,
          0.6930468082427979,
          0.7483164072036743,
          0.5085314512252808,
          0.7306722402572632,
          0.680281400680542,
          0.6945204138755798,
          0.7290344834327698,
          0.5861289501190186,
          0.6708494424819946,
          0.7352657318115234,
          0.6706122159957886,
          0.7261040210723877,
          0.633159875869751,
          0.39924073219299316,
          0.434535950422287,
          0.69926917552948,
          0.7181308269500732,
          0.7192450165748596,
          0.6366220712661743,
          0.6755172610282898,
          0.7085060477256775,
          0.6946603059768677,
          0.7585906386375427,
          0.7828983664512634,
          0.6999372839927673,
          0.7320205569267273,
          0.804399847984314,
          0.751021683216095,
          0.7102487087249756,
          0.8444215059280396,
          0.7815005779266357,
          0.6571594476699829,
          0.7095093131065369,
          0.7104206681251526,
          0.6863799095153809,
          0.6980370879173279,
          0.7357392311096191,
          0.6074714660644531,
          0.669832170009613,
          0.7055506110191345,
          0.5939698815345764,
          0.6885099411010742,
          0.6622409820556641,
          0.7582688927650452,
          0.6950405836105347,
          0.6766501665115356,
          0.714425802230835,
          0.6530545949935913,
          0.6759467124938965,
          0.7381584644317627,
          0.7126114964485168,
          0.6164951324462891,
          0.7109256386756897,
          0.6813130378723145,
          0.6835458278656006,
          0.6582871675491333,
          0.7199938297271729,
          0.6814852952957153,
          0.6854857206344604,
          0.727778971195221,
          0.6839596033096313,
          0.6239219307899475,
          0.637235701084137,
          0.8042283654212952,
          0.6492185592651367,
          0.700817346572876,
          0.6340956091880798,
          0.6890231370925903,
          0.7472251653671265,
          0.677895188331604,
          0.676639199256897,
          0.7541800737380981,
          0.6487298607826233,
          1.2929487228393555,
          0.6649786233901978,
          0.6846486330032349,
          1.5563023090362549,
          0.6858725547790527,
          0.7233228087425232,
          0.6561373472213745,
          0.6951488256454468,
          0.6655524969100952,
          0.7261530756950378,
          0.7147657871246338,
          0.7207851409912109,
          0.7228001356124878,
          0.7396650314331055,
          0.634982705116272,
          0.6976104974746704,
          0.6770553588867188,
          0.7127484679222107,
          0.7521534562110901,
          1.2180235385894775,
          0.6523028016090393,
          0.7964116334915161,
          1.0014989376068115,
          0.45662960410118103,
          0.6499109268188477,
          0.5412737131118774,
          0.727410078048706,
          0.7036519050598145,
          0.6885490417480469,
          0.6593242287635803,
          0.6623878479003906,
          0.6468480825424194,
          0.7188814878463745,
          0.6690266132354736,
          0.6781055927276611,
          0.6675974130630493,
          0.4743254780769348,
          0.6799300312995911,
          0.6122232675552368,
          0.7289149761199951,
          0.6902273297309875,
          0.6986324787139893,
          0.6753659248352051,
          0.7184481024742126,
          0.8230425715446472,
          0.6340724229812622,
          0.6428942680358887,
          0.7292152643203735,
          0.6838361620903015,
          0.7157466411590576,
          0.756526529788971,
          0.5990138649940491,
          0.7771336436271667,
          0.6483445763587952,
          0.7358819246292114,
          0.7515257596969604,
          0.6565824747085571,
          0.6814199090003967,
          0.73287034034729,
          0.6996743679046631,
          0.7023480534553528,
          0.7259230613708496,
          0.7243098020553589,
          0.6904621124267578,
          0.6865103244781494,
          0.7255576848983765,
          0.6793557405471802,
          0.703075647354126,
          0.6966760754585266,
          0.8323779702186584,
          0.700684666633606,
          0.640375554561615,
          0.7388875484466553,
          0.7154845595359802,
          0.7000422477722168,
          0.6542290449142456,
          0.677004337310791,
          0.7366722226142883,
          0.6625567078590393,
          0.6996818780899048,
          0.8125986456871033,
          0.6827709078788757,
          0.7352879643440247,
          0.746289849281311,
          0.7557313442230225,
          0.6838483214378357,
          0.6747763156890869,
          0.7825756072998047,
          0.7599992752075195,
          0.7193902730941772,
          0.728381872177124,
          0.6401122808456421,
          0.7350203990936279,
          0.7216774225234985,
          0.6758646368980408,
          0.6578006744384766,
          0.6839503049850464,
          0.7001848220825195,
          0.6009171009063721,
          0.7033250331878662,
          0.7080427408218384,
          0.6770819425582886,
          0.7606545686721802,
          0.6327985525131226,
          0.6667152047157288,
          0.688019335269928,
          0.6509304642677307,
          0.6832618117332458,
          0.6621273159980774,
          0.5681852102279663,
          0.7296862006187439,
          0.6852083206176758,
          0.6916947364807129,
          0.7092593312263489,
          0.6404107809066772,
          0.6889792680740356,
          0.6493008732795715,
          0.6702556610107422,
          0.6791357398033142,
          0.7827132940292358,
          0.7489409446716309,
          0.6850476264953613,
          0.6267493963241577,
          0.6755157709121704,
          0.6728460788726807,
          0.740668535232544,
          0.702341616153717,
          0.7405934929847717,
          0.6798934936523438,
          0.6986659169197083,
          0.6260370016098022,
          0.7219412326812744,
          0.6505061984062195,
          1.6968448162078857,
          0.7109034061431885,
          0.7229819297790527,
          0.8559278845787048,
          0.7229524254798889,
          0.755456805229187,
          0.6991310119628906,
          0.7013150453567505,
          0.6583777666091919,
          0.6730931401252747,
          0.5930479764938354,
          0.6687045097351074,
          0.7098361253738403,
          0.664769172668457,
          0.6937147378921509,
          0.6497719287872314,
          0.7416549921035767,
          0.7701361179351807,
          0.7022186517715454,
          0.8134733438491821,
          0.5465151071548462,
          0.6745925545692444,
          0.6984817981719971,
          0.6667559146881104,
          0.5096163749694824,
          0.718817412853241,
          0.7146784067153931,
          0.7139522433280945,
          0.6929928064346313,
          0.7188119292259216,
          0.7260687947273254,
          0.7236758470535278,
          0.6745201945304871,
          0.6547960638999939,
          0.7168862819671631,
          0.7143259048461914,
          0.6977628469467163,
          0.6737837791442871,
          0.7115094065666199,
          0.6973447799682617,
          0.6784099340438843,
          0.6301320195198059,
          0.7175347805023193,
          0.5874911546707153,
          0.6930352449417114,
          1.4942007064819336,
          0.679152250289917,
          0.6890219449996948,
          0.6353806257247925,
          0.4589275121688843,
          0.7070260047912598,
          0.7066287994384766,
          0.5831879377365112,
          0.696537435054779,
          0.7064862251281738,
          0.7198896408081055,
          0.6773002743721008,
          0.6820206642150879,
          0.6502803564071655,
          0.5880160331726074,
          0.7735207080841064,
          0.6943227648735046,
          0.6563383340835571,
          0.8468660116195679,
          0.6875842809677124,
          3.640024185180664,
          0.7104436159133911,
          0.5209843516349792,
          0.6640905141830444,
          0.7314021587371826,
          0.7077773809432983,
          0.7027949690818787,
          0.6779584288597107,
          0.704963207244873,
          0.7116762399673462,
          0.6746017336845398,
          0.642636239528656,
          0.548568844795227,
          0.7662301063537598,
          0.7164170742034912,
          0.6674224138259888,
          0.7948455810546875,
          0.7160630226135254,
          0.7187925577163696,
          0.6824594736099243,
          0.738136887550354,
          0.6536428928375244,
          0.6739857792854309,
          0.707869827747345,
          0.6720770597457886,
          0.698054850101471,
          0.6896713972091675,
          0.6083943247795105,
          0.7101187109947205,
          0.6733396053314209,
          0.7185306549072266,
          0.6573102474212646,
          0.688065767288208,
          0.7636692523956299,
          0.4304998219013214,
          0.7196672558784485,
          0.6988437175750732,
          0.7224225997924805,
          0.6809118986129761,
          0.6924043297767639,
          0.8016579151153564,
          0.7178280353546143,
          0.6664795875549316,
          0.6899876594543457,
          0.707815408706665,
          0.689347505569458,
          0.6765628457069397,
          0.6657814979553223,
          0.5433919429779053,
          0.7284420132637024,
          0.703130841255188,
          0.8520910739898682,
          0.7204415798187256,
          0.7362030744552612,
          0.7576756477355957,
          0.6321560144424438,
          0.696770429611206,
          0.7956956028938293,
          0.6808433532714844,
          0.7252594232559204,
          0.6473370790481567,
          0.6801391839981079,
          0.7410284280776978,
          0.6291160583496094,
          0.7403627634048462,
          0.6781857013702393,
          0.6708546876907349,
          0.7032557725906372,
          0.673902153968811,
          0.694493293762207,
          0.7169904708862305,
          0.6786930561065674,
          0.7266925573348999,
          0.7678425312042236,
          0.7164627909660339,
          0.6582266092300415,
          0.5762498378753662,
          0.6923190951347351,
          0.7338802218437195,
          0.7167088985443115,
          0.7261821627616882,
          0.6697275638580322,
          0.7502917051315308,
          0.6970101594924927,
          0.6993147134780884,
          0.6875188946723938,
          0.7288323640823364,
          0.7055344581604004,
          0.7154498100280762,
          0.7600948214530945,
          0.6688448786735535,
          0.6593693494796753,
          0.5420536994934082,
          0.7051456570625305,
          0.7455439567565918,
          0.670469343662262,
          0.6610368490219116,
          0.708867073059082,
          0.7660744786262512,
          0.9366705417633057,
          0.7064698934555054,
          0.7168671488761902,
          0.6678879261016846,
          0.6908895969390869,
          0.683283805847168,
          0.617661714553833,
          0.627103328704834,
          0.6851339340209961,
          0.9992402791976929,
          0.7117853164672852,
          0.6604896187782288,
          0.7285515069961548,
          0.6694010496139526,
          0.7410383224487305,
          0.752588152885437,
          0.7673859596252441,
          0.6883702278137207,
          0.6788380146026611,
          0.44353386759757996,
          0.4745927155017853,
          1.1034464836120605,
          0.7225040197372437,
          0.6716134548187256,
          0.6976957321166992,
          0.6923078298568726,
          0.9135348200798035,
          0.701799750328064,
          0.6829553842544556,
          0.6570537090301514,
          0.6996525526046753,
          0.7586802244186401,
          0.7396591901779175,
          0.7233697175979614,
          0.6959704160690308,
          0.6852833032608032,
          0.6958346366882324,
          0.7045208811759949,
          0.8041340112686157,
          0.6779940128326416,
          0.7161221504211426,
          0.6940654516220093,
          0.683504581451416,
          0.6878693699836731,
          0.7066673040390015,
          0.6794744729995728,
          0.6919968128204346,
          0.7036658525466919,
          0.6377366185188293,
          0.6383436918258667,
          0.6558815240859985,
          0.6947093605995178,
          0.7155678272247314,
          0.652690589427948,
          0.7005931735038757,
          0.6872180104255676,
          0.673678457736969,
          0.6652683019638062,
          0.6980059742927551,
          0.7022636532783508,
          0.6606753468513489,
          0.7342953681945801,
          0.429378867149353,
          0.681136429309845,
          0.6852258443832397,
          0.7168239951133728,
          0.7309802770614624,
          0.6362032890319824,
          0.694398045539856,
          0.6750601530075073,
          0.675887942314148,
          0.6882109642028809,
          0.6725107431411743,
          0.6654037237167358,
          0.7086055278778076,
          0.6757253408432007,
          0.5754155516624451,
          0.7385118007659912,
          0.7006521224975586,
          0.6885616779327393,
          0.5543913841247559,
          0.6453428268432617,
          0.6652551889419556,
          0.7206389307975769,
          0.672402560710907,
          0.6843839883804321,
          0.7497121095657349,
          0.7837857007980347,
          0.6652710437774658,
          0.6880598068237305,
          0.9139983057975769,
          0.7077992558479309,
          0.7238408327102661,
          0.7632821798324585,
          0.671764075756073,
          0.659740149974823,
          0.6414699554443359,
          0.6858838796615601,
          0.6949083209037781,
          0.6479043960571289,
          0.7307813763618469,
          0.6845764517784119,
          0.7479900121688843,
          0.7431654930114746,
          0.7683063745498657,
          0.7261219024658203,
          0.7648003101348877,
          0.6902389526367188,
          0.7335668802261353,
          0.6863417625427246,
          0.7412621974945068,
          0.7231485843658447,
          0.6749502420425415,
          0.7311947345733643,
          0.6929728984832764,
          0.6920309066772461,
          0.7140925526618958,
          0.9080030918121338,
          0.6998008489608765,
          0.710328221321106,
          0.6831512451171875,
          0.7051293849945068,
          0.6796161532402039,
          0.711117148399353,
          0.660256564617157,
          0.6810649633407593,
          0.6806024312973022,
          0.6813482046127319,
          0.6588680744171143,
          0.7713222503662109,
          0.6430867910385132,
          0.6167616844177246,
          0.6968806982040405,
          0.7499207258224487,
          0.511285662651062,
          0.6977848410606384,
          0.598324716091156,
          0.7813737988471985,
          0.7673344612121582,
          0.7198601365089417,
          0.6815732717514038,
          0.7371230125427246,
          0.6810590028762817,
          0.735344648361206,
          0.7164273858070374,
          0.6307258605957031,
          0.7084798216819763,
          0.9722305536270142,
          0.6753917932510376,
          0.6287081241607666,
          0.6889203786849976,
          0.7012643814086914,
          0.7376958131790161,
          0.7034545540809631,
          0.6679799556732178,
          0.6641427278518677,
          0.7222321629524231,
          0.6814976334571838,
          0.6825228929519653,
          0.6723697781562805,
          0.6689636707305908,
          0.7009660005569458,
          0.6824710369110107,
          0.7078589200973511,
          0.7310781478881836,
          0.7010681629180908,
          0.6834670305252075,
          0.690280556678772,
          0.6895556449890137,
          0.6712985038757324,
          0.7150309085845947,
          0.6859627366065979,
          0.7341142892837524,
          0.7872624397277832,
          0.7317756414413452,
          0.6718597412109375,
          0.72156822681427,
          0.5628901124000549,
          0.7239619493484497,
          0.6927267909049988,
          0.6304828524589539,
          0.6700634956359863,
          0.7022453546524048,
          0.7077513337135315,
          0.6608937382698059,
          0.6843616962432861,
          0.6866967678070068,
          0.7249523401260376,
          0.6926560401916504,
          0.706130862236023,
          0.6989070177078247,
          0.6437537670135498,
          0.7236150503158569,
          0.6904782056808472,
          0.6772909164428711,
          0.7138128280639648,
          0.7202140092849731,
          0.6612615585327148,
          0.6895962357521057,
          0.804388165473938,
          0.7058491706848145,
          0.5747126340866089,
          0.7016626000404358,
          0.6941801905632019,
          0.5854830145835876,
          0.6179459095001221,
          0.695305347442627,
          0.67724609375,
          0.7433078289031982,
          0.6855213642120361,
          0.691848874092102,
          0.6561204195022583,
          0.8995316624641418,
          0.6517620086669922,
          0.38670507073402405,
          0.670653760433197,
          0.7027275562286377,
          0.7469180822372437,
          0.6697795987129211,
          0.8438271284103394,
          0.6888151168823242,
          0.6879099607467651,
          0.7191336154937744,
          0.6952605247497559,
          0.6772147417068481,
          0.7292990684509277,
          0.703281819820404,
          0.5605236291885376,
          0.6218445301055908,
          0.7727670669555664,
          0.5809158086776733,
          0.7507244348526001,
          0.710752010345459,
          0.6634349822998047,
          0.7648648619651794,
          0.6851968169212341,
          0.3638429641723633,
          0.6916581392288208,
          0.6810787320137024,
          0.707402765750885,
          0.7575098276138306,
          0.6793522834777832,
          0.7341251373291016,
          0.714011549949646,
          0.8405761122703552,
          0.662211537361145,
          0.6325673460960388,
          0.6701938509941101,
          0.6423285603523254,
          0.6874818801879883,
          0.7312939167022705,
          0.6773325204849243,
          0.8273720741271973,
          0.7449057698249817,
          0.6321773529052734,
          0.6831837892532349,
          0.6542516946792603,
          0.7332226634025574,
          0.690820574760437,
          0.7328497171401978,
          0.7023513913154602,
          0.6602388620376587,
          0.7235853672027588,
          0.706784725189209,
          0.683685302734375,
          0.6183004379272461,
          0.6241752505302429,
          0.6708831787109375,
          0.6841329336166382,
          0.7008547782897949,
          0.7341663837432861,
          0.642551064491272,
          0.7569031715393066,
          0.7194121479988098,
          0.6331304311752319,
          0.6898135542869568,
          0.6998067498207092,
          0.6864725351333618,
          0.7450555562973022,
          0.7416597604751587,
          0.6941397190093994,
          0.7338588237762451,
          0.719917356967926,
          0.7221516370773315,
          0.7067791223526001,
          0.7195823192596436,
          0.5501213073730469,
          0.7040542364120483,
          0.6939315795898438,
          0.683767557144165,
          0.7105207443237305,
          0.6836779117584229,
          0.7005237936973572,
          0.672888994216919,
          0.7183212637901306,
          0.6258870363235474,
          0.7137213945388794,
          0.7432661056518555,
          0.6129028797149658,
          0.6657243967056274,
          0.6846773028373718,
          0.7384806275367737,
          0.7346978783607483,
          0.6732900142669678,
          0.635646641254425,
          1.0720441341400146,
          0.6555603742599487,
          0.6499710083007812,
          0.38629990816116333,
          0.7822105288505554,
          0.707962155342102,
          0.6818574666976929,
          0.7700598239898682,
          0.4203069806098938,
          0.6874435544013977,
          0.7074552178382874,
          0.7102811336517334,
          0.93777996301651,
          0.6897964477539062,
          0.6852023601531982,
          0.6962094306945801,
          0.6425818204879761,
          0.7335894107818604,
          0.6978281736373901,
          1.816354513168335,
          0.7315325736999512,
          0.7113057374954224,
          0.7500267028808594,
          0.6800848245620728,
          0.7277514934539795,
          0.6542737483978271,
          0.6772165298461914,
          0.6872919797897339,
          0.686560869216919,
          0.5271296501159668,
          0.5132268667221069,
          0.7809267044067383,
          0.6902428865432739,
          0.695279061794281,
          0.7537052631378174,
          0.7360644936561584,
          0.8358219265937805,
          0.672627866268158,
          0.6867260932922363,
          0.6593422293663025,
          1.0545032024383545,
          0.6941168308258057,
          0.6485682725906372,
          0.6791194677352905,
          0.661623477935791,
          0.8217015266418457,
          0.7099857330322266,
          0.6943964958190918,
          0.6808394193649292,
          0.6437748670578003,
          0.6191162467002869,
          0.7669289708137512,
          0.6749930381774902,
          0.7004492282867432,
          0.6737386584281921,
          0.7005733251571655,
          0.6498809456825256,
          0.634437084197998,
          0.8416179418563843,
          0.7108129858970642,
          0.6795905828475952,
          0.7897388935089111,
          0.6890993118286133,
          0.7083181142807007,
          0.6751635074615479,
          0.6880362629890442,
          0.6734089255332947,
          0.5256832838058472,
          0.7336523532867432,
          0.7119554281234741,
          0.6636468768119812,
          0.7343387603759766,
          0.6979784369468689,
          0.712714433670044,
          0.7247523665428162,
          0.7309421300888062,
          0.7249786853790283,
          0.5456782579421997,
          0.7008028030395508,
          0.6973409652709961,
          0.7424734830856323,
          0.7027270793914795,
          0.6732827425003052,
          0.695725679397583,
          0.6573159694671631,
          0.721466600894928,
          0.7087465524673462,
          0.6713166832923889,
          0.7458850741386414,
          0.6936176419258118,
          0.6844428777694702,
          0.7270760536193848,
          0.6257804036140442,
          0.3186136484146118,
          0.6733296513557434,
          0.6896927952766418,
          0.6820645332336426,
          0.8662184476852417,
          0.7128868699073792,
          0.6883945465087891,
          0.6977733969688416,
          0.37737882137298584,
          0.7003649473190308,
          0.6690835952758789,
          0.6734834909439087,
          0.691791296005249,
          0.6648654341697693,
          0.6937911510467529,
          0.6621626019477844,
          0.7415829300880432,
          0.7232624292373657,
          0.6801538467407227,
          0.6935423612594604,
          0.6649887561798096,
          0.6734042167663574,
          0.7129720449447632,
          0.6788238286972046,
          0.4714858829975128,
          0.6077301502227783,
          0.6705313324928284,
          0.7047380208969116,
          0.6956090331077576,
          0.6927168965339661,
          0.6976578235626221,
          0.7165834903717041,
          0.6964077353477478,
          0.6606475114822388,
          0.7530897259712219,
          0.7416697144508362,
          0.7410905361175537,
          0.6722182631492615,
          0.699653148651123,
          0.6852636933326721,
          0.7049275040626526,
          0.6961655616760254,
          0.6890472173690796,
          0.7039315104484558,
          0.6587878465652466,
          0.7594227194786072,
          0.6949928402900696,
          0.712472677230835,
          0.6904582977294922,
          0.6902509927749634,
          0.6804171800613403,
          0.7106120586395264,
          0.7566447257995605,
          0.706708550453186,
          0.7113497257232666,
          0.673635721206665,
          0.6862919330596924,
          0.6761758327484131,
          0.7038804292678833,
          0.7318747639656067,
          0.6966156363487244,
          0.6744388341903687,
          0.7035278677940369,
          0.731315016746521,
          0.7016067504882812,
          0.7101622819900513,
          0.7493834495544434,
          0.7473234534263611,
          0.7123228311538696,
          0.6609612703323364,
          0.6822361946105957,
          0.7530879974365234,
          0.6892391443252563,
          0.6927224397659302,
          0.6868159770965576,
          0.6887465715408325,
          0.6956686973571777,
          0.694257378578186,
          2.002685308456421,
          0.6644477844238281,
          0.6812542676925659,
          0.6723233461380005,
          0.6930716037750244,
          0.6813716888427734,
          0.7640423774719238,
          0.6871614456176758,
          0.5575600862503052,
          0.7197218537330627,
          0.5676252841949463,
          0.7154946327209473,
          0.6694368124008179,
          0.632732093334198,
          0.6884570717811584,
          0.7362943887710571,
          0.6984660625457764,
          0.7313898205757141,
          0.7186218500137329,
          0.738396167755127,
          0.6583232283592224,
          0.6819738149642944,
          0.615106463432312,
          0.7483541965484619,
          0.7228853702545166,
          0.7142595052719116,
          0.7031040191650391,
          0.679808497428894,
          0.6141149997711182,
          0.7079106569290161,
          0.706453263759613,
          0.6999648809432983,
          0.7164670825004578,
          0.6895045042037964,
          0.6803648471832275,
          0.7273309230804443,
          0.6719338297843933,
          0.7521647214889526,
          0.7136212587356567,
          0.6882138252258301,
          0.6858175992965698,
          0.6846921443939209,
          0.7107935547828674,
          0.7236834168434143,
          0.6755878925323486,
          0.6833748817443848,
          0.6902464628219604,
          0.7079426050186157,
          0.6560732126235962,
          0.6874158382415771,
          0.6693801283836365,
          0.6871362924575806,
          0.6781694293022156,
          0.7120774984359741,
          0.7518497705459595,
          0.7247413396835327,
          0.6596899032592773,
          0.7079349160194397,
          0.7073612809181213,
          0.6687835454940796,
          0.6865391731262207,
          0.6967236995697021,
          0.7313306331634521,
          0.6960425972938538,
          0.6876330971717834,
          0.785169780254364,
          0.7124775648117065,
          0.72472083568573,
          0.6875767707824707,
          0.7133303284645081,
          0.9886460900306702,
          0.8519793748855591,
          0.679009735584259,
          0.6773714423179626,
          0.6952273845672607,
          0.684685230255127,
          0.6914471983909607,
          0.6993551254272461,
          0.6600314378738403,
          0.6903159618377686,
          0.6984413862228394,
          0.7272129654884338,
          0.6924664974212646,
          0.6696465015411377,
          0.7040960788726807,
          0.7141283750534058,
          0.7312861680984497,
          0.6666437387466431,
          0.6506729125976562,
          0.6594719290733337,
          0.7145043611526489,
          0.6684560775756836,
          0.5697116851806641,
          0.702518880367279,
          0.6788018941879272,
          0.6791460514068604,
          0.6844502091407776,
          0.7139391899108887,
          0.6672930717468262,
          0.7190636992454529,
          0.6857744455337524,
          0.690117359161377,
          0.7071036100387573,
          0.699248731136322,
          0.6777859926223755,
          0.7001484632492065,
          0.6932599544525146,
          0.6571620106697083,
          0.6900507807731628,
          0.6751369833946228,
          0.6923631429672241,
          0.6743948459625244,
          0.6132954359054565,
          0.7286955118179321,
          0.7068203091621399,
          0.6677373051643372,
          0.7339863777160645,
          0.6946035623550415,
          0.6902603507041931,
          0.6689637303352356,
          0.7045090198516846,
          0.7311828136444092,
          0.6960446834564209,
          0.6936159133911133,
          0.7165071368217468,
          0.7101401090621948,
          0.6308341026306152,
          0.6945651173591614,
          0.6751628518104553,
          0.7098738551139832,
          0.59132981300354,
          0.7135101556777954,
          0.6873918175697327,
          0.657583475112915,
          0.6861454248428345,
          0.6628088355064392,
          0.6157821416854858,
          0.719904899597168,
          0.7072441577911377,
          0.6652570962905884,
          0.6815375089645386,
          0.5545921325683594,
          0.7050089240074158,
          0.7040283679962158,
          0.6822384595870972,
          0.6993907690048218,
          0.6799999475479126,
          0.6856817007064819,
          0.6776564121246338,
          0.7052270174026489,
          0.6276756525039673,
          0.7029989361763,
          0.7201410531997681,
          0.41845467686653137,
          0.6985486745834351,
          0.6811184883117676,
          0.6870126724243164,
          0.7073670625686646,
          0.6732233762741089,
          0.6602686643600464,
          0.7369818687438965,
          0.6681407690048218,
          0.752880334854126,
          0.6565808057785034,
          0.6974391937255859,
          0.6780908107757568,
          0.6807528734207153,
          1.202910304069519,
          0.6424370408058167,
          0.6851546764373779,
          0.5595266819000244,
          0.6569260358810425,
          0.6931219100952148,
          1.1438775062561035,
          0.721316933631897,
          0.6988649368286133,
          0.63759446144104,
          0.7127178907394409,
          0.678560733795166,
          0.6997010707855225,
          0.7091231942176819,
          0.6699784994125366,
          0.7054120898246765,
          0.7191798686981201,
          0.7254545092582703,
          0.7082504630088806,
          0.7045766115188599,
          0.6844052672386169,
          0.7464077472686768,
          0.743938684463501,
          0.7443044185638428,
          0.7141386270523071,
          0.66628098487854,
          0.7028858661651611,
          0.786623477935791,
          0.7015301585197449,
          0.6876792907714844,
          0.6150850057601929,
          0.747525691986084,
          0.719330906867981,
          0.6371638774871826,
          0.6667414903640747,
          0.7690541744232178,
          0.6798245906829834,
          0.7060844898223877,
          0.5878992676734924,
          0.7166117429733276,
          0.6998940706253052,
          0.6514861583709717,
          0.7184421420097351,
          0.6889420747756958,
          0.6807854175567627,
          0.6769644021987915,
          0.7255321741104126,
          0.7489290237426758,
          0.706891655921936,
          0.6959573030471802,
          0.6846263408660889,
          0.6843357086181641,
          0.691757321357727,
          0.8731451630592346,
          0.672080397605896,
          0.6864315271377563,
          0.6925258636474609,
          0.7009583711624146,
          0.6565166711807251,
          0.7088829278945923,
          0.6733479499816895,
          0.6976497769355774,
          0.7727552652359009,
          0.3751782774925232,
          0.7358517050743103,
          0.7009960412979126,
          0.6821006536483765,
          0.748266339302063,
          0.7383073568344116,
          0.6808174252510071,
          0.6794983744621277,
          0.7584125399589539,
          0.72896409034729,
          0.6797131299972534,
          0.8053193688392639,
          0.6886321902275085,
          0.6710593700408936,
          0.5278640985488892,
          0.717214822769165,
          0.6943411827087402,
          0.7390915155410767,
          0.6926677227020264,
          0.7124836444854736,
          0.659153938293457,
          0.7135640382766724,
          0.6707260608673096,
          0.7302306890487671,
          0.6888477802276611,
          0.6937679052352905,
          0.6905155181884766,
          0.6897991299629211,
          0.7426628470420837,
          0.6924658417701721,
          0.68980473279953,
          0.7106781005859375,
          0.675225555896759,
          0.6921005845069885,
          0.6836878061294556,
          0.7508436441421509,
          0.6673861742019653,
          0.9076794385910034,
          0.6747720241546631,
          0.7129141092300415,
          0.7329998016357422,
          0.7490878105163574,
          0.6820509433746338,
          0.7169266939163208,
          0.6875045299530029,
          0.6796697974205017,
          0.70670485496521,
          0.6979101300239563,
          0.7072733640670776,
          0.7061557769775391,
          0.6726018190383911,
          0.6709073781967163,
          0.7731928825378418,
          0.6773520112037659,
          0.6721701622009277,
          0.6881071925163269,
          0.6903858184814453,
          0.6835862398147583,
          0.7174345254898071,
          0.6841896772384644,
          0.6761336326599121,
          0.7053606510162354,
          0.671126127243042,
          0.7024125456809998,
          0.6665207743644714,
          0.7124050855636597,
          0.7089393138885498,
          0.7097153663635254,
          0.6897614002227783,
          0.6920685172080994,
          0.6784777641296387,
          0.7143906354904175,
          0.6946556568145752,
          0.7227403521537781,
          0.6430336236953735,
          0.6963486671447754,
          0.42727693915367126,
          0.6830691695213318,
          0.6914077997207642,
          0.6677735447883606,
          0.7041284441947937,
          0.6871193647384644,
          0.7082765698432922,
          0.6589788198471069,
          0.7222634553909302,
          0.6630936861038208,
          0.7051357626914978,
          0.7185802459716797,
          0.6384233236312866,
          0.709660530090332,
          0.6990004777908325,
          0.3889525532722473,
          0.7236698865890503,
          0.7045141458511353,
          0.683205246925354,
          0.7231650948524475,
          0.7760276794433594,
          0.6710357666015625,
          0.666142463684082,
          0.4959750473499298,
          0.7291426658630371,
          0.4003479778766632,
          0.7339043617248535,
          0.7564595341682434,
          0.6775137186050415,
          0.7257624864578247,
          0.6943870782852173,
          0.6772421598434448,
          0.6766774654388428,
          0.7168519496917725,
          0.691234827041626,
          0.6828029155731201,
          0.6564708948135376,
          0.6998388767242432,
          0.6890231370925903,
          0.6666074991226196,
          0.7295805215835571,
          0.6747009754180908,
          0.7731152772903442,
          0.6562357544898987,
          0.7034899592399597,
          0.7201023101806641,
          0.7181277871131897,
          0.7040696144104004,
          0.6772100925445557,
          0.6475604772567749,
          0.4118211567401886,
          0.6808230876922607,
          0.6959254741668701,
          0.7113171815872192,
          0.7064470648765564,
          0.7197784185409546,
          0.7422465682029724,
          0.7038026452064514,
          0.6989014148712158,
          0.6814428567886353,
          0.7419534921646118,
          0.7084426879882812,
          0.6877226829528809,
          0.7032251358032227,
          0.7070873379707336,
          0.7467708587646484,
          0.7370137572288513,
          0.6920785903930664,
          0.6444563865661621,
          0.6708189249038696,
          0.696390688419342,
          0.6694728136062622,
          0.6595587730407715,
          0.643207311630249,
          0.33248862624168396,
          0.7347882986068726,
          0.712973952293396,
          0.7292372584342957,
          0.6647634506225586,
          0.7022783160209656,
          0.70281982421875,
          0.7059914469718933,
          0.6782448887825012,
          0.7160506248474121,
          0.7523723840713501,
          0.7029522657394409,
          0.6927348971366882,
          0.6834803223609924,
          0.660427451133728,
          0.6857663989067078,
          0.6725338697433472,
          0.6971899271011353,
          0.686084508895874,
          0.695812463760376,
          0.6678839921951294,
          0.7132720351219177,
          0.700027585029602,
          0.6731336116790771,
          0.6930365562438965,
          0.7399177551269531,
          0.7007876634597778,
          1.0045576095581055,
          0.7235212326049805,
          0.6665545701980591,
          2.1943178176879883,
          0.5394605398178101,
          0.9049108624458313,
          0.688737690448761,
          0.6920855045318604,
          0.6649460196495056,
          0.7275155782699585,
          0.6944009065628052,
          0.6969700455665588,
          0.6648520827293396,
          0.7101672887802124,
          0.6896847486495972,
          0.683027982711792,
          0.7213000059127808,
          0.7261790037155151,
          0.7298431992530823,
          0.6770684719085693,
          0.6639617681503296,
          0.6732227802276611,
          0.6674304008483887,
          0.6552541255950928,
          0.7045971751213074,
          0.6847307682037354,
          0.7225080728530884,
          0.4902785122394562,
          0.672085165977478,
          0.9092397689819336,
          0.6949582099914551,
          0.6978473663330078,
          0.6766682863235474,
          0.7036683559417725,
          0.7489262223243713,
          0.7053331136703491,
          0.6935595273971558,
          0.7099913358688354,
          0.6604908108711243,
          0.7367987632751465,
          0.6975038051605225,
          0.7260875701904297,
          0.6888387203216553,
          0.7175160646438599,
          0.7214493751525879,
          0.7101354598999023,
          0.6999765038490295,
          0.6834631562232971,
          0.6703636646270752,
          0.7488343715667725,
          0.6994874477386475,
          0.702633261680603,
          0.8240679502487183,
          0.7276186347007751,
          0.6813910603523254,
          0.7231483459472656,
          0.7295631170272827,
          0.6662224531173706,
          0.7095350027084351,
          0.7075501680374146,
          0.6668968200683594,
          0.672301173210144,
          0.6987463235855103,
          0.6953518390655518,
          0.6924868226051331,
          0.6791011691093445,
          0.6389098167419434,
          0.42020902037620544,
          0.6190347671508789,
          1.1983485221862793,
          0.6542321443557739,
          0.7298807501792908,
          0.7280094623565674,
          0.8056665658950806,
          0.6971569061279297,
          0.7193013429641724,
          0.7113206386566162,
          0.695732593536377,
          0.7071568965911865,
          0.7241923809051514,
          0.6769543886184692,
          0.7122060060501099,
          0.6030997037887573,
          0.6616460084915161,
          0.6740689277648926,
          0.688096284866333,
          0.7584343552589417,
          0.6687813997268677,
          0.6990407705307007,
          0.7238778471946716,
          0.6775741577148438,
          0.6591759920120239,
          0.710558295249939,
          0.6833404898643494,
          0.6600019335746765,
          0.7045305967330933,
          0.6948410272598267,
          0.6632541418075562,
          0.6950666308403015,
          0.7006537914276123,
          0.6565691828727722,
          0.7800001502037048,
          0.7246719598770142,
          0.7099175453186035,
          0.6928939819335938,
          0.6621742844581604,
          0.6902134418487549,
          0.7297680974006653,
          0.6211354732513428,
          0.7418039441108704,
          0.6951795816421509,
          0.8308607935905457,
          0.6582388877868652,
          0.677689254283905,
          0.6984917521476746,
          0.675623893737793,
          0.7120540142059326,
          0.6930187940597534,
          0.6984351873397827,
          0.7305749654769897,
          0.6714407801628113,
          0.6797683835029602,
          0.6805252432823181,
          0.696540117263794,
          0.718453049659729,
          0.6955714225769043,
          0.7136815786361694,
          0.6801003217697144,
          0.6692520380020142,
          0.729465126991272,
          0.758915901184082,
          0.6911303997039795,
          0.6636701822280884,
          0.7010042667388916,
          0.691824734210968,
          0.6788792014122009,
          0.6762410402297974,
          0.6908191442489624,
          0.7126400470733643,
          0.7439755201339722,
          0.6700417399406433,
          0.7168107628822327,
          0.6665819883346558,
          0.6866734027862549,
          0.6815239191055298,
          0.6825329065322876,
          0.7014977931976318,
          0.7914199829101562,
          0.6993928551673889,
          0.6665636897087097,
          0.7407064437866211,
          0.7294240593910217,
          0.7222368121147156,
          0.7520565986633301,
          0.7709470987319946,
          0.7007079124450684,
          0.6436880826950073,
          0.71636962890625,
          0.6660425662994385,
          0.6975141763687134,
          0.7243744134902954,
          0.6951681971549988,
          0.6690635681152344,
          0.44226154685020447,
          0.5606619715690613,
          0.6724928617477417,
          0.6925719976425171,
          0.7966749668121338,
          0.662443220615387,
          0.6577444672584534,
          0.6687119007110596,
          1.5356754064559937,
          0.7015103101730347,
          0.6976054906845093,
          0.6973929405212402,
          0.6930466890335083,
          0.6701789498329163,
          0.6963480710983276,
          0.6789292097091675,
          0.7055878639221191,
          0.6854315996170044,
          0.6775310039520264,
          0.5673725605010986,
          0.6822972297668457,
          0.5134387016296387,
          0.7031357288360596,
          0.6025022268295288,
          0.699388861656189,
          0.7070540189743042,
          0.691582441329956,
          0.6851714849472046,
          0.6958726644515991,
          0.7100117206573486,
          0.6909804344177246,
          0.6857165098190308,
          0.8580875396728516,
          0.6841596364974976,
          0.7035484313964844,
          0.6822039484977722,
          0.7122316360473633,
          0.7293210029602051,
          0.6842794418334961,
          0.7286486029624939,
          0.6831846237182617,
          0.7236825227737427,
          0.6633554697036743,
          0.7178947925567627,
          0.7120769023895264,
          0.6759669184684753,
          0.6808267831802368,
          1.5254228115081787,
          0.6918501853942871,
          0.6995700001716614,
          0.7055289149284363,
          0.6855722665786743,
          0.7100427746772766,
          0.69057297706604,
          0.6811904907226562,
          0.6703963875770569,
          0.6878634095191956,
          0.6949468851089478,
          0.7173571586608887,
          0.6982682943344116,
          0.6753994226455688,
          0.6678110957145691,
          0.7078717947006226,
          0.6660398244857788,
          1.018545389175415,
          0.6839942932128906,
          0.6852749586105347,
          0.6780235171318054,
          0.6765575408935547,
          0.6562129259109497,
          0.6924712657928467,
          0.7391074895858765,
          0.5450165867805481,
          0.7438034415245056,
          0.7234247326850891,
          0.7110328674316406,
          0.6772432327270508,
          0.7336077690124512,
          0.6742517352104187,
          0.6952204704284668,
          0.6912074089050293,
          0.719115138053894,
          0.7237046360969543,
          0.7038429975509644,
          0.7015533447265625,
          0.6851456761360168,
          0.6859195232391357,
          0.6767463088035583,
          0.7442753911018372,
          0.6723850965499878,
          0.6965913772583008,
          0.6560672521591187,
          0.6756099462509155,
          0.7324290871620178,
          0.7046176791191101,
          0.6884198188781738,
          0.7016171813011169,
          1.0274726152420044,
          0.7047760486602783,
          0.6992502212524414,
          0.694290280342102,
          0.7277927994728088,
          0.6577377915382385,
          0.6866801381111145,
          0.6760114431381226,
          0.6954627633094788,
          0.6759154796600342,
          0.6993931531906128,
          0.7039476633071899,
          0.7039675712585449,
          0.6868804097175598,
          1.6085658073425293,
          0.7396296858787537,
          0.6779311895370483,
          0.636759877204895,
          0.6591060161590576,
          0.6726469397544861,
          0.7190965414047241,
          0.7081719040870667,
          0.7122384905815125,
          0.6794184446334839,
          0.679120659828186,
          0.6467829942703247,
          0.6867024302482605,
          0.7027915716171265,
          0.3518172800540924,
          0.7248309850692749,
          0.7093098163604736,
          0.6837807297706604,
          0.4630934000015259,
          0.6965196132659912,
          0.6757895946502686,
          0.6583772897720337,
          0.7220398783683777,
          0.6960066556930542,
          0.6996594667434692,
          0.7059985399246216,
          0.6849007606506348,
          0.6908547878265381,
          0.8181057572364807,
          1.4405823945999146,
          0.45263493061065674,
          0.6736207008361816,
          0.6731500625610352,
          0.46986570954322815,
          0.6897101402282715,
          0.6289353370666504,
          0.7268110513687134,
          0.5942102074623108,
          0.6750161647796631,
          0.7509291768074036,
          0.6953997015953064,
          0.6950682401657104,
          0.7101921439170837,
          0.7581814527511597,
          0.7362730503082275,
          1.0036067962646484,
          0.7027455568313599,
          0.6893765926361084,
          0.6570487022399902,
          0.6902443170547485,
          0.7019669413566589,
          0.6961039304733276,
          0.4410342574119568,
          0.6780097484588623,
          0.6948292255401611,
          0.6924636363983154,
          0.694736123085022,
          0.7076942920684814,
          0.6871904134750366,
          0.6726316213607788,
          0.7254050970077515,
          0.6916031837463379,
          0.7316619157791138,
          0.7291284799575806,
          0.696931004524231,
          0.6713504791259766,
          0.6912972927093506,
          0.7165078520774841,
          0.7460361123085022,
          0.7018919587135315,
          0.6672408580780029,
          0.6679811477661133,
          0.712121307849884,
          0.719241738319397,
          0.6451066732406616,
          0.6951520442962646,
          0.7480549812316895,
          0.6921639442443848,
          0.675482988357544,
          0.6472439169883728,
          0.6797369718551636,
          0.690657377243042,
          0.6964976191520691,
          0.6936907768249512,
          0.71444171667099,
          0.7082371711730957,
          0.7009232044219971,
          0.7051875591278076,
          1.059572696685791,
          0.669840931892395,
          0.715054452419281,
          0.6845288872718811,
          0.7349324226379395,
          0.37323862314224243,
          1.5846688747406006,
          0.6889338493347168,
          0.6926022171974182,
          0.6864816546440125,
          0.7090304493904114,
          0.6943203806877136,
          0.69782555103302,
          0.6915768384933472,
          0.7603356838226318,
          0.6650352478027344,
          0.7103462219238281,
          0.7898381948471069,
          0.699750542640686,
          0.7004088759422302,
          0.9114046096801758,
          0.6762027740478516,
          0.7302956581115723,
          0.7003862857818604,
          0.6770264506340027,
          0.6998733878135681,
          0.7495996952056885,
          0.7126435041427612,
          0.5786935687065125,
          0.7033889889717102,
          0.6983569860458374,
          0.7342261075973511,
          0.6693020462989807,
          0.6642866134643555,
          0.7001661062240601,
          0.6945514678955078,
          0.6818270683288574,
          0.3737452030181885,
          1.7051570415496826,
          0.7454582452774048,
          0.6875983476638794,
          0.7122496366500854,
          0.7004120349884033,
          0.6743826866149902,
          0.6904892921447754,
          0.7105321884155273,
          0.7157902717590332,
          0.7246434688568115,
          0.6919336318969727,
          0.7526659369468689,
          0.7065520882606506,
          0.6804057359695435,
          0.662744402885437,
          0.6996805667877197,
          0.6875104904174805,
          0.6751486659049988,
          0.6882215738296509,
          0.740368127822876,
          0.6972758769989014,
          0.7014692425727844,
          0.6857144832611084,
          1.180371880531311,
          0.6845578551292419,
          0.6279952526092529,
          0.6687067747116089,
          0.6843065023422241,
          0.7651641368865967,
          0.7175170183181763,
          0.7137007117271423,
          0.725073516368866,
          0.6915810108184814,
          0.6927019357681274,
          0.701042652130127,
          0.7279293537139893,
          0.8102986812591553,
          0.6324403285980225,
          0.6826937198638916,
          0.6846559643745422,
          0.7453837990760803,
          0.7524681091308594,
          0.6443071365356445,
          0.7387921810150146,
          0.69147127866745,
          0.6598345041275024,
          0.7761417627334595,
          0.6768670082092285,
          0.7026123404502869,
          0.6961411237716675,
          0.6981745958328247,
          0.721909761428833,
          0.6742779016494751,
          0.6854469776153564,
          0.697500467300415,
          0.6927765607833862,
          0.6558530926704407,
          0.71556556224823,
          0.7159648537635803,
          0.3802582621574402,
          0.6582261919975281,
          0.7138053178787231,
          0.6849567890167236,
          0.6854135990142822,
          0.6851235628128052,
          0.6981973648071289,
          0.6979823112487793,
          0.6910931468009949,
          0.7122817635536194,
          0.6832462549209595,
          0.677558183670044,
          0.7041782140731812,
          0.7025284171104431,
          0.708868682384491,
          0.6946200132369995,
          0.5368466377258301,
          0.6836144328117371,
          0.6878324151039124,
          0.7120766639709473,
          0.6841851472854614,
          0.7045499086380005,
          0.7252486944198608,
          0.6850721836090088,
          0.6904059648513794,
          0.7392252683639526,
          0.6808710694313049,
          0.7207392454147339,
          0.7039551734924316,
          0.7001824378967285,
          0.6780322790145874,
          0.7154073715209961,
          0.6822118759155273,
          0.6917524337768555,
          1.2349467277526855,
          0.7168231010437012,
          0.7106975317001343,
          0.6933931112289429,
          0.6586958169937134,
          0.6816750764846802,
          0.38645830750465393,
          0.6470786929130554,
          0.6827880144119263,
          0.9805963039398193,
          0.6713559031486511,
          0.9617307186126709,
          0.6919434070587158,
          0.665962815284729,
          0.681672990322113,
          0.5949651002883911,
          0.6662402153015137,
          0.6871597766876221,
          0.701827347278595,
          0.6831827759742737,
          0.6953396797180176,
          0.6960557699203491,
          0.6833688020706177,
          0.693893551826477,
          0.6966399550437927,
          0.64875328540802,
          0.6866548657417297,
          0.7155947685241699,
          0.806115448474884,
          0.6739639639854431,
          0.69966721534729,
          0.6679407954216003,
          0.669502854347229,
          0.7070852518081665,
          0.7118408679962158,
          0.7217754125595093,
          0.7220252752304077,
          0.7090644836425781,
          0.6758424043655396,
          0.7011963129043579,
          0.7017423510551453,
          0.5947320461273193,
          0.6915374994277954,
          0.6833183169364929,
          0.6709281206130981,
          0.763042688369751,
          0.9112666845321655,
          0.6970378160476685,
          0.6339204907417297,
          0.6413902044296265,
          0.6948779225349426,
          0.39129936695098877,
          0.695109486579895,
          0.685916543006897,
          0.7162826061248779,
          0.673098623752594,
          0.6534782648086548,
          0.6832917928695679,
          0.7226484417915344,
          0.6691913604736328,
          0.7293069958686829,
          0.7283599376678467,
          0.7374039888381958,
          0.6835422515869141,
          0.683282732963562,
          0.7160342931747437,
          0.724714994430542,
          0.6969250440597534,
          0.6815133690834045,
          0.742512047290802,
          0.5309737920761108,
          0.6866605281829834,
          0.714561939239502,
          0.7685706615447998,
          0.7319047451019287,
          0.7325789928436279,
          0.6851229667663574,
          0.6986721158027649,
          0.498009592294693,
          0.6741243600845337,
          0.9126726984977722,
          0.7283764481544495,
          0.6899609565734863,
          0.6951746940612793,
          0.6898843050003052,
          0.7371879816055298,
          0.7195866107940674,
          0.6994123458862305,
          0.6785127520561218,
          0.6185327768325806,
          0.7068939805030823,
          0.6903989315032959,
          0.6835921406745911,
          0.6801542043685913,
          0.703261137008667,
          0.6693984270095825,
          0.6907943487167358,
          0.6640243530273438,
          0.6914794445037842,
          0.674303412437439,
          0.7088680267333984,
          0.7329381108283997,
          0.6898183822631836,
          0.67604660987854,
          0.9681168794631958,
          0.6599650382995605,
          0.6973671317100525,
          0.7087969779968262,
          0.6693718433380127,
          0.6713966131210327,
          0.6829284429550171,
          0.6913870573043823,
          0.7006653547286987,
          0.6632630825042725,
          0.6567562818527222,
          0.7227704524993896,
          0.6935972571372986,
          0.6807222962379456,
          3.199565887451172,
          0.6996417045593262,
          0.5346732139587402,
          0.6872690916061401,
          0.6860995292663574,
          0.6793730854988098,
          0.6574877500534058,
          0.7051738500595093,
          0.7126405239105225,
          0.6843346357345581,
          0.6525460481643677,
          0.7196303606033325,
          0.6910325288772583,
          0.722043514251709,
          0.6944288015365601,
          0.726026177406311,
          0.7551162242889404,
          0.6819875240325928,
          0.7238768339157104,
          0.7014045715332031,
          0.6549323201179504,
          0.683269739151001,
          0.7093592882156372,
          1.2435543537139893,
          0.7225520610809326,
          0.7694846391677856,
          0.7495643496513367,
          0.7163658142089844,
          0.6887922883033752,
          0.7013320922851562,
          0.7273440957069397,
          0.6833627223968506,
          0.7017232179641724,
          1.2047775983810425,
          0.7166831493377686,
          0.6756606101989746,
          0.7021762728691101,
          0.68039870262146,
          0.4078885018825531,
          2.2253949642181396,
          0.6753126978874207,
          0.7023187875747681,
          0.6849594116210938,
          0.6985245943069458,
          0.6963611841201782,
          0.7015436887741089,
          0.6704124808311462,
          0.68243408203125,
          0.6784201860427856,
          0.6986560225486755,
          0.6989575624465942,
          0.6884765625,
          0.6583759188652039,
          0.6878519058227539,
          0.7262279987335205,
          0.6984633207321167,
          0.720367431640625,
          0.7003893256187439,
          0.6539551019668579,
          0.6684598922729492,
          0.692324161529541,
          0.6756267547607422,
          0.6797313690185547,
          0.7264833450317383,
          0.6582156419754028,
          0.6670091152191162,
          0.7332015037536621,
          0.7325053215026855,
          0.7121553421020508,
          0.6845381855964661,
          0.7060043811798096,
          0.7206148505210876,
          0.6649208664894104,
          0.6910477876663208,
          0.6685043573379517,
          0.6862101554870605,
          0.6659153699874878,
          0.6833804845809937,
          0.675500750541687,
          0.6899744272232056,
          0.6923352479934692,
          0.6707336902618408,
          0.6967631578445435,
          0.6324179172515869,
          0.6898680925369263,
          0.6568130850791931,
          0.6760318279266357,
          0.7237726449966431,
          0.5008435249328613,
          0.6883993148803711,
          0.6988406181335449,
          0.6578515768051147,
          0.6840677261352539,
          0.6970639228820801,
          0.7392617464065552,
          0.7097733020782471,
          0.6840729713439941,
          0.6698312759399414,
          0.6838318109512329,
          0.6895830035209656,
          0.714260458946228,
          0.6963323354721069,
          0.7293897271156311,
          0.6951918601989746,
          0.6493969559669495,
          0.6860439777374268,
          0.6918296813964844,
          0.6933671236038208,
          0.6729789972305298,
          0.6889404058456421,
          0.6804664134979248,
          0.696426510810852,
          0.7032229900360107,
          0.6737582683563232,
          0.6798646450042725,
          0.7014790773391724,
          0.7109183669090271,
          0.7098100185394287,
          0.6797055006027222,
          0.5589390993118286,
          0.6738041639328003,
          0.7100996971130371,
          0.6906836032867432,
          0.46160730719566345,
          0.7084901332855225,
          0.6790350675582886,
          0.7149395942687988,
          0.7134765982627869,
          0.7112132906913757,
          0.6902647018432617,
          0.7325548529624939,
          0.669605016708374,
          0.7174861431121826,
          0.700387716293335,
          0.6699706315994263,
          0.6961629986763,
          0.7174278497695923,
          0.7188550233840942,
          0.7277371883392334,
          0.7270612716674805,
          0.6901458501815796,
          0.6876489520072937,
          0.7072170972824097,
          0.7167533040046692,
          0.6753683090209961,
          0.697960615158081,
          0.6740596294403076,
          0.6642640829086304,
          0.7308956384658813,
          0.6633428335189819,
          0.8189401626586914,
          0.6822943687438965,
          0.7044339179992676,
          0.6491109132766724,
          0.7084031105041504,
          0.7048697471618652,
          0.6565752029418945,
          0.6918971538543701,
          0.7398625612258911,
          0.7005961537361145,
          0.6978539228439331,
          0.6725263595581055,
          0.6998474597930908,
          0.6834947466850281,
          0.7134464979171753,
          0.6678537130355835,
          0.5834127068519592,
          0.6496813297271729,
          0.7016265988349915,
          0.7073788046836853,
          0.7479250431060791,
          0.7095329761505127,
          0.7374475002288818,
          0.6748085021972656,
          0.69191575050354,
          0.7453894019126892,
          0.7252858877182007,
          0.7180871963500977,
          0.6521108150482178,
          0.6903681755065918,
          0.6759609580039978,
          0.6834743022918701,
          0.699355959892273,
          0.6901547908782959,
          0.47109484672546387,
          0.6633908748626709,
          0.7162106037139893,
          0.7270185947418213,
          0.6900075674057007,
          0.6895061731338501,
          0.7114453315734863,
          0.7107977867126465,
          0.6775517463684082,
          0.6931729912757874,
          0.6878786087036133,
          0.708690881729126,
          0.6752199530601501,
          0.6826690435409546,
          0.7336244583129883,
          0.6933347582817078,
          0.7159429788589478,
          0.7019789218902588,
          0.6867450475692749,
          0.6503680944442749,
          0.6746261119842529,
          0.7152847051620483,
          0.6602715253829956,
          0.7061834335327148,
          0.6815675497055054,
          0.6851759552955627,
          0.6695096492767334,
          0.6962484121322632,
          0.7603716850280762,
          0.7065818905830383,
          0.6990377902984619,
          0.6852009296417236,
          0.7094498872756958,
          0.7405813336372375,
          0.6975651979446411,
          0.7040177583694458,
          0.6819891929626465,
          0.5992656350135803,
          0.7006392478942871,
          0.7147085070610046,
          0.7021369934082031,
          0.7283523082733154,
          0.6840100288391113,
          0.6854835152626038,
          0.6564464569091797,
          0.6854681372642517,
          0.7114822864532471,
          0.6849092245101929,
          0.7009823322296143,
          0.6577476263046265,
          0.7129722237586975,
          0.6981915235519409,
          0.6929419040679932,
          0.6775345206260681,
          0.6933757066726685,
          0.7214368581771851,
          0.6489525437355042,
          0.7021347284317017,
          0.5978935360908508,
          0.44285792112350464,
          0.6341748237609863,
          0.6828087568283081,
          0.6831119060516357,
          0.6761188507080078,
          0.6943027973175049,
          0.7020645141601562,
          0.6761057376861572,
          0.8963789939880371,
          0.6692918539047241,
          0.7168208360671997,
          0.6832480430603027,
          0.664912223815918,
          0.6967254281044006,
          0.6833683252334595,
          0.6699051856994629,
          0.9029649496078491,
          0.6763536930084229,
          0.7130294442176819,
          0.6717274188995361,
          0.7066295146942139,
          0.6456650495529175,
          0.6992790699005127,
          0.5164991617202759,
          0.7011967897415161,
          0.5187197327613831,
          0.6436127424240112,
          0.6661942005157471,
          0.7194589376449585,
          0.6805238127708435,
          0.6522772312164307,
          0.690300464630127,
          0.760039210319519,
          0.7104519605636597,
          0.6909016370773315,
          0.7060853242874146,
          0.7271982431411743,
          0.7260023355484009,
          0.6726858615875244,
          0.8051203489303589,
          0.6719628572463989,
          0.7307599186897278,
          0.699010968208313,
          0.6778759956359863,
          0.6903612017631531,
          0.6913368701934814,
          0.7134817838668823,
          0.6659242510795593,
          0.6637578010559082,
          0.7198706865310669,
          0.6884925365447998,
          0.6924261450767517,
          0.7043759822845459,
          0.7220727205276489,
          0.7023046016693115,
          0.6871273517608643,
          0.7286751866340637,
          0.6543271541595459,
          0.7845832705497742,
          0.6832614541053772,
          0.6483400464057922,
          0.7336285710334778,
          0.6698424816131592,
          0.6735427379608154,
          0.7190957069396973,
          0.692744791507721,
          0.416080504655838,
          0.6878126859664917,
          0.687798261642456,
          0.6646915674209595,
          0.665627658367157,
          0.677697479724884,
          0.6935861110687256,
          0.6815588474273682,
          0.6892232894897461,
          0.6891186237335205,
          0.665128767490387,
          0.7026962637901306,
          0.7284291386604309,
          0.691083550453186,
          0.7029252052307129,
          0.6785420179367065,
          0.7046104669570923,
          0.7395004034042358,
          0.9494429230690002,
          0.7214151620864868,
          0.6877977848052979,
          0.6812379956245422,
          0.6878131031990051,
          0.7044597864151001,
          0.6779500246047974,
          0.7026593685150146,
          0.6723626852035522,
          0.6637730598449707,
          0.7125067710876465,
          0.5282950401306152,
          0.6282798051834106,
          0.6756280660629272,
          0.6782487630844116,
          0.6975913047790527,
          0.705644965171814,
          0.6934940814971924,
          0.7155028581619263,
          0.6742433905601501,
          0.709717869758606,
          0.6424105167388916,
          0.6786315441131592,
          0.7658494710922241,
          0.44344568252563477,
          0.6944944262504578,
          0.693463921546936,
          0.6910589933395386,
          0.7132668495178223,
          0.6978031396865845,
          0.7054169774055481,
          0.7005219459533691,
          0.7115645408630371,
          0.6796495914459229,
          0.7123101353645325,
          0.6839091777801514,
          0.7030951976776123,
          0.7179349064826965,
          0.6995729207992554,
          0.5897492170333862,
          0.7120265364646912,
          0.688614010810852,
          0.6780574321746826,
          0.6635729074478149,
          0.6980466842651367,
          0.6579627990722656,
          0.7277281880378723,
          0.689469575881958,
          0.7044606804847717,
          0.6904774904251099,
          0.6836908459663391,
          0.7104766368865967,
          0.6915662884712219,
          0.6745702028274536,
          0.6863749027252197,
          0.6920925974845886,
          0.4001983404159546,
          0.6886054277420044,
          0.700995922088623,
          0.5104511976242065,
          0.6928339004516602,
          0.6951168179512024,
          0.7035436630249023,
          0.6949430704116821,
          0.6688353419303894,
          0.6758372783660889,
          0.7035279273986816,
          0.687911868095398,
          1.1188455820083618,
          0.6976487040519714,
          0.6879745721817017,
          0.7013906240463257,
          0.6388242244720459
         ]
        }
       ],
       "layout": {
        "template": {
         "data": {
          "bar": [
           {
            "error_x": {
             "color": "#2a3f5f"
            },
            "error_y": {
             "color": "#2a3f5f"
            },
            "marker": {
             "line": {
              "color": "#E5ECF6",
              "width": 0.5
             }
            },
            "type": "bar"
           }
          ],
          "barpolar": [
           {
            "marker": {
             "line": {
              "color": "#E5ECF6",
              "width": 0.5
             }
            },
            "type": "barpolar"
           }
          ],
          "carpet": [
           {
            "aaxis": {
             "endlinecolor": "#2a3f5f",
             "gridcolor": "white",
             "linecolor": "white",
             "minorgridcolor": "white",
             "startlinecolor": "#2a3f5f"
            },
            "baxis": {
             "endlinecolor": "#2a3f5f",
             "gridcolor": "white",
             "linecolor": "white",
             "minorgridcolor": "white",
             "startlinecolor": "#2a3f5f"
            },
            "type": "carpet"
           }
          ],
          "choropleth": [
           {
            "colorbar": {
             "outlinewidth": 0,
             "ticks": ""
            },
            "type": "choropleth"
           }
          ],
          "contour": [
           {
            "colorbar": {
             "outlinewidth": 0,
             "ticks": ""
            },
            "colorscale": [
             [
              0,
              "#0d0887"
             ],
             [
              0.1111111111111111,
              "#46039f"
             ],
             [
              0.2222222222222222,
              "#7201a8"
             ],
             [
              0.3333333333333333,
              "#9c179e"
             ],
             [
              0.4444444444444444,
              "#bd3786"
             ],
             [
              0.5555555555555556,
              "#d8576b"
             ],
             [
              0.6666666666666666,
              "#ed7953"
             ],
             [
              0.7777777777777778,
              "#fb9f3a"
             ],
             [
              0.8888888888888888,
              "#fdca26"
             ],
             [
              1,
              "#f0f921"
             ]
            ],
            "type": "contour"
           }
          ],
          "contourcarpet": [
           {
            "colorbar": {
             "outlinewidth": 0,
             "ticks": ""
            },
            "type": "contourcarpet"
           }
          ],
          "heatmap": [
           {
            "colorbar": {
             "outlinewidth": 0,
             "ticks": ""
            },
            "colorscale": [
             [
              0,
              "#0d0887"
             ],
             [
              0.1111111111111111,
              "#46039f"
             ],
             [
              0.2222222222222222,
              "#7201a8"
             ],
             [
              0.3333333333333333,
              "#9c179e"
             ],
             [
              0.4444444444444444,
              "#bd3786"
             ],
             [
              0.5555555555555556,
              "#d8576b"
             ],
             [
              0.6666666666666666,
              "#ed7953"
             ],
             [
              0.7777777777777778,
              "#fb9f3a"
             ],
             [
              0.8888888888888888,
              "#fdca26"
             ],
             [
              1,
              "#f0f921"
             ]
            ],
            "type": "heatmap"
           }
          ],
          "heatmapgl": [
           {
            "colorbar": {
             "outlinewidth": 0,
             "ticks": ""
            },
            "colorscale": [
             [
              0,
              "#0d0887"
             ],
             [
              0.1111111111111111,
              "#46039f"
             ],
             [
              0.2222222222222222,
              "#7201a8"
             ],
             [
              0.3333333333333333,
              "#9c179e"
             ],
             [
              0.4444444444444444,
              "#bd3786"
             ],
             [
              0.5555555555555556,
              "#d8576b"
             ],
             [
              0.6666666666666666,
              "#ed7953"
             ],
             [
              0.7777777777777778,
              "#fb9f3a"
             ],
             [
              0.8888888888888888,
              "#fdca26"
             ],
             [
              1,
              "#f0f921"
             ]
            ],
            "type": "heatmapgl"
           }
          ],
          "histogram": [
           {
            "marker": {
             "colorbar": {
              "outlinewidth": 0,
              "ticks": ""
             }
            },
            "type": "histogram"
           }
          ],
          "histogram2d": [
           {
            "colorbar": {
             "outlinewidth": 0,
             "ticks": ""
            },
            "colorscale": [
             [
              0,
              "#0d0887"
             ],
             [
              0.1111111111111111,
              "#46039f"
             ],
             [
              0.2222222222222222,
              "#7201a8"
             ],
             [
              0.3333333333333333,
              "#9c179e"
             ],
             [
              0.4444444444444444,
              "#bd3786"
             ],
             [
              0.5555555555555556,
              "#d8576b"
             ],
             [
              0.6666666666666666,
              "#ed7953"
             ],
             [
              0.7777777777777778,
              "#fb9f3a"
             ],
             [
              0.8888888888888888,
              "#fdca26"
             ],
             [
              1,
              "#f0f921"
             ]
            ],
            "type": "histogram2d"
           }
          ],
          "histogram2dcontour": [
           {
            "colorbar": {
             "outlinewidth": 0,
             "ticks": ""
            },
            "colorscale": [
             [
              0,
              "#0d0887"
             ],
             [
              0.1111111111111111,
              "#46039f"
             ],
             [
              0.2222222222222222,
              "#7201a8"
             ],
             [
              0.3333333333333333,
              "#9c179e"
             ],
             [
              0.4444444444444444,
              "#bd3786"
             ],
             [
              0.5555555555555556,
              "#d8576b"
             ],
             [
              0.6666666666666666,
              "#ed7953"
             ],
             [
              0.7777777777777778,
              "#fb9f3a"
             ],
             [
              0.8888888888888888,
              "#fdca26"
             ],
             [
              1,
              "#f0f921"
             ]
            ],
            "type": "histogram2dcontour"
           }
          ],
          "mesh3d": [
           {
            "colorbar": {
             "outlinewidth": 0,
             "ticks": ""
            },
            "type": "mesh3d"
           }
          ],
          "parcoords": [
           {
            "line": {
             "colorbar": {
              "outlinewidth": 0,
              "ticks": ""
             }
            },
            "type": "parcoords"
           }
          ],
          "pie": [
           {
            "automargin": true,
            "type": "pie"
           }
          ],
          "scatter": [
           {
            "marker": {
             "colorbar": {
              "outlinewidth": 0,
              "ticks": ""
             }
            },
            "type": "scatter"
           }
          ],
          "scatter3d": [
           {
            "line": {
             "colorbar": {
              "outlinewidth": 0,
              "ticks": ""
             }
            },
            "marker": {
             "colorbar": {
              "outlinewidth": 0,
              "ticks": ""
             }
            },
            "type": "scatter3d"
           }
          ],
          "scattercarpet": [
           {
            "marker": {
             "colorbar": {
              "outlinewidth": 0,
              "ticks": ""
             }
            },
            "type": "scattercarpet"
           }
          ],
          "scattergeo": [
           {
            "marker": {
             "colorbar": {
              "outlinewidth": 0,
              "ticks": ""
             }
            },
            "type": "scattergeo"
           }
          ],
          "scattergl": [
           {
            "marker": {
             "colorbar": {
              "outlinewidth": 0,
              "ticks": ""
             }
            },
            "type": "scattergl"
           }
          ],
          "scattermapbox": [
           {
            "marker": {
             "colorbar": {
              "outlinewidth": 0,
              "ticks": ""
             }
            },
            "type": "scattermapbox"
           }
          ],
          "scatterpolar": [
           {
            "marker": {
             "colorbar": {
              "outlinewidth": 0,
              "ticks": ""
             }
            },
            "type": "scatterpolar"
           }
          ],
          "scatterpolargl": [
           {
            "marker": {
             "colorbar": {
              "outlinewidth": 0,
              "ticks": ""
             }
            },
            "type": "scatterpolargl"
           }
          ],
          "scatterternary": [
           {
            "marker": {
             "colorbar": {
              "outlinewidth": 0,
              "ticks": ""
             }
            },
            "type": "scatterternary"
           }
          ],
          "surface": [
           {
            "colorbar": {
             "outlinewidth": 0,
             "ticks": ""
            },
            "colorscale": [
             [
              0,
              "#0d0887"
             ],
             [
              0.1111111111111111,
              "#46039f"
             ],
             [
              0.2222222222222222,
              "#7201a8"
             ],
             [
              0.3333333333333333,
              "#9c179e"
             ],
             [
              0.4444444444444444,
              "#bd3786"
             ],
             [
              0.5555555555555556,
              "#d8576b"
             ],
             [
              0.6666666666666666,
              "#ed7953"
             ],
             [
              0.7777777777777778,
              "#fb9f3a"
             ],
             [
              0.8888888888888888,
              "#fdca26"
             ],
             [
              1,
              "#f0f921"
             ]
            ],
            "type": "surface"
           }
          ],
          "table": [
           {
            "cells": {
             "fill": {
              "color": "#EBF0F8"
             },
             "line": {
              "color": "white"
             }
            },
            "header": {
             "fill": {
              "color": "#C8D4E3"
             },
             "line": {
              "color": "white"
             }
            },
            "type": "table"
           }
          ]
         },
         "layout": {
          "annotationdefaults": {
           "arrowcolor": "#2a3f5f",
           "arrowhead": 0,
           "arrowwidth": 1
          },
          "autotypenumbers": "strict",
          "coloraxis": {
           "colorbar": {
            "outlinewidth": 0,
            "ticks": ""
           }
          },
          "colorscale": {
           "diverging": [
            [
             0,
             "#8e0152"
            ],
            [
             0.1,
             "#c51b7d"
            ],
            [
             0.2,
             "#de77ae"
            ],
            [
             0.3,
             "#f1b6da"
            ],
            [
             0.4,
             "#fde0ef"
            ],
            [
             0.5,
             "#f7f7f7"
            ],
            [
             0.6,
             "#e6f5d0"
            ],
            [
             0.7,
             "#b8e186"
            ],
            [
             0.8,
             "#7fbc41"
            ],
            [
             0.9,
             "#4d9221"
            ],
            [
             1,
             "#276419"
            ]
           ],
           "sequential": [
            [
             0,
             "#0d0887"
            ],
            [
             0.1111111111111111,
             "#46039f"
            ],
            [
             0.2222222222222222,
             "#7201a8"
            ],
            [
             0.3333333333333333,
             "#9c179e"
            ],
            [
             0.4444444444444444,
             "#bd3786"
            ],
            [
             0.5555555555555556,
             "#d8576b"
            ],
            [
             0.6666666666666666,
             "#ed7953"
            ],
            [
             0.7777777777777778,
             "#fb9f3a"
            ],
            [
             0.8888888888888888,
             "#fdca26"
            ],
            [
             1,
             "#f0f921"
            ]
           ],
           "sequentialminus": [
            [
             0,
             "#0d0887"
            ],
            [
             0.1111111111111111,
             "#46039f"
            ],
            [
             0.2222222222222222,
             "#7201a8"
            ],
            [
             0.3333333333333333,
             "#9c179e"
            ],
            [
             0.4444444444444444,
             "#bd3786"
            ],
            [
             0.5555555555555556,
             "#d8576b"
            ],
            [
             0.6666666666666666,
             "#ed7953"
            ],
            [
             0.7777777777777778,
             "#fb9f3a"
            ],
            [
             0.8888888888888888,
             "#fdca26"
            ],
            [
             1,
             "#f0f921"
            ]
           ]
          },
          "colorway": [
           "#636efa",
           "#EF553B",
           "#00cc96",
           "#ab63fa",
           "#FFA15A",
           "#19d3f3",
           "#FF6692",
           "#B6E880",
           "#FF97FF",
           "#FECB52"
          ],
          "font": {
           "color": "#2a3f5f"
          },
          "geo": {
           "bgcolor": "white",
           "lakecolor": "white",
           "landcolor": "#E5ECF6",
           "showlakes": true,
           "showland": true,
           "subunitcolor": "white"
          },
          "hoverlabel": {
           "align": "left"
          },
          "hovermode": "closest",
          "mapbox": {
           "style": "light"
          },
          "paper_bgcolor": "white",
          "plot_bgcolor": "#E5ECF6",
          "polar": {
           "angularaxis": {
            "gridcolor": "white",
            "linecolor": "white",
            "ticks": ""
           },
           "bgcolor": "#E5ECF6",
           "radialaxis": {
            "gridcolor": "white",
            "linecolor": "white",
            "ticks": ""
           }
          },
          "scene": {
           "xaxis": {
            "backgroundcolor": "#E5ECF6",
            "gridcolor": "white",
            "gridwidth": 2,
            "linecolor": "white",
            "showbackground": true,
            "ticks": "",
            "zerolinecolor": "white"
           },
           "yaxis": {
            "backgroundcolor": "#E5ECF6",
            "gridcolor": "white",
            "gridwidth": 2,
            "linecolor": "white",
            "showbackground": true,
            "ticks": "",
            "zerolinecolor": "white"
           },
           "zaxis": {
            "backgroundcolor": "#E5ECF6",
            "gridcolor": "white",
            "gridwidth": 2,
            "linecolor": "white",
            "showbackground": true,
            "ticks": "",
            "zerolinecolor": "white"
           }
          },
          "shapedefaults": {
           "line": {
            "color": "#2a3f5f"
           }
          },
          "ternary": {
           "aaxis": {
            "gridcolor": "white",
            "linecolor": "white",
            "ticks": ""
           },
           "baxis": {
            "gridcolor": "white",
            "linecolor": "white",
            "ticks": ""
           },
           "bgcolor": "#E5ECF6",
           "caxis": {
            "gridcolor": "white",
            "linecolor": "white",
            "ticks": ""
           }
          },
          "title": {
           "x": 0.05
          },
          "xaxis": {
           "automargin": true,
           "gridcolor": "white",
           "linecolor": "white",
           "ticks": "",
           "title": {
            "standoff": 15
           },
           "zerolinecolor": "white",
           "zerolinewidth": 2
          },
          "yaxis": {
           "automargin": true,
           "gridcolor": "white",
           "linecolor": "white",
           "ticks": "",
           "title": {
            "standoff": 15
           },
           "zerolinecolor": "white",
           "zerolinewidth": 2
          }
         }
        },
        "title": {
         "text": "Training progress"
        },
        "xaxis": {
         "title": {
          "text": "Number of processed sentences"
         }
        },
        "yaxis": {
         "title": {
          "text": "Loss (median over 65536 steps)"
         }
        }
       }
      },
      "text/html": [
       "<div>                            <div id=\"4f08349d-571d-487e-86f3-222ad538e5a6\" class=\"plotly-graph-div\" style=\"height:525px; width:100%;\"></div>            <script type=\"text/javascript\">                require([\"plotly\"], function(Plotly) {                    window.PLOTLYENV=window.PLOTLYENV || {};                                    if (document.getElementById(\"4f08349d-571d-487e-86f3-222ad538e5a6\")) {                    Plotly.newPlot(                        \"4f08349d-571d-487e-86f3-222ad538e5a6\",                        [{\"type\": \"scatter\", \"x\": [0, 1, 2, 3, 4, 5, 6, 7, 8, 9, 10, 11, 12, 13, 14, 15, 16, 17, 18, 19, 20, 21, 22, 23, 24, 25, 26, 27, 28, 29, 30, 31, 32, 33, 34, 35, 36, 37, 38, 39, 40, 41, 42, 43, 44, 45, 46, 47, 48, 49, 50, 51, 52, 53, 54, 55, 56, 57, 58, 59, 60, 61, 62, 63, 64, 65, 66, 67, 68, 69, 70, 71, 72, 73, 74, 75, 76, 77, 78, 79, 80, 81, 82, 83, 84, 85, 86, 87, 88, 89, 90, 91, 92, 93, 94, 95, 96, 97, 98, 99, 100, 101, 102, 103, 104, 105, 106, 107, 108, 109, 110, 111, 112, 113, 114, 115, 116, 117, 118, 119, 120, 121, 122, 123, 124, 125, 126, 127, 128, 129, 130, 131, 132, 133, 134, 135, 136, 137, 138, 139, 140, 141, 142, 143, 144, 145, 146, 147, 148, 149, 150, 151, 152, 153, 154, 155, 156, 157, 158, 159, 160, 161, 162, 163, 164, 165, 166, 167, 168, 169, 170, 171, 172, 173, 174, 175, 176, 177, 178, 179, 180, 181, 182, 183, 184, 185, 186, 187, 188, 189, 190, 191, 192, 193, 194, 195, 196, 197, 198, 199, 200, 201, 202, 203, 204, 205, 206, 207, 208, 209, 210, 211, 212, 213, 214, 215, 216, 217, 218, 219, 220, 221, 222, 223, 224, 225, 226, 227, 228, 229, 230, 231, 232, 233, 234, 235, 236, 237, 238, 239, 240, 241, 242, 243, 244, 245, 246, 247, 248, 249, 250, 251, 252, 253, 254, 255, 256, 257, 258, 259, 260, 261, 262, 263, 264, 265, 266, 267, 268, 269, 270, 271, 272, 273, 274, 275, 276, 277, 278, 279, 280, 281, 282, 283, 284, 285, 286, 287, 288, 289, 290, 291, 292, 293, 294, 295, 296, 297, 298, 299, 300, 301, 302, 303, 304, 305, 306, 307, 308, 309, 310, 311, 312, 313, 314, 315, 316, 317, 318, 319, 320, 321, 322, 323, 324, 325, 326, 327, 328, 329, 330, 331, 332, 333, 334, 335, 336, 337, 338, 339, 340, 341, 342, 343, 344, 345, 346, 347, 348, 349, 350, 351, 352, 353, 354, 355, 356, 357, 358, 359, 360, 361, 362, 363, 364, 365, 366, 367, 368, 369, 370, 371, 372, 373, 374, 375, 376, 377, 378, 379, 380, 381, 382, 383, 384, 385, 386, 387, 388, 389, 390, 391, 392, 393, 394, 395, 396, 397, 398, 399, 400, 401, 402, 403, 404, 405, 406, 407, 408, 409, 410, 411, 412, 413, 414, 415, 416, 417, 418, 419, 420, 421, 422, 423, 424, 425, 426, 427, 428, 429, 430, 431, 432, 433, 434, 435, 436, 437, 438, 439, 440, 441, 442, 443, 444, 445, 446, 447, 448, 449, 450, 451, 452, 453, 454, 455, 456, 457, 458, 459, 460, 461, 462, 463, 464, 465, 466, 467, 468, 469, 470, 471, 472, 473, 474, 475, 476, 477, 478, 479, 480, 481, 482, 483, 484, 485, 486, 487, 488, 489, 490, 491, 492, 493, 494, 495, 496, 497, 498, 499, 500, 501, 502, 503, 504, 505, 506, 507, 508, 509, 510, 511, 512, 513, 514, 515, 516, 517, 518, 519, 520, 521, 522, 523, 524, 525, 526, 527, 528, 529, 530, 531, 532, 533, 534, 535, 536, 537, 538, 539, 540, 541, 542, 543, 544, 545, 546, 547, 548, 549, 550, 551, 552, 553, 554, 555, 556, 557, 558, 559, 560, 561, 562, 563, 564, 565, 566, 567, 568, 569, 570, 571, 572, 573, 574, 575, 576, 577, 578, 579, 580, 581, 582, 583, 584, 585, 586, 587, 588, 589, 590, 591, 592, 593, 594, 595, 596, 597, 598, 599, 600, 601, 602, 603, 604, 605, 606, 607, 608, 609, 610, 611, 612, 613, 614, 615, 616, 617, 618, 619, 620, 621, 622, 623, 624, 625, 626, 627, 628, 629, 630, 631, 632, 633, 634, 635, 636, 637, 638, 639, 640, 641, 642, 643, 644, 645, 646, 647, 648, 649, 650, 651, 652, 653, 654, 655, 656, 657, 658, 659, 660, 661, 662, 663, 664, 665, 666, 667, 668, 669, 670, 671, 672, 673, 674, 675, 676, 677, 678, 679, 680, 681, 682, 683, 684, 685, 686, 687, 688, 689, 690, 691, 692, 693, 694, 695, 696, 697, 698, 699, 700, 701, 702, 703, 704, 705, 706, 707, 708, 709, 710, 711, 712, 713, 714, 715, 716, 717, 718, 719, 720, 721, 722, 723, 724, 725, 726, 727, 728, 729, 730, 731, 732, 733, 734, 735, 736, 737, 738, 739, 740, 741, 742, 743, 744, 745, 746, 747, 748, 749, 750, 751, 752, 753, 754, 755, 756, 757, 758, 759, 760, 761, 762, 763, 764, 765, 766, 767, 768, 769, 770, 771, 772, 773, 774, 775, 776, 777, 778, 779, 780, 781, 782, 783, 784, 785, 786, 787, 788, 789, 790, 791, 792, 793, 794, 795, 796, 797, 798, 799, 800, 801, 802, 803, 804, 805, 806, 807, 808, 809, 810, 811, 812, 813, 814, 815, 816, 817, 818, 819, 820, 821, 822, 823, 824, 825, 826, 827, 828, 829, 830, 831, 832, 833, 834, 835, 836, 837, 838, 839, 840, 841, 842, 843, 844, 845, 846, 847, 848, 849, 850, 851, 852, 853, 854, 855, 856, 857, 858, 859, 860, 861, 862, 863, 864, 865, 866, 867, 868, 869, 870, 871, 872, 873, 874, 875, 876, 877, 878, 879, 880, 881, 882, 883, 884, 885, 886, 887, 888, 889, 890, 891, 892, 893, 894, 895, 896, 897, 898, 899, 900, 901, 902, 903, 904, 905, 906, 907, 908, 909, 910, 911, 912, 913, 914, 915, 916, 917, 918, 919, 920, 921, 922, 923, 924, 925, 926, 927, 928, 929, 930, 931, 932, 933, 934, 935, 936, 937, 938, 939, 940, 941, 942, 943, 944, 945, 946, 947, 948, 949, 950, 951, 952, 953, 954, 955, 956, 957, 958, 959, 960, 961, 962, 963, 964, 965, 966, 967, 968, 969, 970, 971, 972, 973, 974, 975, 976, 977, 978, 979, 980, 981, 982, 983, 984, 985, 986, 987, 988, 989, 990, 991, 992, 993, 994, 995, 996, 997, 998, 999, 1000, 1001, 1002, 1003, 1004, 1005, 1006, 1007, 1008, 1009, 1010, 1011, 1012, 1013, 1014, 1015, 1016, 1017, 1018, 1019, 1020, 1021, 1022, 1023, 1024, 1025, 1026, 1027, 1028, 1029, 1030, 1031, 1032, 1033, 1034, 1035, 1036, 1037, 1038, 1039, 1040, 1041, 1042, 1043, 1044, 1045, 1046, 1047, 1048, 1049, 1050, 1051, 1052, 1053, 1054, 1055, 1056, 1057, 1058, 1059, 1060, 1061, 1062, 1063, 1064, 1065, 1066, 1067, 1068, 1069, 1070, 1071, 1072, 1073, 1074, 1075, 1076, 1077, 1078, 1079, 1080, 1081, 1082, 1083, 1084, 1085, 1086, 1087, 1088, 1089, 1090, 1091, 1092, 1093, 1094, 1095, 1096, 1097, 1098, 1099, 1100, 1101, 1102, 1103, 1104, 1105, 1106, 1107, 1108, 1109, 1110, 1111, 1112, 1113, 1114, 1115, 1116, 1117, 1118, 1119, 1120, 1121, 1122, 1123, 1124, 1125, 1126, 1127, 1128, 1129, 1130, 1131, 1132, 1133, 1134, 1135, 1136, 1137, 1138, 1139, 1140, 1141, 1142, 1143, 1144, 1145, 1146, 1147, 1148, 1149, 1150, 1151, 1152, 1153, 1154, 1155, 1156, 1157, 1158, 1159, 1160, 1161, 1162, 1163, 1164, 1165, 1166, 1167, 1168, 1169, 1170, 1171, 1172, 1173, 1174, 1175, 1176, 1177, 1178, 1179, 1180, 1181, 1182, 1183, 1184, 1185, 1186, 1187, 1188, 1189, 1190, 1191, 1192, 1193, 1194, 1195, 1196, 1197, 1198, 1199, 1200, 1201, 1202, 1203, 1204, 1205, 1206, 1207, 1208, 1209, 1210, 1211, 1212, 1213, 1214, 1215, 1216, 1217, 1218, 1219, 1220, 1221, 1222, 1223, 1224, 1225, 1226, 1227, 1228, 1229, 1230, 1231, 1232, 1233, 1234, 1235, 1236, 1237, 1238, 1239, 1240, 1241, 1242, 1243, 1244, 1245, 1246, 1247, 1248, 1249, 1250, 1251, 1252, 1253, 1254, 1255, 1256, 1257, 1258, 1259, 1260, 1261, 1262, 1263, 1264, 1265, 1266, 1267, 1268, 1269, 1270, 1271, 1272, 1273, 1274, 1275, 1276, 1277, 1278, 1279, 1280, 1281, 1282, 1283, 1284, 1285, 1286, 1287, 1288, 1289, 1290, 1291, 1292, 1293, 1294, 1295, 1296, 1297, 1298, 1299, 1300, 1301, 1302, 1303, 1304, 1305, 1306, 1307, 1308, 1309, 1310, 1311, 1312, 1313, 1314, 1315, 1316, 1317, 1318, 1319, 1320, 1321, 1322, 1323, 1324, 1325, 1326, 1327, 1328, 1329, 1330, 1331, 1332, 1333, 1334, 1335, 1336, 1337, 1338, 1339, 1340, 1341, 1342, 1343, 1344, 1345, 1346, 1347, 1348, 1349, 1350, 1351, 1352, 1353, 1354, 1355, 1356, 1357, 1358, 1359, 1360, 1361, 1362, 1363, 1364, 1365, 1366, 1367, 1368, 1369, 1370, 1371, 1372, 1373, 1374, 1375, 1376, 1377, 1378, 1379, 1380, 1381, 1382, 1383, 1384, 1385, 1386, 1387, 1388, 1389, 1390, 1391, 1392, 1393, 1394, 1395, 1396, 1397, 1398, 1399, 1400, 1401, 1402, 1403, 1404, 1405, 1406, 1407, 1408, 1409, 1410, 1411, 1412, 1413, 1414, 1415, 1416, 1417, 1418, 1419, 1420, 1421, 1422, 1423, 1424, 1425, 1426, 1427, 1428, 1429, 1430, 1431, 1432, 1433, 1434, 1435, 1436, 1437, 1438, 1439, 1440, 1441, 1442, 1443, 1444, 1445, 1446, 1447, 1448, 1449, 1450, 1451, 1452, 1453, 1454, 1455, 1456, 1457, 1458, 1459, 1460, 1461, 1462, 1463, 1464, 1465, 1466, 1467, 1468, 1469, 1470, 1471, 1472, 1473, 1474, 1475, 1476, 1477, 1478, 1479, 1480, 1481, 1482, 1483, 1484, 1485, 1486, 1487, 1488, 1489, 1490, 1491, 1492, 1493, 1494, 1495, 1496, 1497, 1498, 1499, 1500, 1501, 1502, 1503, 1504, 1505, 1506, 1507, 1508, 1509, 1510, 1511, 1512, 1513, 1514, 1515, 1516, 1517, 1518, 1519, 1520, 1521, 1522, 1523, 1524, 1525, 1526, 1527, 1528, 1529, 1530, 1531, 1532, 1533, 1534, 1535, 1536, 1537, 1538, 1539, 1540, 1541, 1542, 1543, 1544, 1545, 1546, 1547, 1548, 1549, 1550, 1551, 1552, 1553, 1554, 1555, 1556, 1557, 1558, 1559, 1560, 1561, 1562, 1563, 1564, 1565, 1566, 1567, 1568, 1569, 1570, 1571, 1572, 1573, 1574, 1575, 1576, 1577, 1578, 1579, 1580, 1581, 1582, 1583, 1584, 1585, 1586, 1587, 1588, 1589, 1590, 1591, 1592, 1593, 1594, 1595, 1596, 1597, 1598, 1599, 1600, 1601, 1602, 1603, 1604, 1605, 1606, 1607, 1608, 1609, 1610, 1611, 1612, 1613, 1614, 1615, 1616, 1617, 1618, 1619, 1620, 1621, 1622, 1623, 1624, 1625, 1626, 1627, 1628, 1629, 1630, 1631, 1632, 1633, 1634, 1635, 1636, 1637, 1638, 1639, 1640, 1641, 1642, 1643, 1644, 1645, 1646, 1647, 1648, 1649, 1650, 1651, 1652, 1653, 1654, 1655, 1656, 1657, 1658, 1659, 1660, 1661, 1662, 1663, 1664, 1665, 1666, 1667, 1668, 1669, 1670, 1671, 1672, 1673, 1674, 1675, 1676, 1677, 1678, 1679, 1680, 1681, 1682, 1683, 1684, 1685, 1686, 1687, 1688, 1689, 1690, 1691, 1692, 1693, 1694, 1695, 1696, 1697, 1698, 1699, 1700, 1701, 1702, 1703, 1704, 1705, 1706, 1707, 1708, 1709, 1710, 1711, 1712, 1713, 1714, 1715, 1716, 1717, 1718, 1719, 1720, 1721, 1722, 1723, 1724, 1725, 1726, 1727, 1728, 1729, 1730, 1731, 1732, 1733, 1734, 1735, 1736, 1737, 1738, 1739, 1740, 1741, 1742, 1743, 1744, 1745, 1746, 1747, 1748, 1749, 1750, 1751, 1752, 1753, 1754, 1755, 1756, 1757, 1758, 1759, 1760, 1761, 1762, 1763, 1764, 1765, 1766, 1767, 1768, 1769, 1770, 1771, 1772, 1773, 1774, 1775, 1776, 1777, 1778, 1779, 1780, 1781, 1782, 1783, 1784, 1785, 1786, 1787, 1788, 1789, 1790, 1791, 1792, 1793, 1794, 1795, 1796, 1797, 1798, 1799, 1800, 1801, 1802, 1803, 1804, 1805, 1806, 1807, 1808, 1809, 1810, 1811, 1812, 1813, 1814, 1815, 1816, 1817, 1818, 1819, 1820, 1821, 1822, 1823, 1824, 1825, 1826, 1827, 1828, 1829, 1830, 1831, 1832, 1833, 1834, 1835, 1836, 1837, 1838, 1839, 1840, 1841, 1842, 1843, 1844, 1845, 1846, 1847, 1848, 1849, 1850, 1851, 1852, 1853, 1854, 1855, 1856, 1857, 1858, 1859, 1860, 1861, 1862, 1863, 1864, 1865, 1866, 1867, 1868, 1869, 1870, 1871, 1872, 1873, 1874, 1875, 1876, 1877, 1878, 1879, 1880, 1881, 1882, 1883, 1884, 1885, 1886, 1887, 1888, 1889, 1890, 1891, 1892, 1893, 1894, 1895, 1896, 1897, 1898, 1899, 1900, 1901, 1902, 1903, 1904, 1905, 1906, 1907, 1908, 1909, 1910, 1911, 1912, 1913, 1914, 1915, 1916, 1917, 1918, 1919, 1920, 1921, 1922, 1923, 1924, 1925, 1926, 1927, 1928, 1929, 1930, 1931, 1932, 1933, 1934, 1935, 1936, 1937, 1938, 1939, 1940, 1941, 1942, 1943, 1944, 1945, 1946, 1947, 1948, 1949, 1950, 1951, 1952, 1953, 1954, 1955, 1956, 1957, 1958, 1959, 1960, 1961, 1962, 1963, 1964, 1965, 1966, 1967, 1968, 1969, 1970, 1971, 1972, 1973, 1974, 1975, 1976, 1977, 1978, 1979, 1980, 1981, 1982, 1983, 1984, 1985, 1986, 1987, 1988, 1989, 1990, 1991, 1992, 1993, 1994, 1995, 1996, 1997, 1998, 1999, 2000, 2001, 2002, 2003, 2004, 2005, 2006, 2007, 2008, 2009, 2010, 2011, 2012, 2013, 2014, 2015, 2016, 2017, 2018, 2019, 2020, 2021, 2022, 2023, 2024, 2025, 2026, 2027, 2028, 2029, 2030, 2031, 2032, 2033, 2034, 2035, 2036, 2037, 2038, 2039, 2040, 2041, 2042, 2043, 2044, 2045, 2046, 2047, 2048, 2049, 2050, 2051, 2052, 2053, 2054, 2055, 2056, 2057, 2058, 2059, 2060, 2061, 2062, 2063, 2064, 2065, 2066, 2067, 2068, 2069, 2070, 2071, 2072, 2073, 2074, 2075, 2076, 2077, 2078, 2079, 2080, 2081, 2082, 2083, 2084, 2085, 2086, 2087, 2088, 2089, 2090, 2091, 2092, 2093, 2094, 2095, 2096, 2097, 2098, 2099, 2100, 2101, 2102, 2103, 2104, 2105, 2106, 2107, 2108, 2109, 2110, 2111, 2112, 2113, 2114, 2115, 2116, 2117, 2118, 2119, 2120, 2121, 2122, 2123, 2124, 2125, 2126, 2127, 2128, 2129, 2130, 2131, 2132, 2133, 2134, 2135, 2136, 2137, 2138, 2139, 2140, 2141, 2142, 2143, 2144, 2145, 2146, 2147, 2148, 2149, 2150, 2151, 2152, 2153, 2154, 2155, 2156, 2157, 2158, 2159, 2160, 2161, 2162, 2163, 2164, 2165, 2166, 2167, 2168, 2169, 2170, 2171, 2172, 2173, 2174, 2175, 2176, 2177, 2178, 2179, 2180, 2181, 2182, 2183, 2184, 2185, 2186, 2187, 2188, 2189, 2190, 2191, 2192, 2193, 2194, 2195, 2196, 2197, 2198, 2199, 2200, 2201, 2202, 2203, 2204, 2205, 2206, 2207, 2208, 2209, 2210, 2211, 2212, 2213, 2214, 2215, 2216, 2217, 2218, 2219, 2220, 2221, 2222, 2223, 2224, 2225, 2226, 2227, 2228, 2229, 2230, 2231, 2232, 2233, 2234, 2235, 2236, 2237, 2238, 2239, 2240, 2241, 2242, 2243, 2244, 2245, 2246, 2247, 2248, 2249, 2250, 2251, 2252, 2253, 2254, 2255, 2256, 2257, 2258, 2259, 2260, 2261, 2262, 2263, 2264, 2265, 2266, 2267, 2268, 2269, 2270, 2271, 2272, 2273, 2274, 2275, 2276, 2277, 2278, 2279, 2280, 2281, 2282, 2283, 2284, 2285, 2286, 2287, 2288, 2289, 2290, 2291, 2292, 2293, 2294, 2295, 2296, 2297, 2298, 2299, 2300, 2301, 2302, 2303, 2304, 2305, 2306, 2307, 2308, 2309, 2310, 2311, 2312, 2313, 2314, 2315, 2316, 2317, 2318, 2319, 2320, 2321, 2322, 2323, 2324, 2325, 2326, 2327, 2328, 2329, 2330, 2331, 2332, 2333, 2334, 2335, 2336, 2337, 2338, 2339, 2340, 2341, 2342, 2343, 2344, 2345, 2346, 2347, 2348, 2349, 2350, 2351, 2352, 2353, 2354, 2355, 2356, 2357, 2358, 2359, 2360, 2361, 2362, 2363, 2364, 2365, 2366, 2367, 2368, 2369, 2370, 2371, 2372, 2373, 2374, 2375, 2376, 2377, 2378, 2379, 2380, 2381, 2382, 2383, 2384, 2385, 2386, 2387, 2388, 2389, 2390, 2391, 2392, 2393, 2394, 2395, 2396, 2397, 2398, 2399, 2400, 2401, 2402, 2403, 2404, 2405, 2406, 2407, 2408, 2409, 2410, 2411, 2412, 2413, 2414, 2415, 2416, 2417, 2418, 2419, 2420, 2421, 2422, 2423, 2424, 2425, 2426, 2427, 2428, 2429, 2430, 2431, 2432, 2433, 2434, 2435, 2436, 2437, 2438, 2439, 2440, 2441, 2442, 2443, 2444, 2445, 2446, 2447, 2448, 2449, 2450, 2451, 2452, 2453, 2454, 2455, 2456, 2457, 2458, 2459, 2460, 2461, 2462, 2463, 2464, 2465, 2466, 2467, 2468, 2469, 2470, 2471, 2472, 2473, 2474, 2475, 2476, 2477, 2478, 2479, 2480, 2481, 2482, 2483, 2484, 2485, 2486, 2487, 2488, 2489, 2490, 2491, 2492, 2493, 2494, 2495, 2496, 2497, 2498, 2499, 2500, 2501, 2502, 2503, 2504, 2505, 2506, 2507, 2508, 2509, 2510, 2511, 2512, 2513, 2514, 2515, 2516, 2517, 2518, 2519, 2520, 2521, 2522, 2523, 2524, 2525, 2526, 2527, 2528, 2529, 2530, 2531, 2532, 2533, 2534, 2535, 2536, 2537, 2538, 2539, 2540, 2541, 2542, 2543, 2544, 2545, 2546, 2547, 2548, 2549, 2550, 2551, 2552, 2553, 2554, 2555, 2556, 2557, 2558, 2559, 2560, 2561, 2562, 2563, 2564, 2565, 2566, 2567, 2568, 2569, 2570, 2571, 2572, 2573, 2574, 2575, 2576, 2577, 2578, 2579, 2580, 2581, 2582, 2583, 2584, 2585, 2586, 2587, 2588, 2589, 2590, 2591, 2592, 2593, 2594, 2595, 2596, 2597, 2598, 2599, 2600, 2601, 2602, 2603, 2604, 2605, 2606, 2607, 2608, 2609, 2610, 2611, 2612, 2613, 2614, 2615, 2616, 2617, 2618, 2619, 2620, 2621, 2622, 2623, 2624, 2625, 2626, 2627, 2628, 2629, 2630, 2631, 2632, 2633, 2634, 2635, 2636, 2637, 2638, 2639, 2640, 2641, 2642, 2643, 2644, 2645, 2646, 2647, 2648, 2649, 2650, 2651, 2652, 2653, 2654, 2655, 2656, 2657, 2658, 2659, 2660, 2661, 2662, 2663, 2664, 2665, 2666, 2667, 2668, 2669, 2670, 2671, 2672, 2673, 2674, 2675, 2676, 2677, 2678, 2679, 2680, 2681, 2682, 2683, 2684, 2685, 2686, 2687, 2688, 2689, 2690, 2691, 2692, 2693, 2694, 2695, 2696, 2697, 2698, 2699, 2700, 2701, 2702, 2703, 2704, 2705, 2706, 2707, 2708, 2709, 2710, 2711, 2712, 2713, 2714, 2715, 2716, 2717, 2718, 2719, 2720, 2721, 2722, 2723, 2724, 2725, 2726, 2727, 2728, 2729, 2730, 2731, 2732, 2733, 2734, 2735, 2736, 2737, 2738, 2739, 2740, 2741, 2742, 2743, 2744, 2745, 2746, 2747, 2748, 2749, 2750, 2751, 2752, 2753, 2754, 2755, 2756, 2757, 2758, 2759, 2760, 2761, 2762, 2763, 2764, 2765, 2766, 2767, 2768, 2769, 2770, 2771, 2772, 2773, 2774, 2775, 2776, 2777, 2778, 2779, 2780, 2781, 2782, 2783, 2784, 2785, 2786, 2787, 2788, 2789, 2790, 2791, 2792, 2793, 2794, 2795, 2796, 2797, 2798, 2799, 2800, 2801, 2802, 2803, 2804, 2805, 2806, 2807, 2808, 2809, 2810, 2811, 2812, 2813, 2814, 2815, 2816, 2817, 2818, 2819, 2820, 2821, 2822, 2823, 2824, 2825, 2826, 2827, 2828, 2829, 2830, 2831, 2832, 2833, 2834, 2835, 2836, 2837, 2838, 2839, 2840, 2841, 2842, 2843, 2844, 2845, 2846, 2847, 2848, 2849, 2850, 2851, 2852, 2853, 2854, 2855, 2856, 2857, 2858, 2859, 2860, 2861, 2862, 2863, 2864, 2865, 2866, 2867, 2868, 2869, 2870, 2871, 2872, 2873, 2874, 2875, 2876, 2877, 2878, 2879, 2880, 2881, 2882, 2883, 2884, 2885, 2886, 2887, 2888, 2889, 2890, 2891, 2892, 2893, 2894, 2895, 2896, 2897, 2898, 2899, 2900, 2901, 2902, 2903, 2904, 2905, 2906, 2907, 2908, 2909, 2910, 2911, 2912, 2913, 2914, 2915, 2916, 2917, 2918, 2919, 2920, 2921, 2922, 2923, 2924, 2925, 2926, 2927, 2928, 2929, 2930, 2931, 2932, 2933, 2934, 2935, 2936, 2937, 2938, 2939, 2940, 2941, 2942, 2943, 2944, 2945, 2946, 2947, 2948, 2949, 2950, 2951, 2952, 2953, 2954, 2955, 2956, 2957, 2958, 2959, 2960, 2961, 2962, 2963, 2964, 2965, 2966, 2967, 2968, 2969, 2970, 2971, 2972, 2973, 2974, 2975, 2976, 2977, 2978, 2979, 2980, 2981, 2982, 2983, 2984, 2985, 2986, 2987, 2988, 2989, 2990, 2991, 2992, 2993, 2994, 2995, 2996, 2997, 2998, 2999, 3000, 3001, 3002, 3003, 3004, 3005, 3006, 3007, 3008, 3009, 3010, 3011, 3012, 3013, 3014, 3015, 3016, 3017, 3018, 3019, 3020, 3021, 3022, 3023, 3024, 3025, 3026, 3027, 3028, 3029, 3030, 3031, 3032, 3033, 3034, 3035, 3036, 3037, 3038, 3039, 3040, 3041, 3042, 3043, 3044, 3045, 3046, 3047, 3048, 3049, 3050, 3051, 3052, 3053, 3054, 3055, 3056, 3057, 3058, 3059, 3060, 3061, 3062, 3063, 3064, 3065, 3066, 3067, 3068, 3069, 3070, 3071, 3072, 3073, 3074, 3075, 3076, 3077, 3078, 3079, 3080, 3081, 3082, 3083, 3084, 3085, 3086, 3087, 3088, 3089, 3090, 3091, 3092, 3093, 3094, 3095, 3096, 3097, 3098, 3099, 3100, 3101, 3102, 3103, 3104, 3105, 3106, 3107, 3108, 3109, 3110, 3111, 3112, 3113, 3114, 3115, 3116, 3117, 3118, 3119, 3120, 3121, 3122, 3123, 3124, 3125, 3126, 3127, 3128, 3129, 3130, 3131, 3132, 3133, 3134, 3135, 3136, 3137, 3138, 3139, 3140, 3141, 3142, 3143, 3144, 3145, 3146, 3147, 3148, 3149, 3150, 3151, 3152, 3153, 3154, 3155, 3156, 3157, 3158, 3159, 3160, 3161, 3162, 3163, 3164, 3165, 3166, 3167, 3168, 3169, 3170, 3171, 3172, 3173, 3174, 3175, 3176, 3177, 3178, 3179, 3180, 3181, 3182, 3183, 3184, 3185, 3186, 3187, 3188, 3189, 3190, 3191, 3192, 3193, 3194, 3195, 3196, 3197, 3198, 3199, 3200, 3201, 3202, 3203, 3204, 3205, 3206, 3207, 3208, 3209, 3210, 3211, 3212, 3213, 3214, 3215, 3216, 3217, 3218, 3219, 3220, 3221, 3222, 3223, 3224, 3225, 3226, 3227, 3228, 3229, 3230, 3231, 3232, 3233, 3234, 3235, 3236, 3237, 3238, 3239, 3240, 3241, 3242, 3243, 3244, 3245, 3246, 3247, 3248, 3249, 3250, 3251, 3252, 3253, 3254, 3255, 3256, 3257, 3258, 3259, 3260, 3261, 3262, 3263, 3264, 3265, 3266, 3267, 3268, 3269, 3270, 3271, 3272, 3273, 3274, 3275, 3276, 3277, 3278, 3279, 3280, 3281, 3282, 3283, 3284, 3285, 3286, 3287, 3288, 3289, 3290, 3291, 3292, 3293, 3294, 3295, 3296, 3297, 3298, 3299, 3300, 3301, 3302, 3303, 3304, 3305, 3306, 3307, 3308, 3309, 3310, 3311, 3312, 3313, 3314, 3315, 3316, 3317, 3318, 3319, 3320, 3321, 3322, 3323, 3324, 3325, 3326, 3327, 3328, 3329, 3330, 3331, 3332, 3333, 3334, 3335, 3336, 3337, 3338, 3339, 3340, 3341, 3342, 3343, 3344, 3345, 3346, 3347, 3348, 3349, 3350, 3351, 3352, 3353, 3354, 3355, 3356, 3357, 3358, 3359, 3360, 3361, 3362, 3363, 3364, 3365, 3366, 3367, 3368, 3369, 3370, 3371, 3372, 3373, 3374, 3375, 3376, 3377, 3378, 3379, 3380, 3381, 3382, 3383, 3384, 3385, 3386, 3387, 3388, 3389, 3390, 3391, 3392, 3393, 3394, 3395, 3396, 3397, 3398, 3399, 3400, 3401, 3402, 3403, 3404, 3405, 3406, 3407, 3408, 3409, 3410, 3411, 3412, 3413, 3414, 3415, 3416, 3417, 3418, 3419, 3420, 3421, 3422, 3423, 3424, 3425, 3426, 3427, 3428, 3429, 3430, 3431, 3432, 3433, 3434, 3435, 3436, 3437, 3438, 3439, 3440, 3441, 3442, 3443, 3444, 3445, 3446, 3447, 3448, 3449, 3450, 3451, 3452, 3453, 3454, 3455, 3456, 3457, 3458, 3459, 3460, 3461, 3462, 3463, 3464, 3465, 3466, 3467, 3468, 3469, 3470, 3471, 3472, 3473, 3474, 3475, 3476, 3477, 3478, 3479, 3480, 3481, 3482, 3483, 3484, 3485, 3486, 3487, 3488, 3489, 3490, 3491, 3492, 3493, 3494, 3495, 3496, 3497, 3498, 3499, 3500, 3501, 3502, 3503, 3504, 3505, 3506, 3507, 3508, 3509, 3510, 3511, 3512, 3513, 3514, 3515, 3516, 3517, 3518, 3519, 3520, 3521, 3522, 3523, 3524, 3525, 3526, 3527, 3528, 3529, 3530, 3531, 3532, 3533, 3534, 3535, 3536, 3537, 3538, 3539, 3540, 3541, 3542, 3543, 3544, 3545, 3546, 3547, 3548, 3549, 3550, 3551, 3552, 3553, 3554, 3555, 3556, 3557, 3558, 3559, 3560, 3561, 3562, 3563, 3564, 3565, 3566, 3567, 3568, 3569, 3570, 3571, 3572, 3573, 3574, 3575, 3576, 3577, 3578, 3579, 3580, 3581, 3582, 3583, 3584, 3585, 3586, 3587, 3588, 3589, 3590, 3591, 3592, 3593, 3594, 3595, 3596, 3597, 3598, 3599, 3600, 3601, 3602, 3603, 3604, 3605, 3606, 3607, 3608, 3609, 3610, 3611, 3612, 3613, 3614, 3615, 3616, 3617, 3618, 3619, 3620, 3621, 3622, 3623, 3624, 3625, 3626, 3627, 3628, 3629, 3630, 3631, 3632, 3633, 3634, 3635, 3636, 3637, 3638, 3639, 3640, 3641, 3642, 3643, 3644, 3645, 3646, 3647, 3648, 3649, 3650, 3651, 3652, 3653, 3654, 3655, 3656, 3657, 3658, 3659, 3660, 3661, 3662, 3663, 3664, 3665, 3666, 3667, 3668, 3669, 3670, 3671, 3672, 3673, 3674, 3675, 3676, 3677, 3678, 3679, 3680, 3681, 3682, 3683, 3684, 3685, 3686, 3687, 3688, 3689, 3690, 3691, 3692, 3693, 3694, 3695, 3696, 3697, 3698, 3699, 3700, 3701, 3702, 3703, 3704, 3705, 3706, 3707, 3708, 3709, 3710, 3711, 3712, 3713, 3714, 3715, 3716, 3717, 3718, 3719, 3720, 3721, 3722, 3723, 3724, 3725, 3726, 3727, 3728, 3729, 3730, 3731, 3732, 3733, 3734, 3735, 3736, 3737, 3738, 3739, 3740, 3741, 3742, 3743, 3744, 3745, 3746, 3747, 3748, 3749, 3750, 3751, 3752, 3753, 3754, 3755, 3756, 3757, 3758, 3759, 3760, 3761, 3762, 3763, 3764, 3765, 3766, 3767, 3768, 3769, 3770, 3771, 3772, 3773, 3774, 3775, 3776, 3777, 3778, 3779, 3780, 3781, 3782, 3783, 3784, 3785, 3786, 3787, 3788, 3789, 3790, 3791, 3792, 3793, 3794, 3795, 3796, 3797, 3798, 3799, 3800, 3801, 3802, 3803, 3804, 3805, 3806, 3807, 3808, 3809, 3810, 3811, 3812, 3813, 3814, 3815, 3816, 3817, 3818, 3819, 3820, 3821, 3822, 3823, 3824, 3825, 3826, 3827, 3828, 3829, 3830, 3831, 3832, 3833, 3834, 3835, 3836, 3837, 3838, 3839, 3840, 3841, 3842, 3843, 3844, 3845, 3846, 3847, 3848, 3849, 3850, 3851, 3852, 3853, 3854, 3855, 3856, 3857, 3858, 3859, 3860, 3861, 3862, 3863, 3864, 3865, 3866, 3867, 3868, 3869, 3870, 3871, 3872, 3873, 3874, 3875, 3876, 3877, 3878, 3879, 3880, 3881, 3882, 3883, 3884, 3885, 3886, 3887, 3888, 3889, 3890, 3891, 3892, 3893, 3894, 3895, 3896, 3897, 3898, 3899, 3900, 3901, 3902, 3903, 3904, 3905, 3906, 3907, 3908, 3909, 3910, 3911, 3912, 3913, 3914, 3915, 3916, 3917, 3918, 3919, 3920, 3921, 3922, 3923, 3924, 3925, 3926, 3927, 3928, 3929, 3930, 3931, 3932, 3933, 3934, 3935, 3936, 3937, 3938, 3939, 3940, 3941, 3942, 3943, 3944, 3945, 3946, 3947, 3948, 3949, 3950, 3951, 3952, 3953, 3954, 3955, 3956, 3957, 3958, 3959, 3960, 3961, 3962, 3963, 3964, 3965, 3966, 3967, 3968, 3969, 3970, 3971, 3972, 3973, 3974, 3975, 3976, 3977, 3978, 3979, 3980, 3981, 3982, 3983, 3984, 3985, 3986, 3987, 3988, 3989, 3990, 3991, 3992, 3993, 3994, 3995], \"y\": [0.7263129949569702, 0.7414306998252869, 0.6743913888931274, 0.7293229103088379, 0.6877239942550659, 0.7219555377960205, 0.6968320608139038, 1.022172451019287, 0.7223832607269287, 1.870970606803894, 0.7210052013397217, 0.6725056171417236, 0.7202895879745483, 0.7007641792297363, 0.7461490035057068, 0.77614426612854, 0.636104941368103, 0.34265124797821045, 0.6242309808731079, 0.6363111734390259, 0.7207326889038086, 0.7147334814071655, 0.7017252445220947, 0.6267091035842896, 0.7121764421463013, 0.7044129371643066, 0.7012144923210144, 0.6463537812232971, 3.0830538272857666, 0.6806085705757141, 0.7037078142166138, 0.735987663269043, 0.7100330591201782, 0.7141055464744568, 0.6799114346504211, 0.7075421810150146, 0.8964399695396423, 0.7323647141456604, 0.7087317705154419, 0.7713032960891724, 0.7076436877250671, 0.6969680786132812, 0.6645289063453674, 0.7620730400085449, 0.7324628829956055, 0.6723657846450806, 0.7220712900161743, 0.6910686492919922, 0.6560293436050415, 0.7212845087051392, 0.7367699146270752, 0.700198769569397, 0.654374361038208, 0.6927189230918884, 0.6970839500427246, 0.6610387563705444, 0.7525972127914429, 0.7322120070457458, 0.5471140146255493, 0.748490035533905, 0.7027455568313599, 0.7244651913642883, 0.5624336004257202, 0.6900665760040283, 0.6952423453330994, 0.6298545598983765, 0.7086918354034424, 0.7187448740005493, 0.8367608785629272, 0.6976145505905151, 0.7382094860076904, 0.7301208972930908, 0.7029122114181519, 0.6396160125732422, 0.7304946184158325, 0.7368663549423218, 0.6806188225746155, 0.677406907081604, 0.7472847700119019, 0.6526609659194946, 0.7024728059768677, 0.6871334314346313, 0.40433651208877563, 0.6982995271682739, 0.6875752210617065, 0.744347870349884, 1.2578308582305908, 0.7429265379905701, 0.6909312009811401, 0.6776270866394043, 0.7203842997550964, 0.6807987689971924, 0.714941143989563, 0.7032872438430786, 0.6573992967605591, 0.9492024183273315, 0.7041352987289429, 0.7010616064071655, 0.7018198370933533, 0.726538896560669, 0.7123153209686279, 0.7283101677894592, 0.6648658514022827, 0.687934160232544, 0.7180337905883789, 0.6736279726028442, 0.6856158375740051, 0.6727966070175171, 0.7224081754684448, 0.6917878985404968, 0.6643857955932617, 0.6080220937728882, 0.6705566644668579, 1.0532382726669312, 0.6351953744888306, 0.7842453718185425, 0.6570625305175781, 0.6937190294265747, 0.7286868095397949, 0.7537780404090881, 0.6896218657493591, 0.6706169247627258, 0.7154369950294495, 0.6768789291381836, 0.6532613039016724, 0.7159035801887512, 0.7484845519065857, 0.6964781284332275, 0.7437588572502136, 0.7295061349868774, 0.6836901903152466, 0.6902274489402771, 0.6969730854034424, 0.7134411931037903, 0.681013822555542, 0.7024810314178467, 0.6981173157691956, 0.7107910513877869, 0.6749358177185059, 0.688145637512207, 0.6455273628234863, 0.7377049922943115, 0.6357736587524414, 0.7401986122131348, 0.6796941757202148, 0.6907757520675659, 0.6731904149055481, 0.629260778427124, 0.6949337720870972, 0.725544810295105, 0.3236742317676544, 0.6393487453460693, 0.7002347707748413, 0.7075068950653076, 0.6972547173500061, 0.7187535762786865, 0.7124055624008179, 0.6757370829582214, 0.7008494138717651, 0.7525131106376648, 0.7077967524528503, 0.6822596788406372, 0.6608380079269409, 0.7201545834541321, 0.7295312881469727, 0.6790491342544556, 0.7157241106033325, 0.6625344753265381, 0.7776654958724976, 0.398139089345932, 0.6449737548828125, 0.7098684310913086, 0.7505283951759338, 0.6747405529022217, 0.6803622245788574, 0.6612468957901001, 0.6658487319946289, 0.7360638976097107, 0.7448861002922058, 0.6915708780288696, 0.7106285095214844, 0.526069164276123, 0.6984188556671143, 0.48791784048080444, 0.9664416313171387, 0.7020187377929688, 0.7009155750274658, 0.6846569776535034, 0.6835147142410278, 0.6624302864074707, 0.5407711267471313, 0.7721655964851379, 0.643774688243866, 0.6349220275878906, 0.7231317162513733, 0.7053916454315186, 0.7080602645874023, 0.6575894355773926, 0.6729196906089783, 0.7133416533470154, 0.7075934410095215, 0.7300832271575928, 0.7132377624511719, 0.715309739112854, 0.7182643413543701, 0.6825307607650757, 0.6771009564399719, 0.7358421087265015, 0.6841722726821899, 0.7100822925567627, 0.74187171459198, 0.6833475828170776, 0.694585919380188, 0.9694886207580566, 0.6759275197982788, 0.6707435846328735, 0.7094332575798035, 0.6411880850791931, 0.7090712785720825, 0.688011884689331, 0.6987125873565674, 0.736862063407898, 0.6986786127090454, 0.70732182264328, 0.6736272573471069, 0.7382081151008606, 0.6485437154769897, 0.6245001554489136, 0.6975585222244263, 0.6314631700515747, 0.7877504825592041, 0.684374213218689, 1.057537317276001, 0.7318255305290222, 0.7226166725158691, 0.682110071182251, 0.66273033618927, 0.6533275246620178, 0.6945924162864685, 0.7155406475067139, 0.7086019515991211, 0.7038230895996094, 0.6769756078720093, 0.691760241985321, 0.6773656010627747, 0.7123289108276367, 0.7377644777297974, 0.7876006364822388, 0.7018818855285645, 0.6810745000839233, 0.722334623336792, 0.6962054967880249, 0.662819504737854, 0.6713770031929016, 0.7025110721588135, 1.0569021701812744, 0.7430302500724792, 0.6826486587524414, 0.7105004787445068, 0.6303313970565796, 0.697211742401123, 0.6395572423934937, 0.696637749671936, 0.6605179309844971, 0.6480801105499268, 0.6836353540420532, 0.6652882695198059, 0.6939619779586792, 0.7485599517822266, 0.7060688734054565, 0.6930921077728271, 0.6728875637054443, 0.724966287612915, 0.6607425808906555, 0.7103875875473022, 0.40384572744369507, 0.746186375617981, 0.709554135799408, 0.6426246166229248, 0.7639470100402832, 0.7227054238319397, 0.6944079399108887, 0.7138780951499939, 0.7240558862686157, 0.769492506980896, 1.5029993057250977, 0.6631425619125366, 0.6490834951400757, 0.7360634803771973, 0.6840404272079468, 0.7517136335372925, 0.6583375334739685, 0.5658818483352661, 0.7198855876922607, 0.689685583114624, 0.7063932418823242, 0.7021689414978027, 0.6315325498580933, 0.6908312439918518, 0.683790385723114, 0.6911254525184631, 0.6782912611961365, 0.6481871604919434, 0.6949948668479919, 0.6908717155456543, 0.6808604598045349, 0.5487172603607178, 0.6867218017578125, 0.6932789087295532, 0.8342714905738831, 0.3270130157470703, 0.7258517146110535, 0.6665232181549072, 0.679131269454956, 0.7650561332702637, 0.6898617148399353, 0.719360888004303, 0.7313187122344971, 0.6891307830810547, 0.6903895139694214, 0.6994460225105286, 0.7009027004241943, 0.6976637244224548, 0.696276068687439, 0.7306786775588989, 0.6952153444290161, 0.7010105848312378, 0.7008227109909058, 0.7274777889251709, 0.6981900930404663, 0.6635693311691284, 0.35478898882865906, 0.6815796494483948, 0.745722770690918, 0.6765825748443604, 0.6678560972213745, 0.7471190690994263, 0.7292338609695435, 0.6848916411399841, 0.6764090061187744, 0.7249707579612732, 0.716862678527832, 0.6868544816970825, 0.682486891746521, 0.6372135877609253, 0.7406408786773682, 0.6517962217330933, 0.6597350835800171, 0.7614929676055908, 0.6926282644271851, 0.664246141910553, 0.7172614336013794, 0.6180989742279053, 0.658281683921814, 0.6861385107040405, 1.8396661281585693, 0.7428057193756104, 0.7297961711883545, 0.6882060766220093, 0.7033804655075073, 0.6743942499160767, 0.6873219013214111, 0.6558281779289246, 0.7214211821556091, 0.6690815687179565, 0.6592056751251221, 0.7192599773406982, 0.682988166809082, 0.675513744354248, 0.6901167631149292, 0.630151629447937, 0.6430885791778564, 0.67085862159729, 0.66926109790802, 1.2174206972122192, 0.6324506998062134, 0.6688119173049927, 0.6878812313079834, 0.7147078514099121, 0.6778591871261597, 0.7257969379425049, 0.6616649031639099, 0.7081011533737183, 0.7715741395950317, 0.6853844523429871, 0.6806212663650513, 0.7361617684364319, 0.6623587608337402, 0.8101224899291992, 0.6856464147567749, 0.655157744884491, 0.6651532649993896, 0.6525004506111145, 0.628251850605011, 0.7296161651611328, 0.6960498094558716, 0.6680337190628052, 0.7270752191543579, 0.6740407943725586, 0.6832923293113708, 0.6349882483482361, 0.7081434726715088, 0.6212603449821472, 0.6426929235458374, 0.6417907476425171, 0.7258038520812988, 0.6856573820114136, 0.7388733625411987, 0.6342478394508362, 0.6847376823425293, 0.6596254110336304, 0.8020356297492981, 0.5455480217933655, 0.7575386762619019, 0.7609443068504333, 0.6949886083602905, 0.7827582359313965, 0.6804494857788086, 0.6693055629730225, 0.7594805955886841, 0.743216872215271, 0.7347820997238159, 0.7275376319885254, 0.7487819194793701, 0.6528929471969604, 0.6950669884681702, 0.6349718570709229, 0.6574465036392212, 0.6368882060050964, 0.6523406505584717, 0.554215669631958, 0.6580826044082642, 0.6865789890289307, 0.7266850471496582, 0.35421696305274963, 0.590422511100769, 0.661798894405365, 0.6951006650924683, 0.7301402688026428, 0.7207241058349609, 0.699843168258667, 0.6948761940002441, 0.8519710898399353, 0.6618436574935913, 0.6739953756332397, 0.6615926027297974, 0.7088195085525513, 0.6987077593803406, 0.6697980165481567, 0.6800055503845215, 0.6987138986587524, 0.6721629500389099, 0.8223875164985657, 0.7752503156661987, 0.7166388034820557, 0.6605230569839478, 0.6605777740478516, 0.6126296520233154, 0.733993411064148, 0.7403398156166077, 0.6760215163230896, 0.6933211088180542, 0.6813629865646362, 0.7014573812484741, 0.6739752888679504, 0.6907570362091064, 0.6971302628517151, 0.6652674674987793, 1.3358826637268066, 0.7476546168327332, 0.6345323920249939, 0.671326756477356, 0.693571925163269, 0.6839562654495239, 0.6792179346084595, 0.8256006240844727, 0.622037410736084, 0.9985091686248779, 3.2693912982940674, 0.690287709236145, 0.5508226156234741, 0.7214672565460205, 0.7002339363098145, 0.7106728553771973, 0.6951876878738403, 0.7046375274658203, 0.6052078604698181, 0.6831802129745483, 0.7052501440048218, 0.8418220281600952, 0.704686164855957, 0.4852472245693207, 0.5586074590682983, 0.7737195491790771, 0.7271037101745605, 0.4779464602470398, 0.7292555570602417, 0.6855387687683105, 0.7414170503616333, 0.6750920414924622, 1.5052387714385986, 0.6494799852371216, 0.7215371131896973, 0.6418728828430176, 0.7013841271400452, 0.6804795265197754, 0.7158400416374207, 0.6127245426177979, 0.6121071577072144, 0.7007967233657837, 0.6375981569290161, 0.6427961587905884, 0.7568779587745667, 0.7083510160446167, 0.7078838348388672, 0.7487677335739136, 0.7212622165679932, 0.6612036824226379, 0.6922136545181274, 0.7054171562194824, 0.8947350978851318, 0.6374361515045166, 0.6793060898780823, 0.6912004947662354, 0.7119177579879761, 0.6605802774429321, 0.7222316861152649, 0.6689790487289429, 0.7522753477096558, 0.732821524143219, 0.45397669076919556, 0.6869949102401733, 0.7132704257965088, 0.6796098947525024, 0.6311842799186707, 0.6601967811584473, 0.7229630351066589, 0.6759264469146729, 0.7179090976715088, 0.729775071144104, 0.7333986759185791, 0.7151216268539429, 0.6415517330169678, 0.7166138887405396, 0.655681312084198, 0.6809219121932983, 0.741269588470459, 0.8249667882919312, 0.6421964764595032, 0.6749671697616577, 0.6673054695129395, 0.6709561347961426, 0.7140291929244995, 0.6784645318984985, 0.65411376953125, 0.7525267601013184, 0.6617003679275513, 0.583754301071167, 0.6921813488006592, 0.6600362062454224, 0.7195771932601929, 0.6612938642501831, 0.6927928924560547, 0.7312589883804321, 0.9831202030181885, 0.7744572162628174, 0.7101761102676392, 0.8217380046844482, 0.6956737041473389, 0.6759942173957825, 0.664461612701416, 0.6461973786354065, 0.763425886631012, 1.649351954460144, 0.6849673986434937, 0.6867737770080566, 0.7176463603973389, 0.7069970965385437, 0.6733384132385254, 0.6707738637924194, 0.6433665752410889, 0.6424801349639893, 0.6939538717269897, 0.6458990573883057, 0.6044989824295044, 0.6272854804992676, 0.7417503595352173, 0.6873610019683838, 0.6762655973434448, 0.603312075138092, 0.8541935682296753, 0.7227258682250977, 0.733919620513916, 0.6747637987136841, 0.6611158847808838, 0.9568861722946167, 0.7034221887588501, 0.6623924970626831, 1.097825288772583, 0.7301141023635864, 0.7248710989952087, 0.7267715930938721, 0.6212682127952576, 0.6047300100326538, 0.711212158203125, 0.6579325199127197, 0.7436065077781677, 0.657017707824707, 0.6996166706085205, 0.6782302856445312, 0.7122811675071716, 0.6802709102630615, 0.7151927351951599, 0.6698423624038696, 0.6095861196517944, 0.6981087923049927, 0.7071489095687866, 0.5803285837173462, 0.6788173317909241, 0.7203612327575684, 0.6817296743392944, 0.6703206300735474, 1.1975455284118652, 0.6658123731613159, 0.6755616068840027, 0.6554089784622192, 0.7026499509811401, 0.6853904128074646, 0.728343665599823, 0.7627691030502319, 0.7041854858398438, 0.6666128635406494, 0.6608664989471436, 0.6670868396759033, 0.6797341704368591, 0.73781418800354, 0.745732307434082, 0.702478289604187, 0.7057377099990845, 0.42782098054885864, 0.6922838687896729, 0.8012861013412476, 0.6501224637031555, 0.7013107538223267, 0.6678985357284546, 0.6993011236190796, 0.6857346892356873, 0.6455385684967041, 0.6875292062759399, 0.845993161201477, 0.7087937593460083, 0.6841294169425964, 0.6827179193496704, 0.7105387449264526, 0.7035032510757446, 0.665910005569458, 0.7425075769424438, 0.8313353061676025, 0.6337283849716187, 0.7103295922279358, 0.6548095941543579, 0.6990854144096375, 0.6836642026901245, 0.5941791534423828, 0.6260221004486084, 0.6895567774772644, 0.9217991232872009, 0.6812825202941895, 0.7001187205314636, 0.5902101397514343, 0.45765817165374756, 0.7147255539894104, 0.7030906677246094, 0.7204271554946899, 0.7224311828613281, 0.7224168181419373, 0.6976766586303711, 0.8063693642616272, 0.8471666574478149, 0.7358804941177368, 0.6762217283248901, 0.6558810472488403, 0.7661598920822144, 0.6991450190544128, 0.6346722841262817, 0.7033629417419434, 0.5324162244796753, 0.6549004316329956, 0.6568019390106201, 0.701412558555603, 0.7544361352920532, 0.6465198993682861, 0.5985049605369568, 0.7412576675415039, 0.7727550268173218, 0.7449647784233093, 0.7342652082443237, 0.6894216537475586, 0.69556725025177, 0.6822322607040405, 0.680330753326416, 1.3672593832015991, 0.641852855682373, 0.7140264511108398, 0.6897790431976318, 0.6509869694709778, 0.7119803428649902, 0.6726566553115845, 0.8021093010902405, 0.7551898956298828, 0.7157903909683228, 0.7154241800308228, 0.7224338054656982, 0.6691040992736816, 0.6696771383285522, 0.6873224377632141, 0.7064138650894165, 0.7108656167984009, 0.642179012298584, 0.7047683000564575, 0.7029708623886108, 0.780091404914856, 0.7239470481872559, 0.6885776519775391, 0.6850227117538452, 0.733008623123169, 0.6756037473678589, 0.7095302939414978, 0.6876901984214783, 0.6656742691993713, 0.7784439325332642, 0.6846979856491089, 0.6666902899742126, 0.6758003234863281, 1.5190184116363525, 0.6645665168762207, 0.6780539155006409, 0.6671600341796875, 0.6435303688049316, 0.6954106092453003, 0.6605963110923767, 0.6978944540023804, 0.6306930780410767, 0.6895611882209778, 0.703194260597229, 0.7041159868240356, 0.6115609407424927, 0.5445756316184998, 0.6295474171638489, 0.6925264596939087, 0.7009729146957397, 0.6864948868751526, 0.6811151504516602, 0.6896941661834717, 0.6488586664199829, 0.6382213830947876, 0.6502549648284912, 0.6608788967132568, 0.643475353717804, 0.9346786737442017, 0.7095885276794434, 0.6878471374511719, 0.7198740243911743, 0.869179368019104, 0.6873955726623535, 0.6938170194625854, 0.5737122893333435, 0.7014502286911011, 0.6818332672119141, 0.647047758102417, 0.616946816444397, 0.7066295742988586, 0.9092047214508057, 0.6553311944007874, 0.689290463924408, 0.7628377676010132, 0.7778657674789429, 0.7528109550476074, 0.7126097083091736, 0.6601016521453857, 0.6687649488449097, 0.70256507396698, 0.7228626012802124, 0.7439974546432495, 0.6937738656997681, 0.6929822564125061, 0.7420527935028076, 0.720535933971405, 0.6722108721733093, 0.8852642774581909, 0.6953576803207397, 0.7190408706665039, 0.6623484492301941, 0.6502439975738525, 0.7396339178085327, 0.6688695549964905, 0.7067803740501404, 0.6957260370254517, 0.6964465379714966, 0.6904478073120117, 0.6961838603019714, 0.6873382329940796, 0.6830015182495117, 0.6015079617500305, 0.7031922340393066, 0.7349078059196472, 0.7276593446731567, 0.7349311113357544, 0.6639387607574463, 0.746688723564148, 0.7051536440849304, 0.6709213256835938, 0.7461645603179932, 0.7636324167251587, 0.6759892702102661, 0.6503831148147583, 0.5938913822174072, 0.7708300352096558, 0.7394477128982544, 0.680588960647583, 0.6679607629776001, 0.7756455540657043, 0.7640870809555054, 0.6759452819824219, 0.6973605155944824, 0.8558715581893921, 1.5565797090530396, 0.7097297310829163, 0.7335267066955566, 0.6771199703216553, 0.6857230067253113, 1.5600825548171997, 0.7540979385375977, 0.6996410489082336, 0.7350811958312988, 0.7569880485534668, 0.6893160343170166, 0.6446036100387573, 0.6852787733078003, 0.6995155215263367, 0.6411938667297363, 0.705897867679596, 0.6536911725997925, 0.7180439233779907, 0.6728639602661133, 0.4748084545135498, 0.7105040550231934, 0.5616791248321533, 0.6810295581817627, 0.6352964043617249, 0.6486758589744568, 0.7313019037246704, 0.7424861788749695, 0.7164999842643738, 0.6116191744804382, 0.7316572666168213, 0.6994697451591492, 0.6861703991889954, 0.6316096186637878, 0.6486757397651672, 0.3722853660583496, 0.6489147543907166, 0.6982851028442383, 0.7776508331298828, 0.6798578500747681, 0.6686837673187256, 0.5813542008399963, 0.7611023187637329, 0.7258312702178955, 0.6849949359893799, 0.63795006275177, 0.6847221851348877, 0.7566709518432617, 0.7210958003997803, 0.6931626796722412, 0.8818274736404419, 0.6441118717193604, 0.6957216262817383, 0.6429674625396729, 0.6807951927185059, 0.746345043182373, 0.7322425842285156, 0.7405334711074829, 0.7184126377105713, 0.7037280797958374, 0.7329642176628113, 0.7163563966751099, 0.6351462602615356, 0.7739889621734619, 0.6509667634963989, 0.9134608507156372, 0.708816409111023, 0.7342441082000732, 0.6870945692062378, 0.6985576748847961, 0.8067888021469116, 0.40520167350769043, 0.6968239545822144, 0.6383060216903687, 0.7037789225578308, 0.6395524144172668, 0.5613614320755005, 0.7238576412200928, 0.8280208110809326, 0.758784294128418, 0.7104239463806152, 0.7063871622085571, 0.7050788998603821, 0.6306756734848022, 0.8277667760848999, 0.6908981800079346, 0.7222112417221069, 0.7099195718765259, 0.7645545601844788, 0.7197884917259216, 0.9885064959526062, 0.6072791814804077, 0.7086701989173889, 0.764864444732666, 1.6518254280090332, 0.5929884314537048, 0.6639162302017212, 0.6758537292480469, 0.5470654964447021, 0.7774932384490967, 0.7313074469566345, 0.6648851633071899, 0.8310874104499817, 0.682291567325592, 0.767922580242157, 0.44122493267059326, 0.7058160901069641, 0.6865626573562622, 0.632132887840271, 0.6637625694274902, 0.6379532814025879, 0.6924552917480469, 0.7386713027954102, 0.6799023151397705, 0.6958959698677063, 0.7858308553695679, 1.0985089540481567, 0.6542614698410034, 0.6928647756576538, 0.6670761108398438, 1.22450590133667, 0.7166339159011841, 0.6735014915466309, 0.30358895659446716, 0.7203754782676697, 0.679188072681427, 0.6756938695907593, 0.7444133162498474, 0.6815458536148071, 0.6493089199066162, 0.6686810255050659, 0.8228127956390381, 0.6409167051315308, 0.7405616641044617, 0.6927235126495361, 0.6449766159057617, 0.6209971904754639, 0.7538385391235352, 0.6828354597091675, 0.7835111618041992, 0.6337139010429382, 0.6585147976875305, 0.6613770723342896, 0.7093532085418701, 0.7322821021080017, 0.6365163326263428, 0.7852562665939331, 0.7426424026489258, 0.5963562726974487, 0.603073239326477, 0.6661431789398193, 0.6720941662788391, 0.6814285516738892, 0.6843841075897217, 0.6468526124954224, 0.6538888812065125, 0.7290859222412109, 0.6816346645355225, 0.7839460372924805, 0.9331321716308594, 0.8344845771789551, 0.6628882884979248, 0.725441575050354, 0.641169011592865, 0.693162739276886, 2.1450023651123047, 0.7464653253555298, 0.7301241159439087, 0.6532109975814819, 0.6709206700325012, 0.6777899861335754, 0.6355447173118591, 1.1433194875717163, 0.39449065923690796, 0.6569602489471436, 0.7003903388977051, 0.6809905767440796, 0.7257426381111145, 0.6927481889724731, 0.7861384153366089, 0.5775931477546692, 0.737275242805481, 0.6831790208816528, 0.7337613701820374, 0.38430115580558777, 0.6899951696395874, 0.7162594795227051, 0.7170987725257874, 0.8472026586532593, 0.7104451656341553, 0.8615306615829468, 0.6919752955436707, 0.7429962158203125, 0.8864607214927673, 0.637349009513855, 0.641017735004425, 0.6707491874694824, 0.6405611038208008, 0.773633599281311, 0.7179964780807495, 0.6943386197090149, 0.6647854447364807, 0.6834543943405151, 0.6505641937255859, 0.655684232711792, 0.7382780313491821, 0.6758211851119995, 0.6708503365516663, 0.7182968854904175, 0.6605738401412964, 0.784447193145752, 0.6872159242630005, 0.6691208481788635, 0.7402772903442383, 0.6644915342330933, 0.7463719248771667, 0.8337914943695068, 0.6389872431755066, 0.7564526796340942, 0.6685100793838501, 0.6526808738708496, 0.7503615021705627, 0.713608980178833, 0.6135904788970947, 0.6877529621124268, 0.6851658821105957, 0.7005993127822876, 0.6777516007423401, 0.7841436862945557, 0.6962553262710571, 0.6562426090240479, 0.6939725875854492, 0.5992400050163269, 0.7660022974014282, 0.7609738111495972, 0.7027671337127686, 0.5304777026176453, 0.6765109300613403, 0.7187970876693726, 0.7684335112571716, 0.6477838754653931, 0.7107930183410645, 0.7035194635391235, 0.6789987087249756, 0.6574482917785645, 0.7083601951599121, 0.6693507432937622, 0.6475131511688232, 0.6724363565444946, 0.6596529483795166, 0.6868534088134766, 0.6801257133483887, 0.675754189491272, 0.6957959532737732, 0.7436313629150391, 0.7269056439399719, 1.1715675592422485, 0.70034259557724, 0.691534161567688, 0.8315948247909546, 0.757465124130249, 0.6760656237602234, 0.6498538851737976, 0.5034098029136658, 0.7270496487617493, 1.1398365497589111, 0.6735503673553467, 0.6673403978347778, 0.7945825457572937, 0.6877081394195557, 0.6718549728393555, 0.7427715063095093, 0.6574423313140869, 0.694243311882019, 0.6734656095504761, 0.6880611181259155, 0.6602396965026855, 0.740746259689331, 0.7656304240226746, 0.653501570224762, 0.7136571407318115, 0.6364591121673584, 0.6405237317085266, 0.6868833303451538, 0.6982026696205139, 0.6861319541931152, 0.6227853298187256, 0.6919921636581421, 0.6415935754776001, 0.7119860649108887, 0.6966736316680908, 0.7319239974021912, 0.7111661434173584, 0.7266660332679749, 0.6525426506996155, 0.6495456695556641, 0.8365882635116577, 0.7045383453369141, 0.6896044611930847, 0.6980904340744019, 0.6722229719161987, 0.6923587322235107, 0.6543036699295044, 0.6185076236724854, 0.732011616230011, 0.9800057411193848, 0.6576833724975586, 0.7030816078186035, 0.6996655464172363, 0.7520610094070435, 0.5949941873550415, 0.7638139724731445, 0.7387263774871826, 0.67753666639328, 0.6760940551757812, 0.7495768070220947, 0.6774370670318604, 0.6819853782653809, 0.6936378479003906, 0.6797075271606445, 0.707460880279541, 0.662962794303894, 0.67218017578125, 0.6796164512634277, 0.6764143705368042, 0.7175360321998596, 0.7693289518356323, 0.779056966304779, 0.611748456954956, 0.700341522693634, 0.6775078773498535, 0.7076183557510376, 0.6737841963768005, 0.6205275654792786, 1.66643488407135, 0.6523171067237854, 0.7248737812042236, 0.7110008597373962, 0.65183424949646, 0.7024121284484863, 0.7370069026947021, 0.5543547868728638, 0.9922808408737183, 0.7592530846595764, 0.6556923985481262, 0.6120901703834534, 0.7136406898498535, 0.7164100408554077, 0.4832926392555237, 0.7287389636039734, 0.7549465298652649, 0.7219836115837097, 0.6801925301551819, 0.7257578372955322, 0.7160165309906006, 0.6816815137863159, 0.7301472425460815, 0.7349189519882202, 0.7258790135383606, 0.7452207207679749, 0.6726826429367065, 0.6849256753921509, 0.6958949565887451, 0.7117432951927185, 0.6876471042633057, 0.701987087726593, 0.7537928819656372, 0.7487783432006836, 0.6220482587814331, 0.7723173499107361, 0.7140213847160339, 0.678733229637146, 0.70526123046875, 0.7522115707397461, 0.6296635866165161, 0.7451885342597961, 0.7374297380447388, 0.7000372409820557, 0.6748108863830566, 0.3407779932022095, 0.6854451894760132, 0.6847474575042725, 0.7202054262161255, 0.6175873279571533, 0.7130979895591736, 0.7325040102005005, 0.6760995388031006, 0.7029998898506165, 0.7551972270011902, 0.5968095660209656, 0.7225539684295654, 0.6346739530563354, 0.7517350912094116, 0.721554160118103, 0.4735335409641266, 0.6878567934036255, 0.7369607090950012, 0.7667997479438782, 0.6505838632583618, 0.6771652102470398, 0.6395111680030823, 0.6731724739074707, 0.804379940032959, 0.6563261151313782, 0.8800325989723206, 0.6771713495254517, 0.718161940574646, 0.6463614702224731, 0.7314186692237854, 0.660169780254364, 0.7100309133529663, 0.5736694931983948, 0.7096231579780579, 0.9769668579101562, 0.7461163997650146, 0.7125531435012817, 0.6835147142410278, 0.7394970655441284, 0.6967585682868958, 0.6999682188034058, 0.643367350101471, 0.7025427222251892, 0.6965674161911011, 0.682880163192749, 0.7025002837181091, 0.735305666923523, 1.1005704402923584, 0.7122751474380493, 0.6870851516723633, 0.5665870904922485, 0.7699807286262512, 0.6619077324867249, 0.7702749967575073, 0.6881448030471802, 0.7376070022583008, 0.6480259895324707, 0.6810749769210815, 0.7043424844741821, 0.706425666809082, 0.6221669912338257, 0.6890907287597656, 0.6676890254020691, 0.7980414032936096, 0.6523782014846802, 0.7166262865066528, 0.7380200624465942, 0.6840499639511108, 0.7186425924301147, 0.6664378643035889, 0.7292116284370422, 0.6643083095550537, 0.6844899654388428, 0.6724203824996948, 0.7471108436584473, 0.7415836453437805, 0.6646296381950378, 0.7007609009742737, 0.7293350696563721, 0.689083456993103, 0.741248369216919, 0.6989669799804688, 0.6622323989868164, 0.6769711375236511, 0.7195544242858887, 0.6865481734275818, 0.6855411529541016, 0.46526461839675903, 0.7371296882629395, 0.721279501914978, 0.6753163933753967, 0.7143622636795044, 0.6729480028152466, 0.6869214177131653, 0.6712491512298584, 0.7331815958023071, 0.7122071385383606, 0.6599059104919434, 0.6507962942123413, 0.6713817119598389, 0.6866747140884399, 0.6892765760421753, 0.6991552710533142, 0.7022439241409302, 0.7403769493103027, 0.6995831727981567, 0.6724146604537964, 0.6484325528144836, 0.8946149349212646, 0.6397857666015625, 0.6406107544898987, 0.7719851732254028, 0.6402373909950256, 0.6575488448143005, 0.6751896739006042, 0.7187352180480957, 0.6633296012878418, 0.654047966003418, 0.7412023544311523, 0.6906492710113525, 0.6444611549377441, 0.6636645197868347, 0.6613298058509827, 0.7704403400421143, 0.7097306251525879, 0.7261649966239929, 0.6884854435920715, 0.6457318067550659, 0.6912148594856262, 0.6857540607452393, 0.5459440350532532, 0.6970082521438599, 0.6812256574630737, 0.6849586963653564, 0.7563639879226685, 0.7242380976676941, 0.6039851903915405, 0.6520549058914185, 0.7573614716529846, 0.6632400751113892, 0.6646208167076111, 0.7231061458587646, 0.6180176734924316, 0.7772715091705322, 0.7193535566329956, 0.7008951902389526, 0.6820852756500244, 0.7559967041015625, 0.5465670824050903, 0.6109178066253662, 0.6897367238998413, 0.6745230555534363, 0.7055680751800537, 0.7834067940711975, 1.2909936904907227, 1.2744815349578857, 0.6873911619186401, 0.740443229675293, 0.6505593061447144, 0.630683183670044, 0.706995964050293, 0.6457825899124146, 0.5357600450515747, 0.7434111833572388, 0.7716538310050964, 0.6411501169204712, 0.6930428147315979, 0.6847279667854309, 0.6264742612838745, 0.6716837286949158, 0.6951590180397034, 0.6856129169464111, 0.7405896186828613, 0.685917854309082, 0.7342963218688965, 0.7145074009895325, 0.6589532494544983, 0.7504314184188843, 0.5807358026504517, 0.5752834677696228, 0.6526010036468506, 0.684632420539856, 0.6545267105102539, 0.7349555492401123, 0.7014070749282837, 0.6968045234680176, 0.6979048848152161, 0.731574296951294, 0.7243301868438721, 0.6676315069198608, 0.6857885718345642, 0.6329376697540283, 0.6560441851615906, 0.7333735823631287, 0.6859638690948486, 0.6620801687240601, 0.6727302074432373, 0.7114422917366028, 0.8450384736061096, 0.6629765033721924, 0.7618968486785889, 0.6921952366828918, 0.6878572106361389, 0.6965584754943848, 0.672961950302124, 0.6902240514755249, 0.7240817546844482, 0.7168506383895874, 0.6977148056030273, 0.7094859480857849, 0.6849324107170105, 0.6942678093910217, 0.6865874528884888, 0.7370699644088745, 0.6674536466598511, 0.7202509641647339, 0.7250016927719116, 0.7066731452941895, 0.6949007511138916, 0.6939650774002075, 0.7099031209945679, 0.6761343479156494, 0.6179931163787842, 0.699211061000824, 0.6840591430664062, 0.7022504806518555, 0.6285805106163025, 0.6857457160949707, 0.6585973501205444, 0.7083916068077087, 0.835655689239502, 0.6306331157684326, 0.3878883421421051, 0.6903855800628662, 0.6867960691452026, 0.6620409488677979, 0.7403475642204285, 0.7024257183074951, 0.6635599136352539, 0.8168514966964722, 0.698352575302124, 0.6520751714706421, 0.7049115300178528, 0.9843670129776001, 0.6547238826751709, 0.6876696348190308, 0.5217189788818359, 0.714402437210083, 0.7024868726730347, 0.6555033922195435, 0.6962684988975525, 0.7268118858337402, 0.6349291205406189, 0.6701781749725342, 0.6734710931777954, 0.7765200138092041, 0.6930737495422363, 0.7441332340240479, 0.6482840776443481, 0.7044029831886292, 0.721743106842041, 0.6925127506256104, 0.6360944509506226, 0.7237295508384705, 0.6420537233352661, 0.7277185320854187, 0.7315765619277954, 0.7515154480934143, 0.7468056082725525, 0.7055493593215942, 0.7408022880554199, 0.6632328629493713, 0.7643395662307739, 0.6098191738128662, 0.7268706560134888, 0.6592178344726562, 0.6097007989883423, 0.7470327019691467, 0.68372642993927, 0.7181788682937622, 0.6350706815719604, 0.719001293182373, 0.7374868392944336, 0.7020236253738403, 0.6922852993011475, 0.6805161237716675, 0.6710114479064941, 0.6246480941772461, 0.6714616417884827, 0.6717542409896851, 0.6740448474884033, 0.6751737594604492, 0.7059240341186523, 0.6595064401626587, 0.6857008934020996, 0.6923187971115112, 0.7831525802612305, 0.6155231595039368, 0.7645281553268433, 0.7206243872642517, 0.9589635133743286, 0.6767855882644653, 0.649773359298706, 0.6888412237167358, 0.7095606327056885, 0.7495012283325195, 0.6911247372627258, 0.7178504467010498, 0.7573897242546082, 0.6379489898681641, 0.6248947978019714, 0.6983915567398071, 0.6825870275497437, 0.6950639486312866, 0.5938072204589844, 0.6519254446029663, 0.7431819438934326, 0.6869277954101562, 0.6729016304016113, 0.7542984485626221, 0.6719956994056702, 0.5906968712806702, 0.6900820732116699, 0.6664237976074219, 0.6820287704467773, 0.3980685770511627, 0.7087053060531616, 0.6543315649032593, 0.6627898216247559, 0.639171302318573, 0.7202632427215576, 1.2690922021865845, 0.8147518634796143, 0.6820113658905029, 0.684482216835022, 0.7110785245895386, 0.6490108966827393, 0.7305827140808105, 0.7341846823692322, 0.6724708080291748, 0.6890994310379028, 0.6844221949577332, 0.6061132550239563, 0.6806541681289673, 0.7113454937934875, 0.7181484699249268, 0.6650668978691101, 0.7134663462638855, 0.6783937215805054, 0.653878927230835, 0.7280458211898804, 0.7086262106895447, 0.6529757976531982, 0.6525629758834839, 0.9899313449859619, 0.6905258893966675, 0.7506861686706543, 0.6386860609054565, 0.7248495817184448, 0.6465539336204529, 0.6743690967559814, 0.7449539303779602, 0.7357361316680908, 0.7554828524589539, 0.7206168174743652, 0.6875225305557251, 0.7270046472549438, 0.7021667957305908, 0.68608558177948, 0.7219022512435913, 0.706358790397644, 0.7132184505462646, 0.7024717926979065, 0.6901928782463074, 0.7209852933883667, 0.6853830814361572, 0.77264004945755, 0.7274773120880127, 0.6091026067733765, 0.43551820516586304, 0.6592874526977539, 0.3998006582260132, 0.7044342160224915, 0.6555365324020386, 0.7580525875091553, 0.644291877746582, 0.693427324295044, 0.7307523488998413, 0.7498196363449097, 0.6764577627182007, 0.48510268330574036, 0.7577592134475708, 0.6153825521469116, 0.6888118386268616, 0.6657280325889587, 0.6932345628738403, 0.6343043446540833, 0.6986967325210571, 0.6885870099067688, 0.6650994420051575, 0.6564629077911377, 0.6947097182273865, 0.7201336622238159, 0.6499453783035278, 0.7158045768737793, 0.6560887098312378, 0.676310658454895, 0.713024914264679, 0.7037395238876343, 0.60849928855896, 0.711961030960083, 0.6746795177459717, 0.6486687660217285, 0.6826367378234863, 0.7032464742660522, 0.693770170211792, 0.6628419160842896, 0.7262836694717407, 0.6991894245147705, 0.6851916313171387, 0.6755905151367188, 0.6887741684913635, 0.6651681661605835, 0.6499744653701782, 0.6499416828155518, 0.6713930368423462, 0.7085148096084595, 0.5375047922134399, 0.7143469452857971, 0.668472409248352, 0.6887283325195312, 0.7497319579124451, 0.7248625159263611, 0.6965065598487854, 0.6310787200927734, 0.6529258489608765, 0.5581169128417969, 0.7796639204025269, 0.7607605457305908, 0.4840276837348938, 0.7750047445297241, 0.7528831958770752, 0.6531064510345459, 0.6000493168830872, 0.7122424840927124, 0.6859151124954224, 0.7615506649017334, 0.7456384301185608, 0.70561683177948, 0.7405352592468262, 0.6823090314865112, 0.6633899211883545, 0.6917950510978699, 0.6763725280761719, 0.6375051736831665, 0.699992299079895, 0.7891989350318909, 0.7463079690933228, 0.6723301410675049, 0.740239143371582, 0.5682095289230347, 0.7304726243019104, 0.7203330993652344, 0.704689621925354, 0.6798869967460632, 0.7180358171463013, 0.655070424079895, 0.5094576478004456, 0.42931225895881653, 0.6820082664489746, 0.7079833745956421, 0.7423946857452393, 0.7256571054458618, 0.6984657049179077, 0.7014906406402588, 0.7050505876541138, 0.7569833993911743, 0.7229604721069336, 0.8158004283905029, 0.6813744306564331, 0.6956634521484375, 0.7087308168411255, 0.6675145626068115, 0.640609622001648, 0.7161792516708374, 0.6929910182952881, 0.7316957116127014, 0.6285600066184998, 0.6772878170013428, 0.6936777830123901, 0.5981730818748474, 0.7095807790756226, 0.6680499911308289, 0.7294276356697083, 0.743706226348877, 0.6668847799301147, 0.7340617179870605, 0.6694878339767456, 0.7224653363227844, 0.6593054533004761, 0.6564825773239136, 0.7070478796958923, 0.6552697420120239, 0.6858221888542175, 0.7057618498802185, 0.6931591629981995, 0.6095166802406311, 0.6944311857223511, 0.6949572563171387, 0.6412769556045532, 0.6158744096755981, 0.7041252851486206, 0.740453839302063, 0.6285785436630249, 0.7405300736427307, 0.6860358119010925, 0.6652839779853821, 0.6717027425765991, 0.7903984785079956, 0.6442449688911438, 0.712639570236206, 0.7305015325546265, 0.6716851592063904, 0.7148146033287048, 0.7311869859695435, 0.6973333954811096, 0.7444268465042114, 0.660287618637085, 0.6930468082427979, 0.7483164072036743, 0.5085314512252808, 0.7306722402572632, 0.680281400680542, 0.6945204138755798, 0.7290344834327698, 0.5861289501190186, 0.6708494424819946, 0.7352657318115234, 0.6706122159957886, 0.7261040210723877, 0.633159875869751, 0.39924073219299316, 0.434535950422287, 0.69926917552948, 0.7181308269500732, 0.7192450165748596, 0.6366220712661743, 0.6755172610282898, 0.7085060477256775, 0.6946603059768677, 0.7585906386375427, 0.7828983664512634, 0.6999372839927673, 0.7320205569267273, 0.804399847984314, 0.751021683216095, 0.7102487087249756, 0.8444215059280396, 0.7815005779266357, 0.6571594476699829, 0.7095093131065369, 0.7104206681251526, 0.6863799095153809, 0.6980370879173279, 0.7357392311096191, 0.6074714660644531, 0.669832170009613, 0.7055506110191345, 0.5939698815345764, 0.6885099411010742, 0.6622409820556641, 0.7582688927650452, 0.6950405836105347, 0.6766501665115356, 0.714425802230835, 0.6530545949935913, 0.6759467124938965, 0.7381584644317627, 0.7126114964485168, 0.6164951324462891, 0.7109256386756897, 0.6813130378723145, 0.6835458278656006, 0.6582871675491333, 0.7199938297271729, 0.6814852952957153, 0.6854857206344604, 0.727778971195221, 0.6839596033096313, 0.6239219307899475, 0.637235701084137, 0.8042283654212952, 0.6492185592651367, 0.700817346572876, 0.6340956091880798, 0.6890231370925903, 0.7472251653671265, 0.677895188331604, 0.676639199256897, 0.7541800737380981, 0.6487298607826233, 1.2929487228393555, 0.6649786233901978, 0.6846486330032349, 1.5563023090362549, 0.6858725547790527, 0.7233228087425232, 0.6561373472213745, 0.6951488256454468, 0.6655524969100952, 0.7261530756950378, 0.7147657871246338, 0.7207851409912109, 0.7228001356124878, 0.7396650314331055, 0.634982705116272, 0.6976104974746704, 0.6770553588867188, 0.7127484679222107, 0.7521534562110901, 1.2180235385894775, 0.6523028016090393, 0.7964116334915161, 1.0014989376068115, 0.45662960410118103, 0.6499109268188477, 0.5412737131118774, 0.727410078048706, 0.7036519050598145, 0.6885490417480469, 0.6593242287635803, 0.6623878479003906, 0.6468480825424194, 0.7188814878463745, 0.6690266132354736, 0.6781055927276611, 0.6675974130630493, 0.4743254780769348, 0.6799300312995911, 0.6122232675552368, 0.7289149761199951, 0.6902273297309875, 0.6986324787139893, 0.6753659248352051, 0.7184481024742126, 0.8230425715446472, 0.6340724229812622, 0.6428942680358887, 0.7292152643203735, 0.6838361620903015, 0.7157466411590576, 0.756526529788971, 0.5990138649940491, 0.7771336436271667, 0.6483445763587952, 0.7358819246292114, 0.7515257596969604, 0.6565824747085571, 0.6814199090003967, 0.73287034034729, 0.6996743679046631, 0.7023480534553528, 0.7259230613708496, 0.7243098020553589, 0.6904621124267578, 0.6865103244781494, 0.7255576848983765, 0.6793557405471802, 0.703075647354126, 0.6966760754585266, 0.8323779702186584, 0.700684666633606, 0.640375554561615, 0.7388875484466553, 0.7154845595359802, 0.7000422477722168, 0.6542290449142456, 0.677004337310791, 0.7366722226142883, 0.6625567078590393, 0.6996818780899048, 0.8125986456871033, 0.6827709078788757, 0.7352879643440247, 0.746289849281311, 0.7557313442230225, 0.6838483214378357, 0.6747763156890869, 0.7825756072998047, 0.7599992752075195, 0.7193902730941772, 0.728381872177124, 0.6401122808456421, 0.7350203990936279, 0.7216774225234985, 0.6758646368980408, 0.6578006744384766, 0.6839503049850464, 0.7001848220825195, 0.6009171009063721, 0.7033250331878662, 0.7080427408218384, 0.6770819425582886, 0.7606545686721802, 0.6327985525131226, 0.6667152047157288, 0.688019335269928, 0.6509304642677307, 0.6832618117332458, 0.6621273159980774, 0.5681852102279663, 0.7296862006187439, 0.6852083206176758, 0.6916947364807129, 0.7092593312263489, 0.6404107809066772, 0.6889792680740356, 0.6493008732795715, 0.6702556610107422, 0.6791357398033142, 0.7827132940292358, 0.7489409446716309, 0.6850476264953613, 0.6267493963241577, 0.6755157709121704, 0.6728460788726807, 0.740668535232544, 0.702341616153717, 0.7405934929847717, 0.6798934936523438, 0.6986659169197083, 0.6260370016098022, 0.7219412326812744, 0.6505061984062195, 1.6968448162078857, 0.7109034061431885, 0.7229819297790527, 0.8559278845787048, 0.7229524254798889, 0.755456805229187, 0.6991310119628906, 0.7013150453567505, 0.6583777666091919, 0.6730931401252747, 0.5930479764938354, 0.6687045097351074, 0.7098361253738403, 0.664769172668457, 0.6937147378921509, 0.6497719287872314, 0.7416549921035767, 0.7701361179351807, 0.7022186517715454, 0.8134733438491821, 0.5465151071548462, 0.6745925545692444, 0.6984817981719971, 0.6667559146881104, 0.5096163749694824, 0.718817412853241, 0.7146784067153931, 0.7139522433280945, 0.6929928064346313, 0.7188119292259216, 0.7260687947273254, 0.7236758470535278, 0.6745201945304871, 0.6547960638999939, 0.7168862819671631, 0.7143259048461914, 0.6977628469467163, 0.6737837791442871, 0.7115094065666199, 0.6973447799682617, 0.6784099340438843, 0.6301320195198059, 0.7175347805023193, 0.5874911546707153, 0.6930352449417114, 1.4942007064819336, 0.679152250289917, 0.6890219449996948, 0.6353806257247925, 0.4589275121688843, 0.7070260047912598, 0.7066287994384766, 0.5831879377365112, 0.696537435054779, 0.7064862251281738, 0.7198896408081055, 0.6773002743721008, 0.6820206642150879, 0.6502803564071655, 0.5880160331726074, 0.7735207080841064, 0.6943227648735046, 0.6563383340835571, 0.8468660116195679, 0.6875842809677124, 3.640024185180664, 0.7104436159133911, 0.5209843516349792, 0.6640905141830444, 0.7314021587371826, 0.7077773809432983, 0.7027949690818787, 0.6779584288597107, 0.704963207244873, 0.7116762399673462, 0.6746017336845398, 0.642636239528656, 0.548568844795227, 0.7662301063537598, 0.7164170742034912, 0.6674224138259888, 0.7948455810546875, 0.7160630226135254, 0.7187925577163696, 0.6824594736099243, 0.738136887550354, 0.6536428928375244, 0.6739857792854309, 0.707869827747345, 0.6720770597457886, 0.698054850101471, 0.6896713972091675, 0.6083943247795105, 0.7101187109947205, 0.6733396053314209, 0.7185306549072266, 0.6573102474212646, 0.688065767288208, 0.7636692523956299, 0.4304998219013214, 0.7196672558784485, 0.6988437175750732, 0.7224225997924805, 0.6809118986129761, 0.6924043297767639, 0.8016579151153564, 0.7178280353546143, 0.6664795875549316, 0.6899876594543457, 0.707815408706665, 0.689347505569458, 0.6765628457069397, 0.6657814979553223, 0.5433919429779053, 0.7284420132637024, 0.703130841255188, 0.8520910739898682, 0.7204415798187256, 0.7362030744552612, 0.7576756477355957, 0.6321560144424438, 0.696770429611206, 0.7956956028938293, 0.6808433532714844, 0.7252594232559204, 0.6473370790481567, 0.6801391839981079, 0.7410284280776978, 0.6291160583496094, 0.7403627634048462, 0.6781857013702393, 0.6708546876907349, 0.7032557725906372, 0.673902153968811, 0.694493293762207, 0.7169904708862305, 0.6786930561065674, 0.7266925573348999, 0.7678425312042236, 0.7164627909660339, 0.6582266092300415, 0.5762498378753662, 0.6923190951347351, 0.7338802218437195, 0.7167088985443115, 0.7261821627616882, 0.6697275638580322, 0.7502917051315308, 0.6970101594924927, 0.6993147134780884, 0.6875188946723938, 0.7288323640823364, 0.7055344581604004, 0.7154498100280762, 0.7600948214530945, 0.6688448786735535, 0.6593693494796753, 0.5420536994934082, 0.7051456570625305, 0.7455439567565918, 0.670469343662262, 0.6610368490219116, 0.708867073059082, 0.7660744786262512, 0.9366705417633057, 0.7064698934555054, 0.7168671488761902, 0.6678879261016846, 0.6908895969390869, 0.683283805847168, 0.617661714553833, 0.627103328704834, 0.6851339340209961, 0.9992402791976929, 0.7117853164672852, 0.6604896187782288, 0.7285515069961548, 0.6694010496139526, 0.7410383224487305, 0.752588152885437, 0.7673859596252441, 0.6883702278137207, 0.6788380146026611, 0.44353386759757996, 0.4745927155017853, 1.1034464836120605, 0.7225040197372437, 0.6716134548187256, 0.6976957321166992, 0.6923078298568726, 0.9135348200798035, 0.701799750328064, 0.6829553842544556, 0.6570537090301514, 0.6996525526046753, 0.7586802244186401, 0.7396591901779175, 0.7233697175979614, 0.6959704160690308, 0.6852833032608032, 0.6958346366882324, 0.7045208811759949, 0.8041340112686157, 0.6779940128326416, 0.7161221504211426, 0.6940654516220093, 0.683504581451416, 0.6878693699836731, 0.7066673040390015, 0.6794744729995728, 0.6919968128204346, 0.7036658525466919, 0.6377366185188293, 0.6383436918258667, 0.6558815240859985, 0.6947093605995178, 0.7155678272247314, 0.652690589427948, 0.7005931735038757, 0.6872180104255676, 0.673678457736969, 0.6652683019638062, 0.6980059742927551, 0.7022636532783508, 0.6606753468513489, 0.7342953681945801, 0.429378867149353, 0.681136429309845, 0.6852258443832397, 0.7168239951133728, 0.7309802770614624, 0.6362032890319824, 0.694398045539856, 0.6750601530075073, 0.675887942314148, 0.6882109642028809, 0.6725107431411743, 0.6654037237167358, 0.7086055278778076, 0.6757253408432007, 0.5754155516624451, 0.7385118007659912, 0.7006521224975586, 0.6885616779327393, 0.5543913841247559, 0.6453428268432617, 0.6652551889419556, 0.7206389307975769, 0.672402560710907, 0.6843839883804321, 0.7497121095657349, 0.7837857007980347, 0.6652710437774658, 0.6880598068237305, 0.9139983057975769, 0.7077992558479309, 0.7238408327102661, 0.7632821798324585, 0.671764075756073, 0.659740149974823, 0.6414699554443359, 0.6858838796615601, 0.6949083209037781, 0.6479043960571289, 0.7307813763618469, 0.6845764517784119, 0.7479900121688843, 0.7431654930114746, 0.7683063745498657, 0.7261219024658203, 0.7648003101348877, 0.6902389526367188, 0.7335668802261353, 0.6863417625427246, 0.7412621974945068, 0.7231485843658447, 0.6749502420425415, 0.7311947345733643, 0.6929728984832764, 0.6920309066772461, 0.7140925526618958, 0.9080030918121338, 0.6998008489608765, 0.710328221321106, 0.6831512451171875, 0.7051293849945068, 0.6796161532402039, 0.711117148399353, 0.660256564617157, 0.6810649633407593, 0.6806024312973022, 0.6813482046127319, 0.6588680744171143, 0.7713222503662109, 0.6430867910385132, 0.6167616844177246, 0.6968806982040405, 0.7499207258224487, 0.511285662651062, 0.6977848410606384, 0.598324716091156, 0.7813737988471985, 0.7673344612121582, 0.7198601365089417, 0.6815732717514038, 0.7371230125427246, 0.6810590028762817, 0.735344648361206, 0.7164273858070374, 0.6307258605957031, 0.7084798216819763, 0.9722305536270142, 0.6753917932510376, 0.6287081241607666, 0.6889203786849976, 0.7012643814086914, 0.7376958131790161, 0.7034545540809631, 0.6679799556732178, 0.6641427278518677, 0.7222321629524231, 0.6814976334571838, 0.6825228929519653, 0.6723697781562805, 0.6689636707305908, 0.7009660005569458, 0.6824710369110107, 0.7078589200973511, 0.7310781478881836, 0.7010681629180908, 0.6834670305252075, 0.690280556678772, 0.6895556449890137, 0.6712985038757324, 0.7150309085845947, 0.6859627366065979, 0.7341142892837524, 0.7872624397277832, 0.7317756414413452, 0.6718597412109375, 0.72156822681427, 0.5628901124000549, 0.7239619493484497, 0.6927267909049988, 0.6304828524589539, 0.6700634956359863, 0.7022453546524048, 0.7077513337135315, 0.6608937382698059, 0.6843616962432861, 0.6866967678070068, 0.7249523401260376, 0.6926560401916504, 0.706130862236023, 0.6989070177078247, 0.6437537670135498, 0.7236150503158569, 0.6904782056808472, 0.6772909164428711, 0.7138128280639648, 0.7202140092849731, 0.6612615585327148, 0.6895962357521057, 0.804388165473938, 0.7058491706848145, 0.5747126340866089, 0.7016626000404358, 0.6941801905632019, 0.5854830145835876, 0.6179459095001221, 0.695305347442627, 0.67724609375, 0.7433078289031982, 0.6855213642120361, 0.691848874092102, 0.6561204195022583, 0.8995316624641418, 0.6517620086669922, 0.38670507073402405, 0.670653760433197, 0.7027275562286377, 0.7469180822372437, 0.6697795987129211, 0.8438271284103394, 0.6888151168823242, 0.6879099607467651, 0.7191336154937744, 0.6952605247497559, 0.6772147417068481, 0.7292990684509277, 0.703281819820404, 0.5605236291885376, 0.6218445301055908, 0.7727670669555664, 0.5809158086776733, 0.7507244348526001, 0.710752010345459, 0.6634349822998047, 0.7648648619651794, 0.6851968169212341, 0.3638429641723633, 0.6916581392288208, 0.6810787320137024, 0.707402765750885, 0.7575098276138306, 0.6793522834777832, 0.7341251373291016, 0.714011549949646, 0.8405761122703552, 0.662211537361145, 0.6325673460960388, 0.6701938509941101, 0.6423285603523254, 0.6874818801879883, 0.7312939167022705, 0.6773325204849243, 0.8273720741271973, 0.7449057698249817, 0.6321773529052734, 0.6831837892532349, 0.6542516946792603, 0.7332226634025574, 0.690820574760437, 0.7328497171401978, 0.7023513913154602, 0.6602388620376587, 0.7235853672027588, 0.706784725189209, 0.683685302734375, 0.6183004379272461, 0.6241752505302429, 0.6708831787109375, 0.6841329336166382, 0.7008547782897949, 0.7341663837432861, 0.642551064491272, 0.7569031715393066, 0.7194121479988098, 0.6331304311752319, 0.6898135542869568, 0.6998067498207092, 0.6864725351333618, 0.7450555562973022, 0.7416597604751587, 0.6941397190093994, 0.7338588237762451, 0.719917356967926, 0.7221516370773315, 0.7067791223526001, 0.7195823192596436, 0.5501213073730469, 0.7040542364120483, 0.6939315795898438, 0.683767557144165, 0.7105207443237305, 0.6836779117584229, 0.7005237936973572, 0.672888994216919, 0.7183212637901306, 0.6258870363235474, 0.7137213945388794, 0.7432661056518555, 0.6129028797149658, 0.6657243967056274, 0.6846773028373718, 0.7384806275367737, 0.7346978783607483, 0.6732900142669678, 0.635646641254425, 1.0720441341400146, 0.6555603742599487, 0.6499710083007812, 0.38629990816116333, 0.7822105288505554, 0.707962155342102, 0.6818574666976929, 0.7700598239898682, 0.4203069806098938, 0.6874435544013977, 0.7074552178382874, 0.7102811336517334, 0.93777996301651, 0.6897964477539062, 0.6852023601531982, 0.6962094306945801, 0.6425818204879761, 0.7335894107818604, 0.6978281736373901, 1.816354513168335, 0.7315325736999512, 0.7113057374954224, 0.7500267028808594, 0.6800848245620728, 0.7277514934539795, 0.6542737483978271, 0.6772165298461914, 0.6872919797897339, 0.686560869216919, 0.5271296501159668, 0.5132268667221069, 0.7809267044067383, 0.6902428865432739, 0.695279061794281, 0.7537052631378174, 0.7360644936561584, 0.8358219265937805, 0.672627866268158, 0.6867260932922363, 0.6593422293663025, 1.0545032024383545, 0.6941168308258057, 0.6485682725906372, 0.6791194677352905, 0.661623477935791, 0.8217015266418457, 0.7099857330322266, 0.6943964958190918, 0.6808394193649292, 0.6437748670578003, 0.6191162467002869, 0.7669289708137512, 0.6749930381774902, 0.7004492282867432, 0.6737386584281921, 0.7005733251571655, 0.6498809456825256, 0.634437084197998, 0.8416179418563843, 0.7108129858970642, 0.6795905828475952, 0.7897388935089111, 0.6890993118286133, 0.7083181142807007, 0.6751635074615479, 0.6880362629890442, 0.6734089255332947, 0.5256832838058472, 0.7336523532867432, 0.7119554281234741, 0.6636468768119812, 0.7343387603759766, 0.6979784369468689, 0.712714433670044, 0.7247523665428162, 0.7309421300888062, 0.7249786853790283, 0.5456782579421997, 0.7008028030395508, 0.6973409652709961, 0.7424734830856323, 0.7027270793914795, 0.6732827425003052, 0.695725679397583, 0.6573159694671631, 0.721466600894928, 0.7087465524673462, 0.6713166832923889, 0.7458850741386414, 0.6936176419258118, 0.6844428777694702, 0.7270760536193848, 0.6257804036140442, 0.3186136484146118, 0.6733296513557434, 0.6896927952766418, 0.6820645332336426, 0.8662184476852417, 0.7128868699073792, 0.6883945465087891, 0.6977733969688416, 0.37737882137298584, 0.7003649473190308, 0.6690835952758789, 0.6734834909439087, 0.691791296005249, 0.6648654341697693, 0.6937911510467529, 0.6621626019477844, 0.7415829300880432, 0.7232624292373657, 0.6801538467407227, 0.6935423612594604, 0.6649887561798096, 0.6734042167663574, 0.7129720449447632, 0.6788238286972046, 0.4714858829975128, 0.6077301502227783, 0.6705313324928284, 0.7047380208969116, 0.6956090331077576, 0.6927168965339661, 0.6976578235626221, 0.7165834903717041, 0.6964077353477478, 0.6606475114822388, 0.7530897259712219, 0.7416697144508362, 0.7410905361175537, 0.6722182631492615, 0.699653148651123, 0.6852636933326721, 0.7049275040626526, 0.6961655616760254, 0.6890472173690796, 0.7039315104484558, 0.6587878465652466, 0.7594227194786072, 0.6949928402900696, 0.712472677230835, 0.6904582977294922, 0.6902509927749634, 0.6804171800613403, 0.7106120586395264, 0.7566447257995605, 0.706708550453186, 0.7113497257232666, 0.673635721206665, 0.6862919330596924, 0.6761758327484131, 0.7038804292678833, 0.7318747639656067, 0.6966156363487244, 0.6744388341903687, 0.7035278677940369, 0.731315016746521, 0.7016067504882812, 0.7101622819900513, 0.7493834495544434, 0.7473234534263611, 0.7123228311538696, 0.6609612703323364, 0.6822361946105957, 0.7530879974365234, 0.6892391443252563, 0.6927224397659302, 0.6868159770965576, 0.6887465715408325, 0.6956686973571777, 0.694257378578186, 2.002685308456421, 0.6644477844238281, 0.6812542676925659, 0.6723233461380005, 0.6930716037750244, 0.6813716888427734, 0.7640423774719238, 0.6871614456176758, 0.5575600862503052, 0.7197218537330627, 0.5676252841949463, 0.7154946327209473, 0.6694368124008179, 0.632732093334198, 0.6884570717811584, 0.7362943887710571, 0.6984660625457764, 0.7313898205757141, 0.7186218500137329, 0.738396167755127, 0.6583232283592224, 0.6819738149642944, 0.615106463432312, 0.7483541965484619, 0.7228853702545166, 0.7142595052719116, 0.7031040191650391, 0.679808497428894, 0.6141149997711182, 0.7079106569290161, 0.706453263759613, 0.6999648809432983, 0.7164670825004578, 0.6895045042037964, 0.6803648471832275, 0.7273309230804443, 0.6719338297843933, 0.7521647214889526, 0.7136212587356567, 0.6882138252258301, 0.6858175992965698, 0.6846921443939209, 0.7107935547828674, 0.7236834168434143, 0.6755878925323486, 0.6833748817443848, 0.6902464628219604, 0.7079426050186157, 0.6560732126235962, 0.6874158382415771, 0.6693801283836365, 0.6871362924575806, 0.6781694293022156, 0.7120774984359741, 0.7518497705459595, 0.7247413396835327, 0.6596899032592773, 0.7079349160194397, 0.7073612809181213, 0.6687835454940796, 0.6865391731262207, 0.6967236995697021, 0.7313306331634521, 0.6960425972938538, 0.6876330971717834, 0.785169780254364, 0.7124775648117065, 0.72472083568573, 0.6875767707824707, 0.7133303284645081, 0.9886460900306702, 0.8519793748855591, 0.679009735584259, 0.6773714423179626, 0.6952273845672607, 0.684685230255127, 0.6914471983909607, 0.6993551254272461, 0.6600314378738403, 0.6903159618377686, 0.6984413862228394, 0.7272129654884338, 0.6924664974212646, 0.6696465015411377, 0.7040960788726807, 0.7141283750534058, 0.7312861680984497, 0.6666437387466431, 0.6506729125976562, 0.6594719290733337, 0.7145043611526489, 0.6684560775756836, 0.5697116851806641, 0.702518880367279, 0.6788018941879272, 0.6791460514068604, 0.6844502091407776, 0.7139391899108887, 0.6672930717468262, 0.7190636992454529, 0.6857744455337524, 0.690117359161377, 0.7071036100387573, 0.699248731136322, 0.6777859926223755, 0.7001484632492065, 0.6932599544525146, 0.6571620106697083, 0.6900507807731628, 0.6751369833946228, 0.6923631429672241, 0.6743948459625244, 0.6132954359054565, 0.7286955118179321, 0.7068203091621399, 0.6677373051643372, 0.7339863777160645, 0.6946035623550415, 0.6902603507041931, 0.6689637303352356, 0.7045090198516846, 0.7311828136444092, 0.6960446834564209, 0.6936159133911133, 0.7165071368217468, 0.7101401090621948, 0.6308341026306152, 0.6945651173591614, 0.6751628518104553, 0.7098738551139832, 0.59132981300354, 0.7135101556777954, 0.6873918175697327, 0.657583475112915, 0.6861454248428345, 0.6628088355064392, 0.6157821416854858, 0.719904899597168, 0.7072441577911377, 0.6652570962905884, 0.6815375089645386, 0.5545921325683594, 0.7050089240074158, 0.7040283679962158, 0.6822384595870972, 0.6993907690048218, 0.6799999475479126, 0.6856817007064819, 0.6776564121246338, 0.7052270174026489, 0.6276756525039673, 0.7029989361763, 0.7201410531997681, 0.41845467686653137, 0.6985486745834351, 0.6811184883117676, 0.6870126724243164, 0.7073670625686646, 0.6732233762741089, 0.6602686643600464, 0.7369818687438965, 0.6681407690048218, 0.752880334854126, 0.6565808057785034, 0.6974391937255859, 0.6780908107757568, 0.6807528734207153, 1.202910304069519, 0.6424370408058167, 0.6851546764373779, 0.5595266819000244, 0.6569260358810425, 0.6931219100952148, 1.1438775062561035, 0.721316933631897, 0.6988649368286133, 0.63759446144104, 0.7127178907394409, 0.678560733795166, 0.6997010707855225, 0.7091231942176819, 0.6699784994125366, 0.7054120898246765, 0.7191798686981201, 0.7254545092582703, 0.7082504630088806, 0.7045766115188599, 0.6844052672386169, 0.7464077472686768, 0.743938684463501, 0.7443044185638428, 0.7141386270523071, 0.66628098487854, 0.7028858661651611, 0.786623477935791, 0.7015301585197449, 0.6876792907714844, 0.6150850057601929, 0.747525691986084, 0.719330906867981, 0.6371638774871826, 0.6667414903640747, 0.7690541744232178, 0.6798245906829834, 0.7060844898223877, 0.5878992676734924, 0.7166117429733276, 0.6998940706253052, 0.6514861583709717, 0.7184421420097351, 0.6889420747756958, 0.6807854175567627, 0.6769644021987915, 0.7255321741104126, 0.7489290237426758, 0.706891655921936, 0.6959573030471802, 0.6846263408660889, 0.6843357086181641, 0.691757321357727, 0.8731451630592346, 0.672080397605896, 0.6864315271377563, 0.6925258636474609, 0.7009583711624146, 0.6565166711807251, 0.7088829278945923, 0.6733479499816895, 0.6976497769355774, 0.7727552652359009, 0.3751782774925232, 0.7358517050743103, 0.7009960412979126, 0.6821006536483765, 0.748266339302063, 0.7383073568344116, 0.6808174252510071, 0.6794983744621277, 0.7584125399589539, 0.72896409034729, 0.6797131299972534, 0.8053193688392639, 0.6886321902275085, 0.6710593700408936, 0.5278640985488892, 0.717214822769165, 0.6943411827087402, 0.7390915155410767, 0.6926677227020264, 0.7124836444854736, 0.659153938293457, 0.7135640382766724, 0.6707260608673096, 0.7302306890487671, 0.6888477802276611, 0.6937679052352905, 0.6905155181884766, 0.6897991299629211, 0.7426628470420837, 0.6924658417701721, 0.68980473279953, 0.7106781005859375, 0.675225555896759, 0.6921005845069885, 0.6836878061294556, 0.7508436441421509, 0.6673861742019653, 0.9076794385910034, 0.6747720241546631, 0.7129141092300415, 0.7329998016357422, 0.7490878105163574, 0.6820509433746338, 0.7169266939163208, 0.6875045299530029, 0.6796697974205017, 0.70670485496521, 0.6979101300239563, 0.7072733640670776, 0.7061557769775391, 0.6726018190383911, 0.6709073781967163, 0.7731928825378418, 0.6773520112037659, 0.6721701622009277, 0.6881071925163269, 0.6903858184814453, 0.6835862398147583, 0.7174345254898071, 0.6841896772384644, 0.6761336326599121, 0.7053606510162354, 0.671126127243042, 0.7024125456809998, 0.6665207743644714, 0.7124050855636597, 0.7089393138885498, 0.7097153663635254, 0.6897614002227783, 0.6920685172080994, 0.6784777641296387, 0.7143906354904175, 0.6946556568145752, 0.7227403521537781, 0.6430336236953735, 0.6963486671447754, 0.42727693915367126, 0.6830691695213318, 0.6914077997207642, 0.6677735447883606, 0.7041284441947937, 0.6871193647384644, 0.7082765698432922, 0.6589788198471069, 0.7222634553909302, 0.6630936861038208, 0.7051357626914978, 0.7185802459716797, 0.6384233236312866, 0.709660530090332, 0.6990004777908325, 0.3889525532722473, 0.7236698865890503, 0.7045141458511353, 0.683205246925354, 0.7231650948524475, 0.7760276794433594, 0.6710357666015625, 0.666142463684082, 0.4959750473499298, 0.7291426658630371, 0.4003479778766632, 0.7339043617248535, 0.7564595341682434, 0.6775137186050415, 0.7257624864578247, 0.6943870782852173, 0.6772421598434448, 0.6766774654388428, 0.7168519496917725, 0.691234827041626, 0.6828029155731201, 0.6564708948135376, 0.6998388767242432, 0.6890231370925903, 0.6666074991226196, 0.7295805215835571, 0.6747009754180908, 0.7731152772903442, 0.6562357544898987, 0.7034899592399597, 0.7201023101806641, 0.7181277871131897, 0.7040696144104004, 0.6772100925445557, 0.6475604772567749, 0.4118211567401886, 0.6808230876922607, 0.6959254741668701, 0.7113171815872192, 0.7064470648765564, 0.7197784185409546, 0.7422465682029724, 0.7038026452064514, 0.6989014148712158, 0.6814428567886353, 0.7419534921646118, 0.7084426879882812, 0.6877226829528809, 0.7032251358032227, 0.7070873379707336, 0.7467708587646484, 0.7370137572288513, 0.6920785903930664, 0.6444563865661621, 0.6708189249038696, 0.696390688419342, 0.6694728136062622, 0.6595587730407715, 0.643207311630249, 0.33248862624168396, 0.7347882986068726, 0.712973952293396, 0.7292372584342957, 0.6647634506225586, 0.7022783160209656, 0.70281982421875, 0.7059914469718933, 0.6782448887825012, 0.7160506248474121, 0.7523723840713501, 0.7029522657394409, 0.6927348971366882, 0.6834803223609924, 0.660427451133728, 0.6857663989067078, 0.6725338697433472, 0.6971899271011353, 0.686084508895874, 0.695812463760376, 0.6678839921951294, 0.7132720351219177, 0.700027585029602, 0.6731336116790771, 0.6930365562438965, 0.7399177551269531, 0.7007876634597778, 1.0045576095581055, 0.7235212326049805, 0.6665545701980591, 2.1943178176879883, 0.5394605398178101, 0.9049108624458313, 0.688737690448761, 0.6920855045318604, 0.6649460196495056, 0.7275155782699585, 0.6944009065628052, 0.6969700455665588, 0.6648520827293396, 0.7101672887802124, 0.6896847486495972, 0.683027982711792, 0.7213000059127808, 0.7261790037155151, 0.7298431992530823, 0.6770684719085693, 0.6639617681503296, 0.6732227802276611, 0.6674304008483887, 0.6552541255950928, 0.7045971751213074, 0.6847307682037354, 0.7225080728530884, 0.4902785122394562, 0.672085165977478, 0.9092397689819336, 0.6949582099914551, 0.6978473663330078, 0.6766682863235474, 0.7036683559417725, 0.7489262223243713, 0.7053331136703491, 0.6935595273971558, 0.7099913358688354, 0.6604908108711243, 0.7367987632751465, 0.6975038051605225, 0.7260875701904297, 0.6888387203216553, 0.7175160646438599, 0.7214493751525879, 0.7101354598999023, 0.6999765038490295, 0.6834631562232971, 0.6703636646270752, 0.7488343715667725, 0.6994874477386475, 0.702633261680603, 0.8240679502487183, 0.7276186347007751, 0.6813910603523254, 0.7231483459472656, 0.7295631170272827, 0.6662224531173706, 0.7095350027084351, 0.7075501680374146, 0.6668968200683594, 0.672301173210144, 0.6987463235855103, 0.6953518390655518, 0.6924868226051331, 0.6791011691093445, 0.6389098167419434, 0.42020902037620544, 0.6190347671508789, 1.1983485221862793, 0.6542321443557739, 0.7298807501792908, 0.7280094623565674, 0.8056665658950806, 0.6971569061279297, 0.7193013429641724, 0.7113206386566162, 0.695732593536377, 0.7071568965911865, 0.7241923809051514, 0.6769543886184692, 0.7122060060501099, 0.6030997037887573, 0.6616460084915161, 0.6740689277648926, 0.688096284866333, 0.7584343552589417, 0.6687813997268677, 0.6990407705307007, 0.7238778471946716, 0.6775741577148438, 0.6591759920120239, 0.710558295249939, 0.6833404898643494, 0.6600019335746765, 0.7045305967330933, 0.6948410272598267, 0.6632541418075562, 0.6950666308403015, 0.7006537914276123, 0.6565691828727722, 0.7800001502037048, 0.7246719598770142, 0.7099175453186035, 0.6928939819335938, 0.6621742844581604, 0.6902134418487549, 0.7297680974006653, 0.6211354732513428, 0.7418039441108704, 0.6951795816421509, 0.8308607935905457, 0.6582388877868652, 0.677689254283905, 0.6984917521476746, 0.675623893737793, 0.7120540142059326, 0.6930187940597534, 0.6984351873397827, 0.7305749654769897, 0.6714407801628113, 0.6797683835029602, 0.6805252432823181, 0.696540117263794, 0.718453049659729, 0.6955714225769043, 0.7136815786361694, 0.6801003217697144, 0.6692520380020142, 0.729465126991272, 0.758915901184082, 0.6911303997039795, 0.6636701822280884, 0.7010042667388916, 0.691824734210968, 0.6788792014122009, 0.6762410402297974, 0.6908191442489624, 0.7126400470733643, 0.7439755201339722, 0.6700417399406433, 0.7168107628822327, 0.6665819883346558, 0.6866734027862549, 0.6815239191055298, 0.6825329065322876, 0.7014977931976318, 0.7914199829101562, 0.6993928551673889, 0.6665636897087097, 0.7407064437866211, 0.7294240593910217, 0.7222368121147156, 0.7520565986633301, 0.7709470987319946, 0.7007079124450684, 0.6436880826950073, 0.71636962890625, 0.6660425662994385, 0.6975141763687134, 0.7243744134902954, 0.6951681971549988, 0.6690635681152344, 0.44226154685020447, 0.5606619715690613, 0.6724928617477417, 0.6925719976425171, 0.7966749668121338, 0.662443220615387, 0.6577444672584534, 0.6687119007110596, 1.5356754064559937, 0.7015103101730347, 0.6976054906845093, 0.6973929405212402, 0.6930466890335083, 0.6701789498329163, 0.6963480710983276, 0.6789292097091675, 0.7055878639221191, 0.6854315996170044, 0.6775310039520264, 0.5673725605010986, 0.6822972297668457, 0.5134387016296387, 0.7031357288360596, 0.6025022268295288, 0.699388861656189, 0.7070540189743042, 0.691582441329956, 0.6851714849472046, 0.6958726644515991, 0.7100117206573486, 0.6909804344177246, 0.6857165098190308, 0.8580875396728516, 0.6841596364974976, 0.7035484313964844, 0.6822039484977722, 0.7122316360473633, 0.7293210029602051, 0.6842794418334961, 0.7286486029624939, 0.6831846237182617, 0.7236825227737427, 0.6633554697036743, 0.7178947925567627, 0.7120769023895264, 0.6759669184684753, 0.6808267831802368, 1.5254228115081787, 0.6918501853942871, 0.6995700001716614, 0.7055289149284363, 0.6855722665786743, 0.7100427746772766, 0.69057297706604, 0.6811904907226562, 0.6703963875770569, 0.6878634095191956, 0.6949468851089478, 0.7173571586608887, 0.6982682943344116, 0.6753994226455688, 0.6678110957145691, 0.7078717947006226, 0.6660398244857788, 1.018545389175415, 0.6839942932128906, 0.6852749586105347, 0.6780235171318054, 0.6765575408935547, 0.6562129259109497, 0.6924712657928467, 0.7391074895858765, 0.5450165867805481, 0.7438034415245056, 0.7234247326850891, 0.7110328674316406, 0.6772432327270508, 0.7336077690124512, 0.6742517352104187, 0.6952204704284668, 0.6912074089050293, 0.719115138053894, 0.7237046360969543, 0.7038429975509644, 0.7015533447265625, 0.6851456761360168, 0.6859195232391357, 0.6767463088035583, 0.7442753911018372, 0.6723850965499878, 0.6965913772583008, 0.6560672521591187, 0.6756099462509155, 0.7324290871620178, 0.7046176791191101, 0.6884198188781738, 0.7016171813011169, 1.0274726152420044, 0.7047760486602783, 0.6992502212524414, 0.694290280342102, 0.7277927994728088, 0.6577377915382385, 0.6866801381111145, 0.6760114431381226, 0.6954627633094788, 0.6759154796600342, 0.6993931531906128, 0.7039476633071899, 0.7039675712585449, 0.6868804097175598, 1.6085658073425293, 0.7396296858787537, 0.6779311895370483, 0.636759877204895, 0.6591060161590576, 0.6726469397544861, 0.7190965414047241, 0.7081719040870667, 0.7122384905815125, 0.6794184446334839, 0.679120659828186, 0.6467829942703247, 0.6867024302482605, 0.7027915716171265, 0.3518172800540924, 0.7248309850692749, 0.7093098163604736, 0.6837807297706604, 0.4630934000015259, 0.6965196132659912, 0.6757895946502686, 0.6583772897720337, 0.7220398783683777, 0.6960066556930542, 0.6996594667434692, 0.7059985399246216, 0.6849007606506348, 0.6908547878265381, 0.8181057572364807, 1.4405823945999146, 0.45263493061065674, 0.6736207008361816, 0.6731500625610352, 0.46986570954322815, 0.6897101402282715, 0.6289353370666504, 0.7268110513687134, 0.5942102074623108, 0.6750161647796631, 0.7509291768074036, 0.6953997015953064, 0.6950682401657104, 0.7101921439170837, 0.7581814527511597, 0.7362730503082275, 1.0036067962646484, 0.7027455568313599, 0.6893765926361084, 0.6570487022399902, 0.6902443170547485, 0.7019669413566589, 0.6961039304733276, 0.4410342574119568, 0.6780097484588623, 0.6948292255401611, 0.6924636363983154, 0.694736123085022, 0.7076942920684814, 0.6871904134750366, 0.6726316213607788, 0.7254050970077515, 0.6916031837463379, 0.7316619157791138, 0.7291284799575806, 0.696931004524231, 0.6713504791259766, 0.6912972927093506, 0.7165078520774841, 0.7460361123085022, 0.7018919587135315, 0.6672408580780029, 0.6679811477661133, 0.712121307849884, 0.719241738319397, 0.6451066732406616, 0.6951520442962646, 0.7480549812316895, 0.6921639442443848, 0.675482988357544, 0.6472439169883728, 0.6797369718551636, 0.690657377243042, 0.6964976191520691, 0.6936907768249512, 0.71444171667099, 0.7082371711730957, 0.7009232044219971, 0.7051875591278076, 1.059572696685791, 0.669840931892395, 0.715054452419281, 0.6845288872718811, 0.7349324226379395, 0.37323862314224243, 1.5846688747406006, 0.6889338493347168, 0.6926022171974182, 0.6864816546440125, 0.7090304493904114, 0.6943203806877136, 0.69782555103302, 0.6915768384933472, 0.7603356838226318, 0.6650352478027344, 0.7103462219238281, 0.7898381948471069, 0.699750542640686, 0.7004088759422302, 0.9114046096801758, 0.6762027740478516, 0.7302956581115723, 0.7003862857818604, 0.6770264506340027, 0.6998733878135681, 0.7495996952056885, 0.7126435041427612, 0.5786935687065125, 0.7033889889717102, 0.6983569860458374, 0.7342261075973511, 0.6693020462989807, 0.6642866134643555, 0.7001661062240601, 0.6945514678955078, 0.6818270683288574, 0.3737452030181885, 1.7051570415496826, 0.7454582452774048, 0.6875983476638794, 0.7122496366500854, 0.7004120349884033, 0.6743826866149902, 0.6904892921447754, 0.7105321884155273, 0.7157902717590332, 0.7246434688568115, 0.6919336318969727, 0.7526659369468689, 0.7065520882606506, 0.6804057359695435, 0.662744402885437, 0.6996805667877197, 0.6875104904174805, 0.6751486659049988, 0.6882215738296509, 0.740368127822876, 0.6972758769989014, 0.7014692425727844, 0.6857144832611084, 1.180371880531311, 0.6845578551292419, 0.6279952526092529, 0.6687067747116089, 0.6843065023422241, 0.7651641368865967, 0.7175170183181763, 0.7137007117271423, 0.725073516368866, 0.6915810108184814, 0.6927019357681274, 0.701042652130127, 0.7279293537139893, 0.8102986812591553, 0.6324403285980225, 0.6826937198638916, 0.6846559643745422, 0.7453837990760803, 0.7524681091308594, 0.6443071365356445, 0.7387921810150146, 0.69147127866745, 0.6598345041275024, 0.7761417627334595, 0.6768670082092285, 0.7026123404502869, 0.6961411237716675, 0.6981745958328247, 0.721909761428833, 0.6742779016494751, 0.6854469776153564, 0.697500467300415, 0.6927765607833862, 0.6558530926704407, 0.71556556224823, 0.7159648537635803, 0.3802582621574402, 0.6582261919975281, 0.7138053178787231, 0.6849567890167236, 0.6854135990142822, 0.6851235628128052, 0.6981973648071289, 0.6979823112487793, 0.6910931468009949, 0.7122817635536194, 0.6832462549209595, 0.677558183670044, 0.7041782140731812, 0.7025284171104431, 0.708868682384491, 0.6946200132369995, 0.5368466377258301, 0.6836144328117371, 0.6878324151039124, 0.7120766639709473, 0.6841851472854614, 0.7045499086380005, 0.7252486944198608, 0.6850721836090088, 0.6904059648513794, 0.7392252683639526, 0.6808710694313049, 0.7207392454147339, 0.7039551734924316, 0.7001824378967285, 0.6780322790145874, 0.7154073715209961, 0.6822118759155273, 0.6917524337768555, 1.2349467277526855, 0.7168231010437012, 0.7106975317001343, 0.6933931112289429, 0.6586958169937134, 0.6816750764846802, 0.38645830750465393, 0.6470786929130554, 0.6827880144119263, 0.9805963039398193, 0.6713559031486511, 0.9617307186126709, 0.6919434070587158, 0.665962815284729, 0.681672990322113, 0.5949651002883911, 0.6662402153015137, 0.6871597766876221, 0.701827347278595, 0.6831827759742737, 0.6953396797180176, 0.6960557699203491, 0.6833688020706177, 0.693893551826477, 0.6966399550437927, 0.64875328540802, 0.6866548657417297, 0.7155947685241699, 0.806115448474884, 0.6739639639854431, 0.69966721534729, 0.6679407954216003, 0.669502854347229, 0.7070852518081665, 0.7118408679962158, 0.7217754125595093, 0.7220252752304077, 0.7090644836425781, 0.6758424043655396, 0.7011963129043579, 0.7017423510551453, 0.5947320461273193, 0.6915374994277954, 0.6833183169364929, 0.6709281206130981, 0.763042688369751, 0.9112666845321655, 0.6970378160476685, 0.6339204907417297, 0.6413902044296265, 0.6948779225349426, 0.39129936695098877, 0.695109486579895, 0.685916543006897, 0.7162826061248779, 0.673098623752594, 0.6534782648086548, 0.6832917928695679, 0.7226484417915344, 0.6691913604736328, 0.7293069958686829, 0.7283599376678467, 0.7374039888381958, 0.6835422515869141, 0.683282732963562, 0.7160342931747437, 0.724714994430542, 0.6969250440597534, 0.6815133690834045, 0.742512047290802, 0.5309737920761108, 0.6866605281829834, 0.714561939239502, 0.7685706615447998, 0.7319047451019287, 0.7325789928436279, 0.6851229667663574, 0.6986721158027649, 0.498009592294693, 0.6741243600845337, 0.9126726984977722, 0.7283764481544495, 0.6899609565734863, 0.6951746940612793, 0.6898843050003052, 0.7371879816055298, 0.7195866107940674, 0.6994123458862305, 0.6785127520561218, 0.6185327768325806, 0.7068939805030823, 0.6903989315032959, 0.6835921406745911, 0.6801542043685913, 0.703261137008667, 0.6693984270095825, 0.6907943487167358, 0.6640243530273438, 0.6914794445037842, 0.674303412437439, 0.7088680267333984, 0.7329381108283997, 0.6898183822631836, 0.67604660987854, 0.9681168794631958, 0.6599650382995605, 0.6973671317100525, 0.7087969779968262, 0.6693718433380127, 0.6713966131210327, 0.6829284429550171, 0.6913870573043823, 0.7006653547286987, 0.6632630825042725, 0.6567562818527222, 0.7227704524993896, 0.6935972571372986, 0.6807222962379456, 3.199565887451172, 0.6996417045593262, 0.5346732139587402, 0.6872690916061401, 0.6860995292663574, 0.6793730854988098, 0.6574877500534058, 0.7051738500595093, 0.7126405239105225, 0.6843346357345581, 0.6525460481643677, 0.7196303606033325, 0.6910325288772583, 0.722043514251709, 0.6944288015365601, 0.726026177406311, 0.7551162242889404, 0.6819875240325928, 0.7238768339157104, 0.7014045715332031, 0.6549323201179504, 0.683269739151001, 0.7093592882156372, 1.2435543537139893, 0.7225520610809326, 0.7694846391677856, 0.7495643496513367, 0.7163658142089844, 0.6887922883033752, 0.7013320922851562, 0.7273440957069397, 0.6833627223968506, 0.7017232179641724, 1.2047775983810425, 0.7166831493377686, 0.6756606101989746, 0.7021762728691101, 0.68039870262146, 0.4078885018825531, 2.2253949642181396, 0.6753126978874207, 0.7023187875747681, 0.6849594116210938, 0.6985245943069458, 0.6963611841201782, 0.7015436887741089, 0.6704124808311462, 0.68243408203125, 0.6784201860427856, 0.6986560225486755, 0.6989575624465942, 0.6884765625, 0.6583759188652039, 0.6878519058227539, 0.7262279987335205, 0.6984633207321167, 0.720367431640625, 0.7003893256187439, 0.6539551019668579, 0.6684598922729492, 0.692324161529541, 0.6756267547607422, 0.6797313690185547, 0.7264833450317383, 0.6582156419754028, 0.6670091152191162, 0.7332015037536621, 0.7325053215026855, 0.7121553421020508, 0.6845381855964661, 0.7060043811798096, 0.7206148505210876, 0.6649208664894104, 0.6910477876663208, 0.6685043573379517, 0.6862101554870605, 0.6659153699874878, 0.6833804845809937, 0.675500750541687, 0.6899744272232056, 0.6923352479934692, 0.6707336902618408, 0.6967631578445435, 0.6324179172515869, 0.6898680925369263, 0.6568130850791931, 0.6760318279266357, 0.7237726449966431, 0.5008435249328613, 0.6883993148803711, 0.6988406181335449, 0.6578515768051147, 0.6840677261352539, 0.6970639228820801, 0.7392617464065552, 0.7097733020782471, 0.6840729713439941, 0.6698312759399414, 0.6838318109512329, 0.6895830035209656, 0.714260458946228, 0.6963323354721069, 0.7293897271156311, 0.6951918601989746, 0.6493969559669495, 0.6860439777374268, 0.6918296813964844, 0.6933671236038208, 0.6729789972305298, 0.6889404058456421, 0.6804664134979248, 0.696426510810852, 0.7032229900360107, 0.6737582683563232, 0.6798646450042725, 0.7014790773391724, 0.7109183669090271, 0.7098100185394287, 0.6797055006027222, 0.5589390993118286, 0.6738041639328003, 0.7100996971130371, 0.6906836032867432, 0.46160730719566345, 0.7084901332855225, 0.6790350675582886, 0.7149395942687988, 0.7134765982627869, 0.7112132906913757, 0.6902647018432617, 0.7325548529624939, 0.669605016708374, 0.7174861431121826, 0.700387716293335, 0.6699706315994263, 0.6961629986763, 0.7174278497695923, 0.7188550233840942, 0.7277371883392334, 0.7270612716674805, 0.6901458501815796, 0.6876489520072937, 0.7072170972824097, 0.7167533040046692, 0.6753683090209961, 0.697960615158081, 0.6740596294403076, 0.6642640829086304, 0.7308956384658813, 0.6633428335189819, 0.8189401626586914, 0.6822943687438965, 0.7044339179992676, 0.6491109132766724, 0.7084031105041504, 0.7048697471618652, 0.6565752029418945, 0.6918971538543701, 0.7398625612258911, 0.7005961537361145, 0.6978539228439331, 0.6725263595581055, 0.6998474597930908, 0.6834947466850281, 0.7134464979171753, 0.6678537130355835, 0.5834127068519592, 0.6496813297271729, 0.7016265988349915, 0.7073788046836853, 0.7479250431060791, 0.7095329761505127, 0.7374475002288818, 0.6748085021972656, 0.69191575050354, 0.7453894019126892, 0.7252858877182007, 0.7180871963500977, 0.6521108150482178, 0.6903681755065918, 0.6759609580039978, 0.6834743022918701, 0.699355959892273, 0.6901547908782959, 0.47109484672546387, 0.6633908748626709, 0.7162106037139893, 0.7270185947418213, 0.6900075674057007, 0.6895061731338501, 0.7114453315734863, 0.7107977867126465, 0.6775517463684082, 0.6931729912757874, 0.6878786087036133, 0.708690881729126, 0.6752199530601501, 0.6826690435409546, 0.7336244583129883, 0.6933347582817078, 0.7159429788589478, 0.7019789218902588, 0.6867450475692749, 0.6503680944442749, 0.6746261119842529, 0.7152847051620483, 0.6602715253829956, 0.7061834335327148, 0.6815675497055054, 0.6851759552955627, 0.6695096492767334, 0.6962484121322632, 0.7603716850280762, 0.7065818905830383, 0.6990377902984619, 0.6852009296417236, 0.7094498872756958, 0.7405813336372375, 0.6975651979446411, 0.7040177583694458, 0.6819891929626465, 0.5992656350135803, 0.7006392478942871, 0.7147085070610046, 0.7021369934082031, 0.7283523082733154, 0.6840100288391113, 0.6854835152626038, 0.6564464569091797, 0.6854681372642517, 0.7114822864532471, 0.6849092245101929, 0.7009823322296143, 0.6577476263046265, 0.7129722237586975, 0.6981915235519409, 0.6929419040679932, 0.6775345206260681, 0.6933757066726685, 0.7214368581771851, 0.6489525437355042, 0.7021347284317017, 0.5978935360908508, 0.44285792112350464, 0.6341748237609863, 0.6828087568283081, 0.6831119060516357, 0.6761188507080078, 0.6943027973175049, 0.7020645141601562, 0.6761057376861572, 0.8963789939880371, 0.6692918539047241, 0.7168208360671997, 0.6832480430603027, 0.664912223815918, 0.6967254281044006, 0.6833683252334595, 0.6699051856994629, 0.9029649496078491, 0.6763536930084229, 0.7130294442176819, 0.6717274188995361, 0.7066295146942139, 0.6456650495529175, 0.6992790699005127, 0.5164991617202759, 0.7011967897415161, 0.5187197327613831, 0.6436127424240112, 0.6661942005157471, 0.7194589376449585, 0.6805238127708435, 0.6522772312164307, 0.690300464630127, 0.760039210319519, 0.7104519605636597, 0.6909016370773315, 0.7060853242874146, 0.7271982431411743, 0.7260023355484009, 0.6726858615875244, 0.8051203489303589, 0.6719628572463989, 0.7307599186897278, 0.699010968208313, 0.6778759956359863, 0.6903612017631531, 0.6913368701934814, 0.7134817838668823, 0.6659242510795593, 0.6637578010559082, 0.7198706865310669, 0.6884925365447998, 0.6924261450767517, 0.7043759822845459, 0.7220727205276489, 0.7023046016693115, 0.6871273517608643, 0.7286751866340637, 0.6543271541595459, 0.7845832705497742, 0.6832614541053772, 0.6483400464057922, 0.7336285710334778, 0.6698424816131592, 0.6735427379608154, 0.7190957069396973, 0.692744791507721, 0.416080504655838, 0.6878126859664917, 0.687798261642456, 0.6646915674209595, 0.665627658367157, 0.677697479724884, 0.6935861110687256, 0.6815588474273682, 0.6892232894897461, 0.6891186237335205, 0.665128767490387, 0.7026962637901306, 0.7284291386604309, 0.691083550453186, 0.7029252052307129, 0.6785420179367065, 0.7046104669570923, 0.7395004034042358, 0.9494429230690002, 0.7214151620864868, 0.6877977848052979, 0.6812379956245422, 0.6878131031990051, 0.7044597864151001, 0.6779500246047974, 0.7026593685150146, 0.6723626852035522, 0.6637730598449707, 0.7125067710876465, 0.5282950401306152, 0.6282798051834106, 0.6756280660629272, 0.6782487630844116, 0.6975913047790527, 0.705644965171814, 0.6934940814971924, 0.7155028581619263, 0.6742433905601501, 0.709717869758606, 0.6424105167388916, 0.6786315441131592, 0.7658494710922241, 0.44344568252563477, 0.6944944262504578, 0.693463921546936, 0.6910589933395386, 0.7132668495178223, 0.6978031396865845, 0.7054169774055481, 0.7005219459533691, 0.7115645408630371, 0.6796495914459229, 0.7123101353645325, 0.6839091777801514, 0.7030951976776123, 0.7179349064826965, 0.6995729207992554, 0.5897492170333862, 0.7120265364646912, 0.688614010810852, 0.6780574321746826, 0.6635729074478149, 0.6980466842651367, 0.6579627990722656, 0.7277281880378723, 0.689469575881958, 0.7044606804847717, 0.6904774904251099, 0.6836908459663391, 0.7104766368865967, 0.6915662884712219, 0.6745702028274536, 0.6863749027252197, 0.6920925974845886, 0.4001983404159546, 0.6886054277420044, 0.700995922088623, 0.5104511976242065, 0.6928339004516602, 0.6951168179512024, 0.7035436630249023, 0.6949430704116821, 0.6688353419303894, 0.6758372783660889, 0.7035279273986816, 0.687911868095398, 1.1188455820083618, 0.6976487040519714, 0.6879745721817017, 0.7013906240463257, 0.6388242244720459]}],                        {\"template\": {\"data\": {\"bar\": [{\"error_x\": {\"color\": \"#2a3f5f\"}, \"error_y\": {\"color\": \"#2a3f5f\"}, \"marker\": {\"line\": {\"color\": \"#E5ECF6\", \"width\": 0.5}}, \"type\": \"bar\"}], \"barpolar\": [{\"marker\": {\"line\": {\"color\": \"#E5ECF6\", \"width\": 0.5}}, \"type\": \"barpolar\"}], \"carpet\": [{\"aaxis\": {\"endlinecolor\": \"#2a3f5f\", \"gridcolor\": \"white\", \"linecolor\": \"white\", \"minorgridcolor\": \"white\", \"startlinecolor\": \"#2a3f5f\"}, \"baxis\": {\"endlinecolor\": \"#2a3f5f\", \"gridcolor\": \"white\", \"linecolor\": \"white\", \"minorgridcolor\": \"white\", \"startlinecolor\": \"#2a3f5f\"}, \"type\": \"carpet\"}], \"choropleth\": [{\"colorbar\": {\"outlinewidth\": 0, \"ticks\": \"\"}, \"type\": \"choropleth\"}], \"contour\": [{\"colorbar\": {\"outlinewidth\": 0, \"ticks\": \"\"}, \"colorscale\": [[0.0, \"#0d0887\"], [0.1111111111111111, \"#46039f\"], [0.2222222222222222, \"#7201a8\"], [0.3333333333333333, \"#9c179e\"], [0.4444444444444444, \"#bd3786\"], [0.5555555555555556, \"#d8576b\"], [0.6666666666666666, \"#ed7953\"], [0.7777777777777778, \"#fb9f3a\"], [0.8888888888888888, \"#fdca26\"], [1.0, \"#f0f921\"]], \"type\": \"contour\"}], \"contourcarpet\": [{\"colorbar\": {\"outlinewidth\": 0, \"ticks\": \"\"}, \"type\": \"contourcarpet\"}], \"heatmap\": [{\"colorbar\": {\"outlinewidth\": 0, \"ticks\": \"\"}, \"colorscale\": [[0.0, \"#0d0887\"], [0.1111111111111111, \"#46039f\"], [0.2222222222222222, \"#7201a8\"], [0.3333333333333333, \"#9c179e\"], [0.4444444444444444, \"#bd3786\"], [0.5555555555555556, \"#d8576b\"], [0.6666666666666666, \"#ed7953\"], [0.7777777777777778, \"#fb9f3a\"], [0.8888888888888888, \"#fdca26\"], [1.0, \"#f0f921\"]], \"type\": \"heatmap\"}], \"heatmapgl\": [{\"colorbar\": {\"outlinewidth\": 0, \"ticks\": \"\"}, \"colorscale\": [[0.0, \"#0d0887\"], [0.1111111111111111, \"#46039f\"], [0.2222222222222222, \"#7201a8\"], [0.3333333333333333, \"#9c179e\"], [0.4444444444444444, \"#bd3786\"], [0.5555555555555556, \"#d8576b\"], [0.6666666666666666, \"#ed7953\"], [0.7777777777777778, \"#fb9f3a\"], [0.8888888888888888, \"#fdca26\"], [1.0, \"#f0f921\"]], \"type\": \"heatmapgl\"}], \"histogram\": [{\"marker\": {\"colorbar\": {\"outlinewidth\": 0, \"ticks\": \"\"}}, \"type\": \"histogram\"}], \"histogram2d\": [{\"colorbar\": {\"outlinewidth\": 0, \"ticks\": \"\"}, \"colorscale\": [[0.0, \"#0d0887\"], [0.1111111111111111, \"#46039f\"], [0.2222222222222222, \"#7201a8\"], [0.3333333333333333, \"#9c179e\"], [0.4444444444444444, \"#bd3786\"], [0.5555555555555556, \"#d8576b\"], [0.6666666666666666, \"#ed7953\"], [0.7777777777777778, \"#fb9f3a\"], [0.8888888888888888, \"#fdca26\"], [1.0, \"#f0f921\"]], \"type\": \"histogram2d\"}], \"histogram2dcontour\": [{\"colorbar\": {\"outlinewidth\": 0, \"ticks\": \"\"}, \"colorscale\": [[0.0, \"#0d0887\"], [0.1111111111111111, \"#46039f\"], [0.2222222222222222, \"#7201a8\"], [0.3333333333333333, \"#9c179e\"], [0.4444444444444444, \"#bd3786\"], [0.5555555555555556, \"#d8576b\"], [0.6666666666666666, \"#ed7953\"], [0.7777777777777778, \"#fb9f3a\"], [0.8888888888888888, \"#fdca26\"], [1.0, \"#f0f921\"]], \"type\": \"histogram2dcontour\"}], \"mesh3d\": [{\"colorbar\": {\"outlinewidth\": 0, \"ticks\": \"\"}, \"type\": \"mesh3d\"}], \"parcoords\": [{\"line\": {\"colorbar\": {\"outlinewidth\": 0, \"ticks\": \"\"}}, \"type\": \"parcoords\"}], \"pie\": [{\"automargin\": true, \"type\": \"pie\"}], \"scatter\": [{\"marker\": {\"colorbar\": {\"outlinewidth\": 0, \"ticks\": \"\"}}, \"type\": \"scatter\"}], \"scatter3d\": [{\"line\": {\"colorbar\": {\"outlinewidth\": 0, \"ticks\": \"\"}}, \"marker\": {\"colorbar\": {\"outlinewidth\": 0, \"ticks\": \"\"}}, \"type\": \"scatter3d\"}], \"scattercarpet\": [{\"marker\": {\"colorbar\": {\"outlinewidth\": 0, \"ticks\": \"\"}}, \"type\": \"scattercarpet\"}], \"scattergeo\": [{\"marker\": {\"colorbar\": {\"outlinewidth\": 0, \"ticks\": \"\"}}, \"type\": \"scattergeo\"}], \"scattergl\": [{\"marker\": {\"colorbar\": {\"outlinewidth\": 0, \"ticks\": \"\"}}, \"type\": \"scattergl\"}], \"scattermapbox\": [{\"marker\": {\"colorbar\": {\"outlinewidth\": 0, \"ticks\": \"\"}}, \"type\": \"scattermapbox\"}], \"scatterpolar\": [{\"marker\": {\"colorbar\": {\"outlinewidth\": 0, \"ticks\": \"\"}}, \"type\": \"scatterpolar\"}], \"scatterpolargl\": [{\"marker\": {\"colorbar\": {\"outlinewidth\": 0, \"ticks\": \"\"}}, \"type\": \"scatterpolargl\"}], \"scatterternary\": [{\"marker\": {\"colorbar\": {\"outlinewidth\": 0, \"ticks\": \"\"}}, \"type\": \"scatterternary\"}], \"surface\": [{\"colorbar\": {\"outlinewidth\": 0, \"ticks\": \"\"}, \"colorscale\": [[0.0, \"#0d0887\"], [0.1111111111111111, \"#46039f\"], [0.2222222222222222, \"#7201a8\"], [0.3333333333333333, \"#9c179e\"], [0.4444444444444444, \"#bd3786\"], [0.5555555555555556, \"#d8576b\"], [0.6666666666666666, \"#ed7953\"], [0.7777777777777778, \"#fb9f3a\"], [0.8888888888888888, \"#fdca26\"], [1.0, \"#f0f921\"]], \"type\": \"surface\"}], \"table\": [{\"cells\": {\"fill\": {\"color\": \"#EBF0F8\"}, \"line\": {\"color\": \"white\"}}, \"header\": {\"fill\": {\"color\": \"#C8D4E3\"}, \"line\": {\"color\": \"white\"}}, \"type\": \"table\"}]}, \"layout\": {\"annotationdefaults\": {\"arrowcolor\": \"#2a3f5f\", \"arrowhead\": 0, \"arrowwidth\": 1}, \"autotypenumbers\": \"strict\", \"coloraxis\": {\"colorbar\": {\"outlinewidth\": 0, \"ticks\": \"\"}}, \"colorscale\": {\"diverging\": [[0, \"#8e0152\"], [0.1, \"#c51b7d\"], [0.2, \"#de77ae\"], [0.3, \"#f1b6da\"], [0.4, \"#fde0ef\"], [0.5, \"#f7f7f7\"], [0.6, \"#e6f5d0\"], [0.7, \"#b8e186\"], [0.8, \"#7fbc41\"], [0.9, \"#4d9221\"], [1, \"#276419\"]], \"sequential\": [[0.0, \"#0d0887\"], [0.1111111111111111, \"#46039f\"], [0.2222222222222222, \"#7201a8\"], [0.3333333333333333, \"#9c179e\"], [0.4444444444444444, \"#bd3786\"], [0.5555555555555556, \"#d8576b\"], [0.6666666666666666, \"#ed7953\"], [0.7777777777777778, \"#fb9f3a\"], [0.8888888888888888, \"#fdca26\"], [1.0, \"#f0f921\"]], \"sequentialminus\": [[0.0, \"#0d0887\"], [0.1111111111111111, \"#46039f\"], [0.2222222222222222, \"#7201a8\"], [0.3333333333333333, \"#9c179e\"], [0.4444444444444444, \"#bd3786\"], [0.5555555555555556, \"#d8576b\"], [0.6666666666666666, \"#ed7953\"], [0.7777777777777778, \"#fb9f3a\"], [0.8888888888888888, \"#fdca26\"], [1.0, \"#f0f921\"]]}, \"colorway\": [\"#636efa\", \"#EF553B\", \"#00cc96\", \"#ab63fa\", \"#FFA15A\", \"#19d3f3\", \"#FF6692\", \"#B6E880\", \"#FF97FF\", \"#FECB52\"], \"font\": {\"color\": \"#2a3f5f\"}, \"geo\": {\"bgcolor\": \"white\", \"lakecolor\": \"white\", \"landcolor\": \"#E5ECF6\", \"showlakes\": true, \"showland\": true, \"subunitcolor\": \"white\"}, \"hoverlabel\": {\"align\": \"left\"}, \"hovermode\": \"closest\", \"mapbox\": {\"style\": \"light\"}, \"paper_bgcolor\": \"white\", \"plot_bgcolor\": \"#E5ECF6\", \"polar\": {\"angularaxis\": {\"gridcolor\": \"white\", \"linecolor\": \"white\", \"ticks\": \"\"}, \"bgcolor\": \"#E5ECF6\", \"radialaxis\": {\"gridcolor\": \"white\", \"linecolor\": \"white\", \"ticks\": \"\"}}, \"scene\": {\"xaxis\": {\"backgroundcolor\": \"#E5ECF6\", \"gridcolor\": \"white\", \"gridwidth\": 2, \"linecolor\": \"white\", \"showbackground\": true, \"ticks\": \"\", \"zerolinecolor\": \"white\"}, \"yaxis\": {\"backgroundcolor\": \"#E5ECF6\", \"gridcolor\": \"white\", \"gridwidth\": 2, \"linecolor\": \"white\", \"showbackground\": true, \"ticks\": \"\", \"zerolinecolor\": \"white\"}, \"zaxis\": {\"backgroundcolor\": \"#E5ECF6\", \"gridcolor\": \"white\", \"gridwidth\": 2, \"linecolor\": \"white\", \"showbackground\": true, \"ticks\": \"\", \"zerolinecolor\": \"white\"}}, \"shapedefaults\": {\"line\": {\"color\": \"#2a3f5f\"}}, \"ternary\": {\"aaxis\": {\"gridcolor\": \"white\", \"linecolor\": \"white\", \"ticks\": \"\"}, \"baxis\": {\"gridcolor\": \"white\", \"linecolor\": \"white\", \"ticks\": \"\"}, \"bgcolor\": \"#E5ECF6\", \"caxis\": {\"gridcolor\": \"white\", \"linecolor\": \"white\", \"ticks\": \"\"}}, \"title\": {\"x\": 0.05}, \"xaxis\": {\"automargin\": true, \"gridcolor\": \"white\", \"linecolor\": \"white\", \"ticks\": \"\", \"title\": {\"standoff\": 15}, \"zerolinecolor\": \"white\", \"zerolinewidth\": 2}, \"yaxis\": {\"automargin\": true, \"gridcolor\": \"white\", \"linecolor\": \"white\", \"ticks\": \"\", \"title\": {\"standoff\": 15}, \"zerolinecolor\": \"white\", \"zerolinewidth\": 2}}}, \"title\": {\"text\": \"Training progress\"}, \"xaxis\": {\"title\": {\"text\": \"Number of processed sentences\"}}, \"yaxis\": {\"title\": {\"text\": \"Loss (median over 65536 steps)\"}}},                        {\"responsive\": true}                    ).then(function(){\n",
       "                            \n",
       "var gd = document.getElementById('4f08349d-571d-487e-86f3-222ad538e5a6');\n",
       "var x = new MutationObserver(function (mutations, observer) {{\n",
       "        var display = window.getComputedStyle(gd).display;\n",
       "        if (!display || display === 'none') {{\n",
       "            console.log([gd, 'removed!']);\n",
       "            Plotly.purge(gd);\n",
       "            observer.disconnect();\n",
       "        }}\n",
       "}});\n",
       "\n",
       "// Listen for the removal of the full notebook cells\n",
       "var notebookContainer = gd.closest('#notebook-container');\n",
       "if (notebookContainer) {{\n",
       "    x.observe(notebookContainer, {childList: true});\n",
       "}}\n",
       "\n",
       "// Listen for the clearing of the current output cell\n",
       "var outputEl = gd.closest('.output');\n",
       "if (outputEl) {{\n",
       "    x.observe(outputEl, {childList: true});\n",
       "}}\n",
       "\n",
       "                        })                };                });            </script>        </div>"
      ]
     },
     "metadata": {},
     "output_type": "display_data"
    }
   ],
   "source": [
    "go.Figure(\n",
    "    layout=dict(\n",
    "        title=\"Training progress\",\n",
    "        xaxis_title=\"Number of processed sentences\",\n",
    "        yaxis_title=\"Loss (median over 65536 steps)\",\n",
    "    ),\n",
    "    data=[\n",
    "        go.Scatter(\n",
    "            x=np.arange(len(losses)) * 1,\n",
    "            y=pd.Series(losses[::1]).rolling(window=1, center=True).median(),\n",
    "        )\n",
    "    ]\n",
    ")"
   ]
  },
  {
   "cell_type": "markdown",
   "id": "dd7e2aa3",
   "metadata": {},
   "source": [
    "# Results"
   ]
  },
  {
   "cell_type": "code",
   "execution_count": 43,
   "id": "e43b7e9a",
   "metadata": {},
   "outputs": [
    {
     "data": {
      "text/plain": [
       "(tensor([ 0.0147,  0.0147, -0.0068,  0.0276, -0.0010, -0.0074,  0.0023,  0.0130,\n",
       "         -0.0075, -0.0162,  0.0008,  0.0138,  0.0014,  0.0031,  0.0134,  0.0035],\n",
       "        requires_grad=True),\n",
       " tensor([-0.3794, -0.0037,  0.3270, -0.1668, -0.8573,  0.1360,  0.1568,  0.5461,\n",
       "          1.1971, -0.7538,  0.5835, -0.8607, -0.7014, -1.5124, -0.9240, -0.5461],\n",
       "        requires_grad=True))"
      ]
     },
     "execution_count": 43,
     "metadata": {},
     "output_type": "execute_result"
    }
   ],
   "source": [
    "start_vector, end_vector"
   ]
  },
  {
   "cell_type": "code",
   "execution_count": 44,
   "id": "2c83f0f7",
   "metadata": {},
   "outputs": [
    {
     "data": {
      "text/plain": [
       "tensor([[-1.7153e+00, -6.8888e-01,  1.7436e+00, -5.0571e-01,  1.0888e+00,\n",
       "         -1.6746e+00, -7.8656e-01,  2.8983e+00, -2.5237e+00, -3.0493e-01,\n",
       "         -5.6227e-01, -1.7170e+00,  1.7610e+00, -1.1671e+00, -1.9369e+00,\n",
       "         -1.0157e+00],\n",
       "        [-6.4064e-01, -1.9195e+00, -2.4567e-01,  2.6313e-01, -9.6254e-01,\n",
       "         -3.2435e+00, -1.8565e+00, -2.4893e-01,  3.0438e+00,  1.7564e+00,\n",
       "          8.1284e-01, -1.8518e+00, -1.7809e+00, -7.8531e-01,  2.1500e-01,\n",
       "          1.3918e-02],\n",
       "        [-4.9701e-01,  1.4184e+00, -7.0343e-01, -1.6496e+00,  2.4489e+00,\n",
       "          2.2640e+00, -1.2121e+00,  5.6874e-01, -1.2630e-01,  6.2753e-01,\n",
       "         -1.0241e+00,  1.6231e+00, -2.5012e-02,  5.6296e-01, -1.4863e+00,\n",
       "         -6.1284e-01],\n",
       "        [ 2.5341e+00,  1.1828e+00,  1.0467e+00,  9.5365e-01, -6.6109e-01,\n",
       "         -4.3831e-01, -2.8384e-01, -1.6502e+00, -2.6878e+00, -8.7045e-01,\n",
       "         -1.6569e+00,  9.6382e-02,  1.9240e+00,  1.5607e+00,  5.6114e-01,\n",
       "          6.5428e-01],\n",
       "        [-6.3383e-02, -2.2526e-01, -5.5972e-01, -2.4649e+00,  1.3782e+00,\n",
       "         -9.2065e-01,  1.0543e+00, -1.6988e+00, -1.1819e+00,  1.4266e+00,\n",
       "         -1.5235e+00, -7.8662e-01,  7.7826e-02, -6.3998e-01, -1.4112e+00,\n",
       "          7.9530e-01],\n",
       "        [ 4.5867e-01, -1.2271e+00,  2.0740e-01,  1.0992e+00, -4.8246e-01,\n",
       "          2.0746e-01, -1.8249e+00,  1.7324e+00, -1.2671e+00, -8.1545e-01,\n",
       "          1.1267e+00, -8.4343e-02, -4.1256e-01,  1.2108e+00,  4.9418e-01,\n",
       "          1.2883e+00],\n",
       "        [ 1.4309e-01, -1.5198e+00, -2.0795e-03,  1.0381e+00,  6.6154e-01,\n",
       "          2.0014e+00,  1.9503e+00, -9.3839e-01, -1.3909e+00,  3.1439e-01,\n",
       "         -8.6928e-02, -1.5032e+00, -1.7446e-01,  2.0232e+00, -6.1828e-01,\n",
       "         -1.1621e+00],\n",
       "        [ 8.1036e-01, -1.0403e+00,  2.5026e-01,  1.1523e+00, -1.2061e-01,\n",
       "         -2.3313e+00,  1.0705e-01,  7.7464e-02,  8.5093e-02,  1.1928e+00,\n",
       "          1.4862e+00, -1.1926e+00, -1.0787e+00, -7.2050e-01,  1.7153e-01,\n",
       "          5.3762e-01],\n",
       "        [-4.7546e-01, -2.2300e+00,  2.3749e+00, -1.2304e-01, -1.4394e+00,\n",
       "          1.6350e+00,  1.4691e+00,  1.7369e+00,  1.7654e+00, -1.3305e+00,\n",
       "         -2.2644e+00,  1.7195e-01, -1.1533e+00, -1.9243e-01,  3.4938e-01,\n",
       "         -4.1205e-01],\n",
       "        [ 4.9486e-02,  4.0133e-01, -1.4828e+00, -2.1398e+00, -1.2525e+00,\n",
       "         -7.6627e-01, -1.3072e+00, -4.3804e-01,  1.8496e+00,  8.4346e-01,\n",
       "          8.7536e-01,  4.3975e-01,  2.6043e+00, -2.2005e+00,  5.9114e-01,\n",
       "          7.2452e-01],\n",
       "        [ 2.1227e+00, -1.0157e+00, -1.5330e+00, -1.2000e+00,  1.8335e+00,\n",
       "         -1.0019e+00, -2.2368e-01, -5.0734e-02, -6.1530e-01,  1.6303e+00,\n",
       "          1.2788e-03,  4.7766e-01, -1.4877e-01, -4.0898e-02,  5.3823e-01,\n",
       "         -1.7709e+00],\n",
       "        [-2.3580e-01, -8.3769e-01,  2.5926e+00, -1.1351e+00, -1.2344e+00,\n",
       "          1.1604e+00, -1.8985e+00,  3.0018e-01, -1.3581e+00,  2.9371e-01,\n",
       "         -4.7446e-01,  2.7149e+00, -5.1814e-01, -4.3855e-01,  7.0667e-01,\n",
       "          1.6882e-01],\n",
       "        [-1.7215e+00, -8.2078e-01,  1.0485e+00, -2.3077e+00, -1.4032e+00,\n",
       "          4.5144e-01,  1.8509e+00, -2.7160e+00, -1.7413e+00,  1.5151e+00,\n",
       "         -1.3244e+00,  7.8686e-01,  7.7218e-01,  1.6063e+00, -1.2380e+00,\n",
       "         -1.3042e+00],\n",
       "        [-8.9350e-01, -5.7881e-01, -7.8526e-02,  8.1612e-01,  1.5197e-01,\n",
       "         -1.9731e+00,  1.6267e-01, -1.4360e+00,  2.3125e-01, -4.8640e-01,\n",
       "         -9.7154e-01, -3.0297e-01,  6.4932e-01,  4.3634e-01,  4.5295e-01,\n",
       "         -5.6837e-01],\n",
       "        [-1.6781e+00,  2.3449e+00, -4.3405e-01, -7.0669e-01,  4.9061e-01,\n",
       "          2.7248e-01,  1.6782e+00,  6.3326e-01, -5.3929e-01, -1.9657e+00,\n",
       "         -6.2128e-01, -1.2091e+00,  5.9454e-01, -1.6719e-01, -8.7079e-02,\n",
       "         -1.2677e+00],\n",
       "        [ 9.4521e-01, -1.0867e+00, -1.6840e+00,  2.4048e+00,  3.3295e+00,\n",
       "          7.7327e-01, -2.2336e-01,  3.0618e-01,  1.8694e-01,  1.2586e+00,\n",
       "          4.5573e-01, -2.2492e+00, -4.6534e-01, -4.1342e-01, -9.6737e-02,\n",
       "          6.5677e-01]], requires_grad=True)"
      ]
     },
     "execution_count": 44,
     "metadata": {},
     "output_type": "execute_result"
    }
   ],
   "source": [
    "matrices[\"the\"]"
   ]
  },
  {
   "cell_type": "code",
   "execution_count": 45,
   "id": "3cb00ebf",
   "metadata": {},
   "outputs": [],
   "source": [
    "real_logits = [sentence_logit(sentence).item() for sentence in clean_dataset.sentences[:4096]]\n",
    "fake_logits = [sentence_logit(fake_sentence()).item() for _ in range(4096)]\n",
    "auc = sklearn.metrics.roc_auc_score(\n",
    "    [1] * len(real_logits) + [0] * len(fake_logits),\n",
    "    real_logits + fake_logits,\n",
    ")"
   ]
  },
  {
   "cell_type": "code",
   "execution_count": 46,
   "id": "e01e757c",
   "metadata": {},
   "outputs": [
    {
     "data": {
      "application/vnd.plotly.v1+json": {
       "config": {
        "plotlyServerURL": "https://plot.ly"
       },
       "data": [
        {
         "name": "word2mat",
         "type": "scatter",
         "x": [
          0,
          0.000244140625,
          0.01953125,
          0.01953125,
          0.0283203125,
          0.0283203125,
          0.0283203125,
          0.0302734375,
          0.0302734375,
          0.030517578125,
          0.03271484375,
          0.03271484375,
          0.035888671875,
          0.035888671875,
          0.0390625,
          0.0390625,
          0.0419921875,
          0.0419921875,
          0.043701171875,
          0.043701171875,
          0.0439453125,
          0.0439453125,
          0.046142578125,
          0.046142578125,
          0.0546875,
          0.0546875,
          0.0576171875,
          0.0576171875,
          0.05810546875,
          0.05810546875,
          0.059814453125,
          0.059814453125,
          0.06005859375,
          0.06005859375,
          0.06005859375,
          0.061279296875,
          0.061279296875,
          0.064453125,
          0.064453125,
          0.06591796875,
          0.06591796875,
          0.066162109375,
          0.066162109375,
          0.067626953125,
          0.067626953125,
          0.068603515625,
          0.068603515625,
          0.069091796875,
          0.069091796875,
          0.069091796875,
          0.069091796875,
          0.069580078125,
          0.069580078125,
          0.07275390625,
          0.07275390625,
          0.072998046875,
          0.072998046875,
          0.073974609375,
          0.073974609375,
          0.0771484375,
          0.0771484375,
          0.077392578125,
          0.077392578125,
          0.077880859375,
          0.077880859375,
          0.078125,
          0.078125,
          0.079345703125,
          0.079345703125,
          0.08056640625,
          0.08056640625,
          0.081787109375,
          0.081787109375,
          0.085205078125,
          0.085205078125,
          0.0869140625,
          0.0869140625,
          0.088623046875,
          0.088623046875,
          0.091796875,
          0.091796875,
          0.09423828125,
          0.09423828125,
          0.094482421875,
          0.094482421875,
          0.096435546875,
          0.096435546875,
          0.097900390625,
          0.097900390625,
          0.102783203125,
          0.102783203125,
          0.10400390625,
          0.10400390625,
          0.10693359375,
          0.10693359375,
          0.107666015625,
          0.107666015625,
          0.115966796875,
          0.115966796875,
          0.1201171875,
          0.1201171875,
          0.12060546875,
          0.12060546875,
          0.121826171875,
          0.121826171875,
          0.124267578125,
          0.124267578125,
          0.125,
          0.125,
          0.1279296875,
          0.1279296875,
          0.12841796875,
          0.12841796875,
          0.128662109375,
          0.128662109375,
          0.128662109375,
          0.12939453125,
          0.12939453125,
          0.13037109375,
          0.13037109375,
          0.13037109375,
          0.1318359375,
          0.1318359375,
          0.13525390625,
          0.13525390625,
          0.14111328125,
          0.14111328125,
          0.141845703125,
          0.141845703125,
          0.142578125,
          0.142578125,
          0.14697265625,
          0.14697265625,
          0.147705078125,
          0.147705078125,
          0.148193359375,
          0.148193359375,
          0.148681640625,
          0.148681640625,
          0.15087890625,
          0.15087890625,
          0.15869140625,
          0.15869140625,
          0.15966796875,
          0.15966796875,
          0.16064453125,
          0.16064453125,
          0.16064453125,
          0.161376953125,
          0.161376953125,
          0.162353515625,
          0.162353515625,
          0.163330078125,
          0.163330078125,
          0.165283203125,
          0.165283203125,
          0.16748046875,
          0.16748046875,
          0.1767578125,
          0.1767578125,
          0.178466796875,
          0.178466796875,
          0.178955078125,
          0.178955078125,
          0.17919921875,
          0.17919921875,
          0.181884765625,
          0.181884765625,
          0.186279296875,
          0.186279296875,
          0.187255859375,
          0.187255859375,
          0.190673828125,
          0.190673828125,
          0.193603515625,
          0.193603515625,
          0.194091796875,
          0.194091796875,
          0.197998046875,
          0.197998046875,
          0.1982421875,
          0.1982421875,
          0.20068359375,
          0.20068359375,
          0.203369140625,
          0.203369140625,
          0.2041015625,
          0.2041015625,
          0.204833984375,
          0.204833984375,
          0.2060546875,
          0.2060546875,
          0.208251953125,
          0.208251953125,
          0.20849609375,
          0.20849609375,
          0.20947265625,
          0.20947265625,
          0.210693359375,
          0.210693359375,
          0.210693359375,
          0.216064453125,
          0.216064453125,
          0.21826171875,
          0.21826171875,
          0.219970703125,
          0.219970703125,
          0.221923828125,
          0.221923828125,
          0.223388671875,
          0.223388671875,
          0.236328125,
          0.236328125,
          0.238037109375,
          0.238037109375,
          0.239013671875,
          0.239013671875,
          0.239013671875,
          0.241455078125,
          0.241455078125,
          0.24267578125,
          0.24267578125,
          0.245849609375,
          0.245849609375,
          0.246337890625,
          0.246337890625,
          0.246826171875,
          0.246826171875,
          0.2470703125,
          0.2470703125,
          0.251953125,
          0.251953125,
          0.252197265625,
          0.252197265625,
          0.2529296875,
          0.2529296875,
          0.256591796875,
          0.256591796875,
          0.261474609375,
          0.261474609375,
          0.267822265625,
          0.267822265625,
          0.27001953125,
          0.27001953125,
          0.271484375,
          0.271484375,
          0.271728515625,
          0.271728515625,
          0.271728515625,
          0.284423828125,
          0.284423828125,
          0.2880859375,
          0.2880859375,
          0.2890625,
          0.2890625,
          0.290283203125,
          0.290283203125,
          0.290283203125,
          0.29345703125,
          0.29345703125,
          0.29638671875,
          0.29638671875,
          0.299560546875,
          0.299560546875,
          0.300048828125,
          0.300048828125,
          0.300537109375,
          0.300537109375,
          0.300537109375,
          0.30322265625,
          0.30322265625,
          0.30419921875,
          0.30419921875,
          0.30712890625,
          0.30712890625,
          0.310546875,
          0.310546875,
          0.310546875,
          0.312744140625,
          0.312744140625,
          0.315673828125,
          0.315673828125,
          0.31591796875,
          0.31591796875,
          0.318359375,
          0.318359375,
          0.3232421875,
          0.3232421875,
          0.325439453125,
          0.325439453125,
          0.326416015625,
          0.326416015625,
          0.328125,
          0.328125,
          0.328857421875,
          0.328857421875,
          0.332763671875,
          0.332763671875,
          0.3330078125,
          0.3330078125,
          0.333251953125,
          0.333251953125,
          0.334716796875,
          0.334716796875,
          0.338623046875,
          0.338623046875,
          0.339111328125,
          0.339111328125,
          0.340087890625,
          0.340087890625,
          0.340576171875,
          0.340576171875,
          0.341552734375,
          0.341552734375,
          0.341796875,
          0.341796875,
          0.342041015625,
          0.342041015625,
          0.342529296875,
          0.342529296875,
          0.343505859375,
          0.343505859375,
          0.34375,
          0.34375,
          0.349853515625,
          0.349853515625,
          0.35009765625,
          0.35009765625,
          0.353759765625,
          0.353759765625,
          0.35595703125,
          0.35595703125,
          0.36083984375,
          0.36083984375,
          0.3662109375,
          0.3662109375,
          0.3671875,
          0.3671875,
          0.367919921875,
          0.367919921875,
          0.368896484375,
          0.368896484375,
          0.369873046875,
          0.369873046875,
          0.375244140625,
          0.375244140625,
          0.386474609375,
          0.386474609375,
          0.38671875,
          0.38671875,
          0.38671875,
          0.38720703125,
          0.38720703125,
          0.38916015625,
          0.38916015625,
          0.391357421875,
          0.391357421875,
          0.392578125,
          0.392578125,
          0.393798828125,
          0.393798828125,
          0.394287109375,
          0.394287109375,
          0.394775390625,
          0.394775390625,
          0.398193359375,
          0.398193359375,
          0.398681640625,
          0.398681640625,
          0.398681640625,
          0.401611328125,
          0.401611328125,
          0.405517578125,
          0.405517578125,
          0.40673828125,
          0.40673828125,
          0.406982421875,
          0.406982421875,
          0.409912109375,
          0.409912109375,
          0.41064453125,
          0.41064453125,
          0.4111328125,
          0.4111328125,
          0.41552734375,
          0.41552734375,
          0.41650390625,
          0.41650390625,
          0.4169921875,
          0.4169921875,
          0.4189453125,
          0.4189453125,
          0.4208984375,
          0.4208984375,
          0.42236328125,
          0.42236328125,
          0.42236328125,
          0.425048828125,
          0.425048828125,
          0.427734375,
          0.427734375,
          0.427978515625,
          0.427978515625,
          0.4296875,
          0.4296875,
          0.4296875,
          0.433349609375,
          0.433349609375,
          0.434814453125,
          0.434814453125,
          0.435791015625,
          0.435791015625,
          0.43896484375,
          0.439208984375,
          0.441162109375,
          0.441162109375,
          0.44140625,
          0.44140625,
          0.443603515625,
          0.443603515625,
          0.44482421875,
          0.44482421875,
          0.44482421875,
          0.445556640625,
          0.445556640625,
          0.446044921875,
          0.446044921875,
          0.446044921875,
          0.4482421875,
          0.4482421875,
          0.449462890625,
          0.449462890625,
          0.45166015625,
          0.45166015625,
          0.453857421875,
          0.453857421875,
          0.454833984375,
          0.454833984375,
          0.4560546875,
          0.4560546875,
          0.456298828125,
          0.456298828125,
          0.45703125,
          0.45703125,
          0.45751953125,
          0.45751953125,
          0.46044921875,
          0.46044921875,
          0.46044921875,
          0.462890625,
          0.462890625,
          0.464111328125,
          0.464111328125,
          0.46484375,
          0.46484375,
          0.471435546875,
          0.471435546875,
          0.4716796875,
          0.4716796875,
          0.473388671875,
          0.473388671875,
          0.473876953125,
          0.473876953125,
          0.47607421875,
          0.47607421875,
          0.4775390625,
          0.4775390625,
          0.484130859375,
          0.484130859375,
          0.4853515625,
          0.4853515625,
          0.490966796875,
          0.490966796875,
          0.492919921875,
          0.492919921875,
          0.497314453125,
          0.497314453125,
          0.498291015625,
          0.498291015625,
          0.49951171875,
          0.49951171875,
          0.5009765625,
          0.5009765625,
          0.501708984375,
          0.501708984375,
          0.501953125,
          0.501953125,
          0.5048828125,
          0.5048828125,
          0.505126953125,
          0.505126953125,
          0.50537109375,
          0.50537109375,
          0.505859375,
          0.505859375,
          0.505859375,
          0.51025390625,
          0.51025390625,
          0.51123046875,
          0.51123046875,
          0.51171875,
          0.51171875,
          0.512451171875,
          0.512451171875,
          0.515380859375,
          0.515380859375,
          0.517578125,
          0.517578125,
          0.522216796875,
          0.522216796875,
          0.5224609375,
          0.5224609375,
          0.52294921875,
          0.52294921875,
          0.52392578125,
          0.52392578125,
          0.52392578125,
          0.526611328125,
          0.526611328125,
          0.53173828125,
          0.53173828125,
          0.53271484375,
          0.53271484375,
          0.534423828125,
          0.534423828125,
          0.535400390625,
          0.535400390625,
          0.536376953125,
          0.536376953125,
          0.5380859375,
          0.5380859375,
          0.5380859375,
          0.5400390625,
          0.5400390625,
          0.542236328125,
          0.542236328125,
          0.542724609375,
          0.542724609375,
          0.544677734375,
          0.544677734375,
          0.544921875,
          0.544921875,
          0.545654296875,
          0.545654296875,
          0.54638671875,
          0.54638671875,
          0.54638671875,
          0.5537109375,
          0.5537109375,
          0.5556640625,
          0.5556640625,
          0.563232421875,
          0.563232421875,
          0.564453125,
          0.564453125,
          0.56494140625,
          0.56494140625,
          0.5654296875,
          0.5654296875,
          0.56640625,
          0.56640625,
          0.567138671875,
          0.567138671875,
          0.568115234375,
          0.568115234375,
          0.57275390625,
          0.57275390625,
          0.572998046875,
          0.572998046875,
          0.573486328125,
          0.573486328125,
          0.573486328125,
          0.573486328125,
          0.57470703125,
          0.57470703125,
          0.574951171875,
          0.574951171875,
          0.578125,
          0.578125,
          0.57958984375,
          0.57958984375,
          0.580322265625,
          0.580322265625,
          0.580322265625,
          0.58154296875,
          0.58154296875,
          0.59130859375,
          0.59130859375,
          0.59326171875,
          0.59326171875,
          0.59765625,
          0.59765625,
          0.597900390625,
          0.597900390625,
          0.5986328125,
          0.5986328125,
          0.5986328125,
          0.5986328125,
          0.59912109375,
          0.59912109375,
          0.60107421875,
          0.60107421875,
          0.60205078125,
          0.60205078125,
          0.60546875,
          0.60546875,
          0.605712890625,
          0.605712890625,
          0.605712890625,
          0.60888671875,
          0.60888671875,
          0.610107421875,
          0.610107421875,
          0.619873046875,
          0.619873046875,
          0.62255859375,
          0.62255859375,
          0.622802734375,
          0.622802734375,
          0.623291015625,
          0.623291015625,
          0.625732421875,
          0.625732421875,
          0.627197265625,
          0.627197265625,
          0.627197265625,
          0.62890625,
          0.62890625,
          0.62939453125,
          0.62939453125,
          0.643310546875,
          0.643310546875,
          0.649658203125,
          0.649658203125,
          0.651123046875,
          0.651123046875,
          0.6513671875,
          0.6513671875,
          0.654541015625,
          0.654541015625,
          0.664794921875,
          0.664794921875,
          0.66748046875,
          0.66748046875,
          0.669677734375,
          0.669677734375,
          0.669921875,
          0.669921875,
          0.671875,
          0.671875,
          0.67626953125,
          0.67626953125,
          0.67626953125,
          0.677001953125,
          0.677001953125,
          0.6845703125,
          0.6845703125,
          0.6845703125,
          0.685302734375,
          0.685302734375,
          0.685791015625,
          0.685791015625,
          0.6884765625,
          0.6884765625,
          0.690185546875,
          0.690185546875,
          0.692626953125,
          0.692626953125,
          0.692626953125,
          0.69921875,
          0.69921875,
          0.702392578125,
          0.702392578125,
          0.705810546875,
          0.705810546875,
          0.70849609375,
          0.70849609375,
          0.709716796875,
          0.709716796875,
          0.71484375,
          0.71484375,
          0.71630859375,
          0.71630859375,
          0.71630859375,
          0.71728515625,
          0.71728515625,
          0.718994140625,
          0.718994140625,
          0.7197265625,
          0.7197265625,
          0.720458984375,
          0.720458984375,
          0.720947265625,
          0.720947265625,
          0.721923828125,
          0.721923828125,
          0.721923828125,
          0.723876953125,
          0.723876953125,
          0.73046875,
          0.73046875,
          0.731201171875,
          0.731201171875,
          0.732666015625,
          0.732666015625,
          0.734130859375,
          0.734130859375,
          0.73828125,
          0.73828125,
          0.74072265625,
          0.74072265625,
          0.74072265625,
          0.741943359375,
          0.741943359375,
          0.746826171875,
          0.746826171875,
          0.747802734375,
          0.747802734375,
          0.751220703125,
          0.751220703125,
          0.75537109375,
          0.75537109375,
          0.7568359375,
          0.7568359375,
          0.75830078125,
          0.75830078125,
          0.7587890625,
          0.7587890625,
          0.76171875,
          0.76171875,
          0.763916015625,
          0.763916015625,
          0.76513671875,
          0.76513671875,
          0.765380859375,
          0.765380859375,
          0.765869140625,
          0.765869140625,
          0.77001953125,
          0.77001953125,
          0.774658203125,
          0.774658203125,
          0.77685546875,
          0.77685546875,
          0.782470703125,
          0.782470703125,
          0.782470703125,
          0.784423828125,
          0.784423828125,
          0.7880859375,
          0.7880859375,
          0.79150390625,
          0.79150390625,
          0.792236328125,
          0.792236328125,
          0.794189453125,
          0.794189453125,
          0.795166015625,
          0.795166015625,
          0.796142578125,
          0.796142578125,
          0.796142578125,
          0.798095703125,
          0.798095703125,
          0.7998046875,
          0.7998046875,
          0.7998046875,
          0.801025390625,
          0.801025390625,
          0.801025390625,
          0.801025390625,
          0.802490234375,
          0.802490234375,
          0.80615234375,
          0.80615234375,
          0.8076171875,
          0.8076171875,
          0.810791015625,
          0.810791015625,
          0.81201171875,
          0.81201171875,
          0.814697265625,
          0.814697265625,
          0.81640625,
          0.81640625,
          0.8173828125,
          0.8173828125,
          0.81884765625,
          0.81884765625,
          0.8193359375,
          0.8193359375,
          0.822998046875,
          0.822998046875,
          0.826416015625,
          0.826416015625,
          0.826904296875,
          0.826904296875,
          0.82861328125,
          0.82861328125,
          0.828857421875,
          0.828857421875,
          0.82958984375,
          0.82958984375,
          0.830810546875,
          0.830810546875,
          0.830810546875,
          0.835205078125,
          0.835205078125,
          0.839599609375,
          0.839599609375,
          0.844970703125,
          0.844970703125,
          0.848388671875,
          0.848388671875,
          0.8486328125,
          0.8486328125,
          0.85302734375,
          0.85302734375,
          0.85791015625,
          0.85791015625,
          0.859130859375,
          0.859130859375,
          0.859375,
          0.859375,
          0.862060546875,
          0.862060546875,
          0.862060546875,
          0.86328125,
          0.86328125,
          0.865478515625,
          0.865478515625,
          0.8662109375,
          0.8662109375,
          0.867919921875,
          0.867919921875,
          0.871337890625,
          0.871337890625,
          0.874267578125,
          0.874267578125,
          0.8759765625,
          0.8759765625,
          0.87646484375,
          0.87646484375,
          0.87841796875,
          0.87841796875,
          0.879638671875,
          0.879638671875,
          0.8798828125,
          0.8798828125,
          0.8798828125,
          0.88232421875,
          0.88232421875,
          0.88427734375,
          0.88427734375,
          0.8857421875,
          0.8857421875,
          0.888671875,
          0.888671875,
          0.888671875,
          0.89501953125,
          0.89501953125,
          0.896484375,
          0.896484375,
          0.902587890625,
          0.902587890625,
          0.905029296875,
          0.905029296875,
          0.91015625,
          0.91015625,
          0.91064453125,
          0.91064453125,
          0.91259765625,
          0.91259765625,
          0.912841796875,
          0.912841796875,
          0.91357421875,
          0.91357421875,
          0.913818359375,
          0.913818359375,
          0.9150390625,
          0.9150390625,
          0.91796875,
          0.91796875,
          0.918701171875,
          0.9189453125,
          0.919677734375,
          0.919677734375,
          0.919921875,
          0.919921875,
          0.9208984375,
          0.9208984375,
          0.92138671875,
          0.92138671875,
          0.921875,
          0.921875,
          0.922119140625,
          0.922119140625,
          0.924072265625,
          0.924072265625,
          0.92578125,
          0.92578125,
          0.92578125,
          0.92578125,
          0.926025390625,
          0.926025390625,
          0.9287109375,
          0.9287109375,
          0.929931640625,
          0.929931640625,
          0.929931640625,
          0.93310546875,
          0.93310546875,
          0.934326171875,
          0.934326171875,
          0.935546875,
          0.935546875,
          0.937255859375,
          0.937255859375,
          0.941650390625,
          0.941650390625,
          0.9423828125,
          0.9423828125,
          0.94384765625,
          0.94384765625,
          0.94384765625,
          0.9443359375,
          0.9443359375,
          0.946044921875,
          0.946044921875,
          0.947998046875,
          0.947998046875,
          0.947998046875,
          0.951416015625,
          0.951416015625,
          0.95849609375,
          0.95849609375,
          0.958740234375,
          0.958740234375,
          0.959716796875,
          0.959716796875,
          0.96044921875,
          0.96044921875,
          0.962158203125,
          0.962158203125,
          0.962158203125,
          0.96337890625,
          0.96337890625,
          0.9638671875,
          0.9638671875,
          0.9638671875,
          0.96484375,
          0.96484375,
          0.9658203125,
          0.9658203125,
          0.97998046875,
          0.97998046875,
          0.99609375,
          0.99609375,
          1
         ],
         "y": [
          0,
          0,
          0,
          0.000732421875,
          0.000732421875,
          0.002197265625,
          0.002685546875,
          0.002685546875,
          0.00341796875,
          0.0068359375,
          0.0068359375,
          0.010009765625,
          0.010009765625,
          0.0107421875,
          0.0107421875,
          0.01220703125,
          0.01220703125,
          0.015625,
          0.015625,
          0.01611328125,
          0.01611328125,
          0.018310546875,
          0.018310546875,
          0.021484375,
          0.021484375,
          0.022216796875,
          0.022216796875,
          0.023681640625,
          0.023681640625,
          0.0244140625,
          0.0244140625,
          0.025146484375,
          0.025146484375,
          0.02587890625,
          0.02734375,
          0.02734375,
          0.030517578125,
          0.030517578125,
          0.03369140625,
          0.03369140625,
          0.0341796875,
          0.0341796875,
          0.037353515625,
          0.037353515625,
          0.040771484375,
          0.040771484375,
          0.0439453125,
          0.0439453125,
          0.047119140625,
          0.0478515625,
          0.04931640625,
          0.04931640625,
          0.052490234375,
          0.052490234375,
          0.0556640625,
          0.0556640625,
          0.05908203125,
          0.05908203125,
          0.059814453125,
          0.059814453125,
          0.06298828125,
          0.06298828125,
          0.064453125,
          0.064453125,
          0.065185546875,
          0.065185546875,
          0.06591796875,
          0.06591796875,
          0.0673828125,
          0.0673828125,
          0.07080078125,
          0.07080078125,
          0.0712890625,
          0.0712890625,
          0.07275390625,
          0.07275390625,
          0.075927734375,
          0.075927734375,
          0.079345703125,
          0.079345703125,
          0.080810546875,
          0.080810546875,
          0.083984375,
          0.083984375,
          0.084716796875,
          0.084716796875,
          0.087890625,
          0.087890625,
          0.088623046875,
          0.088623046875,
          0.091796875,
          0.091796875,
          0.094970703125,
          0.094970703125,
          0.096435546875,
          0.096435546875,
          0.097900390625,
          0.097900390625,
          0.0986328125,
          0.0986328125,
          0.101806640625,
          0.101806640625,
          0.10498046875,
          0.10498046875,
          0.1083984375,
          0.1083984375,
          0.11181640625,
          0.11181640625,
          0.115234375,
          0.115234375,
          0.115966796875,
          0.115966796875,
          0.119384765625,
          0.119384765625,
          0.122802734375,
          0.124267578125,
          0.124267578125,
          0.12744140625,
          0.12744140625,
          0.130859375,
          0.13134765625,
          0.13134765625,
          0.134765625,
          0.134765625,
          0.137939453125,
          0.137939453125,
          0.141357421875,
          0.141357421875,
          0.142822265625,
          0.142822265625,
          0.1435546875,
          0.1435546875,
          0.144287109375,
          0.144287109375,
          0.1474609375,
          0.1474609375,
          0.14892578125,
          0.14892578125,
          0.15234375,
          0.15234375,
          0.153076171875,
          0.153076171875,
          0.15625,
          0.15625,
          0.159423828125,
          0.159423828125,
          0.16015625,
          0.163330078125,
          0.163330078125,
          0.1640625,
          0.1640625,
          0.167236328125,
          0.167236328125,
          0.17041015625,
          0.17041015625,
          0.1708984375,
          0.1708984375,
          0.174072265625,
          0.174072265625,
          0.177490234375,
          0.177490234375,
          0.178955078125,
          0.178955078125,
          0.179443359375,
          0.179443359375,
          0.185791015625,
          0.185791015625,
          0.18896484375,
          0.18896484375,
          0.189453125,
          0.189453125,
          0.19091796875,
          0.19091796875,
          0.191650390625,
          0.191650390625,
          0.197998046875,
          0.197998046875,
          0.198486328125,
          0.198486328125,
          0.20166015625,
          0.20166015625,
          0.2021484375,
          0.2021484375,
          0.20556640625,
          0.20556640625,
          0.206298828125,
          0.206298828125,
          0.20947265625,
          0.20947265625,
          0.212646484375,
          0.212646484375,
          0.21337890625,
          0.21337890625,
          0.216552734375,
          0.216552734375,
          0.2197265625,
          0.2197265625,
          0.220458984375,
          0.220458984375,
          0.22265625,
          0.22412109375,
          0.22412109375,
          0.224853515625,
          0.224853515625,
          0.226318359375,
          0.226318359375,
          0.227783203125,
          0.227783203125,
          0.23095703125,
          0.23095703125,
          0.232421875,
          0.232421875,
          0.23388671875,
          0.23388671875,
          0.234619140625,
          0.234619140625,
          0.235107421875,
          0.2373046875,
          0.2373046875,
          0.239501953125,
          0.239501953125,
          0.240966796875,
          0.240966796875,
          0.244140625,
          0.244140625,
          0.24462890625,
          0.24462890625,
          0.247802734375,
          0.247802734375,
          0.2509765625,
          0.2509765625,
          0.25439453125,
          0.25439453125,
          0.255126953125,
          0.255126953125,
          0.255615234375,
          0.255615234375,
          0.2587890625,
          0.2587890625,
          0.261962890625,
          0.261962890625,
          0.268310546875,
          0.268310546875,
          0.26904296875,
          0.26904296875,
          0.272216796875,
          0.272216796875,
          0.275390625,
          0.27880859375,
          0.27880859375,
          0.281982421875,
          0.281982421875,
          0.285400390625,
          0.285400390625,
          0.288818359375,
          0.288818359375,
          0.28955078125,
          0.291015625,
          0.291015625,
          0.29443359375,
          0.29443359375,
          0.297607421875,
          0.297607421875,
          0.30078125,
          0.30078125,
          0.303955078125,
          0.303955078125,
          0.307373046875,
          0.308837890625,
          0.308837890625,
          0.310302734375,
          0.310302734375,
          0.31103515625,
          0.31103515625,
          0.314208984375,
          0.314208984375,
          0.315673828125,
          0.316162109375,
          0.316162109375,
          0.317626953125,
          0.317626953125,
          0.32080078125,
          0.32080078125,
          0.321533203125,
          0.321533203125,
          0.322265625,
          0.322265625,
          0.325439453125,
          0.325439453125,
          0.326171875,
          0.326171875,
          0.32763671875,
          0.32763671875,
          0.330810546875,
          0.330810546875,
          0.332275390625,
          0.332275390625,
          0.33544921875,
          0.33544921875,
          0.336181640625,
          0.336181640625,
          0.33935546875,
          0.33935546875,
          0.3427734375,
          0.3427734375,
          0.34423828125,
          0.34423828125,
          0.347412109375,
          0.347412109375,
          0.3505859375,
          0.3505859375,
          0.353759765625,
          0.353759765625,
          0.3544921875,
          0.3544921875,
          0.355224609375,
          0.355224609375,
          0.358642578125,
          0.358642578125,
          0.359375,
          0.359375,
          0.36083984375,
          0.36083984375,
          0.361572265625,
          0.361572265625,
          0.3623046875,
          0.3623046875,
          0.36376953125,
          0.36376953125,
          0.3671875,
          0.3671875,
          0.36865234375,
          0.36865234375,
          0.369384765625,
          0.369384765625,
          0.37255859375,
          0.37255859375,
          0.375732421875,
          0.375732421875,
          0.37890625,
          0.37890625,
          0.382080078125,
          0.382080078125,
          0.38525390625,
          0.38525390625,
          0.388427734375,
          0.388427734375,
          0.388916015625,
          0.388916015625,
          0.389404296875,
          0.39013671875,
          0.39013671875,
          0.390869140625,
          0.390869140625,
          0.392333984375,
          0.392333984375,
          0.3955078125,
          0.3955078125,
          0.396240234375,
          0.396240234375,
          0.3984375,
          0.3984375,
          0.40185546875,
          0.40185546875,
          0.40234375,
          0.40234375,
          0.405517578125,
          0.405517578125,
          0.40625,
          0.409423828125,
          0.409423828125,
          0.41015625,
          0.41015625,
          0.413330078125,
          0.413330078125,
          0.41650390625,
          0.41650390625,
          0.41796875,
          0.41796875,
          0.418701171875,
          0.418701171875,
          0.420166015625,
          0.420166015625,
          0.421630859375,
          0.421630859375,
          0.425048828125,
          0.425048828125,
          0.42822265625,
          0.42822265625,
          0.430419921875,
          0.430419921875,
          0.43359375,
          0.43359375,
          0.435791015625,
          0.435791015625,
          0.437255859375,
          0.4404296875,
          0.4404296875,
          0.443603515625,
          0.443603515625,
          0.4443359375,
          0.4443359375,
          0.445068359375,
          0.445068359375,
          0.445556640625,
          0.448974609375,
          0.448974609375,
          0.44970703125,
          0.44970703125,
          0.451171875,
          0.451171875,
          0.454345703125,
          0.454345703125,
          0.45751953125,
          0.45751953125,
          0.458251953125,
          0.458251953125,
          0.46142578125,
          0.46142578125,
          0.464599609375,
          0.464599609375,
          0.4677734375,
          0.47119140625,
          0.47119140625,
          0.4716796875,
          0.4716796875,
          0.474853515625,
          0.475341796875,
          0.475341796875,
          0.478759765625,
          0.478759765625,
          0.480224609375,
          0.480224609375,
          0.481689453125,
          0.481689453125,
          0.482421875,
          0.482421875,
          0.48583984375,
          0.48583984375,
          0.486572265625,
          0.486572265625,
          0.488037109375,
          0.488037109375,
          0.488525390625,
          0.488525390625,
          0.49169921875,
          0.49169921875,
          0.4951171875,
          0.497314453125,
          0.497314453125,
          0.498046875,
          0.498046875,
          0.500244140625,
          0.500244140625,
          0.500732421875,
          0.500732421875,
          0.504150390625,
          0.504150390625,
          0.50732421875,
          0.50732421875,
          0.508056640625,
          0.508056640625,
          0.509521484375,
          0.509521484375,
          0.51025390625,
          0.51025390625,
          0.510986328125,
          0.510986328125,
          0.512451171875,
          0.512451171875,
          0.51318359375,
          0.51318359375,
          0.51611328125,
          0.51611328125,
          0.516845703125,
          0.516845703125,
          0.518310546875,
          0.518310546875,
          0.519775390625,
          0.519775390625,
          0.521240234375,
          0.521240234375,
          0.5244140625,
          0.5244140625,
          0.52490234375,
          0.52490234375,
          0.5283203125,
          0.5283203125,
          0.53173828125,
          0.53173828125,
          0.533203125,
          0.533203125,
          0.53369140625,
          0.53369140625,
          0.534423828125,
          0.53662109375,
          0.53662109375,
          0.5380859375,
          0.5380859375,
          0.541259765625,
          0.541259765625,
          0.5419921875,
          0.5419921875,
          0.54345703125,
          0.54345703125,
          0.544189453125,
          0.544189453125,
          0.544677734375,
          0.544677734375,
          0.548095703125,
          0.548095703125,
          0.55029296875,
          0.55029296875,
          0.5517578125,
          0.5517578125,
          0.554931640625,
          0.556396484375,
          0.556396484375,
          0.5595703125,
          0.5595703125,
          0.56298828125,
          0.56298828125,
          0.56640625,
          0.56640625,
          0.56787109375,
          0.56787109375,
          0.5712890625,
          0.5712890625,
          0.57275390625,
          0.57275390625,
          0.5732421875,
          0.576416015625,
          0.576416015625,
          0.57861328125,
          0.57861328125,
          0.580810546875,
          0.580810546875,
          0.583984375,
          0.583984375,
          0.58740234375,
          0.58740234375,
          0.590576171875,
          0.590576171875,
          0.5927734375,
          0.5927734375,
          0.594970703125,
          0.59814453125,
          0.59814453125,
          0.598876953125,
          0.598876953125,
          0.602294921875,
          0.602294921875,
          0.602783203125,
          0.602783203125,
          0.60595703125,
          0.60595703125,
          0.606689453125,
          0.606689453125,
          0.607421875,
          0.607421875,
          0.608154296875,
          0.608154296875,
          0.60888671875,
          0.60888671875,
          0.612060546875,
          0.612060546875,
          0.61279296875,
          0.61279296875,
          0.61328125,
          0.61328125,
          0.61669921875,
          0.619873046875,
          0.62060546875,
          0.62060546875,
          0.621337890625,
          0.621337890625,
          0.62451171875,
          0.62451171875,
          0.6259765625,
          0.6259765625,
          0.62939453125,
          0.62939453125,
          0.630859375,
          0.63134765625,
          0.63134765625,
          0.632080078125,
          0.632080078125,
          0.63525390625,
          0.63525390625,
          0.6357421875,
          0.6357421875,
          0.63623046875,
          0.63623046875,
          0.63671875,
          0.63671875,
          0.64306640625,
          0.645263671875,
          0.64599609375,
          0.64599609375,
          0.646728515625,
          0.646728515625,
          0.648193359375,
          0.648193359375,
          0.6513671875,
          0.6513671875,
          0.652099609375,
          0.652099609375,
          0.658447265625,
          0.659912109375,
          0.659912109375,
          0.6630859375,
          0.6630859375,
          0.666259765625,
          0.666259765625,
          0.6669921875,
          0.6669921875,
          0.670166015625,
          0.670166015625,
          0.6708984375,
          0.6708984375,
          0.674072265625,
          0.674072265625,
          0.674560546875,
          0.674560546875,
          0.676025390625,
          0.6767578125,
          0.6767578125,
          0.679931640625,
          0.679931640625,
          0.680419921875,
          0.680419921875,
          0.68115234375,
          0.68115234375,
          0.681640625,
          0.681640625,
          0.684814453125,
          0.684814453125,
          0.686279296875,
          0.686279296875,
          0.68701171875,
          0.68701171875,
          0.6875,
          0.6875,
          0.690673828125,
          0.690673828125,
          0.69140625,
          0.69140625,
          0.692138671875,
          0.692138671875,
          0.695556640625,
          0.695556640625,
          0.6962890625,
          0.69677734375,
          0.69677734375,
          0.698974609375,
          0.698974609375,
          0.7021484375,
          0.702880859375,
          0.702880859375,
          0.7060546875,
          0.7060546875,
          0.70654296875,
          0.70654296875,
          0.7080078125,
          0.7080078125,
          0.70947265625,
          0.70947265625,
          0.712646484375,
          0.71337890625,
          0.71337890625,
          0.716552734375,
          0.716552734375,
          0.718017578125,
          0.718017578125,
          0.72119140625,
          0.72119140625,
          0.7216796875,
          0.7216796875,
          0.72314453125,
          0.72314453125,
          0.7265625,
          0.7265625,
          0.72998046875,
          0.730712890625,
          0.730712890625,
          0.73388671875,
          0.73388671875,
          0.736083984375,
          0.736083984375,
          0.73681640625,
          0.73681640625,
          0.737548828125,
          0.737548828125,
          0.739013671875,
          0.739013671875,
          0.73974609375,
          0.740234375,
          0.740234375,
          0.740966796875,
          0.740966796875,
          0.74169921875,
          0.74169921875,
          0.744873046875,
          0.744873046875,
          0.748046875,
          0.748046875,
          0.74951171875,
          0.74951171875,
          0.7529296875,
          0.7529296875,
          0.75341796875,
          0.756591796875,
          0.756591796875,
          0.75732421875,
          0.75732421875,
          0.758056640625,
          0.758056640625,
          0.759521484375,
          0.759521484375,
          0.76025390625,
          0.76025390625,
          0.760986328125,
          0.760986328125,
          0.76416015625,
          0.76416015625,
          0.7646484375,
          0.7646484375,
          0.765380859375,
          0.765380859375,
          0.766845703125,
          0.766845703125,
          0.767333984375,
          0.767333984375,
          0.768798828125,
          0.768798828125,
          0.772216796875,
          0.772216796875,
          0.775390625,
          0.775390625,
          0.77685546875,
          0.77685546875,
          0.77734375,
          0.77734375,
          0.779541015625,
          0.779541015625,
          0.78271484375,
          0.7861328125,
          0.7861328125,
          0.786865234375,
          0.786865234375,
          0.78759765625,
          0.78759765625,
          0.7890625,
          0.7890625,
          0.79248046875,
          0.79248046875,
          0.7939453125,
          0.7939453125,
          0.79736328125,
          0.79736328125,
          0.798095703125,
          0.80126953125,
          0.80126953125,
          0.804443359375,
          0.804443359375,
          0.805908203125,
          0.806640625,
          0.806640625,
          0.80810546875,
          0.80859375,
          0.81201171875,
          0.81201171875,
          0.8154296875,
          0.8154296875,
          0.816162109375,
          0.816162109375,
          0.817626953125,
          0.817626953125,
          0.818115234375,
          0.818115234375,
          0.8212890625,
          0.8212890625,
          0.824462890625,
          0.824462890625,
          0.824951171875,
          0.824951171875,
          0.828369140625,
          0.828369140625,
          0.831787109375,
          0.831787109375,
          0.833251953125,
          0.833251953125,
          0.83642578125,
          0.83642578125,
          0.839599609375,
          0.839599609375,
          0.8427734375,
          0.8427734375,
          0.845947265625,
          0.845947265625,
          0.8466796875,
          0.8466796875,
          0.85009765625,
          0.85009765625,
          0.853515625,
          0.854248046875,
          0.854248046875,
          0.855712890625,
          0.855712890625,
          0.859130859375,
          0.859130859375,
          0.8623046875,
          0.8623046875,
          0.865478515625,
          0.865478515625,
          0.865966796875,
          0.865966796875,
          0.869140625,
          0.869140625,
          0.87255859375,
          0.87255859375,
          0.873291015625,
          0.873291015625,
          0.8740234375,
          0.8740234375,
          0.877197265625,
          0.8779296875,
          0.8779296875,
          0.878662109375,
          0.878662109375,
          0.87939453125,
          0.87939453125,
          0.882568359375,
          0.882568359375,
          0.883056640625,
          0.883056640625,
          0.88623046875,
          0.88623046875,
          0.88671875,
          0.88671875,
          0.889892578125,
          0.889892578125,
          0.890625,
          0.890625,
          0.891357421875,
          0.891357421875,
          0.89208984375,
          0.89208984375,
          0.895263671875,
          0.896728515625,
          0.896728515625,
          0.89990234375,
          0.89990234375,
          0.903076171875,
          0.903076171875,
          0.909912109375,
          0.909912109375,
          0.91064453125,
          0.9140625,
          0.9140625,
          0.91455078125,
          0.91455078125,
          0.917724609375,
          0.917724609375,
          0.921142578125,
          0.921142578125,
          0.922607421875,
          0.922607421875,
          0.92333984375,
          0.92333984375,
          0.9267578125,
          0.9267578125,
          0.928955078125,
          0.928955078125,
          0.930419921875,
          0.930419921875,
          0.93115234375,
          0.93115234375,
          0.933349609375,
          0.933349609375,
          0.9365234375,
          0.9365234375,
          0.937255859375,
          0.937255859375,
          0.9404296875,
          0.9404296875,
          0.943603515625,
          0.943603515625,
          0.9443359375,
          0.9443359375,
          0.94580078125,
          0.94580078125,
          0.947265625,
          0.947265625,
          0.95068359375,
          0.95068359375,
          0.951416015625,
          0.951416015625,
          0.952880859375,
          0.952880859375,
          0.95361328125,
          0.955078125,
          0.958251953125,
          0.958251953125,
          0.958740234375,
          0.958740234375,
          0.960205078125,
          0.960205078125,
          0.963623046875,
          0.96435546875,
          0.96435546875,
          0.9677734375,
          0.9677734375,
          0.96923828125,
          0.96923828125,
          0.9697265625,
          0.9697265625,
          0.97119140625,
          0.97119140625,
          0.971923828125,
          0.971923828125,
          0.97265625,
          0.97265625,
          0.975830078125,
          0.977294921875,
          0.977294921875,
          0.97802734375,
          0.97802734375,
          0.9794921875,
          0.9794921875,
          0.97998046875,
          0.980712890625,
          0.980712890625,
          0.98291015625,
          0.98291015625,
          0.983642578125,
          0.983642578125,
          0.98583984375,
          0.98583984375,
          0.989013671875,
          0.989013671875,
          0.98974609375,
          0.98974609375,
          0.990478515625,
          0.991943359375,
          0.991943359375,
          0.992919921875,
          0.992919921875,
          0.99365234375,
          0.996826171875,
          0.996826171875,
          0.998291015625,
          0.998291015625,
          0.9990234375,
          0.9990234375,
          0.99951171875,
          0.99951171875,
          1,
          1
         ]
        },
        {
         "name": "random classifier",
         "type": "scatter",
         "x": [
          0,
          1
         ],
         "y": [
          0,
          1
         ]
        }
       ],
       "layout": {
        "template": {
         "data": {
          "bar": [
           {
            "error_x": {
             "color": "#2a3f5f"
            },
            "error_y": {
             "color": "#2a3f5f"
            },
            "marker": {
             "line": {
              "color": "#E5ECF6",
              "width": 0.5
             }
            },
            "type": "bar"
           }
          ],
          "barpolar": [
           {
            "marker": {
             "line": {
              "color": "#E5ECF6",
              "width": 0.5
             }
            },
            "type": "barpolar"
           }
          ],
          "carpet": [
           {
            "aaxis": {
             "endlinecolor": "#2a3f5f",
             "gridcolor": "white",
             "linecolor": "white",
             "minorgridcolor": "white",
             "startlinecolor": "#2a3f5f"
            },
            "baxis": {
             "endlinecolor": "#2a3f5f",
             "gridcolor": "white",
             "linecolor": "white",
             "minorgridcolor": "white",
             "startlinecolor": "#2a3f5f"
            },
            "type": "carpet"
           }
          ],
          "choropleth": [
           {
            "colorbar": {
             "outlinewidth": 0,
             "ticks": ""
            },
            "type": "choropleth"
           }
          ],
          "contour": [
           {
            "colorbar": {
             "outlinewidth": 0,
             "ticks": ""
            },
            "colorscale": [
             [
              0,
              "#0d0887"
             ],
             [
              0.1111111111111111,
              "#46039f"
             ],
             [
              0.2222222222222222,
              "#7201a8"
             ],
             [
              0.3333333333333333,
              "#9c179e"
             ],
             [
              0.4444444444444444,
              "#bd3786"
             ],
             [
              0.5555555555555556,
              "#d8576b"
             ],
             [
              0.6666666666666666,
              "#ed7953"
             ],
             [
              0.7777777777777778,
              "#fb9f3a"
             ],
             [
              0.8888888888888888,
              "#fdca26"
             ],
             [
              1,
              "#f0f921"
             ]
            ],
            "type": "contour"
           }
          ],
          "contourcarpet": [
           {
            "colorbar": {
             "outlinewidth": 0,
             "ticks": ""
            },
            "type": "contourcarpet"
           }
          ],
          "heatmap": [
           {
            "colorbar": {
             "outlinewidth": 0,
             "ticks": ""
            },
            "colorscale": [
             [
              0,
              "#0d0887"
             ],
             [
              0.1111111111111111,
              "#46039f"
             ],
             [
              0.2222222222222222,
              "#7201a8"
             ],
             [
              0.3333333333333333,
              "#9c179e"
             ],
             [
              0.4444444444444444,
              "#bd3786"
             ],
             [
              0.5555555555555556,
              "#d8576b"
             ],
             [
              0.6666666666666666,
              "#ed7953"
             ],
             [
              0.7777777777777778,
              "#fb9f3a"
             ],
             [
              0.8888888888888888,
              "#fdca26"
             ],
             [
              1,
              "#f0f921"
             ]
            ],
            "type": "heatmap"
           }
          ],
          "heatmapgl": [
           {
            "colorbar": {
             "outlinewidth": 0,
             "ticks": ""
            },
            "colorscale": [
             [
              0,
              "#0d0887"
             ],
             [
              0.1111111111111111,
              "#46039f"
             ],
             [
              0.2222222222222222,
              "#7201a8"
             ],
             [
              0.3333333333333333,
              "#9c179e"
             ],
             [
              0.4444444444444444,
              "#bd3786"
             ],
             [
              0.5555555555555556,
              "#d8576b"
             ],
             [
              0.6666666666666666,
              "#ed7953"
             ],
             [
              0.7777777777777778,
              "#fb9f3a"
             ],
             [
              0.8888888888888888,
              "#fdca26"
             ],
             [
              1,
              "#f0f921"
             ]
            ],
            "type": "heatmapgl"
           }
          ],
          "histogram": [
           {
            "marker": {
             "colorbar": {
              "outlinewidth": 0,
              "ticks": ""
             }
            },
            "type": "histogram"
           }
          ],
          "histogram2d": [
           {
            "colorbar": {
             "outlinewidth": 0,
             "ticks": ""
            },
            "colorscale": [
             [
              0,
              "#0d0887"
             ],
             [
              0.1111111111111111,
              "#46039f"
             ],
             [
              0.2222222222222222,
              "#7201a8"
             ],
             [
              0.3333333333333333,
              "#9c179e"
             ],
             [
              0.4444444444444444,
              "#bd3786"
             ],
             [
              0.5555555555555556,
              "#d8576b"
             ],
             [
              0.6666666666666666,
              "#ed7953"
             ],
             [
              0.7777777777777778,
              "#fb9f3a"
             ],
             [
              0.8888888888888888,
              "#fdca26"
             ],
             [
              1,
              "#f0f921"
             ]
            ],
            "type": "histogram2d"
           }
          ],
          "histogram2dcontour": [
           {
            "colorbar": {
             "outlinewidth": 0,
             "ticks": ""
            },
            "colorscale": [
             [
              0,
              "#0d0887"
             ],
             [
              0.1111111111111111,
              "#46039f"
             ],
             [
              0.2222222222222222,
              "#7201a8"
             ],
             [
              0.3333333333333333,
              "#9c179e"
             ],
             [
              0.4444444444444444,
              "#bd3786"
             ],
             [
              0.5555555555555556,
              "#d8576b"
             ],
             [
              0.6666666666666666,
              "#ed7953"
             ],
             [
              0.7777777777777778,
              "#fb9f3a"
             ],
             [
              0.8888888888888888,
              "#fdca26"
             ],
             [
              1,
              "#f0f921"
             ]
            ],
            "type": "histogram2dcontour"
           }
          ],
          "mesh3d": [
           {
            "colorbar": {
             "outlinewidth": 0,
             "ticks": ""
            },
            "type": "mesh3d"
           }
          ],
          "parcoords": [
           {
            "line": {
             "colorbar": {
              "outlinewidth": 0,
              "ticks": ""
             }
            },
            "type": "parcoords"
           }
          ],
          "pie": [
           {
            "automargin": true,
            "type": "pie"
           }
          ],
          "scatter": [
           {
            "marker": {
             "colorbar": {
              "outlinewidth": 0,
              "ticks": ""
             }
            },
            "type": "scatter"
           }
          ],
          "scatter3d": [
           {
            "line": {
             "colorbar": {
              "outlinewidth": 0,
              "ticks": ""
             }
            },
            "marker": {
             "colorbar": {
              "outlinewidth": 0,
              "ticks": ""
             }
            },
            "type": "scatter3d"
           }
          ],
          "scattercarpet": [
           {
            "marker": {
             "colorbar": {
              "outlinewidth": 0,
              "ticks": ""
             }
            },
            "type": "scattercarpet"
           }
          ],
          "scattergeo": [
           {
            "marker": {
             "colorbar": {
              "outlinewidth": 0,
              "ticks": ""
             }
            },
            "type": "scattergeo"
           }
          ],
          "scattergl": [
           {
            "marker": {
             "colorbar": {
              "outlinewidth": 0,
              "ticks": ""
             }
            },
            "type": "scattergl"
           }
          ],
          "scattermapbox": [
           {
            "marker": {
             "colorbar": {
              "outlinewidth": 0,
              "ticks": ""
             }
            },
            "type": "scattermapbox"
           }
          ],
          "scatterpolar": [
           {
            "marker": {
             "colorbar": {
              "outlinewidth": 0,
              "ticks": ""
             }
            },
            "type": "scatterpolar"
           }
          ],
          "scatterpolargl": [
           {
            "marker": {
             "colorbar": {
              "outlinewidth": 0,
              "ticks": ""
             }
            },
            "type": "scatterpolargl"
           }
          ],
          "scatterternary": [
           {
            "marker": {
             "colorbar": {
              "outlinewidth": 0,
              "ticks": ""
             }
            },
            "type": "scatterternary"
           }
          ],
          "surface": [
           {
            "colorbar": {
             "outlinewidth": 0,
             "ticks": ""
            },
            "colorscale": [
             [
              0,
              "#0d0887"
             ],
             [
              0.1111111111111111,
              "#46039f"
             ],
             [
              0.2222222222222222,
              "#7201a8"
             ],
             [
              0.3333333333333333,
              "#9c179e"
             ],
             [
              0.4444444444444444,
              "#bd3786"
             ],
             [
              0.5555555555555556,
              "#d8576b"
             ],
             [
              0.6666666666666666,
              "#ed7953"
             ],
             [
              0.7777777777777778,
              "#fb9f3a"
             ],
             [
              0.8888888888888888,
              "#fdca26"
             ],
             [
              1,
              "#f0f921"
             ]
            ],
            "type": "surface"
           }
          ],
          "table": [
           {
            "cells": {
             "fill": {
              "color": "#EBF0F8"
             },
             "line": {
              "color": "white"
             }
            },
            "header": {
             "fill": {
              "color": "#C8D4E3"
             },
             "line": {
              "color": "white"
             }
            },
            "type": "table"
           }
          ]
         },
         "layout": {
          "annotationdefaults": {
           "arrowcolor": "#2a3f5f",
           "arrowhead": 0,
           "arrowwidth": 1
          },
          "autotypenumbers": "strict",
          "coloraxis": {
           "colorbar": {
            "outlinewidth": 0,
            "ticks": ""
           }
          },
          "colorscale": {
           "diverging": [
            [
             0,
             "#8e0152"
            ],
            [
             0.1,
             "#c51b7d"
            ],
            [
             0.2,
             "#de77ae"
            ],
            [
             0.3,
             "#f1b6da"
            ],
            [
             0.4,
             "#fde0ef"
            ],
            [
             0.5,
             "#f7f7f7"
            ],
            [
             0.6,
             "#e6f5d0"
            ],
            [
             0.7,
             "#b8e186"
            ],
            [
             0.8,
             "#7fbc41"
            ],
            [
             0.9,
             "#4d9221"
            ],
            [
             1,
             "#276419"
            ]
           ],
           "sequential": [
            [
             0,
             "#0d0887"
            ],
            [
             0.1111111111111111,
             "#46039f"
            ],
            [
             0.2222222222222222,
             "#7201a8"
            ],
            [
             0.3333333333333333,
             "#9c179e"
            ],
            [
             0.4444444444444444,
             "#bd3786"
            ],
            [
             0.5555555555555556,
             "#d8576b"
            ],
            [
             0.6666666666666666,
             "#ed7953"
            ],
            [
             0.7777777777777778,
             "#fb9f3a"
            ],
            [
             0.8888888888888888,
             "#fdca26"
            ],
            [
             1,
             "#f0f921"
            ]
           ],
           "sequentialminus": [
            [
             0,
             "#0d0887"
            ],
            [
             0.1111111111111111,
             "#46039f"
            ],
            [
             0.2222222222222222,
             "#7201a8"
            ],
            [
             0.3333333333333333,
             "#9c179e"
            ],
            [
             0.4444444444444444,
             "#bd3786"
            ],
            [
             0.5555555555555556,
             "#d8576b"
            ],
            [
             0.6666666666666666,
             "#ed7953"
            ],
            [
             0.7777777777777778,
             "#fb9f3a"
            ],
            [
             0.8888888888888888,
             "#fdca26"
            ],
            [
             1,
             "#f0f921"
            ]
           ]
          },
          "colorway": [
           "#636efa",
           "#EF553B",
           "#00cc96",
           "#ab63fa",
           "#FFA15A",
           "#19d3f3",
           "#FF6692",
           "#B6E880",
           "#FF97FF",
           "#FECB52"
          ],
          "font": {
           "color": "#2a3f5f"
          },
          "geo": {
           "bgcolor": "white",
           "lakecolor": "white",
           "landcolor": "#E5ECF6",
           "showlakes": true,
           "showland": true,
           "subunitcolor": "white"
          },
          "hoverlabel": {
           "align": "left"
          },
          "hovermode": "closest",
          "mapbox": {
           "style": "light"
          },
          "paper_bgcolor": "white",
          "plot_bgcolor": "#E5ECF6",
          "polar": {
           "angularaxis": {
            "gridcolor": "white",
            "linecolor": "white",
            "ticks": ""
           },
           "bgcolor": "#E5ECF6",
           "radialaxis": {
            "gridcolor": "white",
            "linecolor": "white",
            "ticks": ""
           }
          },
          "scene": {
           "xaxis": {
            "backgroundcolor": "#E5ECF6",
            "gridcolor": "white",
            "gridwidth": 2,
            "linecolor": "white",
            "showbackground": true,
            "ticks": "",
            "zerolinecolor": "white"
           },
           "yaxis": {
            "backgroundcolor": "#E5ECF6",
            "gridcolor": "white",
            "gridwidth": 2,
            "linecolor": "white",
            "showbackground": true,
            "ticks": "",
            "zerolinecolor": "white"
           },
           "zaxis": {
            "backgroundcolor": "#E5ECF6",
            "gridcolor": "white",
            "gridwidth": 2,
            "linecolor": "white",
            "showbackground": true,
            "ticks": "",
            "zerolinecolor": "white"
           }
          },
          "shapedefaults": {
           "line": {
            "color": "#2a3f5f"
           }
          },
          "ternary": {
           "aaxis": {
            "gridcolor": "white",
            "linecolor": "white",
            "ticks": ""
           },
           "baxis": {
            "gridcolor": "white",
            "linecolor": "white",
            "ticks": ""
           },
           "bgcolor": "#E5ECF6",
           "caxis": {
            "gridcolor": "white",
            "linecolor": "white",
            "ticks": ""
           }
          },
          "title": {
           "x": 0.05
          },
          "xaxis": {
           "automargin": true,
           "gridcolor": "white",
           "linecolor": "white",
           "ticks": "",
           "title": {
            "standoff": 15
           },
           "zerolinecolor": "white",
           "zerolinewidth": 2
          },
          "yaxis": {
           "automargin": true,
           "gridcolor": "white",
           "linecolor": "white",
           "ticks": "",
           "title": {
            "standoff": 15
           },
           "zerolinecolor": "white",
           "zerolinewidth": 2
          }
         }
        },
        "title": {
         "text": "ROC curve, AUC=0.51"
        },
        "xaxis": {
         "title": {
          "text": "False positive rate"
         }
        },
        "yaxis": {
         "title": {
          "text": "True positive rate"
         }
        }
       }
      },
      "text/html": [
       "<div>                            <div id=\"6e0af70d-5086-4d91-b64a-e54d4e1bfc81\" class=\"plotly-graph-div\" style=\"height:525px; width:100%;\"></div>            <script type=\"text/javascript\">                require([\"plotly\"], function(Plotly) {                    window.PLOTLYENV=window.PLOTLYENV || {};                                    if (document.getElementById(\"6e0af70d-5086-4d91-b64a-e54d4e1bfc81\")) {                    Plotly.newPlot(                        \"6e0af70d-5086-4d91-b64a-e54d4e1bfc81\",                        [{\"name\": \"word2mat\", \"type\": \"scatter\", \"x\": [0.0, 0.000244140625, 0.01953125, 0.01953125, 0.0283203125, 0.0283203125, 0.0283203125, 0.0302734375, 0.0302734375, 0.030517578125, 0.03271484375, 0.03271484375, 0.035888671875, 0.035888671875, 0.0390625, 0.0390625, 0.0419921875, 0.0419921875, 0.043701171875, 0.043701171875, 0.0439453125, 0.0439453125, 0.046142578125, 0.046142578125, 0.0546875, 0.0546875, 0.0576171875, 0.0576171875, 0.05810546875, 0.05810546875, 0.059814453125, 0.059814453125, 0.06005859375, 0.06005859375, 0.06005859375, 0.061279296875, 0.061279296875, 0.064453125, 0.064453125, 0.06591796875, 0.06591796875, 0.066162109375, 0.066162109375, 0.067626953125, 0.067626953125, 0.068603515625, 0.068603515625, 0.069091796875, 0.069091796875, 0.069091796875, 0.069091796875, 0.069580078125, 0.069580078125, 0.07275390625, 0.07275390625, 0.072998046875, 0.072998046875, 0.073974609375, 0.073974609375, 0.0771484375, 0.0771484375, 0.077392578125, 0.077392578125, 0.077880859375, 0.077880859375, 0.078125, 0.078125, 0.079345703125, 0.079345703125, 0.08056640625, 0.08056640625, 0.081787109375, 0.081787109375, 0.085205078125, 0.085205078125, 0.0869140625, 0.0869140625, 0.088623046875, 0.088623046875, 0.091796875, 0.091796875, 0.09423828125, 0.09423828125, 0.094482421875, 0.094482421875, 0.096435546875, 0.096435546875, 0.097900390625, 0.097900390625, 0.102783203125, 0.102783203125, 0.10400390625, 0.10400390625, 0.10693359375, 0.10693359375, 0.107666015625, 0.107666015625, 0.115966796875, 0.115966796875, 0.1201171875, 0.1201171875, 0.12060546875, 0.12060546875, 0.121826171875, 0.121826171875, 0.124267578125, 0.124267578125, 0.125, 0.125, 0.1279296875, 0.1279296875, 0.12841796875, 0.12841796875, 0.128662109375, 0.128662109375, 0.128662109375, 0.12939453125, 0.12939453125, 0.13037109375, 0.13037109375, 0.13037109375, 0.1318359375, 0.1318359375, 0.13525390625, 0.13525390625, 0.14111328125, 0.14111328125, 0.141845703125, 0.141845703125, 0.142578125, 0.142578125, 0.14697265625, 0.14697265625, 0.147705078125, 0.147705078125, 0.148193359375, 0.148193359375, 0.148681640625, 0.148681640625, 0.15087890625, 0.15087890625, 0.15869140625, 0.15869140625, 0.15966796875, 0.15966796875, 0.16064453125, 0.16064453125, 0.16064453125, 0.161376953125, 0.161376953125, 0.162353515625, 0.162353515625, 0.163330078125, 0.163330078125, 0.165283203125, 0.165283203125, 0.16748046875, 0.16748046875, 0.1767578125, 0.1767578125, 0.178466796875, 0.178466796875, 0.178955078125, 0.178955078125, 0.17919921875, 0.17919921875, 0.181884765625, 0.181884765625, 0.186279296875, 0.186279296875, 0.187255859375, 0.187255859375, 0.190673828125, 0.190673828125, 0.193603515625, 0.193603515625, 0.194091796875, 0.194091796875, 0.197998046875, 0.197998046875, 0.1982421875, 0.1982421875, 0.20068359375, 0.20068359375, 0.203369140625, 0.203369140625, 0.2041015625, 0.2041015625, 0.204833984375, 0.204833984375, 0.2060546875, 0.2060546875, 0.208251953125, 0.208251953125, 0.20849609375, 0.20849609375, 0.20947265625, 0.20947265625, 0.210693359375, 0.210693359375, 0.210693359375, 0.216064453125, 0.216064453125, 0.21826171875, 0.21826171875, 0.219970703125, 0.219970703125, 0.221923828125, 0.221923828125, 0.223388671875, 0.223388671875, 0.236328125, 0.236328125, 0.238037109375, 0.238037109375, 0.239013671875, 0.239013671875, 0.239013671875, 0.241455078125, 0.241455078125, 0.24267578125, 0.24267578125, 0.245849609375, 0.245849609375, 0.246337890625, 0.246337890625, 0.246826171875, 0.246826171875, 0.2470703125, 0.2470703125, 0.251953125, 0.251953125, 0.252197265625, 0.252197265625, 0.2529296875, 0.2529296875, 0.256591796875, 0.256591796875, 0.261474609375, 0.261474609375, 0.267822265625, 0.267822265625, 0.27001953125, 0.27001953125, 0.271484375, 0.271484375, 0.271728515625, 0.271728515625, 0.271728515625, 0.284423828125, 0.284423828125, 0.2880859375, 0.2880859375, 0.2890625, 0.2890625, 0.290283203125, 0.290283203125, 0.290283203125, 0.29345703125, 0.29345703125, 0.29638671875, 0.29638671875, 0.299560546875, 0.299560546875, 0.300048828125, 0.300048828125, 0.300537109375, 0.300537109375, 0.300537109375, 0.30322265625, 0.30322265625, 0.30419921875, 0.30419921875, 0.30712890625, 0.30712890625, 0.310546875, 0.310546875, 0.310546875, 0.312744140625, 0.312744140625, 0.315673828125, 0.315673828125, 0.31591796875, 0.31591796875, 0.318359375, 0.318359375, 0.3232421875, 0.3232421875, 0.325439453125, 0.325439453125, 0.326416015625, 0.326416015625, 0.328125, 0.328125, 0.328857421875, 0.328857421875, 0.332763671875, 0.332763671875, 0.3330078125, 0.3330078125, 0.333251953125, 0.333251953125, 0.334716796875, 0.334716796875, 0.338623046875, 0.338623046875, 0.339111328125, 0.339111328125, 0.340087890625, 0.340087890625, 0.340576171875, 0.340576171875, 0.341552734375, 0.341552734375, 0.341796875, 0.341796875, 0.342041015625, 0.342041015625, 0.342529296875, 0.342529296875, 0.343505859375, 0.343505859375, 0.34375, 0.34375, 0.349853515625, 0.349853515625, 0.35009765625, 0.35009765625, 0.353759765625, 0.353759765625, 0.35595703125, 0.35595703125, 0.36083984375, 0.36083984375, 0.3662109375, 0.3662109375, 0.3671875, 0.3671875, 0.367919921875, 0.367919921875, 0.368896484375, 0.368896484375, 0.369873046875, 0.369873046875, 0.375244140625, 0.375244140625, 0.386474609375, 0.386474609375, 0.38671875, 0.38671875, 0.38671875, 0.38720703125, 0.38720703125, 0.38916015625, 0.38916015625, 0.391357421875, 0.391357421875, 0.392578125, 0.392578125, 0.393798828125, 0.393798828125, 0.394287109375, 0.394287109375, 0.394775390625, 0.394775390625, 0.398193359375, 0.398193359375, 0.398681640625, 0.398681640625, 0.398681640625, 0.401611328125, 0.401611328125, 0.405517578125, 0.405517578125, 0.40673828125, 0.40673828125, 0.406982421875, 0.406982421875, 0.409912109375, 0.409912109375, 0.41064453125, 0.41064453125, 0.4111328125, 0.4111328125, 0.41552734375, 0.41552734375, 0.41650390625, 0.41650390625, 0.4169921875, 0.4169921875, 0.4189453125, 0.4189453125, 0.4208984375, 0.4208984375, 0.42236328125, 0.42236328125, 0.42236328125, 0.425048828125, 0.425048828125, 0.427734375, 0.427734375, 0.427978515625, 0.427978515625, 0.4296875, 0.4296875, 0.4296875, 0.433349609375, 0.433349609375, 0.434814453125, 0.434814453125, 0.435791015625, 0.435791015625, 0.43896484375, 0.439208984375, 0.441162109375, 0.441162109375, 0.44140625, 0.44140625, 0.443603515625, 0.443603515625, 0.44482421875, 0.44482421875, 0.44482421875, 0.445556640625, 0.445556640625, 0.446044921875, 0.446044921875, 0.446044921875, 0.4482421875, 0.4482421875, 0.449462890625, 0.449462890625, 0.45166015625, 0.45166015625, 0.453857421875, 0.453857421875, 0.454833984375, 0.454833984375, 0.4560546875, 0.4560546875, 0.456298828125, 0.456298828125, 0.45703125, 0.45703125, 0.45751953125, 0.45751953125, 0.46044921875, 0.46044921875, 0.46044921875, 0.462890625, 0.462890625, 0.464111328125, 0.464111328125, 0.46484375, 0.46484375, 0.471435546875, 0.471435546875, 0.4716796875, 0.4716796875, 0.473388671875, 0.473388671875, 0.473876953125, 0.473876953125, 0.47607421875, 0.47607421875, 0.4775390625, 0.4775390625, 0.484130859375, 0.484130859375, 0.4853515625, 0.4853515625, 0.490966796875, 0.490966796875, 0.492919921875, 0.492919921875, 0.497314453125, 0.497314453125, 0.498291015625, 0.498291015625, 0.49951171875, 0.49951171875, 0.5009765625, 0.5009765625, 0.501708984375, 0.501708984375, 0.501953125, 0.501953125, 0.5048828125, 0.5048828125, 0.505126953125, 0.505126953125, 0.50537109375, 0.50537109375, 0.505859375, 0.505859375, 0.505859375, 0.51025390625, 0.51025390625, 0.51123046875, 0.51123046875, 0.51171875, 0.51171875, 0.512451171875, 0.512451171875, 0.515380859375, 0.515380859375, 0.517578125, 0.517578125, 0.522216796875, 0.522216796875, 0.5224609375, 0.5224609375, 0.52294921875, 0.52294921875, 0.52392578125, 0.52392578125, 0.52392578125, 0.526611328125, 0.526611328125, 0.53173828125, 0.53173828125, 0.53271484375, 0.53271484375, 0.534423828125, 0.534423828125, 0.535400390625, 0.535400390625, 0.536376953125, 0.536376953125, 0.5380859375, 0.5380859375, 0.5380859375, 0.5400390625, 0.5400390625, 0.542236328125, 0.542236328125, 0.542724609375, 0.542724609375, 0.544677734375, 0.544677734375, 0.544921875, 0.544921875, 0.545654296875, 0.545654296875, 0.54638671875, 0.54638671875, 0.54638671875, 0.5537109375, 0.5537109375, 0.5556640625, 0.5556640625, 0.563232421875, 0.563232421875, 0.564453125, 0.564453125, 0.56494140625, 0.56494140625, 0.5654296875, 0.5654296875, 0.56640625, 0.56640625, 0.567138671875, 0.567138671875, 0.568115234375, 0.568115234375, 0.57275390625, 0.57275390625, 0.572998046875, 0.572998046875, 0.573486328125, 0.573486328125, 0.573486328125, 0.573486328125, 0.57470703125, 0.57470703125, 0.574951171875, 0.574951171875, 0.578125, 0.578125, 0.57958984375, 0.57958984375, 0.580322265625, 0.580322265625, 0.580322265625, 0.58154296875, 0.58154296875, 0.59130859375, 0.59130859375, 0.59326171875, 0.59326171875, 0.59765625, 0.59765625, 0.597900390625, 0.597900390625, 0.5986328125, 0.5986328125, 0.5986328125, 0.5986328125, 0.59912109375, 0.59912109375, 0.60107421875, 0.60107421875, 0.60205078125, 0.60205078125, 0.60546875, 0.60546875, 0.605712890625, 0.605712890625, 0.605712890625, 0.60888671875, 0.60888671875, 0.610107421875, 0.610107421875, 0.619873046875, 0.619873046875, 0.62255859375, 0.62255859375, 0.622802734375, 0.622802734375, 0.623291015625, 0.623291015625, 0.625732421875, 0.625732421875, 0.627197265625, 0.627197265625, 0.627197265625, 0.62890625, 0.62890625, 0.62939453125, 0.62939453125, 0.643310546875, 0.643310546875, 0.649658203125, 0.649658203125, 0.651123046875, 0.651123046875, 0.6513671875, 0.6513671875, 0.654541015625, 0.654541015625, 0.664794921875, 0.664794921875, 0.66748046875, 0.66748046875, 0.669677734375, 0.669677734375, 0.669921875, 0.669921875, 0.671875, 0.671875, 0.67626953125, 0.67626953125, 0.67626953125, 0.677001953125, 0.677001953125, 0.6845703125, 0.6845703125, 0.6845703125, 0.685302734375, 0.685302734375, 0.685791015625, 0.685791015625, 0.6884765625, 0.6884765625, 0.690185546875, 0.690185546875, 0.692626953125, 0.692626953125, 0.692626953125, 0.69921875, 0.69921875, 0.702392578125, 0.702392578125, 0.705810546875, 0.705810546875, 0.70849609375, 0.70849609375, 0.709716796875, 0.709716796875, 0.71484375, 0.71484375, 0.71630859375, 0.71630859375, 0.71630859375, 0.71728515625, 0.71728515625, 0.718994140625, 0.718994140625, 0.7197265625, 0.7197265625, 0.720458984375, 0.720458984375, 0.720947265625, 0.720947265625, 0.721923828125, 0.721923828125, 0.721923828125, 0.723876953125, 0.723876953125, 0.73046875, 0.73046875, 0.731201171875, 0.731201171875, 0.732666015625, 0.732666015625, 0.734130859375, 0.734130859375, 0.73828125, 0.73828125, 0.74072265625, 0.74072265625, 0.74072265625, 0.741943359375, 0.741943359375, 0.746826171875, 0.746826171875, 0.747802734375, 0.747802734375, 0.751220703125, 0.751220703125, 0.75537109375, 0.75537109375, 0.7568359375, 0.7568359375, 0.75830078125, 0.75830078125, 0.7587890625, 0.7587890625, 0.76171875, 0.76171875, 0.763916015625, 0.763916015625, 0.76513671875, 0.76513671875, 0.765380859375, 0.765380859375, 0.765869140625, 0.765869140625, 0.77001953125, 0.77001953125, 0.774658203125, 0.774658203125, 0.77685546875, 0.77685546875, 0.782470703125, 0.782470703125, 0.782470703125, 0.784423828125, 0.784423828125, 0.7880859375, 0.7880859375, 0.79150390625, 0.79150390625, 0.792236328125, 0.792236328125, 0.794189453125, 0.794189453125, 0.795166015625, 0.795166015625, 0.796142578125, 0.796142578125, 0.796142578125, 0.798095703125, 0.798095703125, 0.7998046875, 0.7998046875, 0.7998046875, 0.801025390625, 0.801025390625, 0.801025390625, 0.801025390625, 0.802490234375, 0.802490234375, 0.80615234375, 0.80615234375, 0.8076171875, 0.8076171875, 0.810791015625, 0.810791015625, 0.81201171875, 0.81201171875, 0.814697265625, 0.814697265625, 0.81640625, 0.81640625, 0.8173828125, 0.8173828125, 0.81884765625, 0.81884765625, 0.8193359375, 0.8193359375, 0.822998046875, 0.822998046875, 0.826416015625, 0.826416015625, 0.826904296875, 0.826904296875, 0.82861328125, 0.82861328125, 0.828857421875, 0.828857421875, 0.82958984375, 0.82958984375, 0.830810546875, 0.830810546875, 0.830810546875, 0.835205078125, 0.835205078125, 0.839599609375, 0.839599609375, 0.844970703125, 0.844970703125, 0.848388671875, 0.848388671875, 0.8486328125, 0.8486328125, 0.85302734375, 0.85302734375, 0.85791015625, 0.85791015625, 0.859130859375, 0.859130859375, 0.859375, 0.859375, 0.862060546875, 0.862060546875, 0.862060546875, 0.86328125, 0.86328125, 0.865478515625, 0.865478515625, 0.8662109375, 0.8662109375, 0.867919921875, 0.867919921875, 0.871337890625, 0.871337890625, 0.874267578125, 0.874267578125, 0.8759765625, 0.8759765625, 0.87646484375, 0.87646484375, 0.87841796875, 0.87841796875, 0.879638671875, 0.879638671875, 0.8798828125, 0.8798828125, 0.8798828125, 0.88232421875, 0.88232421875, 0.88427734375, 0.88427734375, 0.8857421875, 0.8857421875, 0.888671875, 0.888671875, 0.888671875, 0.89501953125, 0.89501953125, 0.896484375, 0.896484375, 0.902587890625, 0.902587890625, 0.905029296875, 0.905029296875, 0.91015625, 0.91015625, 0.91064453125, 0.91064453125, 0.91259765625, 0.91259765625, 0.912841796875, 0.912841796875, 0.91357421875, 0.91357421875, 0.913818359375, 0.913818359375, 0.9150390625, 0.9150390625, 0.91796875, 0.91796875, 0.918701171875, 0.9189453125, 0.919677734375, 0.919677734375, 0.919921875, 0.919921875, 0.9208984375, 0.9208984375, 0.92138671875, 0.92138671875, 0.921875, 0.921875, 0.922119140625, 0.922119140625, 0.924072265625, 0.924072265625, 0.92578125, 0.92578125, 0.92578125, 0.92578125, 0.926025390625, 0.926025390625, 0.9287109375, 0.9287109375, 0.929931640625, 0.929931640625, 0.929931640625, 0.93310546875, 0.93310546875, 0.934326171875, 0.934326171875, 0.935546875, 0.935546875, 0.937255859375, 0.937255859375, 0.941650390625, 0.941650390625, 0.9423828125, 0.9423828125, 0.94384765625, 0.94384765625, 0.94384765625, 0.9443359375, 0.9443359375, 0.946044921875, 0.946044921875, 0.947998046875, 0.947998046875, 0.947998046875, 0.951416015625, 0.951416015625, 0.95849609375, 0.95849609375, 0.958740234375, 0.958740234375, 0.959716796875, 0.959716796875, 0.96044921875, 0.96044921875, 0.962158203125, 0.962158203125, 0.962158203125, 0.96337890625, 0.96337890625, 0.9638671875, 0.9638671875, 0.9638671875, 0.96484375, 0.96484375, 0.9658203125, 0.9658203125, 0.97998046875, 0.97998046875, 0.99609375, 0.99609375, 1.0], \"y\": [0.0, 0.0, 0.0, 0.000732421875, 0.000732421875, 0.002197265625, 0.002685546875, 0.002685546875, 0.00341796875, 0.0068359375, 0.0068359375, 0.010009765625, 0.010009765625, 0.0107421875, 0.0107421875, 0.01220703125, 0.01220703125, 0.015625, 0.015625, 0.01611328125, 0.01611328125, 0.018310546875, 0.018310546875, 0.021484375, 0.021484375, 0.022216796875, 0.022216796875, 0.023681640625, 0.023681640625, 0.0244140625, 0.0244140625, 0.025146484375, 0.025146484375, 0.02587890625, 0.02734375, 0.02734375, 0.030517578125, 0.030517578125, 0.03369140625, 0.03369140625, 0.0341796875, 0.0341796875, 0.037353515625, 0.037353515625, 0.040771484375, 0.040771484375, 0.0439453125, 0.0439453125, 0.047119140625, 0.0478515625, 0.04931640625, 0.04931640625, 0.052490234375, 0.052490234375, 0.0556640625, 0.0556640625, 0.05908203125, 0.05908203125, 0.059814453125, 0.059814453125, 0.06298828125, 0.06298828125, 0.064453125, 0.064453125, 0.065185546875, 0.065185546875, 0.06591796875, 0.06591796875, 0.0673828125, 0.0673828125, 0.07080078125, 0.07080078125, 0.0712890625, 0.0712890625, 0.07275390625, 0.07275390625, 0.075927734375, 0.075927734375, 0.079345703125, 0.079345703125, 0.080810546875, 0.080810546875, 0.083984375, 0.083984375, 0.084716796875, 0.084716796875, 0.087890625, 0.087890625, 0.088623046875, 0.088623046875, 0.091796875, 0.091796875, 0.094970703125, 0.094970703125, 0.096435546875, 0.096435546875, 0.097900390625, 0.097900390625, 0.0986328125, 0.0986328125, 0.101806640625, 0.101806640625, 0.10498046875, 0.10498046875, 0.1083984375, 0.1083984375, 0.11181640625, 0.11181640625, 0.115234375, 0.115234375, 0.115966796875, 0.115966796875, 0.119384765625, 0.119384765625, 0.122802734375, 0.124267578125, 0.124267578125, 0.12744140625, 0.12744140625, 0.130859375, 0.13134765625, 0.13134765625, 0.134765625, 0.134765625, 0.137939453125, 0.137939453125, 0.141357421875, 0.141357421875, 0.142822265625, 0.142822265625, 0.1435546875, 0.1435546875, 0.144287109375, 0.144287109375, 0.1474609375, 0.1474609375, 0.14892578125, 0.14892578125, 0.15234375, 0.15234375, 0.153076171875, 0.153076171875, 0.15625, 0.15625, 0.159423828125, 0.159423828125, 0.16015625, 0.163330078125, 0.163330078125, 0.1640625, 0.1640625, 0.167236328125, 0.167236328125, 0.17041015625, 0.17041015625, 0.1708984375, 0.1708984375, 0.174072265625, 0.174072265625, 0.177490234375, 0.177490234375, 0.178955078125, 0.178955078125, 0.179443359375, 0.179443359375, 0.185791015625, 0.185791015625, 0.18896484375, 0.18896484375, 0.189453125, 0.189453125, 0.19091796875, 0.19091796875, 0.191650390625, 0.191650390625, 0.197998046875, 0.197998046875, 0.198486328125, 0.198486328125, 0.20166015625, 0.20166015625, 0.2021484375, 0.2021484375, 0.20556640625, 0.20556640625, 0.206298828125, 0.206298828125, 0.20947265625, 0.20947265625, 0.212646484375, 0.212646484375, 0.21337890625, 0.21337890625, 0.216552734375, 0.216552734375, 0.2197265625, 0.2197265625, 0.220458984375, 0.220458984375, 0.22265625, 0.22412109375, 0.22412109375, 0.224853515625, 0.224853515625, 0.226318359375, 0.226318359375, 0.227783203125, 0.227783203125, 0.23095703125, 0.23095703125, 0.232421875, 0.232421875, 0.23388671875, 0.23388671875, 0.234619140625, 0.234619140625, 0.235107421875, 0.2373046875, 0.2373046875, 0.239501953125, 0.239501953125, 0.240966796875, 0.240966796875, 0.244140625, 0.244140625, 0.24462890625, 0.24462890625, 0.247802734375, 0.247802734375, 0.2509765625, 0.2509765625, 0.25439453125, 0.25439453125, 0.255126953125, 0.255126953125, 0.255615234375, 0.255615234375, 0.2587890625, 0.2587890625, 0.261962890625, 0.261962890625, 0.268310546875, 0.268310546875, 0.26904296875, 0.26904296875, 0.272216796875, 0.272216796875, 0.275390625, 0.27880859375, 0.27880859375, 0.281982421875, 0.281982421875, 0.285400390625, 0.285400390625, 0.288818359375, 0.288818359375, 0.28955078125, 0.291015625, 0.291015625, 0.29443359375, 0.29443359375, 0.297607421875, 0.297607421875, 0.30078125, 0.30078125, 0.303955078125, 0.303955078125, 0.307373046875, 0.308837890625, 0.308837890625, 0.310302734375, 0.310302734375, 0.31103515625, 0.31103515625, 0.314208984375, 0.314208984375, 0.315673828125, 0.316162109375, 0.316162109375, 0.317626953125, 0.317626953125, 0.32080078125, 0.32080078125, 0.321533203125, 0.321533203125, 0.322265625, 0.322265625, 0.325439453125, 0.325439453125, 0.326171875, 0.326171875, 0.32763671875, 0.32763671875, 0.330810546875, 0.330810546875, 0.332275390625, 0.332275390625, 0.33544921875, 0.33544921875, 0.336181640625, 0.336181640625, 0.33935546875, 0.33935546875, 0.3427734375, 0.3427734375, 0.34423828125, 0.34423828125, 0.347412109375, 0.347412109375, 0.3505859375, 0.3505859375, 0.353759765625, 0.353759765625, 0.3544921875, 0.3544921875, 0.355224609375, 0.355224609375, 0.358642578125, 0.358642578125, 0.359375, 0.359375, 0.36083984375, 0.36083984375, 0.361572265625, 0.361572265625, 0.3623046875, 0.3623046875, 0.36376953125, 0.36376953125, 0.3671875, 0.3671875, 0.36865234375, 0.36865234375, 0.369384765625, 0.369384765625, 0.37255859375, 0.37255859375, 0.375732421875, 0.375732421875, 0.37890625, 0.37890625, 0.382080078125, 0.382080078125, 0.38525390625, 0.38525390625, 0.388427734375, 0.388427734375, 0.388916015625, 0.388916015625, 0.389404296875, 0.39013671875, 0.39013671875, 0.390869140625, 0.390869140625, 0.392333984375, 0.392333984375, 0.3955078125, 0.3955078125, 0.396240234375, 0.396240234375, 0.3984375, 0.3984375, 0.40185546875, 0.40185546875, 0.40234375, 0.40234375, 0.405517578125, 0.405517578125, 0.40625, 0.409423828125, 0.409423828125, 0.41015625, 0.41015625, 0.413330078125, 0.413330078125, 0.41650390625, 0.41650390625, 0.41796875, 0.41796875, 0.418701171875, 0.418701171875, 0.420166015625, 0.420166015625, 0.421630859375, 0.421630859375, 0.425048828125, 0.425048828125, 0.42822265625, 0.42822265625, 0.430419921875, 0.430419921875, 0.43359375, 0.43359375, 0.435791015625, 0.435791015625, 0.437255859375, 0.4404296875, 0.4404296875, 0.443603515625, 0.443603515625, 0.4443359375, 0.4443359375, 0.445068359375, 0.445068359375, 0.445556640625, 0.448974609375, 0.448974609375, 0.44970703125, 0.44970703125, 0.451171875, 0.451171875, 0.454345703125, 0.454345703125, 0.45751953125, 0.45751953125, 0.458251953125, 0.458251953125, 0.46142578125, 0.46142578125, 0.464599609375, 0.464599609375, 0.4677734375, 0.47119140625, 0.47119140625, 0.4716796875, 0.4716796875, 0.474853515625, 0.475341796875, 0.475341796875, 0.478759765625, 0.478759765625, 0.480224609375, 0.480224609375, 0.481689453125, 0.481689453125, 0.482421875, 0.482421875, 0.48583984375, 0.48583984375, 0.486572265625, 0.486572265625, 0.488037109375, 0.488037109375, 0.488525390625, 0.488525390625, 0.49169921875, 0.49169921875, 0.4951171875, 0.497314453125, 0.497314453125, 0.498046875, 0.498046875, 0.500244140625, 0.500244140625, 0.500732421875, 0.500732421875, 0.504150390625, 0.504150390625, 0.50732421875, 0.50732421875, 0.508056640625, 0.508056640625, 0.509521484375, 0.509521484375, 0.51025390625, 0.51025390625, 0.510986328125, 0.510986328125, 0.512451171875, 0.512451171875, 0.51318359375, 0.51318359375, 0.51611328125, 0.51611328125, 0.516845703125, 0.516845703125, 0.518310546875, 0.518310546875, 0.519775390625, 0.519775390625, 0.521240234375, 0.521240234375, 0.5244140625, 0.5244140625, 0.52490234375, 0.52490234375, 0.5283203125, 0.5283203125, 0.53173828125, 0.53173828125, 0.533203125, 0.533203125, 0.53369140625, 0.53369140625, 0.534423828125, 0.53662109375, 0.53662109375, 0.5380859375, 0.5380859375, 0.541259765625, 0.541259765625, 0.5419921875, 0.5419921875, 0.54345703125, 0.54345703125, 0.544189453125, 0.544189453125, 0.544677734375, 0.544677734375, 0.548095703125, 0.548095703125, 0.55029296875, 0.55029296875, 0.5517578125, 0.5517578125, 0.554931640625, 0.556396484375, 0.556396484375, 0.5595703125, 0.5595703125, 0.56298828125, 0.56298828125, 0.56640625, 0.56640625, 0.56787109375, 0.56787109375, 0.5712890625, 0.5712890625, 0.57275390625, 0.57275390625, 0.5732421875, 0.576416015625, 0.576416015625, 0.57861328125, 0.57861328125, 0.580810546875, 0.580810546875, 0.583984375, 0.583984375, 0.58740234375, 0.58740234375, 0.590576171875, 0.590576171875, 0.5927734375, 0.5927734375, 0.594970703125, 0.59814453125, 0.59814453125, 0.598876953125, 0.598876953125, 0.602294921875, 0.602294921875, 0.602783203125, 0.602783203125, 0.60595703125, 0.60595703125, 0.606689453125, 0.606689453125, 0.607421875, 0.607421875, 0.608154296875, 0.608154296875, 0.60888671875, 0.60888671875, 0.612060546875, 0.612060546875, 0.61279296875, 0.61279296875, 0.61328125, 0.61328125, 0.61669921875, 0.619873046875, 0.62060546875, 0.62060546875, 0.621337890625, 0.621337890625, 0.62451171875, 0.62451171875, 0.6259765625, 0.6259765625, 0.62939453125, 0.62939453125, 0.630859375, 0.63134765625, 0.63134765625, 0.632080078125, 0.632080078125, 0.63525390625, 0.63525390625, 0.6357421875, 0.6357421875, 0.63623046875, 0.63623046875, 0.63671875, 0.63671875, 0.64306640625, 0.645263671875, 0.64599609375, 0.64599609375, 0.646728515625, 0.646728515625, 0.648193359375, 0.648193359375, 0.6513671875, 0.6513671875, 0.652099609375, 0.652099609375, 0.658447265625, 0.659912109375, 0.659912109375, 0.6630859375, 0.6630859375, 0.666259765625, 0.666259765625, 0.6669921875, 0.6669921875, 0.670166015625, 0.670166015625, 0.6708984375, 0.6708984375, 0.674072265625, 0.674072265625, 0.674560546875, 0.674560546875, 0.676025390625, 0.6767578125, 0.6767578125, 0.679931640625, 0.679931640625, 0.680419921875, 0.680419921875, 0.68115234375, 0.68115234375, 0.681640625, 0.681640625, 0.684814453125, 0.684814453125, 0.686279296875, 0.686279296875, 0.68701171875, 0.68701171875, 0.6875, 0.6875, 0.690673828125, 0.690673828125, 0.69140625, 0.69140625, 0.692138671875, 0.692138671875, 0.695556640625, 0.695556640625, 0.6962890625, 0.69677734375, 0.69677734375, 0.698974609375, 0.698974609375, 0.7021484375, 0.702880859375, 0.702880859375, 0.7060546875, 0.7060546875, 0.70654296875, 0.70654296875, 0.7080078125, 0.7080078125, 0.70947265625, 0.70947265625, 0.712646484375, 0.71337890625, 0.71337890625, 0.716552734375, 0.716552734375, 0.718017578125, 0.718017578125, 0.72119140625, 0.72119140625, 0.7216796875, 0.7216796875, 0.72314453125, 0.72314453125, 0.7265625, 0.7265625, 0.72998046875, 0.730712890625, 0.730712890625, 0.73388671875, 0.73388671875, 0.736083984375, 0.736083984375, 0.73681640625, 0.73681640625, 0.737548828125, 0.737548828125, 0.739013671875, 0.739013671875, 0.73974609375, 0.740234375, 0.740234375, 0.740966796875, 0.740966796875, 0.74169921875, 0.74169921875, 0.744873046875, 0.744873046875, 0.748046875, 0.748046875, 0.74951171875, 0.74951171875, 0.7529296875, 0.7529296875, 0.75341796875, 0.756591796875, 0.756591796875, 0.75732421875, 0.75732421875, 0.758056640625, 0.758056640625, 0.759521484375, 0.759521484375, 0.76025390625, 0.76025390625, 0.760986328125, 0.760986328125, 0.76416015625, 0.76416015625, 0.7646484375, 0.7646484375, 0.765380859375, 0.765380859375, 0.766845703125, 0.766845703125, 0.767333984375, 0.767333984375, 0.768798828125, 0.768798828125, 0.772216796875, 0.772216796875, 0.775390625, 0.775390625, 0.77685546875, 0.77685546875, 0.77734375, 0.77734375, 0.779541015625, 0.779541015625, 0.78271484375, 0.7861328125, 0.7861328125, 0.786865234375, 0.786865234375, 0.78759765625, 0.78759765625, 0.7890625, 0.7890625, 0.79248046875, 0.79248046875, 0.7939453125, 0.7939453125, 0.79736328125, 0.79736328125, 0.798095703125, 0.80126953125, 0.80126953125, 0.804443359375, 0.804443359375, 0.805908203125, 0.806640625, 0.806640625, 0.80810546875, 0.80859375, 0.81201171875, 0.81201171875, 0.8154296875, 0.8154296875, 0.816162109375, 0.816162109375, 0.817626953125, 0.817626953125, 0.818115234375, 0.818115234375, 0.8212890625, 0.8212890625, 0.824462890625, 0.824462890625, 0.824951171875, 0.824951171875, 0.828369140625, 0.828369140625, 0.831787109375, 0.831787109375, 0.833251953125, 0.833251953125, 0.83642578125, 0.83642578125, 0.839599609375, 0.839599609375, 0.8427734375, 0.8427734375, 0.845947265625, 0.845947265625, 0.8466796875, 0.8466796875, 0.85009765625, 0.85009765625, 0.853515625, 0.854248046875, 0.854248046875, 0.855712890625, 0.855712890625, 0.859130859375, 0.859130859375, 0.8623046875, 0.8623046875, 0.865478515625, 0.865478515625, 0.865966796875, 0.865966796875, 0.869140625, 0.869140625, 0.87255859375, 0.87255859375, 0.873291015625, 0.873291015625, 0.8740234375, 0.8740234375, 0.877197265625, 0.8779296875, 0.8779296875, 0.878662109375, 0.878662109375, 0.87939453125, 0.87939453125, 0.882568359375, 0.882568359375, 0.883056640625, 0.883056640625, 0.88623046875, 0.88623046875, 0.88671875, 0.88671875, 0.889892578125, 0.889892578125, 0.890625, 0.890625, 0.891357421875, 0.891357421875, 0.89208984375, 0.89208984375, 0.895263671875, 0.896728515625, 0.896728515625, 0.89990234375, 0.89990234375, 0.903076171875, 0.903076171875, 0.909912109375, 0.909912109375, 0.91064453125, 0.9140625, 0.9140625, 0.91455078125, 0.91455078125, 0.917724609375, 0.917724609375, 0.921142578125, 0.921142578125, 0.922607421875, 0.922607421875, 0.92333984375, 0.92333984375, 0.9267578125, 0.9267578125, 0.928955078125, 0.928955078125, 0.930419921875, 0.930419921875, 0.93115234375, 0.93115234375, 0.933349609375, 0.933349609375, 0.9365234375, 0.9365234375, 0.937255859375, 0.937255859375, 0.9404296875, 0.9404296875, 0.943603515625, 0.943603515625, 0.9443359375, 0.9443359375, 0.94580078125, 0.94580078125, 0.947265625, 0.947265625, 0.95068359375, 0.95068359375, 0.951416015625, 0.951416015625, 0.952880859375, 0.952880859375, 0.95361328125, 0.955078125, 0.958251953125, 0.958251953125, 0.958740234375, 0.958740234375, 0.960205078125, 0.960205078125, 0.963623046875, 0.96435546875, 0.96435546875, 0.9677734375, 0.9677734375, 0.96923828125, 0.96923828125, 0.9697265625, 0.9697265625, 0.97119140625, 0.97119140625, 0.971923828125, 0.971923828125, 0.97265625, 0.97265625, 0.975830078125, 0.977294921875, 0.977294921875, 0.97802734375, 0.97802734375, 0.9794921875, 0.9794921875, 0.97998046875, 0.980712890625, 0.980712890625, 0.98291015625, 0.98291015625, 0.983642578125, 0.983642578125, 0.98583984375, 0.98583984375, 0.989013671875, 0.989013671875, 0.98974609375, 0.98974609375, 0.990478515625, 0.991943359375, 0.991943359375, 0.992919921875, 0.992919921875, 0.99365234375, 0.996826171875, 0.996826171875, 0.998291015625, 0.998291015625, 0.9990234375, 0.9990234375, 0.99951171875, 0.99951171875, 1.0, 1.0]}, {\"name\": \"random classifier\", \"type\": \"scatter\", \"x\": [0, 1], \"y\": [0, 1]}],                        {\"template\": {\"data\": {\"bar\": [{\"error_x\": {\"color\": \"#2a3f5f\"}, \"error_y\": {\"color\": \"#2a3f5f\"}, \"marker\": {\"line\": {\"color\": \"#E5ECF6\", \"width\": 0.5}}, \"type\": \"bar\"}], \"barpolar\": [{\"marker\": {\"line\": {\"color\": \"#E5ECF6\", \"width\": 0.5}}, \"type\": \"barpolar\"}], \"carpet\": [{\"aaxis\": {\"endlinecolor\": \"#2a3f5f\", \"gridcolor\": \"white\", \"linecolor\": \"white\", \"minorgridcolor\": \"white\", \"startlinecolor\": \"#2a3f5f\"}, \"baxis\": {\"endlinecolor\": \"#2a3f5f\", \"gridcolor\": \"white\", \"linecolor\": \"white\", \"minorgridcolor\": \"white\", \"startlinecolor\": \"#2a3f5f\"}, \"type\": \"carpet\"}], \"choropleth\": [{\"colorbar\": {\"outlinewidth\": 0, \"ticks\": \"\"}, \"type\": \"choropleth\"}], \"contour\": [{\"colorbar\": {\"outlinewidth\": 0, \"ticks\": \"\"}, \"colorscale\": [[0.0, \"#0d0887\"], [0.1111111111111111, \"#46039f\"], [0.2222222222222222, \"#7201a8\"], [0.3333333333333333, \"#9c179e\"], [0.4444444444444444, \"#bd3786\"], [0.5555555555555556, \"#d8576b\"], [0.6666666666666666, \"#ed7953\"], [0.7777777777777778, \"#fb9f3a\"], [0.8888888888888888, \"#fdca26\"], [1.0, \"#f0f921\"]], \"type\": \"contour\"}], \"contourcarpet\": [{\"colorbar\": {\"outlinewidth\": 0, \"ticks\": \"\"}, \"type\": \"contourcarpet\"}], \"heatmap\": [{\"colorbar\": {\"outlinewidth\": 0, \"ticks\": \"\"}, \"colorscale\": [[0.0, \"#0d0887\"], [0.1111111111111111, \"#46039f\"], [0.2222222222222222, \"#7201a8\"], [0.3333333333333333, \"#9c179e\"], [0.4444444444444444, \"#bd3786\"], [0.5555555555555556, \"#d8576b\"], [0.6666666666666666, \"#ed7953\"], [0.7777777777777778, \"#fb9f3a\"], [0.8888888888888888, \"#fdca26\"], [1.0, \"#f0f921\"]], \"type\": \"heatmap\"}], \"heatmapgl\": [{\"colorbar\": {\"outlinewidth\": 0, \"ticks\": \"\"}, \"colorscale\": [[0.0, \"#0d0887\"], [0.1111111111111111, \"#46039f\"], [0.2222222222222222, \"#7201a8\"], [0.3333333333333333, \"#9c179e\"], [0.4444444444444444, \"#bd3786\"], [0.5555555555555556, \"#d8576b\"], [0.6666666666666666, \"#ed7953\"], [0.7777777777777778, \"#fb9f3a\"], [0.8888888888888888, \"#fdca26\"], [1.0, \"#f0f921\"]], \"type\": \"heatmapgl\"}], \"histogram\": [{\"marker\": {\"colorbar\": {\"outlinewidth\": 0, \"ticks\": \"\"}}, \"type\": \"histogram\"}], \"histogram2d\": [{\"colorbar\": {\"outlinewidth\": 0, \"ticks\": \"\"}, \"colorscale\": [[0.0, \"#0d0887\"], [0.1111111111111111, \"#46039f\"], [0.2222222222222222, \"#7201a8\"], [0.3333333333333333, \"#9c179e\"], [0.4444444444444444, \"#bd3786\"], [0.5555555555555556, \"#d8576b\"], [0.6666666666666666, \"#ed7953\"], [0.7777777777777778, \"#fb9f3a\"], [0.8888888888888888, \"#fdca26\"], [1.0, \"#f0f921\"]], \"type\": \"histogram2d\"}], \"histogram2dcontour\": [{\"colorbar\": {\"outlinewidth\": 0, \"ticks\": \"\"}, \"colorscale\": [[0.0, \"#0d0887\"], [0.1111111111111111, \"#46039f\"], [0.2222222222222222, \"#7201a8\"], [0.3333333333333333, \"#9c179e\"], [0.4444444444444444, \"#bd3786\"], [0.5555555555555556, \"#d8576b\"], [0.6666666666666666, \"#ed7953\"], [0.7777777777777778, \"#fb9f3a\"], [0.8888888888888888, \"#fdca26\"], [1.0, \"#f0f921\"]], \"type\": \"histogram2dcontour\"}], \"mesh3d\": [{\"colorbar\": {\"outlinewidth\": 0, \"ticks\": \"\"}, \"type\": \"mesh3d\"}], \"parcoords\": [{\"line\": {\"colorbar\": {\"outlinewidth\": 0, \"ticks\": \"\"}}, \"type\": \"parcoords\"}], \"pie\": [{\"automargin\": true, \"type\": \"pie\"}], \"scatter\": [{\"marker\": {\"colorbar\": {\"outlinewidth\": 0, \"ticks\": \"\"}}, \"type\": \"scatter\"}], \"scatter3d\": [{\"line\": {\"colorbar\": {\"outlinewidth\": 0, \"ticks\": \"\"}}, \"marker\": {\"colorbar\": {\"outlinewidth\": 0, \"ticks\": \"\"}}, \"type\": \"scatter3d\"}], \"scattercarpet\": [{\"marker\": {\"colorbar\": {\"outlinewidth\": 0, \"ticks\": \"\"}}, \"type\": \"scattercarpet\"}], \"scattergeo\": [{\"marker\": {\"colorbar\": {\"outlinewidth\": 0, \"ticks\": \"\"}}, \"type\": \"scattergeo\"}], \"scattergl\": [{\"marker\": {\"colorbar\": {\"outlinewidth\": 0, \"ticks\": \"\"}}, \"type\": \"scattergl\"}], \"scattermapbox\": [{\"marker\": {\"colorbar\": {\"outlinewidth\": 0, \"ticks\": \"\"}}, \"type\": \"scattermapbox\"}], \"scatterpolar\": [{\"marker\": {\"colorbar\": {\"outlinewidth\": 0, \"ticks\": \"\"}}, \"type\": \"scatterpolar\"}], \"scatterpolargl\": [{\"marker\": {\"colorbar\": {\"outlinewidth\": 0, \"ticks\": \"\"}}, \"type\": \"scatterpolargl\"}], \"scatterternary\": [{\"marker\": {\"colorbar\": {\"outlinewidth\": 0, \"ticks\": \"\"}}, \"type\": \"scatterternary\"}], \"surface\": [{\"colorbar\": {\"outlinewidth\": 0, \"ticks\": \"\"}, \"colorscale\": [[0.0, \"#0d0887\"], [0.1111111111111111, \"#46039f\"], [0.2222222222222222, \"#7201a8\"], [0.3333333333333333, \"#9c179e\"], [0.4444444444444444, \"#bd3786\"], [0.5555555555555556, \"#d8576b\"], [0.6666666666666666, \"#ed7953\"], [0.7777777777777778, \"#fb9f3a\"], [0.8888888888888888, \"#fdca26\"], [1.0, \"#f0f921\"]], \"type\": \"surface\"}], \"table\": [{\"cells\": {\"fill\": {\"color\": \"#EBF0F8\"}, \"line\": {\"color\": \"white\"}}, \"header\": {\"fill\": {\"color\": \"#C8D4E3\"}, \"line\": {\"color\": \"white\"}}, \"type\": \"table\"}]}, \"layout\": {\"annotationdefaults\": {\"arrowcolor\": \"#2a3f5f\", \"arrowhead\": 0, \"arrowwidth\": 1}, \"autotypenumbers\": \"strict\", \"coloraxis\": {\"colorbar\": {\"outlinewidth\": 0, \"ticks\": \"\"}}, \"colorscale\": {\"diverging\": [[0, \"#8e0152\"], [0.1, \"#c51b7d\"], [0.2, \"#de77ae\"], [0.3, \"#f1b6da\"], [0.4, \"#fde0ef\"], [0.5, \"#f7f7f7\"], [0.6, \"#e6f5d0\"], [0.7, \"#b8e186\"], [0.8, \"#7fbc41\"], [0.9, \"#4d9221\"], [1, \"#276419\"]], \"sequential\": [[0.0, \"#0d0887\"], [0.1111111111111111, \"#46039f\"], [0.2222222222222222, \"#7201a8\"], [0.3333333333333333, \"#9c179e\"], [0.4444444444444444, \"#bd3786\"], [0.5555555555555556, \"#d8576b\"], [0.6666666666666666, \"#ed7953\"], [0.7777777777777778, \"#fb9f3a\"], [0.8888888888888888, \"#fdca26\"], [1.0, \"#f0f921\"]], \"sequentialminus\": [[0.0, \"#0d0887\"], [0.1111111111111111, \"#46039f\"], [0.2222222222222222, \"#7201a8\"], [0.3333333333333333, \"#9c179e\"], [0.4444444444444444, \"#bd3786\"], [0.5555555555555556, \"#d8576b\"], [0.6666666666666666, \"#ed7953\"], [0.7777777777777778, \"#fb9f3a\"], [0.8888888888888888, \"#fdca26\"], [1.0, \"#f0f921\"]]}, \"colorway\": [\"#636efa\", \"#EF553B\", \"#00cc96\", \"#ab63fa\", \"#FFA15A\", \"#19d3f3\", \"#FF6692\", \"#B6E880\", \"#FF97FF\", \"#FECB52\"], \"font\": {\"color\": \"#2a3f5f\"}, \"geo\": {\"bgcolor\": \"white\", \"lakecolor\": \"white\", \"landcolor\": \"#E5ECF6\", \"showlakes\": true, \"showland\": true, \"subunitcolor\": \"white\"}, \"hoverlabel\": {\"align\": \"left\"}, \"hovermode\": \"closest\", \"mapbox\": {\"style\": \"light\"}, \"paper_bgcolor\": \"white\", \"plot_bgcolor\": \"#E5ECF6\", \"polar\": {\"angularaxis\": {\"gridcolor\": \"white\", \"linecolor\": \"white\", \"ticks\": \"\"}, \"bgcolor\": \"#E5ECF6\", \"radialaxis\": {\"gridcolor\": \"white\", \"linecolor\": \"white\", \"ticks\": \"\"}}, \"scene\": {\"xaxis\": {\"backgroundcolor\": \"#E5ECF6\", \"gridcolor\": \"white\", \"gridwidth\": 2, \"linecolor\": \"white\", \"showbackground\": true, \"ticks\": \"\", \"zerolinecolor\": \"white\"}, \"yaxis\": {\"backgroundcolor\": \"#E5ECF6\", \"gridcolor\": \"white\", \"gridwidth\": 2, \"linecolor\": \"white\", \"showbackground\": true, \"ticks\": \"\", \"zerolinecolor\": \"white\"}, \"zaxis\": {\"backgroundcolor\": \"#E5ECF6\", \"gridcolor\": \"white\", \"gridwidth\": 2, \"linecolor\": \"white\", \"showbackground\": true, \"ticks\": \"\", \"zerolinecolor\": \"white\"}}, \"shapedefaults\": {\"line\": {\"color\": \"#2a3f5f\"}}, \"ternary\": {\"aaxis\": {\"gridcolor\": \"white\", \"linecolor\": \"white\", \"ticks\": \"\"}, \"baxis\": {\"gridcolor\": \"white\", \"linecolor\": \"white\", \"ticks\": \"\"}, \"bgcolor\": \"#E5ECF6\", \"caxis\": {\"gridcolor\": \"white\", \"linecolor\": \"white\", \"ticks\": \"\"}}, \"title\": {\"x\": 0.05}, \"xaxis\": {\"automargin\": true, \"gridcolor\": \"white\", \"linecolor\": \"white\", \"ticks\": \"\", \"title\": {\"standoff\": 15}, \"zerolinecolor\": \"white\", \"zerolinewidth\": 2}, \"yaxis\": {\"automargin\": true, \"gridcolor\": \"white\", \"linecolor\": \"white\", \"ticks\": \"\", \"title\": {\"standoff\": 15}, \"zerolinecolor\": \"white\", \"zerolinewidth\": 2}}}, \"title\": {\"text\": \"ROC curve, AUC=0.51\"}, \"xaxis\": {\"title\": {\"text\": \"False positive rate\"}}, \"yaxis\": {\"title\": {\"text\": \"True positive rate\"}}},                        {\"responsive\": true}                    ).then(function(){\n",
       "                            \n",
       "var gd = document.getElementById('6e0af70d-5086-4d91-b64a-e54d4e1bfc81');\n",
       "var x = new MutationObserver(function (mutations, observer) {{\n",
       "        var display = window.getComputedStyle(gd).display;\n",
       "        if (!display || display === 'none') {{\n",
       "            console.log([gd, 'removed!']);\n",
       "            Plotly.purge(gd);\n",
       "            observer.disconnect();\n",
       "        }}\n",
       "}});\n",
       "\n",
       "// Listen for the removal of the full notebook cells\n",
       "var notebookContainer = gd.closest('#notebook-container');\n",
       "if (notebookContainer) {{\n",
       "    x.observe(notebookContainer, {childList: true});\n",
       "}}\n",
       "\n",
       "// Listen for the clearing of the current output cell\n",
       "var outputEl = gd.closest('.output');\n",
       "if (outputEl) {{\n",
       "    x.observe(outputEl, {childList: true});\n",
       "}}\n",
       "\n",
       "                        })                };                });            </script>        </div>"
      ]
     },
     "metadata": {},
     "output_type": "display_data"
    }
   ],
   "source": [
    "fpr, tpr, thresholds = sklearn.metrics.roc_curve(\n",
    "    [1] * len(real_logits) + [0] * len(fake_logits),\n",
    "    real_logits + fake_logits,\n",
    ")\n",
    "go.Figure(\n",
    "    layout=dict(\n",
    "        title=f\"ROC curve, AUC={auc:.2f}\",\n",
    "        xaxis_title=\"False positive rate\",\n",
    "        yaxis_title=\"True positive rate\",\n",
    "    ),\n",
    "    data=[\n",
    "        go.Scatter(name=\"word2mat\", x=fpr, y=tpr),\n",
    "        go.Scatter(name=\"random classifier\", x=[0, 1], y=[0, 1])\n",
    "    ],\n",
    ")"
   ]
  },
  {
   "cell_type": "code",
   "execution_count": null,
   "id": "e09c5f05",
   "metadata": {},
   "outputs": [],
   "source": []
  },
  {
   "cell_type": "code",
   "execution_count": null,
   "id": "953dc9a5",
   "metadata": {},
   "outputs": [],
   "source": []
  },
  {
   "cell_type": "code",
   "execution_count": null,
   "id": "0c655846",
   "metadata": {},
   "outputs": [],
   "source": []
  }
 ],
 "metadata": {
  "kernelspec": {
   "display_name": "Python 3",
   "language": "python",
   "name": "python3"
  },
  "language_info": {
   "codemirror_mode": {
    "name": "ipython",
    "version": 3
   },
   "file_extension": ".py",
   "mimetype": "text/x-python",
   "name": "python",
   "nbconvert_exporter": "python",
   "pygments_lexer": "ipython3",
   "version": "3.8.5"
  },
  "widgets": {
   "application/vnd.jupyter.widget-state+json": {
    "state": {
     "00370033219b40b0bdb45dcd2ffe89d7": {
      "model_module": "@jupyter-widgets/base",
      "model_module_version": "1.2.0",
      "model_name": "LayoutModel",
      "state": {}
     },
     "00418af6ca5c45c99037dfbdc6c4677d": {
      "model_module": "@jupyter-widgets/controls",
      "model_module_version": "1.5.0",
      "model_name": "FloatProgressModel",
      "state": {
       "bar_style": "success",
       "description": "100%",
       "layout": "IPY_MODEL_f9d3bc3df83f4b1baf841b316990ea50",
       "max": 329155,
       "style": "IPY_MODEL_ac9b5e13124948dda5c37dfc46ab212e",
       "value": 329155
      }
     },
     "00be969ad76f48b3b780cf57f5924e3d": {
      "model_module": "@jupyter-widgets/controls",
      "model_module_version": "1.5.0",
      "model_name": "FloatProgressModel",
      "state": {
       "bar_style": "success",
       "description": "Reading word vectors: 100%",
       "layout": "IPY_MODEL_8915f890fb9c44579cac63e8a221b6f3",
       "max": 4027169,
       "style": "IPY_MODEL_c01af3ae2e4b435291c45c3dedf9adaf",
       "value": 4027169
      }
     },
     "00c9789696b84af7bb61d464b1c709e3": {
      "model_module": "@jupyter-widgets/controls",
      "model_module_version": "1.5.0",
      "model_name": "DescriptionStyleModel",
      "state": {
       "description_width": ""
      }
     },
     "016419ae33474fc59749b2f50bd416ae": {
      "model_module": "@jupyter-widgets/controls",
      "model_module_version": "1.5.0",
      "model_name": "FloatProgressModel",
      "state": {
       "bar_style": "success",
       "description": "100%",
       "layout": "IPY_MODEL_b5cb11d1f883450cbf3557839748529e",
       "max": 35259,
       "style": "IPY_MODEL_e067b1a1983846409a947bfeedea0bc2",
       "value": 35259
      }
     },
     "017a9984a7844f61aadd5ec55070887a": {
      "model_module": "@jupyter-widgets/controls",
      "model_module_version": "1.5.0",
      "model_name": "HTMLModel",
      "state": {
       "layout": "IPY_MODEL_76cd9bf9c80a407181c6d99d7ba3a131",
       "style": "IPY_MODEL_f96563509c744f6892845e16ac2cf158",
       "value": " 329155/329155 [01:18&lt;00:00, 4179.38it/s]"
      }
     },
     "01ab13a079c14296953132a843d87cfb": {
      "model_module": "@jupyter-widgets/controls",
      "model_module_version": "1.5.0",
      "model_name": "ProgressStyleModel",
      "state": {
       "description_width": "initial"
      }
     },
     "0205cf0d472041ec919f63e503cf49bc": {
      "model_module": "@jupyter-widgets/controls",
      "model_module_version": "1.5.0",
      "model_name": "HTMLModel",
      "state": {
       "layout": "IPY_MODEL_9240a1d922fd45858fdef565a672b082",
       "style": "IPY_MODEL_0571d0e422fe4fb2b7016d5cc76a5c6c",
       "value": " 329155/329155 [32:02&lt;00:00, 171.24it/s]"
      }
     },
     "027fc1323b744345ab4091296c611581": {
      "model_module": "@jupyter-widgets/base",
      "model_module_version": "1.2.0",
      "model_name": "LayoutModel",
      "state": {}
     },
     "029a5c4133c344ccada118c24979a16b": {
      "model_module": "@jupyter-widgets/base",
      "model_module_version": "1.2.0",
      "model_name": "LayoutModel",
      "state": {}
     },
     "02a74dc8c7d94a7fa9b59587bdab19b0": {
      "model_module": "@jupyter-widgets/controls",
      "model_module_version": "1.5.0",
      "model_name": "HTMLModel",
      "state": {
       "layout": "IPY_MODEL_072ef8cd6d7842cd9e2a67106f5245a1",
       "style": "IPY_MODEL_402909ef788243e1acfe9d711e445d72",
       "value": " 1/1 [18:08&lt;00:00, 1088.91s/it]"
      }
     },
     "02d765dcb4bf47abbe101a8c0df7b761": {
      "model_module": "@jupyter-widgets/controls",
      "model_module_version": "1.5.0",
      "model_name": "DescriptionStyleModel",
      "state": {
       "description_width": ""
      }
     },
     "02daaf386d914e82975d102c0ee6582a": {
      "model_module": "@jupyter-widgets/base",
      "model_module_version": "1.2.0",
      "model_name": "LayoutModel",
      "state": {}
     },
     "030a42e6e2a445d786873a1abaf4e4cd": {
      "model_module": "@jupyter-widgets/base",
      "model_module_version": "1.2.0",
      "model_name": "LayoutModel",
      "state": {}
     },
     "032b9d9ad118416292d70d9f7205a810": {
      "model_module": "@jupyter-widgets/base",
      "model_module_version": "1.2.0",
      "model_name": "LayoutModel",
      "state": {}
     },
     "0385fdd9bc99460b925023a9126db5c5": {
      "model_module": "@jupyter-widgets/base",
      "model_module_version": "1.2.0",
      "model_name": "LayoutModel",
      "state": {}
     },
     "0472e491f3f548cab9558e761b69023f": {
      "model_module": "@jupyter-widgets/controls",
      "model_module_version": "1.5.0",
      "model_name": "ProgressStyleModel",
      "state": {
       "description_width": "initial"
      }
     },
     "04749786fcda4558a2f4c56df33aa2d0": {
      "model_module": "@jupyter-widgets/controls",
      "model_module_version": "1.5.0",
      "model_name": "HTMLModel",
      "state": {
       "layout": "IPY_MODEL_3fbaebb0a53947e8992db9bcd5596f3c",
       "style": "IPY_MODEL_f9fa4e6bd29e4c1388de42c61c4788f0",
       "value": " 329155/329155 [10:04&lt;00:00, 544.28it/s]"
      }
     },
     "048368549419426bb784455ca9d9da60": {
      "model_module": "@jupyter-widgets/controls",
      "model_module_version": "1.5.0",
      "model_name": "FloatProgressModel",
      "state": {
       "bar_style": "success",
       "description": "Parsing dataset: 100%",
       "layout": "IPY_MODEL_9bcb333860824b9f88540d5104f58a81",
       "max": 373801,
       "style": "IPY_MODEL_5270d4b8ad064b24ae86314e2c8e85cc",
       "value": 373801
      }
     },
     "048c27caa814456cb3d466811f1cb6e5": {
      "model_module": "@jupyter-widgets/controls",
      "model_module_version": "1.5.0",
      "model_name": "DescriptionStyleModel",
      "state": {
       "description_width": ""
      }
     },
     "04a74eb086cd4adfbe1d4eeb6081e005": {
      "model_module": "@jupyter-widgets/base",
      "model_module_version": "1.2.0",
      "model_name": "LayoutModel",
      "state": {}
     },
     "04eaed52dc3c4f8b837090f35c390601": {
      "model_module": "@jupyter-widgets/controls",
      "model_module_version": "1.5.0",
      "model_name": "HTMLModel",
      "state": {
       "layout": "IPY_MODEL_0385fdd9bc99460b925023a9126db5c5",
       "style": "IPY_MODEL_e85755c3b86c41f3a0a9dfc52de624d9",
       "value": " 329155/329155 [20:06&lt;00:00, 272.80it/s]"
      }
     },
     "0571d0e422fe4fb2b7016d5cc76a5c6c": {
      "model_module": "@jupyter-widgets/controls",
      "model_module_version": "1.5.0",
      "model_name": "DescriptionStyleModel",
      "state": {
       "description_width": ""
      }
     },
     "057902b59ead4b10809d35351b943020": {
      "model_module": "@jupyter-widgets/controls",
      "model_module_version": "1.5.0",
      "model_name": "DescriptionStyleModel",
      "state": {
       "description_width": ""
      }
     },
     "05d29e34eebe4029b07730c618cd2c25": {
      "model_module": "@jupyter-widgets/controls",
      "model_module_version": "1.5.0",
      "model_name": "DescriptionStyleModel",
      "state": {
       "description_width": ""
      }
     },
     "060676cebbf540e3a064a313d73645f9": {
      "model_module": "@jupyter-widgets/base",
      "model_module_version": "1.2.0",
      "model_name": "LayoutModel",
      "state": {}
     },
     "06d220f305784315891d97685b40a022": {
      "model_module": "@jupyter-widgets/base",
      "model_module_version": "1.2.0",
      "model_name": "LayoutModel",
      "state": {}
     },
     "06e59dd5e28641428e4ee74592d1fece": {
      "model_module": "@jupyter-widgets/controls",
      "model_module_version": "1.5.0",
      "model_name": "HTMLModel",
      "state": {
       "layout": "IPY_MODEL_c0380b8611f841bcb8d48abc88c04ea9",
       "style": "IPY_MODEL_ee4ada7ca912409c84dfe4be7fe0f184",
       "value": " 329155/329155 [27:10&lt;00:00, 201.86it/s]"
      }
     },
     "06e6319a2ec743e0b975389cf43995ba": {
      "model_module": "@jupyter-widgets/base",
      "model_module_version": "1.2.0",
      "model_name": "LayoutModel",
      "state": {}
     },
     "072ef8cd6d7842cd9e2a67106f5245a1": {
      "model_module": "@jupyter-widgets/base",
      "model_module_version": "1.2.0",
      "model_name": "LayoutModel",
      "state": {}
     },
     "07ba69bc631c42e5b7164277b0c00e64": {
      "model_module": "@jupyter-widgets/controls",
      "model_module_version": "1.5.0",
      "model_name": "HTMLModel",
      "state": {
       "layout": "IPY_MODEL_d2a96811582944beb093ad27a0fb2cbd",
       "style": "IPY_MODEL_fba1c6f599444a5cab646cdfaa7a7a14",
       "value": " 0/329155 [00:09&lt;?, ?it/s]"
      }
     },
     "07efeff112c345d58fba017e9ff68b61": {
      "model_module": "@jupyter-widgets/base",
      "model_module_version": "1.2.0",
      "model_name": "LayoutModel",
      "state": {}
     },
     "07f810d9eb9648f789e948ba1ded86a8": {
      "model_module": "@jupyter-widgets/controls",
      "model_module_version": "1.5.0",
      "model_name": "HBoxModel",
      "state": {
       "children": [
        "IPY_MODEL_16b8389af20841288e88a6406e5c6c55",
        "IPY_MODEL_85ec9c0874af4a1994ead39e338576d7"
       ],
       "layout": "IPY_MODEL_db4c14053b874354a90db5b435b5e2af"
      }
     },
     "083399ddedff4b92a520a3dcf2b66aae": {
      "model_module": "@jupyter-widgets/base",
      "model_module_version": "1.2.0",
      "model_name": "LayoutModel",
      "state": {}
     },
     "085d1a56144c43e1bd5458551526db34": {
      "model_module": "@jupyter-widgets/base",
      "model_module_version": "1.2.0",
      "model_name": "LayoutModel",
      "state": {}
     },
     "08613bc5f0dd47bf9e1ba715115e7e4e": {
      "model_module": "@jupyter-widgets/controls",
      "model_module_version": "1.5.0",
      "model_name": "HBoxModel",
      "state": {
       "children": [
        "IPY_MODEL_a9d1373be32f445abd07b959bb117baf",
        "IPY_MODEL_f009b7c4fe5c4ff58c189de314ac7453"
       ],
       "layout": "IPY_MODEL_c6ff9ae7a9824321b79f322a1103838a"
      }
     },
     "08828feafc5547efb998578352cc4ad7": {
      "model_module": "@jupyter-widgets/base",
      "model_module_version": "1.2.0",
      "model_name": "LayoutModel",
      "state": {}
     },
     "08865abfb0764341a3cca0727fce90d7": {
      "model_module": "@jupyter-widgets/controls",
      "model_module_version": "1.5.0",
      "model_name": "ProgressStyleModel",
      "state": {
       "description_width": "initial"
      }
     },
     "094e8036510f46a1b85fa2739a7e186f": {
      "model_module": "@jupyter-widgets/controls",
      "model_module_version": "1.5.0",
      "model_name": "HBoxModel",
      "state": {
       "children": [
        "IPY_MODEL_ec8e7b191d2b4fe6918615d7a83075ff",
        "IPY_MODEL_162029af935b43fe858ec427114916e5"
       ],
       "layout": "IPY_MODEL_8575e2ef63994bbf8790a46272184d81"
      }
     },
     "09581be62fb6438db39009ae87328edf": {
      "model_module": "@jupyter-widgets/base",
      "model_module_version": "1.2.0",
      "model_name": "LayoutModel",
      "state": {}
     },
     "09595981112a46c3941cccd72440f17a": {
      "model_module": "@jupyter-widgets/controls",
      "model_module_version": "1.5.0",
      "model_name": "HBoxModel",
      "state": {
       "children": [
        "IPY_MODEL_5d6ccc9c02c940fd9cfa1ef27762bab8",
        "IPY_MODEL_2558db8aa2284e048df26f71cfba1b68"
       ],
       "layout": "IPY_MODEL_a4a3b48e52a441d1ac413f16e98d6d04"
      }
     },
     "09771043f32a4f898552bd07dab044bb": {
      "model_module": "@jupyter-widgets/controls",
      "model_module_version": "1.5.0",
      "model_name": "HBoxModel",
      "state": {
       "children": [
        "IPY_MODEL_7c257d9574d04908acb92acd76a6c391",
        "IPY_MODEL_976410f60f41452ba39f7149f6917ba0"
       ],
       "layout": "IPY_MODEL_79bd20c3d566498c86d965821a6a5002"
      }
     },
     "09cb313594c6427fb3ff44b9714f348b": {
      "model_module": "@jupyter-widgets/base",
      "model_module_version": "1.2.0",
      "model_name": "LayoutModel",
      "state": {}
     },
     "09dc85b7578f4b7ca36262d806e03293": {
      "model_module": "@jupyter-widgets/base",
      "model_module_version": "1.2.0",
      "model_name": "LayoutModel",
      "state": {}
     },
     "09e727a23a9c4e8ca25d5fe9706636dc": {
      "model_module": "@jupyter-widgets/base",
      "model_module_version": "1.2.0",
      "model_name": "LayoutModel",
      "state": {}
     },
     "09f73d8fff9e46a29cd0c378aa989ff6": {
      "model_module": "@jupyter-widgets/controls",
      "model_module_version": "1.5.0",
      "model_name": "FloatProgressModel",
      "state": {
       "bar_style": "success",
       "description": "100%",
       "layout": "IPY_MODEL_1501035e22f74c79b665a5b3493982aa",
       "max": 35259,
       "style": "IPY_MODEL_e2c6791fb479473fabb6c9b4bf421ab0",
       "value": 35259
      }
     },
     "0a140cf757864176b5be634c7a63aa71": {
      "model_module": "@jupyter-widgets/controls",
      "model_module_version": "1.5.0",
      "model_name": "HBoxModel",
      "state": {
       "children": [
        "IPY_MODEL_42085eaa2f394ec6a3068d499587b3ff",
        "IPY_MODEL_2071d2e911c54a0d8b30335270dcab1f"
       ],
       "layout": "IPY_MODEL_943bb119665b4582982a10ab0fdaec03"
      }
     },
     "0a46580abf3249a8a21722810b08495c": {
      "model_module": "@jupyter-widgets/controls",
      "model_module_version": "1.5.0",
      "model_name": "ProgressStyleModel",
      "state": {
       "description_width": "initial"
      }
     },
     "0a67d991fe5c4c048644cc3ddfb97572": {
      "model_module": "@jupyter-widgets/base",
      "model_module_version": "1.2.0",
      "model_name": "LayoutModel",
      "state": {}
     },
     "0a959230102644f6954ca88ca960b666": {
      "model_module": "@jupyter-widgets/base",
      "model_module_version": "1.2.0",
      "model_name": "LayoutModel",
      "state": {}
     },
     "0aa2fbd828b34ef6a80ac850b1ffe913": {
      "model_module": "@jupyter-widgets/controls",
      "model_module_version": "1.5.0",
      "model_name": "HTMLModel",
      "state": {
       "layout": "IPY_MODEL_70d2115e268a450f8e28f4ca9c1d6f8c",
       "style": "IPY_MODEL_28147bd5c4e04729aafc321f154f86a4",
       "value": " 329155/329155 [3:41:17&lt;00:00, 24.79it/s]"
      }
     },
     "0b4cdfe946b04b58995227935317a8dd": {
      "model_module": "@jupyter-widgets/base",
      "model_module_version": "1.2.0",
      "model_name": "LayoutModel",
      "state": {}
     },
     "0b8f9935e76f40bbb6b04546325fd9f5": {
      "model_module": "@jupyter-widgets/controls",
      "model_module_version": "1.5.0",
      "model_name": "ProgressStyleModel",
      "state": {
       "description_width": "initial"
      }
     },
     "0b95667ace01422a82275bb994ba2133": {
      "model_module": "@jupyter-widgets/base",
      "model_module_version": "1.2.0",
      "model_name": "LayoutModel",
      "state": {}
     },
     "0bc28b8480f145c9a5f2f74a633de664": {
      "model_module": "@jupyter-widgets/controls",
      "model_module_version": "1.5.0",
      "model_name": "DescriptionStyleModel",
      "state": {
       "description_width": ""
      }
     },
     "0cbea9c69a0f46d5848ea6b8804b9e17": {
      "model_module": "@jupyter-widgets/controls",
      "model_module_version": "1.5.0",
      "model_name": "ProgressStyleModel",
      "state": {
       "description_width": "initial"
      }
     },
     "0d089cd1e38a4dbf9b9c40d34b8698c5": {
      "model_module": "@jupyter-widgets/base",
      "model_module_version": "1.2.0",
      "model_name": "LayoutModel",
      "state": {}
     },
     "0d131f930a444be5b30d287776164f81": {
      "model_module": "@jupyter-widgets/controls",
      "model_module_version": "1.5.0",
      "model_name": "ProgressStyleModel",
      "state": {
       "description_width": "initial"
      }
     },
     "0d1a68ae6c0849d78b87f811ff8934b7": {
      "model_module": "@jupyter-widgets/base",
      "model_module_version": "1.2.0",
      "model_name": "LayoutModel",
      "state": {}
     },
     "0d1f925031c7450ba22d6d039c9d77b3": {
      "model_module": "@jupyter-widgets/controls",
      "model_module_version": "1.5.0",
      "model_name": "HBoxModel",
      "state": {
       "children": [
        "IPY_MODEL_4eb1e140d5284327ad41b553e856c991",
        "IPY_MODEL_da98c1af9a6c4911bbcbf8d6f271acb4"
       ],
       "layout": "IPY_MODEL_7c219b8ff03d4267bdabd7eddf308930"
      }
     },
     "0db85a9b43da4aa39616c28d6ef93adc": {
      "model_module": "@jupyter-widgets/base",
      "model_module_version": "1.2.0",
      "model_name": "LayoutModel",
      "state": {}
     },
     "0dd0f943a0fd4935aa054b4e166fc163": {
      "model_module": "@jupyter-widgets/base",
      "model_module_version": "1.2.0",
      "model_name": "LayoutModel",
      "state": {}
     },
     "0e22f1a9b1f44388a8a1c6a41876f945": {
      "model_module": "@jupyter-widgets/base",
      "model_module_version": "1.2.0",
      "model_name": "LayoutModel",
      "state": {}
     },
     "0e34dcf6dc04424d98bbfd3cb94c65d3": {
      "model_module": "@jupyter-widgets/base",
      "model_module_version": "1.2.0",
      "model_name": "LayoutModel",
      "state": {}
     },
     "0eba7a0de75e4584bbd3eebdbdb734cf": {
      "model_module": "@jupyter-widgets/controls",
      "model_module_version": "1.5.0",
      "model_name": "ProgressStyleModel",
      "state": {
       "description_width": "initial"
      }
     },
     "0f4c47c90b5e47fcb321cee41b4d5f2b": {
      "model_module": "@jupyter-widgets/controls",
      "model_module_version": "1.5.0",
      "model_name": "ProgressStyleModel",
      "state": {
       "description_width": "initial"
      }
     },
     "0f771e03e5054e52a0aab2ae76b4c3b7": {
      "model_module": "@jupyter-widgets/controls",
      "model_module_version": "1.5.0",
      "model_name": "HBoxModel",
      "state": {
       "children": [
        "IPY_MODEL_cec745c4c1fa4a6b9e4e78b563642a9b",
        "IPY_MODEL_ca5db90a88bf49e789b5f736e07662a4"
       ],
       "layout": "IPY_MODEL_4f72344b9a33417185802a8dfcf2276b"
      }
     },
     "0f77b0764cf64cb587646112e43bad6c": {
      "model_module": "@jupyter-widgets/base",
      "model_module_version": "1.2.0",
      "model_name": "LayoutModel",
      "state": {}
     },
     "0facf0bc739948e8bcea01b24526a56e": {
      "model_module": "@jupyter-widgets/controls",
      "model_module_version": "1.5.0",
      "model_name": "DescriptionStyleModel",
      "state": {
       "description_width": ""
      }
     },
     "0fdabc62a2c749e8964c120b5ce54c57": {
      "model_module": "@jupyter-widgets/controls",
      "model_module_version": "1.5.0",
      "model_name": "HTMLModel",
      "state": {
       "layout": "IPY_MODEL_cd455496d08749ec9076731130505c99",
       "style": "IPY_MODEL_7a75803110be489791aac2dbb337a0ec",
       "value": " 35259/35259 [9:50:56&lt;00:00,  1.01s/it]"
      }
     },
     "10086204f8bb45698ac03df2bd77ac15": {
      "model_module": "@jupyter-widgets/controls",
      "model_module_version": "1.5.0",
      "model_name": "DescriptionStyleModel",
      "state": {
       "description_width": ""
      }
     },
     "1017788052fe4c4a8caaf2b3f0a7b93a": {
      "model_module": "@jupyter-widgets/controls",
      "model_module_version": "1.5.0",
      "model_name": "HTMLModel",
      "state": {
       "layout": "IPY_MODEL_a9fc3726711b493ab6039c7051651d41",
       "style": "IPY_MODEL_71f47be47ba04fdc9ae6fc6f0a771ff7",
       "value": " 35259/35259 [2:49:26&lt;00:00,  3.47it/s]"
      }
     },
     "102f7c1ef7504a779e071c0d32907ae2": {
      "model_module": "@jupyter-widgets/controls",
      "model_module_version": "1.5.0",
      "model_name": "HBoxModel",
      "state": {
       "children": [
        "IPY_MODEL_819978d3617a4b91934a956b90458437",
        "IPY_MODEL_4aa62e2acf224ea29e9545c636675c67"
       ],
       "layout": "IPY_MODEL_a333e94a65b94af8a169f17f7831b04b"
      }
     },
     "104eceed2eff44c9b6e0399de76b5b35": {
      "model_module": "@jupyter-widgets/base",
      "model_module_version": "1.2.0",
      "model_name": "LayoutModel",
      "state": {}
     },
     "105ad3ad227c4ffdab7597ddb4d527b0": {
      "model_module": "@jupyter-widgets/controls",
      "model_module_version": "1.5.0",
      "model_name": "HBoxModel",
      "state": {
       "children": [
        "IPY_MODEL_4a2ebc05425a4322b90188b5c454d1c4",
        "IPY_MODEL_47f33b225255499695d09ae608666a33"
       ],
       "layout": "IPY_MODEL_4d9c813a0b1641f7b5efdafac5cd4154"
      }
     },
     "1095190713c84f02b00d62aa8dedd950": {
      "model_module": "@jupyter-widgets/base",
      "model_module_version": "1.2.0",
      "model_name": "LayoutModel",
      "state": {}
     },
     "1096953c785d436d92f92a838d9fcace": {
      "model_module": "@jupyter-widgets/controls",
      "model_module_version": "1.5.0",
      "model_name": "FloatProgressModel",
      "state": {
       "bar_style": "success",
       "description": "Parsing dataset: 100%",
       "layout": "IPY_MODEL_1095190713c84f02b00d62aa8dedd950",
       "max": 373801,
       "style": "IPY_MODEL_d4fe9d183fb44912a6bcf825bfccc928",
       "value": 373801
      }
     },
     "10a68633b9334510b3bc82484751caa6": {
      "model_module": "@jupyter-widgets/controls",
      "model_module_version": "1.5.0",
      "model_name": "FloatProgressModel",
      "state": {
       "bar_style": "success",
       "description": "100%",
       "layout": "IPY_MODEL_f2d2f4a259f94ec8ba04dbb53ed81c4a",
       "max": 329155,
       "style": "IPY_MODEL_1fd23086cd8e404b86ba5de9421fd878",
       "value": 329155
      }
     },
     "112dc44aeaed4a6f891df48baef479f3": {
      "model_module": "@jupyter-widgets/controls",
      "model_module_version": "1.5.0",
      "model_name": "DescriptionStyleModel",
      "state": {
       "description_width": ""
      }
     },
     "11814a7c849e41feb9ba53a87142c975": {
      "model_module": "@jupyter-widgets/base",
      "model_module_version": "1.2.0",
      "model_name": "LayoutModel",
      "state": {}
     },
     "119952f40b0e4e9e986e2731e07d0f61": {
      "model_module": "@jupyter-widgets/base",
      "model_module_version": "1.2.0",
      "model_name": "LayoutModel",
      "state": {}
     },
     "11e136717b1747408a4aa2ae27e854f8": {
      "model_module": "@jupyter-widgets/base",
      "model_module_version": "1.2.0",
      "model_name": "LayoutModel",
      "state": {}
     },
     "120912b2d7354d3591bafc93411c20d0": {
      "model_module": "@jupyter-widgets/base",
      "model_module_version": "1.2.0",
      "model_name": "LayoutModel",
      "state": {}
     },
     "126336ccbd0d413698c05da625e416a5": {
      "model_module": "@jupyter-widgets/controls",
      "model_module_version": "1.5.0",
      "model_name": "HBoxModel",
      "state": {
       "children": [
        "IPY_MODEL_59b4f46bd2b643cdb32a7c421f4a21f2",
        "IPY_MODEL_13e3e74c2ded414880e6d9796bd86748"
       ],
       "layout": "IPY_MODEL_ef9d98ef53a3478f957fd048ef85e710"
      }
     },
     "12ccce72957e4e56b6cdad465c42fec2": {
      "model_module": "@jupyter-widgets/controls",
      "model_module_version": "1.5.0",
      "model_name": "ProgressStyleModel",
      "state": {
       "description_width": "initial"
      }
     },
     "1337df327ffd421d83b855c10413c175": {
      "model_module": "@jupyter-widgets/controls",
      "model_module_version": "1.5.0",
      "model_name": "FloatProgressModel",
      "state": {
       "bar_style": "success",
       "description": "100%",
       "layout": "IPY_MODEL_f32460cdf43e4e64a9de83c306a2f5fe",
       "max": 35259,
       "style": "IPY_MODEL_67a7a92337834ce88141c962b4c371ff",
       "value": 35259
      }
     },
     "134b7ad1d2da4f5da2f9a4798d5f35cd": {
      "model_module": "@jupyter-widgets/base",
      "model_module_version": "1.2.0",
      "model_name": "LayoutModel",
      "state": {}
     },
     "13e3e74c2ded414880e6d9796bd86748": {
      "model_module": "@jupyter-widgets/controls",
      "model_module_version": "1.5.0",
      "model_name": "HTMLModel",
      "state": {
       "layout": "IPY_MODEL_e179c8b2ae3842c1963df7e575e20d90",
       "style": "IPY_MODEL_bcde33af15d74526b88b390ed4d70d36",
       "value": " 35259/35259 [00:03&lt;00:00, 10025.49it/s]"
      }
     },
     "13ee242e9fca4d40b85784fa1791efc9": {
      "model_module": "@jupyter-widgets/controls",
      "model_module_version": "1.5.0",
      "model_name": "DescriptionStyleModel",
      "state": {
       "description_width": ""
      }
     },
     "13f199ba579b445bb4d5a231fc22cfdf": {
      "model_module": "@jupyter-widgets/controls",
      "model_module_version": "1.5.0",
      "model_name": "HTMLModel",
      "state": {
       "layout": "IPY_MODEL_d769bfd653a546cdb7ca354b08dbe0ea",
       "style": "IPY_MODEL_211f6db51b604ff792e366a173a9d90a",
       "value": " 565/329155 [00:54&lt;8:44:00, 10.45it/s]"
      }
     },
     "1421279fed51495bbc514cb871f217a6": {
      "model_module": "@jupyter-widgets/base",
      "model_module_version": "1.2.0",
      "model_name": "LayoutModel",
      "state": {}
     },
     "1454821b29b44632b53e4847d912f630": {
      "model_module": "@jupyter-widgets/base",
      "model_module_version": "1.2.0",
      "model_name": "LayoutModel",
      "state": {}
     },
     "14efd52e96304d889d2bd950c85cea50": {
      "model_module": "@jupyter-widgets/base",
      "model_module_version": "1.2.0",
      "model_name": "LayoutModel",
      "state": {}
     },
     "1501035e22f74c79b665a5b3493982aa": {
      "model_module": "@jupyter-widgets/base",
      "model_module_version": "1.2.0",
      "model_name": "LayoutModel",
      "state": {}
     },
     "15826db63275424e8314d0ad6dc2c6f1": {
      "model_module": "@jupyter-widgets/base",
      "model_module_version": "1.2.0",
      "model_name": "LayoutModel",
      "state": {}
     },
     "15ac550ad18a4b9caa9cb7c8246f789f": {
      "model_module": "@jupyter-widgets/controls",
      "model_module_version": "1.5.0",
      "model_name": "FloatProgressModel",
      "state": {
       "bar_style": "success",
       "description": "100%",
       "layout": "IPY_MODEL_35b1890552d5406bb23567cc38d657cd",
       "max": 35259,
       "style": "IPY_MODEL_47aaee114f1d4ea28e88466079ec2839",
       "value": 35259
      }
     },
     "15b453d25c3645e7814a4601094af332": {
      "model_module": "@jupyter-widgets/base",
      "model_module_version": "1.2.0",
      "model_name": "LayoutModel",
      "state": {}
     },
     "15d451ff12124c1886bb8048d8348fd4": {
      "model_module": "@jupyter-widgets/base",
      "model_module_version": "1.2.0",
      "model_name": "LayoutModel",
      "state": {}
     },
     "15d655d749c2455abb9b2d7998cefd11": {
      "model_module": "@jupyter-widgets/base",
      "model_module_version": "1.2.0",
      "model_name": "LayoutModel",
      "state": {}
     },
     "15d789df861c4889a87c7509a1df5852": {
      "model_module": "@jupyter-widgets/controls",
      "model_module_version": "1.5.0",
      "model_name": "ProgressStyleModel",
      "state": {
       "description_width": "initial"
      }
     },
     "162029af935b43fe858ec427114916e5": {
      "model_module": "@jupyter-widgets/controls",
      "model_module_version": "1.5.0",
      "model_name": "HTMLModel",
      "state": {
       "layout": "IPY_MODEL_a46718cdf055486b9d4e51da34ee2de1",
       "style": "IPY_MODEL_2948d9e3e4534b47b9908926e8a8c39d",
       "value": " 16310/329155 [06:19&lt;2:01:17, 42.99it/s]"
      }
     },
     "164585d4137343e78e4d74d3c7a2ede1": {
      "model_module": "@jupyter-widgets/controls",
      "model_module_version": "1.5.0",
      "model_name": "HBoxModel",
      "state": {
       "children": [
        "IPY_MODEL_78ef1191ca5a43a987573dd8470d931d",
        "IPY_MODEL_247bf54c495647fe91550ce52b62ec27"
       ],
       "layout": "IPY_MODEL_868af0b6a05d414b9cde07dc6928dcfc"
      }
     },
     "167ecc5ef93542ba9ef475a09518f9c8": {
      "model_module": "@jupyter-widgets/controls",
      "model_module_version": "1.5.0",
      "model_name": "HBoxModel",
      "state": {
       "children": [
        "IPY_MODEL_4fb59df9c2e04619a035f65a4e1328c0",
        "IPY_MODEL_482f1524b66f4580a26166e4c5d02b17"
       ],
       "layout": "IPY_MODEL_a5cc520d6a7249a1b5b59afd52f286e5"
      }
     },
     "16b8389af20841288e88a6406e5c6c55": {
      "model_module": "@jupyter-widgets/controls",
      "model_module_version": "1.5.0",
      "model_name": "FloatProgressModel",
      "state": {
       "bar_style": "success",
       "description": "100%",
       "layout": "IPY_MODEL_e9d4f42cbf624c90b6e4928d500f31c7",
       "max": 329155,
       "style": "IPY_MODEL_8789a87f7fef4f6980a7745edab68fda",
       "value": 329155
      }
     },
     "175e470806e24bb9bb8343997db76277": {
      "model_module": "@jupyter-widgets/controls",
      "model_module_version": "1.5.0",
      "model_name": "ProgressStyleModel",
      "state": {
       "description_width": "initial"
      }
     },
     "176700af5a0d49e7945b37722c12a2ac": {
      "model_module": "@jupyter-widgets/base",
      "model_module_version": "1.2.0",
      "model_name": "LayoutModel",
      "state": {}
     },
     "17f20939603042e09d4338a206008fa3": {
      "model_module": "@jupyter-widgets/base",
      "model_module_version": "1.2.0",
      "model_name": "LayoutModel",
      "state": {}
     },
     "1801ec91fed544bd92d5283506e9f5b0": {
      "model_module": "@jupyter-widgets/controls",
      "model_module_version": "1.5.0",
      "model_name": "FloatProgressModel",
      "state": {
       "bar_style": "success",
       "description": "100%",
       "layout": "IPY_MODEL_f1dd2f436a7b4661934e445b3e809600",
       "max": 329155,
       "style": "IPY_MODEL_6399710cb18143fdbbbe0b5498bcd25a",
       "value": 329155
      }
     },
     "182f29f95f4e4dee965453cfa3e10a59": {
      "model_module": "@jupyter-widgets/controls",
      "model_module_version": "1.5.0",
      "model_name": "HTMLModel",
      "state": {
       "layout": "IPY_MODEL_9dff9309be01473c9abf0583033da692",
       "style": "IPY_MODEL_509f955eee874075acc18e0146085fbf",
       "value": " 329155/329155 [10:03&lt;00:00, 545.00it/s]"
      }
     },
     "18e27ee605bc49d38871967618e4f5de": {
      "model_module": "@jupyter-widgets/controls",
      "model_module_version": "1.5.0",
      "model_name": "DescriptionStyleModel",
      "state": {
       "description_width": ""
      }
     },
     "191c29d73d54406eaa5ed1ee658df4b6": {
      "model_module": "@jupyter-widgets/controls",
      "model_module_version": "1.5.0",
      "model_name": "HTMLModel",
      "state": {
       "layout": "IPY_MODEL_027fc1323b744345ab4091296c611581",
       "style": "IPY_MODEL_05d29e34eebe4029b07730c618cd2c25",
       "value": " 329155/329155 [30:08&lt;00:00, 182.00it/s]"
      }
     },
     "19548f946c4e42988c5b1ad6761ae0bb": {
      "model_module": "@jupyter-widgets/controls",
      "model_module_version": "1.5.0",
      "model_name": "FloatProgressModel",
      "state": {
       "bar_style": "success",
       "description": "100%",
       "layout": "IPY_MODEL_9585d08ec20e4d1f9ae2535857019378",
       "max": 329155,
       "style": "IPY_MODEL_31fdb7f5c91847ab872aaa17fc991df0",
       "value": 329155
      }
     },
     "1afa429aa9b140c4b6a60fc082d6b3d2": {
      "model_module": "@jupyter-widgets/controls",
      "model_module_version": "1.5.0",
      "model_name": "DescriptionStyleModel",
      "state": {
       "description_width": ""
      }
     },
     "1b079fe4fffb46af884fcc777ac591c5": {
      "model_module": "@jupyter-widgets/base",
      "model_module_version": "1.2.0",
      "model_name": "LayoutModel",
      "state": {}
     },
     "1b455d5fd12648f3837f932357f564fc": {
      "model_module": "@jupyter-widgets/controls",
      "model_module_version": "1.5.0",
      "model_name": "DescriptionStyleModel",
      "state": {
       "description_width": ""
      }
     },
     "1b59f64169944683bada99ad56e35c44": {
      "model_module": "@jupyter-widgets/base",
      "model_module_version": "1.2.0",
      "model_name": "LayoutModel",
      "state": {}
     },
     "1b80bece9b52418e893f075fc0aac3b4": {
      "model_module": "@jupyter-widgets/controls",
      "model_module_version": "1.5.0",
      "model_name": "HBoxModel",
      "state": {
       "children": [
        "IPY_MODEL_27bb4489e84c4efe80fcb7d3ab9a8138",
        "IPY_MODEL_95c89da6e8924813b6b21e3a055af19b"
       ],
       "layout": "IPY_MODEL_b9d7470711ff4f53939cde2a1cead36d"
      }
     },
     "1c30728271194185ba7dc05a72912b72": {
      "model_module": "@jupyter-widgets/controls",
      "model_module_version": "1.5.0",
      "model_name": "ProgressStyleModel",
      "state": {
       "description_width": "initial"
      }
     },
     "1d6aaa2abdf0413e889ab3f3bc8d5a82": {
      "model_module": "@jupyter-widgets/base",
      "model_module_version": "1.2.0",
      "model_name": "LayoutModel",
      "state": {}
     },
     "1df0358d488d4938b52fbd6d7d6ddbfb": {
      "model_module": "@jupyter-widgets/controls",
      "model_module_version": "1.5.0",
      "model_name": "FloatProgressModel",
      "state": {
       "bar_style": "danger",
       "description": "  4%",
       "layout": "IPY_MODEL_26864b71a1844b5e9e4710f5d2a1733d",
       "max": 329155,
       "style": "IPY_MODEL_878e5bfffa79451c875ac6a145e4b9df",
       "value": 13988
      }
     },
     "1e16e0c7570340bba7db657a02b32614": {
      "model_module": "@jupyter-widgets/base",
      "model_module_version": "1.2.0",
      "model_name": "LayoutModel",
      "state": {}
     },
     "1e5348b586bb4a84858e557a51538520": {
      "model_module": "@jupyter-widgets/controls",
      "model_module_version": "1.5.0",
      "model_name": "DescriptionStyleModel",
      "state": {
       "description_width": ""
      }
     },
     "1e55b289a3134ce28c93d9dfed4a3e6c": {
      "model_module": "@jupyter-widgets/controls",
      "model_module_version": "1.5.0",
      "model_name": "HBoxModel",
      "state": {
       "children": [
        "IPY_MODEL_46a88061842249b18ce1f6ab2ba9740c",
        "IPY_MODEL_4e8e998be4f4432c898c2604203cf15e"
       ],
       "layout": "IPY_MODEL_291d49f3ca074631a837fcb55478cfdd"
      }
     },
     "1e82bab42bda4c69b8e330349201ab49": {
      "model_module": "@jupyter-widgets/base",
      "model_module_version": "1.2.0",
      "model_name": "LayoutModel",
      "state": {}
     },
     "1e86c5ae5b2042d78635c3de103b6056": {
      "model_module": "@jupyter-widgets/base",
      "model_module_version": "1.2.0",
      "model_name": "LayoutModel",
      "state": {}
     },
     "1e9e757aa1794e708b8eac513adab5b5": {
      "model_module": "@jupyter-widgets/controls",
      "model_module_version": "1.5.0",
      "model_name": "FloatProgressModel",
      "state": {
       "bar_style": "danger",
       "description": " 10%",
       "layout": "IPY_MODEL_8a0f0c98707d4e16b2a52f4288a1b7ef",
       "max": 35259,
       "style": "IPY_MODEL_3b4919b7c600433384e2fa50641ef783",
       "value": 3574
      }
     },
     "1f0127b6b423496695499409231802b7": {
      "model_module": "@jupyter-widgets/controls",
      "model_module_version": "1.5.0",
      "model_name": "HTMLModel",
      "state": {
       "layout": "IPY_MODEL_959c2406d9844b06a6098a3fc4daf483",
       "style": "IPY_MODEL_e1198acf516e42eeac3c98b996fb1474",
       "value": " 329155/329155 [20:11&lt;00:00, 271.60it/s]"
      }
     },
     "1f681913a42d4bd19d1644632d7cfff2": {
      "model_module": "@jupyter-widgets/base",
      "model_module_version": "1.2.0",
      "model_name": "LayoutModel",
      "state": {}
     },
     "1fd23086cd8e404b86ba5de9421fd878": {
      "model_module": "@jupyter-widgets/controls",
      "model_module_version": "1.5.0",
      "model_name": "ProgressStyleModel",
      "state": {
       "description_width": "initial"
      }
     },
     "1fd721984782400b90b5bac504e0c900": {
      "model_module": "@jupyter-widgets/controls",
      "model_module_version": "1.5.0",
      "model_name": "DescriptionStyleModel",
      "state": {
       "description_width": ""
      }
     },
     "2068f72d95544d8ba012daa477f9fa54": {
      "model_module": "@jupyter-widgets/controls",
      "model_module_version": "1.5.0",
      "model_name": "DescriptionStyleModel",
      "state": {
       "description_width": ""
      }
     },
     "2071d2e911c54a0d8b30335270dcab1f": {
      "model_module": "@jupyter-widgets/controls",
      "model_module_version": "1.5.0",
      "model_name": "HTMLModel",
      "state": {
       "layout": "IPY_MODEL_86ae1cb3f66a4f00871fdf0a184287ec",
       "style": "IPY_MODEL_96f7dc60ed534fc28ae429368058e60f",
       "value": " 24694/329155 [01:01&lt;12:34, 403.42it/s]"
      }
     },
     "20bb4a45905d4eafbe99482e959779f6": {
      "model_module": "@jupyter-widgets/controls",
      "model_module_version": "1.5.0",
      "model_name": "FloatProgressModel",
      "state": {
       "bar_style": "success",
       "description": "100%",
       "layout": "IPY_MODEL_da7714d28a674af69acc352840982ab9",
       "max": 329155,
       "style": "IPY_MODEL_4a9cb01b38a549ee9fcd6a468ea9b0c5",
       "value": 329155
      }
     },
     "211f6db51b604ff792e366a173a9d90a": {
      "model_module": "@jupyter-widgets/controls",
      "model_module_version": "1.5.0",
      "model_name": "DescriptionStyleModel",
      "state": {
       "description_width": ""
      }
     },
     "21246cbaa2394f91b910996a69399f3b": {
      "model_module": "@jupyter-widgets/controls",
      "model_module_version": "1.5.0",
      "model_name": "HBoxModel",
      "state": {
       "children": [
        "IPY_MODEL_a4c880cd1b6844f3b166c44a0bb7a0ef",
        "IPY_MODEL_dfa9601ca01a45c8b16a206bc7499d33"
       ],
       "layout": "IPY_MODEL_5e664a00b0de4befb2fc051e0e60bf63"
      }
     },
     "2135fb7d5972404d89d32588c856e1ae": {
      "model_module": "@jupyter-widgets/controls",
      "model_module_version": "1.5.0",
      "model_name": "ProgressStyleModel",
      "state": {
       "description_width": "initial"
      }
     },
     "21634d70e2e94efeb7e990deb0f65c4c": {
      "model_module": "@jupyter-widgets/controls",
      "model_module_version": "1.5.0",
      "model_name": "HBoxModel",
      "state": {
       "children": [
        "IPY_MODEL_5ca2636fcda64fc085490c441b82dd10",
        "IPY_MODEL_5610242e7fff42f6b72385cd80fb8eb1"
       ],
       "layout": "IPY_MODEL_b14446e9946840c688818ee6d0ea825e"
      }
     },
     "21dbdf0bee194110b2fa5b6c1cdcb602": {
      "model_module": "@jupyter-widgets/base",
      "model_module_version": "1.2.0",
      "model_name": "LayoutModel",
      "state": {}
     },
     "2249d832f7544f6587def0e6b41bdcc5": {
      "model_module": "@jupyter-widgets/base",
      "model_module_version": "1.2.0",
      "model_name": "LayoutModel",
      "state": {}
     },
     "22a8f8d8dbc84a0c86e6a45bc2969dec": {
      "model_module": "@jupyter-widgets/controls",
      "model_module_version": "1.5.0",
      "model_name": "DescriptionStyleModel",
      "state": {
       "description_width": ""
      }
     },
     "22fa5298d09040d0ab0829e6ce7da831": {
      "model_module": "@jupyter-widgets/controls",
      "model_module_version": "1.5.0",
      "model_name": "DescriptionStyleModel",
      "state": {
       "description_width": ""
      }
     },
     "23037a5993b54ef2b0387a2a746f4ebe": {
      "model_module": "@jupyter-widgets/controls",
      "model_module_version": "1.5.0",
      "model_name": "FloatProgressModel",
      "state": {
       "bar_style": "success",
       "description": "Reading word vectors: 100%",
       "layout": "IPY_MODEL_beb2bc606f5d4866ad541e0c955757f5",
       "max": 4027169,
       "style": "IPY_MODEL_94847ae1e07c40009b54fd10dbed2ec1",
       "value": 4027169
      }
     },
     "2379b9b752d54e258e2ed12c421db85c": {
      "model_module": "@jupyter-widgets/controls",
      "model_module_version": "1.5.0",
      "model_name": "HBoxModel",
      "state": {
       "children": [
        "IPY_MODEL_edf4a3bc346441d8b4ce186005ab94c0",
        "IPY_MODEL_aa0862787e394b14a75935a3ec59201e"
       ],
       "layout": "IPY_MODEL_a9d0b92ad0a34e2591cebdb6922c8c4a"
      }
     },
     "23f34996f4d24cef9ce3775655733660": {
      "model_module": "@jupyter-widgets/controls",
      "model_module_version": "1.5.0",
      "model_name": "HBoxModel",
      "state": {
       "children": [
        "IPY_MODEL_6e7f31b868c0442eb448ed062ba2b52d",
        "IPY_MODEL_5667195bdffc4775b634c36b00820a08"
       ],
       "layout": "IPY_MODEL_5c1b75a2e36c41e4b6b0a3b2ca792430"
      }
     },
     "2458bcc1dedd421c86a2276a3fe48f14": {
      "model_module": "@jupyter-widgets/controls",
      "model_module_version": "1.5.0",
      "model_name": "HTMLModel",
      "state": {
       "layout": "IPY_MODEL_3e1ed323f05d463c8c2fada260199137",
       "style": "IPY_MODEL_d81c7f5095d54c98b51057a9cb3ec81f",
       "value": " 4027169/4027169 [02:21&lt;00:00, 28502.98it/s]"
      }
     },
     "2464c33c65c540ac8bc620b709c05853": {
      "model_module": "@jupyter-widgets/base",
      "model_module_version": "1.2.0",
      "model_name": "LayoutModel",
      "state": {}
     },
     "247bf54c495647fe91550ce52b62ec27": {
      "model_module": "@jupyter-widgets/controls",
      "model_module_version": "1.5.0",
      "model_name": "HTMLModel",
      "state": {
       "layout": "IPY_MODEL_4ab44f34931445549fe6f76f19d4da71",
       "style": "IPY_MODEL_55e03f11cb0b46928aa148f47dd6a182",
       "value": " 27311/329155 [02:21&lt;26:05, 192.80it/s]"
      }
     },
     "24b7f3d45c8248e8bb78f5c261c2b77e": {
      "model_module": "@jupyter-widgets/controls",
      "model_module_version": "1.5.0",
      "model_name": "HTMLModel",
      "state": {
       "layout": "IPY_MODEL_a822226523b841b9b130586cb17ecdfc",
       "style": "IPY_MODEL_4686de9e3d994dea92fb15f9fc509001",
       "value": " 329155/329155 [40:12&lt;00:00, 136.41it/s]"
      }
     },
     "24e1a8255149444eb9edd78ed2c40ef2": {
      "model_module": "@jupyter-widgets/base",
      "model_module_version": "1.2.0",
      "model_name": "LayoutModel",
      "state": {}
     },
     "2558db8aa2284e048df26f71cfba1b68": {
      "model_module": "@jupyter-widgets/controls",
      "model_module_version": "1.5.0",
      "model_name": "HTMLModel",
      "state": {
       "layout": "IPY_MODEL_e0f94e0b88a94b0b982ab408034254f8",
       "style": "IPY_MODEL_22fa5298d09040d0ab0829e6ce7da831",
       "value": " 329155/329155 [20:08&lt;00:00, 272.46it/s]"
      }
     },
     "256455a20d1a4c3f8fb13c64d3199bc8": {
      "model_module": "@jupyter-widgets/controls",
      "model_module_version": "1.5.0",
      "model_name": "FloatProgressModel",
      "state": {
       "bar_style": "success",
       "description": "100%",
       "layout": "IPY_MODEL_ac92ffbebc7f4b6cbd84df8bdc64ae21",
       "max": 329155,
       "style": "IPY_MODEL_ec3668a4ed27411391b7da45b85a1174",
       "value": 329155
      }
     },
     "2581087f8494489d9c88900570bde0af": {
      "model_module": "@jupyter-widgets/controls",
      "model_module_version": "1.5.0",
      "model_name": "DescriptionStyleModel",
      "state": {
       "description_width": ""
      }
     },
     "259c14fda6a5433aba7a21bc814fab6b": {
      "model_module": "@jupyter-widgets/controls",
      "model_module_version": "1.5.0",
      "model_name": "FloatProgressModel",
      "state": {
       "bar_style": "success",
       "description": "100%",
       "layout": "IPY_MODEL_17f20939603042e09d4338a206008fa3",
       "max": 329155,
       "style": "IPY_MODEL_fc8dd170c65c469391ed174bc830e888",
       "value": 329155
      }
     },
     "26280a698ac04e45ba711f7cdd04af71": {
      "model_module": "@jupyter-widgets/controls",
      "model_module_version": "1.5.0",
      "model_name": "HTMLModel",
      "state": {
       "layout": "IPY_MODEL_3948fe5a561f4ac19219a0749fac07c6",
       "style": "IPY_MODEL_1afa429aa9b140c4b6a60fc082d6b3d2",
       "value": " 329155/329155 [20:05&lt;00:00, 273.03it/s]"
      }
     },
     "263ddf2ab88f4658b393fda7cba7f936": {
      "model_module": "@jupyter-widgets/controls",
      "model_module_version": "1.5.0",
      "model_name": "HTMLModel",
      "state": {
       "layout": "IPY_MODEL_88f08c424aed481f9f148f17a3396c38",
       "style": "IPY_MODEL_300f964c9d7d49b8b780e1e351210387",
       "value": " 25651/329155 [00:46&lt;09:07, 554.38it/s]"
      }
     },
     "26864b71a1844b5e9e4710f5d2a1733d": {
      "model_module": "@jupyter-widgets/base",
      "model_module_version": "1.2.0",
      "model_name": "LayoutModel",
      "state": {}
     },
     "26c6277b769a40179f715740c9bd66ae": {
      "model_module": "@jupyter-widgets/base",
      "model_module_version": "1.2.0",
      "model_name": "LayoutModel",
      "state": {}
     },
     "26ece60eb54f4c5dadfb63e43fd46780": {
      "model_module": "@jupyter-widgets/controls",
      "model_module_version": "1.5.0",
      "model_name": "FloatProgressModel",
      "state": {
       "bar_style": "success",
       "description": "100%",
       "layout": "IPY_MODEL_2ba923af907448f58cdc04b356e1509a",
       "max": 35259,
       "style": "IPY_MODEL_dfb91a394b4d41248359bfa90f86af18",
       "value": 35259
      }
     },
     "275787625e3f4b0dba7736578b4c14e7": {
      "model_module": "@jupyter-widgets/controls",
      "model_module_version": "1.5.0",
      "model_name": "HTMLModel",
      "state": {
       "layout": "IPY_MODEL_2a88c4257c8049a5a66aa5f313ac1417",
       "style": "IPY_MODEL_d4ebf003cb284446ac243f4121fc3598",
       "value": " 329155/329155 [12:51&lt;00:00, 426.79it/s]"
      }
     },
     "276b04f9554246a2b3842915172eba91": {
      "model_module": "@jupyter-widgets/controls",
      "model_module_version": "1.5.0",
      "model_name": "HBoxModel",
      "state": {
       "children": [
        "IPY_MODEL_66b1082a37cf4c608e33ea46241d6507",
        "IPY_MODEL_3a94f6ea53f649769951c22f66532100"
       ],
       "layout": "IPY_MODEL_6d1d98cdaae446bbaa5b3fd2062bd7bc"
      }
     },
     "276ecd6d12064ed7918985167e564b6c": {
      "model_module": "@jupyter-widgets/controls",
      "model_module_version": "1.5.0",
      "model_name": "DescriptionStyleModel",
      "state": {
       "description_width": ""
      }
     },
     "27a60e6fde7845f1a05d30d0c712e92c": {
      "model_module": "@jupyter-widgets/controls",
      "model_module_version": "1.5.0",
      "model_name": "FloatProgressModel",
      "state": {
       "bar_style": "success",
       "description": "100%",
       "layout": "IPY_MODEL_1454821b29b44632b53e4847d912f630",
       "max": 4,
       "style": "IPY_MODEL_d0f8b3a348c84196a7dfe9e52c8c4348",
       "value": 4
      }
     },
     "27bb4489e84c4efe80fcb7d3ab9a8138": {
      "model_module": "@jupyter-widgets/controls",
      "model_module_version": "1.5.0",
      "model_name": "FloatProgressModel",
      "state": {
       "bar_style": "success",
       "description": "100%",
       "layout": "IPY_MODEL_15b453d25c3645e7814a4601094af332",
       "max": 329155,
       "style": "IPY_MODEL_b62fd37a25144ef3926d9adc20fcf1e6",
       "value": 329155
      }
     },
     "27c528c48b114d2ebf525b8231779787": {
      "model_module": "@jupyter-widgets/controls",
      "model_module_version": "1.5.0",
      "model_name": "DescriptionStyleModel",
      "state": {
       "description_width": ""
      }
     },
     "28147bd5c4e04729aafc321f154f86a4": {
      "model_module": "@jupyter-widgets/controls",
      "model_module_version": "1.5.0",
      "model_name": "DescriptionStyleModel",
      "state": {
       "description_width": ""
      }
     },
     "282fe79028364252bef4e146f57fa0b5": {
      "model_module": "@jupyter-widgets/base",
      "model_module_version": "1.2.0",
      "model_name": "LayoutModel",
      "state": {}
     },
     "28c360a8615740c9b40f938ef3b50603": {
      "model_module": "@jupyter-widgets/base",
      "model_module_version": "1.2.0",
      "model_name": "LayoutModel",
      "state": {}
     },
     "291d49f3ca074631a837fcb55478cfdd": {
      "model_module": "@jupyter-widgets/base",
      "model_module_version": "1.2.0",
      "model_name": "LayoutModel",
      "state": {}
     },
     "2948d9e3e4534b47b9908926e8a8c39d": {
      "model_module": "@jupyter-widgets/controls",
      "model_module_version": "1.5.0",
      "model_name": "DescriptionStyleModel",
      "state": {
       "description_width": ""
      }
     },
     "299cffb0bc5e46f6a57c17395781cbad": {
      "model_module": "@jupyter-widgets/base",
      "model_module_version": "1.2.0",
      "model_name": "LayoutModel",
      "state": {}
     },
     "29e6de6e0810474db2ccc6c7d53650ed": {
      "model_module": "@jupyter-widgets/controls",
      "model_module_version": "1.5.0",
      "model_name": "HTMLModel",
      "state": {
       "layout": "IPY_MODEL_571acf3dad1c4980b9e781794144906e",
       "style": "IPY_MODEL_810a23b43e8b49059933931046502273",
       "value": " 329155/329155 [20:07&lt;00:00, 272.63it/s]"
      }
     },
     "2a88c4257c8049a5a66aa5f313ac1417": {
      "model_module": "@jupyter-widgets/base",
      "model_module_version": "1.2.0",
      "model_name": "LayoutModel",
      "state": {}
     },
     "2b02f49bf71648379cf8767afdac857e": {
      "model_module": "@jupyter-widgets/controls",
      "model_module_version": "1.5.0",
      "model_name": "HBoxModel",
      "state": {
       "children": [
        "IPY_MODEL_dae9df914dc34b4cbe7895e991573609",
        "IPY_MODEL_cee9ffdef88a42209b9bf6f68ffae04e"
       ],
       "layout": "IPY_MODEL_060676cebbf540e3a064a313d73645f9"
      }
     },
     "2b0b936447a941b4923343419e3c35fa": {
      "model_module": "@jupyter-widgets/controls",
      "model_module_version": "1.5.0",
      "model_name": "HBoxModel",
      "state": {
       "children": [
        "IPY_MODEL_6834ec0fadc049c0be9ddd4a61bc6102",
        "IPY_MODEL_b95f1e647d2b4bd8b2b2468b56729e04"
       ],
       "layout": "IPY_MODEL_08828feafc5547efb998578352cc4ad7"
      }
     },
     "2b1f52998ba44d7fb15f5a3f3077c9fd": {
      "model_module": "@jupyter-widgets/controls",
      "model_module_version": "1.5.0",
      "model_name": "ProgressStyleModel",
      "state": {
       "description_width": "initial"
      }
     },
     "2b2914af9b944bc8b79feaf582daf16d": {
      "model_module": "@jupyter-widgets/base",
      "model_module_version": "1.2.0",
      "model_name": "LayoutModel",
      "state": {}
     },
     "2b3dafde1a2245f4b4cb96eb831defee": {
      "model_module": "@jupyter-widgets/base",
      "model_module_version": "1.2.0",
      "model_name": "LayoutModel",
      "state": {}
     },
     "2b576fd21c8b4818b23fcafdd10c7608": {
      "model_module": "@jupyter-widgets/base",
      "model_module_version": "1.2.0",
      "model_name": "LayoutModel",
      "state": {}
     },
     "2ba923af907448f58cdc04b356e1509a": {
      "model_module": "@jupyter-widgets/base",
      "model_module_version": "1.2.0",
      "model_name": "LayoutModel",
      "state": {}
     },
     "2c0d62b9f54f4799ba62f08840236d26": {
      "model_module": "@jupyter-widgets/controls",
      "model_module_version": "1.5.0",
      "model_name": "ProgressStyleModel",
      "state": {
       "description_width": "initial"
      }
     },
     "2c1f7cd5e3d54f01a05f6419865eab22": {
      "model_module": "@jupyter-widgets/base",
      "model_module_version": "1.2.0",
      "model_name": "LayoutModel",
      "state": {}
     },
     "2c4dc3ab1e3e4020ad78d2f9128aaf8f": {
      "model_module": "@jupyter-widgets/controls",
      "model_module_version": "1.5.0",
      "model_name": "ProgressStyleModel",
      "state": {
       "description_width": "initial"
      }
     },
     "2c87b9ecc24246c3ae3046c72b6f3461": {
      "model_module": "@jupyter-widgets/controls",
      "model_module_version": "1.5.0",
      "model_name": "HTMLModel",
      "state": {
       "layout": "IPY_MODEL_28c360a8615740c9b40f938ef3b50603",
       "style": "IPY_MODEL_79d209a09bb745dd9f1c52ce0f4ecf1c",
       "value": " 329155/329155 [10:06&lt;00:00, 542.47it/s]"
      }
     },
     "2c8c698fc84f4071a1ed3f60c267cde7": {
      "model_module": "@jupyter-widgets/base",
      "model_module_version": "1.2.0",
      "model_name": "LayoutModel",
      "state": {}
     },
     "2cd02d9bcab54e17acdf99223b1417b4": {
      "model_module": "@jupyter-widgets/controls",
      "model_module_version": "1.5.0",
      "model_name": "HTMLModel",
      "state": {
       "layout": "IPY_MODEL_0e34dcf6dc04424d98bbfd3cb94c65d3",
       "style": "IPY_MODEL_112dc44aeaed4a6f891df48baef479f3",
       "value": " 329155/329155 [24:11&lt;00:00, 226.84it/s]"
      }
     },
     "2d44c095cd7e4fb29842baa6dbc3167a": {
      "model_module": "@jupyter-widgets/base",
      "model_module_version": "1.2.0",
      "model_name": "LayoutModel",
      "state": {}
     },
     "2e2e395744b74a7b901e54157c0a24d8": {
      "model_module": "@jupyter-widgets/controls",
      "model_module_version": "1.5.0",
      "model_name": "HBoxModel",
      "state": {
       "children": [
        "IPY_MODEL_750aa77fc7744179a338f5cb64b6137a",
        "IPY_MODEL_37a20cf849b74547a6d3e6c0e49a444e"
       ],
       "layout": "IPY_MODEL_444accfaef3b40059f10b475514422a6"
      }
     },
     "2e8099a95e69457c8a9be80e2d26b052": {
      "model_module": "@jupyter-widgets/controls",
      "model_module_version": "1.5.0",
      "model_name": "FloatProgressModel",
      "state": {
       "bar_style": "success",
       "description": "100%",
       "layout": "IPY_MODEL_15d451ff12124c1886bb8048d8348fd4",
       "max": 329155,
       "style": "IPY_MODEL_01ab13a079c14296953132a843d87cfb",
       "value": 329155
      }
     },
     "2e9c1411ba2e42deaffd6ba6aa3f5be2": {
      "model_module": "@jupyter-widgets/controls",
      "model_module_version": "1.5.0",
      "model_name": "HBoxModel",
      "state": {
       "children": [
        "IPY_MODEL_3057663533604a95aaf76c7f2f6c6ee6",
        "IPY_MODEL_3cc8f9dafc4841a5ae7decf114fe8185"
       ],
       "layout": "IPY_MODEL_ab39f0fabb2b4b20849d25373d019aef"
      }
     },
     "2f08b3ca2ece4640aa208bd3c4f69a4b": {
      "model_module": "@jupyter-widgets/controls",
      "model_module_version": "1.5.0",
      "model_name": "ProgressStyleModel",
      "state": {
       "description_width": "initial"
      }
     },
     "2f1e805b2ceb482e89be9e6400d721a0": {
      "model_module": "@jupyter-widgets/base",
      "model_module_version": "1.2.0",
      "model_name": "LayoutModel",
      "state": {}
     },
     "2f48cfdb5127404b97616a546722b2a2": {
      "model_module": "@jupyter-widgets/controls",
      "model_module_version": "1.5.0",
      "model_name": "DescriptionStyleModel",
      "state": {
       "description_width": ""
      }
     },
     "2f9947a1b9c44f1d978b9402d4bcd3b3": {
      "model_module": "@jupyter-widgets/base",
      "model_module_version": "1.2.0",
      "model_name": "LayoutModel",
      "state": {}
     },
     "300f964c9d7d49b8b780e1e351210387": {
      "model_module": "@jupyter-widgets/controls",
      "model_module_version": "1.5.0",
      "model_name": "DescriptionStyleModel",
      "state": {
       "description_width": ""
      }
     },
     "304e6892cf2340bfa7cc14f1c7acd1d4": {
      "model_module": "@jupyter-widgets/base",
      "model_module_version": "1.2.0",
      "model_name": "LayoutModel",
      "state": {}
     },
     "3057663533604a95aaf76c7f2f6c6ee6": {
      "model_module": "@jupyter-widgets/controls",
      "model_module_version": "1.5.0",
      "model_name": "FloatProgressModel",
      "state": {
       "bar_style": "success",
       "description": "100%",
       "layout": "IPY_MODEL_f39682361cd040878e7b712355562fff",
       "max": 329155,
       "style": "IPY_MODEL_f3afe4cade2f406c9d3be938c724fe90",
       "value": 329155
      }
     },
     "30d0d8938774482f93305ac40648d851": {
      "model_module": "@jupyter-widgets/base",
      "model_module_version": "1.2.0",
      "model_name": "LayoutModel",
      "state": {}
     },
     "314c530a8f44459a90d770bf98943d2c": {
      "model_module": "@jupyter-widgets/controls",
      "model_module_version": "1.5.0",
      "model_name": "FloatProgressModel",
      "state": {
       "bar_style": "success",
       "description": "100%",
       "layout": "IPY_MODEL_4d47887fb7df478e8c5e45ebf5e8e0eb",
       "max": 35259,
       "style": "IPY_MODEL_ab3284bbe0fd412196126d746109684c",
       "value": 35259
      }
     },
     "31fdb7f5c91847ab872aaa17fc991df0": {
      "model_module": "@jupyter-widgets/controls",
      "model_module_version": "1.5.0",
      "model_name": "ProgressStyleModel",
      "state": {
       "description_width": "initial"
      }
     },
     "325fd351bbbd45d08e86ed898292473d": {
      "model_module": "@jupyter-widgets/controls",
      "model_module_version": "1.5.0",
      "model_name": "FloatProgressModel",
      "state": {
       "bar_style": "success",
       "description": "Reading word vectors: 100%",
       "layout": "IPY_MODEL_f8d510bc2b9f4e81aef766107257acb5",
       "max": 4027169,
       "style": "IPY_MODEL_0f4c47c90b5e47fcb321cee41b4d5f2b",
       "value": 4027169
      }
     },
     "327103274d7d42a2a6d0a2eab8a255bb": {
      "model_module": "@jupyter-widgets/controls",
      "model_module_version": "1.5.0",
      "model_name": "ProgressStyleModel",
      "state": {
       "description_width": "initial"
      }
     },
     "32a700e53c1c4980af9cab1e120059f6": {
      "model_module": "@jupyter-widgets/base",
      "model_module_version": "1.2.0",
      "model_name": "LayoutModel",
      "state": {}
     },
     "32dab3bc4e074bd6a52a8b2ec8c9a1e8": {
      "model_module": "@jupyter-widgets/base",
      "model_module_version": "1.2.0",
      "model_name": "LayoutModel",
      "state": {}
     },
     "32e6386e78b94c92a61b0e8729c2bc3f": {
      "model_module": "@jupyter-widgets/controls",
      "model_module_version": "1.5.0",
      "model_name": "HTMLModel",
      "state": {
       "layout": "IPY_MODEL_f735436bb0074ef4ba0f365a74437765",
       "style": "IPY_MODEL_f044096517e042debc00fbfc7135a3e8",
       "value": " 329155/329155 [18:08&lt;00:00, 302.37it/s]"
      }
     },
     "3321c4fc583345819db238440637b99a": {
      "model_module": "@jupyter-widgets/base",
      "model_module_version": "1.2.0",
      "model_name": "LayoutModel",
      "state": {}
     },
     "33f5b974f4bd4f68b5f3616fb6cc8a99": {
      "model_module": "@jupyter-widgets/base",
      "model_module_version": "1.2.0",
      "model_name": "LayoutModel",
      "state": {}
     },
     "3400369b448f4c21822003b36034f831": {
      "model_module": "@jupyter-widgets/controls",
      "model_module_version": "1.5.0",
      "model_name": "FloatProgressModel",
      "state": {
       "bar_style": "success",
       "description": "100%",
       "layout": "IPY_MODEL_bea1f13f4fab4a089423f1f3dc2dedbb",
       "max": 35259,
       "style": "IPY_MODEL_cd9c4fea3d0c45a3923a93c9d3952763",
       "value": 35259
      }
     },
     "343e8b445c1e471ab47db7bbaf52ad85": {
      "model_module": "@jupyter-widgets/controls",
      "model_module_version": "1.5.0",
      "model_name": "FloatProgressModel",
      "state": {
       "bar_style": "success",
       "description": "100%",
       "layout": "IPY_MODEL_7c02a265fbe149d1a362dbb0b74441e0",
       "max": 329155,
       "style": "IPY_MODEL_f00ed8bb01784261b8359f74cc21fd03",
       "value": 329155
      }
     },
     "348224c80bd44b4aa239cf75d092e21e": {
      "model_module": "@jupyter-widgets/controls",
      "model_module_version": "1.5.0",
      "model_name": "FloatProgressModel",
      "state": {
       "bar_style": "danger",
       "description": "  0%",
       "layout": "IPY_MODEL_53f8c2e045234c7090b70d8e2f492dfd",
       "max": 329155,
       "style": "IPY_MODEL_d0c87b7d64aa4264afa609dea83585cc",
       "value": 565
      }
     },
     "348a7aa10f5e428fbf1290211237b78e": {
      "model_module": "@jupyter-widgets/controls",
      "model_module_version": "1.5.0",
      "model_name": "DescriptionStyleModel",
      "state": {
       "description_width": ""
      }
     },
     "34d4504eb5364da2b206e81ddd0eb78b": {
      "model_module": "@jupyter-widgets/base",
      "model_module_version": "1.2.0",
      "model_name": "LayoutModel",
      "state": {}
     },
     "3502ef9693ed4a5899590abc88c9acbc": {
      "model_module": "@jupyter-widgets/controls",
      "model_module_version": "1.5.0",
      "model_name": "DescriptionStyleModel",
      "state": {
       "description_width": ""
      }
     },
     "35b1890552d5406bb23567cc38d657cd": {
      "model_module": "@jupyter-widgets/base",
      "model_module_version": "1.2.0",
      "model_name": "LayoutModel",
      "state": {}
     },
     "35d714ac585e4cd797d0436d451441eb": {
      "model_module": "@jupyter-widgets/controls",
      "model_module_version": "1.5.0",
      "model_name": "ProgressStyleModel",
      "state": {
       "description_width": "initial"
      }
     },
     "36e4f7894931460da7b532f185554c01": {
      "model_module": "@jupyter-widgets/controls",
      "model_module_version": "1.5.0",
      "model_name": "HBoxModel",
      "state": {
       "children": [
        "IPY_MODEL_3c5e14ef9eba488f87b855e177b34ef2",
        "IPY_MODEL_3feb8d5aa7a643f4a34ee7a61dfaa37b"
       ],
       "layout": "IPY_MODEL_a1efad2c7b214b34838ab088ae30b7ce"
      }
     },
     "3753070638cf4f969b327a4e51a1c5ba": {
      "model_module": "@jupyter-widgets/base",
      "model_module_version": "1.2.0",
      "model_name": "LayoutModel",
      "state": {}
     },
     "37568c3a855b457c94d4f6c42e37ad07": {
      "model_module": "@jupyter-widgets/controls",
      "model_module_version": "1.5.0",
      "model_name": "HBoxModel",
      "state": {
       "children": [
        "IPY_MODEL_53a000bcb1f14826a5aca7e20c977de6",
        "IPY_MODEL_949a56c7085144bcb85663b0224dd454"
       ],
       "layout": "IPY_MODEL_7750c7f1539a4e8695931044dd6c04a2"
      }
     },
     "37603f02fa2b4cf3874e2b7724364035": {
      "model_module": "@jupyter-widgets/controls",
      "model_module_version": "1.5.0",
      "model_name": "ProgressStyleModel",
      "state": {
       "description_width": "initial"
      }
     },
     "37a20cf849b74547a6d3e6c0e49a444e": {
      "model_module": "@jupyter-widgets/controls",
      "model_module_version": "1.5.0",
      "model_name": "HTMLModel",
      "state": {
       "layout": "IPY_MODEL_1b079fe4fffb46af884fcc777ac591c5",
       "style": "IPY_MODEL_805fcd9805c64bbb945f3d36d07bb4ae",
       "value": " 0/329155 [00:39&lt;?, ?it/s]"
      }
     },
     "37c7dbe58b304abe801a917f6ef59ec5": {
      "model_module": "@jupyter-widgets/base",
      "model_module_version": "1.2.0",
      "model_name": "LayoutModel",
      "state": {}
     },
     "3948fe5a561f4ac19219a0749fac07c6": {
      "model_module": "@jupyter-widgets/base",
      "model_module_version": "1.2.0",
      "model_name": "LayoutModel",
      "state": {}
     },
     "3a092c99d7b54af19fa56c48967be6eb": {
      "model_module": "@jupyter-widgets/controls",
      "model_module_version": "1.5.0",
      "model_name": "HTMLModel",
      "state": {
       "layout": "IPY_MODEL_6e0de656a9424a7b8a855151527c05da",
       "style": "IPY_MODEL_704cc9161250416c90ec7795cce425dd",
       "value": " 35259/35259 [16:11&lt;00:00, 36.30it/s]"
      }
     },
     "3a42d73a411c4b05b4db01ce5468da96": {
      "model_module": "@jupyter-widgets/base",
      "model_module_version": "1.2.0",
      "model_name": "LayoutModel",
      "state": {}
     },
     "3a94f6ea53f649769951c22f66532100": {
      "model_module": "@jupyter-widgets/controls",
      "model_module_version": "1.5.0",
      "model_name": "HTMLModel",
      "state": {
       "layout": "IPY_MODEL_b1a27a9dd0d74cbfba312e6d3be5494e",
       "style": "IPY_MODEL_63374276fc53412fbb3d96afac4d55d0",
       "value": " 329155/329155 [13:40&lt;00:00, 401.03it/s]"
      }
     },
     "3ab84c1c90cd45359e8630015bf5556d": {
      "model_module": "@jupyter-widgets/base",
      "model_module_version": "1.2.0",
      "model_name": "LayoutModel",
      "state": {}
     },
     "3b4919b7c600433384e2fa50641ef783": {
      "model_module": "@jupyter-widgets/controls",
      "model_module_version": "1.5.0",
      "model_name": "ProgressStyleModel",
      "state": {
       "description_width": "initial"
      }
     },
     "3b6ee8158a0143778ef1ab20459316c6": {
      "model_module": "@jupyter-widgets/controls",
      "model_module_version": "1.5.0",
      "model_name": "HBoxModel",
      "state": {
       "children": [
        "IPY_MODEL_75a5d4299511417592b5b770975acbc7",
        "IPY_MODEL_e9a70f2776154821ae596c1de3e17b1f"
       ],
       "layout": "IPY_MODEL_0d089cd1e38a4dbf9b9c40d34b8698c5"
      }
     },
     "3b89854fe16840e3a6b6c76a88790ba3": {
      "model_module": "@jupyter-widgets/controls",
      "model_module_version": "1.5.0",
      "model_name": "DescriptionStyleModel",
      "state": {
       "description_width": ""
      }
     },
     "3c5e14ef9eba488f87b855e177b34ef2": {
      "model_module": "@jupyter-widgets/controls",
      "model_module_version": "1.5.0",
      "model_name": "FloatProgressModel",
      "state": {
       "bar_style": "success",
       "description": "100%",
       "layout": "IPY_MODEL_d9566a9c136646ea9c5ea27039a13242",
       "max": 35259,
       "style": "IPY_MODEL_12ccce72957e4e56b6cdad465c42fec2",
       "value": 35259
      }
     },
     "3c8ae320e9814629acd07fd831e697ce": {
      "model_module": "@jupyter-widgets/base",
      "model_module_version": "1.2.0",
      "model_name": "LayoutModel",
      "state": {}
     },
     "3cc8f9dafc4841a5ae7decf114fe8185": {
      "model_module": "@jupyter-widgets/controls",
      "model_module_version": "1.5.0",
      "model_name": "HTMLModel",
      "state": {
       "layout": "IPY_MODEL_e5149ad13f704764b1b24f19266d1611",
       "style": "IPY_MODEL_13ee242e9fca4d40b85784fa1791efc9",
       "value": " 329155/329155 [46:52&lt;00:00, 117.02it/s]"
      }
     },
     "3cd96cb8f5244674b5c448bd531ce3c5": {
      "model_module": "@jupyter-widgets/controls",
      "model_module_version": "1.5.0",
      "model_name": "HBoxModel",
      "state": {
       "children": [
        "IPY_MODEL_cc461c4ca23249879a843e4a2dd8a0d3",
        "IPY_MODEL_58fb28aeeae64ecda1cef7c62ba6afd8"
       ],
       "layout": "IPY_MODEL_a1be0f19361541c7b48b5eb5eed49f90"
      }
     },
     "3d3ec9a41316466ca198787d1cad4edb": {
      "model_module": "@jupyter-widgets/controls",
      "model_module_version": "1.5.0",
      "model_name": "ProgressStyleModel",
      "state": {
       "description_width": "initial"
      }
     },
     "3d46c0b44da346019dcc6ca9f11cda9e": {
      "model_module": "@jupyter-widgets/controls",
      "model_module_version": "1.5.0",
      "model_name": "ProgressStyleModel",
      "state": {
       "description_width": "initial"
      }
     },
     "3d8125f8e5884968abcecb61d0058f67": {
      "model_module": "@jupyter-widgets/controls",
      "model_module_version": "1.5.0",
      "model_name": "ProgressStyleModel",
      "state": {
       "description_width": "initial"
      }
     },
     "3d84972a46bd48499e851e15144143d0": {
      "model_module": "@jupyter-widgets/controls",
      "model_module_version": "1.5.0",
      "model_name": "FloatProgressModel",
      "state": {
       "bar_style": "success",
       "description": "100%",
       "layout": "IPY_MODEL_ce6b5bce22ef44f3a347c0c261a57dbb",
       "max": 329155,
       "style": "IPY_MODEL_9f31013387a04b6d82006a326cb85d1f",
       "value": 329155
      }
     },
     "3dbcf0d669aa4b7597dfca49723e54fc": {
      "model_module": "@jupyter-widgets/base",
      "model_module_version": "1.2.0",
      "model_name": "LayoutModel",
      "state": {}
     },
     "3dc8a74e2eaa456b8590f1a3bb6f5326": {
      "model_module": "@jupyter-widgets/base",
      "model_module_version": "1.2.0",
      "model_name": "LayoutModel",
      "state": {}
     },
     "3deb077f145e491893e6ca44fb9b19cb": {
      "model_module": "@jupyter-widgets/base",
      "model_module_version": "1.2.0",
      "model_name": "LayoutModel",
      "state": {}
     },
     "3e1ed323f05d463c8c2fada260199137": {
      "model_module": "@jupyter-widgets/base",
      "model_module_version": "1.2.0",
      "model_name": "LayoutModel",
      "state": {}
     },
     "3e47271672f04ec0a25ab9ca8410fa23": {
      "model_module": "@jupyter-widgets/controls",
      "model_module_version": "1.5.0",
      "model_name": "DescriptionStyleModel",
      "state": {
       "description_width": ""
      }
     },
     "3e55de4fbe1f4ec6ab7f9ebdc751df82": {
      "model_module": "@jupyter-widgets/controls",
      "model_module_version": "1.5.0",
      "model_name": "FloatProgressModel",
      "state": {
       "bar_style": "success",
       "description": "100%",
       "layout": "IPY_MODEL_6f8ee7027a0040f1a8b379cd833ce021",
       "max": 329155,
       "style": "IPY_MODEL_4098119de45c47e7b9e921846d104ef2",
       "value": 329155
      }
     },
     "3eb5e8dff0de431888c0a0265fe23343": {
      "model_module": "@jupyter-widgets/base",
      "model_module_version": "1.2.0",
      "model_name": "LayoutModel",
      "state": {}
     },
     "3faf030c301b41bd8e68529b403aafdd": {
      "model_module": "@jupyter-widgets/base",
      "model_module_version": "1.2.0",
      "model_name": "LayoutModel",
      "state": {}
     },
     "3fbaebb0a53947e8992db9bcd5596f3c": {
      "model_module": "@jupyter-widgets/base",
      "model_module_version": "1.2.0",
      "model_name": "LayoutModel",
      "state": {}
     },
     "3feb8d5aa7a643f4a34ee7a61dfaa37b": {
      "model_module": "@jupyter-widgets/controls",
      "model_module_version": "1.5.0",
      "model_name": "HTMLModel",
      "state": {
       "layout": "IPY_MODEL_7bc70f1f7e454eb493ec7028b2f09263",
       "style": "IPY_MODEL_74a48241c5a5469c98f8038de7901436",
       "value": " 35259/35259 [1:54:53&lt;00:00,  5.12it/s]"
      }
     },
     "402909ef788243e1acfe9d711e445d72": {
      "model_module": "@jupyter-widgets/controls",
      "model_module_version": "1.5.0",
      "model_name": "DescriptionStyleModel",
      "state": {
       "description_width": ""
      }
     },
     "4078828554dc4d9fb7859d38c2a19ee0": {
      "model_module": "@jupyter-widgets/base",
      "model_module_version": "1.2.0",
      "model_name": "LayoutModel",
      "state": {}
     },
     "4098119de45c47e7b9e921846d104ef2": {
      "model_module": "@jupyter-widgets/controls",
      "model_module_version": "1.5.0",
      "model_name": "ProgressStyleModel",
      "state": {
       "description_width": "initial"
      }
     },
     "40f75ed88a534aad8ad805fee8a07f50": {
      "model_module": "@jupyter-widgets/controls",
      "model_module_version": "1.5.0",
      "model_name": "HBoxModel",
      "state": {
       "children": [
        "IPY_MODEL_f12ee5c2b6e847289e9198c9197cf773",
        "IPY_MODEL_04749786fcda4558a2f4c56df33aa2d0"
       ],
       "layout": "IPY_MODEL_c18138a19cee438492b461c1de5b215f"
      }
     },
     "4120cabf8d6a4a6bb7e546a907802f31": {
      "model_module": "@jupyter-widgets/controls",
      "model_module_version": "1.5.0",
      "model_name": "HBoxModel",
      "state": {
       "children": [
        "IPY_MODEL_95340d3ff86042728ed6ff97ddaabb7e",
        "IPY_MODEL_c5cfb912611440f0b202013846f8a2e8"
       ],
       "layout": "IPY_MODEL_2d44c095cd7e4fb29842baa6dbc3167a"
      }
     },
     "41789e39f666478eb908234b51ea55b7": {
      "model_module": "@jupyter-widgets/base",
      "model_module_version": "1.2.0",
      "model_name": "LayoutModel",
      "state": {}
     },
     "418b84adc3494b51960bc669e69dcc28": {
      "model_module": "@jupyter-widgets/controls",
      "model_module_version": "1.5.0",
      "model_name": "ProgressStyleModel",
      "state": {
       "description_width": "initial"
      }
     },
     "41c8fdc564f648468ea9f4bc55153fe1": {
      "model_module": "@jupyter-widgets/controls",
      "model_module_version": "1.5.0",
      "model_name": "ProgressStyleModel",
      "state": {
       "description_width": "initial"
      }
     },
     "42085eaa2f394ec6a3068d499587b3ff": {
      "model_module": "@jupyter-widgets/controls",
      "model_module_version": "1.5.0",
      "model_name": "FloatProgressModel",
      "state": {
       "bar_style": "danger",
       "description": "  8%",
       "layout": "IPY_MODEL_104eceed2eff44c9b6e0399de76b5b35",
       "max": 329155,
       "style": "IPY_MODEL_554f17958f28474087dd6f57ed6de8f0",
       "value": 24694
      }
     },
     "4228b5493dc84f73a14454c28cbb9f41": {
      "model_module": "@jupyter-widgets/base",
      "model_module_version": "1.2.0",
      "model_name": "LayoutModel",
      "state": {}
     },
     "4238fe176d5942938ec098eb4695e54c": {
      "model_module": "@jupyter-widgets/base",
      "model_module_version": "1.2.0",
      "model_name": "LayoutModel",
      "state": {}
     },
     "427b55e76bfd4f369e4e2262a399b75c": {
      "model_module": "@jupyter-widgets/controls",
      "model_module_version": "1.5.0",
      "model_name": "HTMLModel",
      "state": {
       "layout": "IPY_MODEL_0d1a68ae6c0849d78b87f811ff8934b7",
       "style": "IPY_MODEL_cdf231ba626846a3b6b2187f8e75d5de",
       "value": " 13988/329155 [01:02&lt;23:19, 225.15it/s]"
      }
     },
     "42b59d3fb1a344b295332b57c12d9168": {
      "model_module": "@jupyter-widgets/base",
      "model_module_version": "1.2.0",
      "model_name": "LayoutModel",
      "state": {}
     },
     "42d6e3c9747744e4b5de96dddd3ba2f1": {
      "model_module": "@jupyter-widgets/controls",
      "model_module_version": "1.5.0",
      "model_name": "HBoxModel",
      "state": {
       "children": [
        "IPY_MODEL_df34d2a116cf411ebc1a77584b605539",
        "IPY_MODEL_017a9984a7844f61aadd5ec55070887a"
       ],
       "layout": "IPY_MODEL_6198f2fd2a6d4c6c8512f264eab790fb"
      }
     },
     "42fd8794420c4e42b89f616b6a03078a": {
      "model_module": "@jupyter-widgets/controls",
      "model_module_version": "1.5.0",
      "model_name": "HBoxModel",
      "state": {
       "children": [
        "IPY_MODEL_3400369b448f4c21822003b36034f831",
        "IPY_MODEL_7e46cfec07b6473eab305f7c096d123f"
       ],
       "layout": "IPY_MODEL_06e6319a2ec743e0b975389cf43995ba"
      }
     },
     "434e7000389d40cea787665bb8e6022c": {
      "model_module": "@jupyter-widgets/controls",
      "model_module_version": "1.5.0",
      "model_name": "FloatProgressModel",
      "state": {
       "bar_style": "danger",
       "description": "  0%",
       "layout": "IPY_MODEL_4ee38a8ecc644d46873b149c02fbb69c",
       "max": 329155,
       "style": "IPY_MODEL_c8d78261ba814f10a8e09189c1aecfd2"
      }
     },
     "43922674e1434deca397eec2555d23ee": {
      "model_module": "@jupyter-widgets/base",
      "model_module_version": "1.2.0",
      "model_name": "LayoutModel",
      "state": {}
     },
     "444accfaef3b40059f10b475514422a6": {
      "model_module": "@jupyter-widgets/base",
      "model_module_version": "1.2.0",
      "model_name": "LayoutModel",
      "state": {}
     },
     "446ffda9edc447aa803a0741bb7d4504": {
      "model_module": "@jupyter-widgets/controls",
      "model_module_version": "1.5.0",
      "model_name": "FloatProgressModel",
      "state": {
       "bar_style": "success",
       "description": "100%",
       "layout": "IPY_MODEL_95279d663a044f36bdd2029ebf582b1f",
       "max": 329155,
       "style": "IPY_MODEL_4f4f2d61608f4d319cd4fb629c497545",
       "value": 329155
      }
     },
     "44e405461bb9443ea60178b341e0570b": {
      "model_module": "@jupyter-widgets/controls",
      "model_module_version": "1.5.0",
      "model_name": "HBoxModel",
      "state": {
       "children": [
        "IPY_MODEL_3d84972a46bd48499e851e15144143d0",
        "IPY_MODEL_a7145602ea14432492d7bf2f03084e29"
       ],
       "layout": "IPY_MODEL_06d220f305784315891d97685b40a022"
      }
     },
     "45a86d7dc053475985a3abf68b9ab8e5": {
      "model_module": "@jupyter-widgets/controls",
      "model_module_version": "1.5.0",
      "model_name": "HBoxModel",
      "state": {
       "children": [
        "IPY_MODEL_4912cad9920a4daead8738c7e8e956ce",
        "IPY_MODEL_8a218d0bf2a54632b3e08fb466da02c8"
       ],
       "layout": "IPY_MODEL_f9a0f88422364153ad924ba45ecd9c82"
      }
     },
     "45e000c01b144efdb831db875fc664e9": {
      "model_module": "@jupyter-widgets/controls",
      "model_module_version": "1.5.0",
      "model_name": "HTMLModel",
      "state": {
       "layout": "IPY_MODEL_45ffd23241bd4ab4830de20c138a52e8",
       "style": "IPY_MODEL_942bb24129614bd3b2b307b9128a41de",
       "value": " 4027169/4027169 [02:12&lt;00:00, 30322.86it/s]"
      }
     },
     "45ffd23241bd4ab4830de20c138a52e8": {
      "model_module": "@jupyter-widgets/base",
      "model_module_version": "1.2.0",
      "model_name": "LayoutModel",
      "state": {}
     },
     "4679776a08c240c3a50e120501ebbda6": {
      "model_module": "@jupyter-widgets/controls",
      "model_module_version": "1.5.0",
      "model_name": "HTMLModel",
      "state": {
       "layout": "IPY_MODEL_84a1de17fe554c6c858d06c3dd80eb60",
       "style": "IPY_MODEL_fcf78df19fd44ba780bc34b31f57a71f",
       "value": " 4358/329155 [08:33&lt;10:37:30,  8.49it/s]"
      }
     },
     "4686de9e3d994dea92fb15f9fc509001": {
      "model_module": "@jupyter-widgets/controls",
      "model_module_version": "1.5.0",
      "model_name": "DescriptionStyleModel",
      "state": {
       "description_width": ""
      }
     },
     "46a88061842249b18ce1f6ab2ba9740c": {
      "model_module": "@jupyter-widgets/controls",
      "model_module_version": "1.5.0",
      "model_name": "FloatProgressModel",
      "state": {
       "bar_style": "success",
       "description": "Parsing dataset: 100%",
       "layout": "IPY_MODEL_304e6892cf2340bfa7cc14f1c7acd1d4",
       "max": 373801,
       "style": "IPY_MODEL_5e964b3a5677456d867636a1e099e9e7",
       "value": 373801
      }
     },
     "476be8b49cec4fb5aef21f39e0223360": {
      "model_module": "@jupyter-widgets/controls",
      "model_module_version": "1.5.0",
      "model_name": "FloatProgressModel",
      "state": {
       "bar_style": "success",
       "description": "100%",
       "layout": "IPY_MODEL_34d4504eb5364da2b206e81ddd0eb78b",
       "max": 329155,
       "style": "IPY_MODEL_68e74e5b23e1422aa2816416dadf5ed4",
       "value": 329155
      }
     },
     "4779ab7ec5f7462b86dcfd01fac28ad2": {
      "model_module": "@jupyter-widgets/controls",
      "model_module_version": "1.5.0",
      "model_name": "HTMLModel",
      "state": {
       "layout": "IPY_MODEL_8679eeded881468c9cb65943987c818d",
       "style": "IPY_MODEL_ab9e026b6fe5489d96c33caa13379086",
       "value": " 0/329155 [00:48&lt;?, ?it/s]"
      }
     },
     "47aaee114f1d4ea28e88466079ec2839": {
      "model_module": "@jupyter-widgets/controls",
      "model_module_version": "1.5.0",
      "model_name": "ProgressStyleModel",
      "state": {
       "description_width": "initial"
      }
     },
     "47f33b225255499695d09ae608666a33": {
      "model_module": "@jupyter-widgets/controls",
      "model_module_version": "1.5.0",
      "model_name": "HTMLModel",
      "state": {
       "layout": "IPY_MODEL_c5368da6b99d48ee91a4e28af7fe3c01",
       "style": "IPY_MODEL_c055e7669cb7438f96212f9021648323",
       "value": " 329155/329155 [10:09&lt;00:00, 540.04it/s]"
      }
     },
     "482f1524b66f4580a26166e4c5d02b17": {
      "model_module": "@jupyter-widgets/controls",
      "model_module_version": "1.5.0",
      "model_name": "HTMLModel",
      "state": {
       "layout": "IPY_MODEL_9532b036f1b443f5be092db8c8c87c6c",
       "style": "IPY_MODEL_e516b37c9c95441c9e64fde8d8e56289",
       "value": " 329155/329155 [12:05&lt;00:00, 453.62it/s]"
      }
     },
     "48b102c045b44684bc5f83d82512b742": {
      "model_module": "@jupyter-widgets/controls",
      "model_module_version": "1.5.0",
      "model_name": "ProgressStyleModel",
      "state": {
       "description_width": "initial"
      }
     },
     "48dd0ac721a64bb5a1a959713697de6e": {
      "model_module": "@jupyter-widgets/controls",
      "model_module_version": "1.5.0",
      "model_name": "HBoxModel",
      "state": {
       "children": [
        "IPY_MODEL_348224c80bd44b4aa239cf75d092e21e",
        "IPY_MODEL_13f199ba579b445bb4d5a231fc22cfdf"
       ],
       "layout": "IPY_MODEL_2f1e805b2ceb482e89be9e6400d721a0"
      }
     },
     "4912cad9920a4daead8738c7e8e956ce": {
      "model_module": "@jupyter-widgets/controls",
      "model_module_version": "1.5.0",
      "model_name": "FloatProgressModel",
      "state": {
       "description": " 16%",
       "layout": "IPY_MODEL_07efeff112c345d58fba017e9ff68b61",
       "max": 329155,
       "style": "IPY_MODEL_f6b14cfd170c4c64b34cc9390ca8674b",
       "value": 52058
      }
     },
     "49244ec09a1a4c51b0e41386acd8509c": {
      "model_module": "@jupyter-widgets/controls",
      "model_module_version": "1.5.0",
      "model_name": "HBoxModel",
      "state": {
       "children": [
        "IPY_MODEL_e51224bd33d34fe98e403098cb15697c",
        "IPY_MODEL_b57c5f9d1a1a43ad9e5d6ed8b83b170a"
       ],
       "layout": "IPY_MODEL_d8cd6a1111634648a04897634dee03aa"
      }
     },
     "494de8353b90446280dfb0cf90d2b44e": {
      "model_module": "@jupyter-widgets/controls",
      "model_module_version": "1.5.0",
      "model_name": "ProgressStyleModel",
      "state": {
       "description_width": "initial"
      }
     },
     "49dca776dbca4e3ba540f80001f6974f": {
      "model_module": "@jupyter-widgets/controls",
      "model_module_version": "1.5.0",
      "model_name": "HBoxModel",
      "state": {
       "children": [
        "IPY_MODEL_e29d581e14814acd8aab0e028bcbd94d",
        "IPY_MODEL_02a74dc8c7d94a7fa9b59587bdab19b0"
       ],
       "layout": "IPY_MODEL_dad334c913994b52b8e6936976304711"
      }
     },
     "4a2ebc05425a4322b90188b5c454d1c4": {
      "model_module": "@jupyter-widgets/controls",
      "model_module_version": "1.5.0",
      "model_name": "FloatProgressModel",
      "state": {
       "bar_style": "success",
       "description": "100%",
       "layout": "IPY_MODEL_d37d21d1ec6146c087dfb9d4e2221efe",
       "max": 329155,
       "style": "IPY_MODEL_2f08b3ca2ece4640aa208bd3c4f69a4b",
       "value": 329155
      }
     },
     "4a9cb01b38a549ee9fcd6a468ea9b0c5": {
      "model_module": "@jupyter-widgets/controls",
      "model_module_version": "1.5.0",
      "model_name": "ProgressStyleModel",
      "state": {
       "description_width": "initial"
      }
     },
     "4aa62e2acf224ea29e9545c636675c67": {
      "model_module": "@jupyter-widgets/controls",
      "model_module_version": "1.5.0",
      "model_name": "HTMLModel",
      "state": {
       "layout": "IPY_MODEL_d84cb2885619439d8800ce32e9067f1c",
       "style": "IPY_MODEL_4ed76337b25b47e6825327c325ee79ae",
       "value": " 0/329155 [00:19&lt;?, ?it/s]"
      }
     },
     "4ab44f34931445549fe6f76f19d4da71": {
      "model_module": "@jupyter-widgets/base",
      "model_module_version": "1.2.0",
      "model_name": "LayoutModel",
      "state": {}
     },
     "4abc9a5a6df74f31a1fbf2e9668a3243": {
      "model_module": "@jupyter-widgets/controls",
      "model_module_version": "1.5.0",
      "model_name": "HTMLModel",
      "state": {
       "layout": "IPY_MODEL_ac3cee451c3c418eb316bb1d353a8c1a",
       "style": "IPY_MODEL_2f48cfdb5127404b97616a546722b2a2",
       "value": " 35259/35259 [1:16:34&lt;00:00,  7.67it/s]"
      }
     },
     "4b0e69e93cd34293a2961b60cc328b4e": {
      "model_module": "@jupyter-widgets/base",
      "model_module_version": "1.2.0",
      "model_name": "LayoutModel",
      "state": {}
     },
     "4b12e67f19bd488d805f44162e6175e2": {
      "model_module": "@jupyter-widgets/controls",
      "model_module_version": "1.5.0",
      "model_name": "HTMLModel",
      "state": {
       "layout": "IPY_MODEL_a18fbf03645d430abda48f16d5b542ca",
       "style": "IPY_MODEL_abe345851b954bee95ef37f09257c48e",
       "value": " 35259/35259 [1:14:01&lt;00:00,  7.94it/s]"
      }
     },
     "4b153f5a2cfb41f7bf94b09d7d5f8a2d": {
      "model_module": "@jupyter-widgets/controls",
      "model_module_version": "1.5.0",
      "model_name": "FloatProgressModel",
      "state": {
       "bar_style": "success",
       "description": "100%",
       "layout": "IPY_MODEL_60229c24fba74870ab39c7cddf82bbec",
       "max": 329155,
       "style": "IPY_MODEL_7cfb982cd4364765ab5cfce9de5b7827",
       "value": 329155
      }
     },
     "4b15eb6964c2403281a2e0130463543c": {
      "model_module": "@jupyter-widgets/base",
      "model_module_version": "1.2.0",
      "model_name": "LayoutModel",
      "state": {}
     },
     "4b4f1920441043d7b8dcebbb5a342051": {
      "model_module": "@jupyter-widgets/base",
      "model_module_version": "1.2.0",
      "model_name": "LayoutModel",
      "state": {}
     },
     "4bb0f33d7abb40a1a1fd98e5ea926ae4": {
      "model_module": "@jupyter-widgets/controls",
      "model_module_version": "1.5.0",
      "model_name": "FloatProgressModel",
      "state": {
       "bar_style": "success",
       "description": "100%",
       "layout": "IPY_MODEL_2249d832f7544f6587def0e6b41bdcc5",
       "max": 329155,
       "style": "IPY_MODEL_79e14ebe502c42739e7762932c87aac6",
       "value": 329155
      }
     },
     "4bd4f12131cc415283af4a98608c3fe9": {
      "model_module": "@jupyter-widgets/base",
      "model_module_version": "1.2.0",
      "model_name": "LayoutModel",
      "state": {}
     },
     "4c263c2fce494059a173f03d0126f3b5": {
      "model_module": "@jupyter-widgets/base",
      "model_module_version": "1.2.0",
      "model_name": "LayoutModel",
      "state": {}
     },
     "4caf81660c5e4ee68e05d2ff7bad75ab": {
      "model_module": "@jupyter-widgets/controls",
      "model_module_version": "1.5.0",
      "model_name": "HBoxModel",
      "state": {
       "children": [
        "IPY_MODEL_95fd4a7e4f184dfdb71987435e08ec26",
        "IPY_MODEL_f17a8bda521947498702296c18787bae"
       ],
       "layout": "IPY_MODEL_e84ae92c8e4d4b8baa1cb5f348a3943a"
      }
     },
     "4d288e3186f8493999c3c26215bcde9f": {
      "model_module": "@jupyter-widgets/controls",
      "model_module_version": "1.5.0",
      "model_name": "HBoxModel",
      "state": {
       "children": [
        "IPY_MODEL_7dff5dab1d1d451d8ddff0ef84bf63c9",
        "IPY_MODEL_c601141ac3d54c998125b5e256a7fbab"
       ],
       "layout": "IPY_MODEL_957f90db2c1a49d787daff3dde01cb68"
      }
     },
     "4d2bc27121834131a3fea532202a3cd8": {
      "model_module": "@jupyter-widgets/base",
      "model_module_version": "1.2.0",
      "model_name": "LayoutModel",
      "state": {}
     },
     "4d417e5b54a3497eb5b58ab6a8ab0b34": {
      "model_module": "@jupyter-widgets/controls",
      "model_module_version": "1.5.0",
      "model_name": "ProgressStyleModel",
      "state": {
       "description_width": "initial"
      }
     },
     "4d47887fb7df478e8c5e45ebf5e8e0eb": {
      "model_module": "@jupyter-widgets/base",
      "model_module_version": "1.2.0",
      "model_name": "LayoutModel",
      "state": {}
     },
     "4d7aad74461b4dfb8ec6b9dfb4aa7d3c": {
      "model_module": "@jupyter-widgets/base",
      "model_module_version": "1.2.0",
      "model_name": "LayoutModel",
      "state": {}
     },
     "4d9c813a0b1641f7b5efdafac5cd4154": {
      "model_module": "@jupyter-widgets/base",
      "model_module_version": "1.2.0",
      "model_name": "LayoutModel",
      "state": {}
     },
     "4da55c0cfd034e76b3a6e7072f3305e2": {
      "model_module": "@jupyter-widgets/controls",
      "model_module_version": "1.5.0",
      "model_name": "FloatProgressModel",
      "state": {
       "bar_style": "danger",
       "description": "  0%",
       "layout": "IPY_MODEL_2b2914af9b944bc8b79feaf582daf16d",
       "max": 329155,
       "style": "IPY_MODEL_5d3fe717b60f477e8851bdcc7af9a1f5"
      }
     },
     "4ddcd907aaa04099a746540c9cb0d4ed": {
      "model_module": "@jupyter-widgets/controls",
      "model_module_version": "1.5.0",
      "model_name": "HBoxModel",
      "state": {
       "children": [
        "IPY_MODEL_1e9e757aa1794e708b8eac513adab5b5",
        "IPY_MODEL_a576b22bd73449afa1a0ed5978dab81f"
       ],
       "layout": "IPY_MODEL_b669da6503a147e8b600334cbdfb2d2f"
      }
     },
     "4e00b88c1561480b9587e9c72f53384c": {
      "model_module": "@jupyter-widgets/controls",
      "model_module_version": "1.5.0",
      "model_name": "FloatProgressModel",
      "state": {
       "bar_style": "success",
       "description": "100%",
       "layout": "IPY_MODEL_eb64594d921147e49331234ae91d5bdf",
       "max": 35259,
       "style": "IPY_MODEL_af33c39a2b44456bbf1dc3ab3e00bd5d",
       "value": 35259
      }
     },
     "4e8e998be4f4432c898c2604203cf15e": {
      "model_module": "@jupyter-widgets/controls",
      "model_module_version": "1.5.0",
      "model_name": "HTMLModel",
      "state": {
       "layout": "IPY_MODEL_09581be62fb6438db39009ae87328edf",
       "style": "IPY_MODEL_cc27f3ed77a84c2f92c8952505b29a01",
       "value": " 373801/373801 [04:53&lt;00:00, 1272.86it/s]"
      }
     },
     "4eac0b7a0ed84ae59b54bd9ff9609f38": {
      "model_module": "@jupyter-widgets/controls",
      "model_module_version": "1.5.0",
      "model_name": "HTMLModel",
      "state": {
       "layout": "IPY_MODEL_8e89c9c295884f3bbdefb15b19318297",
       "style": "IPY_MODEL_fa0c6965801149dd9368ebbc291fe8ba",
       "value": " 373801/373801 [06:17&lt;00:00, 989.61it/s]"
      }
     },
     "4eb1e140d5284327ad41b553e856c991": {
      "model_module": "@jupyter-widgets/controls",
      "model_module_version": "1.5.0",
      "model_name": "FloatProgressModel",
      "state": {
       "bar_style": "success",
       "description": "100%",
       "layout": "IPY_MODEL_63ec2e5b088147e79efca032c164e25d",
       "max": 4,
       "style": "IPY_MODEL_925be7c22f2a484683f718e5ff48c26a",
       "value": 4
      }
     },
     "4ed76337b25b47e6825327c325ee79ae": {
      "model_module": "@jupyter-widgets/controls",
      "model_module_version": "1.5.0",
      "model_name": "DescriptionStyleModel",
      "state": {
       "description_width": ""
      }
     },
     "4ee38a8ecc644d46873b149c02fbb69c": {
      "model_module": "@jupyter-widgets/base",
      "model_module_version": "1.2.0",
      "model_name": "LayoutModel",
      "state": {}
     },
     "4eeb336ddad941b0a7aae655c58c8b47": {
      "model_module": "@jupyter-widgets/controls",
      "model_module_version": "1.5.0",
      "model_name": "HBoxModel",
      "state": {
       "children": [
        "IPY_MODEL_7c37d8d091d84da1b4d4665ce680f385",
        "IPY_MODEL_f4382eed1c9c4374ba96fd9c647d8126"
       ],
       "layout": "IPY_MODEL_1b59f64169944683bada99ad56e35c44"
      }
     },
     "4f2b0a9b5f81400a9e20863241b1b801": {
      "model_module": "@jupyter-widgets/controls",
      "model_module_version": "1.5.0",
      "model_name": "ProgressStyleModel",
      "state": {
       "description_width": "initial"
      }
     },
     "4f4f2d61608f4d319cd4fb629c497545": {
      "model_module": "@jupyter-widgets/controls",
      "model_module_version": "1.5.0",
      "model_name": "ProgressStyleModel",
      "state": {
       "description_width": "initial"
      }
     },
     "4f72344b9a33417185802a8dfcf2276b": {
      "model_module": "@jupyter-widgets/base",
      "model_module_version": "1.2.0",
      "model_name": "LayoutModel",
      "state": {}
     },
     "4f791562e7824ab9b4aca9dece98a321": {
      "model_module": "@jupyter-widgets/base",
      "model_module_version": "1.2.0",
      "model_name": "LayoutModel",
      "state": {}
     },
     "4f95a90d51254f63b7a34183c3a9029e": {
      "model_module": "@jupyter-widgets/controls",
      "model_module_version": "1.5.0",
      "model_name": "DescriptionStyleModel",
      "state": {
       "description_width": ""
      }
     },
     "4fa5ec4ff0da4738be8d709320229cf1": {
      "model_module": "@jupyter-widgets/controls",
      "model_module_version": "1.5.0",
      "model_name": "HBoxModel",
      "state": {
       "children": [
        "IPY_MODEL_a63efc42f162493db2f1b18517189dec",
        "IPY_MODEL_9668e76eb1e447b88fbc9e4cabf7f9a6"
       ],
       "layout": "IPY_MODEL_b887ebb75eb84983ab015688a182d115"
      }
     },
     "4fb59df9c2e04619a035f65a4e1328c0": {
      "model_module": "@jupyter-widgets/controls",
      "model_module_version": "1.5.0",
      "model_name": "FloatProgressModel",
      "state": {
       "bar_style": "success",
       "description": "100%",
       "layout": "IPY_MODEL_6ae69f06102b4dd58fbfce6cc8855987",
       "max": 329155,
       "style": "IPY_MODEL_48b102c045b44684bc5f83d82512b742",
       "value": 329155
      }
     },
     "4fbe9ee7d2194488a20a81efcfdf46cb": {
      "model_module": "@jupyter-widgets/controls",
      "model_module_version": "1.5.0",
      "model_name": "HBoxModel",
      "state": {
       "children": [
        "IPY_MODEL_b3701b4d5209448dbf0fe872ce81edd6",
        "IPY_MODEL_182f29f95f4e4dee965453cfa3e10a59"
       ],
       "layout": "IPY_MODEL_32a700e53c1c4980af9cab1e120059f6"
      }
     },
     "4ff1424194c94aa4b8ec6d51ba15adfe": {
      "model_module": "@jupyter-widgets/controls",
      "model_module_version": "1.5.0",
      "model_name": "HTMLModel",
      "state": {
       "layout": "IPY_MODEL_1e82bab42bda4c69b8e330349201ab49",
       "style": "IPY_MODEL_6b661de8fc754f8ea4ed44bc64502d31",
       "value": " 329155/329155 [10:05&lt;00:00, 543.57it/s]"
      }
     },
     "500b879c77164337b7cb4163cd2eecbf": {
      "model_module": "@jupyter-widgets/controls",
      "model_module_version": "1.5.0",
      "model_name": "DescriptionStyleModel",
      "state": {
       "description_width": ""
      }
     },
     "509f955eee874075acc18e0146085fbf": {
      "model_module": "@jupyter-widgets/controls",
      "model_module_version": "1.5.0",
      "model_name": "DescriptionStyleModel",
      "state": {
       "description_width": ""
      }
     },
     "50a63f9f9b96444db77814b98a0ccee1": {
      "model_module": "@jupyter-widgets/base",
      "model_module_version": "1.2.0",
      "model_name": "LayoutModel",
      "state": {}
     },
     "50c8f060aa294da181ce4c3ea1a4f198": {
      "model_module": "@jupyter-widgets/controls",
      "model_module_version": "1.5.0",
      "model_name": "HBoxModel",
      "state": {
       "children": [
        "IPY_MODEL_259c14fda6a5433aba7a21bc814fab6b",
        "IPY_MODEL_a32877567e384e1088c2c26e4a0e2a9c"
       ],
       "layout": "IPY_MODEL_6e4611104e1b4c599e37e11072767f86"
      }
     },
     "518d64742ed243238ee6f3117acf81e6": {
      "model_module": "@jupyter-widgets/controls",
      "model_module_version": "1.5.0",
      "model_name": "HTMLModel",
      "state": {
       "layout": "IPY_MODEL_4228b5493dc84f73a14454c28cbb9f41",
       "style": "IPY_MODEL_f0694ae9f5ea4b9694a1e86222c1b46b",
       "value": " 329155/329155 [26:14&lt;00:00, 209.09it/s]"
      }
     },
     "51c72b9e423a4f8fb9bcfe8542e3ffc3": {
      "model_module": "@jupyter-widgets/controls",
      "model_module_version": "1.5.0",
      "model_name": "HTMLModel",
      "state": {
       "layout": "IPY_MODEL_5f460c4b51a545de8df91e9c8072be4f",
       "style": "IPY_MODEL_a0c37f6804674c10a03570c1baf7ef8b",
       "value": " 4027169/4027169 [02:16&lt;00:00, 29568.28it/s]"
      }
     },
     "51e5fc3b9f0746b4b1c72b30571c9f66": {
      "model_module": "@jupyter-widgets/controls",
      "model_module_version": "1.5.0",
      "model_name": "HTMLModel",
      "state": {
       "layout": "IPY_MODEL_f208f06c2e9a4ba9b334d8ceea4e7098",
       "style": "IPY_MODEL_83fb9a9281f24fc48367866857369e7c",
       "value": " 329155/329155 [11:54&lt;00:00, 460.97it/s]"
      }
     },
     "51fc0bce6bbc4c9e90ab53b68839960a": {
      "model_module": "@jupyter-widgets/controls",
      "model_module_version": "1.5.0",
      "model_name": "ProgressStyleModel",
      "state": {
       "description_width": "initial"
      }
     },
     "522be8a76b66418ab6bd5107d73a40dc": {
      "model_module": "@jupyter-widgets/controls",
      "model_module_version": "1.5.0",
      "model_name": "FloatProgressModel",
      "state": {
       "bar_style": "success",
       "description": "100%",
       "layout": "IPY_MODEL_e8caf9c3c27c436fb07106839067c8cc",
       "max": 35259,
       "style": "IPY_MODEL_b8363a4b93954eb19244eff7eda10a38",
       "value": 35259
      }
     },
     "526180cf19254ed792125e5d0ce4d5fa": {
      "model_module": "@jupyter-widgets/base",
      "model_module_version": "1.2.0",
      "model_name": "LayoutModel",
      "state": {}
     },
     "5270d4b8ad064b24ae86314e2c8e85cc": {
      "model_module": "@jupyter-widgets/controls",
      "model_module_version": "1.5.0",
      "model_name": "ProgressStyleModel",
      "state": {
       "description_width": "initial"
      }
     },
     "52924919708b491dbca9b4a81b415f8a": {
      "model_module": "@jupyter-widgets/controls",
      "model_module_version": "1.5.0",
      "model_name": "HTMLModel",
      "state": {
       "layout": "IPY_MODEL_00370033219b40b0bdb45dcd2ffe89d7",
       "style": "IPY_MODEL_7568c28eb2da49cc8063f74b22d3a9e4",
       "value": " 4027169/4027169 [02:21&lt;00:00, 28464.90it/s]"
      }
     },
     "52ba828bbff348569040426aaeba4fa8": {
      "model_module": "@jupyter-widgets/controls",
      "model_module_version": "1.5.0",
      "model_name": "DescriptionStyleModel",
      "state": {
       "description_width": ""
      }
     },
     "52f545e9cb70442aad60f86ffab81902": {
      "model_module": "@jupyter-widgets/base",
      "model_module_version": "1.2.0",
      "model_name": "LayoutModel",
      "state": {}
     },
     "533b1b1f30024f8185a18ddf42f90ec3": {
      "model_module": "@jupyter-widgets/controls",
      "model_module_version": "1.5.0",
      "model_name": "HBoxModel",
      "state": {
       "children": [
        "IPY_MODEL_00418af6ca5c45c99037dfbdc6c4677d",
        "IPY_MODEL_7ee84fa2ac604424bae1e46ceec1300c"
       ],
       "layout": "IPY_MODEL_5d17227951c74d02b4ff642dc31e0340"
      }
     },
     "53a000bcb1f14826a5aca7e20c977de6": {
      "model_module": "@jupyter-widgets/controls",
      "model_module_version": "1.5.0",
      "model_name": "FloatProgressModel",
      "state": {
       "bar_style": "success",
       "description": "100%",
       "layout": "IPY_MODEL_a00e1b77974e4d3d84c28f9efa81ae8b",
       "max": 329155,
       "style": "IPY_MODEL_1c30728271194185ba7dc05a72912b72",
       "value": 329155
      }
     },
     "53a0c7756d114c14820b9ff397523e34": {
      "model_module": "@jupyter-widgets/controls",
      "model_module_version": "1.5.0",
      "model_name": "FloatProgressModel",
      "state": {
       "bar_style": "success",
       "description": "100%",
       "layout": "IPY_MODEL_4238fe176d5942938ec098eb4695e54c",
       "max": 329155,
       "style": "IPY_MODEL_8f6c70a665f64108b2a5e3f996031d2f",
       "value": 329155
      }
     },
     "53f3a1223ef5459c87024d4635873d55": {
      "model_module": "@jupyter-widgets/controls",
      "model_module_version": "1.5.0",
      "model_name": "HTMLModel",
      "state": {
       "layout": "IPY_MODEL_dfddc3ff9a564e06ad1a10d0d8ef5a93",
       "style": "IPY_MODEL_057902b59ead4b10809d35351b943020",
       "value": " 4/4 [58:10&lt;00:00, 872.73s/it]"
      }
     },
     "53f8c2e045234c7090b70d8e2f492dfd": {
      "model_module": "@jupyter-widgets/base",
      "model_module_version": "1.2.0",
      "model_name": "LayoutModel",
      "state": {}
     },
     "54f37d21c3ab406eaabc1e9d84d071b9": {
      "model_module": "@jupyter-widgets/controls",
      "model_module_version": "1.5.0",
      "model_name": "HBoxModel",
      "state": {
       "children": [
        "IPY_MODEL_faa9abd179004e95a6ea5fa9492a3748",
        "IPY_MODEL_06e59dd5e28641428e4ee74592d1fece"
       ],
       "layout": "IPY_MODEL_0db85a9b43da4aa39616c28d6ef93adc"
      }
     },
     "552df59037f84aa796fdc4f502b5297a": {
      "model_module": "@jupyter-widgets/base",
      "model_module_version": "1.2.0",
      "model_name": "LayoutModel",
      "state": {}
     },
     "554f17958f28474087dd6f57ed6de8f0": {
      "model_module": "@jupyter-widgets/controls",
      "model_module_version": "1.5.0",
      "model_name": "ProgressStyleModel",
      "state": {
       "description_width": "initial"
      }
     },
     "55e03f11cb0b46928aa148f47dd6a182": {
      "model_module": "@jupyter-widgets/controls",
      "model_module_version": "1.5.0",
      "model_name": "DescriptionStyleModel",
      "state": {
       "description_width": ""
      }
     },
     "5610242e7fff42f6b72385cd80fb8eb1": {
      "model_module": "@jupyter-widgets/controls",
      "model_module_version": "1.5.0",
      "model_name": "HTMLModel",
      "state": {
       "layout": "IPY_MODEL_70267df466cc4102bfebe718098ec175",
       "style": "IPY_MODEL_02d765dcb4bf47abbe101a8c0df7b761",
       "value": " 329155/329155 [07:08&lt;00:00, 767.78it/s]"
      }
     },
     "5667195bdffc4775b634c36b00820a08": {
      "model_module": "@jupyter-widgets/controls",
      "model_module_version": "1.5.0",
      "model_name": "HTMLModel",
      "state": {
       "layout": "IPY_MODEL_0b95667ace01422a82275bb994ba2133",
       "style": "IPY_MODEL_7827d552b198467794d8dbc6e619b649",
       "value": " 35259/35259 [00:03&lt;00:00, 11566.37it/s]"
      }
     },
     "571acf3dad1c4980b9e781794144906e": {
      "model_module": "@jupyter-widgets/base",
      "model_module_version": "1.2.0",
      "model_name": "LayoutModel",
      "state": {}
     },
     "583abd72a1a34954b1598bda79f8c5dc": {
      "model_module": "@jupyter-widgets/base",
      "model_module_version": "1.2.0",
      "model_name": "LayoutModel",
      "state": {}
     },
     "58577514929a4b56b85f8f740c15205e": {
      "model_module": "@jupyter-widgets/base",
      "model_module_version": "1.2.0",
      "model_name": "LayoutModel",
      "state": {}
     },
     "589efbd2470c4c08adf9ab6f1ac85616": {
      "model_module": "@jupyter-widgets/base",
      "model_module_version": "1.2.0",
      "model_name": "LayoutModel",
      "state": {}
     },
     "58fb28aeeae64ecda1cef7c62ba6afd8": {
      "model_module": "@jupyter-widgets/controls",
      "model_module_version": "1.5.0",
      "model_name": "HTMLModel",
      "state": {
       "layout": "IPY_MODEL_30d0d8938774482f93305ac40648d851",
       "style": "IPY_MODEL_8a1d30a7b8e046ddb1d01344eb15328b",
       "value": " 32/32 [9:50:39&lt;00:00, 1107.50s/it]"
      }
     },
     "591e35c5d4b94508a4ab7da7409831d9": {
      "model_module": "@jupyter-widgets/base",
      "model_module_version": "1.2.0",
      "model_name": "LayoutModel",
      "state": {}
     },
     "59b4f46bd2b643cdb32a7c421f4a21f2": {
      "model_module": "@jupyter-widgets/controls",
      "model_module_version": "1.5.0",
      "model_name": "FloatProgressModel",
      "state": {
       "bar_style": "success",
       "description": "100%",
       "layout": "IPY_MODEL_24e1a8255149444eb9edd78ed2c40ef2",
       "max": 35259,
       "style": "IPY_MODEL_4f2b0a9b5f81400a9e20863241b1b801",
       "value": 35259
      }
     },
     "5a0b550d4a0242fd8073c233bae81f8c": {
      "model_module": "@jupyter-widgets/base",
      "model_module_version": "1.2.0",
      "model_name": "LayoutModel",
      "state": {}
     },
     "5a9aeab0ac28409e9e8d59906912b084": {
      "model_module": "@jupyter-widgets/controls",
      "model_module_version": "1.5.0",
      "model_name": "HBoxModel",
      "state": {
       "children": [
        "IPY_MODEL_10a68633b9334510b3bc82484751caa6",
        "IPY_MODEL_5fd6b7b937cc4d6a9f7fe02888939eae"
       ],
       "layout": "IPY_MODEL_dd567af105f94414bd366e26a6736763"
      }
     },
     "5abdf12aaa1a49958d2ff622b560e1d7": {
      "model_module": "@jupyter-widgets/base",
      "model_module_version": "1.2.0",
      "model_name": "LayoutModel",
      "state": {}
     },
     "5c1b75a2e36c41e4b6b0a3b2ca792430": {
      "model_module": "@jupyter-widgets/base",
      "model_module_version": "1.2.0",
      "model_name": "LayoutModel",
      "state": {}
     },
     "5c50d8d964ff4bb7903d5a22d6bc81d1": {
      "model_module": "@jupyter-widgets/controls",
      "model_module_version": "1.5.0",
      "model_name": "ProgressStyleModel",
      "state": {
       "description_width": "initial"
      }
     },
     "5c8e4dacd7ea4d83a76e3540815014b6": {
      "model_module": "@jupyter-widgets/base",
      "model_module_version": "1.2.0",
      "model_name": "LayoutModel",
      "state": {}
     },
     "5ca2636fcda64fc085490c441b82dd10": {
      "model_module": "@jupyter-widgets/controls",
      "model_module_version": "1.5.0",
      "model_name": "FloatProgressModel",
      "state": {
       "bar_style": "success",
       "description": "100%",
       "layout": "IPY_MODEL_ef72dc5667274d8ca8db214237415345",
       "max": 329155,
       "style": "IPY_MODEL_2b1f52998ba44d7fb15f5a3f3077c9fd",
       "value": 329155
      }
     },
     "5cffc88fb72a438eb145bdea6dcd382a": {
      "model_module": "@jupyter-widgets/base",
      "model_module_version": "1.2.0",
      "model_name": "LayoutModel",
      "state": {}
     },
     "5d0d2c08a8cd4104a6bbe7de8a9e262e": {
      "model_module": "@jupyter-widgets/base",
      "model_module_version": "1.2.0",
      "model_name": "LayoutModel",
      "state": {}
     },
     "5d0f51659c3c443e8d4fbeea64c14d4a": {
      "model_module": "@jupyter-widgets/controls",
      "model_module_version": "1.5.0",
      "model_name": "HBoxModel",
      "state": {
       "children": [
        "IPY_MODEL_6d0773c4330c45429750b0be55a00043",
        "IPY_MODEL_947475610d814f6a8f897c1d390806d8"
       ],
       "layout": "IPY_MODEL_9c84ba5ed5fa4bd888c38130245488ed"
      }
     },
     "5d17227951c74d02b4ff642dc31e0340": {
      "model_module": "@jupyter-widgets/base",
      "model_module_version": "1.2.0",
      "model_name": "LayoutModel",
      "state": {}
     },
     "5d3fe717b60f477e8851bdcc7af9a1f5": {
      "model_module": "@jupyter-widgets/controls",
      "model_module_version": "1.5.0",
      "model_name": "ProgressStyleModel",
      "state": {
       "description_width": "initial"
      }
     },
     "5d4f8c07d3004e6dae95eef77807a505": {
      "model_module": "@jupyter-widgets/base",
      "model_module_version": "1.2.0",
      "model_name": "LayoutModel",
      "state": {}
     },
     "5d6ccc9c02c940fd9cfa1ef27762bab8": {
      "model_module": "@jupyter-widgets/controls",
      "model_module_version": "1.5.0",
      "model_name": "FloatProgressModel",
      "state": {
       "bar_style": "success",
       "description": "100%",
       "layout": "IPY_MODEL_7aa0eef93c6348a7b065dfa0f47fb2d3",
       "max": 329155,
       "style": "IPY_MODEL_a35e381f669f4813a254dbd7438d3f60",
       "value": 329155
      }
     },
     "5db7017a6e5045a8a5a7b7c7634a3c74": {
      "model_module": "@jupyter-widgets/controls",
      "model_module_version": "1.5.0",
      "model_name": "ProgressStyleModel",
      "state": {
       "description_width": "initial"
      }
     },
     "5dfd72c2bf3b49e2a98ab4290652ff73": {
      "model_module": "@jupyter-widgets/base",
      "model_module_version": "1.2.0",
      "model_name": "LayoutModel",
      "state": {}
     },
     "5e061ec129674260b4bda3254c834074": {
      "model_module": "@jupyter-widgets/controls",
      "model_module_version": "1.5.0",
      "model_name": "ProgressStyleModel",
      "state": {
       "description_width": "initial"
      }
     },
     "5e43e89db7034831b0a6d683cefbebe0": {
      "model_module": "@jupyter-widgets/controls",
      "model_module_version": "1.5.0",
      "model_name": "HBoxModel",
      "state": {
       "children": [
        "IPY_MODEL_a8e6d6257f714fe7abeee22330c2a94e",
        "IPY_MODEL_191c29d73d54406eaa5ed1ee658df4b6"
       ],
       "layout": "IPY_MODEL_efc1dfdac30a4c9e932acfcf40e62661"
      }
     },
     "5e664a00b0de4befb2fc051e0e60bf63": {
      "model_module": "@jupyter-widgets/base",
      "model_module_version": "1.2.0",
      "model_name": "LayoutModel",
      "state": {}
     },
     "5e964b3a5677456d867636a1e099e9e7": {
      "model_module": "@jupyter-widgets/controls",
      "model_module_version": "1.5.0",
      "model_name": "ProgressStyleModel",
      "state": {
       "description_width": "initial"
      }
     },
     "5f053e7d3cc840cd81facb467a0605b5": {
      "model_module": "@jupyter-widgets/base",
      "model_module_version": "1.2.0",
      "model_name": "LayoutModel",
      "state": {}
     },
     "5f3ffd5af047445ebf4119197b90cdd8": {
      "model_module": "@jupyter-widgets/base",
      "model_module_version": "1.2.0",
      "model_name": "LayoutModel",
      "state": {}
     },
     "5f460c4b51a545de8df91e9c8072be4f": {
      "model_module": "@jupyter-widgets/base",
      "model_module_version": "1.2.0",
      "model_name": "LayoutModel",
      "state": {}
     },
     "5f4d004da9244d4cad998b72f0b3aeb5": {
      "model_module": "@jupyter-widgets/controls",
      "model_module_version": "1.5.0",
      "model_name": "FloatProgressModel",
      "state": {
       "bar_style": "success",
       "description": "100%",
       "layout": "IPY_MODEL_9be3f0a804dd4d61838831821f6d1bd2",
       "max": 329155,
       "style": "IPY_MODEL_e00878aef46a4a67b83a3ae0b58813a3",
       "value": 329155
      }
     },
     "5fa9ce69328544db8f771d23c50e2c8c": {
      "model_module": "@jupyter-widgets/controls",
      "model_module_version": "1.5.0",
      "model_name": "FloatProgressModel",
      "state": {
       "bar_style": "success",
       "description": "100%",
       "layout": "IPY_MODEL_89fe229252774ea0b1b53a945e34ba97",
       "max": 329155,
       "style": "IPY_MODEL_3d46c0b44da346019dcc6ca9f11cda9e",
       "value": 329155
      }
     },
     "5fcd2657f8684dcdafc73e8769a35945": {
      "model_module": "@jupyter-widgets/controls",
      "model_module_version": "1.5.0",
      "model_name": "HBoxModel",
      "state": {
       "children": [
        "IPY_MODEL_965b20f2d0524c1f8641813ea1ae036e",
        "IPY_MODEL_dd6a6c2b34924fbba833fc391e765abc"
       ],
       "layout": "IPY_MODEL_b95e21fc36d04d9aa33867fb537dbc85"
      }
     },
     "5fd6b7b937cc4d6a9f7fe02888939eae": {
      "model_module": "@jupyter-widgets/controls",
      "model_module_version": "1.5.0",
      "model_name": "HTMLModel",
      "state": {
       "layout": "IPY_MODEL_33f5b974f4bd4f68b5f3616fb6cc8a99",
       "style": "IPY_MODEL_9f3251350b2246ac8f1cde83e832a43f",
       "value": " 329155/329155 [26:46&lt;00:00, 204.95it/s]"
      }
     },
     "60229c24fba74870ab39c7cddf82bbec": {
      "model_module": "@jupyter-widgets/base",
      "model_module_version": "1.2.0",
      "model_name": "LayoutModel",
      "state": {}
     },
     "609f7588592d44d49625710ab7560f22": {
      "model_module": "@jupyter-widgets/controls",
      "model_module_version": "1.5.0",
      "model_name": "ProgressStyleModel",
      "state": {
       "description_width": "initial"
      }
     },
     "60dec6f593db4b71aa5737fa4d16ce48": {
      "model_module": "@jupyter-widgets/controls",
      "model_module_version": "1.5.0",
      "model_name": "HBoxModel",
      "state": {
       "children": [
        "IPY_MODEL_4e00b88c1561480b9587e9c72f53384c",
        "IPY_MODEL_0fdabc62a2c749e8964c120b5ce54c57"
       ],
       "layout": "IPY_MODEL_e45d480ea0f0458587bffff8890c5fb8"
      }
     },
     "60f8d6a2c0cc4436a9dec1a57b2fb020": {
      "model_module": "@jupyter-widgets/controls",
      "model_module_version": "1.5.0",
      "model_name": "ProgressStyleModel",
      "state": {
       "description_width": "initial"
      }
     },
     "6198f2fd2a6d4c6c8512f264eab790fb": {
      "model_module": "@jupyter-widgets/base",
      "model_module_version": "1.2.0",
      "model_name": "LayoutModel",
      "state": {}
     },
     "61f269a36758447da1f9923734665bfb": {
      "model_module": "@jupyter-widgets/controls",
      "model_module_version": "1.5.0",
      "model_name": "HBoxModel",
      "state": {
       "children": [
        "IPY_MODEL_7459d700d6c7439a9ad42fa09957f998",
        "IPY_MODEL_e1e1b2becfab4e30a2a218b986109740"
       ],
       "layout": "IPY_MODEL_dc1acaa0271549678e2bc1edf9e8a32b"
      }
     },
     "620345f602e44815b56382b48698db46": {
      "model_module": "@jupyter-widgets/controls",
      "model_module_version": "1.5.0",
      "model_name": "DescriptionStyleModel",
      "state": {
       "description_width": ""
      }
     },
     "6207f544b489493188790e1ef3a24096": {
      "model_module": "@jupyter-widgets/controls",
      "model_module_version": "1.5.0",
      "model_name": "FloatProgressModel",
      "state": {
       "bar_style": "success",
       "description": "100%",
       "layout": "IPY_MODEL_8f7526a0e0ce4cceaf4bc4ba01a940e3",
       "max": 35259,
       "style": "IPY_MODEL_2c0d62b9f54f4799ba62f08840236d26",
       "value": 35259
      }
     },
     "628f08821d5e4caf882f708a2806a587": {
      "model_module": "@jupyter-widgets/controls",
      "model_module_version": "1.5.0",
      "model_name": "HBoxModel",
      "state": {
       "children": [
        "IPY_MODEL_b7339e0f288b4775a59b5403e9c11de6",
        "IPY_MODEL_518d64742ed243238ee6f3117acf81e6"
       ],
       "layout": "IPY_MODEL_5cffc88fb72a438eb145bdea6dcd382a"
      }
     },
     "62c3e56f2ce44c24b7908bfdaeb54e4b": {
      "model_module": "@jupyter-widgets/controls",
      "model_module_version": "1.5.0",
      "model_name": "HBoxModel",
      "state": {
       "children": [
        "IPY_MODEL_934fef8bbba442d69cbbb38339dc230a",
        "IPY_MODEL_d77438834fde485ea0f749cd9c9c215d"
       ],
       "layout": "IPY_MODEL_1421279fed51495bbc514cb871f217a6"
      }
     },
     "63214afed9844d53818dfc64b203e65e": {
      "model_module": "@jupyter-widgets/base",
      "model_module_version": "1.2.0",
      "model_name": "LayoutModel",
      "state": {}
     },
     "63374276fc53412fbb3d96afac4d55d0": {
      "model_module": "@jupyter-widgets/controls",
      "model_module_version": "1.5.0",
      "model_name": "DescriptionStyleModel",
      "state": {
       "description_width": ""
      }
     },
     "634891b12e1244cfa2185a607c04f974": {
      "model_module": "@jupyter-widgets/base",
      "model_module_version": "1.2.0",
      "model_name": "LayoutModel",
      "state": {}
     },
     "636c2928cd7944fe9a4a4a886f91478f": {
      "model_module": "@jupyter-widgets/base",
      "model_module_version": "1.2.0",
      "model_name": "LayoutModel",
      "state": {}
     },
     "6399710cb18143fdbbbe0b5498bcd25a": {
      "model_module": "@jupyter-widgets/controls",
      "model_module_version": "1.5.0",
      "model_name": "ProgressStyleModel",
      "state": {
       "description_width": "initial"
      }
     },
     "63eb814366224920ab359eb6082750ba": {
      "model_module": "@jupyter-widgets/controls",
      "model_module_version": "1.5.0",
      "model_name": "DescriptionStyleModel",
      "state": {
       "description_width": ""
      }
     },
     "63ec2e5b088147e79efca032c164e25d": {
      "model_module": "@jupyter-widgets/base",
      "model_module_version": "1.2.0",
      "model_name": "LayoutModel",
      "state": {}
     },
     "645fc0cef2514de7943873250173d333": {
      "model_module": "@jupyter-widgets/base",
      "model_module_version": "1.2.0",
      "model_name": "LayoutModel",
      "state": {}
     },
     "64e4d89f7ca6452c8eac5e808aaca1f8": {
      "model_module": "@jupyter-widgets/controls",
      "model_module_version": "1.5.0",
      "model_name": "ProgressStyleModel",
      "state": {
       "description_width": "initial"
      }
     },
     "651d9c2ac15846799bdffc939bb58a2a": {
      "model_module": "@jupyter-widgets/controls",
      "model_module_version": "1.5.0",
      "model_name": "DescriptionStyleModel",
      "state": {
       "description_width": ""
      }
     },
     "6573f920fc4b4bba91145ec908c54936": {
      "model_module": "@jupyter-widgets/base",
      "model_module_version": "1.2.0",
      "model_name": "LayoutModel",
      "state": {}
     },
     "6595a3b0588f4b09a03ff625bb49bd00": {
      "model_module": "@jupyter-widgets/controls",
      "model_module_version": "1.5.0",
      "model_name": "ProgressStyleModel",
      "state": {
       "description_width": "initial"
      }
     },
     "668b17a3f30f4b5ea89d955213c9dbc3": {
      "model_module": "@jupyter-widgets/controls",
      "model_module_version": "1.5.0",
      "model_name": "HBoxModel",
      "state": {
       "children": [
        "IPY_MODEL_1801ec91fed544bd92d5283506e9f5b0",
        "IPY_MODEL_98af491471ac4e7a98939830d7ef1d95"
       ],
       "layout": "IPY_MODEL_3321c4fc583345819db238440637b99a"
      }
     },
     "669afe7603d94d47bde2630c709bc0f5": {
      "model_module": "@jupyter-widgets/controls",
      "model_module_version": "1.5.0",
      "model_name": "HBoxModel",
      "state": {
       "children": [
        "IPY_MODEL_f34b9f95faac4eb6ae80ee7950570e41",
        "IPY_MODEL_c96cf6c606204184b8008730ce527840"
       ],
       "layout": "IPY_MODEL_9b56ba1456fc497e83c56b2f6a0e88f0"
      }
     },
     "66b1082a37cf4c608e33ea46241d6507": {
      "model_module": "@jupyter-widgets/controls",
      "model_module_version": "1.5.0",
      "model_name": "FloatProgressModel",
      "state": {
       "bar_style": "success",
       "description": "100%",
       "layout": "IPY_MODEL_5a0b550d4a0242fd8073c233bae81f8c",
       "max": 329155,
       "style": "IPY_MODEL_15d789df861c4889a87c7509a1df5852",
       "value": 329155
      }
     },
     "675f4a0191d44dcd80c264ccf2a1e52a": {
      "model_module": "@jupyter-widgets/controls",
      "model_module_version": "1.5.0",
      "model_name": "FloatProgressModel",
      "state": {
       "bar_style": "danger",
       "description": "  0%",
       "layout": "IPY_MODEL_3dc8a74e2eaa456b8590f1a3bb6f5326",
       "max": 329155,
       "style": "IPY_MODEL_d02ed052787848fbaa9ad1df577744b5"
      }
     },
     "679c463e02864fcaaa50465a222c4a9a": {
      "model_module": "@jupyter-widgets/base",
      "model_module_version": "1.2.0",
      "model_name": "LayoutModel",
      "state": {}
     },
     "67a7a92337834ce88141c962b4c371ff": {
      "model_module": "@jupyter-widgets/controls",
      "model_module_version": "1.5.0",
      "model_name": "ProgressStyleModel",
      "state": {
       "description_width": "initial"
      }
     },
     "67bfd9a0aba24bc4a86293cb8705f8e1": {
      "model_module": "@jupyter-widgets/base",
      "model_module_version": "1.2.0",
      "model_name": "LayoutModel",
      "state": {}
     },
     "682f483ebb0b4e6dab7665232aae1364": {
      "model_module": "@jupyter-widgets/controls",
      "model_module_version": "1.5.0",
      "model_name": "DescriptionStyleModel",
      "state": {
       "description_width": ""
      }
     },
     "6834ec0fadc049c0be9ddd4a61bc6102": {
      "model_module": "@jupyter-widgets/controls",
      "model_module_version": "1.5.0",
      "model_name": "FloatProgressModel",
      "state": {
       "bar_style": "success",
       "description": "100%",
       "layout": "IPY_MODEL_b7ad45e9075143fcb350b523ee9a588e",
       "max": 329155,
       "style": "IPY_MODEL_0b8f9935e76f40bbb6b04546325fd9f5",
       "value": 329155
      }
     },
     "689f7c2db5ce4a699bd1bad146594924": {
      "model_module": "@jupyter-widgets/base",
      "model_module_version": "1.2.0",
      "model_name": "LayoutModel",
      "state": {}
     },
     "68bcce2fd64c4a77829e9bc9e747c423": {
      "model_module": "@jupyter-widgets/controls",
      "model_module_version": "1.5.0",
      "model_name": "HTMLModel",
      "state": {
       "layout": "IPY_MODEL_a1de9a0fd46344039ffd7dde4013a68e",
       "style": "IPY_MODEL_78a82ba72f224bed9e387b99916c91cb",
       "value": " 373801/373801 [04:45&lt;00:00, 1308.60it/s]"
      }
     },
     "68e74e5b23e1422aa2816416dadf5ed4": {
      "model_module": "@jupyter-widgets/controls",
      "model_module_version": "1.5.0",
      "model_name": "ProgressStyleModel",
      "state": {
       "description_width": "initial"
      }
     },
     "69b84d2727974e8d8f0d1410da6e1d29": {
      "model_module": "@jupyter-widgets/base",
      "model_module_version": "1.2.0",
      "model_name": "LayoutModel",
      "state": {}
     },
     "6a66e72323f542c1b8638c052b806242": {
      "model_module": "@jupyter-widgets/controls",
      "model_module_version": "1.5.0",
      "model_name": "HBoxModel",
      "state": {
       "children": [
        "IPY_MODEL_8a00e48c68794567b8f7dd04dc6b37ed",
        "IPY_MODEL_8eaf9f1252c6415b843296b0e57f0a9d"
       ],
       "layout": "IPY_MODEL_15d655d749c2455abb9b2d7998cefd11"
      }
     },
     "6ae69f06102b4dd58fbfce6cc8855987": {
      "model_module": "@jupyter-widgets/base",
      "model_module_version": "1.2.0",
      "model_name": "LayoutModel",
      "state": {}
     },
     "6b2e912f4f05458fbd448bdf72cf9b25": {
      "model_module": "@jupyter-widgets/base",
      "model_module_version": "1.2.0",
      "model_name": "LayoutModel",
      "state": {}
     },
     "6b396b717b214a958e0f6a4ea695272c": {
      "model_module": "@jupyter-widgets/controls",
      "model_module_version": "1.5.0",
      "model_name": "HBoxModel",
      "state": {
       "children": [
        "IPY_MODEL_1096953c785d436d92f92a838d9fcace",
        "IPY_MODEL_b4252cd45b2b4458bc88440c9af75ae8"
       ],
       "layout": "IPY_MODEL_d0dd2164876342f897d1e888702a5a34"
      }
     },
     "6b42977019dd47e68f23b5d355dfe8b2": {
      "model_module": "@jupyter-widgets/base",
      "model_module_version": "1.2.0",
      "model_name": "LayoutModel",
      "state": {}
     },
     "6b661de8fc754f8ea4ed44bc64502d31": {
      "model_module": "@jupyter-widgets/controls",
      "model_module_version": "1.5.0",
      "model_name": "DescriptionStyleModel",
      "state": {
       "description_width": ""
      }
     },
     "6c4281b562f34c1ea3810281722c039a": {
      "model_module": "@jupyter-widgets/controls",
      "model_module_version": "1.5.0",
      "model_name": "HBoxModel",
      "state": {
       "children": [
        "IPY_MODEL_fa8d8290991a4979999d86e71f6ca078",
        "IPY_MODEL_275787625e3f4b0dba7736578b4c14e7"
       ],
       "layout": "IPY_MODEL_e082b3df6ece4722b83d965976b5e47a"
      }
     },
     "6d0773c4330c45429750b0be55a00043": {
      "model_module": "@jupyter-widgets/controls",
      "model_module_version": "1.5.0",
      "model_name": "FloatProgressModel",
      "state": {
       "bar_style": "danger",
       "description": "  0%",
       "layout": "IPY_MODEL_acdf7e676e324f70846a87c494a0a239",
       "max": 329155,
       "style": "IPY_MODEL_51fc0bce6bbc4c9e90ab53b68839960a"
      }
     },
     "6d1d98cdaae446bbaa5b3fd2062bd7bc": {
      "model_module": "@jupyter-widgets/base",
      "model_module_version": "1.2.0",
      "model_name": "LayoutModel",
      "state": {}
     },
     "6d3e014201ed4a29abc0c57828e3793b": {
      "model_module": "@jupyter-widgets/base",
      "model_module_version": "1.2.0",
      "model_name": "LayoutModel",
      "state": {}
     },
     "6e0de656a9424a7b8a855151527c05da": {
      "model_module": "@jupyter-widgets/base",
      "model_module_version": "1.2.0",
      "model_name": "LayoutModel",
      "state": {}
     },
     "6e3bb23bcbfd4c0c8de1524f42f51b33": {
      "model_module": "@jupyter-widgets/controls",
      "model_module_version": "1.5.0",
      "model_name": "FloatProgressModel",
      "state": {
       "bar_style": "success",
       "description": "100%",
       "layout": "IPY_MODEL_120912b2d7354d3591bafc93411c20d0",
       "max": 329155,
       "style": "IPY_MODEL_8db45b2486814c77a42cef4ca6a788b5",
       "value": 329155
      }
     },
     "6e4611104e1b4c599e37e11072767f86": {
      "model_module": "@jupyter-widgets/base",
      "model_module_version": "1.2.0",
      "model_name": "LayoutModel",
      "state": {}
     },
     "6e7f31b868c0442eb448ed062ba2b52d": {
      "model_module": "@jupyter-widgets/controls",
      "model_module_version": "1.5.0",
      "model_name": "FloatProgressModel",
      "state": {
       "bar_style": "success",
       "description": "100%",
       "layout": "IPY_MODEL_b09ed95ba9d04ba78e05be8d77cf4490",
       "max": 35259,
       "style": "IPY_MODEL_706e93794f0746a4b4d95ced1dfc8f3e",
       "value": 35259
      }
     },
     "6f29901928e24c6a945edcb34df8260a": {
      "model_module": "@jupyter-widgets/controls",
      "model_module_version": "1.5.0",
      "model_name": "HBoxModel",
      "state": {
       "children": [
        "IPY_MODEL_4da55c0cfd034e76b3a6e7072f3305e2",
        "IPY_MODEL_dfd16dd3e08541f89970e44d31496e11"
       ],
       "layout": "IPY_MODEL_9e0d4df89a22448da1203cb0a6afcdad"
      }
     },
     "6f42e31d3f50410392a2faeef9bc6060": {
      "model_module": "@jupyter-widgets/base",
      "model_module_version": "1.2.0",
      "model_name": "LayoutModel",
      "state": {}
     },
     "6f8ee7027a0040f1a8b379cd833ce021": {
      "model_module": "@jupyter-widgets/base",
      "model_module_version": "1.2.0",
      "model_name": "LayoutModel",
      "state": {}
     },
     "6fc7571e7070483baa663cfac10afc54": {
      "model_module": "@jupyter-widgets/controls",
      "model_module_version": "1.5.0",
      "model_name": "DescriptionStyleModel",
      "state": {
       "description_width": ""
      }
     },
     "6ff2e6b1d32e47a1858dde5e27675311": {
      "model_module": "@jupyter-widgets/base",
      "model_module_version": "1.2.0",
      "model_name": "LayoutModel",
      "state": {}
     },
     "70267df466cc4102bfebe718098ec175": {
      "model_module": "@jupyter-widgets/base",
      "model_module_version": "1.2.0",
      "model_name": "LayoutModel",
      "state": {}
     },
     "70499bf77fa04d088564cb6e2cd25b33": {
      "model_module": "@jupyter-widgets/base",
      "model_module_version": "1.2.0",
      "model_name": "LayoutModel",
      "state": {}
     },
     "704cc9161250416c90ec7795cce425dd": {
      "model_module": "@jupyter-widgets/controls",
      "model_module_version": "1.5.0",
      "model_name": "DescriptionStyleModel",
      "state": {
       "description_width": ""
      }
     },
     "706e93794f0746a4b4d95ced1dfc8f3e": {
      "model_module": "@jupyter-widgets/controls",
      "model_module_version": "1.5.0",
      "model_name": "ProgressStyleModel",
      "state": {
       "description_width": "initial"
      }
     },
     "708d2682d0c94c4ab881e371a5575637": {
      "model_module": "@jupyter-widgets/controls",
      "model_module_version": "1.5.0",
      "model_name": "HTMLModel",
      "state": {
       "layout": "IPY_MODEL_9c82bf06b4df43bc83dd533851c1b560",
       "style": "IPY_MODEL_937569646c054b2ea1bbe969b8b5f059",
       "value": " 329155/329155 [13:43&lt;00:00, 399.47it/s]"
      }
     },
     "70d2115e268a450f8e28f4ca9c1d6f8c": {
      "model_module": "@jupyter-widgets/base",
      "model_module_version": "1.2.0",
      "model_name": "LayoutModel",
      "state": {}
     },
     "71f47be47ba04fdc9ae6fc6f0a771ff7": {
      "model_module": "@jupyter-widgets/controls",
      "model_module_version": "1.5.0",
      "model_name": "DescriptionStyleModel",
      "state": {
       "description_width": ""
      }
     },
     "71f58f03bae343389a793a5e13f74ff4": {
      "model_module": "@jupyter-widgets/controls",
      "model_module_version": "1.5.0",
      "model_name": "HBoxModel",
      "state": {
       "children": [
        "IPY_MODEL_e554fee0f28e4ab5b1b73640a694dd1a",
        "IPY_MODEL_fabab0799dde4b1c94a262156fde27ff"
       ],
       "layout": "IPY_MODEL_f699fe7fccf54d2f832424b6ff1fb8fc"
      }
     },
     "71ff923c6ecc4970bbf1f5b15c5ffdf5": {
      "model_module": "@jupyter-widgets/controls",
      "model_module_version": "1.5.0",
      "model_name": "DescriptionStyleModel",
      "state": {
       "description_width": ""
      }
     },
     "720efbe3f6cb4307b6b2835a3c3eee19": {
      "model_module": "@jupyter-widgets/controls",
      "model_module_version": "1.5.0",
      "model_name": "DescriptionStyleModel",
      "state": {
       "description_width": ""
      }
     },
     "724cf55fd28645c49bbe736ce899066c": {
      "model_module": "@jupyter-widgets/base",
      "model_module_version": "1.2.0",
      "model_name": "LayoutModel",
      "state": {}
     },
     "72c15df5dc7c474d91980968e22db40a": {
      "model_module": "@jupyter-widgets/controls",
      "model_module_version": "1.5.0",
      "model_name": "FloatProgressModel",
      "state": {
       "bar_style": "success",
       "description": "100%",
       "layout": "IPY_MODEL_2c1f7cd5e3d54f01a05f6419865eab22",
       "max": 329155,
       "style": "IPY_MODEL_3d8125f8e5884968abcecb61d0058f67",
       "value": 329155
      }
     },
     "732c18e7c3844fe2aa0cb54a35142bf7": {
      "model_module": "@jupyter-widgets/controls",
      "model_module_version": "1.5.0",
      "model_name": "HBoxModel",
      "state": {
       "children": [
        "IPY_MODEL_675f4a0191d44dcd80c264ccf2a1e52a",
        "IPY_MODEL_4779ab7ec5f7462b86dcfd01fac28ad2"
       ],
       "layout": "IPY_MODEL_4b0e69e93cd34293a2961b60cc328b4e"
      }
     },
     "742915bee8624e3aa6c9fcaaeffe3bcb": {
      "model_module": "@jupyter-widgets/base",
      "model_module_version": "1.2.0",
      "model_name": "LayoutModel",
      "state": {}
     },
     "7459d700d6c7439a9ad42fa09957f998": {
      "model_module": "@jupyter-widgets/controls",
      "model_module_version": "1.5.0",
      "model_name": "FloatProgressModel",
      "state": {
       "bar_style": "success",
       "description": "100%",
       "layout": "IPY_MODEL_eed3fd10b4e9418a94b55577f7a8812b",
       "max": 329155,
       "style": "IPY_MODEL_f84fa1e2c2fe4cad844b6837957d23bc",
       "value": 329155
      }
     },
     "746530fe02244e4fa0f09b5dd06bbf02": {
      "model_module": "@jupyter-widgets/controls",
      "model_module_version": "1.5.0",
      "model_name": "DescriptionStyleModel",
      "state": {
       "description_width": ""
      }
     },
     "74a48241c5a5469c98f8038de7901436": {
      "model_module": "@jupyter-widgets/controls",
      "model_module_version": "1.5.0",
      "model_name": "DescriptionStyleModel",
      "state": {
       "description_width": ""
      }
     },
     "750aa77fc7744179a338f5cb64b6137a": {
      "model_module": "@jupyter-widgets/controls",
      "model_module_version": "1.5.0",
      "model_name": "FloatProgressModel",
      "state": {
       "bar_style": "danger",
       "description": "  0%",
       "layout": "IPY_MODEL_09dc85b7578f4b7ca36262d806e03293",
       "max": 329155,
       "style": "IPY_MODEL_41c8fdc564f648468ea9f4bc55153fe1"
      }
     },
     "753a307c035148d6bc8c948357ccf0ec": {
      "model_module": "@jupyter-widgets/base",
      "model_module_version": "1.2.0",
      "model_name": "LayoutModel",
      "state": {}
     },
     "7568c28eb2da49cc8063f74b22d3a9e4": {
      "model_module": "@jupyter-widgets/controls",
      "model_module_version": "1.5.0",
      "model_name": "DescriptionStyleModel",
      "state": {
       "description_width": ""
      }
     },
     "75a5d4299511417592b5b770975acbc7": {
      "model_module": "@jupyter-widgets/controls",
      "model_module_version": "1.5.0",
      "model_name": "FloatProgressModel",
      "state": {
       "bar_style": "success",
       "description": "100%",
       "layout": "IPY_MODEL_a117ac213e384b909d5eb9bf778ffe6f",
       "max": 329155,
       "style": "IPY_MODEL_c446bbe70fa740babe9d487efb2fcf13",
       "value": 329155
      }
     },
     "7609e7047e39489cb9685d64a211a543": {
      "model_module": "@jupyter-widgets/base",
      "model_module_version": "1.2.0",
      "model_name": "LayoutModel",
      "state": {}
     },
     "769866b3e93a403e81ea2cb3e1645e12": {
      "model_module": "@jupyter-widgets/controls",
      "model_module_version": "1.5.0",
      "model_name": "DescriptionStyleModel",
      "state": {
       "description_width": ""
      }
     },
     "76cd9bf9c80a407181c6d99d7ba3a131": {
      "model_module": "@jupyter-widgets/base",
      "model_module_version": "1.2.0",
      "model_name": "LayoutModel",
      "state": {}
     },
     "7741fd7a45124320865bd6a3a4e60888": {
      "model_module": "@jupyter-widgets/controls",
      "model_module_version": "1.5.0",
      "model_name": "ProgressStyleModel",
      "state": {
       "description_width": "initial"
      }
     },
     "7750c7f1539a4e8695931044dd6c04a2": {
      "model_module": "@jupyter-widgets/base",
      "model_module_version": "1.2.0",
      "model_name": "LayoutModel",
      "state": {}
     },
     "7799ec74a93946da9efaa966da6dc070": {
      "model_module": "@jupyter-widgets/controls",
      "model_module_version": "1.5.0",
      "model_name": "ProgressStyleModel",
      "state": {
       "description_width": "initial"
      }
     },
     "7827d552b198467794d8dbc6e619b649": {
      "model_module": "@jupyter-widgets/controls",
      "model_module_version": "1.5.0",
      "model_name": "DescriptionStyleModel",
      "state": {
       "description_width": ""
      }
     },
     "7872fa326fe64aa29c6eba335eb79fc0": {
      "model_module": "@jupyter-widgets/controls",
      "model_module_version": "1.5.0",
      "model_name": "ProgressStyleModel",
      "state": {
       "description_width": "initial"
      }
     },
     "787c35e995064c3291c87cd3c083cff2": {
      "model_module": "@jupyter-widgets/controls",
      "model_module_version": "1.5.0",
      "model_name": "ProgressStyleModel",
      "state": {
       "description_width": "initial"
      }
     },
     "78a82ba72f224bed9e387b99916c91cb": {
      "model_module": "@jupyter-widgets/controls",
      "model_module_version": "1.5.0",
      "model_name": "DescriptionStyleModel",
      "state": {
       "description_width": ""
      }
     },
     "78e5d02828224c6ca287a61e774f45be": {
      "model_module": "@jupyter-widgets/base",
      "model_module_version": "1.2.0",
      "model_name": "LayoutModel",
      "state": {}
     },
     "78ef1191ca5a43a987573dd8470d931d": {
      "model_module": "@jupyter-widgets/controls",
      "model_module_version": "1.5.0",
      "model_name": "FloatProgressModel",
      "state": {
       "bar_style": "danger",
       "description": "  8%",
       "layout": "IPY_MODEL_119952f40b0e4e9e986e2731e07d0f61",
       "max": 329155,
       "style": "IPY_MODEL_a83512dd5cdd4476890abfedb0fc7c86",
       "value": 27311
      }
     },
     "7949adb7bc474be88d0d6021623b8e3a": {
      "model_module": "@jupyter-widgets/controls",
      "model_module_version": "1.5.0",
      "model_name": "DescriptionStyleModel",
      "state": {
       "description_width": ""
      }
     },
     "795edd9d4f314a2c9b07ac45d03434fa": {
      "model_module": "@jupyter-widgets/controls",
      "model_module_version": "1.5.0",
      "model_name": "FloatProgressModel",
      "state": {
       "bar_style": "success",
       "description": "100%",
       "layout": "IPY_MODEL_a6dcdd7549ee4110bbc860aa51650349",
       "max": 329155,
       "style": "IPY_MODEL_fd4a62eacddd4781acaaa5d6430ffe89",
       "value": 329155
      }
     },
     "79bd20c3d566498c86d965821a6a5002": {
      "model_module": "@jupyter-widgets/base",
      "model_module_version": "1.2.0",
      "model_name": "LayoutModel",
      "state": {}
     },
     "79bf6a69d4264c6baf564b66d0d7c9ef": {
      "model_module": "@jupyter-widgets/base",
      "model_module_version": "1.2.0",
      "model_name": "LayoutModel",
      "state": {}
     },
     "79d209a09bb745dd9f1c52ce0f4ecf1c": {
      "model_module": "@jupyter-widgets/controls",
      "model_module_version": "1.5.0",
      "model_name": "DescriptionStyleModel",
      "state": {
       "description_width": ""
      }
     },
     "79e14ebe502c42739e7762932c87aac6": {
      "model_module": "@jupyter-widgets/controls",
      "model_module_version": "1.5.0",
      "model_name": "ProgressStyleModel",
      "state": {
       "description_width": "initial"
      }
     },
     "79f33e43a8f54e0891b55a9da5a8f5f7": {
      "model_module": "@jupyter-widgets/controls",
      "model_module_version": "1.5.0",
      "model_name": "FloatProgressModel",
      "state": {
       "bar_style": "danger",
       "description": "  0%",
       "layout": "IPY_MODEL_f215fd5b501e4e85b81712fcbd9eb39d",
       "max": 329155,
       "style": "IPY_MODEL_ffe3d8bd418f457b879765862b0f724a"
      }
     },
     "79fd3d1a595d4b668b086812ede03132": {
      "model_module": "@jupyter-widgets/base",
      "model_module_version": "1.2.0",
      "model_name": "LayoutModel",
      "state": {}
     },
     "7a75803110be489791aac2dbb337a0ec": {
      "model_module": "@jupyter-widgets/controls",
      "model_module_version": "1.5.0",
      "model_name": "DescriptionStyleModel",
      "state": {
       "description_width": ""
      }
     },
     "7aa0eef93c6348a7b065dfa0f47fb2d3": {
      "model_module": "@jupyter-widgets/base",
      "model_module_version": "1.2.0",
      "model_name": "LayoutModel",
      "state": {}
     },
     "7b1ba467694d4772ab9e7923e2ee9e79": {
      "model_module": "@jupyter-widgets/controls",
      "model_module_version": "1.5.0",
      "model_name": "HTMLModel",
      "state": {
       "layout": "IPY_MODEL_e0b78318adbf452ebfd5cde48fb97acb",
       "style": "IPY_MODEL_0bc28b8480f145c9a5f2f74a633de664",
       "value": " 329155/329155 [10:04&lt;00:00, 544.11it/s]"
      }
     },
     "7b5a8728bb9748e6b29613b0c9620d58": {
      "model_module": "@jupyter-widgets/controls",
      "model_module_version": "1.5.0",
      "model_name": "HTMLModel",
      "state": {
       "layout": "IPY_MODEL_f2728e22f8984e1093f061dba475d41c",
       "style": "IPY_MODEL_10086204f8bb45698ac03df2bd77ac15",
       "value": " 4/4 [53:39&lt;00:00, 804.99s/it]"
      }
     },
     "7b7ff670cec94e709f470287010ec854": {
      "model_module": "@jupyter-widgets/controls",
      "model_module_version": "1.5.0",
      "model_name": "HBoxModel",
      "state": {
       "children": [
        "IPY_MODEL_2e8099a95e69457c8a9be80e2d26b052",
        "IPY_MODEL_bddab6bc74dd4050afcaa9576e60aeb9"
       ],
       "layout": "IPY_MODEL_083399ddedff4b92a520a3dcf2b66aae"
      }
     },
     "7b9a045f6d0849fdbc1ff918d84030eb": {
      "model_module": "@jupyter-widgets/base",
      "model_module_version": "1.2.0",
      "model_name": "LayoutModel",
      "state": {}
     },
     "7bc70f1f7e454eb493ec7028b2f09263": {
      "model_module": "@jupyter-widgets/base",
      "model_module_version": "1.2.0",
      "model_name": "LayoutModel",
      "state": {}
     },
     "7c02a265fbe149d1a362dbb0b74441e0": {
      "model_module": "@jupyter-widgets/base",
      "model_module_version": "1.2.0",
      "model_name": "LayoutModel",
      "state": {}
     },
     "7c1907d0d8214c968a05bd07c596b185": {
      "model_module": "@jupyter-widgets/base",
      "model_module_version": "1.2.0",
      "model_name": "LayoutModel",
      "state": {}
     },
     "7c219b8ff03d4267bdabd7eddf308930": {
      "model_module": "@jupyter-widgets/base",
      "model_module_version": "1.2.0",
      "model_name": "LayoutModel",
      "state": {}
     },
     "7c257d9574d04908acb92acd76a6c391": {
      "model_module": "@jupyter-widgets/controls",
      "model_module_version": "1.5.0",
      "model_name": "FloatProgressModel",
      "state": {
       "bar_style": "success",
       "description": "100%",
       "layout": "IPY_MODEL_e214e4213d21493eb3ca5835c7a2d2d5",
       "max": 329155,
       "style": "IPY_MODEL_c73dd7781eb44b8eb9695b831ad579d0",
       "value": 329155
      }
     },
     "7c37d8d091d84da1b4d4665ce680f385": {
      "model_module": "@jupyter-widgets/controls",
      "model_module_version": "1.5.0",
      "model_name": "FloatProgressModel",
      "state": {
       "bar_style": "success",
       "description": "100%",
       "layout": "IPY_MODEL_6573f920fc4b4bba91145ec908c54936",
       "max": 1,
       "style": "IPY_MODEL_418b84adc3494b51960bc669e69dcc28",
       "value": 1
      }
     },
     "7ce311f27d3f4bc2affc307ae3716968": {
      "model_module": "@jupyter-widgets/base",
      "model_module_version": "1.2.0",
      "model_name": "LayoutModel",
      "state": {}
     },
     "7cfb982cd4364765ab5cfce9de5b7827": {
      "model_module": "@jupyter-widgets/controls",
      "model_module_version": "1.5.0",
      "model_name": "ProgressStyleModel",
      "state": {
       "description_width": "initial"
      }
     },
     "7d40625389a74536aaac637af1fadc05": {
      "model_module": "@jupyter-widgets/controls",
      "model_module_version": "1.5.0",
      "model_name": "DescriptionStyleModel",
      "state": {
       "description_width": ""
      }
     },
     "7d944b66771b471ea3e85a386150a704": {
      "model_module": "@jupyter-widgets/base",
      "model_module_version": "1.2.0",
      "model_name": "LayoutModel",
      "state": {}
     },
     "7db3f1a18c2d49bab3175ea0096aecff": {
      "model_module": "@jupyter-widgets/controls",
      "model_module_version": "1.5.0",
      "model_name": "DescriptionStyleModel",
      "state": {
       "description_width": ""
      }
     },
     "7dcce3792ab3451da3453e2e021e901b": {
      "model_module": "@jupyter-widgets/base",
      "model_module_version": "1.2.0",
      "model_name": "LayoutModel",
      "state": {}
     },
     "7dff5dab1d1d451d8ddff0ef84bf63c9": {
      "model_module": "@jupyter-widgets/controls",
      "model_module_version": "1.5.0",
      "model_name": "FloatProgressModel",
      "state": {
       "bar_style": "success",
       "description": "100%",
       "layout": "IPY_MODEL_d30369a24c0f4bedb961849f68c37a67",
       "max": 329155,
       "style": "IPY_MODEL_60f8d6a2c0cc4436a9dec1a57b2fb020",
       "value": 329155
      }
     },
     "7e46cfec07b6473eab305f7c096d123f": {
      "model_module": "@jupyter-widgets/controls",
      "model_module_version": "1.5.0",
      "model_name": "HTMLModel",
      "state": {
       "layout": "IPY_MODEL_b1697a69c6ed4a8bb89f57d38f8b7dcb",
       "style": "IPY_MODEL_927cdc2ce06f49d1a190ed7241855cc2",
       "value": " 35259/35259 [00:02&lt;00:00, 13600.67it/s]"
      }
     },
     "7ee84fa2ac604424bae1e46ceec1300c": {
      "model_module": "@jupyter-widgets/controls",
      "model_module_version": "1.5.0",
      "model_name": "HTMLModel",
      "state": {
       "layout": "IPY_MODEL_085d1a56144c43e1bd5458551526db34",
       "style": "IPY_MODEL_bf2a9e0b8eb24aafa2a053f51bd5ec5b",
       "value": " 329155/329155 [20:10&lt;00:00, 271.91it/s]"
      }
     },
     "7f7027a766404a51966867c0cc60e553": {
      "model_module": "@jupyter-widgets/controls",
      "model_module_version": "1.5.0",
      "model_name": "HBoxModel",
      "state": {
       "children": [
        "IPY_MODEL_446ffda9edc447aa803a0741bb7d4504",
        "IPY_MODEL_9b3b81fa35a14a598e14e765ddee4f8c"
       ],
       "layout": "IPY_MODEL_c4c26470b0e74752af38dc6996111a04"
      }
     },
     "800e6e23eb434101a5720c6695f1ecb0": {
      "model_module": "@jupyter-widgets/base",
      "model_module_version": "1.2.0",
      "model_name": "LayoutModel",
      "state": {}
     },
     "80289058bc174075a7351268546c1ba6": {
      "model_module": "@jupyter-widgets/base",
      "model_module_version": "1.2.0",
      "model_name": "LayoutModel",
      "state": {}
     },
     "80344fbbae634c54b0283f866208060f": {
      "model_module": "@jupyter-widgets/controls",
      "model_module_version": "1.5.0",
      "model_name": "DescriptionStyleModel",
      "state": {
       "description_width": ""
      }
     },
     "805fcd9805c64bbb945f3d36d07bb4ae": {
      "model_module": "@jupyter-widgets/controls",
      "model_module_version": "1.5.0",
      "model_name": "DescriptionStyleModel",
      "state": {
       "description_width": ""
      }
     },
     "810a23b43e8b49059933931046502273": {
      "model_module": "@jupyter-widgets/controls",
      "model_module_version": "1.5.0",
      "model_name": "DescriptionStyleModel",
      "state": {
       "description_width": ""
      }
     },
     "811975366c5747398936fe1e6a90e94d": {
      "model_module": "@jupyter-widgets/base",
      "model_module_version": "1.2.0",
      "model_name": "LayoutModel",
      "state": {}
     },
     "819978d3617a4b91934a956b90458437": {
      "model_module": "@jupyter-widgets/controls",
      "model_module_version": "1.5.0",
      "model_name": "FloatProgressModel",
      "state": {
       "bar_style": "danger",
       "description": "  0%",
       "layout": "IPY_MODEL_2b3dafde1a2245f4b4cb96eb831defee",
       "max": 329155,
       "style": "IPY_MODEL_787c35e995064c3291c87cd3c083cff2"
      }
     },
     "81b5cb6b90f64d688ad4cc25a4702eeb": {
      "model_module": "@jupyter-widgets/controls",
      "model_module_version": "1.5.0",
      "model_name": "HBoxModel",
      "state": {
       "children": [
        "IPY_MODEL_1337df327ffd421d83b855c10413c175",
        "IPY_MODEL_e6a0ce778b4d41df8a3d1135c7d6126c"
       ],
       "layout": "IPY_MODEL_c120c5e347a740c2a90fa0300367677f"
      }
     },
     "81bf5e17287747b4abe15c0665fbe346": {
      "model_module": "@jupyter-widgets/base",
      "model_module_version": "1.2.0",
      "model_name": "LayoutModel",
      "state": {}
     },
     "82cd0a6ce18246ba90924d95652e277d": {
      "model_module": "@jupyter-widgets/controls",
      "model_module_version": "1.5.0",
      "model_name": "DescriptionStyleModel",
      "state": {
       "description_width": ""
      }
     },
     "83ef05e23a844443949d5c43c54ffce2": {
      "model_module": "@jupyter-widgets/controls",
      "model_module_version": "1.5.0",
      "model_name": "HBoxModel",
      "state": {
       "children": [
        "IPY_MODEL_ead2fd826e714354b5d374f92571333d",
        "IPY_MODEL_2458bcc1dedd421c86a2276a3fe48f14"
       ],
       "layout": "IPY_MODEL_9e52ff7c7a214a8295ef81ac26a1604a"
      }
     },
     "83fb9a9281f24fc48367866857369e7c": {
      "model_module": "@jupyter-widgets/controls",
      "model_module_version": "1.5.0",
      "model_name": "DescriptionStyleModel",
      "state": {
       "description_width": ""
      }
     },
     "8420b9d965904efd8414a7e2daa375d2": {
      "model_module": "@jupyter-widgets/controls",
      "model_module_version": "1.5.0",
      "model_name": "DescriptionStyleModel",
      "state": {
       "description_width": ""
      }
     },
     "84a1de17fe554c6c858d06c3dd80eb60": {
      "model_module": "@jupyter-widgets/base",
      "model_module_version": "1.2.0",
      "model_name": "LayoutModel",
      "state": {}
     },
     "84f380aacfe642049003360e12020fc0": {
      "model_module": "@jupyter-widgets/controls",
      "model_module_version": "1.5.0",
      "model_name": "ProgressStyleModel",
      "state": {
       "description_width": "initial"
      }
     },
     "8575e2ef63994bbf8790a46272184d81": {
      "model_module": "@jupyter-widgets/base",
      "model_module_version": "1.2.0",
      "model_name": "LayoutModel",
      "state": {}
     },
     "85ec9c0874af4a1994ead39e338576d7": {
      "model_module": "@jupyter-widgets/controls",
      "model_module_version": "1.5.0",
      "model_name": "HTMLModel",
      "state": {
       "layout": "IPY_MODEL_b37040b6abc1496e97e15bf8d3473039",
       "style": "IPY_MODEL_82cd0a6ce18246ba90924d95652e277d",
       "value": " 329155/329155 [2:40:52&lt;00:00, 34.10it/s]"
      }
     },
     "8614093c36094784be88bd3594792421": {
      "model_module": "@jupyter-widgets/base",
      "model_module_version": "1.2.0",
      "model_name": "LayoutModel",
      "state": {}
     },
     "865eb29090954c8fa833f40936f9886c": {
      "model_module": "@jupyter-widgets/controls",
      "model_module_version": "1.5.0",
      "model_name": "HTMLModel",
      "state": {
       "layout": "IPY_MODEL_90ca10688d8449bab9c3efc688bd8961",
       "style": "IPY_MODEL_a09c708b6eae4872b6d480243b998ab5",
       "value": " 329155/329155 [10:08&lt;00:00, 541.27it/s]"
      }
     },
     "8679eeded881468c9cb65943987c818d": {
      "model_module": "@jupyter-widgets/base",
      "model_module_version": "1.2.0",
      "model_name": "LayoutModel",
      "state": {}
     },
     "868af0b6a05d414b9cde07dc6928dcfc": {
      "model_module": "@jupyter-widgets/base",
      "model_module_version": "1.2.0",
      "model_name": "LayoutModel",
      "state": {}
     },
     "86ae1cb3f66a4f00871fdf0a184287ec": {
      "model_module": "@jupyter-widgets/base",
      "model_module_version": "1.2.0",
      "model_name": "LayoutModel",
      "state": {}
     },
     "873af2c892e64492b6c6c0dae6abe7c7": {
      "model_module": "@jupyter-widgets/base",
      "model_module_version": "1.2.0",
      "model_name": "LayoutModel",
      "state": {}
     },
     "8789a87f7fef4f6980a7745edab68fda": {
      "model_module": "@jupyter-widgets/controls",
      "model_module_version": "1.5.0",
      "model_name": "ProgressStyleModel",
      "state": {
       "description_width": "initial"
      }
     },
     "878e5bfffa79451c875ac6a145e4b9df": {
      "model_module": "@jupyter-widgets/controls",
      "model_module_version": "1.5.0",
      "model_name": "ProgressStyleModel",
      "state": {
       "description_width": "initial"
      }
     },
     "88bd848536fc46b5aa5ea6bc8f056be6": {
      "model_module": "@jupyter-widgets/controls",
      "model_module_version": "1.5.0",
      "model_name": "HTMLModel",
      "state": {
       "layout": "IPY_MODEL_926572ed335e434991d9ef8daf35b2f6",
       "style": "IPY_MODEL_f06ad5f9491a40018d784e61f62888a9",
       "value": " 35259/35259 [10:17:03&lt;00:00,  1.05s/it]"
      }
     },
     "88f08c424aed481f9f148f17a3396c38": {
      "model_module": "@jupyter-widgets/base",
      "model_module_version": "1.2.0",
      "model_name": "LayoutModel",
      "state": {}
     },
     "8915f890fb9c44579cac63e8a221b6f3": {
      "model_module": "@jupyter-widgets/base",
      "model_module_version": "1.2.0",
      "model_name": "LayoutModel",
      "state": {}
     },
     "892abe34f96840df8106a5ba6098a63d": {
      "model_module": "@jupyter-widgets/controls",
      "model_module_version": "1.5.0",
      "model_name": "ProgressStyleModel",
      "state": {
       "description_width": "initial"
      }
     },
     "897861a496fd41e3bd88edf27108e682": {
      "model_module": "@jupyter-widgets/controls",
      "model_module_version": "1.5.0",
      "model_name": "DescriptionStyleModel",
      "state": {
       "description_width": ""
      }
     },
     "89fe229252774ea0b1b53a945e34ba97": {
      "model_module": "@jupyter-widgets/base",
      "model_module_version": "1.2.0",
      "model_name": "LayoutModel",
      "state": {}
     },
     "8a00e48c68794567b8f7dd04dc6b37ed": {
      "model_module": "@jupyter-widgets/controls",
      "model_module_version": "1.5.0",
      "model_name": "FloatProgressModel",
      "state": {
       "bar_style": "danger",
       "description": "  0%",
       "layout": "IPY_MODEL_032b9d9ad118416292d70d9f7205a810",
       "max": 329155,
       "style": "IPY_MODEL_37603f02fa2b4cf3874e2b7724364035"
      }
     },
     "8a0f0c98707d4e16b2a52f4288a1b7ef": {
      "model_module": "@jupyter-widgets/base",
      "model_module_version": "1.2.0",
      "model_name": "LayoutModel",
      "state": {}
     },
     "8a1d30a7b8e046ddb1d01344eb15328b": {
      "model_module": "@jupyter-widgets/controls",
      "model_module_version": "1.5.0",
      "model_name": "DescriptionStyleModel",
      "state": {
       "description_width": ""
      }
     },
     "8a218d0bf2a54632b3e08fb466da02c8": {
      "model_module": "@jupyter-widgets/controls",
      "model_module_version": "1.5.0",
      "model_name": "HTMLModel",
      "state": {
       "layout": "IPY_MODEL_67bfd9a0aba24bc4a86293cb8705f8e1",
       "style": "IPY_MODEL_b67ae9aec38140ea86d9006acf2e58fb",
       "value": " 52058/329155 [00:12&lt;01:44, 2649.40it/s]"
      }
     },
     "8a4e5f793fe04215ae1079f5c3f06067": {
      "model_module": "@jupyter-widgets/controls",
      "model_module_version": "1.5.0",
      "model_name": "DescriptionStyleModel",
      "state": {
       "description_width": ""
      }
     },
     "8a7ee232ef404f9ba5f05e67722ad386": {
      "model_module": "@jupyter-widgets/controls",
      "model_module_version": "1.5.0",
      "model_name": "DescriptionStyleModel",
      "state": {
       "description_width": ""
      }
     },
     "8aa671396bf746be942f0ec13aff398e": {
      "model_module": "@jupyter-widgets/base",
      "model_module_version": "1.2.0",
      "model_name": "LayoutModel",
      "state": {}
     },
     "8aa766d6cc4e4feba64e0ded94f09868": {
      "model_module": "@jupyter-widgets/controls",
      "model_module_version": "1.5.0",
      "model_name": "FloatProgressModel",
      "state": {
       "bar_style": "success",
       "description": "100%",
       "layout": "IPY_MODEL_4b15eb6964c2403281a2e0130463543c",
       "max": 329155,
       "style": "IPY_MODEL_9ea228a1cf76413da36ab69d73e4e18f",
       "value": 329155
      }
     },
     "8bef86054ac749edb28bbf843f835dd1": {
      "model_module": "@jupyter-widgets/controls",
      "model_module_version": "1.5.0",
      "model_name": "HBoxModel",
      "state": {
       "children": [
        "IPY_MODEL_09f73d8fff9e46a29cd0c378aa989ff6",
        "IPY_MODEL_4b12e67f19bd488d805f44162e6175e2"
       ],
       "layout": "IPY_MODEL_589efbd2470c4c08adf9ab6f1ac85616"
      }
     },
     "8bff848d92c24be79a388db8ea209b51": {
      "model_module": "@jupyter-widgets/base",
      "model_module_version": "1.2.0",
      "model_name": "LayoutModel",
      "state": {}
     },
     "8c954a1763c14cf99b9434ebf7c8df5e": {
      "model_module": "@jupyter-widgets/controls",
      "model_module_version": "1.5.0",
      "model_name": "FloatProgressModel",
      "state": {
       "bar_style": "success",
       "description": "100%",
       "layout": "IPY_MODEL_e2ef190b845e41c38b6262cbab95c2ab",
       "max": 35259,
       "style": "IPY_MODEL_9ae3aea4071a42209b6833b78063c529",
       "value": 35259
      }
     },
     "8d54532d2f124f56b23f7e2d400e4974": {
      "model_module": "@jupyter-widgets/base",
      "model_module_version": "1.2.0",
      "model_name": "LayoutModel",
      "state": {}
     },
     "8db45b2486814c77a42cef4ca6a788b5": {
      "model_module": "@jupyter-widgets/controls",
      "model_module_version": "1.5.0",
      "model_name": "ProgressStyleModel",
      "state": {
       "description_width": "initial"
      }
     },
     "8df9443d70db4f80af24372d3dc761f5": {
      "model_module": "@jupyter-widgets/base",
      "model_module_version": "1.2.0",
      "model_name": "LayoutModel",
      "state": {}
     },
     "8e89c9c295884f3bbdefb15b19318297": {
      "model_module": "@jupyter-widgets/base",
      "model_module_version": "1.2.0",
      "model_name": "LayoutModel",
      "state": {}
     },
     "8eaf9f1252c6415b843296b0e57f0a9d": {
      "model_module": "@jupyter-widgets/controls",
      "model_module_version": "1.5.0",
      "model_name": "HTMLModel",
      "state": {
       "layout": "IPY_MODEL_5abdf12aaa1a49958d2ff622b560e1d7",
       "style": "IPY_MODEL_b704d42702d042b1a78ff46158a75056",
       "value": " 0/329155 [01:10&lt;?, ?it/s]"
      }
     },
     "8eceee3de62942d990fac17b5e34e72c": {
      "model_module": "@jupyter-widgets/controls",
      "model_module_version": "1.5.0",
      "model_name": "HBoxModel",
      "state": {
       "children": [
        "IPY_MODEL_94ad7ffc11ca4962864c658271bf7364",
        "IPY_MODEL_b465ac1235984a29a00abedb70ba5f5d"
       ],
       "layout": "IPY_MODEL_6b42977019dd47e68f23b5d355dfe8b2"
      }
     },
     "8f6c70a665f64108b2a5e3f996031d2f": {
      "model_module": "@jupyter-widgets/controls",
      "model_module_version": "1.5.0",
      "model_name": "ProgressStyleModel",
      "state": {
       "description_width": "initial"
      }
     },
     "8f7526a0e0ce4cceaf4bc4ba01a940e3": {
      "model_module": "@jupyter-widgets/base",
      "model_module_version": "1.2.0",
      "model_name": "LayoutModel",
      "state": {}
     },
     "90176780b9d64af6b5abb0644eb8a613": {
      "model_module": "@jupyter-widgets/base",
      "model_module_version": "1.2.0",
      "model_name": "LayoutModel",
      "state": {}
     },
     "901efa42437e43d7813cc6c015c3d003": {
      "model_module": "@jupyter-widgets/base",
      "model_module_version": "1.2.0",
      "model_name": "LayoutModel",
      "state": {}
     },
     "90ca10688d8449bab9c3efc688bd8961": {
      "model_module": "@jupyter-widgets/base",
      "model_module_version": "1.2.0",
      "model_name": "LayoutModel",
      "state": {}
     },
     "90ea262cc4cd4b148df4c03feb4bc565": {
      "model_module": "@jupyter-widgets/controls",
      "model_module_version": "1.5.0",
      "model_name": "ProgressStyleModel",
      "state": {
       "description_width": "initial"
      }
     },
     "913d84264e784e9e9f30736d3ec0676b": {
      "model_module": "@jupyter-widgets/controls",
      "model_module_version": "1.5.0",
      "model_name": "DescriptionStyleModel",
      "state": {
       "description_width": ""
      }
     },
     "91e49c5aeb0a48b9a84dd392f825b164": {
      "model_module": "@jupyter-widgets/controls",
      "model_module_version": "1.5.0",
      "model_name": "HBoxModel",
      "state": {
       "children": [
        "IPY_MODEL_00be969ad76f48b3b780cf57f5924e3d",
        "IPY_MODEL_45e000c01b144efdb831db875fc664e9"
       ],
       "layout": "IPY_MODEL_32dab3bc4e074bd6a52a8b2ec8c9a1e8"
      }
     },
     "9240a1d922fd45858fdef565a672b082": {
      "model_module": "@jupyter-widgets/base",
      "model_module_version": "1.2.0",
      "model_name": "LayoutModel",
      "state": {}
     },
     "9255989d812341b78cb5e94817d6f934": {
      "model_module": "@jupyter-widgets/controls",
      "model_module_version": "1.5.0",
      "model_name": "FloatProgressModel",
      "state": {
       "bar_style": "success",
       "description": "100%",
       "layout": "IPY_MODEL_ba78ad7f023a4a738780ebc35b53ed0f",
       "max": 329155,
       "style": "IPY_MODEL_b32a32fdce2a4a1896f57632ff669542",
       "value": 329155
      }
     },
     "925be7c22f2a484683f718e5ff48c26a": {
      "model_module": "@jupyter-widgets/controls",
      "model_module_version": "1.5.0",
      "model_name": "ProgressStyleModel",
      "state": {
       "description_width": "initial"
      }
     },
     "926572ed335e434991d9ef8daf35b2f6": {
      "model_module": "@jupyter-widgets/base",
      "model_module_version": "1.2.0",
      "model_name": "LayoutModel",
      "state": {}
     },
     "92766eec789a402898498df38644e771": {
      "model_module": "@jupyter-widgets/controls",
      "model_module_version": "1.5.0",
      "model_name": "HTMLModel",
      "state": {
       "layout": "IPY_MODEL_4f791562e7824ab9b4aca9dece98a321",
       "style": "IPY_MODEL_a34f69537314437c820a1c19a5c09036",
       "value": " 4/4 [52:03&lt;00:00, 780.90s/it]"
      }
     },
     "927cdc2ce06f49d1a190ed7241855cc2": {
      "model_module": "@jupyter-widgets/controls",
      "model_module_version": "1.5.0",
      "model_name": "DescriptionStyleModel",
      "state": {
       "description_width": ""
      }
     },
     "92e585b4f80248f1a7c16206fd0a2866": {
      "model_module": "@jupyter-widgets/base",
      "model_module_version": "1.2.0",
      "model_name": "LayoutModel",
      "state": {}
     },
     "934fef8bbba442d69cbbb38339dc230a": {
      "model_module": "@jupyter-widgets/controls",
      "model_module_version": "1.5.0",
      "model_name": "FloatProgressModel",
      "state": {
       "bar_style": "success",
       "description": "100%",
       "layout": "IPY_MODEL_636c2928cd7944fe9a4a4a886f91478f",
       "max": 329155,
       "style": "IPY_MODEL_e307d8f8c4c84084b9d2cf32d18361e6",
       "value": 329155
      }
     },
     "937569646c054b2ea1bbe969b8b5f059": {
      "model_module": "@jupyter-widgets/controls",
      "model_module_version": "1.5.0",
      "model_name": "DescriptionStyleModel",
      "state": {
       "description_width": ""
      }
     },
     "9405cbdd09144d9fb6611e74d1fd61ce": {
      "model_module": "@jupyter-widgets/controls",
      "model_module_version": "1.5.0",
      "model_name": "HBoxModel",
      "state": {
       "children": [
        "IPY_MODEL_a35a697ccc62465687a1fafb56ddca5c",
        "IPY_MODEL_4eac0b7a0ed84ae59b54bd9ff9609f38"
       ],
       "layout": "IPY_MODEL_030a42e6e2a445d786873a1abaf4e4cd"
      }
     },
     "942bb24129614bd3b2b307b9128a41de": {
      "model_module": "@jupyter-widgets/controls",
      "model_module_version": "1.5.0",
      "model_name": "DescriptionStyleModel",
      "state": {
       "description_width": ""
      }
     },
     "943bb119665b4582982a10ab0fdaec03": {
      "model_module": "@jupyter-widgets/base",
      "model_module_version": "1.2.0",
      "model_name": "LayoutModel",
      "state": {}
     },
     "947475610d814f6a8f897c1d390806d8": {
      "model_module": "@jupyter-widgets/controls",
      "model_module_version": "1.5.0",
      "model_name": "HTMLModel",
      "state": {
       "layout": "IPY_MODEL_8614093c36094784be88bd3594792421",
       "style": "IPY_MODEL_6fc7571e7070483baa663cfac10afc54",
       "value": " 0/329155 [00:00&lt;?, ?it/s]"
      }
     },
     "94847ae1e07c40009b54fd10dbed2ec1": {
      "model_module": "@jupyter-widgets/controls",
      "model_module_version": "1.5.0",
      "model_name": "ProgressStyleModel",
      "state": {
       "description_width": "initial"
      }
     },
     "949a56c7085144bcb85663b0224dd454": {
      "model_module": "@jupyter-widgets/controls",
      "model_module_version": "1.5.0",
      "model_name": "HTMLModel",
      "state": {
       "layout": "IPY_MODEL_3753070638cf4f969b327a4e51a1c5ba",
       "style": "IPY_MODEL_f2d36d8887db4e63833e1fa14c359f83",
       "value": " 329155/329155 [14:00&lt;00:00, 391.66it/s]"
      }
     },
     "94ad7ffc11ca4962864c658271bf7364": {
      "model_module": "@jupyter-widgets/controls",
      "model_module_version": "1.5.0",
      "model_name": "FloatProgressModel",
      "state": {
       "bar_style": "success",
       "description": "100%",
       "layout": "IPY_MODEL_d59ad4248cf6454c90b994b1afd7729c",
       "max": 4,
       "style": "IPY_MODEL_d9398fe4406948bea1445caa324101c6",
       "value": 4
      }
     },
     "95279d663a044f36bdd2029ebf582b1f": {
      "model_module": "@jupyter-widgets/base",
      "model_module_version": "1.2.0",
      "model_name": "LayoutModel",
      "state": {}
     },
     "9532b036f1b443f5be092db8c8c87c6c": {
      "model_module": "@jupyter-widgets/base",
      "model_module_version": "1.2.0",
      "model_name": "LayoutModel",
      "state": {}
     },
     "95340d3ff86042728ed6ff97ddaabb7e": {
      "model_module": "@jupyter-widgets/controls",
      "model_module_version": "1.5.0",
      "model_name": "FloatProgressModel",
      "state": {
       "bar_style": "success",
       "description": "Reading word vectors: 100%",
       "layout": "IPY_MODEL_d648054077fa4cf4b5f56aceb9030aff",
       "max": 4027169,
       "style": "IPY_MODEL_b6f34c74ee284c1a942a1ef46393ca61",
       "value": 4027169
      }
     },
     "9568a3433f384b4981033326f98dc5bf": {
      "model_module": "@jupyter-widgets/controls",
      "model_module_version": "1.5.0",
      "model_name": "ProgressStyleModel",
      "state": {
       "description_width": "initial"
      }
     },
     "957f90db2c1a49d787daff3dde01cb68": {
      "model_module": "@jupyter-widgets/base",
      "model_module_version": "1.2.0",
      "model_name": "LayoutModel",
      "state": {}
     },
     "9585d08ec20e4d1f9ae2535857019378": {
      "model_module": "@jupyter-widgets/base",
      "model_module_version": "1.2.0",
      "model_name": "LayoutModel",
      "state": {}
     },
     "959c2406d9844b06a6098a3fc4daf483": {
      "model_module": "@jupyter-widgets/base",
      "model_module_version": "1.2.0",
      "model_name": "LayoutModel",
      "state": {}
     },
     "95c4291b4d56435cb1535e8d65c1ef9c": {
      "model_module": "@jupyter-widgets/base",
      "model_module_version": "1.2.0",
      "model_name": "LayoutModel",
      "state": {}
     },
     "95c89da6e8924813b6b21e3a055af19b": {
      "model_module": "@jupyter-widgets/controls",
      "model_module_version": "1.5.0",
      "model_name": "HTMLModel",
      "state": {
       "layout": "IPY_MODEL_3ab84c1c90cd45359e8630015bf5556d",
       "style": "IPY_MODEL_048c27caa814456cb3d466811f1cb6e5",
       "value": " 329155/329155 [9:08:27&lt;00:00, 10.00it/s]"
      }
     },
     "95fd4a7e4f184dfdb71987435e08ec26": {
      "model_module": "@jupyter-widgets/controls",
      "model_module_version": "1.5.0",
      "model_name": "FloatProgressModel",
      "state": {
       "bar_style": "success",
       "description": "100%",
       "layout": "IPY_MODEL_11814a7c849e41feb9ba53a87142c975",
       "max": 329155,
       "style": "IPY_MODEL_7741fd7a45124320865bd6a3a4e60888",
       "value": 329155
      }
     },
     "965b20f2d0524c1f8641813ea1ae036e": {
      "model_module": "@jupyter-widgets/controls",
      "model_module_version": "1.5.0",
      "model_name": "FloatProgressModel",
      "state": {
       "bar_style": "success",
       "description": "100%",
       "layout": "IPY_MODEL_3dbcf0d669aa4b7597dfca49723e54fc",
       "max": 329155,
       "style": "IPY_MODEL_327103274d7d42a2a6d0a2eab8a255bb",
       "value": 329155
      }
     },
     "9668e76eb1e447b88fbc9e4cabf7f9a6": {
      "model_module": "@jupyter-widgets/controls",
      "model_module_version": "1.5.0",
      "model_name": "HTMLModel",
      "state": {
       "layout": "IPY_MODEL_42b59d3fb1a344b295332b57c12d9168",
       "style": "IPY_MODEL_913d84264e784e9e9f30736d3ec0676b",
       "value": " 60871/329155 [00:30&lt;01:06, 4054.25it/s]"
      }
     },
     "9682558d9ce8448aa6c5c27db1e45aae": {
      "model_module": "@jupyter-widgets/base",
      "model_module_version": "1.2.0",
      "model_name": "LayoutModel",
      "state": {}
     },
     "96f7dc60ed534fc28ae429368058e60f": {
      "model_module": "@jupyter-widgets/controls",
      "model_module_version": "1.5.0",
      "model_name": "DescriptionStyleModel",
      "state": {
       "description_width": ""
      }
     },
     "976410f60f41452ba39f7149f6917ba0": {
      "model_module": "@jupyter-widgets/controls",
      "model_module_version": "1.5.0",
      "model_name": "HTMLModel",
      "state": {
       "layout": "IPY_MODEL_3a42d73a411c4b05b4db01ce5468da96",
       "style": "IPY_MODEL_f050babbe37b4cabb9130b75370fb987",
       "value": " 329155/329155 [20:06&lt;00:00, 272.89it/s]"
      }
     },
     "977b8446a2e446149e888810fee02b2b": {
      "model_module": "@jupyter-widgets/controls",
      "model_module_version": "1.5.0",
      "model_name": "HBoxModel",
      "state": {
       "children": [
        "IPY_MODEL_d3c5f2a3e1c04e7a92a61835ea5434a2",
        "IPY_MODEL_29e6de6e0810474db2ccc6c7d53650ed"
       ],
       "layout": "IPY_MODEL_f599067262ab4ff2b3802a0b237008fa"
      }
     },
     "97bfd56c42094f32a5483210c2c08395": {
      "model_module": "@jupyter-widgets/base",
      "model_module_version": "1.2.0",
      "model_name": "LayoutModel",
      "state": {}
     },
     "98a83d6fbdad425180cc135b648ac472": {
      "model_module": "@jupyter-widgets/base",
      "model_module_version": "1.2.0",
      "model_name": "LayoutModel",
      "state": {}
     },
     "98ab232262d949889b1a70d67d5e505b": {
      "model_module": "@jupyter-widgets/controls",
      "model_module_version": "1.5.0",
      "model_name": "HBoxModel",
      "state": {
       "children": [
        "IPY_MODEL_d8c6365dc3d54fa2aedbb5517b5f596c",
        "IPY_MODEL_decff4d185bc4344b49ceddbf4dd7157"
       ],
       "layout": "IPY_MODEL_37c7dbe58b304abe801a917f6ef59ec5"
      }
     },
     "98af491471ac4e7a98939830d7ef1d95": {
      "model_module": "@jupyter-widgets/controls",
      "model_module_version": "1.5.0",
      "model_name": "HTMLModel",
      "state": {
       "layout": "IPY_MODEL_299cffb0bc5e46f6a57c17395781cbad",
       "style": "IPY_MODEL_348a7aa10f5e428fbf1290211237b78e",
       "value": " 329155/329155 [10:02&lt;00:00, 545.94it/s]"
      }
     },
     "991a96af7b654d81aef70e6553a604ce": {
      "model_module": "@jupyter-widgets/base",
      "model_module_version": "1.2.0",
      "model_name": "LayoutModel",
      "state": {}
     },
     "99bf8d3d1d264cd19fa66fb513a91ccc": {
      "model_module": "@jupyter-widgets/controls",
      "model_module_version": "1.5.0",
      "model_name": "HTMLModel",
      "state": {
       "layout": "IPY_MODEL_724cf55fd28645c49bbe736ce899066c",
       "style": "IPY_MODEL_651d9c2ac15846799bdffc939bb58a2a",
       "value": " 329155/329155 [13:02&lt;00:00, 420.39it/s]"
      }
     },
     "9aaf116ed7ae4619bddcbb559b9f1eea": {
      "model_module": "@jupyter-widgets/controls",
      "model_module_version": "1.5.0",
      "model_name": "ProgressStyleModel",
      "state": {
       "description_width": "initial"
      }
     },
     "9acbe34bc699481c87f78e22be4e4d10": {
      "model_module": "@jupyter-widgets/controls",
      "model_module_version": "1.5.0",
      "model_name": "ProgressStyleModel",
      "state": {
       "description_width": "initial"
      }
     },
     "9ae3aea4071a42209b6833b78063c529": {
      "model_module": "@jupyter-widgets/controls",
      "model_module_version": "1.5.0",
      "model_name": "ProgressStyleModel",
      "state": {
       "description_width": "initial"
      }
     },
     "9b3b81fa35a14a598e14e765ddee4f8c": {
      "model_module": "@jupyter-widgets/controls",
      "model_module_version": "1.5.0",
      "model_name": "HTMLModel",
      "state": {
       "layout": "IPY_MODEL_ccb24eabc9b84edc887b80d565cbcd2f",
       "style": "IPY_MODEL_fe0993172bd342258c96384a283f73e6",
       "value": " 329155/329155 [10:04&lt;00:00, 544.13it/s]"
      }
     },
     "9b56ba1456fc497e83c56b2f6a0e88f0": {
      "model_module": "@jupyter-widgets/base",
      "model_module_version": "1.2.0",
      "model_name": "LayoutModel",
      "state": {}
     },
     "9b72bfda232c477485c8ff4fd67c9ab7": {
      "model_module": "@jupyter-widgets/controls",
      "model_module_version": "1.5.0",
      "model_name": "HBoxModel",
      "state": {
       "children": [
        "IPY_MODEL_5f4d004da9244d4cad998b72f0b3aeb5",
        "IPY_MODEL_99bf8d3d1d264cd19fa66fb513a91ccc"
       ],
       "layout": "IPY_MODEL_41789e39f666478eb908234b51ea55b7"
      }
     },
     "9bcb333860824b9f88540d5104f58a81": {
      "model_module": "@jupyter-widgets/base",
      "model_module_version": "1.2.0",
      "model_name": "LayoutModel",
      "state": {}
     },
     "9be3f0a804dd4d61838831821f6d1bd2": {
      "model_module": "@jupyter-widgets/base",
      "model_module_version": "1.2.0",
      "model_name": "LayoutModel",
      "state": {}
     },
     "9c39c222de5145b0a1c80b978170fef8": {
      "model_module": "@jupyter-widgets/controls",
      "model_module_version": "1.5.0",
      "model_name": "FloatProgressModel",
      "state": {
       "bar_style": "success",
       "description": "100%",
       "layout": "IPY_MODEL_b271cb3fa657460c87487e6c090496fc",
       "max": 329155,
       "style": "IPY_MODEL_f36ad1447d2e4ff98a570b647183fcbc",
       "value": 329155
      }
     },
     "9c6115117e8b4a6385f97410402235e1": {
      "model_module": "@jupyter-widgets/controls",
      "model_module_version": "1.5.0",
      "model_name": "ProgressStyleModel",
      "state": {
       "description_width": "initial"
      }
     },
     "9c82bf06b4df43bc83dd533851c1b560": {
      "model_module": "@jupyter-widgets/base",
      "model_module_version": "1.2.0",
      "model_name": "LayoutModel",
      "state": {}
     },
     "9c84ba5ed5fa4bd888c38130245488ed": {
      "model_module": "@jupyter-widgets/base",
      "model_module_version": "1.2.0",
      "model_name": "LayoutModel",
      "state": {}
     },
     "9d73f356c8704b39b4bfeca789dfa234": {
      "model_module": "@jupyter-widgets/controls",
      "model_module_version": "1.5.0",
      "model_name": "FloatProgressModel",
      "state": {
       "bar_style": "danger",
       "description": "  1%",
       "layout": "IPY_MODEL_a07216576ced47cbbb6053b29ccd35ce",
       "max": 329155,
       "style": "IPY_MODEL_9df59dcb4b4b482198f4ed82f9b99e5b",
       "value": 4358
      }
     },
     "9de2420b950e4e018986f51c492a9991": {
      "model_module": "@jupyter-widgets/controls",
      "model_module_version": "1.5.0",
      "model_name": "HBoxModel",
      "state": {
       "children": [
        "IPY_MODEL_adb532a1eccd459aaa204dc3f036d60f",
        "IPY_MODEL_708d2682d0c94c4ab881e371a5575637"
       ],
       "layout": "IPY_MODEL_5d0d2c08a8cd4104a6bbe7de8a9e262e"
      }
     },
     "9df59dcb4b4b482198f4ed82f9b99e5b": {
      "model_module": "@jupyter-widgets/controls",
      "model_module_version": "1.5.0",
      "model_name": "ProgressStyleModel",
      "state": {
       "description_width": "initial"
      }
     },
     "9dff9309be01473c9abf0583033da692": {
      "model_module": "@jupyter-widgets/base",
      "model_module_version": "1.2.0",
      "model_name": "LayoutModel",
      "state": {}
     },
     "9e0d4df89a22448da1203cb0a6afcdad": {
      "model_module": "@jupyter-widgets/base",
      "model_module_version": "1.2.0",
      "model_name": "LayoutModel",
      "state": {}
     },
     "9e52ff7c7a214a8295ef81ac26a1604a": {
      "model_module": "@jupyter-widgets/base",
      "model_module_version": "1.2.0",
      "model_name": "LayoutModel",
      "state": {}
     },
     "9e58f62b26414a008e17257bef919c3f": {
      "model_module": "@jupyter-widgets/controls",
      "model_module_version": "1.5.0",
      "model_name": "HBoxModel",
      "state": {
       "children": [
        "IPY_MODEL_d6731bd4a695446d924f2b4b21d3666e",
        "IPY_MODEL_53f3a1223ef5459c87024d4635873d55"
       ],
       "layout": "IPY_MODEL_029a5c4133c344ccada118c24979a16b"
      }
     },
     "9e7a24471dae4fc89dea1b3e980047da": {
      "model_module": "@jupyter-widgets/controls",
      "model_module_version": "1.5.0",
      "model_name": "HBoxModel",
      "state": {
       "children": [
        "IPY_MODEL_a46de4f9012a46159bbd3333c202d4f3",
        "IPY_MODEL_0205cf0d472041ec919f63e503cf49bc"
       ],
       "layout": "IPY_MODEL_679c463e02864fcaaa50465a222c4a9a"
      }
     },
     "9ea228a1cf76413da36ab69d73e4e18f": {
      "model_module": "@jupyter-widgets/controls",
      "model_module_version": "1.5.0",
      "model_name": "ProgressStyleModel",
      "state": {
       "description_width": "initial"
      }
     },
     "9f31013387a04b6d82006a326cb85d1f": {
      "model_module": "@jupyter-widgets/controls",
      "model_module_version": "1.5.0",
      "model_name": "ProgressStyleModel",
      "state": {
       "description_width": "initial"
      }
     },
     "9f3251350b2246ac8f1cde83e832a43f": {
      "model_module": "@jupyter-widgets/controls",
      "model_module_version": "1.5.0",
      "model_name": "DescriptionStyleModel",
      "state": {
       "description_width": ""
      }
     },
     "9f7508ee69a94c2ab9f7e03750075e91": {
      "model_module": "@jupyter-widgets/controls",
      "model_module_version": "1.5.0",
      "model_name": "HBoxModel",
      "state": {
       "children": [
        "IPY_MODEL_9255989d812341b78cb5e94817d6f934",
        "IPY_MODEL_a7eb58152f44491b89a8b4b1c54d0bc7"
       ],
       "layout": "IPY_MODEL_d6a425dacf99478d84ade356251b9d93"
      }
     },
     "9f7bad3ee5884f71b537818387d9ebbf": {
      "model_module": "@jupyter-widgets/base",
      "model_module_version": "1.2.0",
      "model_name": "LayoutModel",
      "state": {}
     },
     "a00e1b77974e4d3d84c28f9efa81ae8b": {
      "model_module": "@jupyter-widgets/base",
      "model_module_version": "1.2.0",
      "model_name": "LayoutModel",
      "state": {}
     },
     "a07216576ced47cbbb6053b29ccd35ce": {
      "model_module": "@jupyter-widgets/base",
      "model_module_version": "1.2.0",
      "model_name": "LayoutModel",
      "state": {}
     },
     "a07d0abb2c86416687aa9d25152b483b": {
      "model_module": "@jupyter-widgets/controls",
      "model_module_version": "1.5.0",
      "model_name": "DescriptionStyleModel",
      "state": {
       "description_width": ""
      }
     },
     "a09c708b6eae4872b6d480243b998ab5": {
      "model_module": "@jupyter-widgets/controls",
      "model_module_version": "1.5.0",
      "model_name": "DescriptionStyleModel",
      "state": {
       "description_width": ""
      }
     },
     "a0c37f6804674c10a03570c1baf7ef8b": {
      "model_module": "@jupyter-widgets/controls",
      "model_module_version": "1.5.0",
      "model_name": "DescriptionStyleModel",
      "state": {
       "description_width": ""
      }
     },
     "a117ac213e384b909d5eb9bf778ffe6f": {
      "model_module": "@jupyter-widgets/base",
      "model_module_version": "1.2.0",
      "model_name": "LayoutModel",
      "state": {}
     },
     "a12e6ceffc8243bdaff3ffbca83fb738": {
      "model_module": "@jupyter-widgets/base",
      "model_module_version": "1.2.0",
      "model_name": "LayoutModel",
      "state": {}
     },
     "a18fbf03645d430abda48f16d5b542ca": {
      "model_module": "@jupyter-widgets/base",
      "model_module_version": "1.2.0",
      "model_name": "LayoutModel",
      "state": {}
     },
     "a1be0f19361541c7b48b5eb5eed49f90": {
      "model_module": "@jupyter-widgets/base",
      "model_module_version": "1.2.0",
      "model_name": "LayoutModel",
      "state": {}
     },
     "a1de9a0fd46344039ffd7dde4013a68e": {
      "model_module": "@jupyter-widgets/base",
      "model_module_version": "1.2.0",
      "model_name": "LayoutModel",
      "state": {}
     },
     "a1efad2c7b214b34838ab088ae30b7ce": {
      "model_module": "@jupyter-widgets/base",
      "model_module_version": "1.2.0",
      "model_name": "LayoutModel",
      "state": {}
     },
     "a24651ff74cd4b149b7da3db3d8cf9fb": {
      "model_module": "@jupyter-widgets/controls",
      "model_module_version": "1.5.0",
      "model_name": "HBoxModel",
      "state": {
       "children": [
        "IPY_MODEL_6e3bb23bcbfd4c0c8de1524f42f51b33",
        "IPY_MODEL_a4b6b77426b34bc3bdc7e46f62be25d5"
       ],
       "layout": "IPY_MODEL_43922674e1434deca397eec2555d23ee"
      }
     },
     "a2fddfa1bb894f898c6a17bfd4006dea": {
      "model_module": "@jupyter-widgets/base",
      "model_module_version": "1.2.0",
      "model_name": "LayoutModel",
      "state": {}
     },
     "a32877567e384e1088c2c26e4a0e2a9c": {
      "model_module": "@jupyter-widgets/controls",
      "model_module_version": "1.5.0",
      "model_name": "HTMLModel",
      "state": {
       "layout": "IPY_MODEL_bfa0e9bcd0604e1da185fb070ddfb8c2",
       "style": "IPY_MODEL_80344fbbae634c54b0283f866208060f",
       "value": " 329155/329155 [12:34&lt;00:00, 436.10it/s]"
      }
     },
     "a333e94a65b94af8a169f17f7831b04b": {
      "model_module": "@jupyter-widgets/base",
      "model_module_version": "1.2.0",
      "model_name": "LayoutModel",
      "state": {}
     },
     "a33cd51f8acb4d9d8fb16f29cd3e5751": {
      "model_module": "@jupyter-widgets/controls",
      "model_module_version": "1.5.0",
      "model_name": "HBoxModel",
      "state": {
       "children": [
        "IPY_MODEL_343e8b445c1e471ab47db7bbaf52ad85",
        "IPY_MODEL_cfdd1af970f443de9ea4a6377eb108e1"
       ],
       "layout": "IPY_MODEL_753a307c035148d6bc8c948357ccf0ec"
      }
     },
     "a34f69537314437c820a1c19a5c09036": {
      "model_module": "@jupyter-widgets/controls",
      "model_module_version": "1.5.0",
      "model_name": "DescriptionStyleModel",
      "state": {
       "description_width": ""
      }
     },
     "a35a697ccc62465687a1fafb56ddca5c": {
      "model_module": "@jupyter-widgets/controls",
      "model_module_version": "1.5.0",
      "model_name": "FloatProgressModel",
      "state": {
       "bar_style": "success",
       "description": "Parsing dataset: 100%",
       "layout": "IPY_MODEL_f202e24cec5347d9a573b7b821d2b95a",
       "max": 373801,
       "style": "IPY_MODEL_0d131f930a444be5b30d287776164f81",
       "value": 373801
      }
     },
     "a35e381f669f4813a254dbd7438d3f60": {
      "model_module": "@jupyter-widgets/controls",
      "model_module_version": "1.5.0",
      "model_name": "ProgressStyleModel",
      "state": {
       "description_width": "initial"
      }
     },
     "a38ef03b03574950adc37faabafdd7cc": {
      "model_module": "@jupyter-widgets/controls",
      "model_module_version": "1.5.0",
      "model_name": "DescriptionStyleModel",
      "state": {
       "description_width": ""
      }
     },
     "a46718cdf055486b9d4e51da34ee2de1": {
      "model_module": "@jupyter-widgets/base",
      "model_module_version": "1.2.0",
      "model_name": "LayoutModel",
      "state": {}
     },
     "a46de4f9012a46159bbd3333c202d4f3": {
      "model_module": "@jupyter-widgets/controls",
      "model_module_version": "1.5.0",
      "model_name": "FloatProgressModel",
      "state": {
       "bar_style": "success",
       "description": "100%",
       "layout": "IPY_MODEL_bbac990241b74217b1e2bef546c7d94a",
       "max": 329155,
       "style": "IPY_MODEL_08865abfb0764341a3cca0727fce90d7",
       "value": 329155
      }
     },
     "a4a3b48e52a441d1ac413f16e98d6d04": {
      "model_module": "@jupyter-widgets/base",
      "model_module_version": "1.2.0",
      "model_name": "LayoutModel",
      "state": {}
     },
     "a4b6b77426b34bc3bdc7e46f62be25d5": {
      "model_module": "@jupyter-widgets/controls",
      "model_module_version": "1.5.0",
      "model_name": "HTMLModel",
      "state": {
       "layout": "IPY_MODEL_8bff848d92c24be79a388db8ea209b51",
       "style": "IPY_MODEL_500b879c77164337b7cb4163cd2eecbf",
       "value": " 329155/329155 [10:05&lt;00:00, 544.01it/s]"
      }
     },
     "a4c880cd1b6844f3b166c44a0bb7a0ef": {
      "model_module": "@jupyter-widgets/controls",
      "model_module_version": "1.5.0",
      "model_name": "FloatProgressModel",
      "state": {
       "bar_style": "success",
       "description": "100%",
       "layout": "IPY_MODEL_c902e4194e244ccfa267a646bda9e409",
       "max": 329155,
       "style": "IPY_MODEL_64e4d89f7ca6452c8eac5e808aaca1f8",
       "value": 329155
      }
     },
     "a576b22bd73449afa1a0ed5978dab81f": {
      "model_module": "@jupyter-widgets/controls",
      "model_module_version": "1.5.0",
      "model_name": "HTMLModel",
      "state": {
       "layout": "IPY_MODEL_90176780b9d64af6b5abb0644eb8a613",
       "style": "IPY_MODEL_7949adb7bc474be88d0d6021623b8e3a",
       "value": " 3574/35259 [1:21:27&lt;12:02:10,  1.37s/it]"
      }
     },
     "a5b30e43c1e94e9da4b9ff21878ce41f": {
      "model_module": "@jupyter-widgets/controls",
      "model_module_version": "1.5.0",
      "model_name": "HBoxModel",
      "state": {
       "children": [
        "IPY_MODEL_ced81fdad984435a96d929955c104591",
        "IPY_MODEL_7b1ba467694d4772ab9e7923e2ee9e79"
       ],
       "layout": "IPY_MODEL_7c1907d0d8214c968a05bd07c596b185"
      }
     },
     "a5cc520d6a7249a1b5b59afd52f286e5": {
      "model_module": "@jupyter-widgets/base",
      "model_module_version": "1.2.0",
      "model_name": "LayoutModel",
      "state": {}
     },
     "a5e08f964c5446d9be0ef6de441035a1": {
      "model_module": "@jupyter-widgets/base",
      "model_module_version": "1.2.0",
      "model_name": "LayoutModel",
      "state": {}
     },
     "a63efc42f162493db2f1b18517189dec": {
      "model_module": "@jupyter-widgets/controls",
      "model_module_version": "1.5.0",
      "model_name": "FloatProgressModel",
      "state": {
       "description": " 18%",
       "layout": "IPY_MODEL_15826db63275424e8314d0ad6dc2c6f1",
       "max": 329155,
       "style": "IPY_MODEL_494de8353b90446280dfb0cf90d2b44e",
       "value": 60871
      }
     },
     "a6507c3454ae43b4b88f3a0045239521": {
      "model_module": "@jupyter-widgets/base",
      "model_module_version": "1.2.0",
      "model_name": "LayoutModel",
      "state": {}
     },
     "a6dcdd7549ee4110bbc860aa51650349": {
      "model_module": "@jupyter-widgets/base",
      "model_module_version": "1.2.0",
      "model_name": "LayoutModel",
      "state": {}
     },
     "a7145602ea14432492d7bf2f03084e29": {
      "model_module": "@jupyter-widgets/controls",
      "model_module_version": "1.5.0",
      "model_name": "HTMLModel",
      "state": {
       "layout": "IPY_MODEL_bd45527082874449874ea47448572188",
       "style": "IPY_MODEL_a934f3fbc8f84d2abd69cf17d48ee7a7",
       "value": " 329155/329155 [4:11:28&lt;00:00, 21.81it/s]"
      }
     },
     "a748191cd5ea4de889808148274a0d0a": {
      "model_module": "@jupyter-widgets/controls",
      "model_module_version": "1.5.0",
      "model_name": "HBoxModel",
      "state": {
       "children": [
        "IPY_MODEL_23037a5993b54ef2b0387a2a746f4ebe",
        "IPY_MODEL_52924919708b491dbca9b4a81b415f8a"
       ],
       "layout": "IPY_MODEL_0b4cdfe946b04b58995227935317a8dd"
      }
     },
     "a74ad3b0f0be44e9a02170c83ce4b9a2": {
      "model_module": "@jupyter-widgets/controls",
      "model_module_version": "1.5.0",
      "model_name": "HTMLModel",
      "state": {
       "layout": "IPY_MODEL_7d944b66771b471ea3e85a386150a704",
       "style": "IPY_MODEL_52ba828bbff348569040426aaeba4fa8",
       "value": " 329155/329155 [20:10&lt;00:00, 271.98it/s]"
      }
     },
     "a770363ac9d24b9dbbf44ad6e349da2a": {
      "model_module": "@jupyter-widgets/base",
      "model_module_version": "1.2.0",
      "model_name": "LayoutModel",
      "state": {}
     },
     "a7eb58152f44491b89a8b4b1c54d0bc7": {
      "model_module": "@jupyter-widgets/controls",
      "model_module_version": "1.5.0",
      "model_name": "HTMLModel",
      "state": {
       "layout": "IPY_MODEL_78e5d02828224c6ca287a61e774f45be",
       "style": "IPY_MODEL_769866b3e93a403e81ea2cb3e1645e12",
       "value": " 329155/329155 [13:50&lt;00:00, 396.22it/s]"
      }
     },
     "a7f0478389724c71a1f6ad7e58487c39": {
      "model_module": "@jupyter-widgets/base",
      "model_module_version": "1.2.0",
      "model_name": "LayoutModel",
      "state": {}
     },
     "a822226523b841b9b130586cb17ecdfc": {
      "model_module": "@jupyter-widgets/base",
      "model_module_version": "1.2.0",
      "model_name": "LayoutModel",
      "state": {}
     },
     "a83512dd5cdd4476890abfedb0fc7c86": {
      "model_module": "@jupyter-widgets/controls",
      "model_module_version": "1.5.0",
      "model_name": "ProgressStyleModel",
      "state": {
       "description_width": "initial"
      }
     },
     "a88c04c4f1b14b4e86a6a901b3997896": {
      "model_module": "@jupyter-widgets/controls",
      "model_module_version": "1.5.0",
      "model_name": "FloatProgressModel",
      "state": {
       "bar_style": "danger",
       "description": "  8%",
       "layout": "IPY_MODEL_69b84d2727974e8d8f0d1410da6e1d29",
       "max": 329155,
       "style": "IPY_MODEL_bf27027d7dd145809a95f6998bd0301d",
       "value": 25651
      }
     },
     "a8909aeb30084ec48de19bbf04d59a16": {
      "model_module": "@jupyter-widgets/controls",
      "model_module_version": "1.5.0",
      "model_name": "ProgressStyleModel",
      "state": {
       "description_width": "initial"
      }
     },
     "a8e6d6257f714fe7abeee22330c2a94e": {
      "model_module": "@jupyter-widgets/controls",
      "model_module_version": "1.5.0",
      "model_name": "FloatProgressModel",
      "state": {
       "bar_style": "success",
       "description": "100%",
       "layout": "IPY_MODEL_11e136717b1747408a4aa2ae27e854f8",
       "max": 329155,
       "style": "IPY_MODEL_b7bab610aa71418b8a8dc2469dae5186",
       "value": 329155
      }
     },
     "a92da92c566b4b70860b0ff473af3a50": {
      "model_module": "@jupyter-widgets/controls",
      "model_module_version": "1.5.0",
      "model_name": "DescriptionStyleModel",
      "state": {
       "description_width": ""
      }
     },
     "a934f3fbc8f84d2abd69cf17d48ee7a7": {
      "model_module": "@jupyter-widgets/controls",
      "model_module_version": "1.5.0",
      "model_name": "DescriptionStyleModel",
      "state": {
       "description_width": ""
      }
     },
     "a9d0b92ad0a34e2591cebdb6922c8c4a": {
      "model_module": "@jupyter-widgets/base",
      "model_module_version": "1.2.0",
      "model_name": "LayoutModel",
      "state": {}
     },
     "a9d1373be32f445abd07b959bb117baf": {
      "model_module": "@jupyter-widgets/controls",
      "model_module_version": "1.5.0",
      "model_name": "FloatProgressModel",
      "state": {
       "bar_style": "success",
       "description": "100%",
       "layout": "IPY_MODEL_6f42e31d3f50410392a2faeef9bc6060",
       "max": 329155,
       "style": "IPY_MODEL_f80c53dd59c34425aec1483ed9cca6df",
       "value": 329155
      }
     },
     "a9fc3726711b493ab6039c7051651d41": {
      "model_module": "@jupyter-widgets/base",
      "model_module_version": "1.2.0",
      "model_name": "LayoutModel",
      "state": {}
     },
     "aa0862787e394b14a75935a3ec59201e": {
      "model_module": "@jupyter-widgets/controls",
      "model_module_version": "1.5.0",
      "model_name": "HTMLModel",
      "state": {
       "layout": "IPY_MODEL_c0e6678004da409294dc2679d84af756",
       "style": "IPY_MODEL_18e27ee605bc49d38871967618e4f5de",
       "value": " 329155/329155 [10:04&lt;00:00, 544.79it/s]"
      }
     },
     "aaeaad8b4b5a4dc5bfbd66d3bd29c246": {
      "model_module": "@jupyter-widgets/controls",
      "model_module_version": "1.5.0",
      "model_name": "DescriptionStyleModel",
      "state": {
       "description_width": ""
      }
     },
     "ab3284bbe0fd412196126d746109684c": {
      "model_module": "@jupyter-widgets/controls",
      "model_module_version": "1.5.0",
      "model_name": "ProgressStyleModel",
      "state": {
       "description_width": "initial"
      }
     },
     "ab39f0fabb2b4b20849d25373d019aef": {
      "model_module": "@jupyter-widgets/base",
      "model_module_version": "1.2.0",
      "model_name": "LayoutModel",
      "state": {}
     },
     "ab9e026b6fe5489d96c33caa13379086": {
      "model_module": "@jupyter-widgets/controls",
      "model_module_version": "1.5.0",
      "model_name": "DescriptionStyleModel",
      "state": {
       "description_width": ""
      }
     },
     "abe345851b954bee95ef37f09257c48e": {
      "model_module": "@jupyter-widgets/controls",
      "model_module_version": "1.5.0",
      "model_name": "DescriptionStyleModel",
      "state": {
       "description_width": ""
      }
     },
     "ac373fe1e8df4e93bdc0044af74b930c": {
      "model_module": "@jupyter-widgets/controls",
      "model_module_version": "1.5.0",
      "model_name": "HBoxModel",
      "state": {
       "children": [
        "IPY_MODEL_79f33e43a8f54e0891b55a9da5a8f5f7",
        "IPY_MODEL_ca6c8b62bcc6435e9c1929fba495157a"
       ],
       "layout": "IPY_MODEL_634891b12e1244cfa2185a607c04f974"
      }
     },
     "ac3cee451c3c418eb316bb1d353a8c1a": {
      "model_module": "@jupyter-widgets/base",
      "model_module_version": "1.2.0",
      "model_name": "LayoutModel",
      "state": {}
     },
     "ac92ffbebc7f4b6cbd84df8bdc64ae21": {
      "model_module": "@jupyter-widgets/base",
      "model_module_version": "1.2.0",
      "model_name": "LayoutModel",
      "state": {}
     },
     "ac9b5e13124948dda5c37dfc46ab212e": {
      "model_module": "@jupyter-widgets/controls",
      "model_module_version": "1.5.0",
      "model_name": "ProgressStyleModel",
      "state": {
       "description_width": "initial"
      }
     },
     "acdf7e676e324f70846a87c494a0a239": {
      "model_module": "@jupyter-widgets/base",
      "model_module_version": "1.2.0",
      "model_name": "LayoutModel",
      "state": {}
     },
     "adb532a1eccd459aaa204dc3f036d60f": {
      "model_module": "@jupyter-widgets/controls",
      "model_module_version": "1.5.0",
      "model_name": "FloatProgressModel",
      "state": {
       "bar_style": "success",
       "description": "100%",
       "layout": "IPY_MODEL_b4dbd257bbde452a9b5af51dc6802683",
       "max": 329155,
       "style": "IPY_MODEL_9acbe34bc699481c87f78e22be4e4d10",
       "value": 329155
      }
     },
     "add4ed3b4d65492bb976d88d108ceaa2": {
      "model_module": "@jupyter-widgets/controls",
      "model_module_version": "1.5.0",
      "model_name": "DescriptionStyleModel",
      "state": {
       "description_width": ""
      }
     },
     "ade689766d3f4d69ba56ef1f0489cb9c": {
      "model_module": "@jupyter-widgets/controls",
      "model_module_version": "1.5.0",
      "model_name": "HBoxModel",
      "state": {
       "children": [
        "IPY_MODEL_d0ff9774a71e4eb98d16b6cd23a4e93d",
        "IPY_MODEL_1f0127b6b423496695499409231802b7"
       ],
       "layout": "IPY_MODEL_645fc0cef2514de7943873250173d333"
      }
     },
     "ae18f061e5834fa08aaa10147f4c6b1b": {
      "model_module": "@jupyter-widgets/base",
      "model_module_version": "1.2.0",
      "model_name": "LayoutModel",
      "state": {}
     },
     "aed4a68544a64cb3b493a6297a3ff9f7": {
      "model_module": "@jupyter-widgets/controls",
      "model_module_version": "1.5.0",
      "model_name": "HBoxModel",
      "state": {
       "children": [
        "IPY_MODEL_19548f946c4e42988c5b1ad6761ae0bb",
        "IPY_MODEL_24b7f3d45c8248e8bb78f5c261c2b77e"
       ],
       "layout": "IPY_MODEL_eca4055efdd0408fb883ef076d17cea4"
      }
     },
     "af33c39a2b44456bbf1dc3ab3e00bd5d": {
      "model_module": "@jupyter-widgets/controls",
      "model_module_version": "1.5.0",
      "model_name": "ProgressStyleModel",
      "state": {
       "description_width": "initial"
      }
     },
     "af4dbe90354d4d1ea1e4f48b0fd94e53": {
      "model_module": "@jupyter-widgets/controls",
      "model_module_version": "1.5.0",
      "model_name": "HBoxModel",
      "state": {
       "children": [
        "IPY_MODEL_522be8a76b66418ab6bd5107d73a40dc",
        "IPY_MODEL_88bd848536fc46b5aa5ea6bc8f056be6"
       ],
       "layout": "IPY_MODEL_e73398347a224224ae975d2539660daf"
      }
     },
     "af8baaaaa4934e3e95b6d1ccbbb3de3a": {
      "model_module": "@jupyter-widgets/controls",
      "model_module_version": "1.5.0",
      "model_name": "DescriptionStyleModel",
      "state": {
       "description_width": ""
      }
     },
     "afe7e16d604f41a1a42f492a17b5f267": {
      "model_module": "@jupyter-widgets/controls",
      "model_module_version": "1.5.0",
      "model_name": "HBoxModel",
      "state": {
       "children": [
        "IPY_MODEL_26ece60eb54f4c5dadfb63e43fd46780",
        "IPY_MODEL_1017788052fe4c4a8caaf2b3f0a7b93a"
       ],
       "layout": "IPY_MODEL_7609e7047e39489cb9685d64a211a543"
      }
     },
     "b09ed95ba9d04ba78e05be8d77cf4490": {
      "model_module": "@jupyter-widgets/base",
      "model_module_version": "1.2.0",
      "model_name": "LayoutModel",
      "state": {}
     },
     "b14446e9946840c688818ee6d0ea825e": {
      "model_module": "@jupyter-widgets/base",
      "model_module_version": "1.2.0",
      "model_name": "LayoutModel",
      "state": {}
     },
     "b167e1b5aeb146e0be5ac9d7fcf3b5c5": {
      "model_module": "@jupyter-widgets/base",
      "model_module_version": "1.2.0",
      "model_name": "LayoutModel",
      "state": {}
     },
     "b1697a69c6ed4a8bb89f57d38f8b7dcb": {
      "model_module": "@jupyter-widgets/base",
      "model_module_version": "1.2.0",
      "model_name": "LayoutModel",
      "state": {}
     },
     "b194ebcd71a0493a82c54cac6483d89d": {
      "model_module": "@jupyter-widgets/base",
      "model_module_version": "1.2.0",
      "model_name": "LayoutModel",
      "state": {}
     },
     "b1a27a9dd0d74cbfba312e6d3be5494e": {
      "model_module": "@jupyter-widgets/base",
      "model_module_version": "1.2.0",
      "model_name": "LayoutModel",
      "state": {}
     },
     "b1ceccb7f0734c09b0fe4470f72215d7": {
      "model_module": "@jupyter-widgets/controls",
      "model_module_version": "1.5.0",
      "model_name": "HBoxModel",
      "state": {
       "children": [
        "IPY_MODEL_6207f544b489493188790e1ef3a24096",
        "IPY_MODEL_b779df7b906c48ebbbc4c8315f7ece15"
       ],
       "layout": "IPY_MODEL_f1c29ae7cb9f449db70979019c9de10e"
      }
     },
     "b208f64cca1241ab92d7747b3845564d": {
      "model_module": "@jupyter-widgets/controls",
      "model_module_version": "1.5.0",
      "model_name": "HBoxModel",
      "state": {
       "children": [
        "IPY_MODEL_72c15df5dc7c474d91980968e22db40a",
        "IPY_MODEL_bb3496a78e634909ad92c2b591273ab8"
       ],
       "layout": "IPY_MODEL_97bfd56c42094f32a5483210c2c08395"
      }
     },
     "b2605f47898c4024935386e8f4cf3c0d": {
      "model_module": "@jupyter-widgets/controls",
      "model_module_version": "1.5.0",
      "model_name": "HTMLModel",
      "state": {
       "layout": "IPY_MODEL_b167e1b5aeb146e0be5ac9d7fcf3b5c5",
       "style": "IPY_MODEL_d6770fe6582649c3a506cd2383e92d2c",
       "value": " 329155/329155 [45:26&lt;00:00, 120.72it/s]"
      }
     },
     "b271cb3fa657460c87487e6c090496fc": {
      "model_module": "@jupyter-widgets/base",
      "model_module_version": "1.2.0",
      "model_name": "LayoutModel",
      "state": {}
     },
     "b32a32fdce2a4a1896f57632ff669542": {
      "model_module": "@jupyter-widgets/controls",
      "model_module_version": "1.5.0",
      "model_name": "ProgressStyleModel",
      "state": {
       "description_width": "initial"
      }
     },
     "b3701b4d5209448dbf0fe872ce81edd6": {
      "model_module": "@jupyter-widgets/controls",
      "model_module_version": "1.5.0",
      "model_name": "FloatProgressModel",
      "state": {
       "bar_style": "success",
       "description": "100%",
       "layout": "IPY_MODEL_81bf5e17287747b4abe15c0665fbe346",
       "max": 329155,
       "style": "IPY_MODEL_2135fb7d5972404d89d32588c856e1ae",
       "value": 329155
      }
     },
     "b37040b6abc1496e97e15bf8d3473039": {
      "model_module": "@jupyter-widgets/base",
      "model_module_version": "1.2.0",
      "model_name": "LayoutModel",
      "state": {}
     },
     "b379a4702dac474cae025f005fa7baf9": {
      "model_module": "@jupyter-widgets/controls",
      "model_module_version": "1.5.0",
      "model_name": "FloatProgressModel",
      "state": {
       "bar_style": "danger",
       "description": " 13%",
       "layout": "IPY_MODEL_8aa671396bf746be942f0ec13aff398e",
       "max": 329155,
       "style": "IPY_MODEL_d4868ddda1f64a44a5e0063419d942f7",
       "value": 42181
      }
     },
     "b4252cd45b2b4458bc88440c9af75ae8": {
      "model_module": "@jupyter-widgets/controls",
      "model_module_version": "1.5.0",
      "model_name": "HTMLModel",
      "state": {
       "layout": "IPY_MODEL_cfd5f100cfed4dd1a651d1c25bedc8dd",
       "style": "IPY_MODEL_3502ef9693ed4a5899590abc88c9acbc",
       "value": " 373801/373801 [04:13&lt;00:00, 1471.70it/s]"
      }
     },
     "b465ac1235984a29a00abedb70ba5f5d": {
      "model_module": "@jupyter-widgets/controls",
      "model_module_version": "1.5.0",
      "model_name": "HTMLModel",
      "state": {
       "layout": "IPY_MODEL_63214afed9844d53818dfc64b203e65e",
       "style": "IPY_MODEL_276ecd6d12064ed7918985167e564b6c",
       "value": " 4/4 [52:39&lt;00:00, 789.90s/it]"
      }
     },
     "b4dbd257bbde452a9b5af51dc6802683": {
      "model_module": "@jupyter-widgets/base",
      "model_module_version": "1.2.0",
      "model_name": "LayoutModel",
      "state": {}
     },
     "b565af0875f740eeae78b5a4cdb0a358": {
      "model_module": "@jupyter-widgets/controls",
      "model_module_version": "1.5.0",
      "model_name": "FloatProgressModel",
      "state": {
       "bar_style": "success",
       "description": "100%",
       "layout": "IPY_MODEL_134b7ad1d2da4f5da2f9a4798d5f35cd",
       "max": 329155,
       "style": "IPY_MODEL_c22620adc906437cafc4695c67498c53",
       "value": 329155
      }
     },
     "b57c5f9d1a1a43ad9e5d6ed8b83b170a": {
      "model_module": "@jupyter-widgets/controls",
      "model_module_version": "1.5.0",
      "model_name": "HTMLModel",
      "state": {
       "layout": "IPY_MODEL_873af2c892e64492b6c6c0dae6abe7c7",
       "style": "IPY_MODEL_2068f72d95544d8ba012daa477f9fa54",
       "value": " 373801/373801 [04:44&lt;00:00, 1311.87it/s]"
      }
     },
     "b5cb11d1f883450cbf3557839748529e": {
      "model_module": "@jupyter-widgets/base",
      "model_module_version": "1.2.0",
      "model_name": "LayoutModel",
      "state": {}
     },
     "b5cf97a7125e4a1ab8ac97921d66adbb": {
      "model_module": "@jupyter-widgets/controls",
      "model_module_version": "1.5.0",
      "model_name": "ProgressStyleModel",
      "state": {
       "description_width": "initial"
      }
     },
     "b62fd37a25144ef3926d9adc20fcf1e6": {
      "model_module": "@jupyter-widgets/controls",
      "model_module_version": "1.5.0",
      "model_name": "ProgressStyleModel",
      "state": {
       "description_width": "initial"
      }
     },
     "b669da6503a147e8b600334cbdfb2d2f": {
      "model_module": "@jupyter-widgets/base",
      "model_module_version": "1.2.0",
      "model_name": "LayoutModel",
      "state": {}
     },
     "b67ae9aec38140ea86d9006acf2e58fb": {
      "model_module": "@jupyter-widgets/controls",
      "model_module_version": "1.5.0",
      "model_name": "DescriptionStyleModel",
      "state": {
       "description_width": ""
      }
     },
     "b6f34c74ee284c1a942a1ef46393ca61": {
      "model_module": "@jupyter-widgets/controls",
      "model_module_version": "1.5.0",
      "model_name": "ProgressStyleModel",
      "state": {
       "description_width": "initial"
      }
     },
     "b704d42702d042b1a78ff46158a75056": {
      "model_module": "@jupyter-widgets/controls",
      "model_module_version": "1.5.0",
      "model_name": "DescriptionStyleModel",
      "state": {
       "description_width": ""
      }
     },
     "b7339e0f288b4775a59b5403e9c11de6": {
      "model_module": "@jupyter-widgets/controls",
      "model_module_version": "1.5.0",
      "model_name": "FloatProgressModel",
      "state": {
       "bar_style": "success",
       "description": "100%",
       "layout": "IPY_MODEL_1f681913a42d4bd19d1644632d7cfff2",
       "max": 329155,
       "style": "IPY_MODEL_175e470806e24bb9bb8343997db76277",
       "value": 329155
      }
     },
     "b779df7b906c48ebbbc4c8315f7ece15": {
      "model_module": "@jupyter-widgets/controls",
      "model_module_version": "1.5.0",
      "model_name": "HTMLModel",
      "state": {
       "layout": "IPY_MODEL_09e727a23a9c4e8ca25d5fe9706636dc",
       "style": "IPY_MODEL_3e47271672f04ec0a25ab9ca8410fa23",
       "value": " 35259/35259 [36:00&lt;00:00, 16.32it/s]"
      }
     },
     "b7ad45e9075143fcb350b523ee9a588e": {
      "model_module": "@jupyter-widgets/base",
      "model_module_version": "1.2.0",
      "model_name": "LayoutModel",
      "state": {}
     },
     "b7bab610aa71418b8a8dc2469dae5186": {
      "model_module": "@jupyter-widgets/controls",
      "model_module_version": "1.5.0",
      "model_name": "ProgressStyleModel",
      "state": {
       "description_width": "initial"
      }
     },
     "b7bd430da48940899ccbcca94ce9b4a4": {
      "model_module": "@jupyter-widgets/controls",
      "model_module_version": "1.5.0",
      "model_name": "HBoxModel",
      "state": {
       "children": [
        "IPY_MODEL_256455a20d1a4c3f8fb13c64d3199bc8",
        "IPY_MODEL_d9855c9f13244594ac36ae19176ef80f"
       ],
       "layout": "IPY_MODEL_f3116a5cb62f4b7aa352546e69cc1c4f"
      }
     },
     "b8363a4b93954eb19244eff7eda10a38": {
      "model_module": "@jupyter-widgets/controls",
      "model_module_version": "1.5.0",
      "model_name": "ProgressStyleModel",
      "state": {
       "description_width": "initial"
      }
     },
     "b887ebb75eb84983ab015688a182d115": {
      "model_module": "@jupyter-widgets/base",
      "model_module_version": "1.2.0",
      "model_name": "LayoutModel",
      "state": {}
     },
     "b95e21fc36d04d9aa33867fb537dbc85": {
      "model_module": "@jupyter-widgets/base",
      "model_module_version": "1.2.0",
      "model_name": "LayoutModel",
      "state": {}
     },
     "b95f1e647d2b4bd8b2b2468b56729e04": {
      "model_module": "@jupyter-widgets/controls",
      "model_module_version": "1.5.0",
      "model_name": "HTMLModel",
      "state": {
       "layout": "IPY_MODEL_5f3ffd5af047445ebf4119197b90cdd8",
       "style": "IPY_MODEL_c871e6a5818f4b1ba050d1ac3a583b25",
       "value": " 329155/329155 [58:10&lt;00:00, 94.30it/s]"
      }
     },
     "b9d7470711ff4f53939cde2a1cead36d": {
      "model_module": "@jupyter-widgets/base",
      "model_module_version": "1.2.0",
      "model_name": "LayoutModel",
      "state": {}
     },
     "b9e98890cd0c4c769a0f283a4b4e9b40": {
      "model_module": "@jupyter-widgets/controls",
      "model_module_version": "1.5.0",
      "model_name": "HTMLModel",
      "state": {
       "layout": "IPY_MODEL_4d2bc27121834131a3fea532202a3cd8",
       "style": "IPY_MODEL_1fd721984782400b90b5bac504e0c900",
       "value": " 29950/329155 [07:55&lt;1:19:08, 63.01it/s]"
      }
     },
     "ba651e20d4e64107aa1567b93a5f169a": {
      "model_module": "@jupyter-widgets/base",
      "model_module_version": "1.2.0",
      "model_name": "LayoutModel",
      "state": {}
     },
     "ba78ad7f023a4a738780ebc35b53ed0f": {
      "model_module": "@jupyter-widgets/base",
      "model_module_version": "1.2.0",
      "model_name": "LayoutModel",
      "state": {}
     },
     "ba9a56a5252b46de9d35e8798436a86d": {
      "model_module": "@jupyter-widgets/controls",
      "model_module_version": "1.5.0",
      "model_name": "FloatProgressModel",
      "state": {
       "bar_style": "success",
       "description": "100%",
       "layout": "IPY_MODEL_e170b10eec244b30a3f67656249d284c",
       "max": 35259,
       "style": "IPY_MODEL_609f7588592d44d49625710ab7560f22",
       "value": 35259
      }
     },
     "bac67514fedb47088c3cd46e3e4999d8": {
      "model_module": "@jupyter-widgets/controls",
      "model_module_version": "1.5.0",
      "model_name": "HBoxModel",
      "state": {
       "children": [
        "IPY_MODEL_f84be7f05aea4692a88ddc30938d16ff",
        "IPY_MODEL_f80aa13643ed4217b9445bfb89fb2df5"
       ],
       "layout": "IPY_MODEL_1e16e0c7570340bba7db657a02b32614"
      }
     },
     "bb3496a78e634909ad92c2b591273ab8": {
      "model_module": "@jupyter-widgets/controls",
      "model_module_version": "1.5.0",
      "model_name": "HTMLModel",
      "state": {
       "layout": "IPY_MODEL_552df59037f84aa796fdc4f502b5297a",
       "style": "IPY_MODEL_af8baaaaa4934e3e95b6d1ccbbb3de3a",
       "value": " 329155/329155 [20:07&lt;00:00, 272.54it/s]"
      }
     },
     "bbac990241b74217b1e2bef546c7d94a": {
      "model_module": "@jupyter-widgets/base",
      "model_module_version": "1.2.0",
      "model_name": "LayoutModel",
      "state": {}
     },
     "bbe115d594484033aea29098b08bec87": {
      "model_module": "@jupyter-widgets/controls",
      "model_module_version": "1.5.0",
      "model_name": "HBoxModel",
      "state": {
       "children": [
        "IPY_MODEL_27a60e6fde7845f1a05d30d0c712e92c",
        "IPY_MODEL_7b5a8728bb9748e6b29613b0c9620d58"
       ],
       "layout": "IPY_MODEL_6b2e912f4f05458fbd448bdf72cf9b25"
      }
     },
     "bc9eb1e526eb419e99d1774d6978f2ee": {
      "model_module": "@jupyter-widgets/controls",
      "model_module_version": "1.5.0",
      "model_name": "DescriptionStyleModel",
      "state": {
       "description_width": ""
      }
     },
     "bcde33af15d74526b88b390ed4d70d36": {
      "model_module": "@jupyter-widgets/controls",
      "model_module_version": "1.5.0",
      "model_name": "DescriptionStyleModel",
      "state": {
       "description_width": ""
      }
     },
     "bd45527082874449874ea47448572188": {
      "model_module": "@jupyter-widgets/base",
      "model_module_version": "1.2.0",
      "model_name": "LayoutModel",
      "state": {}
     },
     "bddab6bc74dd4050afcaa9576e60aeb9": {
      "model_module": "@jupyter-widgets/controls",
      "model_module_version": "1.5.0",
      "model_name": "HTMLModel",
      "state": {
       "layout": "IPY_MODEL_80289058bc174075a7351268546c1ba6",
       "style": "IPY_MODEL_00c9789696b84af7bb61d464b1c709e3",
       "value": " 329155/329155 [16:31&lt;00:00, 332.06it/s]"
      }
     },
     "bddd228f87d64c03b472bbf8d20ebac7": {
      "model_module": "@jupyter-widgets/controls",
      "model_module_version": "1.5.0",
      "model_name": "HTMLModel",
      "state": {
       "layout": "IPY_MODEL_526180cf19254ed792125e5d0ce4d5fa",
       "style": "IPY_MODEL_3b89854fe16840e3a6b6c76a88790ba3",
       "value": " 35259/35259 [56:24&lt;00:00, 10.42it/s]"
      }
     },
     "bea1f13f4fab4a089423f1f3dc2dedbb": {
      "model_module": "@jupyter-widgets/base",
      "model_module_version": "1.2.0",
      "model_name": "LayoutModel",
      "state": {}
     },
     "beb2bc606f5d4866ad541e0c955757f5": {
      "model_module": "@jupyter-widgets/base",
      "model_module_version": "1.2.0",
      "model_name": "LayoutModel",
      "state": {}
     },
     "bf1e9ed044f545afbdc217a68a0fc2df": {
      "model_module": "@jupyter-widgets/controls",
      "model_module_version": "1.5.0",
      "model_name": "HBoxModel",
      "state": {
       "children": [
        "IPY_MODEL_476be8b49cec4fb5aef21f39e0223360",
        "IPY_MODEL_0aa2fbd828b34ef6a80ac850b1ffe913"
       ],
       "layout": "IPY_MODEL_09cb313594c6427fb3ff44b9714f348b"
      }
     },
     "bf27027d7dd145809a95f6998bd0301d": {
      "model_module": "@jupyter-widgets/controls",
      "model_module_version": "1.5.0",
      "model_name": "ProgressStyleModel",
      "state": {
       "description_width": "initial"
      }
     },
     "bf2a9e0b8eb24aafa2a053f51bd5ec5b": {
      "model_module": "@jupyter-widgets/controls",
      "model_module_version": "1.5.0",
      "model_name": "DescriptionStyleModel",
      "state": {
       "description_width": ""
      }
     },
     "bfa0e9bcd0604e1da185fb070ddfb8c2": {
      "model_module": "@jupyter-widgets/base",
      "model_module_version": "1.2.0",
      "model_name": "LayoutModel",
      "state": {}
     },
     "c01af3ae2e4b435291c45c3dedf9adaf": {
      "model_module": "@jupyter-widgets/controls",
      "model_module_version": "1.5.0",
      "model_name": "ProgressStyleModel",
      "state": {
       "description_width": "initial"
      }
     },
     "c0380b8611f841bcb8d48abc88c04ea9": {
      "model_module": "@jupyter-widgets/base",
      "model_module_version": "1.2.0",
      "model_name": "LayoutModel",
      "state": {}
     },
     "c055e7669cb7438f96212f9021648323": {
      "model_module": "@jupyter-widgets/controls",
      "model_module_version": "1.5.0",
      "model_name": "DescriptionStyleModel",
      "state": {
       "description_width": ""
      }
     },
     "c0e6678004da409294dc2679d84af756": {
      "model_module": "@jupyter-widgets/base",
      "model_module_version": "1.2.0",
      "model_name": "LayoutModel",
      "state": {}
     },
     "c108c626fe104cd99138d85cefca291c": {
      "model_module": "@jupyter-widgets/controls",
      "model_module_version": "1.5.0",
      "model_name": "HTMLModel",
      "state": {
       "layout": "IPY_MODEL_a7f0478389724c71a1f6ad7e58487c39",
       "style": "IPY_MODEL_deb3d4fb7d904a8a9f22a244039ed4fa",
       "value": " 329155/329155 [12:15&lt;00:00, 447.54it/s]"
      }
     },
     "c120c5e347a740c2a90fa0300367677f": {
      "model_module": "@jupyter-widgets/base",
      "model_module_version": "1.2.0",
      "model_name": "LayoutModel",
      "state": {}
     },
     "c18138a19cee438492b461c1de5b215f": {
      "model_module": "@jupyter-widgets/base",
      "model_module_version": "1.2.0",
      "model_name": "LayoutModel",
      "state": {}
     },
     "c22620adc906437cafc4695c67498c53": {
      "model_module": "@jupyter-widgets/controls",
      "model_module_version": "1.5.0",
      "model_name": "ProgressStyleModel",
      "state": {
       "description_width": "initial"
      }
     },
     "c446bbe70fa740babe9d487efb2fcf13": {
      "model_module": "@jupyter-widgets/controls",
      "model_module_version": "1.5.0",
      "model_name": "ProgressStyleModel",
      "state": {
       "description_width": "initial"
      }
     },
     "c4c26470b0e74752af38dc6996111a04": {
      "model_module": "@jupyter-widgets/base",
      "model_module_version": "1.2.0",
      "model_name": "LayoutModel",
      "state": {}
     },
     "c517aa1711e34fe9ab6cfc8785bdd6ee": {
      "model_module": "@jupyter-widgets/controls",
      "model_module_version": "1.5.0",
      "model_name": "ProgressStyleModel",
      "state": {
       "description_width": "initial"
      }
     },
     "c5368da6b99d48ee91a4e28af7fe3c01": {
      "model_module": "@jupyter-widgets/base",
      "model_module_version": "1.2.0",
      "model_name": "LayoutModel",
      "state": {}
     },
     "c5adc856a460466eb9d5ea2193a13ec8": {
      "model_module": "@jupyter-widgets/base",
      "model_module_version": "1.2.0",
      "model_name": "LayoutModel",
      "state": {}
     },
     "c5cfb912611440f0b202013846f8a2e8": {
      "model_module": "@jupyter-widgets/controls",
      "model_module_version": "1.5.0",
      "model_name": "HTMLModel",
      "state": {
       "layout": "IPY_MODEL_a5e08f964c5446d9be0ef6de441035a1",
       "style": "IPY_MODEL_add4ed3b4d65492bb976d88d108ceaa2",
       "value": " 4027169/4027169 [01:56&lt;00:00, 34647.55it/s]"
      }
     },
     "c5dd5653add747f793c59964fa33e5a2": {
      "model_module": "@jupyter-widgets/base",
      "model_module_version": "1.2.0",
      "model_name": "LayoutModel",
      "state": {}
     },
     "c601141ac3d54c998125b5e256a7fbab": {
      "model_module": "@jupyter-widgets/controls",
      "model_module_version": "1.5.0",
      "model_name": "HTMLModel",
      "state": {
       "layout": "IPY_MODEL_50a63f9f9b96444db77814b98a0ccee1",
       "style": "IPY_MODEL_ecb07716035347849f63acdcb9a1e52f",
       "value": " 329155/329155 [29:27&lt;00:00, 186.23it/s]"
      }
     },
     "c6aafc4c3a6e4a9dbd4e2ceb064f4b4e": {
      "model_module": "@jupyter-widgets/controls",
      "model_module_version": "1.5.0",
      "model_name": "FloatProgressModel",
      "state": {
       "bar_style": "success",
       "description": "100%",
       "layout": "IPY_MODEL_1d6aaa2abdf0413e889ab3f3bc8d5a82",
       "max": 4,
       "style": "IPY_MODEL_b5cf97a7125e4a1ab8ac97921d66adbb",
       "value": 4
      }
     },
     "c6ff9ae7a9824321b79f322a1103838a": {
      "model_module": "@jupyter-widgets/base",
      "model_module_version": "1.2.0",
      "model_name": "LayoutModel",
      "state": {}
     },
     "c73dd7781eb44b8eb9695b831ad579d0": {
      "model_module": "@jupyter-widgets/controls",
      "model_module_version": "1.5.0",
      "model_name": "ProgressStyleModel",
      "state": {
       "description_width": "initial"
      }
     },
     "c79df12fe77c47e39da112bf2854744f": {
      "model_module": "@jupyter-widgets/controls",
      "model_module_version": "1.5.0",
      "model_name": "HTMLModel",
      "state": {
       "layout": "IPY_MODEL_a12e6ceffc8243bdaff3ffbca83fb738",
       "style": "IPY_MODEL_8a4e5f793fe04215ae1079f5c3f06067",
       "value": " 35259/35259 [1:16:08&lt;00:00,  7.72it/s]"
      }
     },
     "c84fd37f9216400987f9454b11a2069b": {
      "model_module": "@jupyter-widgets/controls",
      "model_module_version": "1.5.0",
      "model_name": "DescriptionStyleModel",
      "state": {
       "description_width": ""
      }
     },
     "c871e6a5818f4b1ba050d1ac3a583b25": {
      "model_module": "@jupyter-widgets/controls",
      "model_module_version": "1.5.0",
      "model_name": "DescriptionStyleModel",
      "state": {
       "description_width": ""
      }
     },
     "c8763a815f0e432e80d7e6b71ae6e3db": {
      "model_module": "@jupyter-widgets/controls",
      "model_module_version": "1.5.0",
      "model_name": "HBoxModel",
      "state": {
       "children": [
        "IPY_MODEL_4bb0f33d7abb40a1a1fd98e5ea926ae4",
        "IPY_MODEL_d982b9afe5354c60abe56f14a38a9a16"
       ],
       "layout": "IPY_MODEL_8d54532d2f124f56b23f7e2d400e4974"
      }
     },
     "c8d78261ba814f10a8e09189c1aecfd2": {
      "model_module": "@jupyter-widgets/controls",
      "model_module_version": "1.5.0",
      "model_name": "ProgressStyleModel",
      "state": {
       "description_width": "initial"
      }
     },
     "c902e4194e244ccfa267a646bda9e409": {
      "model_module": "@jupyter-widgets/base",
      "model_module_version": "1.2.0",
      "model_name": "LayoutModel",
      "state": {}
     },
     "c96cf6c606204184b8008730ce527840": {
      "model_module": "@jupyter-widgets/controls",
      "model_module_version": "1.5.0",
      "model_name": "HTMLModel",
      "state": {
       "layout": "IPY_MODEL_0dd0f943a0fd4935aa054b4e166fc163",
       "style": "IPY_MODEL_1b455d5fd12648f3837f932357f564fc",
       "value": "23090it [00:20, 1120.90it/s]"
      }
     },
     "ca5db90a88bf49e789b5f736e07662a4": {
      "model_module": "@jupyter-widgets/controls",
      "model_module_version": "1.5.0",
      "model_name": "HTMLModel",
      "state": {
       "layout": "IPY_MODEL_0f77b0764cf64cb587646112e43bad6c",
       "style": "IPY_MODEL_a38ef03b03574950adc37faabafdd7cc",
       "value": " 329155/329155 [2:10:40&lt;00:00, 41.98it/s]"
      }
     },
     "ca6c8b62bcc6435e9c1929fba495157a": {
      "model_module": "@jupyter-widgets/controls",
      "model_module_version": "1.5.0",
      "model_name": "HTMLModel",
      "state": {
       "layout": "IPY_MODEL_5c8e4dacd7ea4d83a76e3540815014b6",
       "style": "IPY_MODEL_0facf0bc739948e8bcea01b24526a56e",
       "value": " 0/329155 [01:33&lt;?, ?it/s]"
      }
     },
     "cb4544c9185f419dad5275f16a1c4493": {
      "model_module": "@jupyter-widgets/controls",
      "model_module_version": "1.5.0",
      "model_name": "HBoxModel",
      "state": {
       "children": [
        "IPY_MODEL_fbe8007bd0734fbc8ecc60d12a64a48b",
        "IPY_MODEL_f5f4d89d9b1442fcb4cf0f0d00ebac7a"
       ],
       "layout": "IPY_MODEL_282fe79028364252bef4e146f57fa0b5"
      }
     },
     "cc27f3ed77a84c2f92c8952505b29a01": {
      "model_module": "@jupyter-widgets/controls",
      "model_module_version": "1.5.0",
      "model_name": "DescriptionStyleModel",
      "state": {
       "description_width": ""
      }
     },
     "cc461c4ca23249879a843e4a2dd8a0d3": {
      "model_module": "@jupyter-widgets/controls",
      "model_module_version": "1.5.0",
      "model_name": "FloatProgressModel",
      "state": {
       "bar_style": "success",
       "description": "100%",
       "layout": "IPY_MODEL_db1311bc3e414481b03e1c426280273e",
       "max": 32,
       "style": "IPY_MODEL_5e061ec129674260b4bda3254c834074",
       "value": 32
      }
     },
     "cc80395d2d704dd88a8de99b7a758e39": {
      "model_module": "@jupyter-widgets/base",
      "model_module_version": "1.2.0",
      "model_name": "LayoutModel",
      "state": {}
     },
     "ccb24eabc9b84edc887b80d565cbcd2f": {
      "model_module": "@jupyter-widgets/base",
      "model_module_version": "1.2.0",
      "model_name": "LayoutModel",
      "state": {}
     },
     "ccfc6d2622d041d0838bfda26a36b692": {
      "model_module": "@jupyter-widgets/controls",
      "model_module_version": "1.5.0",
      "model_name": "HBoxModel",
      "state": {
       "children": [
        "IPY_MODEL_5fa9ce69328544db8f771d23c50e2c8c",
        "IPY_MODEL_a74ad3b0f0be44e9a02170c83ce4b9a2"
       ],
       "layout": "IPY_MODEL_4c263c2fce494059a173f03d0126f3b5"
      }
     },
     "cd455496d08749ec9076731130505c99": {
      "model_module": "@jupyter-widgets/base",
      "model_module_version": "1.2.0",
      "model_name": "LayoutModel",
      "state": {}
     },
     "cd9c4fea3d0c45a3923a93c9d3952763": {
      "model_module": "@jupyter-widgets/controls",
      "model_module_version": "1.5.0",
      "model_name": "ProgressStyleModel",
      "state": {
       "description_width": "initial"
      }
     },
     "cdf231ba626846a3b6b2187f8e75d5de": {
      "model_module": "@jupyter-widgets/controls",
      "model_module_version": "1.5.0",
      "model_name": "DescriptionStyleModel",
      "state": {
       "description_width": ""
      }
     },
     "ce55029c73944accb1d36f6738c1b5b3": {
      "model_module": "@jupyter-widgets/controls",
      "model_module_version": "1.5.0",
      "model_name": "ProgressStyleModel",
      "state": {
       "description_width": "initial"
      }
     },
     "ce6659141c1f4eec88082c70d1fb1c41": {
      "model_module": "@jupyter-widgets/controls",
      "model_module_version": "1.5.0",
      "model_name": "ProgressStyleModel",
      "state": {
       "description_width": "initial"
      }
     },
     "ce6b5bce22ef44f3a347c0c261a57dbb": {
      "model_module": "@jupyter-widgets/base",
      "model_module_version": "1.2.0",
      "model_name": "LayoutModel",
      "state": {}
     },
     "cea29770304642d78d93f02acf5dff7d": {
      "model_module": "@jupyter-widgets/base",
      "model_module_version": "1.2.0",
      "model_name": "LayoutModel",
      "state": {}
     },
     "cec745c4c1fa4a6b9e4e78b563642a9b": {
      "model_module": "@jupyter-widgets/controls",
      "model_module_version": "1.5.0",
      "model_name": "FloatProgressModel",
      "state": {
       "bar_style": "success",
       "description": "100%",
       "layout": "IPY_MODEL_583abd72a1a34954b1598bda79f8c5dc",
       "max": 329155,
       "style": "IPY_MODEL_9aaf116ed7ae4619bddcbb559b9f1eea",
       "value": 329155
      }
     },
     "ced81fdad984435a96d929955c104591": {
      "model_module": "@jupyter-widgets/controls",
      "model_module_version": "1.5.0",
      "model_name": "FloatProgressModel",
      "state": {
       "bar_style": "success",
       "description": "100%",
       "layout": "IPY_MODEL_6d3e014201ed4a29abc0c57828e3793b",
       "max": 329155,
       "style": "IPY_MODEL_0cbea9c69a0f46d5848ea6b8804b9e17",
       "value": 329155
      }
     },
     "cee9ffdef88a42209b9bf6f68ffae04e": {
      "model_module": "@jupyter-widgets/controls",
      "model_module_version": "1.5.0",
      "model_name": "HTMLModel",
      "state": {
       "layout": "IPY_MODEL_efc6fcefff604358a416948035b59fcf",
       "style": "IPY_MODEL_c84fd37f9216400987f9454b11a2069b",
       "value": " 329155/329155 [1:40:29&lt;00:00, 54.59it/s]"
      }
     },
     "cfd5f100cfed4dd1a651d1c25bedc8dd": {
      "model_module": "@jupyter-widgets/base",
      "model_module_version": "1.2.0",
      "model_name": "LayoutModel",
      "state": {}
     },
     "cfdd1af970f443de9ea4a6377eb108e1": {
      "model_module": "@jupyter-widgets/controls",
      "model_module_version": "1.5.0",
      "model_name": "HTMLModel",
      "state": {
       "layout": "IPY_MODEL_26c6277b769a40179f715740c9bd66ae",
       "style": "IPY_MODEL_d889905c59274e2e924de822500aeb8a",
       "value": " 329155/329155 [20:54&lt;00:00, 262.44it/s]"
      }
     },
     "cffe7cb6d00e432d8254fb8669d21171": {
      "model_module": "@jupyter-widgets/base",
      "model_module_version": "1.2.0",
      "model_name": "LayoutModel",
      "state": {}
     },
     "d02ed052787848fbaa9ad1df577744b5": {
      "model_module": "@jupyter-widgets/controls",
      "model_module_version": "1.5.0",
      "model_name": "ProgressStyleModel",
      "state": {
       "description_width": "initial"
      }
     },
     "d0482bdf8ec64eab9448a553246d1c47": {
      "model_module": "@jupyter-widgets/base",
      "model_module_version": "1.2.0",
      "model_name": "LayoutModel",
      "state": {}
     },
     "d0c87b7d64aa4264afa609dea83585cc": {
      "model_module": "@jupyter-widgets/controls",
      "model_module_version": "1.5.0",
      "model_name": "ProgressStyleModel",
      "state": {
       "description_width": "initial"
      }
     },
     "d0dd2164876342f897d1e888702a5a34": {
      "model_module": "@jupyter-widgets/base",
      "model_module_version": "1.2.0",
      "model_name": "LayoutModel",
      "state": {}
     },
     "d0f8b3a348c84196a7dfe9e52c8c4348": {
      "model_module": "@jupyter-widgets/controls",
      "model_module_version": "1.5.0",
      "model_name": "ProgressStyleModel",
      "state": {
       "description_width": "initial"
      }
     },
     "d0ff9774a71e4eb98d16b6cd23a4e93d": {
      "model_module": "@jupyter-widgets/controls",
      "model_module_version": "1.5.0",
      "model_name": "FloatProgressModel",
      "state": {
       "bar_style": "success",
       "description": "100%",
       "layout": "IPY_MODEL_58577514929a4b56b85f8f740c15205e",
       "max": 329155,
       "style": "IPY_MODEL_0eba7a0de75e4584bbd3eebdbdb734cf",
       "value": 329155
      }
     },
     "d21715764d2d42d6b40b05e3ea1979ae": {
      "model_module": "@jupyter-widgets/controls",
      "model_module_version": "1.5.0",
      "model_name": "DescriptionStyleModel",
      "state": {
       "description_width": ""
      }
     },
     "d28e6f46aff44ad59e7e31cb8a4e870b": {
      "model_module": "@jupyter-widgets/controls",
      "model_module_version": "1.5.0",
      "model_name": "HBoxModel",
      "state": {
       "children": [
        "IPY_MODEL_c6aafc4c3a6e4a9dbd4e2ceb064f4b4e",
        "IPY_MODEL_92766eec789a402898498df38644e771"
       ],
       "layout": "IPY_MODEL_d79b4a4bb20a48da8e62c7166f495f0e"
      }
     },
     "d2970f4d3d1e4e7a8e1475d565fb13b7": {
      "model_module": "@jupyter-widgets/base",
      "model_module_version": "1.2.0",
      "model_name": "LayoutModel",
      "state": {}
     },
     "d2994ac7587642d7b0af4a1145f186ad": {
      "model_module": "@jupyter-widgets/controls",
      "model_module_version": "1.5.0",
      "model_name": "ProgressStyleModel",
      "state": {
       "description_width": "initial"
      }
     },
     "d2a96811582944beb093ad27a0fb2cbd": {
      "model_module": "@jupyter-widgets/base",
      "model_module_version": "1.2.0",
      "model_name": "LayoutModel",
      "state": {}
     },
     "d30369a24c0f4bedb961849f68c37a67": {
      "model_module": "@jupyter-widgets/base",
      "model_module_version": "1.2.0",
      "model_name": "LayoutModel",
      "state": {}
     },
     "d37d21d1ec6146c087dfb9d4e2221efe": {
      "model_module": "@jupyter-widgets/base",
      "model_module_version": "1.2.0",
      "model_name": "LayoutModel",
      "state": {}
     },
     "d3b555d3cfdd4bddac75c54411493989": {
      "model_module": "@jupyter-widgets/base",
      "model_module_version": "1.2.0",
      "model_name": "LayoutModel",
      "state": {}
     },
     "d3c5f2a3e1c04e7a92a61835ea5434a2": {
      "model_module": "@jupyter-widgets/controls",
      "model_module_version": "1.5.0",
      "model_name": "FloatProgressModel",
      "state": {
       "bar_style": "success",
       "description": "100%",
       "layout": "IPY_MODEL_95c4291b4d56435cb1535e8d65c1ef9c",
       "max": 329155,
       "style": "IPY_MODEL_5db7017a6e5045a8a5a7b7c7634a3c74",
       "value": 329155
      }
     },
     "d4868ddda1f64a44a5e0063419d942f7": {
      "model_module": "@jupyter-widgets/controls",
      "model_module_version": "1.5.0",
      "model_name": "ProgressStyleModel",
      "state": {
       "description_width": "initial"
      }
     },
     "d4cc58a85b4a4ddcaf9e457e149a76ee": {
      "model_module": "@jupyter-widgets/controls",
      "model_module_version": "1.5.0",
      "model_name": "FloatProgressModel",
      "state": {
       "bar_style": "success",
       "description": "100%",
       "layout": "IPY_MODEL_0e22f1a9b1f44388a8a1c6a41876f945",
       "max": 329155,
       "style": "IPY_MODEL_ce6659141c1f4eec88082c70d1fb1c41",
       "value": 329155
      }
     },
     "d4ebf003cb284446ac243f4121fc3598": {
      "model_module": "@jupyter-widgets/controls",
      "model_module_version": "1.5.0",
      "model_name": "DescriptionStyleModel",
      "state": {
       "description_width": ""
      }
     },
     "d4fe9d183fb44912a6bcf825bfccc928": {
      "model_module": "@jupyter-widgets/controls",
      "model_module_version": "1.5.0",
      "model_name": "ProgressStyleModel",
      "state": {
       "description_width": "initial"
      }
     },
     "d52caf831032439c916aa88573e22e8b": {
      "model_module": "@jupyter-widgets/base",
      "model_module_version": "1.2.0",
      "model_name": "LayoutModel",
      "state": {}
     },
     "d59ad4248cf6454c90b994b1afd7729c": {
      "model_module": "@jupyter-widgets/base",
      "model_module_version": "1.2.0",
      "model_name": "LayoutModel",
      "state": {}
     },
     "d648054077fa4cf4b5f56aceb9030aff": {
      "model_module": "@jupyter-widgets/base",
      "model_module_version": "1.2.0",
      "model_name": "LayoutModel",
      "state": {}
     },
     "d6731bd4a695446d924f2b4b21d3666e": {
      "model_module": "@jupyter-widgets/controls",
      "model_module_version": "1.5.0",
      "model_name": "FloatProgressModel",
      "state": {
       "bar_style": "success",
       "description": "100%",
       "layout": "IPY_MODEL_0a959230102644f6954ca88ca960b666",
       "max": 4,
       "style": "IPY_MODEL_f2eaf4ccaf164187b08207ab7eb521f7",
       "value": 4
      }
     },
     "d6770fe6582649c3a506cd2383e92d2c": {
      "model_module": "@jupyter-widgets/controls",
      "model_module_version": "1.5.0",
      "model_name": "DescriptionStyleModel",
      "state": {
       "description_width": ""
      }
     },
     "d68cedbee8d246d1b5bd1f2441df3928": {
      "model_module": "@jupyter-widgets/controls",
      "model_module_version": "1.5.0",
      "model_name": "HBoxModel",
      "state": {
       "children": [
        "IPY_MODEL_4b153f5a2cfb41f7bf94b09d7d5f8a2d",
        "IPY_MODEL_865eb29090954c8fa833f40936f9886c"
       ],
       "layout": "IPY_MODEL_7dcce3792ab3451da3453e2e021e901b"
      }
     },
     "d6a425dacf99478d84ade356251b9d93": {
      "model_module": "@jupyter-widgets/base",
      "model_module_version": "1.2.0",
      "model_name": "LayoutModel",
      "state": {}
     },
     "d769bfd653a546cdb7ca354b08dbe0ea": {
      "model_module": "@jupyter-widgets/base",
      "model_module_version": "1.2.0",
      "model_name": "LayoutModel",
      "state": {}
     },
     "d772dfa0afcb4fb39bfbe728b482e968": {
      "model_module": "@jupyter-widgets/base",
      "model_module_version": "1.2.0",
      "model_name": "LayoutModel",
      "state": {}
     },
     "d77438834fde485ea0f749cd9c9c215d": {
      "model_module": "@jupyter-widgets/controls",
      "model_module_version": "1.5.0",
      "model_name": "HTMLModel",
      "state": {
       "layout": "IPY_MODEL_2f9947a1b9c44f1d978b9402d4bcd3b3",
       "style": "IPY_MODEL_a92da92c566b4b70860b0ff473af3a50",
       "value": " 329155/329155 [15:57&lt;00:00, 343.76it/s]"
      }
     },
     "d79b4a4bb20a48da8e62c7166f495f0e": {
      "model_module": "@jupyter-widgets/base",
      "model_module_version": "1.2.0",
      "model_name": "LayoutModel",
      "state": {}
     },
     "d7cbe9db9b994f6ea4ece9c511b7ecd6": {
      "model_module": "@jupyter-widgets/controls",
      "model_module_version": "1.5.0",
      "model_name": "FloatProgressModel",
      "state": {
       "bar_style": "success",
       "description": "100%",
       "layout": "IPY_MODEL_f8ea72283dcd4ea9adea52a96e0c4ee9",
       "max": 329155,
       "style": "IPY_MODEL_9c6115117e8b4a6385f97410402235e1",
       "value": 329155
      }
     },
     "d81c7f5095d54c98b51057a9cb3ec81f": {
      "model_module": "@jupyter-widgets/controls",
      "model_module_version": "1.5.0",
      "model_name": "DescriptionStyleModel",
      "state": {
       "description_width": ""
      }
     },
     "d84cb2885619439d8800ce32e9067f1c": {
      "model_module": "@jupyter-widgets/base",
      "model_module_version": "1.2.0",
      "model_name": "LayoutModel",
      "state": {}
     },
     "d8654cf71ff04c4b91304885c28434b3": {
      "model_module": "@jupyter-widgets/base",
      "model_module_version": "1.2.0",
      "model_name": "LayoutModel",
      "state": {}
     },
     "d889905c59274e2e924de822500aeb8a": {
      "model_module": "@jupyter-widgets/controls",
      "model_module_version": "1.5.0",
      "model_name": "DescriptionStyleModel",
      "state": {
       "description_width": ""
      }
     },
     "d8c6365dc3d54fa2aedbb5517b5f596c": {
      "model_module": "@jupyter-widgets/controls",
      "model_module_version": "1.5.0",
      "model_name": "FloatProgressModel",
      "state": {
       "bar_style": "success",
       "description": "100%",
       "layout": "IPY_MODEL_5f053e7d3cc840cd81facb467a0605b5",
       "max": 4,
       "style": "IPY_MODEL_35d714ac585e4cd797d0436d451441eb",
       "value": 4
      }
     },
     "d8cd6a1111634648a04897634dee03aa": {
      "model_module": "@jupyter-widgets/base",
      "model_module_version": "1.2.0",
      "model_name": "LayoutModel",
      "state": {}
     },
     "d8e2de3f2c03472bbaca4fb46da65c96": {
      "model_module": "@jupyter-widgets/controls",
      "model_module_version": "1.5.0",
      "model_name": "FloatProgressModel",
      "state": {
       "bar_style": "danger",
       "description": "  9%",
       "layout": "IPY_MODEL_cea29770304642d78d93f02acf5dff7d",
       "max": 329155,
       "style": "IPY_MODEL_c517aa1711e34fe9ab6cfc8785bdd6ee",
       "value": 29950
      }
     },
     "d9398fe4406948bea1445caa324101c6": {
      "model_module": "@jupyter-widgets/controls",
      "model_module_version": "1.5.0",
      "model_name": "ProgressStyleModel",
      "state": {
       "description_width": "initial"
      }
     },
     "d94fe56779f642cb8bd0ac5c4dd6205e": {
      "model_module": "@jupyter-widgets/controls",
      "model_module_version": "1.5.0",
      "model_name": "HBoxModel",
      "state": {
       "children": [
        "IPY_MODEL_9d73f356c8704b39b4bfeca789dfa234",
        "IPY_MODEL_4679776a08c240c3a50e120501ebbda6"
       ],
       "layout": "IPY_MODEL_f5defad343bf477695442d2f647d7f9a"
      }
     },
     "d9566a9c136646ea9c5ea27039a13242": {
      "model_module": "@jupyter-widgets/base",
      "model_module_version": "1.2.0",
      "model_name": "LayoutModel",
      "state": {}
     },
     "d982b9afe5354c60abe56f14a38a9a16": {
      "model_module": "@jupyter-widgets/controls",
      "model_module_version": "1.5.0",
      "model_name": "HTMLModel",
      "state": {
       "layout": "IPY_MODEL_991a96af7b654d81aef70e6553a604ce",
       "style": "IPY_MODEL_746530fe02244e4fa0f09b5dd06bbf02",
       "value": " 329155/329155 [3:11:05&lt;00:00, 28.71it/s]"
      }
     },
     "d9855c9f13244594ac36ae19176ef80f": {
      "model_module": "@jupyter-widgets/controls",
      "model_module_version": "1.5.0",
      "model_name": "HTMLModel",
      "state": {
       "layout": "IPY_MODEL_a2fddfa1bb894f898c6a17bfd4006dea",
       "style": "IPY_MODEL_897861a496fd41e3bd88edf27108e682",
       "value": " 329155/329155 [13:12&lt;00:00, 415.51it/s]"
      }
     },
     "d9dd5c7b82dd46d0b77ff59f51b0685e": {
      "model_module": "@jupyter-widgets/controls",
      "model_module_version": "1.5.0",
      "model_name": "HBoxModel",
      "state": {
       "children": [
        "IPY_MODEL_f2b82c900b7749fb8bca08e64f5bde8b",
        "IPY_MODEL_4ff1424194c94aa4b8ec6d51ba15adfe"
       ],
       "layout": "IPY_MODEL_2b576fd21c8b4818b23fcafdd10c7608"
      }
     },
     "da75dad1d2084ada9d6b4fd8a40b7896": {
      "model_module": "@jupyter-widgets/controls",
      "model_module_version": "1.5.0",
      "model_name": "HTMLModel",
      "state": {
       "layout": "IPY_MODEL_742915bee8624e3aa6c9fcaaeffe3bcb",
       "style": "IPY_MODEL_620345f602e44815b56382b48698db46",
       "value": " 42181/329155 [00:31&lt;03:37, 1320.80it/s]"
      }
     },
     "da7714d28a674af69acc352840982ab9": {
      "model_module": "@jupyter-widgets/base",
      "model_module_version": "1.2.0",
      "model_name": "LayoutModel",
      "state": {}
     },
     "da96e83e6c70449397249aa66a008655": {
      "model_module": "@jupyter-widgets/controls",
      "model_module_version": "1.5.0",
      "model_name": "HBoxModel",
      "state": {
       "children": [
        "IPY_MODEL_b379a4702dac474cae025f005fa7baf9",
        "IPY_MODEL_da75dad1d2084ada9d6b4fd8a40b7896"
       ],
       "layout": "IPY_MODEL_0a67d991fe5c4c048644cc3ddfb97572"
      }
     },
     "da98c1af9a6c4911bbcbf8d6f271acb4": {
      "model_module": "@jupyter-widgets/controls",
      "model_module_version": "1.5.0",
      "model_name": "HTMLModel",
      "state": {
       "layout": "IPY_MODEL_b194ebcd71a0493a82c54cac6483d89d",
       "style": "IPY_MODEL_8a7ee232ef404f9ba5f05e67722ad386",
       "value": " 4/4 [45:27&lt;00:00, 681.75s/it]"
      }
     },
     "dad334c913994b52b8e6936976304711": {
      "model_module": "@jupyter-widgets/base",
      "model_module_version": "1.2.0",
      "model_name": "LayoutModel",
      "state": {}
     },
     "dae9df914dc34b4cbe7895e991573609": {
      "model_module": "@jupyter-widgets/controls",
      "model_module_version": "1.5.0",
      "model_name": "FloatProgressModel",
      "state": {
       "bar_style": "success",
       "description": "100%",
       "layout": "IPY_MODEL_1e86c5ae5b2042d78635c3de103b6056",
       "max": 329155,
       "style": "IPY_MODEL_7872fa326fe64aa29c6eba335eb79fc0",
       "value": 329155
      }
     },
     "db1311bc3e414481b03e1c426280273e": {
      "model_module": "@jupyter-widgets/base",
      "model_module_version": "1.2.0",
      "model_name": "LayoutModel",
      "state": {}
     },
     "db4c14053b874354a90db5b435b5e2af": {
      "model_module": "@jupyter-widgets/base",
      "model_module_version": "1.2.0",
      "model_name": "LayoutModel",
      "state": {}
     },
     "dc1acaa0271549678e2bc1edf9e8a32b": {
      "model_module": "@jupyter-widgets/base",
      "model_module_version": "1.2.0",
      "model_name": "LayoutModel",
      "state": {}
     },
     "dc6ba891d0324dc9bd0ea771ec944f07": {
      "model_module": "@jupyter-widgets/controls",
      "model_module_version": "1.5.0",
      "model_name": "HTMLModel",
      "state": {
       "layout": "IPY_MODEL_9682558d9ce8448aa6c5c27db1e45aae",
       "style": "IPY_MODEL_a07d0abb2c86416687aa9d25152b483b",
       "value": " 329155/329155 [1:10:21&lt;00:00, 77.97it/s]"
      }
     },
     "dd567af105f94414bd366e26a6736763": {
      "model_module": "@jupyter-widgets/base",
      "model_module_version": "1.2.0",
      "model_name": "LayoutModel",
      "state": {}
     },
     "dd6a6c2b34924fbba833fc391e765abc": {
      "model_module": "@jupyter-widgets/controls",
      "model_module_version": "1.5.0",
      "model_name": "HTMLModel",
      "state": {
       "layout": "IPY_MODEL_d2970f4d3d1e4e7a8e1475d565fb13b7",
       "style": "IPY_MODEL_2581087f8494489d9c88900570bde0af",
       "value": " 329155/329155 [10:03&lt;00:00, 545.61it/s]"
      }
     },
     "ddf8dd2e18e449dcbe0248e5fe03094e": {
      "model_module": "@jupyter-widgets/controls",
      "model_module_version": "1.5.0",
      "model_name": "HBoxModel",
      "state": {
       "children": [
        "IPY_MODEL_15ac550ad18a4b9caa9cb7c8246f789f",
        "IPY_MODEL_3a092c99d7b54af19fa56c48967be6eb"
       ],
       "layout": "IPY_MODEL_d772dfa0afcb4fb39bfbe728b482e968"
      }
     },
     "de14da700c2c42c3ba8c28ac7d0e68b5": {
      "model_module": "@jupyter-widgets/controls",
      "model_module_version": "1.5.0",
      "model_name": "HBoxModel",
      "state": {
       "children": [
        "IPY_MODEL_d8e2de3f2c03472bbaca4fb46da65c96",
        "IPY_MODEL_b9e98890cd0c4c769a0f283a4b4e9b40"
       ],
       "layout": "IPY_MODEL_f9d66d7647f542a687b245fe6f291045"
      }
     },
     "deb3d4fb7d904a8a9f22a244039ed4fa": {
      "model_module": "@jupyter-widgets/controls",
      "model_module_version": "1.5.0",
      "model_name": "DescriptionStyleModel",
      "state": {
       "description_width": ""
      }
     },
     "decff4d185bc4344b49ceddbf4dd7157": {
      "model_module": "@jupyter-widgets/controls",
      "model_module_version": "1.5.0",
      "model_name": "HTMLModel",
      "state": {
       "layout": "IPY_MODEL_ed51a2888ea4471883539503da639806",
       "style": "IPY_MODEL_720efbe3f6cb4307b6b2835a3c3eee19",
       "value": " 4/4 [50:14&lt;00:00, 753.54s/it]"
      }
     },
     "df34d2a116cf411ebc1a77584b605539": {
      "model_module": "@jupyter-widgets/controls",
      "model_module_version": "1.5.0",
      "model_name": "FloatProgressModel",
      "state": {
       "bar_style": "success",
       "description": "100%",
       "layout": "IPY_MODEL_176700af5a0d49e7945b37722c12a2ac",
       "max": 329155,
       "style": "IPY_MODEL_d2994ac7587642d7b0af4a1145f186ad",
       "value": 329155
      }
     },
     "dfa9601ca01a45c8b16a206bc7499d33": {
      "model_module": "@jupyter-widgets/controls",
      "model_module_version": "1.5.0",
      "model_name": "HTMLModel",
      "state": {
       "layout": "IPY_MODEL_811975366c5747398936fe1e6a90e94d",
       "style": "IPY_MODEL_bc9eb1e526eb419e99d1774d6978f2ee",
       "value": " 329155/329155 [25:47&lt;00:00, 212.70it/s]"
      }
     },
     "dfb91a394b4d41248359bfa90f86af18": {
      "model_module": "@jupyter-widgets/controls",
      "model_module_version": "1.5.0",
      "model_name": "ProgressStyleModel",
      "state": {
       "description_width": "initial"
      }
     },
     "dfd16dd3e08541f89970e44d31496e11": {
      "model_module": "@jupyter-widgets/controls",
      "model_module_version": "1.5.0",
      "model_name": "HTMLModel",
      "state": {
       "layout": "IPY_MODEL_c5dd5653add747f793c59964fa33e5a2",
       "style": "IPY_MODEL_22a8f8d8dbc84a0c86e6a45bc2969dec",
       "value": " 0/329155 [08:43&lt;?, ?it/s]"
      }
     },
     "dfddc3ff9a564e06ad1a10d0d8ef5a93": {
      "model_module": "@jupyter-widgets/base",
      "model_module_version": "1.2.0",
      "model_name": "LayoutModel",
      "state": {}
     },
     "e00878aef46a4a67b83a3ae0b58813a3": {
      "model_module": "@jupyter-widgets/controls",
      "model_module_version": "1.5.0",
      "model_name": "ProgressStyleModel",
      "state": {
       "description_width": "initial"
      }
     },
     "e01653b02e05458db520b60c9661db15": {
      "model_module": "@jupyter-widgets/controls",
      "model_module_version": "1.5.0",
      "model_name": "HBoxModel",
      "state": {
       "children": [
        "IPY_MODEL_048368549419426bb784455ca9d9da60",
        "IPY_MODEL_68bcce2fd64c4a77829e9bc9e747c423"
       ],
       "layout": "IPY_MODEL_a770363ac9d24b9dbbf44ad6e349da2a"
      }
     },
     "e067b1a1983846409a947bfeedea0bc2": {
      "model_module": "@jupyter-widgets/controls",
      "model_module_version": "1.5.0",
      "model_name": "ProgressStyleModel",
      "state": {
       "description_width": "initial"
      }
     },
     "e082b3df6ece4722b83d965976b5e47a": {
      "model_module": "@jupyter-widgets/base",
      "model_module_version": "1.2.0",
      "model_name": "LayoutModel",
      "state": {}
     },
     "e0b78318adbf452ebfd5cde48fb97acb": {
      "model_module": "@jupyter-widgets/base",
      "model_module_version": "1.2.0",
      "model_name": "LayoutModel",
      "state": {}
     },
     "e0f94e0b88a94b0b982ab408034254f8": {
      "model_module": "@jupyter-widgets/base",
      "model_module_version": "1.2.0",
      "model_name": "LayoutModel",
      "state": {}
     },
     "e1198acf516e42eeac3c98b996fb1474": {
      "model_module": "@jupyter-widgets/controls",
      "model_module_version": "1.5.0",
      "model_name": "DescriptionStyleModel",
      "state": {
       "description_width": ""
      }
     },
     "e12b8b3d0f70402b9c8830254a93e025": {
      "model_module": "@jupyter-widgets/controls",
      "model_module_version": "1.5.0",
      "model_name": "HBoxModel",
      "state": {
       "children": [
        "IPY_MODEL_d7cbe9db9b994f6ea4ece9c511b7ecd6",
        "IPY_MODEL_51e5fc3b9f0746b4b1c72b30571c9f66"
       ],
       "layout": "IPY_MODEL_4bd4f12131cc415283af4a98608c3fe9"
      }
     },
     "e170b10eec244b30a3f67656249d284c": {
      "model_module": "@jupyter-widgets/base",
      "model_module_version": "1.2.0",
      "model_name": "LayoutModel",
      "state": {}
     },
     "e179c8b2ae3842c1963df7e575e20d90": {
      "model_module": "@jupyter-widgets/base",
      "model_module_version": "1.2.0",
      "model_name": "LayoutModel",
      "state": {}
     },
     "e1e1b2becfab4e30a2a218b986109740": {
      "model_module": "@jupyter-widgets/controls",
      "model_module_version": "1.5.0",
      "model_name": "HTMLModel",
      "state": {
       "layout": "IPY_MODEL_800e6e23eb434101a5720c6695f1ecb0",
       "style": "IPY_MODEL_71ff923c6ecc4970bbf1f5b15c5ffdf5",
       "value": " 329155/329155 [13:22&lt;00:00, 410.34it/s]"
      }
     },
     "e214e4213d21493eb3ca5835c7a2d2d5": {
      "model_module": "@jupyter-widgets/base",
      "model_module_version": "1.2.0",
      "model_name": "LayoutModel",
      "state": {}
     },
     "e2724e79cdb64555b9f7d8191c2ad8fe": {
      "model_module": "@jupyter-widgets/controls",
      "model_module_version": "1.5.0",
      "model_name": "HBoxModel",
      "state": {
       "children": [
        "IPY_MODEL_fa4e89cb74e3491e9dce7d06bd9bc2d3",
        "IPY_MODEL_dc6ba891d0324dc9bd0ea771ec944f07"
       ],
       "layout": "IPY_MODEL_92e585b4f80248f1a7c16206fd0a2866"
      }
     },
     "e29d581e14814acd8aab0e028bcbd94d": {
      "model_module": "@jupyter-widgets/controls",
      "model_module_version": "1.5.0",
      "model_name": "FloatProgressModel",
      "state": {
       "bar_style": "success",
       "description": "100%",
       "layout": "IPY_MODEL_2464c33c65c540ac8bc620b709c05853",
       "max": 1,
       "style": "IPY_MODEL_90ea262cc4cd4b148df4c03feb4bc565",
       "value": 1
      }
     },
     "e2c6791fb479473fabb6c9b4bf421ab0": {
      "model_module": "@jupyter-widgets/controls",
      "model_module_version": "1.5.0",
      "model_name": "ProgressStyleModel",
      "state": {
       "description_width": "initial"
      }
     },
     "e2ef190b845e41c38b6262cbab95c2ab": {
      "model_module": "@jupyter-widgets/base",
      "model_module_version": "1.2.0",
      "model_name": "LayoutModel",
      "state": {}
     },
     "e307d8f8c4c84084b9d2cf32d18361e6": {
      "model_module": "@jupyter-widgets/controls",
      "model_module_version": "1.5.0",
      "model_name": "ProgressStyleModel",
      "state": {
       "description_width": "initial"
      }
     },
     "e45d480ea0f0458587bffff8890c5fb8": {
      "model_module": "@jupyter-widgets/base",
      "model_module_version": "1.2.0",
      "model_name": "LayoutModel",
      "state": {}
     },
     "e4f5a84b2d974c609a487d9b3372339e": {
      "model_module": "@jupyter-widgets/controls",
      "model_module_version": "1.5.0",
      "model_name": "HTMLModel",
      "state": {
       "layout": "IPY_MODEL_a6507c3454ae43b4b88f3a0045239521",
       "style": "IPY_MODEL_1e5348b586bb4a84858e557a51538520",
       "value": " 329155/329155 [12:02&lt;00:00, 455.28it/s]"
      }
     },
     "e51224bd33d34fe98e403098cb15697c": {
      "model_module": "@jupyter-widgets/controls",
      "model_module_version": "1.5.0",
      "model_name": "FloatProgressModel",
      "state": {
       "bar_style": "success",
       "description": "Parsing dataset: 100%",
       "layout": "IPY_MODEL_d8654cf71ff04c4b91304885c28434b3",
       "max": 373801,
       "style": "IPY_MODEL_9568a3433f384b4981033326f98dc5bf",
       "value": 373801
      }
     },
     "e5149ad13f704764b1b24f19266d1611": {
      "model_module": "@jupyter-widgets/base",
      "model_module_version": "1.2.0",
      "model_name": "LayoutModel",
      "state": {}
     },
     "e516b37c9c95441c9e64fde8d8e56289": {
      "model_module": "@jupyter-widgets/controls",
      "model_module_version": "1.5.0",
      "model_name": "DescriptionStyleModel",
      "state": {
       "description_width": ""
      }
     },
     "e554fee0f28e4ab5b1b73640a694dd1a": {
      "model_module": "@jupyter-widgets/controls",
      "model_module_version": "1.5.0",
      "model_name": "FloatProgressModel",
      "state": {
       "bar_style": "danger",
       "description": " 17%",
       "layout": "IPY_MODEL_14efd52e96304d889d2bd950c85cea50",
       "max": 329155,
       "style": "IPY_MODEL_4d417e5b54a3497eb5b58ab6a8ab0b34",
       "value": 55135
      }
     },
     "e6a0ce778b4d41df8a3d1135c7d6126c": {
      "model_module": "@jupyter-widgets/controls",
      "model_module_version": "1.5.0",
      "model_name": "HTMLModel",
      "state": {
       "layout": "IPY_MODEL_d52caf831032439c916aa88573e22e8b",
       "style": "IPY_MODEL_aaeaad8b4b5a4dc5bfbd66d3bd29c246",
       "value": " 35259/35259 [1:34:43&lt;00:00,  6.20it/s]"
      }
     },
     "e6c35b0e54444b8bbb005a59df202df3": {
      "model_module": "@jupyter-widgets/controls",
      "model_module_version": "1.5.0",
      "model_name": "HBoxModel",
      "state": {
       "children": [
        "IPY_MODEL_314c530a8f44459a90d770bf98943d2c",
        "IPY_MODEL_c79df12fe77c47e39da112bf2854744f"
       ],
       "layout": "IPY_MODEL_5dfd72c2bf3b49e2a98ab4290652ff73"
      }
     },
     "e73057e5b62d441283676d92105ebf09": {
      "model_module": "@jupyter-widgets/controls",
      "model_module_version": "1.5.0",
      "model_name": "HBoxModel",
      "state": {
       "children": [
        "IPY_MODEL_a88c04c4f1b14b4e86a6a901b3997896",
        "IPY_MODEL_263ddf2ab88f4658b393fda7cba7f936"
       ],
       "layout": "IPY_MODEL_ba651e20d4e64107aa1567b93a5f169a"
      }
     },
     "e73398347a224224ae975d2539660daf": {
      "model_module": "@jupyter-widgets/base",
      "model_module_version": "1.2.0",
      "model_name": "LayoutModel",
      "state": {}
     },
     "e79d4c40725249879b010775cb754193": {
      "model_module": "@jupyter-widgets/controls",
      "model_module_version": "1.5.0",
      "model_name": "HBoxModel",
      "state": {
       "children": [
        "IPY_MODEL_016419ae33474fc59749b2f50bd416ae",
        "IPY_MODEL_bddd228f87d64c03b472bbf8d20ebac7"
       ],
       "layout": "IPY_MODEL_4d7aad74461b4dfb8ec6b9dfb4aa7d3c"
      }
     },
     "e82087c5bc944dd59a0bf7423ab1926c": {
      "model_module": "@jupyter-widgets/controls",
      "model_module_version": "1.5.0",
      "model_name": "HBoxModel",
      "state": {
       "children": [
        "IPY_MODEL_1df0358d488d4938b52fbd6d7d6ddbfb",
        "IPY_MODEL_427b55e76bfd4f369e4e2262a399b75c"
       ],
       "layout": "IPY_MODEL_d0482bdf8ec64eab9448a553246d1c47"
      }
     },
     "e84ae92c8e4d4b8baa1cb5f348a3943a": {
      "model_module": "@jupyter-widgets/base",
      "model_module_version": "1.2.0",
      "model_name": "LayoutModel",
      "state": {}
     },
     "e85755c3b86c41f3a0a9dfc52de624d9": {
      "model_module": "@jupyter-widgets/controls",
      "model_module_version": "1.5.0",
      "model_name": "DescriptionStyleModel",
      "state": {
       "description_width": ""
      }
     },
     "e8c87a8654c84d5aa6b5ce7b9b29c990": {
      "model_module": "@jupyter-widgets/controls",
      "model_module_version": "1.5.0",
      "model_name": "HBoxModel",
      "state": {
       "children": [
        "IPY_MODEL_b565af0875f740eeae78b5a4cdb0a358",
        "IPY_MODEL_b2605f47898c4024935386e8f4cf3c0d"
       ],
       "layout": "IPY_MODEL_7ce311f27d3f4bc2affc307ae3716968"
      }
     },
     "e8caf9c3c27c436fb07106839067c8cc": {
      "model_module": "@jupyter-widgets/base",
      "model_module_version": "1.2.0",
      "model_name": "LayoutModel",
      "state": {}
     },
     "e8d1fd78a16543e38ad73d9ddd2d0308": {
      "model_module": "@jupyter-widgets/controls",
      "model_module_version": "1.5.0",
      "model_name": "HBoxModel",
      "state": {
       "children": [
        "IPY_MODEL_20bb4a45905d4eafbe99482e959779f6",
        "IPY_MODEL_2c87b9ecc24246c3ae3046c72b6f3461"
       ],
       "layout": "IPY_MODEL_3faf030c301b41bd8e68529b403aafdd"
      }
     },
     "e9a70f2776154821ae596c1de3e17b1f": {
      "model_module": "@jupyter-widgets/controls",
      "model_module_version": "1.5.0",
      "model_name": "HTMLModel",
      "state": {
       "layout": "IPY_MODEL_ae18f061e5834fa08aaa10147f4c6b1b",
       "style": "IPY_MODEL_7db3f1a18c2d49bab3175ea0096aecff",
       "value": " 329155/329155 [20:08&lt;00:00, 272.38it/s]"
      }
     },
     "e9d4f42cbf624c90b6e4928d500f31c7": {
      "model_module": "@jupyter-widgets/base",
      "model_module_version": "1.2.0",
      "model_name": "LayoutModel",
      "state": {}
     },
     "ead2fd826e714354b5d374f92571333d": {
      "model_module": "@jupyter-widgets/controls",
      "model_module_version": "1.5.0",
      "model_name": "FloatProgressModel",
      "state": {
       "bar_style": "success",
       "description": "Reading word vectors: 100%",
       "layout": "IPY_MODEL_52f545e9cb70442aad60f86ffab81902",
       "max": 4027169,
       "style": "IPY_MODEL_892abe34f96840df8106a5ba6098a63d",
       "value": 4027169
      }
     },
     "eb0bb21392444380adc62a640ef521ca": {
      "model_module": "@jupyter-widgets/controls",
      "model_module_version": "1.5.0",
      "model_name": "HBoxModel",
      "state": {
       "children": [
        "IPY_MODEL_434e7000389d40cea787665bb8e6022c",
        "IPY_MODEL_07ba69bc631c42e5b7164277b0c00e64"
       ],
       "layout": "IPY_MODEL_d3b555d3cfdd4bddac75c54411493989"
      }
     },
     "eb64594d921147e49331234ae91d5bdf": {
      "model_module": "@jupyter-widgets/base",
      "model_module_version": "1.2.0",
      "model_name": "LayoutModel",
      "state": {}
     },
     "eb68bb51124c4bc18e750a3dc86a835f": {
      "model_module": "@jupyter-widgets/controls",
      "model_module_version": "1.5.0",
      "model_name": "HBoxModel",
      "state": {
       "children": [
        "IPY_MODEL_ba9a56a5252b46de9d35e8798436a86d",
        "IPY_MODEL_4abc9a5a6df74f31a1fbf2e9668a3243"
       ],
       "layout": "IPY_MODEL_70499bf77fa04d088564cb6e2cd25b33"
      }
     },
     "ec3668a4ed27411391b7da45b85a1174": {
      "model_module": "@jupyter-widgets/controls",
      "model_module_version": "1.5.0",
      "model_name": "ProgressStyleModel",
      "state": {
       "description_width": "initial"
      }
     },
     "ec8e7b191d2b4fe6918615d7a83075ff": {
      "model_module": "@jupyter-widgets/controls",
      "model_module_version": "1.5.0",
      "model_name": "FloatProgressModel",
      "state": {
       "bar_style": "danger",
       "description": "  5%",
       "layout": "IPY_MODEL_21dbdf0bee194110b2fa5b6c1cdcb602",
       "max": 329155,
       "style": "IPY_MODEL_a8909aeb30084ec48de19bbf04d59a16",
       "value": 16310
      }
     },
     "eca4055efdd0408fb883ef076d17cea4": {
      "model_module": "@jupyter-widgets/base",
      "model_module_version": "1.2.0",
      "model_name": "LayoutModel",
      "state": {}
     },
     "ecb07716035347849f63acdcb9a1e52f": {
      "model_module": "@jupyter-widgets/controls",
      "model_module_version": "1.5.0",
      "model_name": "DescriptionStyleModel",
      "state": {
       "description_width": ""
      }
     },
     "ed4102ba1a0a4323a5dd13f192e1ee76": {
      "model_module": "@jupyter-widgets/controls",
      "model_module_version": "1.5.0",
      "model_name": "HBoxModel",
      "state": {
       "children": [
        "IPY_MODEL_325fd351bbbd45d08e86ed898292473d",
        "IPY_MODEL_51c72b9e423a4f8fb9bcfe8542e3ffc3"
       ],
       "layout": "IPY_MODEL_04a74eb086cd4adfbe1d4eeb6081e005"
      }
     },
     "ed51a2888ea4471883539503da639806": {
      "model_module": "@jupyter-widgets/base",
      "model_module_version": "1.2.0",
      "model_name": "LayoutModel",
      "state": {}
     },
     "ed64b9394ba144c3aa8bb61a94495785": {
      "model_module": "@jupyter-widgets/base",
      "model_module_version": "1.2.0",
      "model_name": "LayoutModel",
      "state": {
       "width": "20px"
      }
     },
     "ed999c8bce5449eda195bef6e409c716": {
      "model_module": "@jupyter-widgets/controls",
      "model_module_version": "1.5.0",
      "model_name": "HBoxModel",
      "state": {
       "children": [
        "IPY_MODEL_3e55de4fbe1f4ec6ab7f9ebdc751df82",
        "IPY_MODEL_2cd02d9bcab54e17acdf99223b1417b4"
       ],
       "layout": "IPY_MODEL_79fd3d1a595d4b668b086812ede03132"
      }
     },
     "edf4a3bc346441d8b4ce186005ab94c0": {
      "model_module": "@jupyter-widgets/controls",
      "model_module_version": "1.5.0",
      "model_name": "FloatProgressModel",
      "state": {
       "bar_style": "success",
       "description": "100%",
       "layout": "IPY_MODEL_8df9443d70db4f80af24372d3dc761f5",
       "max": 329155,
       "style": "IPY_MODEL_84f380aacfe642049003360e12020fc0",
       "value": 329155
      }
     },
     "ee4ada7ca912409c84dfe4be7fe0f184": {
      "model_module": "@jupyter-widgets/controls",
      "model_module_version": "1.5.0",
      "model_name": "DescriptionStyleModel",
      "state": {
       "description_width": ""
      }
     },
     "ee78516f9b004561a0e97b890ef351ab": {
      "model_module": "@jupyter-widgets/controls",
      "model_module_version": "1.5.0",
      "model_name": "HBoxModel",
      "state": {
       "children": [
        "IPY_MODEL_8aa766d6cc4e4feba64e0ded94f09868",
        "IPY_MODEL_c108c626fe104cd99138d85cefca291c"
       ],
       "layout": "IPY_MODEL_4b4f1920441043d7b8dcebbb5a342051"
      }
     },
     "eed3fd10b4e9418a94b55577f7a8812b": {
      "model_module": "@jupyter-widgets/base",
      "model_module_version": "1.2.0",
      "model_name": "LayoutModel",
      "state": {}
     },
     "ef72dc5667274d8ca8db214237415345": {
      "model_module": "@jupyter-widgets/base",
      "model_module_version": "1.2.0",
      "model_name": "LayoutModel",
      "state": {}
     },
     "ef9d98ef53a3478f957fd048ef85e710": {
      "model_module": "@jupyter-widgets/base",
      "model_module_version": "1.2.0",
      "model_name": "LayoutModel",
      "state": {}
     },
     "efc1dfdac30a4c9e932acfcf40e62661": {
      "model_module": "@jupyter-widgets/base",
      "model_module_version": "1.2.0",
      "model_name": "LayoutModel",
      "state": {}
     },
     "efc6fcefff604358a416948035b59fcf": {
      "model_module": "@jupyter-widgets/base",
      "model_module_version": "1.2.0",
      "model_name": "LayoutModel",
      "state": {}
     },
     "f009b7c4fe5c4ff58c189de314ac7453": {
      "model_module": "@jupyter-widgets/controls",
      "model_module_version": "1.5.0",
      "model_name": "HTMLModel",
      "state": {
       "layout": "IPY_MODEL_3deb077f145e491893e6ca44fb9b19cb",
       "style": "IPY_MODEL_8420b9d965904efd8414a7e2daa375d2",
       "value": " 329155/329155 [15:54&lt;00:00, 344.78it/s]"
      }
     },
     "f00ed8bb01784261b8359f74cc21fd03": {
      "model_module": "@jupyter-widgets/controls",
      "model_module_version": "1.5.0",
      "model_name": "ProgressStyleModel",
      "state": {
       "description_width": "initial"
      }
     },
     "f044096517e042debc00fbfc7135a3e8": {
      "model_module": "@jupyter-widgets/controls",
      "model_module_version": "1.5.0",
      "model_name": "DescriptionStyleModel",
      "state": {
       "description_width": ""
      }
     },
     "f050babbe37b4cabb9130b75370fb987": {
      "model_module": "@jupyter-widgets/controls",
      "model_module_version": "1.5.0",
      "model_name": "DescriptionStyleModel",
      "state": {
       "description_width": ""
      }
     },
     "f0694ae9f5ea4b9694a1e86222c1b46b": {
      "model_module": "@jupyter-widgets/controls",
      "model_module_version": "1.5.0",
      "model_name": "DescriptionStyleModel",
      "state": {
       "description_width": ""
      }
     },
     "f06ad5f9491a40018d784e61f62888a9": {
      "model_module": "@jupyter-widgets/controls",
      "model_module_version": "1.5.0",
      "model_name": "DescriptionStyleModel",
      "state": {
       "description_width": ""
      }
     },
     "f12ee5c2b6e847289e9198c9197cf773": {
      "model_module": "@jupyter-widgets/controls",
      "model_module_version": "1.5.0",
      "model_name": "FloatProgressModel",
      "state": {
       "bar_style": "success",
       "description": "100%",
       "layout": "IPY_MODEL_689f7c2db5ce4a699bd1bad146594924",
       "max": 329155,
       "style": "IPY_MODEL_0a46580abf3249a8a21722810b08495c",
       "value": 329155
      }
     },
     "f17a8bda521947498702296c18787bae": {
      "model_module": "@jupyter-widgets/controls",
      "model_module_version": "1.5.0",
      "model_name": "HTMLModel",
      "state": {
       "layout": "IPY_MODEL_5d4f8c07d3004e6dae95eef77807a505",
       "style": "IPY_MODEL_63eb814366224920ab359eb6082750ba",
       "value": " 329155/329155 [12:10&lt;00:00, 450.61it/s]"
      }
     },
     "f1c29ae7cb9f449db70979019c9de10e": {
      "model_module": "@jupyter-widgets/base",
      "model_module_version": "1.2.0",
      "model_name": "LayoutModel",
      "state": {}
     },
     "f1dd2f436a7b4661934e445b3e809600": {
      "model_module": "@jupyter-widgets/base",
      "model_module_version": "1.2.0",
      "model_name": "LayoutModel",
      "state": {}
     },
     "f202e24cec5347d9a573b7b821d2b95a": {
      "model_module": "@jupyter-widgets/base",
      "model_module_version": "1.2.0",
      "model_name": "LayoutModel",
      "state": {}
     },
     "f208f06c2e9a4ba9b334d8ceea4e7098": {
      "model_module": "@jupyter-widgets/base",
      "model_module_version": "1.2.0",
      "model_name": "LayoutModel",
      "state": {}
     },
     "f215fd5b501e4e85b81712fcbd9eb39d": {
      "model_module": "@jupyter-widgets/base",
      "model_module_version": "1.2.0",
      "model_name": "LayoutModel",
      "state": {}
     },
     "f2728e22f8984e1093f061dba475d41c": {
      "model_module": "@jupyter-widgets/base",
      "model_module_version": "1.2.0",
      "model_name": "LayoutModel",
      "state": {}
     },
     "f2b82c900b7749fb8bca08e64f5bde8b": {
      "model_module": "@jupyter-widgets/controls",
      "model_module_version": "1.5.0",
      "model_name": "FloatProgressModel",
      "state": {
       "bar_style": "success",
       "description": "100%",
       "layout": "IPY_MODEL_901efa42437e43d7813cc6c015c3d003",
       "max": 329155,
       "style": "IPY_MODEL_2c4dc3ab1e3e4020ad78d2f9128aaf8f",
       "value": 329155
      }
     },
     "f2d2f4a259f94ec8ba04dbb53ed81c4a": {
      "model_module": "@jupyter-widgets/base",
      "model_module_version": "1.2.0",
      "model_name": "LayoutModel",
      "state": {}
     },
     "f2d36d8887db4e63833e1fa14c359f83": {
      "model_module": "@jupyter-widgets/controls",
      "model_module_version": "1.5.0",
      "model_name": "DescriptionStyleModel",
      "state": {
       "description_width": ""
      }
     },
     "f2eaf4ccaf164187b08207ab7eb521f7": {
      "model_module": "@jupyter-widgets/controls",
      "model_module_version": "1.5.0",
      "model_name": "ProgressStyleModel",
      "state": {
       "description_width": "initial"
      }
     },
     "f3116a5cb62f4b7aa352546e69cc1c4f": {
      "model_module": "@jupyter-widgets/base",
      "model_module_version": "1.2.0",
      "model_name": "LayoutModel",
      "state": {}
     },
     "f32460cdf43e4e64a9de83c306a2f5fe": {
      "model_module": "@jupyter-widgets/base",
      "model_module_version": "1.2.0",
      "model_name": "LayoutModel",
      "state": {}
     },
     "f34b9f95faac4eb6ae80ee7950570e41": {
      "model_module": "@jupyter-widgets/controls",
      "model_module_version": "1.5.0",
      "model_name": "FloatProgressModel",
      "state": {
       "bar_style": "danger",
       "layout": "IPY_MODEL_ed64b9394ba144c3aa8bb61a94495785",
       "max": 1,
       "style": "IPY_MODEL_6595a3b0588f4b09a03ff625bb49bd00",
       "value": 1
      }
     },
     "f36ad1447d2e4ff98a570b647183fcbc": {
      "model_module": "@jupyter-widgets/controls",
      "model_module_version": "1.5.0",
      "model_name": "ProgressStyleModel",
      "state": {
       "description_width": "initial"
      }
     },
     "f39682361cd040878e7b712355562fff": {
      "model_module": "@jupyter-widgets/base",
      "model_module_version": "1.2.0",
      "model_name": "LayoutModel",
      "state": {}
     },
     "f3ab267ad1d046f5bb02432514d9b1e8": {
      "model_module": "@jupyter-widgets/controls",
      "model_module_version": "1.5.0",
      "model_name": "HBoxModel",
      "state": {
       "children": [
        "IPY_MODEL_9c39c222de5145b0a1c80b978170fef8",
        "IPY_MODEL_04eaed52dc3c4f8b837090f35c390601"
       ],
       "layout": "IPY_MODEL_9f7bad3ee5884f71b537818387d9ebbf"
      }
     },
     "f3afe4cade2f406c9d3be938c724fe90": {
      "model_module": "@jupyter-widgets/controls",
      "model_module_version": "1.5.0",
      "model_name": "ProgressStyleModel",
      "state": {
       "description_width": "initial"
      }
     },
     "f4382eed1c9c4374ba96fd9c647d8126": {
      "model_module": "@jupyter-widgets/controls",
      "model_module_version": "1.5.0",
      "model_name": "HTMLModel",
      "state": {
       "layout": "IPY_MODEL_3eb5e8dff0de431888c0a0265fe23343",
       "style": "IPY_MODEL_7d40625389a74536aaac637af1fadc05",
       "value": " 1/1 [12:10&lt;00:00, 730.73s/it]"
      }
     },
     "f599067262ab4ff2b3802a0b237008fa": {
      "model_module": "@jupyter-widgets/base",
      "model_module_version": "1.2.0",
      "model_name": "LayoutModel",
      "state": {}
     },
     "f5defad343bf477695442d2f647d7f9a": {
      "model_module": "@jupyter-widgets/base",
      "model_module_version": "1.2.0",
      "model_name": "LayoutModel",
      "state": {}
     },
     "f5f4d89d9b1442fcb4cf0f0d00ebac7a": {
      "model_module": "@jupyter-widgets/controls",
      "model_module_version": "1.5.0",
      "model_name": "HTMLModel",
      "state": {
       "layout": "IPY_MODEL_7b9a045f6d0849fdbc1ff918d84030eb",
       "style": "IPY_MODEL_4f95a90d51254f63b7a34183c3a9029e",
       "value": " 373801/373801 [04:35&lt;00:00, 1356.23it/s]"
      }
     },
     "f699fe7fccf54d2f832424b6ff1fb8fc": {
      "model_module": "@jupyter-widgets/base",
      "model_module_version": "1.2.0",
      "model_name": "LayoutModel",
      "state": {}
     },
     "f6b14cfd170c4c64b34cc9390ca8674b": {
      "model_module": "@jupyter-widgets/controls",
      "model_module_version": "1.5.0",
      "model_name": "ProgressStyleModel",
      "state": {
       "description_width": "initial"
      }
     },
     "f735436bb0074ef4ba0f365a74437765": {
      "model_module": "@jupyter-widgets/base",
      "model_module_version": "1.2.0",
      "model_name": "LayoutModel",
      "state": {}
     },
     "f80aa13643ed4217b9445bfb89fb2df5": {
      "model_module": "@jupyter-widgets/controls",
      "model_module_version": "1.5.0",
      "model_name": "HTMLModel",
      "state": {
       "layout": "IPY_MODEL_79bf6a69d4264c6baf564b66d0d7c9ef",
       "style": "IPY_MODEL_27c528c48b114d2ebf525b8231779787",
       "value": " 4027169/4027169 [02:22&lt;00:00, 28271.53it/s]"
      }
     },
     "f80c53dd59c34425aec1483ed9cca6df": {
      "model_module": "@jupyter-widgets/controls",
      "model_module_version": "1.5.0",
      "model_name": "ProgressStyleModel",
      "state": {
       "description_width": "initial"
      }
     },
     "f84be7f05aea4692a88ddc30938d16ff": {
      "model_module": "@jupyter-widgets/controls",
      "model_module_version": "1.5.0",
      "model_name": "FloatProgressModel",
      "state": {
       "bar_style": "success",
       "description": "Reading word vectors: 100%",
       "layout": "IPY_MODEL_98a83d6fbdad425180cc135b648ac472",
       "max": 4027169,
       "style": "IPY_MODEL_7799ec74a93946da9efaa966da6dc070",
       "value": 4027169
      }
     },
     "f84fa1e2c2fe4cad844b6837957d23bc": {
      "model_module": "@jupyter-widgets/controls",
      "model_module_version": "1.5.0",
      "model_name": "ProgressStyleModel",
      "state": {
       "description_width": "initial"
      }
     },
     "f8bef7b8de3c41b19d7b6486ba407d61": {
      "model_module": "@jupyter-widgets/base",
      "model_module_version": "1.2.0",
      "model_name": "LayoutModel",
      "state": {}
     },
     "f8d510bc2b9f4e81aef766107257acb5": {
      "model_module": "@jupyter-widgets/base",
      "model_module_version": "1.2.0",
      "model_name": "LayoutModel",
      "state": {}
     },
     "f8ea72283dcd4ea9adea52a96e0c4ee9": {
      "model_module": "@jupyter-widgets/base",
      "model_module_version": "1.2.0",
      "model_name": "LayoutModel",
      "state": {}
     },
     "f91ab72b123c4481939cd898fd9b8bb3": {
      "model_module": "@jupyter-widgets/controls",
      "model_module_version": "1.5.0",
      "model_name": "HBoxModel",
      "state": {
       "children": [
        "IPY_MODEL_53a0c7756d114c14820b9ff397523e34",
        "IPY_MODEL_e4f5a84b2d974c609a487d9b3372339e"
       ],
       "layout": "IPY_MODEL_2c8c698fc84f4071a1ed3f60c267cde7"
      }
     },
     "f93caf67323f4ace8f7f5534f964bdc2": {
      "model_module": "@jupyter-widgets/controls",
      "model_module_version": "1.5.0",
      "model_name": "HBoxModel",
      "state": {
       "children": [
        "IPY_MODEL_8c954a1763c14cf99b9434ebf7c8df5e",
        "IPY_MODEL_f9b6e35b29e74298a04e6706b016ffee"
       ],
       "layout": "IPY_MODEL_02daaf386d914e82975d102c0ee6582a"
      }
     },
     "f96563509c744f6892845e16ac2cf158": {
      "model_module": "@jupyter-widgets/controls",
      "model_module_version": "1.5.0",
      "model_name": "DescriptionStyleModel",
      "state": {
       "description_width": ""
      }
     },
     "f9a0f88422364153ad924ba45ecd9c82": {
      "model_module": "@jupyter-widgets/base",
      "model_module_version": "1.2.0",
      "model_name": "LayoutModel",
      "state": {}
     },
     "f9b6e35b29e74298a04e6706b016ffee": {
      "model_module": "@jupyter-widgets/controls",
      "model_module_version": "1.5.0",
      "model_name": "HTMLModel",
      "state": {
       "layout": "IPY_MODEL_f8bef7b8de3c41b19d7b6486ba407d61",
       "style": "IPY_MODEL_682f483ebb0b4e6dab7665232aae1364",
       "value": " 35259/35259 [00:48&lt;00:00, 723.79it/s]"
      }
     },
     "f9d3bc3df83f4b1baf841b316990ea50": {
      "model_module": "@jupyter-widgets/base",
      "model_module_version": "1.2.0",
      "model_name": "LayoutModel",
      "state": {}
     },
     "f9d66d7647f542a687b245fe6f291045": {
      "model_module": "@jupyter-widgets/base",
      "model_module_version": "1.2.0",
      "model_name": "LayoutModel",
      "state": {}
     },
     "f9fa4e6bd29e4c1388de42c61c4788f0": {
      "model_module": "@jupyter-widgets/controls",
      "model_module_version": "1.5.0",
      "model_name": "DescriptionStyleModel",
      "state": {
       "description_width": ""
      }
     },
     "fa0c6965801149dd9368ebbc291fe8ba": {
      "model_module": "@jupyter-widgets/controls",
      "model_module_version": "1.5.0",
      "model_name": "DescriptionStyleModel",
      "state": {
       "description_width": ""
      }
     },
     "fa4e89cb74e3491e9dce7d06bd9bc2d3": {
      "model_module": "@jupyter-widgets/controls",
      "model_module_version": "1.5.0",
      "model_name": "FloatProgressModel",
      "state": {
       "bar_style": "success",
       "description": "100%",
       "layout": "IPY_MODEL_3c8ae320e9814629acd07fd831e697ce",
       "max": 329155,
       "style": "IPY_MODEL_3d3ec9a41316466ca198787d1cad4edb",
       "value": 329155
      }
     },
     "fa8d8290991a4979999d86e71f6ca078": {
      "model_module": "@jupyter-widgets/controls",
      "model_module_version": "1.5.0",
      "model_name": "FloatProgressModel",
      "state": {
       "bar_style": "success",
       "description": "100%",
       "layout": "IPY_MODEL_cffe7cb6d00e432d8254fb8669d21171",
       "max": 329155,
       "style": "IPY_MODEL_ce55029c73944accb1d36f6738c1b5b3",
       "value": 329155
      }
     },
     "faa9abd179004e95a6ea5fa9492a3748": {
      "model_module": "@jupyter-widgets/controls",
      "model_module_version": "1.5.0",
      "model_name": "FloatProgressModel",
      "state": {
       "bar_style": "success",
       "description": "100%",
       "layout": "IPY_MODEL_c5adc856a460466eb9d5ea2193a13ec8",
       "max": 329155,
       "style": "IPY_MODEL_5c50d8d964ff4bb7903d5a22d6bc81d1",
       "value": 329155
      }
     },
     "fabab0799dde4b1c94a262156fde27ff": {
      "model_module": "@jupyter-widgets/controls",
      "model_module_version": "1.5.0",
      "model_name": "HTMLModel",
      "state": {
       "layout": "IPY_MODEL_591e35c5d4b94508a4ab7da7409831d9",
       "style": "IPY_MODEL_d21715764d2d42d6b40b05e3ea1979ae",
       "value": " 55135/329155 [26:21&lt;2:11:01, 34.86it/s]"
      }
     },
     "fb6078891d684d06a1812d3bf00ba5f7": {
      "model_module": "@jupyter-widgets/controls",
      "model_module_version": "1.5.0",
      "model_name": "HBoxModel",
      "state": {
       "children": [
        "IPY_MODEL_d4cc58a85b4a4ddcaf9e457e149a76ee",
        "IPY_MODEL_26280a698ac04e45ba711f7cdd04af71"
       ],
       "layout": "IPY_MODEL_cc80395d2d704dd88a8de99b7a758e39"
      }
     },
     "fba1c6f599444a5cab646cdfaa7a7a14": {
      "model_module": "@jupyter-widgets/controls",
      "model_module_version": "1.5.0",
      "model_name": "DescriptionStyleModel",
      "state": {
       "description_width": ""
      }
     },
     "fbe8007bd0734fbc8ecc60d12a64a48b": {
      "model_module": "@jupyter-widgets/controls",
      "model_module_version": "1.5.0",
      "model_name": "FloatProgressModel",
      "state": {
       "bar_style": "success",
       "description": "Parsing dataset: 100%",
       "layout": "IPY_MODEL_4078828554dc4d9fb7859d38c2a19ee0",
       "max": 373801,
       "style": "IPY_MODEL_0472e491f3f548cab9558e761b69023f",
       "value": 373801
      }
     },
     "fc8dd170c65c469391ed174bc830e888": {
      "model_module": "@jupyter-widgets/controls",
      "model_module_version": "1.5.0",
      "model_name": "ProgressStyleModel",
      "state": {
       "description_width": "initial"
      }
     },
     "fcf78df19fd44ba780bc34b31f57a71f": {
      "model_module": "@jupyter-widgets/controls",
      "model_module_version": "1.5.0",
      "model_name": "DescriptionStyleModel",
      "state": {
       "description_width": ""
      }
     },
     "fd4a62eacddd4781acaaa5d6430ffe89": {
      "model_module": "@jupyter-widgets/controls",
      "model_module_version": "1.5.0",
      "model_name": "ProgressStyleModel",
      "state": {
       "description_width": "initial"
      }
     },
     "fe0993172bd342258c96384a283f73e6": {
      "model_module": "@jupyter-widgets/controls",
      "model_module_version": "1.5.0",
      "model_name": "DescriptionStyleModel",
      "state": {
       "description_width": ""
      }
     },
     "ffb980777baa446682c594a4ac154928": {
      "model_module": "@jupyter-widgets/controls",
      "model_module_version": "1.5.0",
      "model_name": "HBoxModel",
      "state": {
       "children": [
        "IPY_MODEL_795edd9d4f314a2c9b07ac45d03434fa",
        "IPY_MODEL_32e6386e78b94c92a61b0e8729c2bc3f"
       ],
       "layout": "IPY_MODEL_6ff2e6b1d32e47a1858dde5e27675311"
      }
     },
     "ffe3d8bd418f457b879765862b0f724a": {
      "model_module": "@jupyter-widgets/controls",
      "model_module_version": "1.5.0",
      "model_name": "ProgressStyleModel",
      "state": {
       "description_width": "initial"
      }
     }
    },
    "version_major": 2,
    "version_minor": 0
   }
  }
 },
 "nbformat": 4,
 "nbformat_minor": 5
}
