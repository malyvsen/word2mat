{
 "cells": [
  {
   "cell_type": "code",
   "execution_count": 17,
   "metadata": {},
   "outputs": [],
   "source": [
    "import random\n",
    "import functools\n",
    "import torch\n",
    "import numpy as np\n",
    "from tqdm.notebook import tqdm\n",
    "import tokipona"
   ]
  },
  {
   "cell_type": "code",
   "execution_count": 2,
   "metadata": {},
   "outputs": [],
   "source": [
    "matrix_dim = 4"
   ]
  },
  {
   "cell_type": "code",
   "execution_count": 11,
   "metadata": {},
   "outputs": [
    {
     "data": {
      "text/plain": [
       "tensor([[-0.0709, -0.1434,  0.2032, -0.4688],\n",
       "        [-0.2984,  0.1893, -0.6281, -0.2120],\n",
       "        [ 0.2926,  0.2004,  1.2422, -0.0553],\n",
       "        [-0.0883, -0.3999,  0.0537, -0.3995]])"
      ]
     },
     "execution_count": 11,
     "metadata": {},
     "output_type": "execute_result"
    }
   ],
   "source": [
    "matrices = {\n",
    "    form: torch.normal(mean=0, std=1 / np.sqrt(matrix_dim), size=(matrix_dim, matrix_dim))\n",
    "    for form in tokipona.word_forms\n",
    "}\n",
    "matrices['ala']"
   ]
  },
  {
   "cell_type": "code",
   "execution_count": 19,
   "metadata": {},
   "outputs": [
    {
     "data": {
      "text/plain": [
       "['jan', 'li', 'utala', 'waso', 'jan']"
      ]
     },
     "execution_count": 19,
     "metadata": {},
     "output_type": "execute_result"
    }
   ],
   "source": [
    "def modify_phrase(phrase):\n",
    "    word_to_switch = random.randrange(len(phrase))\n",
    "    result = phrase.copy()\n",
    "    result[word_to_switch] = random.choice(tokipona.word_forms)\n",
    "    return result\n",
    "\n",
    "modify_sentence(tokipona.text[0])"
   ]
  },
  {
   "cell_type": "code",
   "execution_count": 21,
   "metadata": {},
   "outputs": [
    {
     "data": {
      "text/plain": [
       "tensor([[ 0.2259,  0.1935,  0.5718,  0.6415],\n",
       "        [-0.0466, -0.1171, -0.2136, -0.2503],\n",
       "        [-0.0828,  0.2063,  0.1071,  0.2701],\n",
       "        [ 0.0888,  0.1788,  0.3348,  0.4634]])"
      ]
     },
     "execution_count": 21,
     "metadata": {},
     "output_type": "execute_result"
    }
   ],
   "source": [
    "def aggregate_phrase(phrase):\n",
    "    sentence_matrices = [matrices[word] for word in phrase]\n",
    "    return functools.reduce(torch.matmul, sentence_matrices)\n",
    "\n",
    "aggregate_phrase(tokipona.text[0])"
   ]
  },
  {
   "cell_type": "code",
   "execution_count": 26,
   "metadata": {},
   "outputs": [
    {
     "data": {
      "text/plain": [
       "tensor(0.3629)"
      ]
     },
     "execution_count": 26,
     "metadata": {},
     "output_type": "execute_result"
    }
   ],
   "source": [
    "def matrix_score(matrix):\n",
    "    return torch.sum(matrix ** 2) / matrix_dim\n",
    "\n",
    "def phrase_score(phrase):\n",
    "    return matrix_score(aggregate_phrase(phrase))\n",
    "\n",
    "phrase_score(tokipona.text[0])"
   ]
  },
  {
   "cell_type": "code",
   "execution_count": null,
   "metadata": {},
   "outputs": [],
   "source": [
    "for epoch in range(4):\n",
    "    for sentence in tqdm(tokipona.text):\n",
    "        pass # TODO: actual training"
   ]
  }
 ],
 "metadata": {
  "kernelspec": {
   "display_name": "Python 3",
   "language": "python",
   "name": "python3"
  },
  "language_info": {
   "codemirror_mode": {
    "name": "ipython",
    "version": 3
   },
   "file_extension": ".py",
   "mimetype": "text/x-python",
   "name": "python",
   "nbconvert_exporter": "python",
   "pygments_lexer": "ipython3",
   "version": "3.8.5"
  }
 },
 "nbformat": 4,
 "nbformat_minor": 2
}
